{
 "cells": [
  {
   "cell_type": "markdown",
   "metadata": {},
   "source": [
    "# Facebook Recruiting IV: Human or Robot?"
   ]
  },
  {
   "cell_type": "markdown",
   "metadata": {},
   "source": [
    "# Upload datasets and Import Libraries"
   ]
  },
  {
   "cell_type": "code",
   "execution_count": 61,
   "metadata": {},
   "outputs": [],
   "source": [
    "import plotly.express as px\n",
    "import numpy as np\n",
    "import pandas as pd\n",
    "import statistics\n",
    "\n",
    "\n",
    "# Machine Learning\n",
    "from sklearn.linear_model import LogisticRegression\n",
    "from sklearn.tree import DecisionTreeClassifier\n",
    "from sklearn.ensemble import RandomForestClassifier\n",
    "from sklearn import metrics\n",
    "from sklearn.metrics import roc_curve, auc\n",
    "from sklearn.datasets import make_classification\n",
    "from sklearn import model_selection\n",
    "from sklearn.model_selection import train_test_split\n",
    "import xgboost as xgb"
   ]
  },
  {
   "cell_type": "code",
   "execution_count": 2,
   "metadata": {},
   "outputs": [],
   "source": [
    "train = pd.read_csv('data/train.csv')\n",
    "test = pd.read_csv('data/test.csv')\n",
    "bids = pd.read_csv('data/bids.csv') "
   ]
  },
  {
   "cell_type": "markdown",
   "metadata": {},
   "source": [
    "# Testing out data"
   ]
  },
  {
   "cell_type": "code",
   "execution_count": 3,
   "metadata": {
    "scrolled": true
   },
   "outputs": [
    {
     "name": "stdout",
     "output_type": "stream",
     "text": [
      "(2013, 4)\n",
      "(4700, 3)\n",
      "(7656334, 9)\n"
     ]
    }
   ],
   "source": [
    "print(train.shape)\n",
    "print(test.shape)\n",
    "print(bids.shape)"
   ]
  },
  {
   "cell_type": "code",
   "execution_count": 4,
   "metadata": {
    "scrolled": false
   },
   "outputs": [
    {
     "data": {
      "text/html": [
       "<div>\n",
       "<style scoped>\n",
       "    .dataframe tbody tr th:only-of-type {\n",
       "        vertical-align: middle;\n",
       "    }\n",
       "\n",
       "    .dataframe tbody tr th {\n",
       "        vertical-align: top;\n",
       "    }\n",
       "\n",
       "    .dataframe thead th {\n",
       "        text-align: right;\n",
       "    }\n",
       "</style>\n",
       "<table border=\"1\" class=\"dataframe\">\n",
       "  <thead>\n",
       "    <tr style=\"text-align: right;\">\n",
       "      <th></th>\n",
       "      <th>bidder_id</th>\n",
       "      <th>payment_account</th>\n",
       "      <th>address</th>\n",
       "      <th>outcome</th>\n",
       "    </tr>\n",
       "  </thead>\n",
       "  <tbody>\n",
       "    <tr>\n",
       "      <th>0</th>\n",
       "      <td>91a3c57b13234af24875c56fb7e2b2f4rb56a</td>\n",
       "      <td>a3d2de7675556553a5f08e4c88d2c228754av</td>\n",
       "      <td>a3d2de7675556553a5f08e4c88d2c228vt0u4</td>\n",
       "      <td>0.0</td>\n",
       "    </tr>\n",
       "    <tr>\n",
       "      <th>1</th>\n",
       "      <td>624f258b49e77713fc34034560f93fb3hu3jo</td>\n",
       "      <td>a3d2de7675556553a5f08e4c88d2c228v1sga</td>\n",
       "      <td>ae87054e5a97a8f840a3991d12611fdcrfbq3</td>\n",
       "      <td>0.0</td>\n",
       "    </tr>\n",
       "    <tr>\n",
       "      <th>2</th>\n",
       "      <td>1c5f4fc669099bfbfac515cd26997bd12ruaj</td>\n",
       "      <td>a3d2de7675556553a5f08e4c88d2c2280cybl</td>\n",
       "      <td>92520288b50f03907041887884ba49c0cl0pd</td>\n",
       "      <td>0.0</td>\n",
       "    </tr>\n",
       "    <tr>\n",
       "      <th>3</th>\n",
       "      <td>4bee9aba2abda51bf43d639013d6efe12iycd</td>\n",
       "      <td>51d80e233f7b6a7dfdee484a3c120f3b2ita8</td>\n",
       "      <td>4cb9717c8ad7e88a9a284989dd79b98dbevyi</td>\n",
       "      <td>0.0</td>\n",
       "    </tr>\n",
       "    <tr>\n",
       "      <th>4</th>\n",
       "      <td>4ab12bc61c82ddd9c2d65e60555808acqgos1</td>\n",
       "      <td>a3d2de7675556553a5f08e4c88d2c22857ddh</td>\n",
       "      <td>2a96c3ce94b3be921e0296097b88b56a7x1ji</td>\n",
       "      <td>0.0</td>\n",
       "    </tr>\n",
       "  </tbody>\n",
       "</table>\n",
       "</div>"
      ],
      "text/plain": [
       "                               bidder_id  \\\n",
       "0  91a3c57b13234af24875c56fb7e2b2f4rb56a   \n",
       "1  624f258b49e77713fc34034560f93fb3hu3jo   \n",
       "2  1c5f4fc669099bfbfac515cd26997bd12ruaj   \n",
       "3  4bee9aba2abda51bf43d639013d6efe12iycd   \n",
       "4  4ab12bc61c82ddd9c2d65e60555808acqgos1   \n",
       "\n",
       "                         payment_account  \\\n",
       "0  a3d2de7675556553a5f08e4c88d2c228754av   \n",
       "1  a3d2de7675556553a5f08e4c88d2c228v1sga   \n",
       "2  a3d2de7675556553a5f08e4c88d2c2280cybl   \n",
       "3  51d80e233f7b6a7dfdee484a3c120f3b2ita8   \n",
       "4  a3d2de7675556553a5f08e4c88d2c22857ddh   \n",
       "\n",
       "                                 address  outcome  \n",
       "0  a3d2de7675556553a5f08e4c88d2c228vt0u4      0.0  \n",
       "1  ae87054e5a97a8f840a3991d12611fdcrfbq3      0.0  \n",
       "2  92520288b50f03907041887884ba49c0cl0pd      0.0  \n",
       "3  4cb9717c8ad7e88a9a284989dd79b98dbevyi      0.0  \n",
       "4  2a96c3ce94b3be921e0296097b88b56a7x1ji      0.0  "
      ]
     },
     "execution_count": 4,
     "metadata": {},
     "output_type": "execute_result"
    }
   ],
   "source": [
    "train.head()"
   ]
  },
  {
   "cell_type": "code",
   "execution_count": 5,
   "metadata": {
    "scrolled": true
   },
   "outputs": [
    {
     "data": {
      "text/html": [
       "<div>\n",
       "<style scoped>\n",
       "    .dataframe tbody tr th:only-of-type {\n",
       "        vertical-align: middle;\n",
       "    }\n",
       "\n",
       "    .dataframe tbody tr th {\n",
       "        vertical-align: top;\n",
       "    }\n",
       "\n",
       "    .dataframe thead th {\n",
       "        text-align: right;\n",
       "    }\n",
       "</style>\n",
       "<table border=\"1\" class=\"dataframe\">\n",
       "  <thead>\n",
       "    <tr style=\"text-align: right;\">\n",
       "      <th></th>\n",
       "      <th>bidder_id</th>\n",
       "      <th>payment_account</th>\n",
       "      <th>address</th>\n",
       "    </tr>\n",
       "  </thead>\n",
       "  <tbody>\n",
       "    <tr>\n",
       "      <th>0</th>\n",
       "      <td>49bb5a3c944b8fc337981cc7a9ccae41u31d7</td>\n",
       "      <td>a3d2de7675556553a5f08e4c88d2c228htx90</td>\n",
       "      <td>5d9fa1b71f992e7c7a106ce4b07a0a754le7c</td>\n",
       "    </tr>\n",
       "    <tr>\n",
       "      <th>1</th>\n",
       "      <td>a921612b85a1494456e74c09393ccb65ylp4y</td>\n",
       "      <td>a3d2de7675556553a5f08e4c88d2c228rs17i</td>\n",
       "      <td>a3d2de7675556553a5f08e4c88d2c228klidn</td>\n",
       "    </tr>\n",
       "    <tr>\n",
       "      <th>2</th>\n",
       "      <td>6b601e72a4d264dab9ace9d7b229b47479v6i</td>\n",
       "      <td>925381cce086b8cc9594eee1c77edf665zjpl</td>\n",
       "      <td>a3d2de7675556553a5f08e4c88d2c228aght0</td>\n",
       "    </tr>\n",
       "    <tr>\n",
       "      <th>3</th>\n",
       "      <td>eaf0ed0afc9689779417274b4791726cn5udi</td>\n",
       "      <td>a3d2de7675556553a5f08e4c88d2c228nclv5</td>\n",
       "      <td>b5714de1fd69d4a0d2e39d59e53fe9e15vwat</td>\n",
       "    </tr>\n",
       "    <tr>\n",
       "      <th>4</th>\n",
       "      <td>cdecd8d02ed8c6037e38042c7745f688mx5sf</td>\n",
       "      <td>a3d2de7675556553a5f08e4c88d2c228dtdkd</td>\n",
       "      <td>c3b363a3c3b838d58c85acf0fc9964cb4pnfa</td>\n",
       "    </tr>\n",
       "  </tbody>\n",
       "</table>\n",
       "</div>"
      ],
      "text/plain": [
       "                               bidder_id  \\\n",
       "0  49bb5a3c944b8fc337981cc7a9ccae41u31d7   \n",
       "1  a921612b85a1494456e74c09393ccb65ylp4y   \n",
       "2  6b601e72a4d264dab9ace9d7b229b47479v6i   \n",
       "3  eaf0ed0afc9689779417274b4791726cn5udi   \n",
       "4  cdecd8d02ed8c6037e38042c7745f688mx5sf   \n",
       "\n",
       "                         payment_account  \\\n",
       "0  a3d2de7675556553a5f08e4c88d2c228htx90   \n",
       "1  a3d2de7675556553a5f08e4c88d2c228rs17i   \n",
       "2  925381cce086b8cc9594eee1c77edf665zjpl   \n",
       "3  a3d2de7675556553a5f08e4c88d2c228nclv5   \n",
       "4  a3d2de7675556553a5f08e4c88d2c228dtdkd   \n",
       "\n",
       "                                 address  \n",
       "0  5d9fa1b71f992e7c7a106ce4b07a0a754le7c  \n",
       "1  a3d2de7675556553a5f08e4c88d2c228klidn  \n",
       "2  a3d2de7675556553a5f08e4c88d2c228aght0  \n",
       "3  b5714de1fd69d4a0d2e39d59e53fe9e15vwat  \n",
       "4  c3b363a3c3b838d58c85acf0fc9964cb4pnfa  "
      ]
     },
     "execution_count": 5,
     "metadata": {},
     "output_type": "execute_result"
    }
   ],
   "source": [
    "test.head()"
   ]
  },
  {
   "cell_type": "code",
   "execution_count": 6,
   "metadata": {
    "scrolled": true
   },
   "outputs": [
    {
     "data": {
      "text/html": [
       "<div>\n",
       "<style scoped>\n",
       "    .dataframe tbody tr th:only-of-type {\n",
       "        vertical-align: middle;\n",
       "    }\n",
       "\n",
       "    .dataframe tbody tr th {\n",
       "        vertical-align: top;\n",
       "    }\n",
       "\n",
       "    .dataframe thead th {\n",
       "        text-align: right;\n",
       "    }\n",
       "</style>\n",
       "<table border=\"1\" class=\"dataframe\">\n",
       "  <thead>\n",
       "    <tr style=\"text-align: right;\">\n",
       "      <th></th>\n",
       "      <th>bid_id</th>\n",
       "      <th>bidder_id</th>\n",
       "      <th>auction</th>\n",
       "      <th>merchandise</th>\n",
       "      <th>device</th>\n",
       "      <th>time</th>\n",
       "      <th>country</th>\n",
       "      <th>ip</th>\n",
       "      <th>url</th>\n",
       "    </tr>\n",
       "  </thead>\n",
       "  <tbody>\n",
       "    <tr>\n",
       "      <th>0</th>\n",
       "      <td>0</td>\n",
       "      <td>8dac2b259fd1c6d1120e519fb1ac14fbqvax8</td>\n",
       "      <td>ewmzr</td>\n",
       "      <td>jewelry</td>\n",
       "      <td>phone0</td>\n",
       "      <td>9759243157894736</td>\n",
       "      <td>us</td>\n",
       "      <td>69.166.231.58</td>\n",
       "      <td>vasstdc27m7nks3</td>\n",
       "    </tr>\n",
       "    <tr>\n",
       "      <th>1</th>\n",
       "      <td>1</td>\n",
       "      <td>668d393e858e8126275433046bbd35c6tywop</td>\n",
       "      <td>aeqok</td>\n",
       "      <td>furniture</td>\n",
       "      <td>phone1</td>\n",
       "      <td>9759243157894736</td>\n",
       "      <td>in</td>\n",
       "      <td>50.201.125.84</td>\n",
       "      <td>jmqlhflrzwuay9c</td>\n",
       "    </tr>\n",
       "    <tr>\n",
       "      <th>2</th>\n",
       "      <td>2</td>\n",
       "      <td>aa5f360084278b35d746fa6af3a7a1a5ra3xe</td>\n",
       "      <td>wa00e</td>\n",
       "      <td>home goods</td>\n",
       "      <td>phone2</td>\n",
       "      <td>9759243157894736</td>\n",
       "      <td>py</td>\n",
       "      <td>112.54.208.157</td>\n",
       "      <td>vasstdc27m7nks3</td>\n",
       "    </tr>\n",
       "    <tr>\n",
       "      <th>3</th>\n",
       "      <td>3</td>\n",
       "      <td>3939ac3ef7d472a59a9c5f893dd3e39fh9ofi</td>\n",
       "      <td>jefix</td>\n",
       "      <td>jewelry</td>\n",
       "      <td>phone4</td>\n",
       "      <td>9759243157894736</td>\n",
       "      <td>in</td>\n",
       "      <td>18.99.175.133</td>\n",
       "      <td>vasstdc27m7nks3</td>\n",
       "    </tr>\n",
       "    <tr>\n",
       "      <th>4</th>\n",
       "      <td>4</td>\n",
       "      <td>8393c48eaf4b8fa96886edc7cf27b372dsibi</td>\n",
       "      <td>jefix</td>\n",
       "      <td>jewelry</td>\n",
       "      <td>phone5</td>\n",
       "      <td>9759243157894736</td>\n",
       "      <td>in</td>\n",
       "      <td>145.138.5.37</td>\n",
       "      <td>vasstdc27m7nks3</td>\n",
       "    </tr>\n",
       "    <tr>\n",
       "      <th>5</th>\n",
       "      <td>5</td>\n",
       "      <td>e8291466de91b0eb4e1515143c7f74dexy2yr</td>\n",
       "      <td>3vi4t</td>\n",
       "      <td>mobile</td>\n",
       "      <td>phone7</td>\n",
       "      <td>9759243157894736</td>\n",
       "      <td>ru</td>\n",
       "      <td>91.107.221.27</td>\n",
       "      <td>vasstdc27m7nks3</td>\n",
       "    </tr>\n",
       "    <tr>\n",
       "      <th>6</th>\n",
       "      <td>6</td>\n",
       "      <td>eef4c687daf977f64fc1d08675c44444raj3s</td>\n",
       "      <td>kjlzx</td>\n",
       "      <td>mobile</td>\n",
       "      <td>phone2</td>\n",
       "      <td>9759243210526315</td>\n",
       "      <td>th</td>\n",
       "      <td>152.235.155.159</td>\n",
       "      <td>j9nl1xmo6fqhcc6</td>\n",
       "    </tr>\n",
       "    <tr>\n",
       "      <th>7</th>\n",
       "      <td>7</td>\n",
       "      <td>ab056855c9ca9d36390feae1fa485883issyg</td>\n",
       "      <td>f5f6k</td>\n",
       "      <td>home goods</td>\n",
       "      <td>phone8</td>\n",
       "      <td>9759243210526315</td>\n",
       "      <td>id</td>\n",
       "      <td>3.210.112.183</td>\n",
       "      <td>hnt6hu93a3z1cpc</td>\n",
       "    </tr>\n",
       "    <tr>\n",
       "      <th>8</th>\n",
       "      <td>8</td>\n",
       "      <td>d600dc03b11e7d782e1e4dae091b084a1h5ch</td>\n",
       "      <td>h7jjx</td>\n",
       "      <td>home goods</td>\n",
       "      <td>phone9</td>\n",
       "      <td>9759243210526315</td>\n",
       "      <td>th</td>\n",
       "      <td>103.64.157.225</td>\n",
       "      <td>vasstdc27m7nks3</td>\n",
       "    </tr>\n",
       "    <tr>\n",
       "      <th>9</th>\n",
       "      <td>9</td>\n",
       "      <td>a58ace8b671a7531c88814bc86b2a34cf0crb</td>\n",
       "      <td>3zpkj</td>\n",
       "      <td>sporting goods</td>\n",
       "      <td>phone4</td>\n",
       "      <td>9759243210526315</td>\n",
       "      <td>za</td>\n",
       "      <td>123.28.123.226</td>\n",
       "      <td>vasstdc27m7nks3</td>\n",
       "    </tr>\n",
       "    <tr>\n",
       "      <th>10</th>\n",
       "      <td>10</td>\n",
       "      <td>a58ace8b671a7531c88814bc86b2a34cf0crb</td>\n",
       "      <td>z6j8b</td>\n",
       "      <td>sporting goods</td>\n",
       "      <td>phone10</td>\n",
       "      <td>9759243210526315</td>\n",
       "      <td>ng</td>\n",
       "      <td>209.80.85.101</td>\n",
       "      <td>adgjz71s3p2oiau</td>\n",
       "    </tr>\n",
       "    <tr>\n",
       "      <th>11</th>\n",
       "      <td>11</td>\n",
       "      <td>fe37b8b29d26021ea9462bcc7c5bf5c2pbya7</td>\n",
       "      <td>jefix</td>\n",
       "      <td>jewelry</td>\n",
       "      <td>phone11</td>\n",
       "      <td>9759243210526315</td>\n",
       "      <td>sd</td>\n",
       "      <td>249.145.124.218</td>\n",
       "      <td>9qikt9049fyukcd</td>\n",
       "    </tr>\n",
       "    <tr>\n",
       "      <th>12</th>\n",
       "      <td>12</td>\n",
       "      <td>990db0dcdb665fb8fda5845b3e5d63082mbqq</td>\n",
       "      <td>jefix</td>\n",
       "      <td>home goods</td>\n",
       "      <td>phone12</td>\n",
       "      <td>9759243263157894</td>\n",
       "      <td>in</td>\n",
       "      <td>200.212.4.79</td>\n",
       "      <td>f07dfiidpjifv9w</td>\n",
       "    </tr>\n",
       "    <tr>\n",
       "      <th>13</th>\n",
       "      <td>13</td>\n",
       "      <td>7e34a26c4c339e875997f4b9239d2b5fscng4</td>\n",
       "      <td>nbx39</td>\n",
       "      <td>mobile</td>\n",
       "      <td>phone13</td>\n",
       "      <td>9759243263157894</td>\n",
       "      <td>in</td>\n",
       "      <td>143.183.225.33</td>\n",
       "      <td>e5i17pk9wygxewv</td>\n",
       "    </tr>\n",
       "    <tr>\n",
       "      <th>14</th>\n",
       "      <td>14</td>\n",
       "      <td>8dac2b259fd1c6d1120e519fb1ac14fbqvax8</td>\n",
       "      <td>wberf</td>\n",
       "      <td>jewelry</td>\n",
       "      <td>phone15</td>\n",
       "      <td>9759243263157894</td>\n",
       "      <td>au</td>\n",
       "      <td>134.243.148.253</td>\n",
       "      <td>vasstdc27m7nks3</td>\n",
       "    </tr>\n",
       "    <tr>\n",
       "      <th>15</th>\n",
       "      <td>15</td>\n",
       "      <td>6c8ffec692e88d81e1b18d47818abb04v6llr</td>\n",
       "      <td>3pt0o</td>\n",
       "      <td>home goods</td>\n",
       "      <td>phone3</td>\n",
       "      <td>9759243263157894</td>\n",
       "      <td>id</td>\n",
       "      <td>220.216.170.202</td>\n",
       "      <td>l2585vww95sbk1c</td>\n",
       "    </tr>\n",
       "    <tr>\n",
       "      <th>16</th>\n",
       "      <td>16</td>\n",
       "      <td>1a9c554b044c77239b63636008d353d4vy9kh</td>\n",
       "      <td>xk5nb</td>\n",
       "      <td>mobile</td>\n",
       "      <td>phone16</td>\n",
       "      <td>9759243263157894</td>\n",
       "      <td>in</td>\n",
       "      <td>130.252.241.92</td>\n",
       "      <td>z0xsd05zh5z8j7l</td>\n",
       "    </tr>\n",
       "    <tr>\n",
       "      <th>17</th>\n",
       "      <td>17</td>\n",
       "      <td>ffbc0fdfbf19a8a9116b68714138f2902cc13</td>\n",
       "      <td>nbx39</td>\n",
       "      <td>mobile</td>\n",
       "      <td>phone17</td>\n",
       "      <td>9759243263157894</td>\n",
       "      <td>in</td>\n",
       "      <td>254.230.31.160</td>\n",
       "      <td>qlbvjmkspxawtn1</td>\n",
       "    </tr>\n",
       "    <tr>\n",
       "      <th>18</th>\n",
       "      <td>18</td>\n",
       "      <td>c4856fd5abe8f6d6dea36ca2fec444faauos8</td>\n",
       "      <td>2hkjh</td>\n",
       "      <td>jewelry</td>\n",
       "      <td>phone18</td>\n",
       "      <td>9759243263157894</td>\n",
       "      <td>us</td>\n",
       "      <td>161.0.93.123</td>\n",
       "      <td>9vr179ujwjgoxt3</td>\n",
       "    </tr>\n",
       "    <tr>\n",
       "      <th>19</th>\n",
       "      <td>19</td>\n",
       "      <td>37bf6f23b628a3e2b5b22ba81beccbef0efoh</td>\n",
       "      <td>qtmwx</td>\n",
       "      <td>jewelry</td>\n",
       "      <td>phone16</td>\n",
       "      <td>9759243263157894</td>\n",
       "      <td>in</td>\n",
       "      <td>67.52.51.193</td>\n",
       "      <td>r1pn2yun70umqqk</td>\n",
       "    </tr>\n",
       "    <tr>\n",
       "      <th>20</th>\n",
       "      <td>20</td>\n",
       "      <td>af9c96944265cf541b3fe734a057821a825l7</td>\n",
       "      <td>jtxiv</td>\n",
       "      <td>office equipment</td>\n",
       "      <td>phone19</td>\n",
       "      <td>9759243263157894</td>\n",
       "      <td>hr</td>\n",
       "      <td>144.100.75.92</td>\n",
       "      <td>vasstdc27m7nks3</td>\n",
       "    </tr>\n",
       "    <tr>\n",
       "      <th>21</th>\n",
       "      <td>21</td>\n",
       "      <td>d174177146370aacbd5ae107b6be78828tx3e</td>\n",
       "      <td>ksqse</td>\n",
       "      <td>home goods</td>\n",
       "      <td>phone2</td>\n",
       "      <td>9759243263157894</td>\n",
       "      <td>in</td>\n",
       "      <td>249.27.204.83</td>\n",
       "      <td>vasstdc27m7nks3</td>\n",
       "    </tr>\n",
       "    <tr>\n",
       "      <th>22</th>\n",
       "      <td>22</td>\n",
       "      <td>6b09f3376045ebad1504abe3b05c9c943aezq</td>\n",
       "      <td>ctfha</td>\n",
       "      <td>jewelry</td>\n",
       "      <td>phone5</td>\n",
       "      <td>9759243263157894</td>\n",
       "      <td>np</td>\n",
       "      <td>20.126.72.67</td>\n",
       "      <td>vasstdc27m7nks3</td>\n",
       "    </tr>\n",
       "    <tr>\n",
       "      <th>23</th>\n",
       "      <td>23</td>\n",
       "      <td>6c8ffec692e88d81e1b18d47818abb04v6llr</td>\n",
       "      <td>2yowp</td>\n",
       "      <td>home goods</td>\n",
       "      <td>phone20</td>\n",
       "      <td>9759243263157894</td>\n",
       "      <td>iq</td>\n",
       "      <td>140.231.164.76</td>\n",
       "      <td>s29w055z2b9jsyt</td>\n",
       "    </tr>\n",
       "    <tr>\n",
       "      <th>24</th>\n",
       "      <td>24</td>\n",
       "      <td>d47110cdd3eeb1ec25659f4285730e0a28ofd</td>\n",
       "      <td>7msk4</td>\n",
       "      <td>jewelry</td>\n",
       "      <td>phone21</td>\n",
       "      <td>9759243315789473</td>\n",
       "      <td>id</td>\n",
       "      <td>65.42.174.33</td>\n",
       "      <td>uzh1u393rqmc1ox</td>\n",
       "    </tr>\n",
       "    <tr>\n",
       "      <th>25</th>\n",
       "      <td>25</td>\n",
       "      <td>668d393e858e8126275433046bbd35c6tywop</td>\n",
       "      <td>38v0a</td>\n",
       "      <td>furniture</td>\n",
       "      <td>phone4</td>\n",
       "      <td>9759243315789473</td>\n",
       "      <td>bd</td>\n",
       "      <td>147.64.206.30</td>\n",
       "      <td>vasstdc27m7nks3</td>\n",
       "    </tr>\n",
       "    <tr>\n",
       "      <th>26</th>\n",
       "      <td>26</td>\n",
       "      <td>c709b6c05ebd88124fe639a70103c8aerho8s</td>\n",
       "      <td>46i7t</td>\n",
       "      <td>home goods</td>\n",
       "      <td>phone23</td>\n",
       "      <td>9759243315789473</td>\n",
       "      <td>tr</td>\n",
       "      <td>214.175.246.198</td>\n",
       "      <td>vasstdc27m7nks3</td>\n",
       "    </tr>\n",
       "    <tr>\n",
       "      <th>27</th>\n",
       "      <td>27</td>\n",
       "      <td>aa5f360084278b35d746fa6af3a7a1a5ra3xe</td>\n",
       "      <td>88xe3</td>\n",
       "      <td>home goods</td>\n",
       "      <td>phone24</td>\n",
       "      <td>9759243315789473</td>\n",
       "      <td>ch</td>\n",
       "      <td>144.203.164.7</td>\n",
       "      <td>526pa711hpwgwta</td>\n",
       "    </tr>\n",
       "    <tr>\n",
       "      <th>28</th>\n",
       "      <td>28</td>\n",
       "      <td>a58ace8b671a7531c88814bc86b2a34cf0crb</td>\n",
       "      <td>74uth</td>\n",
       "      <td>sporting goods</td>\n",
       "      <td>phone25</td>\n",
       "      <td>9759243315789473</td>\n",
       "      <td>ke</td>\n",
       "      <td>243.125.22.173</td>\n",
       "      <td>co51dtt0pyag991</td>\n",
       "    </tr>\n",
       "    <tr>\n",
       "      <th>29</th>\n",
       "      <td>29</td>\n",
       "      <td>0dea01e325acccb9d2e7cdbf0150619c6aycy</td>\n",
       "      <td>hf2fe</td>\n",
       "      <td>jewelry</td>\n",
       "      <td>phone26</td>\n",
       "      <td>9759243315789473</td>\n",
       "      <td>th</td>\n",
       "      <td>86.200.121.249</td>\n",
       "      <td>v8nphksxp6sr3o1</td>\n",
       "    </tr>\n",
       "    <tr>\n",
       "      <th>30</th>\n",
       "      <td>30</td>\n",
       "      <td>708ba5d36271639a9003ace4dc2cc540mugek</td>\n",
       "      <td>ewmzr</td>\n",
       "      <td>mobile</td>\n",
       "      <td>phone27</td>\n",
       "      <td>9759243315789473</td>\n",
       "      <td>us</td>\n",
       "      <td>196.99.84.184</td>\n",
       "      <td>a1qvn2e5zlg48fw</td>\n",
       "    </tr>\n",
       "    <tr>\n",
       "      <th>31</th>\n",
       "      <td>31</td>\n",
       "      <td>45972f59df79953d9bcf04a76dbe0f51z23qd</td>\n",
       "      <td>4q9ti</td>\n",
       "      <td>jewelry</td>\n",
       "      <td>phone28</td>\n",
       "      <td>9759243315789473</td>\n",
       "      <td>uk</td>\n",
       "      <td>194.131.85.114</td>\n",
       "      <td>984w81hc69t6cpa</td>\n",
       "    </tr>\n",
       "    <tr>\n",
       "      <th>32</th>\n",
       "      <td>32</td>\n",
       "      <td>8e46e0478d1fda88696becb31ff7978am9gxx</td>\n",
       "      <td>k3qaa</td>\n",
       "      <td>sporting goods</td>\n",
       "      <td>phone29</td>\n",
       "      <td>9759243315789473</td>\n",
       "      <td>in</td>\n",
       "      <td>244.58.212.51</td>\n",
       "      <td>vasstdc27m7nks3</td>\n",
       "    </tr>\n",
       "    <tr>\n",
       "      <th>33</th>\n",
       "      <td>33</td>\n",
       "      <td>a58ace8b671a7531c88814bc86b2a34cf0crb</td>\n",
       "      <td>cqcep</td>\n",
       "      <td>sporting goods</td>\n",
       "      <td>phone31</td>\n",
       "      <td>9759243315789473</td>\n",
       "      <td>za</td>\n",
       "      <td>220.231.174.196</td>\n",
       "      <td>pq96f16urkbpklz</td>\n",
       "    </tr>\n",
       "    <tr>\n",
       "      <th>34</th>\n",
       "      <td>34</td>\n",
       "      <td>32ba23ef91d1077f41bdee8def79b708wn873</td>\n",
       "      <td>um2u0</td>\n",
       "      <td>sporting goods</td>\n",
       "      <td>phone32</td>\n",
       "      <td>9759243315789473</td>\n",
       "      <td>za</td>\n",
       "      <td>113.104.141.204</td>\n",
       "      <td>9ywsxmm318pvjaz</td>\n",
       "    </tr>\n",
       "    <tr>\n",
       "      <th>35</th>\n",
       "      <td>35</td>\n",
       "      <td>ffbc0fdfbf19a8a9116b68714138f2902cc13</td>\n",
       "      <td>tuhay</td>\n",
       "      <td>mobile</td>\n",
       "      <td>phone5</td>\n",
       "      <td>9759243315789473</td>\n",
       "      <td>in</td>\n",
       "      <td>237.38.108.211</td>\n",
       "      <td>vasstdc27m7nks3</td>\n",
       "    </tr>\n",
       "    <tr>\n",
       "      <th>36</th>\n",
       "      <td>36</td>\n",
       "      <td>52d8066e28f168e5bee769559ead307e1go7e</td>\n",
       "      <td>165y9</td>\n",
       "      <td>mobile</td>\n",
       "      <td>phone33</td>\n",
       "      <td>9759243315789473</td>\n",
       "      <td>us</td>\n",
       "      <td>240.205.85.43</td>\n",
       "      <td>azl6m5i5tg78c2j</td>\n",
       "    </tr>\n",
       "    <tr>\n",
       "      <th>37</th>\n",
       "      <td>37</td>\n",
       "      <td>ab7ca72b2babe5c89184cce26625a48dvlebr</td>\n",
       "      <td>qp6cy</td>\n",
       "      <td>home goods</td>\n",
       "      <td>phone34</td>\n",
       "      <td>9759243315789473</td>\n",
       "      <td>fr</td>\n",
       "      <td>244.10.211.151</td>\n",
       "      <td>vasstdc27m7nks3</td>\n",
       "    </tr>\n",
       "    <tr>\n",
       "      <th>38</th>\n",
       "      <td>38</td>\n",
       "      <td>d174177146370aacbd5ae107b6be78828tx3e</td>\n",
       "      <td>46i7t</td>\n",
       "      <td>home goods</td>\n",
       "      <td>phone2</td>\n",
       "      <td>9759243315789473</td>\n",
       "      <td>tr</td>\n",
       "      <td>248.214.103.207</td>\n",
       "      <td>vasstdc27m7nks3</td>\n",
       "    </tr>\n",
       "    <tr>\n",
       "      <th>39</th>\n",
       "      <td>39</td>\n",
       "      <td>668d393e858e8126275433046bbd35c6tywop</td>\n",
       "      <td>aeqok</td>\n",
       "      <td>furniture</td>\n",
       "      <td>phone35</td>\n",
       "      <td>9759243368421052</td>\n",
       "      <td>in</td>\n",
       "      <td>75.11.239.20</td>\n",
       "      <td>i92xwb95qdo901j</td>\n",
       "    </tr>\n",
       "  </tbody>\n",
       "</table>\n",
       "</div>"
      ],
      "text/plain": [
       "    bid_id                              bidder_id auction       merchandise  \\\n",
       "0        0  8dac2b259fd1c6d1120e519fb1ac14fbqvax8   ewmzr           jewelry   \n",
       "1        1  668d393e858e8126275433046bbd35c6tywop   aeqok         furniture   \n",
       "2        2  aa5f360084278b35d746fa6af3a7a1a5ra3xe   wa00e        home goods   \n",
       "3        3  3939ac3ef7d472a59a9c5f893dd3e39fh9ofi   jefix           jewelry   \n",
       "4        4  8393c48eaf4b8fa96886edc7cf27b372dsibi   jefix           jewelry   \n",
       "5        5  e8291466de91b0eb4e1515143c7f74dexy2yr   3vi4t            mobile   \n",
       "6        6  eef4c687daf977f64fc1d08675c44444raj3s   kjlzx            mobile   \n",
       "7        7  ab056855c9ca9d36390feae1fa485883issyg   f5f6k        home goods   \n",
       "8        8  d600dc03b11e7d782e1e4dae091b084a1h5ch   h7jjx        home goods   \n",
       "9        9  a58ace8b671a7531c88814bc86b2a34cf0crb   3zpkj    sporting goods   \n",
       "10      10  a58ace8b671a7531c88814bc86b2a34cf0crb   z6j8b    sporting goods   \n",
       "11      11  fe37b8b29d26021ea9462bcc7c5bf5c2pbya7   jefix           jewelry   \n",
       "12      12  990db0dcdb665fb8fda5845b3e5d63082mbqq   jefix        home goods   \n",
       "13      13  7e34a26c4c339e875997f4b9239d2b5fscng4   nbx39            mobile   \n",
       "14      14  8dac2b259fd1c6d1120e519fb1ac14fbqvax8   wberf           jewelry   \n",
       "15      15  6c8ffec692e88d81e1b18d47818abb04v6llr   3pt0o        home goods   \n",
       "16      16  1a9c554b044c77239b63636008d353d4vy9kh   xk5nb            mobile   \n",
       "17      17  ffbc0fdfbf19a8a9116b68714138f2902cc13   nbx39            mobile   \n",
       "18      18  c4856fd5abe8f6d6dea36ca2fec444faauos8   2hkjh           jewelry   \n",
       "19      19  37bf6f23b628a3e2b5b22ba81beccbef0efoh   qtmwx           jewelry   \n",
       "20      20  af9c96944265cf541b3fe734a057821a825l7   jtxiv  office equipment   \n",
       "21      21  d174177146370aacbd5ae107b6be78828tx3e   ksqse        home goods   \n",
       "22      22  6b09f3376045ebad1504abe3b05c9c943aezq   ctfha           jewelry   \n",
       "23      23  6c8ffec692e88d81e1b18d47818abb04v6llr   2yowp        home goods   \n",
       "24      24  d47110cdd3eeb1ec25659f4285730e0a28ofd   7msk4           jewelry   \n",
       "25      25  668d393e858e8126275433046bbd35c6tywop   38v0a         furniture   \n",
       "26      26  c709b6c05ebd88124fe639a70103c8aerho8s   46i7t        home goods   \n",
       "27      27  aa5f360084278b35d746fa6af3a7a1a5ra3xe   88xe3        home goods   \n",
       "28      28  a58ace8b671a7531c88814bc86b2a34cf0crb   74uth    sporting goods   \n",
       "29      29  0dea01e325acccb9d2e7cdbf0150619c6aycy   hf2fe           jewelry   \n",
       "30      30  708ba5d36271639a9003ace4dc2cc540mugek   ewmzr            mobile   \n",
       "31      31  45972f59df79953d9bcf04a76dbe0f51z23qd   4q9ti           jewelry   \n",
       "32      32  8e46e0478d1fda88696becb31ff7978am9gxx   k3qaa    sporting goods   \n",
       "33      33  a58ace8b671a7531c88814bc86b2a34cf0crb   cqcep    sporting goods   \n",
       "34      34  32ba23ef91d1077f41bdee8def79b708wn873   um2u0    sporting goods   \n",
       "35      35  ffbc0fdfbf19a8a9116b68714138f2902cc13   tuhay            mobile   \n",
       "36      36  52d8066e28f168e5bee769559ead307e1go7e   165y9            mobile   \n",
       "37      37  ab7ca72b2babe5c89184cce26625a48dvlebr   qp6cy        home goods   \n",
       "38      38  d174177146370aacbd5ae107b6be78828tx3e   46i7t        home goods   \n",
       "39      39  668d393e858e8126275433046bbd35c6tywop   aeqok         furniture   \n",
       "\n",
       "     device              time country               ip              url  \n",
       "0    phone0  9759243157894736      us    69.166.231.58  vasstdc27m7nks3  \n",
       "1    phone1  9759243157894736      in    50.201.125.84  jmqlhflrzwuay9c  \n",
       "2    phone2  9759243157894736      py   112.54.208.157  vasstdc27m7nks3  \n",
       "3    phone4  9759243157894736      in    18.99.175.133  vasstdc27m7nks3  \n",
       "4    phone5  9759243157894736      in     145.138.5.37  vasstdc27m7nks3  \n",
       "5    phone7  9759243157894736      ru    91.107.221.27  vasstdc27m7nks3  \n",
       "6    phone2  9759243210526315      th  152.235.155.159  j9nl1xmo6fqhcc6  \n",
       "7    phone8  9759243210526315      id    3.210.112.183  hnt6hu93a3z1cpc  \n",
       "8    phone9  9759243210526315      th   103.64.157.225  vasstdc27m7nks3  \n",
       "9    phone4  9759243210526315      za   123.28.123.226  vasstdc27m7nks3  \n",
       "10  phone10  9759243210526315      ng    209.80.85.101  adgjz71s3p2oiau  \n",
       "11  phone11  9759243210526315      sd  249.145.124.218  9qikt9049fyukcd  \n",
       "12  phone12  9759243263157894      in     200.212.4.79  f07dfiidpjifv9w  \n",
       "13  phone13  9759243263157894      in   143.183.225.33  e5i17pk9wygxewv  \n",
       "14  phone15  9759243263157894      au  134.243.148.253  vasstdc27m7nks3  \n",
       "15   phone3  9759243263157894      id  220.216.170.202  l2585vww95sbk1c  \n",
       "16  phone16  9759243263157894      in   130.252.241.92  z0xsd05zh5z8j7l  \n",
       "17  phone17  9759243263157894      in   254.230.31.160  qlbvjmkspxawtn1  \n",
       "18  phone18  9759243263157894      us     161.0.93.123  9vr179ujwjgoxt3  \n",
       "19  phone16  9759243263157894      in     67.52.51.193  r1pn2yun70umqqk  \n",
       "20  phone19  9759243263157894      hr    144.100.75.92  vasstdc27m7nks3  \n",
       "21   phone2  9759243263157894      in    249.27.204.83  vasstdc27m7nks3  \n",
       "22   phone5  9759243263157894      np     20.126.72.67  vasstdc27m7nks3  \n",
       "23  phone20  9759243263157894      iq   140.231.164.76  s29w055z2b9jsyt  \n",
       "24  phone21  9759243315789473      id     65.42.174.33  uzh1u393rqmc1ox  \n",
       "25   phone4  9759243315789473      bd    147.64.206.30  vasstdc27m7nks3  \n",
       "26  phone23  9759243315789473      tr  214.175.246.198  vasstdc27m7nks3  \n",
       "27  phone24  9759243315789473      ch    144.203.164.7  526pa711hpwgwta  \n",
       "28  phone25  9759243315789473      ke   243.125.22.173  co51dtt0pyag991  \n",
       "29  phone26  9759243315789473      th   86.200.121.249  v8nphksxp6sr3o1  \n",
       "30  phone27  9759243315789473      us    196.99.84.184  a1qvn2e5zlg48fw  \n",
       "31  phone28  9759243315789473      uk   194.131.85.114  984w81hc69t6cpa  \n",
       "32  phone29  9759243315789473      in    244.58.212.51  vasstdc27m7nks3  \n",
       "33  phone31  9759243315789473      za  220.231.174.196  pq96f16urkbpklz  \n",
       "34  phone32  9759243315789473      za  113.104.141.204  9ywsxmm318pvjaz  \n",
       "35   phone5  9759243315789473      in   237.38.108.211  vasstdc27m7nks3  \n",
       "36  phone33  9759243315789473      us    240.205.85.43  azl6m5i5tg78c2j  \n",
       "37  phone34  9759243315789473      fr   244.10.211.151  vasstdc27m7nks3  \n",
       "38   phone2  9759243315789473      tr  248.214.103.207  vasstdc27m7nks3  \n",
       "39  phone35  9759243368421052      in     75.11.239.20  i92xwb95qdo901j  "
      ]
     },
     "execution_count": 6,
     "metadata": {},
     "output_type": "execute_result"
    }
   ],
   "source": [
    "bids.head(40)"
   ]
  },
  {
   "cell_type": "code",
   "execution_count": 7,
   "metadata": {},
   "outputs": [
    {
     "data": {
      "text/plain": [
       "bid_id         7656334\n",
       "bidder_id         6614\n",
       "auction          15051\n",
       "merchandise         10\n",
       "device            7351\n",
       "time            776529\n",
       "country            199\n",
       "ip             2303991\n",
       "url            1786351\n",
       "dtype: int64"
      ]
     },
     "execution_count": 7,
     "metadata": {},
     "output_type": "execute_result"
    }
   ],
   "source": [
    "bids.nunique()"
   ]
  },
  {
   "cell_type": "code",
   "execution_count": 8,
   "metadata": {},
   "outputs": [
    {
     "name": "stdout",
     "output_type": "stream",
     "text": [
      "2013\n",
      "4700\n",
      "6614\n"
     ]
    }
   ],
   "source": [
    "train_bidder_id = train.bidder_id.unique()\n",
    "test_bidder_id = test.bidder_id.unique()\n",
    "bids_bidder_id = bids.bidder_id.unique()\n",
    "\n",
    "print(len(train_bidder_id))\n",
    "print(len(test_bidder_id))\n",
    "print(len(bids_bidder_id))"
   ]
  },
  {
   "cell_type": "code",
   "execution_count": 9,
   "metadata": {},
   "outputs": [
    {
     "name": "stdout",
     "output_type": "stream",
     "text": [
      "29\n",
      "70\n"
     ]
    }
   ],
   "source": [
    "train_not_found = []\n",
    "test_not_found = []\n",
    "\n",
    "for bidder_id in train_bidder_id:\n",
    "    if bidder_id not in bids_bidder_id:\n",
    "        train_not_found.append(bidder_id)\n",
    "        \n",
    "for bidder_id in test_bidder_id:\n",
    "    if bidder_id not in bids_bidder_id:\n",
    "        test_not_found.append(bidder_id)\n",
    "        \n",
    "print(len(train_not_found))\n",
    "print(len(test_not_found))"
   ]
  },
  {
   "cell_type": "markdown",
   "metadata": {},
   "source": [
    "# Feature Engineering"
   ]
  },
  {
   "cell_type": "markdown",
   "metadata": {},
   "source": [
    "### 1: No. of auctions/merchandise/device/time/country/IP/URL"
   ]
  },
  {
   "cell_type": "code",
   "execution_count": 10,
   "metadata": {},
   "outputs": [
    {
     "data": {
      "text/html": [
       "<div>\n",
       "<style scoped>\n",
       "    .dataframe tbody tr th:only-of-type {\n",
       "        vertical-align: middle;\n",
       "    }\n",
       "\n",
       "    .dataframe tbody tr th {\n",
       "        vertical-align: top;\n",
       "    }\n",
       "\n",
       "    .dataframe thead th {\n",
       "        text-align: right;\n",
       "    }\n",
       "</style>\n",
       "<table border=\"1\" class=\"dataframe\">\n",
       "  <thead>\n",
       "    <tr style=\"text-align: right;\">\n",
       "      <th></th>\n",
       "      <th>bidder_id</th>\n",
       "      <th>bid_id</th>\n",
       "      <th>auction count</th>\n",
       "      <th>device count</th>\n",
       "      <th>time count</th>\n",
       "      <th>country count</th>\n",
       "      <th>ip count</th>\n",
       "      <th>url count</th>\n",
       "    </tr>\n",
       "  </thead>\n",
       "  <tbody>\n",
       "    <tr>\n",
       "      <th>0</th>\n",
       "      <td>001068c415025a009fee375a12cff4fcnht8y</td>\n",
       "      <td>1</td>\n",
       "      <td>1</td>\n",
       "      <td>1</td>\n",
       "      <td>1</td>\n",
       "      <td>1</td>\n",
       "      <td>1</td>\n",
       "      <td>1</td>\n",
       "    </tr>\n",
       "    <tr>\n",
       "      <th>1</th>\n",
       "      <td>002d229ffb247009810828f648afc2ef593rb</td>\n",
       "      <td>2</td>\n",
       "      <td>1</td>\n",
       "      <td>2</td>\n",
       "      <td>2</td>\n",
       "      <td>1</td>\n",
       "      <td>1</td>\n",
       "      <td>1</td>\n",
       "    </tr>\n",
       "    <tr>\n",
       "      <th>2</th>\n",
       "      <td>0030a2dd87ad2733e0873062e4f83954mkj86</td>\n",
       "      <td>1</td>\n",
       "      <td>1</td>\n",
       "      <td>1</td>\n",
       "      <td>1</td>\n",
       "      <td>1</td>\n",
       "      <td>1</td>\n",
       "      <td>1</td>\n",
       "    </tr>\n",
       "    <tr>\n",
       "      <th>3</th>\n",
       "      <td>003180b29c6a5f8f1d84a6b7b6f7be57tjj1o</td>\n",
       "      <td>3</td>\n",
       "      <td>3</td>\n",
       "      <td>3</td>\n",
       "      <td>3</td>\n",
       "      <td>1</td>\n",
       "      <td>3</td>\n",
       "      <td>2</td>\n",
       "    </tr>\n",
       "    <tr>\n",
       "      <th>4</th>\n",
       "      <td>00486a11dff552c4bd7696265724ff81yeo9v</td>\n",
       "      <td>20</td>\n",
       "      <td>13</td>\n",
       "      <td>8</td>\n",
       "      <td>20</td>\n",
       "      <td>1</td>\n",
       "      <td>10</td>\n",
       "      <td>7</td>\n",
       "    </tr>\n",
       "    <tr>\n",
       "      <th>...</th>\n",
       "      <td>...</td>\n",
       "      <td>...</td>\n",
       "      <td>...</td>\n",
       "      <td>...</td>\n",
       "      <td>...</td>\n",
       "      <td>...</td>\n",
       "      <td>...</td>\n",
       "      <td>...</td>\n",
       "    </tr>\n",
       "    <tr>\n",
       "      <th>6609</th>\n",
       "      <td>ffbc0fdfbf19a8a9116b68714138f2902cc13</td>\n",
       "      <td>25075</td>\n",
       "      <td>637</td>\n",
       "      <td>792</td>\n",
       "      <td>23487</td>\n",
       "      <td>102</td>\n",
       "      <td>18726</td>\n",
       "      <td>8039</td>\n",
       "    </tr>\n",
       "    <tr>\n",
       "      <th>6610</th>\n",
       "      <td>ffc4e2dd2cc08249f299cab46ecbfacfobmr3</td>\n",
       "      <td>22</td>\n",
       "      <td>15</td>\n",
       "      <td>13</td>\n",
       "      <td>22</td>\n",
       "      <td>6</td>\n",
       "      <td>18</td>\n",
       "      <td>12</td>\n",
       "    </tr>\n",
       "    <tr>\n",
       "      <th>6611</th>\n",
       "      <td>ffd29eb307a4c54610dd2d3d212bf3bagmmpl</td>\n",
       "      <td>1</td>\n",
       "      <td>1</td>\n",
       "      <td>1</td>\n",
       "      <td>1</td>\n",
       "      <td>1</td>\n",
       "      <td>1</td>\n",
       "      <td>1</td>\n",
       "    </tr>\n",
       "    <tr>\n",
       "      <th>6612</th>\n",
       "      <td>ffd62646d600b759a985d45918bd6f0431vmz</td>\n",
       "      <td>664</td>\n",
       "      <td>55</td>\n",
       "      <td>96</td>\n",
       "      <td>664</td>\n",
       "      <td>1</td>\n",
       "      <td>37</td>\n",
       "      <td>144</td>\n",
       "    </tr>\n",
       "    <tr>\n",
       "      <th>6613</th>\n",
       "      <td>fff2c070d8200e0a09150bd81452ce29ngcnv</td>\n",
       "      <td>1</td>\n",
       "      <td>1</td>\n",
       "      <td>1</td>\n",
       "      <td>1</td>\n",
       "      <td>1</td>\n",
       "      <td>1</td>\n",
       "      <td>1</td>\n",
       "    </tr>\n",
       "  </tbody>\n",
       "</table>\n",
       "<p>6614 rows × 8 columns</p>\n",
       "</div>"
      ],
      "text/plain": [
       "                                  bidder_id  bid_id  auction count  \\\n",
       "0     001068c415025a009fee375a12cff4fcnht8y       1              1   \n",
       "1     002d229ffb247009810828f648afc2ef593rb       2              1   \n",
       "2     0030a2dd87ad2733e0873062e4f83954mkj86       1              1   \n",
       "3     003180b29c6a5f8f1d84a6b7b6f7be57tjj1o       3              3   \n",
       "4     00486a11dff552c4bd7696265724ff81yeo9v      20             13   \n",
       "...                                     ...     ...            ...   \n",
       "6609  ffbc0fdfbf19a8a9116b68714138f2902cc13   25075            637   \n",
       "6610  ffc4e2dd2cc08249f299cab46ecbfacfobmr3      22             15   \n",
       "6611  ffd29eb307a4c54610dd2d3d212bf3bagmmpl       1              1   \n",
       "6612  ffd62646d600b759a985d45918bd6f0431vmz     664             55   \n",
       "6613  fff2c070d8200e0a09150bd81452ce29ngcnv       1              1   \n",
       "\n",
       "      device count  time count  country count  ip count  url count  \n",
       "0                1           1              1         1          1  \n",
       "1                2           2              1         1          1  \n",
       "2                1           1              1         1          1  \n",
       "3                3           3              1         3          2  \n",
       "4                8          20              1        10          7  \n",
       "...            ...         ...            ...       ...        ...  \n",
       "6609           792       23487            102     18726       8039  \n",
       "6610            13          22              6        18         12  \n",
       "6611             1           1              1         1          1  \n",
       "6612            96         664              1        37        144  \n",
       "6613             1           1              1         1          1  \n",
       "\n",
       "[6614 rows x 8 columns]"
      ]
     },
     "execution_count": 10,
     "metadata": {},
     "output_type": "execute_result"
    }
   ],
   "source": [
    "# grouped bids df by bidder_id, applied nunique() to all features\n",
    "bidder_unique = bids.groupby('bidder_id').nunique().drop(columns=['bidder_id']).reset_index()\n",
    "bidder_unique = bidder_unique.drop(columns=['merchandise']).rename(columns={'auction': 'auction count', \n",
    "                                     'device': 'device count',\n",
    "                                      'time': 'time count',\n",
    "                                      'country': 'country count',\n",
    "                                      'ip': 'ip count',\n",
    "                                      'url': 'url count'\n",
    "                                    })\n",
    "bidder_unique "
   ]
  },
  {
   "cell_type": "code",
   "execution_count": 11,
   "metadata": {
    "scrolled": true
   },
   "outputs": [],
   "source": [
    "train_set = train.merge(bidder_unique, on='bidder_id', how='left')\n",
    "test_set = test.merge(bidder_unique, on='bidder_id', how='left')"
   ]
  },
  {
   "cell_type": "markdown",
   "metadata": {},
   "source": [
    "### 2: No. of bids"
   ]
  },
  {
   "cell_type": "code",
   "execution_count": 12,
   "metadata": {
    "scrolled": false
   },
   "outputs": [
    {
     "data": {
      "text/html": [
       "<div>\n",
       "<style scoped>\n",
       "    .dataframe tbody tr th:only-of-type {\n",
       "        vertical-align: middle;\n",
       "    }\n",
       "\n",
       "    .dataframe tbody tr th {\n",
       "        vertical-align: top;\n",
       "    }\n",
       "\n",
       "    .dataframe thead th {\n",
       "        text-align: right;\n",
       "    }\n",
       "</style>\n",
       "<table border=\"1\" class=\"dataframe\">\n",
       "  <thead>\n",
       "    <tr style=\"text-align: right;\">\n",
       "      <th></th>\n",
       "      <th>bidder_id</th>\n",
       "      <th>num_bids</th>\n",
       "    </tr>\n",
       "  </thead>\n",
       "  <tbody>\n",
       "    <tr>\n",
       "      <th>0</th>\n",
       "      <td>001068c415025a009fee375a12cff4fcnht8y</td>\n",
       "      <td>1</td>\n",
       "    </tr>\n",
       "    <tr>\n",
       "      <th>1</th>\n",
       "      <td>002d229ffb247009810828f648afc2ef593rb</td>\n",
       "      <td>2</td>\n",
       "    </tr>\n",
       "    <tr>\n",
       "      <th>2</th>\n",
       "      <td>0030a2dd87ad2733e0873062e4f83954mkj86</td>\n",
       "      <td>1</td>\n",
       "    </tr>\n",
       "    <tr>\n",
       "      <th>3</th>\n",
       "      <td>003180b29c6a5f8f1d84a6b7b6f7be57tjj1o</td>\n",
       "      <td>3</td>\n",
       "    </tr>\n",
       "    <tr>\n",
       "      <th>4</th>\n",
       "      <td>00486a11dff552c4bd7696265724ff81yeo9v</td>\n",
       "      <td>20</td>\n",
       "    </tr>\n",
       "    <tr>\n",
       "      <th>...</th>\n",
       "      <td>...</td>\n",
       "      <td>...</td>\n",
       "    </tr>\n",
       "    <tr>\n",
       "      <th>6609</th>\n",
       "      <td>ffbc0fdfbf19a8a9116b68714138f2902cc13</td>\n",
       "      <td>25075</td>\n",
       "    </tr>\n",
       "    <tr>\n",
       "      <th>6610</th>\n",
       "      <td>ffc4e2dd2cc08249f299cab46ecbfacfobmr3</td>\n",
       "      <td>22</td>\n",
       "    </tr>\n",
       "    <tr>\n",
       "      <th>6611</th>\n",
       "      <td>ffd29eb307a4c54610dd2d3d212bf3bagmmpl</td>\n",
       "      <td>1</td>\n",
       "    </tr>\n",
       "    <tr>\n",
       "      <th>6612</th>\n",
       "      <td>ffd62646d600b759a985d45918bd6f0431vmz</td>\n",
       "      <td>664</td>\n",
       "    </tr>\n",
       "    <tr>\n",
       "      <th>6613</th>\n",
       "      <td>fff2c070d8200e0a09150bd81452ce29ngcnv</td>\n",
       "      <td>1</td>\n",
       "    </tr>\n",
       "  </tbody>\n",
       "</table>\n",
       "<p>6614 rows × 2 columns</p>\n",
       "</div>"
      ],
      "text/plain": [
       "                                  bidder_id  num_bids\n",
       "0     001068c415025a009fee375a12cff4fcnht8y         1\n",
       "1     002d229ffb247009810828f648afc2ef593rb         2\n",
       "2     0030a2dd87ad2733e0873062e4f83954mkj86         1\n",
       "3     003180b29c6a5f8f1d84a6b7b6f7be57tjj1o         3\n",
       "4     00486a11dff552c4bd7696265724ff81yeo9v        20\n",
       "...                                     ...       ...\n",
       "6609  ffbc0fdfbf19a8a9116b68714138f2902cc13     25075\n",
       "6610  ffc4e2dd2cc08249f299cab46ecbfacfobmr3        22\n",
       "6611  ffd29eb307a4c54610dd2d3d212bf3bagmmpl         1\n",
       "6612  ffd62646d600b759a985d45918bd6f0431vmz       664\n",
       "6613  fff2c070d8200e0a09150bd81452ce29ngcnv         1\n",
       "\n",
       "[6614 rows x 2 columns]"
      ]
     },
     "execution_count": 12,
     "metadata": {},
     "output_type": "execute_result"
    }
   ],
   "source": [
    "# grouped bids df by bidder_id, counted no. of rows\n",
    "bidder_counts = bids.groupby(\"bidder_id\")['time'].count().reset_index()\n",
    "bidder_counts = bidder_counts.rename(columns={'time':'num_bids'})\n",
    "bidder_counts"
   ]
  },
  {
   "cell_type": "code",
   "execution_count": 13,
   "metadata": {
    "scrolled": false
   },
   "outputs": [],
   "source": [
    "train_set = train_set.merge(bidder_counts, on='bidder_id', how='left')\n",
    "test_set = test_set.merge(bidder_counts, on='bidder_id', how='left')"
   ]
  },
  {
   "cell_type": "markdown",
   "metadata": {},
   "source": [
    "### 3: Individual merchandise count"
   ]
  },
  {
   "cell_type": "code",
   "execution_count": 14,
   "metadata": {
    "scrolled": false
   },
   "outputs": [
    {
     "data": {
      "text/html": [
       "<div>\n",
       "<style scoped>\n",
       "    .dataframe tbody tr th:only-of-type {\n",
       "        vertical-align: middle;\n",
       "    }\n",
       "\n",
       "    .dataframe tbody tr th {\n",
       "        vertical-align: top;\n",
       "    }\n",
       "\n",
       "    .dataframe thead th {\n",
       "        text-align: right;\n",
       "    }\n",
       "</style>\n",
       "<table border=\"1\" class=\"dataframe\">\n",
       "  <thead>\n",
       "    <tr style=\"text-align: right;\">\n",
       "      <th></th>\n",
       "      <th>bidder_id</th>\n",
       "      <th>merchandise</th>\n",
       "    </tr>\n",
       "  </thead>\n",
       "  <tbody>\n",
       "    <tr>\n",
       "      <th>0</th>\n",
       "      <td>8dac2b259fd1c6d1120e519fb1ac14fbqvax8</td>\n",
       "      <td>jewelry</td>\n",
       "    </tr>\n",
       "    <tr>\n",
       "      <th>1</th>\n",
       "      <td>668d393e858e8126275433046bbd35c6tywop</td>\n",
       "      <td>furniture</td>\n",
       "    </tr>\n",
       "    <tr>\n",
       "      <th>2</th>\n",
       "      <td>aa5f360084278b35d746fa6af3a7a1a5ra3xe</td>\n",
       "      <td>home goods</td>\n",
       "    </tr>\n",
       "    <tr>\n",
       "      <th>3</th>\n",
       "      <td>3939ac3ef7d472a59a9c5f893dd3e39fh9ofi</td>\n",
       "      <td>jewelry</td>\n",
       "    </tr>\n",
       "    <tr>\n",
       "      <th>4</th>\n",
       "      <td>8393c48eaf4b8fa96886edc7cf27b372dsibi</td>\n",
       "      <td>jewelry</td>\n",
       "    </tr>\n",
       "    <tr>\n",
       "      <th>...</th>\n",
       "      <td>...</td>\n",
       "      <td>...</td>\n",
       "    </tr>\n",
       "    <tr>\n",
       "      <th>7656329</th>\n",
       "      <td>626159dd6f2228ede002d9f9340f75b7puk8d</td>\n",
       "      <td>jewelry</td>\n",
       "    </tr>\n",
       "    <tr>\n",
       "      <th>7656330</th>\n",
       "      <td>a318ea333ceee1ba39a494476386136a826dv</td>\n",
       "      <td>mobile</td>\n",
       "    </tr>\n",
       "    <tr>\n",
       "      <th>7656331</th>\n",
       "      <td>f5b2bbad20d1d7ded3ed960393bec0f40u6hn</td>\n",
       "      <td>sporting goods</td>\n",
       "    </tr>\n",
       "    <tr>\n",
       "      <th>7656332</th>\n",
       "      <td>d4bd412590f5106b9d887a43c51b254eldo4f</td>\n",
       "      <td>jewelry</td>\n",
       "    </tr>\n",
       "    <tr>\n",
       "      <th>7656333</th>\n",
       "      <td>0ea62aaa9c3ffcc6db584cb69c1f6c4bcripp</td>\n",
       "      <td>mobile</td>\n",
       "    </tr>\n",
       "  </tbody>\n",
       "</table>\n",
       "<p>7656334 rows × 2 columns</p>\n",
       "</div>"
      ],
      "text/plain": [
       "                                     bidder_id     merchandise\n",
       "0        8dac2b259fd1c6d1120e519fb1ac14fbqvax8         jewelry\n",
       "1        668d393e858e8126275433046bbd35c6tywop       furniture\n",
       "2        aa5f360084278b35d746fa6af3a7a1a5ra3xe      home goods\n",
       "3        3939ac3ef7d472a59a9c5f893dd3e39fh9ofi         jewelry\n",
       "4        8393c48eaf4b8fa96886edc7cf27b372dsibi         jewelry\n",
       "...                                        ...             ...\n",
       "7656329  626159dd6f2228ede002d9f9340f75b7puk8d         jewelry\n",
       "7656330  a318ea333ceee1ba39a494476386136a826dv          mobile\n",
       "7656331  f5b2bbad20d1d7ded3ed960393bec0f40u6hn  sporting goods\n",
       "7656332  d4bd412590f5106b9d887a43c51b254eldo4f         jewelry\n",
       "7656333  0ea62aaa9c3ffcc6db584cb69c1f6c4bcripp          mobile\n",
       "\n",
       "[7656334 rows x 2 columns]"
      ]
     },
     "execution_count": 14,
     "metadata": {},
     "output_type": "execute_result"
    }
   ],
   "source": [
    "# extracted bidder_id and merchandise col from bids\n",
    "merchandise_per_bidder = bids[['bidder_id', 'merchandise']]\n",
    "merchandise_per_bidder"
   ]
  },
  {
   "cell_type": "code",
   "execution_count": 15,
   "metadata": {},
   "outputs": [],
   "source": [
    "# one-hot encoded merchandise column\n",
    "mpd_OH_encoding = pd.get_dummies(merchandise_per_bidder['merchandise'])\n",
    "mpd_concat_df = pd.concat([merchandise_per_bidder, mpd_OH_encoding], axis=1)"
   ]
  },
  {
   "cell_type": "code",
   "execution_count": 16,
   "metadata": {},
   "outputs": [
    {
     "data": {
      "text/html": [
       "<div>\n",
       "<style scoped>\n",
       "    .dataframe tbody tr th:only-of-type {\n",
       "        vertical-align: middle;\n",
       "    }\n",
       "\n",
       "    .dataframe tbody tr th {\n",
       "        vertical-align: top;\n",
       "    }\n",
       "\n",
       "    .dataframe thead th {\n",
       "        text-align: right;\n",
       "    }\n",
       "</style>\n",
       "<table border=\"1\" class=\"dataframe\">\n",
       "  <thead>\n",
       "    <tr style=\"text-align: right;\">\n",
       "      <th></th>\n",
       "      <th>auto parts</th>\n",
       "      <th>books and music</th>\n",
       "      <th>clothing</th>\n",
       "      <th>computers</th>\n",
       "      <th>furniture</th>\n",
       "      <th>home goods</th>\n",
       "      <th>jewelry</th>\n",
       "      <th>mobile</th>\n",
       "      <th>office equipment</th>\n",
       "      <th>sporting goods</th>\n",
       "    </tr>\n",
       "    <tr>\n",
       "      <th>bidder_id</th>\n",
       "      <th></th>\n",
       "      <th></th>\n",
       "      <th></th>\n",
       "      <th></th>\n",
       "      <th></th>\n",
       "      <th></th>\n",
       "      <th></th>\n",
       "      <th></th>\n",
       "      <th></th>\n",
       "      <th></th>\n",
       "    </tr>\n",
       "  </thead>\n",
       "  <tbody>\n",
       "    <tr>\n",
       "      <th>001068c415025a009fee375a12cff4fcnht8y</th>\n",
       "      <td>0.0</td>\n",
       "      <td>0.0</td>\n",
       "      <td>0.0</td>\n",
       "      <td>0.0</td>\n",
       "      <td>0.0</td>\n",
       "      <td>0.0</td>\n",
       "      <td>1.0</td>\n",
       "      <td>0.0</td>\n",
       "      <td>0.0</td>\n",
       "      <td>0.0</td>\n",
       "    </tr>\n",
       "    <tr>\n",
       "      <th>002d229ffb247009810828f648afc2ef593rb</th>\n",
       "      <td>0.0</td>\n",
       "      <td>0.0</td>\n",
       "      <td>0.0</td>\n",
       "      <td>0.0</td>\n",
       "      <td>0.0</td>\n",
       "      <td>0.0</td>\n",
       "      <td>0.0</td>\n",
       "      <td>2.0</td>\n",
       "      <td>0.0</td>\n",
       "      <td>0.0</td>\n",
       "    </tr>\n",
       "    <tr>\n",
       "      <th>0030a2dd87ad2733e0873062e4f83954mkj86</th>\n",
       "      <td>0.0</td>\n",
       "      <td>0.0</td>\n",
       "      <td>0.0</td>\n",
       "      <td>0.0</td>\n",
       "      <td>0.0</td>\n",
       "      <td>0.0</td>\n",
       "      <td>0.0</td>\n",
       "      <td>1.0</td>\n",
       "      <td>0.0</td>\n",
       "      <td>0.0</td>\n",
       "    </tr>\n",
       "    <tr>\n",
       "      <th>003180b29c6a5f8f1d84a6b7b6f7be57tjj1o</th>\n",
       "      <td>0.0</td>\n",
       "      <td>0.0</td>\n",
       "      <td>0.0</td>\n",
       "      <td>0.0</td>\n",
       "      <td>0.0</td>\n",
       "      <td>0.0</td>\n",
       "      <td>0.0</td>\n",
       "      <td>3.0</td>\n",
       "      <td>0.0</td>\n",
       "      <td>0.0</td>\n",
       "    </tr>\n",
       "    <tr>\n",
       "      <th>00486a11dff552c4bd7696265724ff81yeo9v</th>\n",
       "      <td>0.0</td>\n",
       "      <td>0.0</td>\n",
       "      <td>0.0</td>\n",
       "      <td>0.0</td>\n",
       "      <td>0.0</td>\n",
       "      <td>20.0</td>\n",
       "      <td>0.0</td>\n",
       "      <td>0.0</td>\n",
       "      <td>0.0</td>\n",
       "      <td>0.0</td>\n",
       "    </tr>\n",
       "    <tr>\n",
       "      <th>...</th>\n",
       "      <td>...</td>\n",
       "      <td>...</td>\n",
       "      <td>...</td>\n",
       "      <td>...</td>\n",
       "      <td>...</td>\n",
       "      <td>...</td>\n",
       "      <td>...</td>\n",
       "      <td>...</td>\n",
       "      <td>...</td>\n",
       "      <td>...</td>\n",
       "    </tr>\n",
       "    <tr>\n",
       "      <th>ffbc0fdfbf19a8a9116b68714138f2902cc13</th>\n",
       "      <td>0.0</td>\n",
       "      <td>0.0</td>\n",
       "      <td>0.0</td>\n",
       "      <td>0.0</td>\n",
       "      <td>0.0</td>\n",
       "      <td>0.0</td>\n",
       "      <td>0.0</td>\n",
       "      <td>25075.0</td>\n",
       "      <td>0.0</td>\n",
       "      <td>0.0</td>\n",
       "    </tr>\n",
       "    <tr>\n",
       "      <th>ffc4e2dd2cc08249f299cab46ecbfacfobmr3</th>\n",
       "      <td>0.0</td>\n",
       "      <td>0.0</td>\n",
       "      <td>0.0</td>\n",
       "      <td>0.0</td>\n",
       "      <td>0.0</td>\n",
       "      <td>0.0</td>\n",
       "      <td>0.0</td>\n",
       "      <td>22.0</td>\n",
       "      <td>0.0</td>\n",
       "      <td>0.0</td>\n",
       "    </tr>\n",
       "    <tr>\n",
       "      <th>ffd29eb307a4c54610dd2d3d212bf3bagmmpl</th>\n",
       "      <td>0.0</td>\n",
       "      <td>0.0</td>\n",
       "      <td>0.0</td>\n",
       "      <td>0.0</td>\n",
       "      <td>0.0</td>\n",
       "      <td>0.0</td>\n",
       "      <td>0.0</td>\n",
       "      <td>0.0</td>\n",
       "      <td>0.0</td>\n",
       "      <td>1.0</td>\n",
       "    </tr>\n",
       "    <tr>\n",
       "      <th>ffd62646d600b759a985d45918bd6f0431vmz</th>\n",
       "      <td>0.0</td>\n",
       "      <td>0.0</td>\n",
       "      <td>0.0</td>\n",
       "      <td>0.0</td>\n",
       "      <td>0.0</td>\n",
       "      <td>0.0</td>\n",
       "      <td>0.0</td>\n",
       "      <td>664.0</td>\n",
       "      <td>0.0</td>\n",
       "      <td>0.0</td>\n",
       "    </tr>\n",
       "    <tr>\n",
       "      <th>fff2c070d8200e0a09150bd81452ce29ngcnv</th>\n",
       "      <td>0.0</td>\n",
       "      <td>0.0</td>\n",
       "      <td>0.0</td>\n",
       "      <td>0.0</td>\n",
       "      <td>0.0</td>\n",
       "      <td>1.0</td>\n",
       "      <td>0.0</td>\n",
       "      <td>0.0</td>\n",
       "      <td>0.0</td>\n",
       "      <td>0.0</td>\n",
       "    </tr>\n",
       "  </tbody>\n",
       "</table>\n",
       "<p>6614 rows × 10 columns</p>\n",
       "</div>"
      ],
      "text/plain": [
       "                                       auto parts  books and music  clothing  \\\n",
       "bidder_id                                                                      \n",
       "001068c415025a009fee375a12cff4fcnht8y         0.0              0.0       0.0   \n",
       "002d229ffb247009810828f648afc2ef593rb         0.0              0.0       0.0   \n",
       "0030a2dd87ad2733e0873062e4f83954mkj86         0.0              0.0       0.0   \n",
       "003180b29c6a5f8f1d84a6b7b6f7be57tjj1o         0.0              0.0       0.0   \n",
       "00486a11dff552c4bd7696265724ff81yeo9v         0.0              0.0       0.0   \n",
       "...                                           ...              ...       ...   \n",
       "ffbc0fdfbf19a8a9116b68714138f2902cc13         0.0              0.0       0.0   \n",
       "ffc4e2dd2cc08249f299cab46ecbfacfobmr3         0.0              0.0       0.0   \n",
       "ffd29eb307a4c54610dd2d3d212bf3bagmmpl         0.0              0.0       0.0   \n",
       "ffd62646d600b759a985d45918bd6f0431vmz         0.0              0.0       0.0   \n",
       "fff2c070d8200e0a09150bd81452ce29ngcnv         0.0              0.0       0.0   \n",
       "\n",
       "                                       computers  furniture  home goods  \\\n",
       "bidder_id                                                                 \n",
       "001068c415025a009fee375a12cff4fcnht8y        0.0        0.0         0.0   \n",
       "002d229ffb247009810828f648afc2ef593rb        0.0        0.0         0.0   \n",
       "0030a2dd87ad2733e0873062e4f83954mkj86        0.0        0.0         0.0   \n",
       "003180b29c6a5f8f1d84a6b7b6f7be57tjj1o        0.0        0.0         0.0   \n",
       "00486a11dff552c4bd7696265724ff81yeo9v        0.0        0.0        20.0   \n",
       "...                                          ...        ...         ...   \n",
       "ffbc0fdfbf19a8a9116b68714138f2902cc13        0.0        0.0         0.0   \n",
       "ffc4e2dd2cc08249f299cab46ecbfacfobmr3        0.0        0.0         0.0   \n",
       "ffd29eb307a4c54610dd2d3d212bf3bagmmpl        0.0        0.0         0.0   \n",
       "ffd62646d600b759a985d45918bd6f0431vmz        0.0        0.0         0.0   \n",
       "fff2c070d8200e0a09150bd81452ce29ngcnv        0.0        0.0         1.0   \n",
       "\n",
       "                                       jewelry   mobile  office equipment  \\\n",
       "bidder_id                                                                   \n",
       "001068c415025a009fee375a12cff4fcnht8y      1.0      0.0               0.0   \n",
       "002d229ffb247009810828f648afc2ef593rb      0.0      2.0               0.0   \n",
       "0030a2dd87ad2733e0873062e4f83954mkj86      0.0      1.0               0.0   \n",
       "003180b29c6a5f8f1d84a6b7b6f7be57tjj1o      0.0      3.0               0.0   \n",
       "00486a11dff552c4bd7696265724ff81yeo9v      0.0      0.0               0.0   \n",
       "...                                        ...      ...               ...   \n",
       "ffbc0fdfbf19a8a9116b68714138f2902cc13      0.0  25075.0               0.0   \n",
       "ffc4e2dd2cc08249f299cab46ecbfacfobmr3      0.0     22.0               0.0   \n",
       "ffd29eb307a4c54610dd2d3d212bf3bagmmpl      0.0      0.0               0.0   \n",
       "ffd62646d600b759a985d45918bd6f0431vmz      0.0    664.0               0.0   \n",
       "fff2c070d8200e0a09150bd81452ce29ngcnv      0.0      0.0               0.0   \n",
       "\n",
       "                                       sporting goods  \n",
       "bidder_id                                              \n",
       "001068c415025a009fee375a12cff4fcnht8y             0.0  \n",
       "002d229ffb247009810828f648afc2ef593rb             0.0  \n",
       "0030a2dd87ad2733e0873062e4f83954mkj86             0.0  \n",
       "003180b29c6a5f8f1d84a6b7b6f7be57tjj1o             0.0  \n",
       "00486a11dff552c4bd7696265724ff81yeo9v             0.0  \n",
       "...                                               ...  \n",
       "ffbc0fdfbf19a8a9116b68714138f2902cc13             0.0  \n",
       "ffc4e2dd2cc08249f299cab46ecbfacfobmr3             0.0  \n",
       "ffd29eb307a4c54610dd2d3d212bf3bagmmpl             1.0  \n",
       "ffd62646d600b759a985d45918bd6f0431vmz             0.0  \n",
       "fff2c070d8200e0a09150bd81452ce29ngcnv             0.0  \n",
       "\n",
       "[6614 rows x 10 columns]"
      ]
     },
     "execution_count": 16,
     "metadata": {},
     "output_type": "execute_result"
    }
   ],
   "source": [
    "# grouped by bidder_id and summed it\n",
    "# no of bids a bidder placed in each merchandise category\n",
    "mpd_count_concat_df = mpd_concat_df.groupby('bidder_id').sum()\n",
    "mpd_count_concat_df"
   ]
  },
  {
   "cell_type": "code",
   "execution_count": 17,
   "metadata": {
    "scrolled": false
   },
   "outputs": [],
   "source": [
    "train_set2 = train_set.merge(mpd_count_concat_df, on='bidder_id', how='left')\n",
    "test_set2 = test_set.merge(mpd_count_concat_df, on='bidder_id', how='left')"
   ]
  },
  {
   "cell_type": "code",
   "execution_count": 18,
   "metadata": {
    "scrolled": false
   },
   "outputs": [],
   "source": [
    "# test set 2 doesn't have autoparts merch category\n",
    "test_set2['auto parts'] = 0"
   ]
  },
  {
   "cell_type": "markdown",
   "metadata": {},
   "source": [
    "### 4: Maximum bids per instant"
   ]
  },
  {
   "cell_type": "code",
   "execution_count": 19,
   "metadata": {},
   "outputs": [
    {
     "data": {
      "text/html": [
       "<div>\n",
       "<style scoped>\n",
       "    .dataframe tbody tr th:only-of-type {\n",
       "        vertical-align: middle;\n",
       "    }\n",
       "\n",
       "    .dataframe tbody tr th {\n",
       "        vertical-align: top;\n",
       "    }\n",
       "\n",
       "    .dataframe thead th {\n",
       "        text-align: right;\n",
       "    }\n",
       "</style>\n",
       "<table border=\"1\" class=\"dataframe\">\n",
       "  <thead>\n",
       "    <tr style=\"text-align: right;\">\n",
       "      <th></th>\n",
       "      <th>bidder_id</th>\n",
       "      <th>time</th>\n",
       "      <th>bids per instant</th>\n",
       "    </tr>\n",
       "  </thead>\n",
       "  <tbody>\n",
       "    <tr>\n",
       "      <th>0</th>\n",
       "      <td>001068c415025a009fee375a12cff4fcnht8y</td>\n",
       "      <td>9706345052631578</td>\n",
       "      <td>1</td>\n",
       "    </tr>\n",
       "    <tr>\n",
       "      <th>1</th>\n",
       "      <td>002d229ffb247009810828f648afc2ef593rb</td>\n",
       "      <td>9766744105263157</td>\n",
       "      <td>1</td>\n",
       "    </tr>\n",
       "    <tr>\n",
       "      <th>2</th>\n",
       "      <td>002d229ffb247009810828f648afc2ef593rb</td>\n",
       "      <td>9766744210526315</td>\n",
       "      <td>1</td>\n",
       "    </tr>\n",
       "    <tr>\n",
       "      <th>3</th>\n",
       "      <td>0030a2dd87ad2733e0873062e4f83954mkj86</td>\n",
       "      <td>9704553947368421</td>\n",
       "      <td>1</td>\n",
       "    </tr>\n",
       "    <tr>\n",
       "      <th>4</th>\n",
       "      <td>003180b29c6a5f8f1d84a6b7b6f7be57tjj1o</td>\n",
       "      <td>9640018631578947</td>\n",
       "      <td>1</td>\n",
       "    </tr>\n",
       "    <tr>\n",
       "      <th>...</th>\n",
       "      <td>...</td>\n",
       "      <td>...</td>\n",
       "      <td>...</td>\n",
       "    </tr>\n",
       "    <tr>\n",
       "      <th>6843513</th>\n",
       "      <td>ffd62646d600b759a985d45918bd6f0431vmz</td>\n",
       "      <td>9772802947368421</td>\n",
       "      <td>1</td>\n",
       "    </tr>\n",
       "    <tr>\n",
       "      <th>6843514</th>\n",
       "      <td>ffd62646d600b759a985d45918bd6f0431vmz</td>\n",
       "      <td>9772811421052631</td>\n",
       "      <td>1</td>\n",
       "    </tr>\n",
       "    <tr>\n",
       "      <th>6843515</th>\n",
       "      <td>ffd62646d600b759a985d45918bd6f0431vmz</td>\n",
       "      <td>9772850052631578</td>\n",
       "      <td>1</td>\n",
       "    </tr>\n",
       "    <tr>\n",
       "      <th>6843516</th>\n",
       "      <td>ffd62646d600b759a985d45918bd6f0431vmz</td>\n",
       "      <td>9772881631578947</td>\n",
       "      <td>1</td>\n",
       "    </tr>\n",
       "    <tr>\n",
       "      <th>6843517</th>\n",
       "      <td>fff2c070d8200e0a09150bd81452ce29ngcnv</td>\n",
       "      <td>9705193473684210</td>\n",
       "      <td>1</td>\n",
       "    </tr>\n",
       "  </tbody>\n",
       "</table>\n",
       "<p>6843518 rows × 3 columns</p>\n",
       "</div>"
      ],
      "text/plain": [
       "                                     bidder_id              time  \\\n",
       "0        001068c415025a009fee375a12cff4fcnht8y  9706345052631578   \n",
       "1        002d229ffb247009810828f648afc2ef593rb  9766744105263157   \n",
       "2        002d229ffb247009810828f648afc2ef593rb  9766744210526315   \n",
       "3        0030a2dd87ad2733e0873062e4f83954mkj86  9704553947368421   \n",
       "4        003180b29c6a5f8f1d84a6b7b6f7be57tjj1o  9640018631578947   \n",
       "...                                        ...               ...   \n",
       "6843513  ffd62646d600b759a985d45918bd6f0431vmz  9772802947368421   \n",
       "6843514  ffd62646d600b759a985d45918bd6f0431vmz  9772811421052631   \n",
       "6843515  ffd62646d600b759a985d45918bd6f0431vmz  9772850052631578   \n",
       "6843516  ffd62646d600b759a985d45918bd6f0431vmz  9772881631578947   \n",
       "6843517  fff2c070d8200e0a09150bd81452ce29ngcnv  9705193473684210   \n",
       "\n",
       "         bids per instant  \n",
       "0                       1  \n",
       "1                       1  \n",
       "2                       1  \n",
       "3                       1  \n",
       "4                       1  \n",
       "...                   ...  \n",
       "6843513                 1  \n",
       "6843514                 1  \n",
       "6843515                 1  \n",
       "6843516                 1  \n",
       "6843517                 1  \n",
       "\n",
       "[6843518 rows x 3 columns]"
      ]
     },
     "execution_count": 19,
     "metadata": {},
     "output_type": "execute_result"
    }
   ],
   "source": [
    "# grouped bids df by bidder_id and time - df of all the instantaneous bids\n",
    "instantaneous_bids = bids.groupby(['bidder_id', 'time']).size().reset_index(name='bids per instant')\n",
    "instantaneous_bids"
   ]
  },
  {
   "cell_type": "code",
   "execution_count": 20,
   "metadata": {
    "scrolled": true
   },
   "outputs": [],
   "source": [
    "# bids placed per instance for every bidder\n",
    "grouped_df = instantaneous_bids.groupby(\"bidder_id\")\n",
    "\n",
    "# maximum instantaneous bids for every bidder\n",
    "maximum_instantaneous_bids_df = grouped_df.max()\n",
    "maximum_instantaneous_bids_df = maximum_instantaneous_bids_df.reset_index()"
   ]
  },
  {
   "cell_type": "code",
   "execution_count": 21,
   "metadata": {
    "scrolled": true
   },
   "outputs": [
    {
     "data": {
      "text/html": [
       "<div>\n",
       "<style scoped>\n",
       "    .dataframe tbody tr th:only-of-type {\n",
       "        vertical-align: middle;\n",
       "    }\n",
       "\n",
       "    .dataframe tbody tr th {\n",
       "        vertical-align: top;\n",
       "    }\n",
       "\n",
       "    .dataframe thead th {\n",
       "        text-align: right;\n",
       "    }\n",
       "</style>\n",
       "<table border=\"1\" class=\"dataframe\">\n",
       "  <thead>\n",
       "    <tr style=\"text-align: right;\">\n",
       "      <th></th>\n",
       "      <th>bidder_id</th>\n",
       "      <th>bids per instant</th>\n",
       "    </tr>\n",
       "  </thead>\n",
       "  <tbody>\n",
       "    <tr>\n",
       "      <th>0</th>\n",
       "      <td>001068c415025a009fee375a12cff4fcnht8y</td>\n",
       "      <td>1</td>\n",
       "    </tr>\n",
       "    <tr>\n",
       "      <th>1</th>\n",
       "      <td>002d229ffb247009810828f648afc2ef593rb</td>\n",
       "      <td>1</td>\n",
       "    </tr>\n",
       "    <tr>\n",
       "      <th>2</th>\n",
       "      <td>0030a2dd87ad2733e0873062e4f83954mkj86</td>\n",
       "      <td>1</td>\n",
       "    </tr>\n",
       "    <tr>\n",
       "      <th>3</th>\n",
       "      <td>003180b29c6a5f8f1d84a6b7b6f7be57tjj1o</td>\n",
       "      <td>1</td>\n",
       "    </tr>\n",
       "    <tr>\n",
       "      <th>4</th>\n",
       "      <td>00486a11dff552c4bd7696265724ff81yeo9v</td>\n",
       "      <td>1</td>\n",
       "    </tr>\n",
       "    <tr>\n",
       "      <th>...</th>\n",
       "      <td>...</td>\n",
       "      <td>...</td>\n",
       "    </tr>\n",
       "    <tr>\n",
       "      <th>6609</th>\n",
       "      <td>ffbc0fdfbf19a8a9116b68714138f2902cc13</td>\n",
       "      <td>5</td>\n",
       "    </tr>\n",
       "    <tr>\n",
       "      <th>6610</th>\n",
       "      <td>ffc4e2dd2cc08249f299cab46ecbfacfobmr3</td>\n",
       "      <td>1</td>\n",
       "    </tr>\n",
       "    <tr>\n",
       "      <th>6611</th>\n",
       "      <td>ffd29eb307a4c54610dd2d3d212bf3bagmmpl</td>\n",
       "      <td>1</td>\n",
       "    </tr>\n",
       "    <tr>\n",
       "      <th>6612</th>\n",
       "      <td>ffd62646d600b759a985d45918bd6f0431vmz</td>\n",
       "      <td>1</td>\n",
       "    </tr>\n",
       "    <tr>\n",
       "      <th>6613</th>\n",
       "      <td>fff2c070d8200e0a09150bd81452ce29ngcnv</td>\n",
       "      <td>1</td>\n",
       "    </tr>\n",
       "  </tbody>\n",
       "</table>\n",
       "<p>6614 rows × 2 columns</p>\n",
       "</div>"
      ],
      "text/plain": [
       "                                  bidder_id  bids per instant\n",
       "0     001068c415025a009fee375a12cff4fcnht8y                 1\n",
       "1     002d229ffb247009810828f648afc2ef593rb                 1\n",
       "2     0030a2dd87ad2733e0873062e4f83954mkj86                 1\n",
       "3     003180b29c6a5f8f1d84a6b7b6f7be57tjj1o                 1\n",
       "4     00486a11dff552c4bd7696265724ff81yeo9v                 1\n",
       "...                                     ...               ...\n",
       "6609  ffbc0fdfbf19a8a9116b68714138f2902cc13                 5\n",
       "6610  ffc4e2dd2cc08249f299cab46ecbfacfobmr3                 1\n",
       "6611  ffd29eb307a4c54610dd2d3d212bf3bagmmpl                 1\n",
       "6612  ffd62646d600b759a985d45918bd6f0431vmz                 1\n",
       "6613  fff2c070d8200e0a09150bd81452ce29ngcnv                 1\n",
       "\n",
       "[6614 rows x 2 columns]"
      ]
     },
     "execution_count": 21,
     "metadata": {},
     "output_type": "execute_result"
    }
   ],
   "source": [
    "maximum_instantaneous_bids_df = maximum_instantaneous_bids_df.drop(columns=['time'])\n",
    "maximum_instantaneous_bids_df"
   ]
  },
  {
   "cell_type": "code",
   "execution_count": 22,
   "metadata": {
    "scrolled": true
   },
   "outputs": [],
   "source": [
    "train_set2 = train_set2.merge(maximum_instantaneous_bids_df, on='bidder_id', how='left')\n",
    "test_set2 = test_set2.merge(maximum_instantaneous_bids_df, on='bidder_id', how='left')"
   ]
  },
  {
   "cell_type": "markdown",
   "metadata": {},
   "source": [
    "### 5: Max bids per auction"
   ]
  },
  {
   "cell_type": "code",
   "execution_count": 23,
   "metadata": {
    "scrolled": false
   },
   "outputs": [
    {
     "data": {
      "text/html": [
       "<div>\n",
       "<style scoped>\n",
       "    .dataframe tbody tr th:only-of-type {\n",
       "        vertical-align: middle;\n",
       "    }\n",
       "\n",
       "    .dataframe tbody tr th {\n",
       "        vertical-align: top;\n",
       "    }\n",
       "\n",
       "    .dataframe thead th {\n",
       "        text-align: right;\n",
       "    }\n",
       "</style>\n",
       "<table border=\"1\" class=\"dataframe\">\n",
       "  <thead>\n",
       "    <tr style=\"text-align: right;\">\n",
       "      <th></th>\n",
       "      <th>bidder_id</th>\n",
       "      <th>auction</th>\n",
       "      <th>bids in an auction</th>\n",
       "    </tr>\n",
       "  </thead>\n",
       "  <tbody>\n",
       "    <tr>\n",
       "      <th>0</th>\n",
       "      <td>001068c415025a009fee375a12cff4fcnht8y</td>\n",
       "      <td>4ifac</td>\n",
       "      <td>1</td>\n",
       "    </tr>\n",
       "    <tr>\n",
       "      <th>1</th>\n",
       "      <td>002d229ffb247009810828f648afc2ef593rb</td>\n",
       "      <td>2tdw2</td>\n",
       "      <td>2</td>\n",
       "    </tr>\n",
       "    <tr>\n",
       "      <th>2</th>\n",
       "      <td>0030a2dd87ad2733e0873062e4f83954mkj86</td>\n",
       "      <td>obbny</td>\n",
       "      <td>1</td>\n",
       "    </tr>\n",
       "    <tr>\n",
       "      <th>3</th>\n",
       "      <td>003180b29c6a5f8f1d84a6b7b6f7be57tjj1o</td>\n",
       "      <td>cqsh6</td>\n",
       "      <td>1</td>\n",
       "    </tr>\n",
       "    <tr>\n",
       "      <th>4</th>\n",
       "      <td>003180b29c6a5f8f1d84a6b7b6f7be57tjj1o</td>\n",
       "      <td>efh5o</td>\n",
       "      <td>1</td>\n",
       "    </tr>\n",
       "    <tr>\n",
       "      <th>...</th>\n",
       "      <td>...</td>\n",
       "      <td>...</td>\n",
       "      <td>...</td>\n",
       "    </tr>\n",
       "    <tr>\n",
       "      <th>382336</th>\n",
       "      <td>ffd62646d600b759a985d45918bd6f0431vmz</td>\n",
       "      <td>wthc6</td>\n",
       "      <td>1</td>\n",
       "    </tr>\n",
       "    <tr>\n",
       "      <th>382337</th>\n",
       "      <td>ffd62646d600b759a985d45918bd6f0431vmz</td>\n",
       "      <td>yfjur</td>\n",
       "      <td>7</td>\n",
       "    </tr>\n",
       "    <tr>\n",
       "      <th>382338</th>\n",
       "      <td>ffd62646d600b759a985d45918bd6f0431vmz</td>\n",
       "      <td>yv5hw</td>\n",
       "      <td>5</td>\n",
       "    </tr>\n",
       "    <tr>\n",
       "      <th>382339</th>\n",
       "      <td>ffd62646d600b759a985d45918bd6f0431vmz</td>\n",
       "      <td>zz4dz</td>\n",
       "      <td>5</td>\n",
       "    </tr>\n",
       "    <tr>\n",
       "      <th>382340</th>\n",
       "      <td>fff2c070d8200e0a09150bd81452ce29ngcnv</td>\n",
       "      <td>2zggz</td>\n",
       "      <td>1</td>\n",
       "    </tr>\n",
       "  </tbody>\n",
       "</table>\n",
       "<p>382341 rows × 3 columns</p>\n",
       "</div>"
      ],
      "text/plain": [
       "                                    bidder_id auction  bids in an auction\n",
       "0       001068c415025a009fee375a12cff4fcnht8y   4ifac                   1\n",
       "1       002d229ffb247009810828f648afc2ef593rb   2tdw2                   2\n",
       "2       0030a2dd87ad2733e0873062e4f83954mkj86   obbny                   1\n",
       "3       003180b29c6a5f8f1d84a6b7b6f7be57tjj1o   cqsh6                   1\n",
       "4       003180b29c6a5f8f1d84a6b7b6f7be57tjj1o   efh5o                   1\n",
       "...                                       ...     ...                 ...\n",
       "382336  ffd62646d600b759a985d45918bd6f0431vmz   wthc6                   1\n",
       "382337  ffd62646d600b759a985d45918bd6f0431vmz   yfjur                   7\n",
       "382338  ffd62646d600b759a985d45918bd6f0431vmz   yv5hw                   5\n",
       "382339  ffd62646d600b759a985d45918bd6f0431vmz   zz4dz                   5\n",
       "382340  fff2c070d8200e0a09150bd81452ce29ngcnv   2zggz                   1\n",
       "\n",
       "[382341 rows x 3 columns]"
      ]
     },
     "execution_count": 23,
     "metadata": {},
     "output_type": "execute_result"
    }
   ],
   "source": [
    "# bids per auction\n",
    "bids2 = bids.groupby(['bidder_id', 'auction']).merchandise.count().reset_index()\n",
    "bids_in_an_auction = bids2.rename(columns={'merchandise':'bids in an auction'})\n",
    "bids_in_an_auction"
   ]
  },
  {
   "cell_type": "code",
   "execution_count": 24,
   "metadata": {},
   "outputs": [
    {
     "data": {
      "text/html": [
       "<div>\n",
       "<style scoped>\n",
       "    .dataframe tbody tr th:only-of-type {\n",
       "        vertical-align: middle;\n",
       "    }\n",
       "\n",
       "    .dataframe tbody tr th {\n",
       "        vertical-align: top;\n",
       "    }\n",
       "\n",
       "    .dataframe thead th {\n",
       "        text-align: right;\n",
       "    }\n",
       "</style>\n",
       "<table border=\"1\" class=\"dataframe\">\n",
       "  <thead>\n",
       "    <tr style=\"text-align: right;\">\n",
       "      <th></th>\n",
       "      <th>bidder_id</th>\n",
       "      <th>bids in an auction</th>\n",
       "    </tr>\n",
       "  </thead>\n",
       "  <tbody>\n",
       "    <tr>\n",
       "      <th>0</th>\n",
       "      <td>001068c415025a009fee375a12cff4fcnht8y</td>\n",
       "      <td>1</td>\n",
       "    </tr>\n",
       "    <tr>\n",
       "      <th>1</th>\n",
       "      <td>002d229ffb247009810828f648afc2ef593rb</td>\n",
       "      <td>2</td>\n",
       "    </tr>\n",
       "    <tr>\n",
       "      <th>2</th>\n",
       "      <td>0030a2dd87ad2733e0873062e4f83954mkj86</td>\n",
       "      <td>1</td>\n",
       "    </tr>\n",
       "    <tr>\n",
       "      <th>3</th>\n",
       "      <td>003180b29c6a5f8f1d84a6b7b6f7be57tjj1o</td>\n",
       "      <td>1</td>\n",
       "    </tr>\n",
       "    <tr>\n",
       "      <th>4</th>\n",
       "      <td>00486a11dff552c4bd7696265724ff81yeo9v</td>\n",
       "      <td>3</td>\n",
       "    </tr>\n",
       "    <tr>\n",
       "      <th>...</th>\n",
       "      <td>...</td>\n",
       "      <td>...</td>\n",
       "    </tr>\n",
       "    <tr>\n",
       "      <th>6609</th>\n",
       "      <td>ffbc0fdfbf19a8a9116b68714138f2902cc13</td>\n",
       "      <td>3682</td>\n",
       "    </tr>\n",
       "    <tr>\n",
       "      <th>6610</th>\n",
       "      <td>ffc4e2dd2cc08249f299cab46ecbfacfobmr3</td>\n",
       "      <td>4</td>\n",
       "    </tr>\n",
       "    <tr>\n",
       "      <th>6611</th>\n",
       "      <td>ffd29eb307a4c54610dd2d3d212bf3bagmmpl</td>\n",
       "      <td>1</td>\n",
       "    </tr>\n",
       "    <tr>\n",
       "      <th>6612</th>\n",
       "      <td>ffd62646d600b759a985d45918bd6f0431vmz</td>\n",
       "      <td>78</td>\n",
       "    </tr>\n",
       "    <tr>\n",
       "      <th>6613</th>\n",
       "      <td>fff2c070d8200e0a09150bd81452ce29ngcnv</td>\n",
       "      <td>1</td>\n",
       "    </tr>\n",
       "  </tbody>\n",
       "</table>\n",
       "<p>6614 rows × 2 columns</p>\n",
       "</div>"
      ],
      "text/plain": [
       "                                  bidder_id  bids in an auction\n",
       "0     001068c415025a009fee375a12cff4fcnht8y                   1\n",
       "1     002d229ffb247009810828f648afc2ef593rb                   2\n",
       "2     0030a2dd87ad2733e0873062e4f83954mkj86                   1\n",
       "3     003180b29c6a5f8f1d84a6b7b6f7be57tjj1o                   1\n",
       "4     00486a11dff552c4bd7696265724ff81yeo9v                   3\n",
       "...                                     ...                 ...\n",
       "6609  ffbc0fdfbf19a8a9116b68714138f2902cc13                3682\n",
       "6610  ffc4e2dd2cc08249f299cab46ecbfacfobmr3                   4\n",
       "6611  ffd29eb307a4c54610dd2d3d212bf3bagmmpl                   1\n",
       "6612  ffd62646d600b759a985d45918bd6f0431vmz                  78\n",
       "6613  fff2c070d8200e0a09150bd81452ce29ngcnv                   1\n",
       "\n",
       "[6614 rows x 2 columns]"
      ]
     },
     "execution_count": 24,
     "metadata": {},
     "output_type": "execute_result"
    }
   ],
   "source": [
    "max_bid_per_auction = bids_in_an_auction.groupby('bidder_id')['bids in an auction'].max().reset_index()\n",
    "max_bid_per_auction"
   ]
  },
  {
   "cell_type": "markdown",
   "metadata": {},
   "source": [
    "### 6: Maximum Simultaneous Auctions/Devices/Countries"
   ]
  },
  {
   "cell_type": "code",
   "execution_count": 25,
   "metadata": {
    "scrolled": true
   },
   "outputs": [
    {
     "data": {
      "text/html": [
       "<div>\n",
       "<style scoped>\n",
       "    .dataframe tbody tr th:only-of-type {\n",
       "        vertical-align: middle;\n",
       "    }\n",
       "\n",
       "    .dataframe tbody tr th {\n",
       "        vertical-align: top;\n",
       "    }\n",
       "\n",
       "    .dataframe thead th {\n",
       "        text-align: right;\n",
       "    }\n",
       "</style>\n",
       "<table border=\"1\" class=\"dataframe\">\n",
       "  <thead>\n",
       "    <tr style=\"text-align: right;\">\n",
       "      <th></th>\n",
       "      <th>bidder_id</th>\n",
       "      <th>time</th>\n",
       "      <th>auction</th>\n",
       "    </tr>\n",
       "  </thead>\n",
       "  <tbody>\n",
       "    <tr>\n",
       "      <th>0</th>\n",
       "      <td>001068c415025a009fee375a12cff4fcnht8y</td>\n",
       "      <td>9706345052631578</td>\n",
       "      <td>1</td>\n",
       "    </tr>\n",
       "    <tr>\n",
       "      <th>1</th>\n",
       "      <td>002d229ffb247009810828f648afc2ef593rb</td>\n",
       "      <td>9766744105263157</td>\n",
       "      <td>1</td>\n",
       "    </tr>\n",
       "    <tr>\n",
       "      <th>2</th>\n",
       "      <td>002d229ffb247009810828f648afc2ef593rb</td>\n",
       "      <td>9766744210526315</td>\n",
       "      <td>1</td>\n",
       "    </tr>\n",
       "    <tr>\n",
       "      <th>3</th>\n",
       "      <td>0030a2dd87ad2733e0873062e4f83954mkj86</td>\n",
       "      <td>9704553947368421</td>\n",
       "      <td>1</td>\n",
       "    </tr>\n",
       "    <tr>\n",
       "      <th>4</th>\n",
       "      <td>003180b29c6a5f8f1d84a6b7b6f7be57tjj1o</td>\n",
       "      <td>9640018631578947</td>\n",
       "      <td>1</td>\n",
       "    </tr>\n",
       "    <tr>\n",
       "      <th>...</th>\n",
       "      <td>...</td>\n",
       "      <td>...</td>\n",
       "      <td>...</td>\n",
       "    </tr>\n",
       "    <tr>\n",
       "      <th>6843513</th>\n",
       "      <td>ffd62646d600b759a985d45918bd6f0431vmz</td>\n",
       "      <td>9772802947368421</td>\n",
       "      <td>1</td>\n",
       "    </tr>\n",
       "    <tr>\n",
       "      <th>6843514</th>\n",
       "      <td>ffd62646d600b759a985d45918bd6f0431vmz</td>\n",
       "      <td>9772811421052631</td>\n",
       "      <td>1</td>\n",
       "    </tr>\n",
       "    <tr>\n",
       "      <th>6843515</th>\n",
       "      <td>ffd62646d600b759a985d45918bd6f0431vmz</td>\n",
       "      <td>9772850052631578</td>\n",
       "      <td>1</td>\n",
       "    </tr>\n",
       "    <tr>\n",
       "      <th>6843516</th>\n",
       "      <td>ffd62646d600b759a985d45918bd6f0431vmz</td>\n",
       "      <td>9772881631578947</td>\n",
       "      <td>1</td>\n",
       "    </tr>\n",
       "    <tr>\n",
       "      <th>6843517</th>\n",
       "      <td>fff2c070d8200e0a09150bd81452ce29ngcnv</td>\n",
       "      <td>9705193473684210</td>\n",
       "      <td>1</td>\n",
       "    </tr>\n",
       "  </tbody>\n",
       "</table>\n",
       "<p>6843518 rows × 3 columns</p>\n",
       "</div>"
      ],
      "text/plain": [
       "                                     bidder_id              time  auction\n",
       "0        001068c415025a009fee375a12cff4fcnht8y  9706345052631578        1\n",
       "1        002d229ffb247009810828f648afc2ef593rb  9766744105263157        1\n",
       "2        002d229ffb247009810828f648afc2ef593rb  9766744210526315        1\n",
       "3        0030a2dd87ad2733e0873062e4f83954mkj86  9704553947368421        1\n",
       "4        003180b29c6a5f8f1d84a6b7b6f7be57tjj1o  9640018631578947        1\n",
       "...                                        ...               ...      ...\n",
       "6843513  ffd62646d600b759a985d45918bd6f0431vmz  9772802947368421        1\n",
       "6843514  ffd62646d600b759a985d45918bd6f0431vmz  9772811421052631        1\n",
       "6843515  ffd62646d600b759a985d45918bd6f0431vmz  9772850052631578        1\n",
       "6843516  ffd62646d600b759a985d45918bd6f0431vmz  9772881631578947        1\n",
       "6843517  fff2c070d8200e0a09150bd81452ce29ngcnv  9705193473684210        1\n",
       "\n",
       "[6843518 rows x 3 columns]"
      ]
     },
     "execution_count": 25,
     "metadata": {},
     "output_type": "execute_result"
    }
   ],
   "source": [
    "# simultaneous auctions\n",
    "# no of auctions occuring for a bidder at every instance of time\n",
    "simul_auction = bids.groupby(['bidder_id', 'time'])['auction'].nunique().reset_index()\n",
    "simul_auction"
   ]
  },
  {
   "cell_type": "code",
   "execution_count": 26,
   "metadata": {
    "scrolled": true
   },
   "outputs": [
    {
     "data": {
      "text/html": [
       "<div>\n",
       "<style scoped>\n",
       "    .dataframe tbody tr th:only-of-type {\n",
       "        vertical-align: middle;\n",
       "    }\n",
       "\n",
       "    .dataframe tbody tr th {\n",
       "        vertical-align: top;\n",
       "    }\n",
       "\n",
       "    .dataframe thead th {\n",
       "        text-align: right;\n",
       "    }\n",
       "</style>\n",
       "<table border=\"1\" class=\"dataframe\">\n",
       "  <thead>\n",
       "    <tr style=\"text-align: right;\">\n",
       "      <th></th>\n",
       "      <th>bidder_id</th>\n",
       "      <th>simultaneous auctions</th>\n",
       "    </tr>\n",
       "  </thead>\n",
       "  <tbody>\n",
       "    <tr>\n",
       "      <th>0</th>\n",
       "      <td>001068c415025a009fee375a12cff4fcnht8y</td>\n",
       "      <td>1</td>\n",
       "    </tr>\n",
       "    <tr>\n",
       "      <th>1</th>\n",
       "      <td>002d229ffb247009810828f648afc2ef593rb</td>\n",
       "      <td>1</td>\n",
       "    </tr>\n",
       "    <tr>\n",
       "      <th>2</th>\n",
       "      <td>0030a2dd87ad2733e0873062e4f83954mkj86</td>\n",
       "      <td>1</td>\n",
       "    </tr>\n",
       "    <tr>\n",
       "      <th>3</th>\n",
       "      <td>003180b29c6a5f8f1d84a6b7b6f7be57tjj1o</td>\n",
       "      <td>1</td>\n",
       "    </tr>\n",
       "    <tr>\n",
       "      <th>4</th>\n",
       "      <td>00486a11dff552c4bd7696265724ff81yeo9v</td>\n",
       "      <td>1</td>\n",
       "    </tr>\n",
       "    <tr>\n",
       "      <th>...</th>\n",
       "      <td>...</td>\n",
       "      <td>...</td>\n",
       "    </tr>\n",
       "    <tr>\n",
       "      <th>6609</th>\n",
       "      <td>ffbc0fdfbf19a8a9116b68714138f2902cc13</td>\n",
       "      <td>4</td>\n",
       "    </tr>\n",
       "    <tr>\n",
       "      <th>6610</th>\n",
       "      <td>ffc4e2dd2cc08249f299cab46ecbfacfobmr3</td>\n",
       "      <td>1</td>\n",
       "    </tr>\n",
       "    <tr>\n",
       "      <th>6611</th>\n",
       "      <td>ffd29eb307a4c54610dd2d3d212bf3bagmmpl</td>\n",
       "      <td>1</td>\n",
       "    </tr>\n",
       "    <tr>\n",
       "      <th>6612</th>\n",
       "      <td>ffd62646d600b759a985d45918bd6f0431vmz</td>\n",
       "      <td>1</td>\n",
       "    </tr>\n",
       "    <tr>\n",
       "      <th>6613</th>\n",
       "      <td>fff2c070d8200e0a09150bd81452ce29ngcnv</td>\n",
       "      <td>1</td>\n",
       "    </tr>\n",
       "  </tbody>\n",
       "</table>\n",
       "<p>6614 rows × 2 columns</p>\n",
       "</div>"
      ],
      "text/plain": [
       "                                  bidder_id  simultaneous auctions\n",
       "0     001068c415025a009fee375a12cff4fcnht8y                      1\n",
       "1     002d229ffb247009810828f648afc2ef593rb                      1\n",
       "2     0030a2dd87ad2733e0873062e4f83954mkj86                      1\n",
       "3     003180b29c6a5f8f1d84a6b7b6f7be57tjj1o                      1\n",
       "4     00486a11dff552c4bd7696265724ff81yeo9v                      1\n",
       "...                                     ...                    ...\n",
       "6609  ffbc0fdfbf19a8a9116b68714138f2902cc13                      4\n",
       "6610  ffc4e2dd2cc08249f299cab46ecbfacfobmr3                      1\n",
       "6611  ffd29eb307a4c54610dd2d3d212bf3bagmmpl                      1\n",
       "6612  ffd62646d600b759a985d45918bd6f0431vmz                      1\n",
       "6613  fff2c070d8200e0a09150bd81452ce29ngcnv                      1\n",
       "\n",
       "[6614 rows x 2 columns]"
      ]
     },
     "execution_count": 26,
     "metadata": {},
     "output_type": "execute_result"
    }
   ],
   "source": [
    "# get maximum value\n",
    "simul_auction = simul_auction.rename(columns={'auction':'simultaneous auctions'})\n",
    "max_simul_auction = simul_auction.groupby('bidder_id')['simultaneous auctions'].max().reset_index()\n",
    "max_simul_auction"
   ]
  },
  {
   "cell_type": "code",
   "execution_count": 27,
   "metadata": {
    "scrolled": true
   },
   "outputs": [
    {
     "data": {
      "text/html": [
       "<div>\n",
       "<style scoped>\n",
       "    .dataframe tbody tr th:only-of-type {\n",
       "        vertical-align: middle;\n",
       "    }\n",
       "\n",
       "    .dataframe tbody tr th {\n",
       "        vertical-align: top;\n",
       "    }\n",
       "\n",
       "    .dataframe thead th {\n",
       "        text-align: right;\n",
       "    }\n",
       "</style>\n",
       "<table border=\"1\" class=\"dataframe\">\n",
       "  <thead>\n",
       "    <tr style=\"text-align: right;\">\n",
       "      <th></th>\n",
       "      <th>bidder_id</th>\n",
       "      <th>simultaneous devices</th>\n",
       "    </tr>\n",
       "  </thead>\n",
       "  <tbody>\n",
       "    <tr>\n",
       "      <th>0</th>\n",
       "      <td>001068c415025a009fee375a12cff4fcnht8y</td>\n",
       "      <td>1</td>\n",
       "    </tr>\n",
       "    <tr>\n",
       "      <th>1</th>\n",
       "      <td>002d229ffb247009810828f648afc2ef593rb</td>\n",
       "      <td>1</td>\n",
       "    </tr>\n",
       "    <tr>\n",
       "      <th>2</th>\n",
       "      <td>0030a2dd87ad2733e0873062e4f83954mkj86</td>\n",
       "      <td>1</td>\n",
       "    </tr>\n",
       "    <tr>\n",
       "      <th>3</th>\n",
       "      <td>003180b29c6a5f8f1d84a6b7b6f7be57tjj1o</td>\n",
       "      <td>1</td>\n",
       "    </tr>\n",
       "    <tr>\n",
       "      <th>4</th>\n",
       "      <td>00486a11dff552c4bd7696265724ff81yeo9v</td>\n",
       "      <td>1</td>\n",
       "    </tr>\n",
       "    <tr>\n",
       "      <th>...</th>\n",
       "      <td>...</td>\n",
       "      <td>...</td>\n",
       "    </tr>\n",
       "    <tr>\n",
       "      <th>6609</th>\n",
       "      <td>ffbc0fdfbf19a8a9116b68714138f2902cc13</td>\n",
       "      <td>5</td>\n",
       "    </tr>\n",
       "    <tr>\n",
       "      <th>6610</th>\n",
       "      <td>ffc4e2dd2cc08249f299cab46ecbfacfobmr3</td>\n",
       "      <td>1</td>\n",
       "    </tr>\n",
       "    <tr>\n",
       "      <th>6611</th>\n",
       "      <td>ffd29eb307a4c54610dd2d3d212bf3bagmmpl</td>\n",
       "      <td>1</td>\n",
       "    </tr>\n",
       "    <tr>\n",
       "      <th>6612</th>\n",
       "      <td>ffd62646d600b759a985d45918bd6f0431vmz</td>\n",
       "      <td>1</td>\n",
       "    </tr>\n",
       "    <tr>\n",
       "      <th>6613</th>\n",
       "      <td>fff2c070d8200e0a09150bd81452ce29ngcnv</td>\n",
       "      <td>1</td>\n",
       "    </tr>\n",
       "  </tbody>\n",
       "</table>\n",
       "<p>6614 rows × 2 columns</p>\n",
       "</div>"
      ],
      "text/plain": [
       "                                  bidder_id  simultaneous devices\n",
       "0     001068c415025a009fee375a12cff4fcnht8y                     1\n",
       "1     002d229ffb247009810828f648afc2ef593rb                     1\n",
       "2     0030a2dd87ad2733e0873062e4f83954mkj86                     1\n",
       "3     003180b29c6a5f8f1d84a6b7b6f7be57tjj1o                     1\n",
       "4     00486a11dff552c4bd7696265724ff81yeo9v                     1\n",
       "...                                     ...                   ...\n",
       "6609  ffbc0fdfbf19a8a9116b68714138f2902cc13                     5\n",
       "6610  ffc4e2dd2cc08249f299cab46ecbfacfobmr3                     1\n",
       "6611  ffd29eb307a4c54610dd2d3d212bf3bagmmpl                     1\n",
       "6612  ffd62646d600b759a985d45918bd6f0431vmz                     1\n",
       "6613  fff2c070d8200e0a09150bd81452ce29ngcnv                     1\n",
       "\n",
       "[6614 rows x 2 columns]"
      ]
     },
     "execution_count": 27,
     "metadata": {},
     "output_type": "execute_result"
    }
   ],
   "source": [
    "# simultaneous devices\n",
    "simul_device = bids.groupby(['bidder_id', 'time'])['device'].nunique().reset_index()\n",
    "simul_device = simul_device.rename(columns={'device':'simultaneous devices'})\n",
    "max_simul_device = simul_device.groupby('bidder_id')['simultaneous devices'].max().reset_index()\n",
    "max_simul_device"
   ]
  },
  {
   "cell_type": "code",
   "execution_count": 28,
   "metadata": {},
   "outputs": [
    {
     "data": {
      "text/html": [
       "<div>\n",
       "<style scoped>\n",
       "    .dataframe tbody tr th:only-of-type {\n",
       "        vertical-align: middle;\n",
       "    }\n",
       "\n",
       "    .dataframe tbody tr th {\n",
       "        vertical-align: top;\n",
       "    }\n",
       "\n",
       "    .dataframe thead th {\n",
       "        text-align: right;\n",
       "    }\n",
       "</style>\n",
       "<table border=\"1\" class=\"dataframe\">\n",
       "  <thead>\n",
       "    <tr style=\"text-align: right;\">\n",
       "      <th></th>\n",
       "      <th>bidder_id</th>\n",
       "      <th>simultaneous countries</th>\n",
       "    </tr>\n",
       "  </thead>\n",
       "  <tbody>\n",
       "    <tr>\n",
       "      <th>0</th>\n",
       "      <td>001068c415025a009fee375a12cff4fcnht8y</td>\n",
       "      <td>1</td>\n",
       "    </tr>\n",
       "    <tr>\n",
       "      <th>1</th>\n",
       "      <td>002d229ffb247009810828f648afc2ef593rb</td>\n",
       "      <td>1</td>\n",
       "    </tr>\n",
       "    <tr>\n",
       "      <th>2</th>\n",
       "      <td>0030a2dd87ad2733e0873062e4f83954mkj86</td>\n",
       "      <td>1</td>\n",
       "    </tr>\n",
       "    <tr>\n",
       "      <th>3</th>\n",
       "      <td>003180b29c6a5f8f1d84a6b7b6f7be57tjj1o</td>\n",
       "      <td>1</td>\n",
       "    </tr>\n",
       "    <tr>\n",
       "      <th>4</th>\n",
       "      <td>00486a11dff552c4bd7696265724ff81yeo9v</td>\n",
       "      <td>1</td>\n",
       "    </tr>\n",
       "    <tr>\n",
       "      <th>...</th>\n",
       "      <td>...</td>\n",
       "      <td>...</td>\n",
       "    </tr>\n",
       "    <tr>\n",
       "      <th>6609</th>\n",
       "      <td>ffbc0fdfbf19a8a9116b68714138f2902cc13</td>\n",
       "      <td>3</td>\n",
       "    </tr>\n",
       "    <tr>\n",
       "      <th>6610</th>\n",
       "      <td>ffc4e2dd2cc08249f299cab46ecbfacfobmr3</td>\n",
       "      <td>1</td>\n",
       "    </tr>\n",
       "    <tr>\n",
       "      <th>6611</th>\n",
       "      <td>ffd29eb307a4c54610dd2d3d212bf3bagmmpl</td>\n",
       "      <td>1</td>\n",
       "    </tr>\n",
       "    <tr>\n",
       "      <th>6612</th>\n",
       "      <td>ffd62646d600b759a985d45918bd6f0431vmz</td>\n",
       "      <td>1</td>\n",
       "    </tr>\n",
       "    <tr>\n",
       "      <th>6613</th>\n",
       "      <td>fff2c070d8200e0a09150bd81452ce29ngcnv</td>\n",
       "      <td>1</td>\n",
       "    </tr>\n",
       "  </tbody>\n",
       "</table>\n",
       "<p>6614 rows × 2 columns</p>\n",
       "</div>"
      ],
      "text/plain": [
       "                                  bidder_id  simultaneous countries\n",
       "0     001068c415025a009fee375a12cff4fcnht8y                       1\n",
       "1     002d229ffb247009810828f648afc2ef593rb                       1\n",
       "2     0030a2dd87ad2733e0873062e4f83954mkj86                       1\n",
       "3     003180b29c6a5f8f1d84a6b7b6f7be57tjj1o                       1\n",
       "4     00486a11dff552c4bd7696265724ff81yeo9v                       1\n",
       "...                                     ...                     ...\n",
       "6609  ffbc0fdfbf19a8a9116b68714138f2902cc13                       3\n",
       "6610  ffc4e2dd2cc08249f299cab46ecbfacfobmr3                       1\n",
       "6611  ffd29eb307a4c54610dd2d3d212bf3bagmmpl                       1\n",
       "6612  ffd62646d600b759a985d45918bd6f0431vmz                       1\n",
       "6613  fff2c070d8200e0a09150bd81452ce29ngcnv                       1\n",
       "\n",
       "[6614 rows x 2 columns]"
      ]
     },
     "execution_count": 28,
     "metadata": {},
     "output_type": "execute_result"
    }
   ],
   "source": [
    "# simultaneous countries\n",
    "simul_country = bids.groupby(['bidder_id', 'time'])['country'].nunique().reset_index()\n",
    "simul_country = simul_country.rename(columns={'country':'simultaneous countries'})\n",
    "max_simul_country = simul_country.groupby('bidder_id')['simultaneous countries'].max().reset_index()\n",
    "max_simul_country"
   ]
  },
  {
   "cell_type": "code",
   "execution_count": 29,
   "metadata": {},
   "outputs": [],
   "source": [
    "train_set2 = train_set2.merge(max_simul_country, on='bidder_id', how='left')\n",
    "test_set2 = test_set2.merge(max_simul_country, on='bidder_id', how='left')\n",
    "\n",
    "train_set2 = train_set2.merge(max_simul_device, on='bidder_id', how='left')\n",
    "test_set2 = test_set2.merge(max_simul_device, on='bidder_id', how='left')\n",
    "\n",
    "train_set2 = train_set2.merge(max_simul_auction, on='bidder_id', how='left')\n",
    "test_set2 = test_set2.merge(max_simul_auction, on='bidder_id', how='left')\n",
    "\n",
    "train_set2 = train_set2.merge(max_bid_per_auction, on='bidder_id', how='left')\n",
    "test_set2 = test_set2.merge(max_bid_per_auction, on='bidder_id', how='left')"
   ]
  },
  {
   "cell_type": "markdown",
   "metadata": {},
   "source": [
    "### 7: No. of Instantaneous Bids"
   ]
  },
  {
   "cell_type": "markdown",
   "metadata": {},
   "source": [
    "Bids placed the instant when an auction started."
   ]
  },
  {
   "cell_type": "markdown",
   "metadata": {},
   "source": [
    "Start time of auction is taken as the earliest that a person bidded."
   ]
  },
  {
   "cell_type": "code",
   "execution_count": 30,
   "metadata": {},
   "outputs": [
    {
     "data": {
      "text/html": [
       "<div>\n",
       "<style scoped>\n",
       "    .dataframe tbody tr th:only-of-type {\n",
       "        vertical-align: middle;\n",
       "    }\n",
       "\n",
       "    .dataframe tbody tr th {\n",
       "        vertical-align: top;\n",
       "    }\n",
       "\n",
       "    .dataframe thead th {\n",
       "        text-align: right;\n",
       "    }\n",
       "</style>\n",
       "<table border=\"1\" class=\"dataframe\">\n",
       "  <thead>\n",
       "    <tr style=\"text-align: right;\">\n",
       "      <th></th>\n",
       "      <th>auction</th>\n",
       "      <th>min auction response time</th>\n",
       "    </tr>\n",
       "  </thead>\n",
       "  <tbody>\n",
       "    <tr>\n",
       "      <th>0</th>\n",
       "      <td>00270</td>\n",
       "      <td>9699049894736842</td>\n",
       "    </tr>\n",
       "    <tr>\n",
       "      <th>1</th>\n",
       "      <td>008vv</td>\n",
       "      <td>9759369421052631</td>\n",
       "    </tr>\n",
       "    <tr>\n",
       "      <th>2</th>\n",
       "      <td>00cwr</td>\n",
       "      <td>9695641631578947</td>\n",
       "    </tr>\n",
       "    <tr>\n",
       "      <th>3</th>\n",
       "      <td>00do0</td>\n",
       "      <td>9759323842105263</td>\n",
       "    </tr>\n",
       "    <tr>\n",
       "      <th>4</th>\n",
       "      <td>00hjy</td>\n",
       "      <td>9759410368421052</td>\n",
       "    </tr>\n",
       "    <tr>\n",
       "      <th>...</th>\n",
       "      <td>...</td>\n",
       "      <td>...</td>\n",
       "    </tr>\n",
       "    <tr>\n",
       "      <th>15046</th>\n",
       "      <td>zznnc</td>\n",
       "      <td>9759595684210526</td>\n",
       "    </tr>\n",
       "    <tr>\n",
       "      <th>15047</th>\n",
       "      <td>zzoy7</td>\n",
       "      <td>9631994105263157</td>\n",
       "    </tr>\n",
       "    <tr>\n",
       "      <th>15048</th>\n",
       "      <td>zztha</td>\n",
       "      <td>9767388947368421</td>\n",
       "    </tr>\n",
       "    <tr>\n",
       "      <th>15049</th>\n",
       "      <td>zzzlx</td>\n",
       "      <td>9759264894736842</td>\n",
       "    </tr>\n",
       "    <tr>\n",
       "      <th>15050</th>\n",
       "      <td>zzzy7</td>\n",
       "      <td>9641482368421052</td>\n",
       "    </tr>\n",
       "  </tbody>\n",
       "</table>\n",
       "<p>15051 rows × 2 columns</p>\n",
       "</div>"
      ],
      "text/plain": [
       "      auction  min auction response time\n",
       "0       00270           9699049894736842\n",
       "1       008vv           9759369421052631\n",
       "2       00cwr           9695641631578947\n",
       "3       00do0           9759323842105263\n",
       "4       00hjy           9759410368421052\n",
       "...       ...                        ...\n",
       "15046   zznnc           9759595684210526\n",
       "15047   zzoy7           9631994105263157\n",
       "15048   zztha           9767388947368421\n",
       "15049   zzzlx           9759264894736842\n",
       "15050   zzzy7           9641482368421052\n",
       "\n",
       "[15051 rows x 2 columns]"
      ]
     },
     "execution_count": 30,
     "metadata": {},
     "output_type": "execute_result"
    }
   ],
   "source": [
    "# start time of auction\n",
    "auction_min_time = bids.groupby('auction').time.min().reset_index()\n",
    "auction_min_time = auction_min_time.rename(columns={'time':'min auction response time'})\n",
    "auction_min_time"
   ]
  },
  {
   "cell_type": "code",
   "execution_count": 31,
   "metadata": {},
   "outputs": [
    {
     "data": {
      "text/html": [
       "<div>\n",
       "<style scoped>\n",
       "    .dataframe tbody tr th:only-of-type {\n",
       "        vertical-align: middle;\n",
       "    }\n",
       "\n",
       "    .dataframe tbody tr th {\n",
       "        vertical-align: top;\n",
       "    }\n",
       "\n",
       "    .dataframe thead th {\n",
       "        text-align: right;\n",
       "    }\n",
       "</style>\n",
       "<table border=\"1\" class=\"dataframe\">\n",
       "  <thead>\n",
       "    <tr style=\"text-align: right;\">\n",
       "      <th></th>\n",
       "      <th>bidder_id</th>\n",
       "      <th>auction</th>\n",
       "      <th>time</th>\n",
       "    </tr>\n",
       "  </thead>\n",
       "  <tbody>\n",
       "    <tr>\n",
       "      <th>0</th>\n",
       "      <td>001068c415025a009fee375a12cff4fcnht8y</td>\n",
       "      <td>4ifac</td>\n",
       "      <td>9706345052631578</td>\n",
       "    </tr>\n",
       "    <tr>\n",
       "      <th>1</th>\n",
       "      <td>002d229ffb247009810828f648afc2ef593rb</td>\n",
       "      <td>2tdw2</td>\n",
       "      <td>9766744105263157</td>\n",
       "    </tr>\n",
       "    <tr>\n",
       "      <th>2</th>\n",
       "      <td>0030a2dd87ad2733e0873062e4f83954mkj86</td>\n",
       "      <td>obbny</td>\n",
       "      <td>9704553947368421</td>\n",
       "    </tr>\n",
       "    <tr>\n",
       "      <th>3</th>\n",
       "      <td>003180b29c6a5f8f1d84a6b7b6f7be57tjj1o</td>\n",
       "      <td>cqsh6</td>\n",
       "      <td>9700605052631578</td>\n",
       "    </tr>\n",
       "    <tr>\n",
       "      <th>4</th>\n",
       "      <td>003180b29c6a5f8f1d84a6b7b6f7be57tjj1o</td>\n",
       "      <td>efh5o</td>\n",
       "      <td>9705974315789473</td>\n",
       "    </tr>\n",
       "    <tr>\n",
       "      <th>...</th>\n",
       "      <td>...</td>\n",
       "      <td>...</td>\n",
       "      <td>...</td>\n",
       "    </tr>\n",
       "    <tr>\n",
       "      <th>382336</th>\n",
       "      <td>ffd62646d600b759a985d45918bd6f0431vmz</td>\n",
       "      <td>wthc6</td>\n",
       "      <td>9765413157894736</td>\n",
       "    </tr>\n",
       "    <tr>\n",
       "      <th>382337</th>\n",
       "      <td>ffd62646d600b759a985d45918bd6f0431vmz</td>\n",
       "      <td>yfjur</td>\n",
       "      <td>9761803894736842</td>\n",
       "    </tr>\n",
       "    <tr>\n",
       "      <th>382338</th>\n",
       "      <td>ffd62646d600b759a985d45918bd6f0431vmz</td>\n",
       "      <td>yv5hw</td>\n",
       "      <td>9761075368421052</td>\n",
       "    </tr>\n",
       "    <tr>\n",
       "      <th>382339</th>\n",
       "      <td>ffd62646d600b759a985d45918bd6f0431vmz</td>\n",
       "      <td>zz4dz</td>\n",
       "      <td>9759382578947368</td>\n",
       "    </tr>\n",
       "    <tr>\n",
       "      <th>382340</th>\n",
       "      <td>fff2c070d8200e0a09150bd81452ce29ngcnv</td>\n",
       "      <td>2zggz</td>\n",
       "      <td>9705193473684210</td>\n",
       "    </tr>\n",
       "  </tbody>\n",
       "</table>\n",
       "<p>382341 rows × 3 columns</p>\n",
       "</div>"
      ],
      "text/plain": [
       "                                    bidder_id auction              time\n",
       "0       001068c415025a009fee375a12cff4fcnht8y   4ifac  9706345052631578\n",
       "1       002d229ffb247009810828f648afc2ef593rb   2tdw2  9766744105263157\n",
       "2       0030a2dd87ad2733e0873062e4f83954mkj86   obbny  9704553947368421\n",
       "3       003180b29c6a5f8f1d84a6b7b6f7be57tjj1o   cqsh6  9700605052631578\n",
       "4       003180b29c6a5f8f1d84a6b7b6f7be57tjj1o   efh5o  9705974315789473\n",
       "...                                       ...     ...               ...\n",
       "382336  ffd62646d600b759a985d45918bd6f0431vmz   wthc6  9765413157894736\n",
       "382337  ffd62646d600b759a985d45918bd6f0431vmz   yfjur  9761803894736842\n",
       "382338  ffd62646d600b759a985d45918bd6f0431vmz   yv5hw  9761075368421052\n",
       "382339  ffd62646d600b759a985d45918bd6f0431vmz   zz4dz  9759382578947368\n",
       "382340  fff2c070d8200e0a09150bd81452ce29ngcnv   2zggz  9705193473684210\n",
       "\n",
       "[382341 rows x 3 columns]"
      ]
     },
     "execution_count": 31,
     "metadata": {},
     "output_type": "execute_result"
    }
   ],
   "source": [
    "# earliest that a bidder started bidding for an auction\n",
    "earliest_bidder_times = bids.groupby(['bidder_id', 'auction']).time.min().reset_index()\n",
    "earliest_bidder_times"
   ]
  },
  {
   "cell_type": "code",
   "execution_count": 32,
   "metadata": {
    "scrolled": true
   },
   "outputs": [
    {
     "data": {
      "text/html": [
       "<div>\n",
       "<style scoped>\n",
       "    .dataframe tbody tr th:only-of-type {\n",
       "        vertical-align: middle;\n",
       "    }\n",
       "\n",
       "    .dataframe tbody tr th {\n",
       "        vertical-align: top;\n",
       "    }\n",
       "\n",
       "    .dataframe thead th {\n",
       "        text-align: right;\n",
       "    }\n",
       "</style>\n",
       "<table border=\"1\" class=\"dataframe\">\n",
       "  <thead>\n",
       "    <tr style=\"text-align: right;\">\n",
       "      <th></th>\n",
       "      <th>bidder_id</th>\n",
       "      <th>auction</th>\n",
       "      <th>time</th>\n",
       "      <th>min auction response time</th>\n",
       "    </tr>\n",
       "  </thead>\n",
       "  <tbody>\n",
       "    <tr>\n",
       "      <th>0</th>\n",
       "      <td>001068c415025a009fee375a12cff4fcnht8y</td>\n",
       "      <td>4ifac</td>\n",
       "      <td>9706345052631578</td>\n",
       "      <td>9631954473684210</td>\n",
       "    </tr>\n",
       "    <tr>\n",
       "      <th>1</th>\n",
       "      <td>002d229ffb247009810828f648afc2ef593rb</td>\n",
       "      <td>2tdw2</td>\n",
       "      <td>9766744105263157</td>\n",
       "      <td>9766598631578947</td>\n",
       "    </tr>\n",
       "    <tr>\n",
       "      <th>2</th>\n",
       "      <td>0030a2dd87ad2733e0873062e4f83954mkj86</td>\n",
       "      <td>obbny</td>\n",
       "      <td>9704553947368421</td>\n",
       "      <td>9631917052631578</td>\n",
       "    </tr>\n",
       "    <tr>\n",
       "      <th>3</th>\n",
       "      <td>003180b29c6a5f8f1d84a6b7b6f7be57tjj1o</td>\n",
       "      <td>cqsh6</td>\n",
       "      <td>9700605052631578</td>\n",
       "      <td>9695609789473684</td>\n",
       "    </tr>\n",
       "    <tr>\n",
       "      <th>4</th>\n",
       "      <td>003180b29c6a5f8f1d84a6b7b6f7be57tjj1o</td>\n",
       "      <td>efh5o</td>\n",
       "      <td>9705974315789473</td>\n",
       "      <td>9698507526315789</td>\n",
       "    </tr>\n",
       "    <tr>\n",
       "      <th>...</th>\n",
       "      <td>...</td>\n",
       "      <td>...</td>\n",
       "      <td>...</td>\n",
       "      <td>...</td>\n",
       "    </tr>\n",
       "    <tr>\n",
       "      <th>382336</th>\n",
       "      <td>ffd62646d600b759a985d45918bd6f0431vmz</td>\n",
       "      <td>wthc6</td>\n",
       "      <td>9765413157894736</td>\n",
       "      <td>9759789315789473</td>\n",
       "    </tr>\n",
       "    <tr>\n",
       "      <th>382337</th>\n",
       "      <td>ffd62646d600b759a985d45918bd6f0431vmz</td>\n",
       "      <td>yfjur</td>\n",
       "      <td>9761803894736842</td>\n",
       "      <td>9760490421052631</td>\n",
       "    </tr>\n",
       "    <tr>\n",
       "      <th>382338</th>\n",
       "      <td>ffd62646d600b759a985d45918bd6f0431vmz</td>\n",
       "      <td>yv5hw</td>\n",
       "      <td>9761075368421052</td>\n",
       "      <td>9759274052631578</td>\n",
       "    </tr>\n",
       "    <tr>\n",
       "      <th>382339</th>\n",
       "      <td>ffd62646d600b759a985d45918bd6f0431vmz</td>\n",
       "      <td>zz4dz</td>\n",
       "      <td>9759382578947368</td>\n",
       "      <td>9759296263157894</td>\n",
       "    </tr>\n",
       "    <tr>\n",
       "      <th>382340</th>\n",
       "      <td>fff2c070d8200e0a09150bd81452ce29ngcnv</td>\n",
       "      <td>2zggz</td>\n",
       "      <td>9705193473684210</td>\n",
       "      <td>9631940421052631</td>\n",
       "    </tr>\n",
       "  </tbody>\n",
       "</table>\n",
       "<p>382341 rows × 4 columns</p>\n",
       "</div>"
      ],
      "text/plain": [
       "                                    bidder_id auction              time  \\\n",
       "0       001068c415025a009fee375a12cff4fcnht8y   4ifac  9706345052631578   \n",
       "1       002d229ffb247009810828f648afc2ef593rb   2tdw2  9766744105263157   \n",
       "2       0030a2dd87ad2733e0873062e4f83954mkj86   obbny  9704553947368421   \n",
       "3       003180b29c6a5f8f1d84a6b7b6f7be57tjj1o   cqsh6  9700605052631578   \n",
       "4       003180b29c6a5f8f1d84a6b7b6f7be57tjj1o   efh5o  9705974315789473   \n",
       "...                                       ...     ...               ...   \n",
       "382336  ffd62646d600b759a985d45918bd6f0431vmz   wthc6  9765413157894736   \n",
       "382337  ffd62646d600b759a985d45918bd6f0431vmz   yfjur  9761803894736842   \n",
       "382338  ffd62646d600b759a985d45918bd6f0431vmz   yv5hw  9761075368421052   \n",
       "382339  ffd62646d600b759a985d45918bd6f0431vmz   zz4dz  9759382578947368   \n",
       "382340  fff2c070d8200e0a09150bd81452ce29ngcnv   2zggz  9705193473684210   \n",
       "\n",
       "        min auction response time  \n",
       "0                9631954473684210  \n",
       "1                9766598631578947  \n",
       "2                9631917052631578  \n",
       "3                9695609789473684  \n",
       "4                9698507526315789  \n",
       "...                           ...  \n",
       "382336           9759789315789473  \n",
       "382337           9760490421052631  \n",
       "382338           9759274052631578  \n",
       "382339           9759296263157894  \n",
       "382340           9631940421052631  \n",
       "\n",
       "[382341 rows x 4 columns]"
      ]
     },
     "execution_count": 32,
     "metadata": {},
     "output_type": "execute_result"
    }
   ],
   "source": [
    "merged_time_df = earliest_bidder_times.merge(auction_min_time, on='auction', how='left')\n",
    "merged_time_df"
   ]
  },
  {
   "cell_type": "code",
   "execution_count": 33,
   "metadata": {
    "scrolled": false
   },
   "outputs": [
    {
     "data": {
      "text/html": [
       "<div>\n",
       "<style scoped>\n",
       "    .dataframe tbody tr th:only-of-type {\n",
       "        vertical-align: middle;\n",
       "    }\n",
       "\n",
       "    .dataframe tbody tr th {\n",
       "        vertical-align: top;\n",
       "    }\n",
       "\n",
       "    .dataframe thead th {\n",
       "        text-align: right;\n",
       "    }\n",
       "</style>\n",
       "<table border=\"1\" class=\"dataframe\">\n",
       "  <thead>\n",
       "    <tr style=\"text-align: right;\">\n",
       "      <th></th>\n",
       "      <th>bidder_id</th>\n",
       "      <th>auction</th>\n",
       "      <th>time</th>\n",
       "      <th>min auction response time</th>\n",
       "    </tr>\n",
       "  </thead>\n",
       "  <tbody>\n",
       "    <tr>\n",
       "      <th>49</th>\n",
       "      <td>0053b78cde37c4384a20d2da9aa4272aym4pb</td>\n",
       "      <td>28448</td>\n",
       "      <td>9632683368421052</td>\n",
       "      <td>9632683368421052</td>\n",
       "    </tr>\n",
       "    <tr>\n",
       "      <th>107</th>\n",
       "      <td>0053b78cde37c4384a20d2da9aa4272aym4pb</td>\n",
       "      <td>882qm</td>\n",
       "      <td>9707753157894736</td>\n",
       "      <td>9707753157894736</td>\n",
       "    </tr>\n",
       "    <tr>\n",
       "      <th>343</th>\n",
       "      <td>0053b78cde37c4384a20d2da9aa4272aym4pb</td>\n",
       "      <td>rwoqu</td>\n",
       "      <td>9696860052631578</td>\n",
       "      <td>9696860052631578</td>\n",
       "    </tr>\n",
       "    <tr>\n",
       "      <th>406</th>\n",
       "      <td>0053b78cde37c4384a20d2da9aa4272aym4pb</td>\n",
       "      <td>xwq8k</td>\n",
       "      <td>9695611684210526</td>\n",
       "      <td>9695611684210526</td>\n",
       "    </tr>\n",
       "    <tr>\n",
       "      <th>552</th>\n",
       "      <td>00a79ebd15f0b24a0a3b5794457cd8ed7dng1</td>\n",
       "      <td>32aid</td>\n",
       "      <td>9632653894736842</td>\n",
       "      <td>9632653894736842</td>\n",
       "    </tr>\n",
       "    <tr>\n",
       "      <th>...</th>\n",
       "      <td>...</td>\n",
       "      <td>...</td>\n",
       "      <td>...</td>\n",
       "      <td>...</td>\n",
       "    </tr>\n",
       "    <tr>\n",
       "      <th>382096</th>\n",
       "      <td>ffbc0fdfbf19a8a9116b68714138f2902cc13</td>\n",
       "      <td>qkzcn</td>\n",
       "      <td>9763493736842105</td>\n",
       "      <td>9763493736842105</td>\n",
       "    </tr>\n",
       "    <tr>\n",
       "      <th>382158</th>\n",
       "      <td>ffbc0fdfbf19a8a9116b68714138f2902cc13</td>\n",
       "      <td>tuhay</td>\n",
       "      <td>9759243315789473</td>\n",
       "      <td>9759243315789473</td>\n",
       "    </tr>\n",
       "    <tr>\n",
       "      <th>382257</th>\n",
       "      <td>ffbc0fdfbf19a8a9116b68714138f2902cc13</td>\n",
       "      <td>z9whw</td>\n",
       "      <td>9759339263157894</td>\n",
       "      <td>9759339263157894</td>\n",
       "    </tr>\n",
       "    <tr>\n",
       "      <th>382330</th>\n",
       "      <td>ffd62646d600b759a985d45918bd6f0431vmz</td>\n",
       "      <td>tq6eu</td>\n",
       "      <td>9759381315789473</td>\n",
       "      <td>9759381315789473</td>\n",
       "    </tr>\n",
       "    <tr>\n",
       "      <th>382333</th>\n",
       "      <td>ffd62646d600b759a985d45918bd6f0431vmz</td>\n",
       "      <td>vs8fu</td>\n",
       "      <td>9759270736842105</td>\n",
       "      <td>9759270736842105</td>\n",
       "    </tr>\n",
       "  </tbody>\n",
       "</table>\n",
       "<p>15092 rows × 4 columns</p>\n",
       "</div>"
      ],
      "text/plain": [
       "                                    bidder_id auction              time  \\\n",
       "49      0053b78cde37c4384a20d2da9aa4272aym4pb   28448  9632683368421052   \n",
       "107     0053b78cde37c4384a20d2da9aa4272aym4pb   882qm  9707753157894736   \n",
       "343     0053b78cde37c4384a20d2da9aa4272aym4pb   rwoqu  9696860052631578   \n",
       "406     0053b78cde37c4384a20d2da9aa4272aym4pb   xwq8k  9695611684210526   \n",
       "552     00a79ebd15f0b24a0a3b5794457cd8ed7dng1   32aid  9632653894736842   \n",
       "...                                       ...     ...               ...   \n",
       "382096  ffbc0fdfbf19a8a9116b68714138f2902cc13   qkzcn  9763493736842105   \n",
       "382158  ffbc0fdfbf19a8a9116b68714138f2902cc13   tuhay  9759243315789473   \n",
       "382257  ffbc0fdfbf19a8a9116b68714138f2902cc13   z9whw  9759339263157894   \n",
       "382330  ffd62646d600b759a985d45918bd6f0431vmz   tq6eu  9759381315789473   \n",
       "382333  ffd62646d600b759a985d45918bd6f0431vmz   vs8fu  9759270736842105   \n",
       "\n",
       "        min auction response time  \n",
       "49               9632683368421052  \n",
       "107              9707753157894736  \n",
       "343              9696860052631578  \n",
       "406              9695611684210526  \n",
       "552              9632653894736842  \n",
       "...                           ...  \n",
       "382096           9763493736842105  \n",
       "382158           9759243315789473  \n",
       "382257           9759339263157894  \n",
       "382330           9759381315789473  \n",
       "382333           9759270736842105  \n",
       "\n",
       "[15092 rows x 4 columns]"
      ]
     },
     "execution_count": 33,
     "metadata": {},
     "output_type": "execute_result"
    }
   ],
   "source": [
    "# bidders who placed the earliest bids/placed bids at 'start time' of auction\n",
    "fastest_bidders = merged_time_df[merged_time_df['time'] == merged_time_df['min auction response time']]\n",
    "fastest_bidders"
   ]
  },
  {
   "cell_type": "code",
   "execution_count": 34,
   "metadata": {},
   "outputs": [
    {
     "data": {
      "text/html": [
       "<div>\n",
       "<style scoped>\n",
       "    .dataframe tbody tr th:only-of-type {\n",
       "        vertical-align: middle;\n",
       "    }\n",
       "\n",
       "    .dataframe tbody tr th {\n",
       "        vertical-align: top;\n",
       "    }\n",
       "\n",
       "    .dataframe thead th {\n",
       "        text-align: right;\n",
       "    }\n",
       "</style>\n",
       "<table border=\"1\" class=\"dataframe\">\n",
       "  <thead>\n",
       "    <tr style=\"text-align: right;\">\n",
       "      <th></th>\n",
       "      <th>bidder_id</th>\n",
       "      <th>auction</th>\n",
       "    </tr>\n",
       "  </thead>\n",
       "  <tbody>\n",
       "    <tr>\n",
       "      <th>229</th>\n",
       "      <td>29c103503e1d6ace5626fb07a5ab0dafrtjvs</td>\n",
       "      <td>563</td>\n",
       "    </tr>\n",
       "    <tr>\n",
       "      <th>1204</th>\n",
       "      <td>cffb5f3c1f4ca815d0f643fcb2f2f316beod4</td>\n",
       "      <td>511</td>\n",
       "    </tr>\n",
       "    <tr>\n",
       "      <th>576</th>\n",
       "      <td>6713e820273f591bdff7d26a48ee30c5k4iii</td>\n",
       "      <td>510</td>\n",
       "    </tr>\n",
       "    <tr>\n",
       "      <th>1421</th>\n",
       "      <td>f5b2bbad20d1d7ded3ed960393bec0f40u6hn</td>\n",
       "      <td>323</td>\n",
       "    </tr>\n",
       "    <tr>\n",
       "      <th>1136</th>\n",
       "      <td>c4856fd5abe8f6d6dea36ca2fec444faauos8</td>\n",
       "      <td>320</td>\n",
       "    </tr>\n",
       "    <tr>\n",
       "      <th>...</th>\n",
       "      <td>...</td>\n",
       "      <td>...</td>\n",
       "    </tr>\n",
       "    <tr>\n",
       "      <th>724</th>\n",
       "      <td>7e4a99f7ae5fe3a098c9c3f21b9a5cbfa4w4t</td>\n",
       "      <td>1</td>\n",
       "    </tr>\n",
       "    <tr>\n",
       "      <th>1075</th>\n",
       "      <td>ba319b8bb68ca6a12086f2410ca7fb3buxsei</td>\n",
       "      <td>1</td>\n",
       "    </tr>\n",
       "    <tr>\n",
       "      <th>1077</th>\n",
       "      <td>ba8af5f6df4c6da6274a775e2234c48dbvus0</td>\n",
       "      <td>1</td>\n",
       "    </tr>\n",
       "    <tr>\n",
       "      <th>214</th>\n",
       "      <td>2797fe80977297483e724b8390161c937dh4g</td>\n",
       "      <td>1</td>\n",
       "    </tr>\n",
       "    <tr>\n",
       "      <th>516</th>\n",
       "      <td>5e0487d6779bb0420d8e9bbf8d9004f72fd0o</td>\n",
       "      <td>1</td>\n",
       "    </tr>\n",
       "  </tbody>\n",
       "</table>\n",
       "<p>1472 rows × 2 columns</p>\n",
       "</div>"
      ],
      "text/plain": [
       "                                  bidder_id  auction\n",
       "229   29c103503e1d6ace5626fb07a5ab0dafrtjvs      563\n",
       "1204  cffb5f3c1f4ca815d0f643fcb2f2f316beod4      511\n",
       "576   6713e820273f591bdff7d26a48ee30c5k4iii      510\n",
       "1421  f5b2bbad20d1d7ded3ed960393bec0f40u6hn      323\n",
       "1136  c4856fd5abe8f6d6dea36ca2fec444faauos8      320\n",
       "...                                     ...      ...\n",
       "724   7e4a99f7ae5fe3a098c9c3f21b9a5cbfa4w4t        1\n",
       "1075  ba319b8bb68ca6a12086f2410ca7fb3buxsei        1\n",
       "1077  ba8af5f6df4c6da6274a775e2234c48dbvus0        1\n",
       "214   2797fe80977297483e724b8390161c937dh4g        1\n",
       "516   5e0487d6779bb0420d8e9bbf8d9004f72fd0o        1\n",
       "\n",
       "[1472 rows x 2 columns]"
      ]
     },
     "execution_count": 34,
     "metadata": {},
     "output_type": "execute_result"
    }
   ],
   "source": [
    "# no. of times they were the first person to bid in an auction\n",
    "no_of_first_bids = fastest_bidders.groupby('bidder_id').auction.count().reset_index()\n",
    "no_of_first_bids.sort_values(by='auction', ascending=False)"
   ]
  },
  {
   "cell_type": "code",
   "execution_count": 35,
   "metadata": {
    "scrolled": true
   },
   "outputs": [
    {
     "data": {
      "text/html": [
       "<div>\n",
       "<style scoped>\n",
       "    .dataframe tbody tr th:only-of-type {\n",
       "        vertical-align: middle;\n",
       "    }\n",
       "\n",
       "    .dataframe tbody tr th {\n",
       "        vertical-align: top;\n",
       "    }\n",
       "\n",
       "    .dataframe thead th {\n",
       "        text-align: right;\n",
       "    }\n",
       "</style>\n",
       "<table border=\"1\" class=\"dataframe\">\n",
       "  <thead>\n",
       "    <tr style=\"text-align: right;\">\n",
       "      <th></th>\n",
       "      <th>bidder_id</th>\n",
       "      <th>no of first bids</th>\n",
       "    </tr>\n",
       "  </thead>\n",
       "  <tbody>\n",
       "    <tr>\n",
       "      <th>0</th>\n",
       "      <td>0053b78cde37c4384a20d2da9aa4272aym4pb</td>\n",
       "      <td>4</td>\n",
       "    </tr>\n",
       "    <tr>\n",
       "      <th>1</th>\n",
       "      <td>00a79ebd15f0b24a0a3b5794457cd8ed7dng1</td>\n",
       "      <td>7</td>\n",
       "    </tr>\n",
       "    <tr>\n",
       "      <th>2</th>\n",
       "      <td>00e0f614d9dd32dd27f6080f472d2934emlos</td>\n",
       "      <td>6</td>\n",
       "    </tr>\n",
       "    <tr>\n",
       "      <th>3</th>\n",
       "      <td>019cf2d366df756c092c91e26f406acdozha7</td>\n",
       "      <td>2</td>\n",
       "    </tr>\n",
       "    <tr>\n",
       "      <th>4</th>\n",
       "      <td>01cda526658455000913950f20cf31a2q6nsf</td>\n",
       "      <td>8</td>\n",
       "    </tr>\n",
       "    <tr>\n",
       "      <th>...</th>\n",
       "      <td>...</td>\n",
       "      <td>...</td>\n",
       "    </tr>\n",
       "    <tr>\n",
       "      <th>1467</th>\n",
       "      <td>ff58ffde976a4899dcd89597a7877e18lntgz</td>\n",
       "      <td>1</td>\n",
       "    </tr>\n",
       "    <tr>\n",
       "      <th>1468</th>\n",
       "      <td>ff74c92e8503ad93ac6c51695b373e644hzbn</td>\n",
       "      <td>28</td>\n",
       "    </tr>\n",
       "    <tr>\n",
       "      <th>1469</th>\n",
       "      <td>ffa7b0b0f144b1594131d99e50c17a0bwbym3</td>\n",
       "      <td>4</td>\n",
       "    </tr>\n",
       "    <tr>\n",
       "      <th>1470</th>\n",
       "      <td>ffbc0fdfbf19a8a9116b68714138f2902cc13</td>\n",
       "      <td>12</td>\n",
       "    </tr>\n",
       "    <tr>\n",
       "      <th>1471</th>\n",
       "      <td>ffd62646d600b759a985d45918bd6f0431vmz</td>\n",
       "      <td>2</td>\n",
       "    </tr>\n",
       "  </tbody>\n",
       "</table>\n",
       "<p>1472 rows × 2 columns</p>\n",
       "</div>"
      ],
      "text/plain": [
       "                                  bidder_id  no of first bids\n",
       "0     0053b78cde37c4384a20d2da9aa4272aym4pb                 4\n",
       "1     00a79ebd15f0b24a0a3b5794457cd8ed7dng1                 7\n",
       "2     00e0f614d9dd32dd27f6080f472d2934emlos                 6\n",
       "3     019cf2d366df756c092c91e26f406acdozha7                 2\n",
       "4     01cda526658455000913950f20cf31a2q6nsf                 8\n",
       "...                                     ...               ...\n",
       "1467  ff58ffde976a4899dcd89597a7877e18lntgz                 1\n",
       "1468  ff74c92e8503ad93ac6c51695b373e644hzbn                28\n",
       "1469  ffa7b0b0f144b1594131d99e50c17a0bwbym3                 4\n",
       "1470  ffbc0fdfbf19a8a9116b68714138f2902cc13                12\n",
       "1471  ffd62646d600b759a985d45918bd6f0431vmz                 2\n",
       "\n",
       "[1472 rows x 2 columns]"
      ]
     },
     "execution_count": 35,
     "metadata": {},
     "output_type": "execute_result"
    }
   ],
   "source": [
    "no_of_first_bids = no_of_first_bids.rename(columns={'auction':'no of first bids'})\n",
    "no_of_first_bids"
   ]
  },
  {
   "cell_type": "markdown",
   "metadata": {},
   "source": [
    "### 8: Mean/Min Delay Time"
   ]
  },
  {
   "cell_type": "code",
   "execution_count": 36,
   "metadata": {
    "scrolled": false
   },
   "outputs": [
    {
     "data": {
      "text/html": [
       "<div>\n",
       "<style scoped>\n",
       "    .dataframe tbody tr th:only-of-type {\n",
       "        vertical-align: middle;\n",
       "    }\n",
       "\n",
       "    .dataframe tbody tr th {\n",
       "        vertical-align: top;\n",
       "    }\n",
       "\n",
       "    .dataframe thead th {\n",
       "        text-align: right;\n",
       "    }\n",
       "</style>\n",
       "<table border=\"1\" class=\"dataframe\">\n",
       "  <thead>\n",
       "    <tr style=\"text-align: right;\">\n",
       "      <th></th>\n",
       "      <th>bidder_id</th>\n",
       "      <th>delay</th>\n",
       "    </tr>\n",
       "  </thead>\n",
       "  <tbody>\n",
       "    <tr>\n",
       "      <th>0</th>\n",
       "      <td>001068c415025a009fee375a12cff4fcnht8y</td>\n",
       "      <td>74390578947368</td>\n",
       "    </tr>\n",
       "    <tr>\n",
       "      <th>1</th>\n",
       "      <td>002d229ffb247009810828f648afc2ef593rb</td>\n",
       "      <td>145473684210</td>\n",
       "    </tr>\n",
       "    <tr>\n",
       "      <th>2</th>\n",
       "      <td>0030a2dd87ad2733e0873062e4f83954mkj86</td>\n",
       "      <td>72636894736843</td>\n",
       "    </tr>\n",
       "    <tr>\n",
       "      <th>3</th>\n",
       "      <td>003180b29c6a5f8f1d84a6b7b6f7be57tjj1o</td>\n",
       "      <td>4995263157894</td>\n",
       "    </tr>\n",
       "    <tr>\n",
       "      <th>4</th>\n",
       "      <td>003180b29c6a5f8f1d84a6b7b6f7be57tjj1o</td>\n",
       "      <td>7466789473684</td>\n",
       "    </tr>\n",
       "    <tr>\n",
       "      <th>...</th>\n",
       "      <td>...</td>\n",
       "      <td>...</td>\n",
       "    </tr>\n",
       "    <tr>\n",
       "      <th>382336</th>\n",
       "      <td>ffd62646d600b759a985d45918bd6f0431vmz</td>\n",
       "      <td>5623842105263</td>\n",
       "    </tr>\n",
       "    <tr>\n",
       "      <th>382337</th>\n",
       "      <td>ffd62646d600b759a985d45918bd6f0431vmz</td>\n",
       "      <td>1313473684211</td>\n",
       "    </tr>\n",
       "    <tr>\n",
       "      <th>382338</th>\n",
       "      <td>ffd62646d600b759a985d45918bd6f0431vmz</td>\n",
       "      <td>1801315789474</td>\n",
       "    </tr>\n",
       "    <tr>\n",
       "      <th>382339</th>\n",
       "      <td>ffd62646d600b759a985d45918bd6f0431vmz</td>\n",
       "      <td>86315789474</td>\n",
       "    </tr>\n",
       "    <tr>\n",
       "      <th>382340</th>\n",
       "      <td>fff2c070d8200e0a09150bd81452ce29ngcnv</td>\n",
       "      <td>73253052631579</td>\n",
       "    </tr>\n",
       "  </tbody>\n",
       "</table>\n",
       "<p>382341 rows × 2 columns</p>\n",
       "</div>"
      ],
      "text/plain": [
       "                                    bidder_id           delay\n",
       "0       001068c415025a009fee375a12cff4fcnht8y  74390578947368\n",
       "1       002d229ffb247009810828f648afc2ef593rb    145473684210\n",
       "2       0030a2dd87ad2733e0873062e4f83954mkj86  72636894736843\n",
       "3       003180b29c6a5f8f1d84a6b7b6f7be57tjj1o   4995263157894\n",
       "4       003180b29c6a5f8f1d84a6b7b6f7be57tjj1o   7466789473684\n",
       "...                                       ...             ...\n",
       "382336  ffd62646d600b759a985d45918bd6f0431vmz   5623842105263\n",
       "382337  ffd62646d600b759a985d45918bd6f0431vmz   1313473684211\n",
       "382338  ffd62646d600b759a985d45918bd6f0431vmz   1801315789474\n",
       "382339  ffd62646d600b759a985d45918bd6f0431vmz     86315789474\n",
       "382340  fff2c070d8200e0a09150bd81452ce29ngcnv  73253052631579\n",
       "\n",
       "[382341 rows x 2 columns]"
      ]
     },
     "execution_count": 36,
     "metadata": {},
     "output_type": "execute_result"
    }
   ],
   "source": [
    "# delay = min time that bidder bid for an auction - start time for auction\n",
    "merged_time_df['delay'] = merged_time_df['time'] - merged_time_df['min auction response time']\n",
    "delay_df = merged_time_df[['bidder_id', 'delay']]\n",
    "delay_df"
   ]
  },
  {
   "cell_type": "code",
   "execution_count": 37,
   "metadata": {
    "scrolled": false
   },
   "outputs": [
    {
     "data": {
      "text/html": [
       "<div>\n",
       "<style scoped>\n",
       "    .dataframe tbody tr th:only-of-type {\n",
       "        vertical-align: middle;\n",
       "    }\n",
       "\n",
       "    .dataframe tbody tr th {\n",
       "        vertical-align: top;\n",
       "    }\n",
       "\n",
       "    .dataframe thead th {\n",
       "        text-align: right;\n",
       "    }\n",
       "</style>\n",
       "<table border=\"1\" class=\"dataframe\">\n",
       "  <thead>\n",
       "    <tr style=\"text-align: right;\">\n",
       "      <th></th>\n",
       "      <th>bidder_id</th>\n",
       "      <th>mean delay</th>\n",
       "    </tr>\n",
       "  </thead>\n",
       "  <tbody>\n",
       "    <tr>\n",
       "      <th>0</th>\n",
       "      <td>001068c415025a009fee375a12cff4fcnht8y</td>\n",
       "      <td>7.439058e+13</td>\n",
       "    </tr>\n",
       "    <tr>\n",
       "      <th>1</th>\n",
       "      <td>002d229ffb247009810828f648afc2ef593rb</td>\n",
       "      <td>1.454737e+11</td>\n",
       "    </tr>\n",
       "    <tr>\n",
       "      <th>2</th>\n",
       "      <td>0030a2dd87ad2733e0873062e4f83954mkj86</td>\n",
       "      <td>7.263689e+13</td>\n",
       "    </tr>\n",
       "    <tr>\n",
       "      <th>3</th>\n",
       "      <td>003180b29c6a5f8f1d84a6b7b6f7be57tjj1o</td>\n",
       "      <td>6.854544e+12</td>\n",
       "    </tr>\n",
       "    <tr>\n",
       "      <th>4</th>\n",
       "      <td>00486a11dff552c4bd7696265724ff81yeo9v</td>\n",
       "      <td>2.039050e+13</td>\n",
       "    </tr>\n",
       "    <tr>\n",
       "      <th>...</th>\n",
       "      <td>...</td>\n",
       "      <td>...</td>\n",
       "    </tr>\n",
       "    <tr>\n",
       "      <th>6609</th>\n",
       "      <td>ffbc0fdfbf19a8a9116b68714138f2902cc13</td>\n",
       "      <td>2.486824e+12</td>\n",
       "    </tr>\n",
       "    <tr>\n",
       "      <th>6610</th>\n",
       "      <td>ffc4e2dd2cc08249f299cab46ecbfacfobmr3</td>\n",
       "      <td>2.252402e+13</td>\n",
       "    </tr>\n",
       "    <tr>\n",
       "      <th>6611</th>\n",
       "      <td>ffd29eb307a4c54610dd2d3d212bf3bagmmpl</td>\n",
       "      <td>1.044305e+13</td>\n",
       "    </tr>\n",
       "    <tr>\n",
       "      <th>6612</th>\n",
       "      <td>ffd62646d600b759a985d45918bd6f0431vmz</td>\n",
       "      <td>1.856138e+12</td>\n",
       "    </tr>\n",
       "    <tr>\n",
       "      <th>6613</th>\n",
       "      <td>fff2c070d8200e0a09150bd81452ce29ngcnv</td>\n",
       "      <td>7.325305e+13</td>\n",
       "    </tr>\n",
       "  </tbody>\n",
       "</table>\n",
       "<p>6614 rows × 2 columns</p>\n",
       "</div>"
      ],
      "text/plain": [
       "                                  bidder_id    mean delay\n",
       "0     001068c415025a009fee375a12cff4fcnht8y  7.439058e+13\n",
       "1     002d229ffb247009810828f648afc2ef593rb  1.454737e+11\n",
       "2     0030a2dd87ad2733e0873062e4f83954mkj86  7.263689e+13\n",
       "3     003180b29c6a5f8f1d84a6b7b6f7be57tjj1o  6.854544e+12\n",
       "4     00486a11dff552c4bd7696265724ff81yeo9v  2.039050e+13\n",
       "...                                     ...           ...\n",
       "6609  ffbc0fdfbf19a8a9116b68714138f2902cc13  2.486824e+12\n",
       "6610  ffc4e2dd2cc08249f299cab46ecbfacfobmr3  2.252402e+13\n",
       "6611  ffd29eb307a4c54610dd2d3d212bf3bagmmpl  1.044305e+13\n",
       "6612  ffd62646d600b759a985d45918bd6f0431vmz  1.856138e+12\n",
       "6613  fff2c070d8200e0a09150bd81452ce29ngcnv  7.325305e+13\n",
       "\n",
       "[6614 rows x 2 columns]"
      ]
     },
     "execution_count": 37,
     "metadata": {},
     "output_type": "execute_result"
    }
   ],
   "source": [
    "# mean delay time for every bidder id\n",
    "mean_delay_df = delay_df.groupby('bidder_id').delay.mean().reset_index()\n",
    "mean_delay_df = mean_delay_df.rename(columns={'delay':'mean delay'})\n",
    "mean_delay_df"
   ]
  },
  {
   "cell_type": "code",
   "execution_count": 38,
   "metadata": {},
   "outputs": [
    {
     "data": {
      "text/html": [
       "<div>\n",
       "<style scoped>\n",
       "    .dataframe tbody tr th:only-of-type {\n",
       "        vertical-align: middle;\n",
       "    }\n",
       "\n",
       "    .dataframe tbody tr th {\n",
       "        vertical-align: top;\n",
       "    }\n",
       "\n",
       "    .dataframe thead th {\n",
       "        text-align: right;\n",
       "    }\n",
       "</style>\n",
       "<table border=\"1\" class=\"dataframe\">\n",
       "  <thead>\n",
       "    <tr style=\"text-align: right;\">\n",
       "      <th></th>\n",
       "      <th>bidder_id</th>\n",
       "      <th>min delay</th>\n",
       "    </tr>\n",
       "  </thead>\n",
       "  <tbody>\n",
       "    <tr>\n",
       "      <th>0</th>\n",
       "      <td>001068c415025a009fee375a12cff4fcnht8y</td>\n",
       "      <td>74390578947368</td>\n",
       "    </tr>\n",
       "    <tr>\n",
       "      <th>1</th>\n",
       "      <td>002d229ffb247009810828f648afc2ef593rb</td>\n",
       "      <td>145473684210</td>\n",
       "    </tr>\n",
       "    <tr>\n",
       "      <th>2</th>\n",
       "      <td>0030a2dd87ad2733e0873062e4f83954mkj86</td>\n",
       "      <td>72636894736843</td>\n",
       "    </tr>\n",
       "    <tr>\n",
       "      <th>3</th>\n",
       "      <td>003180b29c6a5f8f1d84a6b7b6f7be57tjj1o</td>\n",
       "      <td>4995263157894</td>\n",
       "    </tr>\n",
       "    <tr>\n",
       "      <th>4</th>\n",
       "      <td>00486a11dff552c4bd7696265724ff81yeo9v</td>\n",
       "      <td>697526315789</td>\n",
       "    </tr>\n",
       "    <tr>\n",
       "      <th>...</th>\n",
       "      <td>...</td>\n",
       "      <td>...</td>\n",
       "    </tr>\n",
       "    <tr>\n",
       "      <th>6609</th>\n",
       "      <td>ffbc0fdfbf19a8a9116b68714138f2902cc13</td>\n",
       "      <td>0</td>\n",
       "    </tr>\n",
       "    <tr>\n",
       "      <th>6610</th>\n",
       "      <td>ffc4e2dd2cc08249f299cab46ecbfacfobmr3</td>\n",
       "      <td>931578947368</td>\n",
       "    </tr>\n",
       "    <tr>\n",
       "      <th>6611</th>\n",
       "      <td>ffd29eb307a4c54610dd2d3d212bf3bagmmpl</td>\n",
       "      <td>10443052631579</td>\n",
       "    </tr>\n",
       "    <tr>\n",
       "      <th>6612</th>\n",
       "      <td>ffd62646d600b759a985d45918bd6f0431vmz</td>\n",
       "      <td>0</td>\n",
       "    </tr>\n",
       "    <tr>\n",
       "      <th>6613</th>\n",
       "      <td>fff2c070d8200e0a09150bd81452ce29ngcnv</td>\n",
       "      <td>73253052631579</td>\n",
       "    </tr>\n",
       "  </tbody>\n",
       "</table>\n",
       "<p>6614 rows × 2 columns</p>\n",
       "</div>"
      ],
      "text/plain": [
       "                                  bidder_id       min delay\n",
       "0     001068c415025a009fee375a12cff4fcnht8y  74390578947368\n",
       "1     002d229ffb247009810828f648afc2ef593rb    145473684210\n",
       "2     0030a2dd87ad2733e0873062e4f83954mkj86  72636894736843\n",
       "3     003180b29c6a5f8f1d84a6b7b6f7be57tjj1o   4995263157894\n",
       "4     00486a11dff552c4bd7696265724ff81yeo9v    697526315789\n",
       "...                                     ...             ...\n",
       "6609  ffbc0fdfbf19a8a9116b68714138f2902cc13               0\n",
       "6610  ffc4e2dd2cc08249f299cab46ecbfacfobmr3    931578947368\n",
       "6611  ffd29eb307a4c54610dd2d3d212bf3bagmmpl  10443052631579\n",
       "6612  ffd62646d600b759a985d45918bd6f0431vmz               0\n",
       "6613  fff2c070d8200e0a09150bd81452ce29ngcnv  73253052631579\n",
       "\n",
       "[6614 rows x 2 columns]"
      ]
     },
     "execution_count": 38,
     "metadata": {},
     "output_type": "execute_result"
    }
   ],
   "source": [
    "min_delay_df = delay_df.groupby('bidder_id').delay.min().reset_index()\n",
    "min_delay_df = min_delay_df.rename(columns={'delay':'min delay'})\n",
    "min_delay_df"
   ]
  },
  {
   "cell_type": "code",
   "execution_count": 39,
   "metadata": {},
   "outputs": [],
   "source": [
    "# since not all bidders were the first bidders in an auction, after we merge with train/test, we impute null values with 0\n",
    "train_set2 = train_set2.merge(no_of_first_bids, on='bidder_id', how='left')\n",
    "train_set2['no of first bids'] = train_set2['no of first bids'].fillna(0)\n",
    "test_set2 = test_set2.merge(no_of_first_bids, on='bidder_id', how='left')\n",
    "test_set2['no of first bids'] = test_set2['no of first bids'].fillna(0)\n",
    "\n",
    "train_set2 = train_set2.merge(min_delay_df, on='bidder_id', how='left')\n",
    "train_set2 = train_set2.merge(mean_delay_df, on='bidder_id', how='left')\n",
    "test_set2 = test_set2.merge(min_delay_df, on='bidder_id', how='left')\n",
    "test_set2 = test_set2.merge(mean_delay_df, on='bidder_id', how='left')"
   ]
  },
  {
   "cell_type": "markdown",
   "metadata": {},
   "source": [
    "### 9: Bids per auction/device/country/IP/percentage of instantaneous bids"
   ]
  },
  {
   "cell_type": "code",
   "execution_count": 40,
   "metadata": {
    "scrolled": true
   },
   "outputs": [],
   "source": [
    "train_set2['bids per auction'] = train_set2['num_bids'] / train_set2['auction count']\n",
    "train_set2['bids per device'] = train_set2['num_bids'] / train_set2['device count']\n",
    "train_set2['bids per country'] = train_set2['num_bids'] / train_set2['country count']\n",
    "train_set2['bids per ip'] = train_set2['num_bids'] / train_set2['ip count']\n",
    "train_set2['per instant bids'] = train_set2['bids per instant'] / train_set2['num_bids']"
   ]
  },
  {
   "cell_type": "code",
   "execution_count": 41,
   "metadata": {},
   "outputs": [],
   "source": [
    "test_set2['bids per auction'] = test_set2['num_bids'] / test_set2['auction count']\n",
    "test_set2['bids per device'] = test_set2['num_bids'] / test_set2['device count']\n",
    "test_set2['bids per country'] = test_set2['num_bids'] / test_set2['country count']\n",
    "test_set2['bids per ip'] = test_set2['num_bids'] / test_set2['ip count']\n",
    "test_set2['per instant bids'] = test_set2['bids per instant'] / test_set2['num_bids']"
   ]
  },
  {
   "cell_type": "markdown",
   "metadata": {},
   "source": [
    "### Missing Data Imputation"
   ]
  },
  {
   "cell_type": "markdown",
   "metadata": {},
   "source": [
    "There are 29 and 70 bidder_ids missing from the bids dataset for train and test respectively."
   ]
  },
  {
   "cell_type": "code",
   "execution_count": 42,
   "metadata": {
    "scrolled": true
   },
   "outputs": [
    {
     "data": {
      "text/plain": [
       "bidder_id                  0\n",
       "payment_account            0\n",
       "address                    0\n",
       "outcome                    0\n",
       "bid_id                    29\n",
       "auction count             29\n",
       "device count              29\n",
       "time count                29\n",
       "country count             29\n",
       "ip count                  29\n",
       "url count                 29\n",
       "num_bids                  29\n",
       "auto parts                29\n",
       "books and music           29\n",
       "clothing                  29\n",
       "computers                 29\n",
       "furniture                 29\n",
       "home goods                29\n",
       "jewelry                   29\n",
       "mobile                    29\n",
       "office equipment          29\n",
       "sporting goods            29\n",
       "bids per instant          29\n",
       "simultaneous countries    29\n",
       "simultaneous devices      29\n",
       "simultaneous auctions     29\n",
       "bids in an auction        29\n",
       "no of first bids           0\n",
       "min delay                 29\n",
       "mean delay                29\n",
       "bids per auction          29\n",
       "bids per device           29\n",
       "bids per country          29\n",
       "bids per ip               29\n",
       "per instant bids          29\n",
       "dtype: int64"
      ]
     },
     "execution_count": 42,
     "metadata": {},
     "output_type": "execute_result"
    }
   ],
   "source": [
    "train_set2.isnull().sum()"
   ]
  },
  {
   "cell_type": "code",
   "execution_count": 43,
   "metadata": {
    "scrolled": true
   },
   "outputs": [
    {
     "data": {
      "text/plain": [
       "bidder_id                  0\n",
       "payment_account            0\n",
       "address                    0\n",
       "bid_id                    70\n",
       "auction count             70\n",
       "device count              70\n",
       "time count                70\n",
       "country count             70\n",
       "ip count                  70\n",
       "url count                 70\n",
       "num_bids                  70\n",
       "auto parts                 0\n",
       "books and music           70\n",
       "clothing                  70\n",
       "computers                 70\n",
       "furniture                 70\n",
       "home goods                70\n",
       "jewelry                   70\n",
       "mobile                    70\n",
       "office equipment          70\n",
       "sporting goods            70\n",
       "bids per instant          70\n",
       "simultaneous countries    70\n",
       "simultaneous devices      70\n",
       "simultaneous auctions     70\n",
       "bids in an auction        70\n",
       "no of first bids           0\n",
       "min delay                 70\n",
       "mean delay                70\n",
       "bids per auction          70\n",
       "bids per device           70\n",
       "bids per country          70\n",
       "bids per ip               70\n",
       "per instant bids          70\n",
       "dtype: int64"
      ]
     },
     "execution_count": 43,
     "metadata": {},
     "output_type": "execute_result"
    }
   ],
   "source": [
    "test_set2.isnull().sum()"
   ]
  },
  {
   "cell_type": "code",
   "execution_count": 44,
   "metadata": {},
   "outputs": [
    {
     "data": {
      "text/plain": [
       "Index(['bidder_id', 'payment_account', 'address', 'bid_id', 'auction count',\n",
       "       'device count', 'time count', 'country count', 'ip count', 'url count',\n",
       "       'num_bids', 'auto parts', 'books and music', 'clothing', 'computers',\n",
       "       'furniture', 'home goods', 'jewelry', 'mobile', 'office equipment',\n",
       "       'sporting goods', 'bids per instant', 'simultaneous countries',\n",
       "       'simultaneous devices', 'simultaneous auctions', 'bids in an auction',\n",
       "       'no of first bids', 'min delay', 'mean delay', 'bids per auction',\n",
       "       'bids per device', 'bids per country', 'bids per ip',\n",
       "       'per instant bids'],\n",
       "      dtype='object')"
      ]
     },
     "execution_count": 44,
     "metadata": {},
     "output_type": "execute_result"
    }
   ],
   "source": [
    "test_set2.columns"
   ]
  },
  {
   "cell_type": "code",
   "execution_count": 45,
   "metadata": {
    "scrolled": false
   },
   "outputs": [],
   "source": [
    "null_num_col = ['auction count', 'outcome',\n",
    "       'device count', 'time count', 'country count', 'ip count', 'url count',\n",
    "       'num_bids', 'auto parts', 'books and music', 'clothing', 'computers',\n",
    "       'furniture', 'home goods', 'jewelry', 'mobile', 'office equipment',\n",
    "       'sporting goods', 'bids per auction', 'bids per device',\n",
    "       'bids per country', 'bids per ip', 'bids per instant', 'per instant bids', 'simultaneous countries', 'simultaneous devices',\n",
    "       'simultaneous auctions', 'bids in an auction', 'mean delay', 'min delay']\n",
    "\n",
    "for col in null_num_col:\n",
    "    train_set2[col] = train_set2[col].fillna(train_set2[col].mean())"
   ]
  },
  {
   "cell_type": "code",
   "execution_count": 46,
   "metadata": {},
   "outputs": [],
   "source": [
    "null_num_col = ['auction count',\n",
    "       'device count', 'time count', 'country count', 'ip count', 'url count',\n",
    "       'num_bids', 'auto parts', 'books and music', 'clothing', 'computers',\n",
    "       'furniture', 'home goods', 'jewelry', 'mobile', 'office equipment',\n",
    "       'sporting goods', 'bids per auction', 'bids per device',\n",
    "       'bids per country', 'bids per ip', 'bids per instant', 'per instant bids', 'simultaneous countries', 'simultaneous devices',\n",
    "       'simultaneous auctions', 'bids in an auction', 'mean delay', 'min delay']\n",
    "\n",
    "for col in null_num_col:\n",
    "    test_set2[col] = test_set2[col].fillna(test_set2[col].mean())"
   ]
  },
  {
   "cell_type": "code",
   "execution_count": 47,
   "metadata": {
    "scrolled": true
   },
   "outputs": [
    {
     "data": {
      "text/plain": [
       "bidder_id                  0\n",
       "payment_account            0\n",
       "address                    0\n",
       "outcome                    0\n",
       "bid_id                    29\n",
       "auction count              0\n",
       "device count               0\n",
       "time count                 0\n",
       "country count              0\n",
       "ip count                   0\n",
       "url count                  0\n",
       "num_bids                   0\n",
       "auto parts                 0\n",
       "books and music            0\n",
       "clothing                   0\n",
       "computers                  0\n",
       "furniture                  0\n",
       "home goods                 0\n",
       "jewelry                    0\n",
       "mobile                     0\n",
       "office equipment           0\n",
       "sporting goods             0\n",
       "bids per instant           0\n",
       "simultaneous countries     0\n",
       "simultaneous devices       0\n",
       "simultaneous auctions      0\n",
       "bids in an auction         0\n",
       "no of first bids           0\n",
       "min delay                  0\n",
       "mean delay                 0\n",
       "bids per auction           0\n",
       "bids per device            0\n",
       "bids per country           0\n",
       "bids per ip                0\n",
       "per instant bids           0\n",
       "dtype: int64"
      ]
     },
     "execution_count": 47,
     "metadata": {},
     "output_type": "execute_result"
    }
   ],
   "source": [
    "train_set2.isnull().sum()"
   ]
  },
  {
   "cell_type": "code",
   "execution_count": 48,
   "metadata": {
    "scrolled": false
   },
   "outputs": [
    {
     "data": {
      "text/plain": [
       "bidder_id                  0\n",
       "payment_account            0\n",
       "address                    0\n",
       "bid_id                    70\n",
       "auction count              0\n",
       "device count               0\n",
       "time count                 0\n",
       "country count              0\n",
       "ip count                   0\n",
       "url count                  0\n",
       "num_bids                   0\n",
       "auto parts                 0\n",
       "books and music            0\n",
       "clothing                   0\n",
       "computers                  0\n",
       "furniture                  0\n",
       "home goods                 0\n",
       "jewelry                    0\n",
       "mobile                     0\n",
       "office equipment           0\n",
       "sporting goods             0\n",
       "bids per instant           0\n",
       "simultaneous countries     0\n",
       "simultaneous devices       0\n",
       "simultaneous auctions      0\n",
       "bids in an auction         0\n",
       "no of first bids           0\n",
       "min delay                  0\n",
       "mean delay                 0\n",
       "bids per auction           0\n",
       "bids per device            0\n",
       "bids per country           0\n",
       "bids per ip                0\n",
       "per instant bids           0\n",
       "dtype: int64"
      ]
     },
     "execution_count": 48,
     "metadata": {},
     "output_type": "execute_result"
    }
   ],
   "source": [
    "test_set2.isnull().sum()"
   ]
  },
  {
   "cell_type": "code",
   "execution_count": 49,
   "metadata": {},
   "outputs": [
    {
     "data": {
      "text/html": [
       "<div>\n",
       "<style scoped>\n",
       "    .dataframe tbody tr th:only-of-type {\n",
       "        vertical-align: middle;\n",
       "    }\n",
       "\n",
       "    .dataframe tbody tr th {\n",
       "        vertical-align: top;\n",
       "    }\n",
       "\n",
       "    .dataframe thead th {\n",
       "        text-align: right;\n",
       "    }\n",
       "</style>\n",
       "<table border=\"1\" class=\"dataframe\">\n",
       "  <thead>\n",
       "    <tr style=\"text-align: right;\">\n",
       "      <th></th>\n",
       "      <th>bidder_id</th>\n",
       "      <th>payment_account</th>\n",
       "      <th>address</th>\n",
       "      <th>outcome</th>\n",
       "      <th>bid_id</th>\n",
       "      <th>auction count</th>\n",
       "      <th>device count</th>\n",
       "      <th>time count</th>\n",
       "      <th>country count</th>\n",
       "      <th>ip count</th>\n",
       "      <th>...</th>\n",
       "      <th>simultaneous auctions</th>\n",
       "      <th>bids in an auction</th>\n",
       "      <th>no of first bids</th>\n",
       "      <th>min delay</th>\n",
       "      <th>mean delay</th>\n",
       "      <th>bids per auction</th>\n",
       "      <th>bids per device</th>\n",
       "      <th>bids per country</th>\n",
       "      <th>bids per ip</th>\n",
       "      <th>per instant bids</th>\n",
       "    </tr>\n",
       "  </thead>\n",
       "  <tbody>\n",
       "    <tr>\n",
       "      <th>0</th>\n",
       "      <td>91a3c57b13234af24875c56fb7e2b2f4rb56a</td>\n",
       "      <td>a3d2de7675556553a5f08e4c88d2c228754av</td>\n",
       "      <td>a3d2de7675556553a5f08e4c88d2c228vt0u4</td>\n",
       "      <td>0.0</td>\n",
       "      <td>24.0</td>\n",
       "      <td>18.0</td>\n",
       "      <td>14.0</td>\n",
       "      <td>24.0</td>\n",
       "      <td>6.0</td>\n",
       "      <td>20.0</td>\n",
       "      <td>...</td>\n",
       "      <td>1.0</td>\n",
       "      <td>3.0</td>\n",
       "      <td>0.0</td>\n",
       "      <td>2.071053e+11</td>\n",
       "      <td>5.417430e+12</td>\n",
       "      <td>1.333333</td>\n",
       "      <td>1.714286</td>\n",
       "      <td>4.0</td>\n",
       "      <td>1.200000</td>\n",
       "      <td>0.041667</td>\n",
       "    </tr>\n",
       "    <tr>\n",
       "      <th>1</th>\n",
       "      <td>624f258b49e77713fc34034560f93fb3hu3jo</td>\n",
       "      <td>a3d2de7675556553a5f08e4c88d2c228v1sga</td>\n",
       "      <td>ae87054e5a97a8f840a3991d12611fdcrfbq3</td>\n",
       "      <td>0.0</td>\n",
       "      <td>3.0</td>\n",
       "      <td>1.0</td>\n",
       "      <td>2.0</td>\n",
       "      <td>3.0</td>\n",
       "      <td>1.0</td>\n",
       "      <td>3.0</td>\n",
       "      <td>...</td>\n",
       "      <td>1.0</td>\n",
       "      <td>3.0</td>\n",
       "      <td>0.0</td>\n",
       "      <td>4.803947e+12</td>\n",
       "      <td>4.803947e+12</td>\n",
       "      <td>3.000000</td>\n",
       "      <td>1.500000</td>\n",
       "      <td>3.0</td>\n",
       "      <td>1.000000</td>\n",
       "      <td>0.333333</td>\n",
       "    </tr>\n",
       "    <tr>\n",
       "      <th>2</th>\n",
       "      <td>1c5f4fc669099bfbfac515cd26997bd12ruaj</td>\n",
       "      <td>a3d2de7675556553a5f08e4c88d2c2280cybl</td>\n",
       "      <td>92520288b50f03907041887884ba49c0cl0pd</td>\n",
       "      <td>0.0</td>\n",
       "      <td>4.0</td>\n",
       "      <td>4.0</td>\n",
       "      <td>2.0</td>\n",
       "      <td>4.0</td>\n",
       "      <td>1.0</td>\n",
       "      <td>4.0</td>\n",
       "      <td>...</td>\n",
       "      <td>1.0</td>\n",
       "      <td>1.0</td>\n",
       "      <td>0.0</td>\n",
       "      <td>5.439316e+12</td>\n",
       "      <td>8.173645e+12</td>\n",
       "      <td>1.000000</td>\n",
       "      <td>2.000000</td>\n",
       "      <td>4.0</td>\n",
       "      <td>1.000000</td>\n",
       "      <td>0.250000</td>\n",
       "    </tr>\n",
       "    <tr>\n",
       "      <th>3</th>\n",
       "      <td>4bee9aba2abda51bf43d639013d6efe12iycd</td>\n",
       "      <td>51d80e233f7b6a7dfdee484a3c120f3b2ita8</td>\n",
       "      <td>4cb9717c8ad7e88a9a284989dd79b98dbevyi</td>\n",
       "      <td>0.0</td>\n",
       "      <td>1.0</td>\n",
       "      <td>1.0</td>\n",
       "      <td>1.0</td>\n",
       "      <td>1.0</td>\n",
       "      <td>1.0</td>\n",
       "      <td>1.0</td>\n",
       "      <td>...</td>\n",
       "      <td>1.0</td>\n",
       "      <td>1.0</td>\n",
       "      <td>0.0</td>\n",
       "      <td>7.448142e+13</td>\n",
       "      <td>7.448142e+13</td>\n",
       "      <td>1.000000</td>\n",
       "      <td>1.000000</td>\n",
       "      <td>1.0</td>\n",
       "      <td>1.000000</td>\n",
       "      <td>1.000000</td>\n",
       "    </tr>\n",
       "    <tr>\n",
       "      <th>4</th>\n",
       "      <td>4ab12bc61c82ddd9c2d65e60555808acqgos1</td>\n",
       "      <td>a3d2de7675556553a5f08e4c88d2c22857ddh</td>\n",
       "      <td>2a96c3ce94b3be921e0296097b88b56a7x1ji</td>\n",
       "      <td>0.0</td>\n",
       "      <td>155.0</td>\n",
       "      <td>23.0</td>\n",
       "      <td>53.0</td>\n",
       "      <td>155.0</td>\n",
       "      <td>2.0</td>\n",
       "      <td>123.0</td>\n",
       "      <td>...</td>\n",
       "      <td>1.0</td>\n",
       "      <td>38.0</td>\n",
       "      <td>0.0</td>\n",
       "      <td>1.894737e+09</td>\n",
       "      <td>2.298453e+12</td>\n",
       "      <td>6.739130</td>\n",
       "      <td>2.924528</td>\n",
       "      <td>77.5</td>\n",
       "      <td>1.260163</td>\n",
       "      <td>0.006452</td>\n",
       "    </tr>\n",
       "    <tr>\n",
       "      <th>...</th>\n",
       "      <td>...</td>\n",
       "      <td>...</td>\n",
       "      <td>...</td>\n",
       "      <td>...</td>\n",
       "      <td>...</td>\n",
       "      <td>...</td>\n",
       "      <td>...</td>\n",
       "      <td>...</td>\n",
       "      <td>...</td>\n",
       "      <td>...</td>\n",
       "      <td>...</td>\n",
       "      <td>...</td>\n",
       "      <td>...</td>\n",
       "      <td>...</td>\n",
       "      <td>...</td>\n",
       "      <td>...</td>\n",
       "      <td>...</td>\n",
       "      <td>...</td>\n",
       "      <td>...</td>\n",
       "      <td>...</td>\n",
       "      <td>...</td>\n",
       "    </tr>\n",
       "    <tr>\n",
       "      <th>2008</th>\n",
       "      <td>369515b3af4f8ca582f90271d30b14b6r52aw</td>\n",
       "      <td>a1f85275793c4a782f0a668711f41b927ivc9</td>\n",
       "      <td>e6882cf204a9482edd042b6e31791dfctxzx8</td>\n",
       "      <td>0.0</td>\n",
       "      <td>36.0</td>\n",
       "      <td>25.0</td>\n",
       "      <td>4.0</td>\n",
       "      <td>33.0</td>\n",
       "      <td>4.0</td>\n",
       "      <td>5.0</td>\n",
       "      <td>...</td>\n",
       "      <td>2.0</td>\n",
       "      <td>4.0</td>\n",
       "      <td>1.0</td>\n",
       "      <td>0.000000e+00</td>\n",
       "      <td>2.129499e+13</td>\n",
       "      <td>1.440000</td>\n",
       "      <td>9.000000</td>\n",
       "      <td>9.0</td>\n",
       "      <td>7.200000</td>\n",
       "      <td>0.055556</td>\n",
       "    </tr>\n",
       "    <tr>\n",
       "      <th>2009</th>\n",
       "      <td>f939c17ffc7c39ac9b35b69e5e75179fv9pe2</td>\n",
       "      <td>a3d2de7675556553a5f08e4c88d2c2286s1m2</td>\n",
       "      <td>b9b03d5a127eb07aeb9163cdcf524e1344ac9</td>\n",
       "      <td>0.0</td>\n",
       "      <td>1.0</td>\n",
       "      <td>1.0</td>\n",
       "      <td>1.0</td>\n",
       "      <td>1.0</td>\n",
       "      <td>1.0</td>\n",
       "      <td>1.0</td>\n",
       "      <td>...</td>\n",
       "      <td>1.0</td>\n",
       "      <td>1.0</td>\n",
       "      <td>0.0</td>\n",
       "      <td>7.323400e+13</td>\n",
       "      <td>7.323400e+13</td>\n",
       "      <td>1.000000</td>\n",
       "      <td>1.000000</td>\n",
       "      <td>1.0</td>\n",
       "      <td>1.000000</td>\n",
       "      <td>1.000000</td>\n",
       "    </tr>\n",
       "    <tr>\n",
       "      <th>2010</th>\n",
       "      <td>c806dbb2decba0ed3c4ff5e2e60a74c2wjvbl</td>\n",
       "      <td>a3d2de7675556553a5f08e4c88d2c22856leq</td>\n",
       "      <td>d02c2b288b8aabd79ff47118aff41a2dqwzwc</td>\n",
       "      <td>0.0</td>\n",
       "      <td>2.0</td>\n",
       "      <td>1.0</td>\n",
       "      <td>2.0</td>\n",
       "      <td>2.0</td>\n",
       "      <td>1.0</td>\n",
       "      <td>2.0</td>\n",
       "      <td>...</td>\n",
       "      <td>1.0</td>\n",
       "      <td>2.0</td>\n",
       "      <td>0.0</td>\n",
       "      <td>3.558895e+12</td>\n",
       "      <td>3.558895e+12</td>\n",
       "      <td>2.000000</td>\n",
       "      <td>1.000000</td>\n",
       "      <td>2.0</td>\n",
       "      <td>1.000000</td>\n",
       "      <td>0.500000</td>\n",
       "    </tr>\n",
       "    <tr>\n",
       "      <th>2011</th>\n",
       "      <td>0381a69b7a061e9ace2798fd48f1f537mgq57</td>\n",
       "      <td>fd87037ce0304077079c749f420f0b4c54uo0</td>\n",
       "      <td>f030a221726fbcdfc4dc7dfd1b381a112hieq</td>\n",
       "      <td>0.0</td>\n",
       "      <td>1.0</td>\n",
       "      <td>1.0</td>\n",
       "      <td>1.0</td>\n",
       "      <td>1.0</td>\n",
       "      <td>1.0</td>\n",
       "      <td>1.0</td>\n",
       "      <td>...</td>\n",
       "      <td>1.0</td>\n",
       "      <td>1.0</td>\n",
       "      <td>0.0</td>\n",
       "      <td>4.837579e+12</td>\n",
       "      <td>4.837579e+12</td>\n",
       "      <td>1.000000</td>\n",
       "      <td>1.000000</td>\n",
       "      <td>1.0</td>\n",
       "      <td>1.000000</td>\n",
       "      <td>1.000000</td>\n",
       "    </tr>\n",
       "    <tr>\n",
       "      <th>2012</th>\n",
       "      <td>84a769adc98498f52debfe57b93a0789556f4</td>\n",
       "      <td>fbe0ce34d6546ebd9e4c63afc68b085byd2tf</td>\n",
       "      <td>a3d2de7675556553a5f08e4c88d2c228fib6p</td>\n",
       "      <td>0.0</td>\n",
       "      <td>2.0</td>\n",
       "      <td>1.0</td>\n",
       "      <td>1.0</td>\n",
       "      <td>2.0</td>\n",
       "      <td>1.0</td>\n",
       "      <td>1.0</td>\n",
       "      <td>...</td>\n",
       "      <td>1.0</td>\n",
       "      <td>2.0</td>\n",
       "      <td>0.0</td>\n",
       "      <td>8.004789e+12</td>\n",
       "      <td>8.004789e+12</td>\n",
       "      <td>2.000000</td>\n",
       "      <td>2.000000</td>\n",
       "      <td>2.0</td>\n",
       "      <td>2.000000</td>\n",
       "      <td>0.500000</td>\n",
       "    </tr>\n",
       "  </tbody>\n",
       "</table>\n",
       "<p>2013 rows × 35 columns</p>\n",
       "</div>"
      ],
      "text/plain": [
       "                                  bidder_id  \\\n",
       "0     91a3c57b13234af24875c56fb7e2b2f4rb56a   \n",
       "1     624f258b49e77713fc34034560f93fb3hu3jo   \n",
       "2     1c5f4fc669099bfbfac515cd26997bd12ruaj   \n",
       "3     4bee9aba2abda51bf43d639013d6efe12iycd   \n",
       "4     4ab12bc61c82ddd9c2d65e60555808acqgos1   \n",
       "...                                     ...   \n",
       "2008  369515b3af4f8ca582f90271d30b14b6r52aw   \n",
       "2009  f939c17ffc7c39ac9b35b69e5e75179fv9pe2   \n",
       "2010  c806dbb2decba0ed3c4ff5e2e60a74c2wjvbl   \n",
       "2011  0381a69b7a061e9ace2798fd48f1f537mgq57   \n",
       "2012  84a769adc98498f52debfe57b93a0789556f4   \n",
       "\n",
       "                            payment_account  \\\n",
       "0     a3d2de7675556553a5f08e4c88d2c228754av   \n",
       "1     a3d2de7675556553a5f08e4c88d2c228v1sga   \n",
       "2     a3d2de7675556553a5f08e4c88d2c2280cybl   \n",
       "3     51d80e233f7b6a7dfdee484a3c120f3b2ita8   \n",
       "4     a3d2de7675556553a5f08e4c88d2c22857ddh   \n",
       "...                                     ...   \n",
       "2008  a1f85275793c4a782f0a668711f41b927ivc9   \n",
       "2009  a3d2de7675556553a5f08e4c88d2c2286s1m2   \n",
       "2010  a3d2de7675556553a5f08e4c88d2c22856leq   \n",
       "2011  fd87037ce0304077079c749f420f0b4c54uo0   \n",
       "2012  fbe0ce34d6546ebd9e4c63afc68b085byd2tf   \n",
       "\n",
       "                                    address  outcome  bid_id  auction count  \\\n",
       "0     a3d2de7675556553a5f08e4c88d2c228vt0u4      0.0    24.0           18.0   \n",
       "1     ae87054e5a97a8f840a3991d12611fdcrfbq3      0.0     3.0            1.0   \n",
       "2     92520288b50f03907041887884ba49c0cl0pd      0.0     4.0            4.0   \n",
       "3     4cb9717c8ad7e88a9a284989dd79b98dbevyi      0.0     1.0            1.0   \n",
       "4     2a96c3ce94b3be921e0296097b88b56a7x1ji      0.0   155.0           23.0   \n",
       "...                                     ...      ...     ...            ...   \n",
       "2008  e6882cf204a9482edd042b6e31791dfctxzx8      0.0    36.0           25.0   \n",
       "2009  b9b03d5a127eb07aeb9163cdcf524e1344ac9      0.0     1.0            1.0   \n",
       "2010  d02c2b288b8aabd79ff47118aff41a2dqwzwc      0.0     2.0            1.0   \n",
       "2011  f030a221726fbcdfc4dc7dfd1b381a112hieq      0.0     1.0            1.0   \n",
       "2012  a3d2de7675556553a5f08e4c88d2c228fib6p      0.0     2.0            1.0   \n",
       "\n",
       "      device count  time count  country count  ip count  ...  \\\n",
       "0             14.0        24.0            6.0      20.0  ...   \n",
       "1              2.0         3.0            1.0       3.0  ...   \n",
       "2              2.0         4.0            1.0       4.0  ...   \n",
       "3              1.0         1.0            1.0       1.0  ...   \n",
       "4             53.0       155.0            2.0     123.0  ...   \n",
       "...            ...         ...            ...       ...  ...   \n",
       "2008           4.0        33.0            4.0       5.0  ...   \n",
       "2009           1.0         1.0            1.0       1.0  ...   \n",
       "2010           2.0         2.0            1.0       2.0  ...   \n",
       "2011           1.0         1.0            1.0       1.0  ...   \n",
       "2012           1.0         2.0            1.0       1.0  ...   \n",
       "\n",
       "      simultaneous auctions  bids in an auction  no of first bids  \\\n",
       "0                       1.0                 3.0               0.0   \n",
       "1                       1.0                 3.0               0.0   \n",
       "2                       1.0                 1.0               0.0   \n",
       "3                       1.0                 1.0               0.0   \n",
       "4                       1.0                38.0               0.0   \n",
       "...                     ...                 ...               ...   \n",
       "2008                    2.0                 4.0               1.0   \n",
       "2009                    1.0                 1.0               0.0   \n",
       "2010                    1.0                 2.0               0.0   \n",
       "2011                    1.0                 1.0               0.0   \n",
       "2012                    1.0                 2.0               0.0   \n",
       "\n",
       "         min delay    mean delay  bids per auction  bids per device  \\\n",
       "0     2.071053e+11  5.417430e+12          1.333333         1.714286   \n",
       "1     4.803947e+12  4.803947e+12          3.000000         1.500000   \n",
       "2     5.439316e+12  8.173645e+12          1.000000         2.000000   \n",
       "3     7.448142e+13  7.448142e+13          1.000000         1.000000   \n",
       "4     1.894737e+09  2.298453e+12          6.739130         2.924528   \n",
       "...            ...           ...               ...              ...   \n",
       "2008  0.000000e+00  2.129499e+13          1.440000         9.000000   \n",
       "2009  7.323400e+13  7.323400e+13          1.000000         1.000000   \n",
       "2010  3.558895e+12  3.558895e+12          2.000000         1.000000   \n",
       "2011  4.837579e+12  4.837579e+12          1.000000         1.000000   \n",
       "2012  8.004789e+12  8.004789e+12          2.000000         2.000000   \n",
       "\n",
       "      bids per country  bids per ip  per instant bids  \n",
       "0                  4.0     1.200000          0.041667  \n",
       "1                  3.0     1.000000          0.333333  \n",
       "2                  4.0     1.000000          0.250000  \n",
       "3                  1.0     1.000000          1.000000  \n",
       "4                 77.5     1.260163          0.006452  \n",
       "...                ...          ...               ...  \n",
       "2008               9.0     7.200000          0.055556  \n",
       "2009               1.0     1.000000          1.000000  \n",
       "2010               2.0     1.000000          0.500000  \n",
       "2011               1.0     1.000000          1.000000  \n",
       "2012               2.0     2.000000          0.500000  \n",
       "\n",
       "[2013 rows x 35 columns]"
      ]
     },
     "execution_count": 49,
     "metadata": {},
     "output_type": "execute_result"
    }
   ],
   "source": [
    "train_set2"
   ]
  },
  {
   "cell_type": "code",
   "execution_count": 50,
   "metadata": {},
   "outputs": [
    {
     "data": {
      "text/html": [
       "<div>\n",
       "<style scoped>\n",
       "    .dataframe tbody tr th:only-of-type {\n",
       "        vertical-align: middle;\n",
       "    }\n",
       "\n",
       "    .dataframe tbody tr th {\n",
       "        vertical-align: top;\n",
       "    }\n",
       "\n",
       "    .dataframe thead th {\n",
       "        text-align: right;\n",
       "    }\n",
       "</style>\n",
       "<table border=\"1\" class=\"dataframe\">\n",
       "  <thead>\n",
       "    <tr style=\"text-align: right;\">\n",
       "      <th></th>\n",
       "      <th>bidder_id</th>\n",
       "      <th>payment_account</th>\n",
       "      <th>address</th>\n",
       "      <th>bid_id</th>\n",
       "      <th>auction count</th>\n",
       "      <th>device count</th>\n",
       "      <th>time count</th>\n",
       "      <th>country count</th>\n",
       "      <th>ip count</th>\n",
       "      <th>url count</th>\n",
       "      <th>...</th>\n",
       "      <th>simultaneous auctions</th>\n",
       "      <th>bids in an auction</th>\n",
       "      <th>no of first bids</th>\n",
       "      <th>min delay</th>\n",
       "      <th>mean delay</th>\n",
       "      <th>bids per auction</th>\n",
       "      <th>bids per device</th>\n",
       "      <th>bids per country</th>\n",
       "      <th>bids per ip</th>\n",
       "      <th>per instant bids</th>\n",
       "    </tr>\n",
       "  </thead>\n",
       "  <tbody>\n",
       "    <tr>\n",
       "      <th>0</th>\n",
       "      <td>49bb5a3c944b8fc337981cc7a9ccae41u31d7</td>\n",
       "      <td>a3d2de7675556553a5f08e4c88d2c228htx90</td>\n",
       "      <td>5d9fa1b71f992e7c7a106ce4b07a0a754le7c</td>\n",
       "      <td>4.0</td>\n",
       "      <td>3.0</td>\n",
       "      <td>2.0</td>\n",
       "      <td>4.0</td>\n",
       "      <td>3.0</td>\n",
       "      <td>4.0</td>\n",
       "      <td>3.0</td>\n",
       "      <td>...</td>\n",
       "      <td>1.0</td>\n",
       "      <td>2.0</td>\n",
       "      <td>0.0</td>\n",
       "      <td>6.142632e+11</td>\n",
       "      <td>2.419135e+13</td>\n",
       "      <td>1.333333</td>\n",
       "      <td>2.000000</td>\n",
       "      <td>1.333333</td>\n",
       "      <td>1.000000</td>\n",
       "      <td>0.250000</td>\n",
       "    </tr>\n",
       "    <tr>\n",
       "      <th>1</th>\n",
       "      <td>a921612b85a1494456e74c09393ccb65ylp4y</td>\n",
       "      <td>a3d2de7675556553a5f08e4c88d2c228rs17i</td>\n",
       "      <td>a3d2de7675556553a5f08e4c88d2c228klidn</td>\n",
       "      <td>3.0</td>\n",
       "      <td>2.0</td>\n",
       "      <td>3.0</td>\n",
       "      <td>3.0</td>\n",
       "      <td>2.0</td>\n",
       "      <td>2.0</td>\n",
       "      <td>1.0</td>\n",
       "      <td>...</td>\n",
       "      <td>1.0</td>\n",
       "      <td>2.0</td>\n",
       "      <td>0.0</td>\n",
       "      <td>4.783684e+11</td>\n",
       "      <td>3.845950e+13</td>\n",
       "      <td>1.500000</td>\n",
       "      <td>1.000000</td>\n",
       "      <td>1.500000</td>\n",
       "      <td>1.500000</td>\n",
       "      <td>0.333333</td>\n",
       "    </tr>\n",
       "    <tr>\n",
       "      <th>2</th>\n",
       "      <td>6b601e72a4d264dab9ace9d7b229b47479v6i</td>\n",
       "      <td>925381cce086b8cc9594eee1c77edf665zjpl</td>\n",
       "      <td>a3d2de7675556553a5f08e4c88d2c228aght0</td>\n",
       "      <td>17.0</td>\n",
       "      <td>14.0</td>\n",
       "      <td>4.0</td>\n",
       "      <td>17.0</td>\n",
       "      <td>3.0</td>\n",
       "      <td>4.0</td>\n",
       "      <td>2.0</td>\n",
       "      <td>...</td>\n",
       "      <td>1.0</td>\n",
       "      <td>2.0</td>\n",
       "      <td>0.0</td>\n",
       "      <td>3.583158e+11</td>\n",
       "      <td>1.982762e+13</td>\n",
       "      <td>1.214286</td>\n",
       "      <td>4.250000</td>\n",
       "      <td>5.666667</td>\n",
       "      <td>4.250000</td>\n",
       "      <td>0.058824</td>\n",
       "    </tr>\n",
       "    <tr>\n",
       "      <th>3</th>\n",
       "      <td>eaf0ed0afc9689779417274b4791726cn5udi</td>\n",
       "      <td>a3d2de7675556553a5f08e4c88d2c228nclv5</td>\n",
       "      <td>b5714de1fd69d4a0d2e39d59e53fe9e15vwat</td>\n",
       "      <td>148.0</td>\n",
       "      <td>90.0</td>\n",
       "      <td>81.0</td>\n",
       "      <td>148.0</td>\n",
       "      <td>14.0</td>\n",
       "      <td>129.0</td>\n",
       "      <td>80.0</td>\n",
       "      <td>...</td>\n",
       "      <td>1.0</td>\n",
       "      <td>15.0</td>\n",
       "      <td>0.0</td>\n",
       "      <td>1.584211e+10</td>\n",
       "      <td>2.367697e+13</td>\n",
       "      <td>1.644444</td>\n",
       "      <td>1.827160</td>\n",
       "      <td>10.571429</td>\n",
       "      <td>1.147287</td>\n",
       "      <td>0.006757</td>\n",
       "    </tr>\n",
       "    <tr>\n",
       "      <th>4</th>\n",
       "      <td>cdecd8d02ed8c6037e38042c7745f688mx5sf</td>\n",
       "      <td>a3d2de7675556553a5f08e4c88d2c228dtdkd</td>\n",
       "      <td>c3b363a3c3b838d58c85acf0fc9964cb4pnfa</td>\n",
       "      <td>23.0</td>\n",
       "      <td>20.0</td>\n",
       "      <td>17.0</td>\n",
       "      <td>23.0</td>\n",
       "      <td>2.0</td>\n",
       "      <td>17.0</td>\n",
       "      <td>1.0</td>\n",
       "      <td>...</td>\n",
       "      <td>1.0</td>\n",
       "      <td>2.0</td>\n",
       "      <td>0.0</td>\n",
       "      <td>3.239947e+12</td>\n",
       "      <td>6.302266e+12</td>\n",
       "      <td>1.150000</td>\n",
       "      <td>1.352941</td>\n",
       "      <td>11.500000</td>\n",
       "      <td>1.352941</td>\n",
       "      <td>0.043478</td>\n",
       "    </tr>\n",
       "    <tr>\n",
       "      <th>...</th>\n",
       "      <td>...</td>\n",
       "      <td>...</td>\n",
       "      <td>...</td>\n",
       "      <td>...</td>\n",
       "      <td>...</td>\n",
       "      <td>...</td>\n",
       "      <td>...</td>\n",
       "      <td>...</td>\n",
       "      <td>...</td>\n",
       "      <td>...</td>\n",
       "      <td>...</td>\n",
       "      <td>...</td>\n",
       "      <td>...</td>\n",
       "      <td>...</td>\n",
       "      <td>...</td>\n",
       "      <td>...</td>\n",
       "      <td>...</td>\n",
       "      <td>...</td>\n",
       "      <td>...</td>\n",
       "      <td>...</td>\n",
       "      <td>...</td>\n",
       "    </tr>\n",
       "    <tr>\n",
       "      <th>4695</th>\n",
       "      <td>bef56983ba78b2ee064443ae95972877jfkyd</td>\n",
       "      <td>0f235a6dfea5a5885d63968826b748b4q4dra</td>\n",
       "      <td>a98a4841db165de919d29cb49d0bc306cq21h</td>\n",
       "      <td>983.0</td>\n",
       "      <td>41.0</td>\n",
       "      <td>9.0</td>\n",
       "      <td>466.0</td>\n",
       "      <td>5.0</td>\n",
       "      <td>22.0</td>\n",
       "      <td>4.0</td>\n",
       "      <td>...</td>\n",
       "      <td>8.0</td>\n",
       "      <td>86.0</td>\n",
       "      <td>0.0</td>\n",
       "      <td>1.009842e+12</td>\n",
       "      <td>2.878288e+13</td>\n",
       "      <td>23.975610</td>\n",
       "      <td>109.222222</td>\n",
       "      <td>196.600000</td>\n",
       "      <td>44.681818</td>\n",
       "      <td>0.008138</td>\n",
       "    </tr>\n",
       "    <tr>\n",
       "      <th>4696</th>\n",
       "      <td>4da45cc915c32d4368ac7e773d92d4affwqrr</td>\n",
       "      <td>9e0adf7481c422654d4d0a849e0e50abiumen</td>\n",
       "      <td>e23d9777cddc347de82d839b2e54b22ecopkp</td>\n",
       "      <td>66.0</td>\n",
       "      <td>32.0</td>\n",
       "      <td>29.0</td>\n",
       "      <td>66.0</td>\n",
       "      <td>10.0</td>\n",
       "      <td>49.0</td>\n",
       "      <td>18.0</td>\n",
       "      <td>...</td>\n",
       "      <td>1.0</td>\n",
       "      <td>16.0</td>\n",
       "      <td>0.0</td>\n",
       "      <td>2.328421e+11</td>\n",
       "      <td>4.393296e+12</td>\n",
       "      <td>2.062500</td>\n",
       "      <td>2.275862</td>\n",
       "      <td>6.600000</td>\n",
       "      <td>1.346939</td>\n",
       "      <td>0.015152</td>\n",
       "    </tr>\n",
       "    <tr>\n",
       "      <th>4697</th>\n",
       "      <td>0d0e6220bf59ab9a0c5b5987fb2c34a9p33f9</td>\n",
       "      <td>7df4ebd184668b4257f740b11d4519afq7kr1</td>\n",
       "      <td>b650404e1ab5d177020221277c3e9306qegyl</td>\n",
       "      <td>2162.0</td>\n",
       "      <td>419.0</td>\n",
       "      <td>376.0</td>\n",
       "      <td>2156.0</td>\n",
       "      <td>86.0</td>\n",
       "      <td>1460.0</td>\n",
       "      <td>1049.0</td>\n",
       "      <td>...</td>\n",
       "      <td>2.0</td>\n",
       "      <td>115.0</td>\n",
       "      <td>16.0</td>\n",
       "      <td>0.000000e+00</td>\n",
       "      <td>2.167452e+13</td>\n",
       "      <td>5.159905</td>\n",
       "      <td>5.750000</td>\n",
       "      <td>25.139535</td>\n",
       "      <td>1.480822</td>\n",
       "      <td>0.000925</td>\n",
       "    </tr>\n",
       "    <tr>\n",
       "      <th>4698</th>\n",
       "      <td>4981c32c54dde65b79dbc48fd9ab6457caqze</td>\n",
       "      <td>a3d2de7675556553a5f08e4c88d2c2284qlm0</td>\n",
       "      <td>9c35320088eaf32046a51a96ebb2e658i479u</td>\n",
       "      <td>5.0</td>\n",
       "      <td>5.0</td>\n",
       "      <td>4.0</td>\n",
       "      <td>5.0</td>\n",
       "      <td>1.0</td>\n",
       "      <td>5.0</td>\n",
       "      <td>2.0</td>\n",
       "      <td>...</td>\n",
       "      <td>1.0</td>\n",
       "      <td>1.0</td>\n",
       "      <td>0.0</td>\n",
       "      <td>6.736842e+11</td>\n",
       "      <td>4.612021e+12</td>\n",
       "      <td>1.000000</td>\n",
       "      <td>1.250000</td>\n",
       "      <td>5.000000</td>\n",
       "      <td>1.000000</td>\n",
       "      <td>0.200000</td>\n",
       "    </tr>\n",
       "    <tr>\n",
       "      <th>4699</th>\n",
       "      <td>7ade70030d559a6c255be2f6feca17acnrqs0</td>\n",
       "      <td>a3d2de7675556553a5f08e4c88d2c228vo1hu</td>\n",
       "      <td>a3d2de7675556553a5f08e4c88d2c228la8g8</td>\n",
       "      <td>382.0</td>\n",
       "      <td>116.0</td>\n",
       "      <td>117.0</td>\n",
       "      <td>382.0</td>\n",
       "      <td>10.0</td>\n",
       "      <td>347.0</td>\n",
       "      <td>246.0</td>\n",
       "      <td>...</td>\n",
       "      <td>1.0</td>\n",
       "      <td>15.0</td>\n",
       "      <td>0.0</td>\n",
       "      <td>6.331579e+10</td>\n",
       "      <td>1.390211e+13</td>\n",
       "      <td>3.293103</td>\n",
       "      <td>3.264957</td>\n",
       "      <td>38.200000</td>\n",
       "      <td>1.100865</td>\n",
       "      <td>0.002618</td>\n",
       "    </tr>\n",
       "  </tbody>\n",
       "</table>\n",
       "<p>4700 rows × 34 columns</p>\n",
       "</div>"
      ],
      "text/plain": [
       "                                  bidder_id  \\\n",
       "0     49bb5a3c944b8fc337981cc7a9ccae41u31d7   \n",
       "1     a921612b85a1494456e74c09393ccb65ylp4y   \n",
       "2     6b601e72a4d264dab9ace9d7b229b47479v6i   \n",
       "3     eaf0ed0afc9689779417274b4791726cn5udi   \n",
       "4     cdecd8d02ed8c6037e38042c7745f688mx5sf   \n",
       "...                                     ...   \n",
       "4695  bef56983ba78b2ee064443ae95972877jfkyd   \n",
       "4696  4da45cc915c32d4368ac7e773d92d4affwqrr   \n",
       "4697  0d0e6220bf59ab9a0c5b5987fb2c34a9p33f9   \n",
       "4698  4981c32c54dde65b79dbc48fd9ab6457caqze   \n",
       "4699  7ade70030d559a6c255be2f6feca17acnrqs0   \n",
       "\n",
       "                            payment_account  \\\n",
       "0     a3d2de7675556553a5f08e4c88d2c228htx90   \n",
       "1     a3d2de7675556553a5f08e4c88d2c228rs17i   \n",
       "2     925381cce086b8cc9594eee1c77edf665zjpl   \n",
       "3     a3d2de7675556553a5f08e4c88d2c228nclv5   \n",
       "4     a3d2de7675556553a5f08e4c88d2c228dtdkd   \n",
       "...                                     ...   \n",
       "4695  0f235a6dfea5a5885d63968826b748b4q4dra   \n",
       "4696  9e0adf7481c422654d4d0a849e0e50abiumen   \n",
       "4697  7df4ebd184668b4257f740b11d4519afq7kr1   \n",
       "4698  a3d2de7675556553a5f08e4c88d2c2284qlm0   \n",
       "4699  a3d2de7675556553a5f08e4c88d2c228vo1hu   \n",
       "\n",
       "                                    address  bid_id  auction count  \\\n",
       "0     5d9fa1b71f992e7c7a106ce4b07a0a754le7c     4.0            3.0   \n",
       "1     a3d2de7675556553a5f08e4c88d2c228klidn     3.0            2.0   \n",
       "2     a3d2de7675556553a5f08e4c88d2c228aght0    17.0           14.0   \n",
       "3     b5714de1fd69d4a0d2e39d59e53fe9e15vwat   148.0           90.0   \n",
       "4     c3b363a3c3b838d58c85acf0fc9964cb4pnfa    23.0           20.0   \n",
       "...                                     ...     ...            ...   \n",
       "4695  a98a4841db165de919d29cb49d0bc306cq21h   983.0           41.0   \n",
       "4696  e23d9777cddc347de82d839b2e54b22ecopkp    66.0           32.0   \n",
       "4697  b650404e1ab5d177020221277c3e9306qegyl  2162.0          419.0   \n",
       "4698  9c35320088eaf32046a51a96ebb2e658i479u     5.0            5.0   \n",
       "4699  a3d2de7675556553a5f08e4c88d2c228la8g8   382.0          116.0   \n",
       "\n",
       "      device count  time count  country count  ip count  url count  ...  \\\n",
       "0              2.0         4.0            3.0       4.0        3.0  ...   \n",
       "1              3.0         3.0            2.0       2.0        1.0  ...   \n",
       "2              4.0        17.0            3.0       4.0        2.0  ...   \n",
       "3             81.0       148.0           14.0     129.0       80.0  ...   \n",
       "4             17.0        23.0            2.0      17.0        1.0  ...   \n",
       "...            ...         ...            ...       ...        ...  ...   \n",
       "4695           9.0       466.0            5.0      22.0        4.0  ...   \n",
       "4696          29.0        66.0           10.0      49.0       18.0  ...   \n",
       "4697         376.0      2156.0           86.0    1460.0     1049.0  ...   \n",
       "4698           4.0         5.0            1.0       5.0        2.0  ...   \n",
       "4699         117.0       382.0           10.0     347.0      246.0  ...   \n",
       "\n",
       "      simultaneous auctions  bids in an auction  no of first bids  \\\n",
       "0                       1.0                 2.0               0.0   \n",
       "1                       1.0                 2.0               0.0   \n",
       "2                       1.0                 2.0               0.0   \n",
       "3                       1.0                15.0               0.0   \n",
       "4                       1.0                 2.0               0.0   \n",
       "...                     ...                 ...               ...   \n",
       "4695                    8.0                86.0               0.0   \n",
       "4696                    1.0                16.0               0.0   \n",
       "4697                    2.0               115.0              16.0   \n",
       "4698                    1.0                 1.0               0.0   \n",
       "4699                    1.0                15.0               0.0   \n",
       "\n",
       "         min delay    mean delay  bids per auction  bids per device  \\\n",
       "0     6.142632e+11  2.419135e+13          1.333333         2.000000   \n",
       "1     4.783684e+11  3.845950e+13          1.500000         1.000000   \n",
       "2     3.583158e+11  1.982762e+13          1.214286         4.250000   \n",
       "3     1.584211e+10  2.367697e+13          1.644444         1.827160   \n",
       "4     3.239947e+12  6.302266e+12          1.150000         1.352941   \n",
       "...            ...           ...               ...              ...   \n",
       "4695  1.009842e+12  2.878288e+13         23.975610       109.222222   \n",
       "4696  2.328421e+11  4.393296e+12          2.062500         2.275862   \n",
       "4697  0.000000e+00  2.167452e+13          5.159905         5.750000   \n",
       "4698  6.736842e+11  4.612021e+12          1.000000         1.250000   \n",
       "4699  6.331579e+10  1.390211e+13          3.293103         3.264957   \n",
       "\n",
       "      bids per country  bids per ip  per instant bids  \n",
       "0             1.333333     1.000000          0.250000  \n",
       "1             1.500000     1.500000          0.333333  \n",
       "2             5.666667     4.250000          0.058824  \n",
       "3            10.571429     1.147287          0.006757  \n",
       "4            11.500000     1.352941          0.043478  \n",
       "...                ...          ...               ...  \n",
       "4695        196.600000    44.681818          0.008138  \n",
       "4696          6.600000     1.346939          0.015152  \n",
       "4697         25.139535     1.480822          0.000925  \n",
       "4698          5.000000     1.000000          0.200000  \n",
       "4699         38.200000     1.100865          0.002618  \n",
       "\n",
       "[4700 rows x 34 columns]"
      ]
     },
     "execution_count": 50,
     "metadata": {},
     "output_type": "execute_result"
    }
   ],
   "source": [
    "test_set2"
   ]
  },
  {
   "cell_type": "markdown",
   "metadata": {},
   "source": [
    "### Standardising Delay Times"
   ]
  },
  {
   "cell_type": "code",
   "execution_count": 51,
   "metadata": {},
   "outputs": [],
   "source": [
    "train_set2['min delay'] = (train_set2['min delay'] - train_set2['min delay'].mean()) / train_set2['min delay'].std()\n",
    "test_set2['min delay'] = (test_set2['min delay'] - test_set2['min delay'].mean()) / test_set2['min delay'].std()\n",
    "train_set2['mean delay'] = (train_set2['mean delay'] - train_set2['mean delay'].mean()) / train_set2['mean delay'].std()\n",
    "test_set2['mean delay'] = (test_set2['mean delay'] - test_set2['mean delay'].mean()) / test_set2['mean delay'].std()"
   ]
  },
  {
   "cell_type": "markdown",
   "metadata": {},
   "source": [
    "### Converting to integer "
   ]
  },
  {
   "cell_type": "markdown",
   "metadata": {},
   "source": [
    "Here I am converting all possible columns to integer values for better model performance."
   ]
  },
  {
   "cell_type": "code",
   "execution_count": 52,
   "metadata": {
    "scrolled": true
   },
   "outputs": [
    {
     "data": {
      "text/html": [
       "<div>\n",
       "<style scoped>\n",
       "    .dataframe tbody tr th:only-of-type {\n",
       "        vertical-align: middle;\n",
       "    }\n",
       "\n",
       "    .dataframe tbody tr th {\n",
       "        vertical-align: top;\n",
       "    }\n",
       "\n",
       "    .dataframe thead th {\n",
       "        text-align: right;\n",
       "    }\n",
       "</style>\n",
       "<table border=\"1\" class=\"dataframe\">\n",
       "  <thead>\n",
       "    <tr style=\"text-align: right;\">\n",
       "      <th></th>\n",
       "      <th>outcome</th>\n",
       "      <th>auction count</th>\n",
       "      <th>device count</th>\n",
       "      <th>time count</th>\n",
       "      <th>country count</th>\n",
       "      <th>ip count</th>\n",
       "      <th>url count</th>\n",
       "      <th>num_bids</th>\n",
       "      <th>auto parts</th>\n",
       "      <th>books and music</th>\n",
       "      <th>...</th>\n",
       "      <th>bids per ip</th>\n",
       "      <th>no of first bids</th>\n",
       "      <th>bidder_id</th>\n",
       "      <th>payment_account</th>\n",
       "      <th>address</th>\n",
       "      <th>bid_id</th>\n",
       "      <th>min delay</th>\n",
       "      <th>mean delay</th>\n",
       "      <th>bids per country</th>\n",
       "      <th>per instant bids</th>\n",
       "    </tr>\n",
       "  </thead>\n",
       "  <tbody>\n",
       "    <tr>\n",
       "      <th>0</th>\n",
       "      <td>0</td>\n",
       "      <td>18</td>\n",
       "      <td>14</td>\n",
       "      <td>24</td>\n",
       "      <td>6</td>\n",
       "      <td>20</td>\n",
       "      <td>1</td>\n",
       "      <td>24</td>\n",
       "      <td>0</td>\n",
       "      <td>0</td>\n",
       "      <td>...</td>\n",
       "      <td>1</td>\n",
       "      <td>0</td>\n",
       "      <td>91a3c57b13234af24875c56fb7e2b2f4rb56a</td>\n",
       "      <td>a3d2de7675556553a5f08e4c88d2c228754av</td>\n",
       "      <td>a3d2de7675556553a5f08e4c88d2c228vt0u4</td>\n",
       "      <td>24.0</td>\n",
       "      <td>-0.318234</td>\n",
       "      <td>-0.546676</td>\n",
       "      <td>4.0</td>\n",
       "      <td>0.041667</td>\n",
       "    </tr>\n",
       "    <tr>\n",
       "      <th>1</th>\n",
       "      <td>0</td>\n",
       "      <td>1</td>\n",
       "      <td>2</td>\n",
       "      <td>3</td>\n",
       "      <td>1</td>\n",
       "      <td>3</td>\n",
       "      <td>2</td>\n",
       "      <td>3</td>\n",
       "      <td>0</td>\n",
       "      <td>0</td>\n",
       "      <td>...</td>\n",
       "      <td>1</td>\n",
       "      <td>0</td>\n",
       "      <td>624f258b49e77713fc34034560f93fb3hu3jo</td>\n",
       "      <td>a3d2de7675556553a5f08e4c88d2c228v1sga</td>\n",
       "      <td>ae87054e5a97a8f840a3991d12611fdcrfbq3</td>\n",
       "      <td>3.0</td>\n",
       "      <td>0.002462</td>\n",
       "      <td>-0.583800</td>\n",
       "      <td>3.0</td>\n",
       "      <td>0.333333</td>\n",
       "    </tr>\n",
       "    <tr>\n",
       "      <th>2</th>\n",
       "      <td>0</td>\n",
       "      <td>4</td>\n",
       "      <td>2</td>\n",
       "      <td>4</td>\n",
       "      <td>1</td>\n",
       "      <td>4</td>\n",
       "      <td>2</td>\n",
       "      <td>4</td>\n",
       "      <td>0</td>\n",
       "      <td>0</td>\n",
       "      <td>...</td>\n",
       "      <td>1</td>\n",
       "      <td>0</td>\n",
       "      <td>1c5f4fc669099bfbfac515cd26997bd12ruaj</td>\n",
       "      <td>a3d2de7675556553a5f08e4c88d2c2280cybl</td>\n",
       "      <td>92520288b50f03907041887884ba49c0cl0pd</td>\n",
       "      <td>4.0</td>\n",
       "      <td>0.046788</td>\n",
       "      <td>-0.379889</td>\n",
       "      <td>4.0</td>\n",
       "      <td>0.250000</td>\n",
       "    </tr>\n",
       "    <tr>\n",
       "      <th>3</th>\n",
       "      <td>0</td>\n",
       "      <td>1</td>\n",
       "      <td>1</td>\n",
       "      <td>1</td>\n",
       "      <td>1</td>\n",
       "      <td>1</td>\n",
       "      <td>1</td>\n",
       "      <td>1</td>\n",
       "      <td>0</td>\n",
       "      <td>1</td>\n",
       "      <td>...</td>\n",
       "      <td>1</td>\n",
       "      <td>0</td>\n",
       "      <td>4bee9aba2abda51bf43d639013d6efe12iycd</td>\n",
       "      <td>51d80e233f7b6a7dfdee484a3c120f3b2ita8</td>\n",
       "      <td>4cb9717c8ad7e88a9a284989dd79b98dbevyi</td>\n",
       "      <td>1.0</td>\n",
       "      <td>4.863463</td>\n",
       "      <td>3.632606</td>\n",
       "      <td>1.0</td>\n",
       "      <td>1.000000</td>\n",
       "    </tr>\n",
       "    <tr>\n",
       "      <th>4</th>\n",
       "      <td>0</td>\n",
       "      <td>23</td>\n",
       "      <td>53</td>\n",
       "      <td>155</td>\n",
       "      <td>2</td>\n",
       "      <td>123</td>\n",
       "      <td>91</td>\n",
       "      <td>155</td>\n",
       "      <td>0</td>\n",
       "      <td>0</td>\n",
       "      <td>...</td>\n",
       "      <td>1</td>\n",
       "      <td>0</td>\n",
       "      <td>4ab12bc61c82ddd9c2d65e60555808acqgos1</td>\n",
       "      <td>a3d2de7675556553a5f08e4c88d2c22857ddh</td>\n",
       "      <td>2a96c3ce94b3be921e0296097b88b56a7x1ji</td>\n",
       "      <td>155.0</td>\n",
       "      <td>-0.332550</td>\n",
       "      <td>-0.735415</td>\n",
       "      <td>77.5</td>\n",
       "      <td>0.006452</td>\n",
       "    </tr>\n",
       "    <tr>\n",
       "      <th>...</th>\n",
       "      <td>...</td>\n",
       "      <td>...</td>\n",
       "      <td>...</td>\n",
       "      <td>...</td>\n",
       "      <td>...</td>\n",
       "      <td>...</td>\n",
       "      <td>...</td>\n",
       "      <td>...</td>\n",
       "      <td>...</td>\n",
       "      <td>...</td>\n",
       "      <td>...</td>\n",
       "      <td>...</td>\n",
       "      <td>...</td>\n",
       "      <td>...</td>\n",
       "      <td>...</td>\n",
       "      <td>...</td>\n",
       "      <td>...</td>\n",
       "      <td>...</td>\n",
       "      <td>...</td>\n",
       "      <td>...</td>\n",
       "      <td>...</td>\n",
       "    </tr>\n",
       "    <tr>\n",
       "      <th>2008</th>\n",
       "      <td>0</td>\n",
       "      <td>25</td>\n",
       "      <td>4</td>\n",
       "      <td>33</td>\n",
       "      <td>4</td>\n",
       "      <td>5</td>\n",
       "      <td>2</td>\n",
       "      <td>36</td>\n",
       "      <td>0</td>\n",
       "      <td>0</td>\n",
       "      <td>...</td>\n",
       "      <td>7</td>\n",
       "      <td>1</td>\n",
       "      <td>369515b3af4f8ca582f90271d30b14b6r52aw</td>\n",
       "      <td>a1f85275793c4a782f0a668711f41b927ivc9</td>\n",
       "      <td>e6882cf204a9482edd042b6e31791dfctxzx8</td>\n",
       "      <td>36.0</td>\n",
       "      <td>-0.332682</td>\n",
       "      <td>0.414125</td>\n",
       "      <td>9.0</td>\n",
       "      <td>0.055556</td>\n",
       "    </tr>\n",
       "    <tr>\n",
       "      <th>2009</th>\n",
       "      <td>0</td>\n",
       "      <td>1</td>\n",
       "      <td>1</td>\n",
       "      <td>1</td>\n",
       "      <td>1</td>\n",
       "      <td>1</td>\n",
       "      <td>1</td>\n",
       "      <td>1</td>\n",
       "      <td>0</td>\n",
       "      <td>0</td>\n",
       "      <td>...</td>\n",
       "      <td>1</td>\n",
       "      <td>0</td>\n",
       "      <td>f939c17ffc7c39ac9b35b69e5e75179fv9pe2</td>\n",
       "      <td>a3d2de7675556553a5f08e4c88d2c2286s1m2</td>\n",
       "      <td>b9b03d5a127eb07aeb9163cdcf524e1344ac9</td>\n",
       "      <td>1.0</td>\n",
       "      <td>4.776437</td>\n",
       "      <td>3.557121</td>\n",
       "      <td>1.0</td>\n",
       "      <td>1.000000</td>\n",
       "    </tr>\n",
       "    <tr>\n",
       "      <th>2010</th>\n",
       "      <td>0</td>\n",
       "      <td>1</td>\n",
       "      <td>2</td>\n",
       "      <td>2</td>\n",
       "      <td>1</td>\n",
       "      <td>2</td>\n",
       "      <td>1</td>\n",
       "      <td>2</td>\n",
       "      <td>0</td>\n",
       "      <td>0</td>\n",
       "      <td>...</td>\n",
       "      <td>1</td>\n",
       "      <td>0</td>\n",
       "      <td>c806dbb2decba0ed3c4ff5e2e60a74c2wjvbl</td>\n",
       "      <td>a3d2de7675556553a5f08e4c88d2c22856leq</td>\n",
       "      <td>d02c2b288b8aabd79ff47118aff41a2dqwzwc</td>\n",
       "      <td>2.0</td>\n",
       "      <td>-0.084399</td>\n",
       "      <td>-0.659142</td>\n",
       "      <td>2.0</td>\n",
       "      <td>0.500000</td>\n",
       "    </tr>\n",
       "    <tr>\n",
       "      <th>2011</th>\n",
       "      <td>0</td>\n",
       "      <td>1</td>\n",
       "      <td>1</td>\n",
       "      <td>1</td>\n",
       "      <td>1</td>\n",
       "      <td>1</td>\n",
       "      <td>1</td>\n",
       "      <td>1</td>\n",
       "      <td>0</td>\n",
       "      <td>0</td>\n",
       "      <td>...</td>\n",
       "      <td>1</td>\n",
       "      <td>0</td>\n",
       "      <td>0381a69b7a061e9ace2798fd48f1f537mgq57</td>\n",
       "      <td>fd87037ce0304077079c749f420f0b4c54uo0</td>\n",
       "      <td>f030a221726fbcdfc4dc7dfd1b381a112hieq</td>\n",
       "      <td>1.0</td>\n",
       "      <td>0.004808</td>\n",
       "      <td>-0.581765</td>\n",
       "      <td>1.0</td>\n",
       "      <td>1.000000</td>\n",
       "    </tr>\n",
       "    <tr>\n",
       "      <th>2012</th>\n",
       "      <td>0</td>\n",
       "      <td>1</td>\n",
       "      <td>1</td>\n",
       "      <td>2</td>\n",
       "      <td>1</td>\n",
       "      <td>1</td>\n",
       "      <td>1</td>\n",
       "      <td>2</td>\n",
       "      <td>0</td>\n",
       "      <td>0</td>\n",
       "      <td>...</td>\n",
       "      <td>2</td>\n",
       "      <td>0</td>\n",
       "      <td>84a769adc98498f52debfe57b93a0789556f4</td>\n",
       "      <td>fbe0ce34d6546ebd9e4c63afc68b085byd2tf</td>\n",
       "      <td>a3d2de7675556553a5f08e4c88d2c228fib6p</td>\n",
       "      <td>2.0</td>\n",
       "      <td>0.225766</td>\n",
       "      <td>-0.390107</td>\n",
       "      <td>2.0</td>\n",
       "      <td>0.500000</td>\n",
       "    </tr>\n",
       "  </tbody>\n",
       "</table>\n",
       "<p>2013 rows × 35 columns</p>\n",
       "</div>"
      ],
      "text/plain": [
       "      outcome  auction count  device count  time count  country count  \\\n",
       "0           0             18            14          24              6   \n",
       "1           0              1             2           3              1   \n",
       "2           0              4             2           4              1   \n",
       "3           0              1             1           1              1   \n",
       "4           0             23            53         155              2   \n",
       "...       ...            ...           ...         ...            ...   \n",
       "2008        0             25             4          33              4   \n",
       "2009        0              1             1           1              1   \n",
       "2010        0              1             2           2              1   \n",
       "2011        0              1             1           1              1   \n",
       "2012        0              1             1           2              1   \n",
       "\n",
       "      ip count  url count  num_bids  auto parts  books and music  ...  \\\n",
       "0           20          1        24           0                0  ...   \n",
       "1            3          2         3           0                0  ...   \n",
       "2            4          2         4           0                0  ...   \n",
       "3            1          1         1           0                1  ...   \n",
       "4          123         91       155           0                0  ...   \n",
       "...        ...        ...       ...         ...              ...  ...   \n",
       "2008         5          2        36           0                0  ...   \n",
       "2009         1          1         1           0                0  ...   \n",
       "2010         2          1         2           0                0  ...   \n",
       "2011         1          1         1           0                0  ...   \n",
       "2012         1          1         2           0                0  ...   \n",
       "\n",
       "      bids per ip  no of first bids                              bidder_id  \\\n",
       "0               1                 0  91a3c57b13234af24875c56fb7e2b2f4rb56a   \n",
       "1               1                 0  624f258b49e77713fc34034560f93fb3hu3jo   \n",
       "2               1                 0  1c5f4fc669099bfbfac515cd26997bd12ruaj   \n",
       "3               1                 0  4bee9aba2abda51bf43d639013d6efe12iycd   \n",
       "4               1                 0  4ab12bc61c82ddd9c2d65e60555808acqgos1   \n",
       "...           ...               ...                                    ...   \n",
       "2008            7                 1  369515b3af4f8ca582f90271d30b14b6r52aw   \n",
       "2009            1                 0  f939c17ffc7c39ac9b35b69e5e75179fv9pe2   \n",
       "2010            1                 0  c806dbb2decba0ed3c4ff5e2e60a74c2wjvbl   \n",
       "2011            1                 0  0381a69b7a061e9ace2798fd48f1f537mgq57   \n",
       "2012            2                 0  84a769adc98498f52debfe57b93a0789556f4   \n",
       "\n",
       "                            payment_account  \\\n",
       "0     a3d2de7675556553a5f08e4c88d2c228754av   \n",
       "1     a3d2de7675556553a5f08e4c88d2c228v1sga   \n",
       "2     a3d2de7675556553a5f08e4c88d2c2280cybl   \n",
       "3     51d80e233f7b6a7dfdee484a3c120f3b2ita8   \n",
       "4     a3d2de7675556553a5f08e4c88d2c22857ddh   \n",
       "...                                     ...   \n",
       "2008  a1f85275793c4a782f0a668711f41b927ivc9   \n",
       "2009  a3d2de7675556553a5f08e4c88d2c2286s1m2   \n",
       "2010  a3d2de7675556553a5f08e4c88d2c22856leq   \n",
       "2011  fd87037ce0304077079c749f420f0b4c54uo0   \n",
       "2012  fbe0ce34d6546ebd9e4c63afc68b085byd2tf   \n",
       "\n",
       "                                    address  bid_id  min delay  mean delay  \\\n",
       "0     a3d2de7675556553a5f08e4c88d2c228vt0u4    24.0  -0.318234   -0.546676   \n",
       "1     ae87054e5a97a8f840a3991d12611fdcrfbq3     3.0   0.002462   -0.583800   \n",
       "2     92520288b50f03907041887884ba49c0cl0pd     4.0   0.046788   -0.379889   \n",
       "3     4cb9717c8ad7e88a9a284989dd79b98dbevyi     1.0   4.863463    3.632606   \n",
       "4     2a96c3ce94b3be921e0296097b88b56a7x1ji   155.0  -0.332550   -0.735415   \n",
       "...                                     ...     ...        ...         ...   \n",
       "2008  e6882cf204a9482edd042b6e31791dfctxzx8    36.0  -0.332682    0.414125   \n",
       "2009  b9b03d5a127eb07aeb9163cdcf524e1344ac9     1.0   4.776437    3.557121   \n",
       "2010  d02c2b288b8aabd79ff47118aff41a2dqwzwc     2.0  -0.084399   -0.659142   \n",
       "2011  f030a221726fbcdfc4dc7dfd1b381a112hieq     1.0   0.004808   -0.581765   \n",
       "2012  a3d2de7675556553a5f08e4c88d2c228fib6p     2.0   0.225766   -0.390107   \n",
       "\n",
       "      bids per country  per instant bids  \n",
       "0                  4.0          0.041667  \n",
       "1                  3.0          0.333333  \n",
       "2                  4.0          0.250000  \n",
       "3                  1.0          1.000000  \n",
       "4                 77.5          0.006452  \n",
       "...                ...               ...  \n",
       "2008               9.0          0.055556  \n",
       "2009               1.0          1.000000  \n",
       "2010               2.0          0.500000  \n",
       "2011               1.0          1.000000  \n",
       "2012               2.0          0.500000  \n",
       "\n",
       "[2013 rows x 35 columns]"
      ]
     },
     "execution_count": 52,
     "metadata": {},
     "output_type": "execute_result"
    }
   ],
   "source": [
    "req_cols = ['outcome', 'auction count',\n",
    "       'device count', 'time count', 'country count', 'ip count', 'url count',\n",
    "       'num_bids', 'auto parts', 'books and music', 'clothing', 'computers',\n",
    "       'furniture', 'home goods', 'jewelry', 'mobile', 'office equipment',\n",
    "       'sporting goods', 'bids per instant', 'simultaneous countries',\n",
    "       'simultaneous devices', 'simultaneous auctions', 'bids in an auction',\n",
    "       'bids per auction', 'bids per device',\n",
    "       'bids per ip', 'no of first bids']\n",
    "\n",
    "other = []\n",
    "\n",
    "for col in train_set2.columns:\n",
    "    if col not in req_cols:\n",
    "        other.append(col)\n",
    "\n",
    "final_train_set2 = train_set2[req_cols].astype('int64')\n",
    "\n",
    "final_train_set2 = pd.concat([final_train_set2, train_set2[other]], axis=1)\n",
    "final_train_set2"
   ]
  },
  {
   "cell_type": "code",
   "execution_count": 53,
   "metadata": {
    "scrolled": true
   },
   "outputs": [
    {
     "data": {
      "text/html": [
       "<div>\n",
       "<style scoped>\n",
       "    .dataframe tbody tr th:only-of-type {\n",
       "        vertical-align: middle;\n",
       "    }\n",
       "\n",
       "    .dataframe tbody tr th {\n",
       "        vertical-align: top;\n",
       "    }\n",
       "\n",
       "    .dataframe thead th {\n",
       "        text-align: right;\n",
       "    }\n",
       "</style>\n",
       "<table border=\"1\" class=\"dataframe\">\n",
       "  <thead>\n",
       "    <tr style=\"text-align: right;\">\n",
       "      <th></th>\n",
       "      <th>auction count</th>\n",
       "      <th>device count</th>\n",
       "      <th>time count</th>\n",
       "      <th>country count</th>\n",
       "      <th>ip count</th>\n",
       "      <th>url count</th>\n",
       "      <th>num_bids</th>\n",
       "      <th>auto parts</th>\n",
       "      <th>books and music</th>\n",
       "      <th>clothing</th>\n",
       "      <th>...</th>\n",
       "      <th>bids per ip</th>\n",
       "      <th>no of first bids</th>\n",
       "      <th>bidder_id</th>\n",
       "      <th>payment_account</th>\n",
       "      <th>address</th>\n",
       "      <th>bid_id</th>\n",
       "      <th>min delay</th>\n",
       "      <th>mean delay</th>\n",
       "      <th>bids per country</th>\n",
       "      <th>per instant bids</th>\n",
       "    </tr>\n",
       "  </thead>\n",
       "  <tbody>\n",
       "    <tr>\n",
       "      <th>0</th>\n",
       "      <td>3</td>\n",
       "      <td>2</td>\n",
       "      <td>4</td>\n",
       "      <td>3</td>\n",
       "      <td>4</td>\n",
       "      <td>3</td>\n",
       "      <td>4</td>\n",
       "      <td>0</td>\n",
       "      <td>0</td>\n",
       "      <td>0</td>\n",
       "      <td>...</td>\n",
       "      <td>1</td>\n",
       "      <td>0</td>\n",
       "      <td>49bb5a3c944b8fc337981cc7a9ccae41u31d7</td>\n",
       "      <td>a3d2de7675556553a5f08e4c88d2c228htx90</td>\n",
       "      <td>5d9fa1b71f992e7c7a106ce4b07a0a754le7c</td>\n",
       "      <td>4.0</td>\n",
       "      <td>-0.301611</td>\n",
       "      <td>0.550785</td>\n",
       "      <td>1.333333</td>\n",
       "      <td>0.250000</td>\n",
       "    </tr>\n",
       "    <tr>\n",
       "      <th>1</th>\n",
       "      <td>2</td>\n",
       "      <td>3</td>\n",
       "      <td>3</td>\n",
       "      <td>2</td>\n",
       "      <td>2</td>\n",
       "      <td>1</td>\n",
       "      <td>3</td>\n",
       "      <td>0</td>\n",
       "      <td>0</td>\n",
       "      <td>0</td>\n",
       "      <td>...</td>\n",
       "      <td>1</td>\n",
       "      <td>0</td>\n",
       "      <td>a921612b85a1494456e74c09393ccb65ylp4y</td>\n",
       "      <td>a3d2de7675556553a5f08e4c88d2c228rs17i</td>\n",
       "      <td>a3d2de7675556553a5f08e4c88d2c228klidn</td>\n",
       "      <td>3.0</td>\n",
       "      <td>-0.311044</td>\n",
       "      <td>1.403184</td>\n",
       "      <td>1.500000</td>\n",
       "      <td>0.333333</td>\n",
       "    </tr>\n",
       "    <tr>\n",
       "      <th>2</th>\n",
       "      <td>14</td>\n",
       "      <td>4</td>\n",
       "      <td>17</td>\n",
       "      <td>3</td>\n",
       "      <td>4</td>\n",
       "      <td>2</td>\n",
       "      <td>17</td>\n",
       "      <td>0</td>\n",
       "      <td>0</td>\n",
       "      <td>0</td>\n",
       "      <td>...</td>\n",
       "      <td>4</td>\n",
       "      <td>0</td>\n",
       "      <td>6b601e72a4d264dab9ace9d7b229b47479v6i</td>\n",
       "      <td>925381cce086b8cc9594eee1c77edf665zjpl</td>\n",
       "      <td>a3d2de7675556553a5f08e4c88d2c228aght0</td>\n",
       "      <td>17.0</td>\n",
       "      <td>-0.319377</td>\n",
       "      <td>0.290090</td>\n",
       "      <td>5.666667</td>\n",
       "      <td>0.058824</td>\n",
       "    </tr>\n",
       "    <tr>\n",
       "      <th>3</th>\n",
       "      <td>90</td>\n",
       "      <td>81</td>\n",
       "      <td>148</td>\n",
       "      <td>14</td>\n",
       "      <td>129</td>\n",
       "      <td>80</td>\n",
       "      <td>148</td>\n",
       "      <td>0</td>\n",
       "      <td>0</td>\n",
       "      <td>0</td>\n",
       "      <td>...</td>\n",
       "      <td>1</td>\n",
       "      <td>0</td>\n",
       "      <td>eaf0ed0afc9689779417274b4791726cn5udi</td>\n",
       "      <td>a3d2de7675556553a5f08e4c88d2c228nclv5</td>\n",
       "      <td>b5714de1fd69d4a0d2e39d59e53fe9e15vwat</td>\n",
       "      <td>148.0</td>\n",
       "      <td>-0.343149</td>\n",
       "      <td>0.520055</td>\n",
       "      <td>10.571429</td>\n",
       "      <td>0.006757</td>\n",
       "    </tr>\n",
       "    <tr>\n",
       "      <th>4</th>\n",
       "      <td>20</td>\n",
       "      <td>17</td>\n",
       "      <td>23</td>\n",
       "      <td>2</td>\n",
       "      <td>17</td>\n",
       "      <td>1</td>\n",
       "      <td>23</td>\n",
       "      <td>0</td>\n",
       "      <td>0</td>\n",
       "      <td>0</td>\n",
       "      <td>...</td>\n",
       "      <td>1</td>\n",
       "      <td>0</td>\n",
       "      <td>cdecd8d02ed8c6037e38042c7745f688mx5sf</td>\n",
       "      <td>a3d2de7675556553a5f08e4c88d2c228dtdkd</td>\n",
       "      <td>c3b363a3c3b838d58c85acf0fc9964cb4pnfa</td>\n",
       "      <td>23.0</td>\n",
       "      <td>-0.119357</td>\n",
       "      <td>-0.517934</td>\n",
       "      <td>11.500000</td>\n",
       "      <td>0.043478</td>\n",
       "    </tr>\n",
       "    <tr>\n",
       "      <th>...</th>\n",
       "      <td>...</td>\n",
       "      <td>...</td>\n",
       "      <td>...</td>\n",
       "      <td>...</td>\n",
       "      <td>...</td>\n",
       "      <td>...</td>\n",
       "      <td>...</td>\n",
       "      <td>...</td>\n",
       "      <td>...</td>\n",
       "      <td>...</td>\n",
       "      <td>...</td>\n",
       "      <td>...</td>\n",
       "      <td>...</td>\n",
       "      <td>...</td>\n",
       "      <td>...</td>\n",
       "      <td>...</td>\n",
       "      <td>...</td>\n",
       "      <td>...</td>\n",
       "      <td>...</td>\n",
       "      <td>...</td>\n",
       "      <td>...</td>\n",
       "    </tr>\n",
       "    <tr>\n",
       "      <th>4695</th>\n",
       "      <td>41</td>\n",
       "      <td>9</td>\n",
       "      <td>466</td>\n",
       "      <td>5</td>\n",
       "      <td>22</td>\n",
       "      <td>4</td>\n",
       "      <td>983</td>\n",
       "      <td>0</td>\n",
       "      <td>0</td>\n",
       "      <td>0</td>\n",
       "      <td>...</td>\n",
       "      <td>44</td>\n",
       "      <td>0</td>\n",
       "      <td>bef56983ba78b2ee064443ae95972877jfkyd</td>\n",
       "      <td>0f235a6dfea5a5885d63968826b748b4q4dra</td>\n",
       "      <td>a98a4841db165de919d29cb49d0bc306cq21h</td>\n",
       "      <td>983.0</td>\n",
       "      <td>-0.274153</td>\n",
       "      <td>0.825090</td>\n",
       "      <td>196.600000</td>\n",
       "      <td>0.008138</td>\n",
       "    </tr>\n",
       "    <tr>\n",
       "      <th>4696</th>\n",
       "      <td>32</td>\n",
       "      <td>29</td>\n",
       "      <td>66</td>\n",
       "      <td>10</td>\n",
       "      <td>49</td>\n",
       "      <td>18</td>\n",
       "      <td>66</td>\n",
       "      <td>0</td>\n",
       "      <td>0</td>\n",
       "      <td>0</td>\n",
       "      <td>...</td>\n",
       "      <td>1</td>\n",
       "      <td>0</td>\n",
       "      <td>4da45cc915c32d4368ac7e773d92d4affwqrr</td>\n",
       "      <td>9e0adf7481c422654d4d0a849e0e50abiumen</td>\n",
       "      <td>e23d9777cddc347de82d839b2e54b22ecopkp</td>\n",
       "      <td>66.0</td>\n",
       "      <td>-0.328087</td>\n",
       "      <td>-0.631978</td>\n",
       "      <td>6.600000</td>\n",
       "      <td>0.015152</td>\n",
       "    </tr>\n",
       "    <tr>\n",
       "      <th>4697</th>\n",
       "      <td>419</td>\n",
       "      <td>376</td>\n",
       "      <td>2156</td>\n",
       "      <td>86</td>\n",
       "      <td>1460</td>\n",
       "      <td>1049</td>\n",
       "      <td>2162</td>\n",
       "      <td>0</td>\n",
       "      <td>0</td>\n",
       "      <td>0</td>\n",
       "      <td>...</td>\n",
       "      <td>1</td>\n",
       "      <td>16</td>\n",
       "      <td>0d0e6220bf59ab9a0c5b5987fb2c34a9p33f9</td>\n",
       "      <td>7df4ebd184668b4257f740b11d4519afq7kr1</td>\n",
       "      <td>b650404e1ab5d177020221277c3e9306qegyl</td>\n",
       "      <td>2162.0</td>\n",
       "      <td>-0.344249</td>\n",
       "      <td>0.400426</td>\n",
       "      <td>25.139535</td>\n",
       "      <td>0.000925</td>\n",
       "    </tr>\n",
       "    <tr>\n",
       "      <th>4698</th>\n",
       "      <td>5</td>\n",
       "      <td>4</td>\n",
       "      <td>5</td>\n",
       "      <td>1</td>\n",
       "      <td>5</td>\n",
       "      <td>2</td>\n",
       "      <td>5</td>\n",
       "      <td>0</td>\n",
       "      <td>0</td>\n",
       "      <td>0</td>\n",
       "      <td>...</td>\n",
       "      <td>1</td>\n",
       "      <td>0</td>\n",
       "      <td>4981c32c54dde65b79dbc48fd9ab6457caqze</td>\n",
       "      <td>a3d2de7675556553a5f08e4c88d2c2284qlm0</td>\n",
       "      <td>9c35320088eaf32046a51a96ebb2e658i479u</td>\n",
       "      <td>5.0</td>\n",
       "      <td>-0.297487</td>\n",
       "      <td>-0.618911</td>\n",
       "      <td>5.000000</td>\n",
       "      <td>0.200000</td>\n",
       "    </tr>\n",
       "    <tr>\n",
       "      <th>4699</th>\n",
       "      <td>116</td>\n",
       "      <td>117</td>\n",
       "      <td>382</td>\n",
       "      <td>10</td>\n",
       "      <td>347</td>\n",
       "      <td>246</td>\n",
       "      <td>382</td>\n",
       "      <td>0</td>\n",
       "      <td>0</td>\n",
       "      <td>0</td>\n",
       "      <td>...</td>\n",
       "      <td>1</td>\n",
       "      <td>0</td>\n",
       "      <td>7ade70030d559a6c255be2f6feca17acnrqs0</td>\n",
       "      <td>a3d2de7675556553a5f08e4c88d2c228vo1hu</td>\n",
       "      <td>a3d2de7675556553a5f08e4c88d2c228la8g8</td>\n",
       "      <td>382.0</td>\n",
       "      <td>-0.339854</td>\n",
       "      <td>-0.063908</td>\n",
       "      <td>38.200000</td>\n",
       "      <td>0.002618</td>\n",
       "    </tr>\n",
       "  </tbody>\n",
       "</table>\n",
       "<p>4700 rows × 34 columns</p>\n",
       "</div>"
      ],
      "text/plain": [
       "      auction count  device count  time count  country count  ip count  \\\n",
       "0                 3             2           4              3         4   \n",
       "1                 2             3           3              2         2   \n",
       "2                14             4          17              3         4   \n",
       "3                90            81         148             14       129   \n",
       "4                20            17          23              2        17   \n",
       "...             ...           ...         ...            ...       ...   \n",
       "4695             41             9         466              5        22   \n",
       "4696             32            29          66             10        49   \n",
       "4697            419           376        2156             86      1460   \n",
       "4698              5             4           5              1         5   \n",
       "4699            116           117         382             10       347   \n",
       "\n",
       "      url count  num_bids  auto parts  books and music  clothing  ...  \\\n",
       "0             3         4           0                0         0  ...   \n",
       "1             1         3           0                0         0  ...   \n",
       "2             2        17           0                0         0  ...   \n",
       "3            80       148           0                0         0  ...   \n",
       "4             1        23           0                0         0  ...   \n",
       "...         ...       ...         ...              ...       ...  ...   \n",
       "4695          4       983           0                0         0  ...   \n",
       "4696         18        66           0                0         0  ...   \n",
       "4697       1049      2162           0                0         0  ...   \n",
       "4698          2         5           0                0         0  ...   \n",
       "4699        246       382           0                0         0  ...   \n",
       "\n",
       "      bids per ip  no of first bids                              bidder_id  \\\n",
       "0               1                 0  49bb5a3c944b8fc337981cc7a9ccae41u31d7   \n",
       "1               1                 0  a921612b85a1494456e74c09393ccb65ylp4y   \n",
       "2               4                 0  6b601e72a4d264dab9ace9d7b229b47479v6i   \n",
       "3               1                 0  eaf0ed0afc9689779417274b4791726cn5udi   \n",
       "4               1                 0  cdecd8d02ed8c6037e38042c7745f688mx5sf   \n",
       "...           ...               ...                                    ...   \n",
       "4695           44                 0  bef56983ba78b2ee064443ae95972877jfkyd   \n",
       "4696            1                 0  4da45cc915c32d4368ac7e773d92d4affwqrr   \n",
       "4697            1                16  0d0e6220bf59ab9a0c5b5987fb2c34a9p33f9   \n",
       "4698            1                 0  4981c32c54dde65b79dbc48fd9ab6457caqze   \n",
       "4699            1                 0  7ade70030d559a6c255be2f6feca17acnrqs0   \n",
       "\n",
       "                            payment_account  \\\n",
       "0     a3d2de7675556553a5f08e4c88d2c228htx90   \n",
       "1     a3d2de7675556553a5f08e4c88d2c228rs17i   \n",
       "2     925381cce086b8cc9594eee1c77edf665zjpl   \n",
       "3     a3d2de7675556553a5f08e4c88d2c228nclv5   \n",
       "4     a3d2de7675556553a5f08e4c88d2c228dtdkd   \n",
       "...                                     ...   \n",
       "4695  0f235a6dfea5a5885d63968826b748b4q4dra   \n",
       "4696  9e0adf7481c422654d4d0a849e0e50abiumen   \n",
       "4697  7df4ebd184668b4257f740b11d4519afq7kr1   \n",
       "4698  a3d2de7675556553a5f08e4c88d2c2284qlm0   \n",
       "4699  a3d2de7675556553a5f08e4c88d2c228vo1hu   \n",
       "\n",
       "                                    address  bid_id  min delay  mean delay  \\\n",
       "0     5d9fa1b71f992e7c7a106ce4b07a0a754le7c     4.0  -0.301611    0.550785   \n",
       "1     a3d2de7675556553a5f08e4c88d2c228klidn     3.0  -0.311044    1.403184   \n",
       "2     a3d2de7675556553a5f08e4c88d2c228aght0    17.0  -0.319377    0.290090   \n",
       "3     b5714de1fd69d4a0d2e39d59e53fe9e15vwat   148.0  -0.343149    0.520055   \n",
       "4     c3b363a3c3b838d58c85acf0fc9964cb4pnfa    23.0  -0.119357   -0.517934   \n",
       "...                                     ...     ...        ...         ...   \n",
       "4695  a98a4841db165de919d29cb49d0bc306cq21h   983.0  -0.274153    0.825090   \n",
       "4696  e23d9777cddc347de82d839b2e54b22ecopkp    66.0  -0.328087   -0.631978   \n",
       "4697  b650404e1ab5d177020221277c3e9306qegyl  2162.0  -0.344249    0.400426   \n",
       "4698  9c35320088eaf32046a51a96ebb2e658i479u     5.0  -0.297487   -0.618911   \n",
       "4699  a3d2de7675556553a5f08e4c88d2c228la8g8   382.0  -0.339854   -0.063908   \n",
       "\n",
       "      bids per country  per instant bids  \n",
       "0             1.333333          0.250000  \n",
       "1             1.500000          0.333333  \n",
       "2             5.666667          0.058824  \n",
       "3            10.571429          0.006757  \n",
       "4            11.500000          0.043478  \n",
       "...                ...               ...  \n",
       "4695        196.600000          0.008138  \n",
       "4696          6.600000          0.015152  \n",
       "4697         25.139535          0.000925  \n",
       "4698          5.000000          0.200000  \n",
       "4699         38.200000          0.002618  \n",
       "\n",
       "[4700 rows x 34 columns]"
      ]
     },
     "execution_count": 53,
     "metadata": {},
     "output_type": "execute_result"
    }
   ],
   "source": [
    "req_cols = ['auction count',\n",
    "       'device count', 'time count', 'country count', 'ip count', 'url count',\n",
    "       'num_bids', 'auto parts', 'books and music', 'clothing', 'computers',\n",
    "       'furniture', 'home goods', 'jewelry', 'mobile', 'office equipment',\n",
    "       'sporting goods', 'bids per instant', 'simultaneous countries',\n",
    "       'simultaneous devices', 'simultaneous auctions', 'bids in an auction',\n",
    "       'bids per auction', 'bids per device',\n",
    "       'bids per ip', 'no of first bids']\n",
    "other = []\n",
    "\n",
    "for col in test_set2.columns:\n",
    "    if col not in req_cols:\n",
    "        other.append(col)\n",
    "\n",
    "final_test_set2 = test_set2[req_cols].astype('int64')\n",
    "\n",
    "final_test_set2 = pd.concat([final_test_set2, test_set2[other]], axis=1)\n",
    "final_test_set2"
   ]
  },
  {
   "cell_type": "code",
   "execution_count": 54,
   "metadata": {
    "scrolled": true
   },
   "outputs": [
    {
     "data": {
      "text/html": [
       "<div>\n",
       "<style scoped>\n",
       "    .dataframe tbody tr th:only-of-type {\n",
       "        vertical-align: middle;\n",
       "    }\n",
       "\n",
       "    .dataframe tbody tr th {\n",
       "        vertical-align: top;\n",
       "    }\n",
       "\n",
       "    .dataframe thead th {\n",
       "        text-align: right;\n",
       "    }\n",
       "</style>\n",
       "<table border=\"1\" class=\"dataframe\">\n",
       "  <thead>\n",
       "    <tr style=\"text-align: right;\">\n",
       "      <th></th>\n",
       "      <th>outcome</th>\n",
       "      <th>auction count</th>\n",
       "      <th>device count</th>\n",
       "      <th>time count</th>\n",
       "      <th>country count</th>\n",
       "      <th>ip count</th>\n",
       "      <th>url count</th>\n",
       "      <th>num_bids</th>\n",
       "      <th>auto parts</th>\n",
       "      <th>books and music</th>\n",
       "      <th>...</th>\n",
       "      <th>bids per ip</th>\n",
       "      <th>no of first bids</th>\n",
       "      <th>bidder_id</th>\n",
       "      <th>payment_account</th>\n",
       "      <th>address</th>\n",
       "      <th>bid_id</th>\n",
       "      <th>min delay</th>\n",
       "      <th>mean delay</th>\n",
       "      <th>bids per country</th>\n",
       "      <th>per instant bids</th>\n",
       "    </tr>\n",
       "  </thead>\n",
       "  <tbody>\n",
       "    <tr>\n",
       "      <th>0</th>\n",
       "      <td>0</td>\n",
       "      <td>18</td>\n",
       "      <td>14</td>\n",
       "      <td>24</td>\n",
       "      <td>6</td>\n",
       "      <td>20</td>\n",
       "      <td>1</td>\n",
       "      <td>24</td>\n",
       "      <td>0</td>\n",
       "      <td>0</td>\n",
       "      <td>...</td>\n",
       "      <td>1</td>\n",
       "      <td>0</td>\n",
       "      <td>91a3c57b13234af24875c56fb7e2b2f4rb56a</td>\n",
       "      <td>a3d2de7675556553a5f08e4c88d2c228754av</td>\n",
       "      <td>a3d2de7675556553a5f08e4c88d2c228vt0u4</td>\n",
       "      <td>24.0</td>\n",
       "      <td>-0.318234</td>\n",
       "      <td>-0.546676</td>\n",
       "      <td>4</td>\n",
       "      <td>0.041667</td>\n",
       "    </tr>\n",
       "    <tr>\n",
       "      <th>1</th>\n",
       "      <td>0</td>\n",
       "      <td>1</td>\n",
       "      <td>2</td>\n",
       "      <td>3</td>\n",
       "      <td>1</td>\n",
       "      <td>3</td>\n",
       "      <td>2</td>\n",
       "      <td>3</td>\n",
       "      <td>0</td>\n",
       "      <td>0</td>\n",
       "      <td>...</td>\n",
       "      <td>1</td>\n",
       "      <td>0</td>\n",
       "      <td>624f258b49e77713fc34034560f93fb3hu3jo</td>\n",
       "      <td>a3d2de7675556553a5f08e4c88d2c228v1sga</td>\n",
       "      <td>ae87054e5a97a8f840a3991d12611fdcrfbq3</td>\n",
       "      <td>3.0</td>\n",
       "      <td>0.002462</td>\n",
       "      <td>-0.583800</td>\n",
       "      <td>3</td>\n",
       "      <td>0.333333</td>\n",
       "    </tr>\n",
       "    <tr>\n",
       "      <th>2</th>\n",
       "      <td>0</td>\n",
       "      <td>4</td>\n",
       "      <td>2</td>\n",
       "      <td>4</td>\n",
       "      <td>1</td>\n",
       "      <td>4</td>\n",
       "      <td>2</td>\n",
       "      <td>4</td>\n",
       "      <td>0</td>\n",
       "      <td>0</td>\n",
       "      <td>...</td>\n",
       "      <td>1</td>\n",
       "      <td>0</td>\n",
       "      <td>1c5f4fc669099bfbfac515cd26997bd12ruaj</td>\n",
       "      <td>a3d2de7675556553a5f08e4c88d2c2280cybl</td>\n",
       "      <td>92520288b50f03907041887884ba49c0cl0pd</td>\n",
       "      <td>4.0</td>\n",
       "      <td>0.046788</td>\n",
       "      <td>-0.379889</td>\n",
       "      <td>4</td>\n",
       "      <td>0.250000</td>\n",
       "    </tr>\n",
       "    <tr>\n",
       "      <th>3</th>\n",
       "      <td>0</td>\n",
       "      <td>1</td>\n",
       "      <td>1</td>\n",
       "      <td>1</td>\n",
       "      <td>1</td>\n",
       "      <td>1</td>\n",
       "      <td>1</td>\n",
       "      <td>1</td>\n",
       "      <td>0</td>\n",
       "      <td>1</td>\n",
       "      <td>...</td>\n",
       "      <td>1</td>\n",
       "      <td>0</td>\n",
       "      <td>4bee9aba2abda51bf43d639013d6efe12iycd</td>\n",
       "      <td>51d80e233f7b6a7dfdee484a3c120f3b2ita8</td>\n",
       "      <td>4cb9717c8ad7e88a9a284989dd79b98dbevyi</td>\n",
       "      <td>1.0</td>\n",
       "      <td>4.863463</td>\n",
       "      <td>3.632606</td>\n",
       "      <td>1</td>\n",
       "      <td>1.000000</td>\n",
       "    </tr>\n",
       "    <tr>\n",
       "      <th>4</th>\n",
       "      <td>0</td>\n",
       "      <td>23</td>\n",
       "      <td>53</td>\n",
       "      <td>155</td>\n",
       "      <td>2</td>\n",
       "      <td>123</td>\n",
       "      <td>91</td>\n",
       "      <td>155</td>\n",
       "      <td>0</td>\n",
       "      <td>0</td>\n",
       "      <td>...</td>\n",
       "      <td>1</td>\n",
       "      <td>0</td>\n",
       "      <td>4ab12bc61c82ddd9c2d65e60555808acqgos1</td>\n",
       "      <td>a3d2de7675556553a5f08e4c88d2c22857ddh</td>\n",
       "      <td>2a96c3ce94b3be921e0296097b88b56a7x1ji</td>\n",
       "      <td>155.0</td>\n",
       "      <td>-0.332550</td>\n",
       "      <td>-0.735415</td>\n",
       "      <td>77</td>\n",
       "      <td>0.006452</td>\n",
       "    </tr>\n",
       "    <tr>\n",
       "      <th>...</th>\n",
       "      <td>...</td>\n",
       "      <td>...</td>\n",
       "      <td>...</td>\n",
       "      <td>...</td>\n",
       "      <td>...</td>\n",
       "      <td>...</td>\n",
       "      <td>...</td>\n",
       "      <td>...</td>\n",
       "      <td>...</td>\n",
       "      <td>...</td>\n",
       "      <td>...</td>\n",
       "      <td>...</td>\n",
       "      <td>...</td>\n",
       "      <td>...</td>\n",
       "      <td>...</td>\n",
       "      <td>...</td>\n",
       "      <td>...</td>\n",
       "      <td>...</td>\n",
       "      <td>...</td>\n",
       "      <td>...</td>\n",
       "      <td>...</td>\n",
       "    </tr>\n",
       "    <tr>\n",
       "      <th>2008</th>\n",
       "      <td>0</td>\n",
       "      <td>25</td>\n",
       "      <td>4</td>\n",
       "      <td>33</td>\n",
       "      <td>4</td>\n",
       "      <td>5</td>\n",
       "      <td>2</td>\n",
       "      <td>36</td>\n",
       "      <td>0</td>\n",
       "      <td>0</td>\n",
       "      <td>...</td>\n",
       "      <td>7</td>\n",
       "      <td>1</td>\n",
       "      <td>369515b3af4f8ca582f90271d30b14b6r52aw</td>\n",
       "      <td>a1f85275793c4a782f0a668711f41b927ivc9</td>\n",
       "      <td>e6882cf204a9482edd042b6e31791dfctxzx8</td>\n",
       "      <td>36.0</td>\n",
       "      <td>-0.332682</td>\n",
       "      <td>0.414125</td>\n",
       "      <td>9</td>\n",
       "      <td>0.055556</td>\n",
       "    </tr>\n",
       "    <tr>\n",
       "      <th>2009</th>\n",
       "      <td>0</td>\n",
       "      <td>1</td>\n",
       "      <td>1</td>\n",
       "      <td>1</td>\n",
       "      <td>1</td>\n",
       "      <td>1</td>\n",
       "      <td>1</td>\n",
       "      <td>1</td>\n",
       "      <td>0</td>\n",
       "      <td>0</td>\n",
       "      <td>...</td>\n",
       "      <td>1</td>\n",
       "      <td>0</td>\n",
       "      <td>f939c17ffc7c39ac9b35b69e5e75179fv9pe2</td>\n",
       "      <td>a3d2de7675556553a5f08e4c88d2c2286s1m2</td>\n",
       "      <td>b9b03d5a127eb07aeb9163cdcf524e1344ac9</td>\n",
       "      <td>1.0</td>\n",
       "      <td>4.776437</td>\n",
       "      <td>3.557121</td>\n",
       "      <td>1</td>\n",
       "      <td>1.000000</td>\n",
       "    </tr>\n",
       "    <tr>\n",
       "      <th>2010</th>\n",
       "      <td>0</td>\n",
       "      <td>1</td>\n",
       "      <td>2</td>\n",
       "      <td>2</td>\n",
       "      <td>1</td>\n",
       "      <td>2</td>\n",
       "      <td>1</td>\n",
       "      <td>2</td>\n",
       "      <td>0</td>\n",
       "      <td>0</td>\n",
       "      <td>...</td>\n",
       "      <td>1</td>\n",
       "      <td>0</td>\n",
       "      <td>c806dbb2decba0ed3c4ff5e2e60a74c2wjvbl</td>\n",
       "      <td>a3d2de7675556553a5f08e4c88d2c22856leq</td>\n",
       "      <td>d02c2b288b8aabd79ff47118aff41a2dqwzwc</td>\n",
       "      <td>2.0</td>\n",
       "      <td>-0.084399</td>\n",
       "      <td>-0.659142</td>\n",
       "      <td>2</td>\n",
       "      <td>0.500000</td>\n",
       "    </tr>\n",
       "    <tr>\n",
       "      <th>2011</th>\n",
       "      <td>0</td>\n",
       "      <td>1</td>\n",
       "      <td>1</td>\n",
       "      <td>1</td>\n",
       "      <td>1</td>\n",
       "      <td>1</td>\n",
       "      <td>1</td>\n",
       "      <td>1</td>\n",
       "      <td>0</td>\n",
       "      <td>0</td>\n",
       "      <td>...</td>\n",
       "      <td>1</td>\n",
       "      <td>0</td>\n",
       "      <td>0381a69b7a061e9ace2798fd48f1f537mgq57</td>\n",
       "      <td>fd87037ce0304077079c749f420f0b4c54uo0</td>\n",
       "      <td>f030a221726fbcdfc4dc7dfd1b381a112hieq</td>\n",
       "      <td>1.0</td>\n",
       "      <td>0.004808</td>\n",
       "      <td>-0.581765</td>\n",
       "      <td>1</td>\n",
       "      <td>1.000000</td>\n",
       "    </tr>\n",
       "    <tr>\n",
       "      <th>2012</th>\n",
       "      <td>0</td>\n",
       "      <td>1</td>\n",
       "      <td>1</td>\n",
       "      <td>2</td>\n",
       "      <td>1</td>\n",
       "      <td>1</td>\n",
       "      <td>1</td>\n",
       "      <td>2</td>\n",
       "      <td>0</td>\n",
       "      <td>0</td>\n",
       "      <td>...</td>\n",
       "      <td>2</td>\n",
       "      <td>0</td>\n",
       "      <td>84a769adc98498f52debfe57b93a0789556f4</td>\n",
       "      <td>fbe0ce34d6546ebd9e4c63afc68b085byd2tf</td>\n",
       "      <td>a3d2de7675556553a5f08e4c88d2c228fib6p</td>\n",
       "      <td>2.0</td>\n",
       "      <td>0.225766</td>\n",
       "      <td>-0.390107</td>\n",
       "      <td>2</td>\n",
       "      <td>0.500000</td>\n",
       "    </tr>\n",
       "  </tbody>\n",
       "</table>\n",
       "<p>2013 rows × 35 columns</p>\n",
       "</div>"
      ],
      "text/plain": [
       "      outcome  auction count  device count  time count  country count  \\\n",
       "0           0             18            14          24              6   \n",
       "1           0              1             2           3              1   \n",
       "2           0              4             2           4              1   \n",
       "3           0              1             1           1              1   \n",
       "4           0             23            53         155              2   \n",
       "...       ...            ...           ...         ...            ...   \n",
       "2008        0             25             4          33              4   \n",
       "2009        0              1             1           1              1   \n",
       "2010        0              1             2           2              1   \n",
       "2011        0              1             1           1              1   \n",
       "2012        0              1             1           2              1   \n",
       "\n",
       "      ip count  url count  num_bids  auto parts  books and music  ...  \\\n",
       "0           20          1        24           0                0  ...   \n",
       "1            3          2         3           0                0  ...   \n",
       "2            4          2         4           0                0  ...   \n",
       "3            1          1         1           0                1  ...   \n",
       "4          123         91       155           0                0  ...   \n",
       "...        ...        ...       ...         ...              ...  ...   \n",
       "2008         5          2        36           0                0  ...   \n",
       "2009         1          1         1           0                0  ...   \n",
       "2010         2          1         2           0                0  ...   \n",
       "2011         1          1         1           0                0  ...   \n",
       "2012         1          1         2           0                0  ...   \n",
       "\n",
       "      bids per ip  no of first bids                              bidder_id  \\\n",
       "0               1                 0  91a3c57b13234af24875c56fb7e2b2f4rb56a   \n",
       "1               1                 0  624f258b49e77713fc34034560f93fb3hu3jo   \n",
       "2               1                 0  1c5f4fc669099bfbfac515cd26997bd12ruaj   \n",
       "3               1                 0  4bee9aba2abda51bf43d639013d6efe12iycd   \n",
       "4               1                 0  4ab12bc61c82ddd9c2d65e60555808acqgos1   \n",
       "...           ...               ...                                    ...   \n",
       "2008            7                 1  369515b3af4f8ca582f90271d30b14b6r52aw   \n",
       "2009            1                 0  f939c17ffc7c39ac9b35b69e5e75179fv9pe2   \n",
       "2010            1                 0  c806dbb2decba0ed3c4ff5e2e60a74c2wjvbl   \n",
       "2011            1                 0  0381a69b7a061e9ace2798fd48f1f537mgq57   \n",
       "2012            2                 0  84a769adc98498f52debfe57b93a0789556f4   \n",
       "\n",
       "                            payment_account  \\\n",
       "0     a3d2de7675556553a5f08e4c88d2c228754av   \n",
       "1     a3d2de7675556553a5f08e4c88d2c228v1sga   \n",
       "2     a3d2de7675556553a5f08e4c88d2c2280cybl   \n",
       "3     51d80e233f7b6a7dfdee484a3c120f3b2ita8   \n",
       "4     a3d2de7675556553a5f08e4c88d2c22857ddh   \n",
       "...                                     ...   \n",
       "2008  a1f85275793c4a782f0a668711f41b927ivc9   \n",
       "2009  a3d2de7675556553a5f08e4c88d2c2286s1m2   \n",
       "2010  a3d2de7675556553a5f08e4c88d2c22856leq   \n",
       "2011  fd87037ce0304077079c749f420f0b4c54uo0   \n",
       "2012  fbe0ce34d6546ebd9e4c63afc68b085byd2tf   \n",
       "\n",
       "                                    address  bid_id  min delay  mean delay  \\\n",
       "0     a3d2de7675556553a5f08e4c88d2c228vt0u4    24.0  -0.318234   -0.546676   \n",
       "1     ae87054e5a97a8f840a3991d12611fdcrfbq3     3.0   0.002462   -0.583800   \n",
       "2     92520288b50f03907041887884ba49c0cl0pd     4.0   0.046788   -0.379889   \n",
       "3     4cb9717c8ad7e88a9a284989dd79b98dbevyi     1.0   4.863463    3.632606   \n",
       "4     2a96c3ce94b3be921e0296097b88b56a7x1ji   155.0  -0.332550   -0.735415   \n",
       "...                                     ...     ...        ...         ...   \n",
       "2008  e6882cf204a9482edd042b6e31791dfctxzx8    36.0  -0.332682    0.414125   \n",
       "2009  b9b03d5a127eb07aeb9163cdcf524e1344ac9     1.0   4.776437    3.557121   \n",
       "2010  d02c2b288b8aabd79ff47118aff41a2dqwzwc     2.0  -0.084399   -0.659142   \n",
       "2011  f030a221726fbcdfc4dc7dfd1b381a112hieq     1.0   0.004808   -0.581765   \n",
       "2012  a3d2de7675556553a5f08e4c88d2c228fib6p     2.0   0.225766   -0.390107   \n",
       "\n",
       "      bids per country  per instant bids  \n",
       "0                    4          0.041667  \n",
       "1                    3          0.333333  \n",
       "2                    4          0.250000  \n",
       "3                    1          1.000000  \n",
       "4                   77          0.006452  \n",
       "...                ...               ...  \n",
       "2008                 9          0.055556  \n",
       "2009                 1          1.000000  \n",
       "2010                 2          0.500000  \n",
       "2011                 1          1.000000  \n",
       "2012                 2          0.500000  \n",
       "\n",
       "[2013 rows x 35 columns]"
      ]
     },
     "execution_count": 54,
     "metadata": {},
     "output_type": "execute_result"
    }
   ],
   "source": [
    "col=np.array(train_set2['bids per country'], np.int64) \n",
    "final_train_set2['bids per country'] = col\n",
    "final_train_set2"
   ]
  },
  {
   "cell_type": "code",
   "execution_count": 55,
   "metadata": {
    "scrolled": true
   },
   "outputs": [
    {
     "data": {
      "text/html": [
       "<div>\n",
       "<style scoped>\n",
       "    .dataframe tbody tr th:only-of-type {\n",
       "        vertical-align: middle;\n",
       "    }\n",
       "\n",
       "    .dataframe tbody tr th {\n",
       "        vertical-align: top;\n",
       "    }\n",
       "\n",
       "    .dataframe thead th {\n",
       "        text-align: right;\n",
       "    }\n",
       "</style>\n",
       "<table border=\"1\" class=\"dataframe\">\n",
       "  <thead>\n",
       "    <tr style=\"text-align: right;\">\n",
       "      <th></th>\n",
       "      <th>auction count</th>\n",
       "      <th>device count</th>\n",
       "      <th>time count</th>\n",
       "      <th>country count</th>\n",
       "      <th>ip count</th>\n",
       "      <th>url count</th>\n",
       "      <th>num_bids</th>\n",
       "      <th>auto parts</th>\n",
       "      <th>books and music</th>\n",
       "      <th>clothing</th>\n",
       "      <th>...</th>\n",
       "      <th>bids per ip</th>\n",
       "      <th>no of first bids</th>\n",
       "      <th>bidder_id</th>\n",
       "      <th>payment_account</th>\n",
       "      <th>address</th>\n",
       "      <th>bid_id</th>\n",
       "      <th>min delay</th>\n",
       "      <th>mean delay</th>\n",
       "      <th>bids per country</th>\n",
       "      <th>per instant bids</th>\n",
       "    </tr>\n",
       "  </thead>\n",
       "  <tbody>\n",
       "    <tr>\n",
       "      <th>0</th>\n",
       "      <td>3</td>\n",
       "      <td>2</td>\n",
       "      <td>4</td>\n",
       "      <td>3</td>\n",
       "      <td>4</td>\n",
       "      <td>3</td>\n",
       "      <td>4</td>\n",
       "      <td>0</td>\n",
       "      <td>0</td>\n",
       "      <td>0</td>\n",
       "      <td>...</td>\n",
       "      <td>1</td>\n",
       "      <td>0</td>\n",
       "      <td>49bb5a3c944b8fc337981cc7a9ccae41u31d7</td>\n",
       "      <td>a3d2de7675556553a5f08e4c88d2c228htx90</td>\n",
       "      <td>5d9fa1b71f992e7c7a106ce4b07a0a754le7c</td>\n",
       "      <td>4.0</td>\n",
       "      <td>-0.301611</td>\n",
       "      <td>0.550785</td>\n",
       "      <td>1</td>\n",
       "      <td>0.250000</td>\n",
       "    </tr>\n",
       "    <tr>\n",
       "      <th>1</th>\n",
       "      <td>2</td>\n",
       "      <td>3</td>\n",
       "      <td>3</td>\n",
       "      <td>2</td>\n",
       "      <td>2</td>\n",
       "      <td>1</td>\n",
       "      <td>3</td>\n",
       "      <td>0</td>\n",
       "      <td>0</td>\n",
       "      <td>0</td>\n",
       "      <td>...</td>\n",
       "      <td>1</td>\n",
       "      <td>0</td>\n",
       "      <td>a921612b85a1494456e74c09393ccb65ylp4y</td>\n",
       "      <td>a3d2de7675556553a5f08e4c88d2c228rs17i</td>\n",
       "      <td>a3d2de7675556553a5f08e4c88d2c228klidn</td>\n",
       "      <td>3.0</td>\n",
       "      <td>-0.311044</td>\n",
       "      <td>1.403184</td>\n",
       "      <td>1</td>\n",
       "      <td>0.333333</td>\n",
       "    </tr>\n",
       "    <tr>\n",
       "      <th>2</th>\n",
       "      <td>14</td>\n",
       "      <td>4</td>\n",
       "      <td>17</td>\n",
       "      <td>3</td>\n",
       "      <td>4</td>\n",
       "      <td>2</td>\n",
       "      <td>17</td>\n",
       "      <td>0</td>\n",
       "      <td>0</td>\n",
       "      <td>0</td>\n",
       "      <td>...</td>\n",
       "      <td>4</td>\n",
       "      <td>0</td>\n",
       "      <td>6b601e72a4d264dab9ace9d7b229b47479v6i</td>\n",
       "      <td>925381cce086b8cc9594eee1c77edf665zjpl</td>\n",
       "      <td>a3d2de7675556553a5f08e4c88d2c228aght0</td>\n",
       "      <td>17.0</td>\n",
       "      <td>-0.319377</td>\n",
       "      <td>0.290090</td>\n",
       "      <td>5</td>\n",
       "      <td>0.058824</td>\n",
       "    </tr>\n",
       "    <tr>\n",
       "      <th>3</th>\n",
       "      <td>90</td>\n",
       "      <td>81</td>\n",
       "      <td>148</td>\n",
       "      <td>14</td>\n",
       "      <td>129</td>\n",
       "      <td>80</td>\n",
       "      <td>148</td>\n",
       "      <td>0</td>\n",
       "      <td>0</td>\n",
       "      <td>0</td>\n",
       "      <td>...</td>\n",
       "      <td>1</td>\n",
       "      <td>0</td>\n",
       "      <td>eaf0ed0afc9689779417274b4791726cn5udi</td>\n",
       "      <td>a3d2de7675556553a5f08e4c88d2c228nclv5</td>\n",
       "      <td>b5714de1fd69d4a0d2e39d59e53fe9e15vwat</td>\n",
       "      <td>148.0</td>\n",
       "      <td>-0.343149</td>\n",
       "      <td>0.520055</td>\n",
       "      <td>10</td>\n",
       "      <td>0.006757</td>\n",
       "    </tr>\n",
       "    <tr>\n",
       "      <th>4</th>\n",
       "      <td>20</td>\n",
       "      <td>17</td>\n",
       "      <td>23</td>\n",
       "      <td>2</td>\n",
       "      <td>17</td>\n",
       "      <td>1</td>\n",
       "      <td>23</td>\n",
       "      <td>0</td>\n",
       "      <td>0</td>\n",
       "      <td>0</td>\n",
       "      <td>...</td>\n",
       "      <td>1</td>\n",
       "      <td>0</td>\n",
       "      <td>cdecd8d02ed8c6037e38042c7745f688mx5sf</td>\n",
       "      <td>a3d2de7675556553a5f08e4c88d2c228dtdkd</td>\n",
       "      <td>c3b363a3c3b838d58c85acf0fc9964cb4pnfa</td>\n",
       "      <td>23.0</td>\n",
       "      <td>-0.119357</td>\n",
       "      <td>-0.517934</td>\n",
       "      <td>11</td>\n",
       "      <td>0.043478</td>\n",
       "    </tr>\n",
       "    <tr>\n",
       "      <th>...</th>\n",
       "      <td>...</td>\n",
       "      <td>...</td>\n",
       "      <td>...</td>\n",
       "      <td>...</td>\n",
       "      <td>...</td>\n",
       "      <td>...</td>\n",
       "      <td>...</td>\n",
       "      <td>...</td>\n",
       "      <td>...</td>\n",
       "      <td>...</td>\n",
       "      <td>...</td>\n",
       "      <td>...</td>\n",
       "      <td>...</td>\n",
       "      <td>...</td>\n",
       "      <td>...</td>\n",
       "      <td>...</td>\n",
       "      <td>...</td>\n",
       "      <td>...</td>\n",
       "      <td>...</td>\n",
       "      <td>...</td>\n",
       "      <td>...</td>\n",
       "    </tr>\n",
       "    <tr>\n",
       "      <th>4695</th>\n",
       "      <td>41</td>\n",
       "      <td>9</td>\n",
       "      <td>466</td>\n",
       "      <td>5</td>\n",
       "      <td>22</td>\n",
       "      <td>4</td>\n",
       "      <td>983</td>\n",
       "      <td>0</td>\n",
       "      <td>0</td>\n",
       "      <td>0</td>\n",
       "      <td>...</td>\n",
       "      <td>44</td>\n",
       "      <td>0</td>\n",
       "      <td>bef56983ba78b2ee064443ae95972877jfkyd</td>\n",
       "      <td>0f235a6dfea5a5885d63968826b748b4q4dra</td>\n",
       "      <td>a98a4841db165de919d29cb49d0bc306cq21h</td>\n",
       "      <td>983.0</td>\n",
       "      <td>-0.274153</td>\n",
       "      <td>0.825090</td>\n",
       "      <td>196</td>\n",
       "      <td>0.008138</td>\n",
       "    </tr>\n",
       "    <tr>\n",
       "      <th>4696</th>\n",
       "      <td>32</td>\n",
       "      <td>29</td>\n",
       "      <td>66</td>\n",
       "      <td>10</td>\n",
       "      <td>49</td>\n",
       "      <td>18</td>\n",
       "      <td>66</td>\n",
       "      <td>0</td>\n",
       "      <td>0</td>\n",
       "      <td>0</td>\n",
       "      <td>...</td>\n",
       "      <td>1</td>\n",
       "      <td>0</td>\n",
       "      <td>4da45cc915c32d4368ac7e773d92d4affwqrr</td>\n",
       "      <td>9e0adf7481c422654d4d0a849e0e50abiumen</td>\n",
       "      <td>e23d9777cddc347de82d839b2e54b22ecopkp</td>\n",
       "      <td>66.0</td>\n",
       "      <td>-0.328087</td>\n",
       "      <td>-0.631978</td>\n",
       "      <td>6</td>\n",
       "      <td>0.015152</td>\n",
       "    </tr>\n",
       "    <tr>\n",
       "      <th>4697</th>\n",
       "      <td>419</td>\n",
       "      <td>376</td>\n",
       "      <td>2156</td>\n",
       "      <td>86</td>\n",
       "      <td>1460</td>\n",
       "      <td>1049</td>\n",
       "      <td>2162</td>\n",
       "      <td>0</td>\n",
       "      <td>0</td>\n",
       "      <td>0</td>\n",
       "      <td>...</td>\n",
       "      <td>1</td>\n",
       "      <td>16</td>\n",
       "      <td>0d0e6220bf59ab9a0c5b5987fb2c34a9p33f9</td>\n",
       "      <td>7df4ebd184668b4257f740b11d4519afq7kr1</td>\n",
       "      <td>b650404e1ab5d177020221277c3e9306qegyl</td>\n",
       "      <td>2162.0</td>\n",
       "      <td>-0.344249</td>\n",
       "      <td>0.400426</td>\n",
       "      <td>25</td>\n",
       "      <td>0.000925</td>\n",
       "    </tr>\n",
       "    <tr>\n",
       "      <th>4698</th>\n",
       "      <td>5</td>\n",
       "      <td>4</td>\n",
       "      <td>5</td>\n",
       "      <td>1</td>\n",
       "      <td>5</td>\n",
       "      <td>2</td>\n",
       "      <td>5</td>\n",
       "      <td>0</td>\n",
       "      <td>0</td>\n",
       "      <td>0</td>\n",
       "      <td>...</td>\n",
       "      <td>1</td>\n",
       "      <td>0</td>\n",
       "      <td>4981c32c54dde65b79dbc48fd9ab6457caqze</td>\n",
       "      <td>a3d2de7675556553a5f08e4c88d2c2284qlm0</td>\n",
       "      <td>9c35320088eaf32046a51a96ebb2e658i479u</td>\n",
       "      <td>5.0</td>\n",
       "      <td>-0.297487</td>\n",
       "      <td>-0.618911</td>\n",
       "      <td>5</td>\n",
       "      <td>0.200000</td>\n",
       "    </tr>\n",
       "    <tr>\n",
       "      <th>4699</th>\n",
       "      <td>116</td>\n",
       "      <td>117</td>\n",
       "      <td>382</td>\n",
       "      <td>10</td>\n",
       "      <td>347</td>\n",
       "      <td>246</td>\n",
       "      <td>382</td>\n",
       "      <td>0</td>\n",
       "      <td>0</td>\n",
       "      <td>0</td>\n",
       "      <td>...</td>\n",
       "      <td>1</td>\n",
       "      <td>0</td>\n",
       "      <td>7ade70030d559a6c255be2f6feca17acnrqs0</td>\n",
       "      <td>a3d2de7675556553a5f08e4c88d2c228vo1hu</td>\n",
       "      <td>a3d2de7675556553a5f08e4c88d2c228la8g8</td>\n",
       "      <td>382.0</td>\n",
       "      <td>-0.339854</td>\n",
       "      <td>-0.063908</td>\n",
       "      <td>38</td>\n",
       "      <td>0.002618</td>\n",
       "    </tr>\n",
       "  </tbody>\n",
       "</table>\n",
       "<p>4700 rows × 34 columns</p>\n",
       "</div>"
      ],
      "text/plain": [
       "      auction count  device count  time count  country count  ip count  \\\n",
       "0                 3             2           4              3         4   \n",
       "1                 2             3           3              2         2   \n",
       "2                14             4          17              3         4   \n",
       "3                90            81         148             14       129   \n",
       "4                20            17          23              2        17   \n",
       "...             ...           ...         ...            ...       ...   \n",
       "4695             41             9         466              5        22   \n",
       "4696             32            29          66             10        49   \n",
       "4697            419           376        2156             86      1460   \n",
       "4698              5             4           5              1         5   \n",
       "4699            116           117         382             10       347   \n",
       "\n",
       "      url count  num_bids  auto parts  books and music  clothing  ...  \\\n",
       "0             3         4           0                0         0  ...   \n",
       "1             1         3           0                0         0  ...   \n",
       "2             2        17           0                0         0  ...   \n",
       "3            80       148           0                0         0  ...   \n",
       "4             1        23           0                0         0  ...   \n",
       "...         ...       ...         ...              ...       ...  ...   \n",
       "4695          4       983           0                0         0  ...   \n",
       "4696         18        66           0                0         0  ...   \n",
       "4697       1049      2162           0                0         0  ...   \n",
       "4698          2         5           0                0         0  ...   \n",
       "4699        246       382           0                0         0  ...   \n",
       "\n",
       "      bids per ip  no of first bids                              bidder_id  \\\n",
       "0               1                 0  49bb5a3c944b8fc337981cc7a9ccae41u31d7   \n",
       "1               1                 0  a921612b85a1494456e74c09393ccb65ylp4y   \n",
       "2               4                 0  6b601e72a4d264dab9ace9d7b229b47479v6i   \n",
       "3               1                 0  eaf0ed0afc9689779417274b4791726cn5udi   \n",
       "4               1                 0  cdecd8d02ed8c6037e38042c7745f688mx5sf   \n",
       "...           ...               ...                                    ...   \n",
       "4695           44                 0  bef56983ba78b2ee064443ae95972877jfkyd   \n",
       "4696            1                 0  4da45cc915c32d4368ac7e773d92d4affwqrr   \n",
       "4697            1                16  0d0e6220bf59ab9a0c5b5987fb2c34a9p33f9   \n",
       "4698            1                 0  4981c32c54dde65b79dbc48fd9ab6457caqze   \n",
       "4699            1                 0  7ade70030d559a6c255be2f6feca17acnrqs0   \n",
       "\n",
       "                            payment_account  \\\n",
       "0     a3d2de7675556553a5f08e4c88d2c228htx90   \n",
       "1     a3d2de7675556553a5f08e4c88d2c228rs17i   \n",
       "2     925381cce086b8cc9594eee1c77edf665zjpl   \n",
       "3     a3d2de7675556553a5f08e4c88d2c228nclv5   \n",
       "4     a3d2de7675556553a5f08e4c88d2c228dtdkd   \n",
       "...                                     ...   \n",
       "4695  0f235a6dfea5a5885d63968826b748b4q4dra   \n",
       "4696  9e0adf7481c422654d4d0a849e0e50abiumen   \n",
       "4697  7df4ebd184668b4257f740b11d4519afq7kr1   \n",
       "4698  a3d2de7675556553a5f08e4c88d2c2284qlm0   \n",
       "4699  a3d2de7675556553a5f08e4c88d2c228vo1hu   \n",
       "\n",
       "                                    address  bid_id  min delay  mean delay  \\\n",
       "0     5d9fa1b71f992e7c7a106ce4b07a0a754le7c     4.0  -0.301611    0.550785   \n",
       "1     a3d2de7675556553a5f08e4c88d2c228klidn     3.0  -0.311044    1.403184   \n",
       "2     a3d2de7675556553a5f08e4c88d2c228aght0    17.0  -0.319377    0.290090   \n",
       "3     b5714de1fd69d4a0d2e39d59e53fe9e15vwat   148.0  -0.343149    0.520055   \n",
       "4     c3b363a3c3b838d58c85acf0fc9964cb4pnfa    23.0  -0.119357   -0.517934   \n",
       "...                                     ...     ...        ...         ...   \n",
       "4695  a98a4841db165de919d29cb49d0bc306cq21h   983.0  -0.274153    0.825090   \n",
       "4696  e23d9777cddc347de82d839b2e54b22ecopkp    66.0  -0.328087   -0.631978   \n",
       "4697  b650404e1ab5d177020221277c3e9306qegyl  2162.0  -0.344249    0.400426   \n",
       "4698  9c35320088eaf32046a51a96ebb2e658i479u     5.0  -0.297487   -0.618911   \n",
       "4699  a3d2de7675556553a5f08e4c88d2c228la8g8   382.0  -0.339854   -0.063908   \n",
       "\n",
       "      bids per country  per instant bids  \n",
       "0                    1          0.250000  \n",
       "1                    1          0.333333  \n",
       "2                    5          0.058824  \n",
       "3                   10          0.006757  \n",
       "4                   11          0.043478  \n",
       "...                ...               ...  \n",
       "4695               196          0.008138  \n",
       "4696                 6          0.015152  \n",
       "4697                25          0.000925  \n",
       "4698                 5          0.200000  \n",
       "4699                38          0.002618  \n",
       "\n",
       "[4700 rows x 34 columns]"
      ]
     },
     "execution_count": 55,
     "metadata": {},
     "output_type": "execute_result"
    }
   ],
   "source": [
    "col=np.array(test_set2['bids per country'], np.int64) \n",
    "final_test_set2['bids per country'] = col\n",
    "final_test_set2"
   ]
  },
  {
   "cell_type": "markdown",
   "metadata": {},
   "source": [
    "# Model Training"
   ]
  },
  {
   "cell_type": "markdown",
   "metadata": {},
   "source": [
    "### Separating data and train test split"
   ]
  },
  {
   "cell_type": "code",
   "execution_count": 56,
   "metadata": {},
   "outputs": [],
   "source": [
    "feature_cols = ['auction count', 'device count', 'time count', 'country count',\n",
    "       'ip count', 'url count', 'num_bids', 'auto parts', 'books and music',\n",
    "       'clothing', 'computers', 'furniture', 'home goods', 'jewelry', 'mobile',\n",
    "       'office equipment', 'sporting goods', 'bids per instant',\n",
    "       'simultaneous countries', 'simultaneous devices',\n",
    "       'simultaneous auctions', 'bids in an auction', 'bids per auction',\n",
    "       'bids per device', 'bids per ip', 'no of first bids', 'min delay',\n",
    "       'mean delay',\n",
    "       'bids per country', 'per instant bids']\n",
    "\n",
    "X = final_train_set2[feature_cols]\n",
    "y = final_train_set2['outcome']\n",
    "\n",
    "X_kaggle = final_test_set2[feature_cols]"
   ]
  },
  {
   "cell_type": "markdown",
   "metadata": {},
   "source": [
    "### Helper functions"
   ]
  },
  {
   "cell_type": "markdown",
   "metadata": {},
   "source": [
    "I defined a function which returns a fitted model based on ML algorithm and train data."
   ]
  },
  {
   "cell_type": "code",
   "execution_count": 97,
   "metadata": {},
   "outputs": [],
   "source": [
    "def train_model(algo, X_train, y_train):\n",
    "    model = algo.fit(X_train, y_train)\n",
    "    \n",
    "    return model"
   ]
  },
  {
   "cell_type": "markdown",
   "metadata": {},
   "source": [
    "I defined another function to get the accuracy score, CV accuracy score, and AUC graph of a model."
   ]
  },
  {
   "cell_type": "code",
   "execution_count": 151,
   "metadata": {},
   "outputs": [],
   "source": [
    "def get_scores(algo, X, y, cv):\n",
    "    X_train, X_test, y_train, y_test = train_test_split(X, y, test_size=0.3, random_state=42)\n",
    "    \n",
    "    model = algo.fit(X_train, y_train)\n",
    "    \n",
    "    # Predict the target on the test dataset\n",
    "    y_predict = model.predict(X_test)\n",
    "    \n",
    "    #Accuracy Score on test dataset\n",
    "    acc_score = round(metrics.accuracy_score(y_test, y_predict) * 100, 2)\n",
    "\n",
    "    # Cross Validation\n",
    "    cv_predict = model_selection.cross_val_predict(algo, X, y, cv=cv, n_jobs = -1)\n",
    "    \n",
    "    # Cross-validation accuracy metric\n",
    "    acc_score_cv = round(metrics.accuracy_score(y, cv_predict) * 100, 2)\n",
    "    \n",
    "    # Get AUC\n",
    "    y_pred_probabilities = model.predict_proba(X_test)\n",
    "    y_pred_probabilities_formatted = y_pred_probabilities[:, 1]\n",
    "    \n",
    "    y_pred_probabilities_formatted = list(y_pred_probabilities_formatted)\n",
    "    fpr, tpr, thresholds = roc_curve(y_test, y_pred_probabilities_formatted)\n",
    "    auc_calculation = f'{auc(fpr, tpr):.4f}'\n",
    "\n",
    "    # Plotting the chart\n",
    "    fig = px.area(\n",
    "        x=fpr, y=tpr,\n",
    "        title=f'ROC Curve (AUC={auc(fpr, tpr):.4f})',\n",
    "        labels=dict(x='False Positive Rate', y='True Positive Rate'),\n",
    "        width=700, height=500\n",
    "    )\n",
    "\n",
    "    # This part is just for formatting & adding the dash-line \n",
    "    fig.add_shape(\n",
    "        type='line', line=dict(dash='dash'),\n",
    "        x0=0, x1=1, y0=0, y1=1\n",
    "    )\n",
    "    fig.update_yaxes(scaleanchor=\"x\", scaleratio=1)\n",
    "    fig.update_xaxes(constrain='domain')\n",
    "\n",
    "    fig.show()\n",
    "    \n",
    "    return acc_score, acc_score_cv, auc_calculation"
   ]
  },
  {
   "cell_type": "code",
   "execution_count": 152,
   "metadata": {
    "scrolled": true
   },
   "outputs": [
    {
     "name": "stderr",
     "output_type": "stream",
     "text": [
      "C:\\Users\\Natalie Chua\\anaconda3\\lib\\site-packages\\xgboost\\sklearn.py:1146: UserWarning:\n",
      "\n",
      "The use of label encoder in XGBClassifier is deprecated and will be removed in a future release. To remove this warning, do the following: 1) Pass option use_label_encoder=False when constructing XGBClassifier object; and 2) Encode your labels (y) as integers starting with 0, i.e. 0, 1, 2, ..., [num_class - 1].\n",
      "\n"
     ]
    },
    {
     "name": "stdout",
     "output_type": "stream",
     "text": [
      "[00:19:39] WARNING: C:/Users/Administrator/workspace/xgboost-win64_release_1.4.0/src/learner.cc:1095: Starting in XGBoost 1.3.0, the default evaluation metric used with the objective 'binary:logistic' was changed from 'error' to 'logloss'. Explicitly set eval_metric if you'd like to restore the old behavior.\n"
     ]
    },
    {
     "name": "stderr",
     "output_type": "stream",
     "text": [
      "C:\\Users\\Natalie Chua\\anaconda3\\lib\\site-packages\\sklearn\\linear_model\\_logistic.py:762: ConvergenceWarning:\n",
      "\n",
      "lbfgs failed to converge (status=2):\n",
      "ABNORMAL_TERMINATION_IN_LNSRCH.\n",
      "\n",
      "Increase the number of iterations (max_iter) or scale the data as shown in:\n",
      "    https://scikit-learn.org/stable/modules/preprocessing.html\n",
      "Please also refer to the documentation for alternative solver options:\n",
      "    https://scikit-learn.org/stable/modules/linear_model.html#logistic-regression\n",
      "\n"
     ]
    }
   ],
   "source": [
    "# Gradient boost\n",
    "XGB_model = train_model(xgb.XGBClassifier(), X_train, y_train)\n",
    "\n",
    "# Random Forest\n",
    "rf_model = train_model(RandomForestClassifier(), X_train, y_train)\n",
    "\n",
    "# Decision Tree\n",
    "tree_model = train_model(DecisionTreeClassifier(), X_train, y_train)\n",
    "\n",
    "# Logistic Regression\n",
    "logreg_model = train_model(LogisticRegression(), X_train, y_train)"
   ]
  },
  {
   "cell_type": "code",
   "execution_count": 153,
   "metadata": {},
   "outputs": [],
   "source": [
    "model_log = pd.DataFrame(columns=['model', 'CV score', 'auc'])"
   ]
  },
  {
   "cell_type": "markdown",
   "metadata": {},
   "source": [
    "### Gradient Boost"
   ]
  },
  {
   "cell_type": "code",
   "execution_count": 154,
   "metadata": {},
   "outputs": [
    {
     "name": "stderr",
     "output_type": "stream",
     "text": [
      "C:\\Users\\Natalie Chua\\anaconda3\\lib\\site-packages\\xgboost\\sklearn.py:1146: UserWarning:\n",
      "\n",
      "The use of label encoder in XGBClassifier is deprecated and will be removed in a future release. To remove this warning, do the following: 1) Pass option use_label_encoder=False when constructing XGBClassifier object; and 2) Encode your labels (y) as integers starting with 0, i.e. 0, 1, 2, ..., [num_class - 1].\n",
      "\n"
     ]
    },
    {
     "name": "stdout",
     "output_type": "stream",
     "text": [
      "[00:19:47] WARNING: C:/Users/Administrator/workspace/xgboost-win64_release_1.4.0/src/learner.cc:1095: Starting in XGBoost 1.3.0, the default evaluation metric used with the objective 'binary:logistic' was changed from 'error' to 'logloss'. Explicitly set eval_metric if you'd like to restore the old behavior.\n"
     ]
    },
    {
     "data": {
      "application/vnd.plotly.v1+json": {
       "config": {
        "plotlyServerURL": "https://plot.ly"
       },
       "data": [
        {
         "hovertemplate": "False Positive Rate=%{x}<br>True Positive Rate=%{y}<extra></extra>",
         "legendgroup": "",
         "line": {
          "color": "#636efa"
         },
         "mode": "lines",
         "name": "",
         "orientation": "v",
         "showlegend": false,
         "stackgroup": "1",
         "type": "scatter",
         "x": [
          0,
          0,
          0,
          0.0017331022530329288,
          0.0017331022530329288,
          0.0034662045060658577,
          0.0034662045060658577,
          0.005199306759098787,
          0.005199306759098787,
          0.006932409012131715,
          0.006932409012131715,
          0.012131715771230503,
          0.012131715771230503,
          0.02079722703639515,
          0.02079722703639515,
          0.03466204506065858,
          0.03466204506065858,
          0.036395147313691506,
          0.036395147313691506,
          0.038128249566724434,
          0.038128249566724434,
          0.043327556325823226,
          0.043327556325823226,
          0.060658578856152515,
          0.060658578856152515,
          0.06412478336221837,
          0.07452339688041594,
          0.07452339688041594,
          0.08838821490467938,
          0.08838821490467938,
          0.10398613518197573,
          0.10398613518197573,
          0.12998266897746968,
          0.12998266897746968,
          0.14558058925476602,
          0.14904679376083188,
          0.15077989601386482,
          0.15771230502599654,
          0.18717504332755633,
          0.18717504332755633,
          0.20623916811091855,
          0.21143847487001732,
          0.24783362218370883,
          0.24783362218370883,
          0.30675909878682844,
          0.3119584055459272,
          0.3310225303292894,
          0.35528596187175043,
          0.35701906412478335,
          0.3708838821490468,
          0.3986135181975737,
          0.4055459272097054,
          0.41074523396880414,
          0.41421143847487,
          0.4194107452339688,
          0.42287694974003465,
          0.42807625649913345,
          0.43327556325823224,
          0.43500866551126516,
          0.464471403812825,
          0.4679376083188908,
          0.48353552859618715,
          0.49566724436741766,
          0.5233968804159446,
          0.5632582322357019,
          0.5667244367417678,
          0.5736568457538995,
          0.5823223570190641,
          0.6031195840554593,
          0.6152512998266898,
          0.6256499133448874,
          0.6291161178509532,
          0.634315424610052,
          0.6377816291161178,
          0.6568457538994801,
          0.6603119584055459,
          0.6620450606585788,
          0.6655112651646448,
          0.6724436741767764,
          0.6776429809358753,
          0.6967071057192374,
          0.7053726169844021,
          0.707105719237435,
          0.7105719237435009,
          0.7279029462738301,
          0.7313691507798961,
          0.7365684575389948,
          0.7383015597920277,
          0.7417677642980935,
          0.7452339688041595,
          0.7504332755632582,
          0.7521663778162911,
          0.755632582322357,
          0.7625649913344887,
          0.7660311958405546,
          0.7816291161178509,
          0.7850953206239168,
          0.7902946273830156,
          0.8058925476603119,
          0.8076256499133448,
          0.8180242634315424,
          0.8214904679376083,
          0.830155979202773,
          0.8318890814558059,
          0.8370883882149047,
          0.8492201039861352,
          0.8630849220103987,
          0.8734835355285961,
          0.8804159445407279,
          0.8838821490467937,
          0.8942807625649913,
          0.8994800693240901,
          0.9046793760831889,
          0.9081455805892548,
          0.9185441941074524,
          0.9202772963604853,
          0.9237435008665511,
          0.9306759098786829,
          0.9324090121317158,
          0.9358752166377816,
          0.9410745233968805,
          0.9480069324090121,
          0.9549393414211439,
          0.9774696707105719,
          0.9792027729636048,
          0.9826689774696707,
          0.9844020797227037,
          0.9878682842287695,
          0.9930675909878682,
          1
         ],
         "xaxis": "x",
         "y": [
          0,
          0.037037037037037035,
          0.2222222222222222,
          0.2222222222222222,
          0.25925925925925924,
          0.25925925925925924,
          0.2962962962962963,
          0.2962962962962963,
          0.3333333333333333,
          0.3333333333333333,
          0.37037037037037035,
          0.37037037037037035,
          0.4074074074074074,
          0.4074074074074074,
          0.48148148148148145,
          0.48148148148148145,
          0.5185185185185185,
          0.5185185185185185,
          0.5555555555555556,
          0.5555555555555556,
          0.5925925925925926,
          0.5925925925925926,
          0.6296296296296297,
          0.6296296296296297,
          0.7037037037037037,
          0.7037037037037037,
          0.7037037037037037,
          0.7407407407407407,
          0.7407407407407407,
          0.7777777777777778,
          0.7777777777777778,
          0.8148148148148148,
          0.8148148148148148,
          0.8518518518518519,
          0.8518518518518519,
          0.8518518518518519,
          0.8518518518518519,
          0.8518518518518519,
          0.8518518518518519,
          0.8888888888888888,
          0.8888888888888888,
          0.8888888888888888,
          0.8888888888888888,
          0.9259259259259259,
          0.9259259259259259,
          0.9259259259259259,
          0.9259259259259259,
          0.9259259259259259,
          0.9259259259259259,
          0.9259259259259259,
          0.9259259259259259,
          0.9259259259259259,
          0.9259259259259259,
          0.9259259259259259,
          0.9259259259259259,
          0.9259259259259259,
          0.9259259259259259,
          0.9259259259259259,
          0.9259259259259259,
          0.9259259259259259,
          0.9259259259259259,
          0.9259259259259259,
          0.9259259259259259,
          0.9259259259259259,
          0.9259259259259259,
          0.9259259259259259,
          0.9259259259259259,
          0.9259259259259259,
          0.9259259259259259,
          0.9259259259259259,
          0.9259259259259259,
          0.9259259259259259,
          0.9259259259259259,
          0.9259259259259259,
          0.9259259259259259,
          0.9259259259259259,
          0.9259259259259259,
          0.9259259259259259,
          0.9259259259259259,
          0.9629629629629629,
          0.9629629629629629,
          0.9629629629629629,
          0.9629629629629629,
          0.9629629629629629,
          0.9629629629629629,
          0.9629629629629629,
          0.9629629629629629,
          0.9629629629629629,
          0.9629629629629629,
          0.9629629629629629,
          0.9629629629629629,
          0.9629629629629629,
          0.9629629629629629,
          0.9629629629629629,
          0.9629629629629629,
          0.9629629629629629,
          0.9629629629629629,
          0.9629629629629629,
          0.9629629629629629,
          0.9629629629629629,
          0.9629629629629629,
          0.9629629629629629,
          0.9629629629629629,
          0.9629629629629629,
          0.9629629629629629,
          0.9629629629629629,
          0.9629629629629629,
          0.9629629629629629,
          0.9629629629629629,
          0.9629629629629629,
          0.9629629629629629,
          0.9629629629629629,
          1,
          1,
          1,
          1,
          1,
          1,
          1,
          1,
          1,
          1,
          1,
          1,
          1,
          1,
          1,
          1,
          1,
          1
         ],
         "yaxis": "y"
        }
       ],
       "layout": {
        "height": 500,
        "legend": {
         "tracegroupgap": 0
        },
        "shapes": [
         {
          "line": {
           "dash": "dash"
          },
          "type": "line",
          "x0": 0,
          "x1": 1,
          "y0": 0,
          "y1": 1
         }
        ],
        "template": {
         "data": {
          "bar": [
           {
            "error_x": {
             "color": "#2a3f5f"
            },
            "error_y": {
             "color": "#2a3f5f"
            },
            "marker": {
             "line": {
              "color": "#E5ECF6",
              "width": 0.5
             }
            },
            "type": "bar"
           }
          ],
          "barpolar": [
           {
            "marker": {
             "line": {
              "color": "#E5ECF6",
              "width": 0.5
             }
            },
            "type": "barpolar"
           }
          ],
          "carpet": [
           {
            "aaxis": {
             "endlinecolor": "#2a3f5f",
             "gridcolor": "white",
             "linecolor": "white",
             "minorgridcolor": "white",
             "startlinecolor": "#2a3f5f"
            },
            "baxis": {
             "endlinecolor": "#2a3f5f",
             "gridcolor": "white",
             "linecolor": "white",
             "minorgridcolor": "white",
             "startlinecolor": "#2a3f5f"
            },
            "type": "carpet"
           }
          ],
          "choropleth": [
           {
            "colorbar": {
             "outlinewidth": 0,
             "ticks": ""
            },
            "type": "choropleth"
           }
          ],
          "contour": [
           {
            "colorbar": {
             "outlinewidth": 0,
             "ticks": ""
            },
            "colorscale": [
             [
              0,
              "#0d0887"
             ],
             [
              0.1111111111111111,
              "#46039f"
             ],
             [
              0.2222222222222222,
              "#7201a8"
             ],
             [
              0.3333333333333333,
              "#9c179e"
             ],
             [
              0.4444444444444444,
              "#bd3786"
             ],
             [
              0.5555555555555556,
              "#d8576b"
             ],
             [
              0.6666666666666666,
              "#ed7953"
             ],
             [
              0.7777777777777778,
              "#fb9f3a"
             ],
             [
              0.8888888888888888,
              "#fdca26"
             ],
             [
              1,
              "#f0f921"
             ]
            ],
            "type": "contour"
           }
          ],
          "contourcarpet": [
           {
            "colorbar": {
             "outlinewidth": 0,
             "ticks": ""
            },
            "type": "contourcarpet"
           }
          ],
          "heatmap": [
           {
            "colorbar": {
             "outlinewidth": 0,
             "ticks": ""
            },
            "colorscale": [
             [
              0,
              "#0d0887"
             ],
             [
              0.1111111111111111,
              "#46039f"
             ],
             [
              0.2222222222222222,
              "#7201a8"
             ],
             [
              0.3333333333333333,
              "#9c179e"
             ],
             [
              0.4444444444444444,
              "#bd3786"
             ],
             [
              0.5555555555555556,
              "#d8576b"
             ],
             [
              0.6666666666666666,
              "#ed7953"
             ],
             [
              0.7777777777777778,
              "#fb9f3a"
             ],
             [
              0.8888888888888888,
              "#fdca26"
             ],
             [
              1,
              "#f0f921"
             ]
            ],
            "type": "heatmap"
           }
          ],
          "heatmapgl": [
           {
            "colorbar": {
             "outlinewidth": 0,
             "ticks": ""
            },
            "colorscale": [
             [
              0,
              "#0d0887"
             ],
             [
              0.1111111111111111,
              "#46039f"
             ],
             [
              0.2222222222222222,
              "#7201a8"
             ],
             [
              0.3333333333333333,
              "#9c179e"
             ],
             [
              0.4444444444444444,
              "#bd3786"
             ],
             [
              0.5555555555555556,
              "#d8576b"
             ],
             [
              0.6666666666666666,
              "#ed7953"
             ],
             [
              0.7777777777777778,
              "#fb9f3a"
             ],
             [
              0.8888888888888888,
              "#fdca26"
             ],
             [
              1,
              "#f0f921"
             ]
            ],
            "type": "heatmapgl"
           }
          ],
          "histogram": [
           {
            "marker": {
             "colorbar": {
              "outlinewidth": 0,
              "ticks": ""
             }
            },
            "type": "histogram"
           }
          ],
          "histogram2d": [
           {
            "colorbar": {
             "outlinewidth": 0,
             "ticks": ""
            },
            "colorscale": [
             [
              0,
              "#0d0887"
             ],
             [
              0.1111111111111111,
              "#46039f"
             ],
             [
              0.2222222222222222,
              "#7201a8"
             ],
             [
              0.3333333333333333,
              "#9c179e"
             ],
             [
              0.4444444444444444,
              "#bd3786"
             ],
             [
              0.5555555555555556,
              "#d8576b"
             ],
             [
              0.6666666666666666,
              "#ed7953"
             ],
             [
              0.7777777777777778,
              "#fb9f3a"
             ],
             [
              0.8888888888888888,
              "#fdca26"
             ],
             [
              1,
              "#f0f921"
             ]
            ],
            "type": "histogram2d"
           }
          ],
          "histogram2dcontour": [
           {
            "colorbar": {
             "outlinewidth": 0,
             "ticks": ""
            },
            "colorscale": [
             [
              0,
              "#0d0887"
             ],
             [
              0.1111111111111111,
              "#46039f"
             ],
             [
              0.2222222222222222,
              "#7201a8"
             ],
             [
              0.3333333333333333,
              "#9c179e"
             ],
             [
              0.4444444444444444,
              "#bd3786"
             ],
             [
              0.5555555555555556,
              "#d8576b"
             ],
             [
              0.6666666666666666,
              "#ed7953"
             ],
             [
              0.7777777777777778,
              "#fb9f3a"
             ],
             [
              0.8888888888888888,
              "#fdca26"
             ],
             [
              1,
              "#f0f921"
             ]
            ],
            "type": "histogram2dcontour"
           }
          ],
          "mesh3d": [
           {
            "colorbar": {
             "outlinewidth": 0,
             "ticks": ""
            },
            "type": "mesh3d"
           }
          ],
          "parcoords": [
           {
            "line": {
             "colorbar": {
              "outlinewidth": 0,
              "ticks": ""
             }
            },
            "type": "parcoords"
           }
          ],
          "pie": [
           {
            "automargin": true,
            "type": "pie"
           }
          ],
          "scatter": [
           {
            "marker": {
             "colorbar": {
              "outlinewidth": 0,
              "ticks": ""
             }
            },
            "type": "scatter"
           }
          ],
          "scatter3d": [
           {
            "line": {
             "colorbar": {
              "outlinewidth": 0,
              "ticks": ""
             }
            },
            "marker": {
             "colorbar": {
              "outlinewidth": 0,
              "ticks": ""
             }
            },
            "type": "scatter3d"
           }
          ],
          "scattercarpet": [
           {
            "marker": {
             "colorbar": {
              "outlinewidth": 0,
              "ticks": ""
             }
            },
            "type": "scattercarpet"
           }
          ],
          "scattergeo": [
           {
            "marker": {
             "colorbar": {
              "outlinewidth": 0,
              "ticks": ""
             }
            },
            "type": "scattergeo"
           }
          ],
          "scattergl": [
           {
            "marker": {
             "colorbar": {
              "outlinewidth": 0,
              "ticks": ""
             }
            },
            "type": "scattergl"
           }
          ],
          "scattermapbox": [
           {
            "marker": {
             "colorbar": {
              "outlinewidth": 0,
              "ticks": ""
             }
            },
            "type": "scattermapbox"
           }
          ],
          "scatterpolar": [
           {
            "marker": {
             "colorbar": {
              "outlinewidth": 0,
              "ticks": ""
             }
            },
            "type": "scatterpolar"
           }
          ],
          "scatterpolargl": [
           {
            "marker": {
             "colorbar": {
              "outlinewidth": 0,
              "ticks": ""
             }
            },
            "type": "scatterpolargl"
           }
          ],
          "scatterternary": [
           {
            "marker": {
             "colorbar": {
              "outlinewidth": 0,
              "ticks": ""
             }
            },
            "type": "scatterternary"
           }
          ],
          "surface": [
           {
            "colorbar": {
             "outlinewidth": 0,
             "ticks": ""
            },
            "colorscale": [
             [
              0,
              "#0d0887"
             ],
             [
              0.1111111111111111,
              "#46039f"
             ],
             [
              0.2222222222222222,
              "#7201a8"
             ],
             [
              0.3333333333333333,
              "#9c179e"
             ],
             [
              0.4444444444444444,
              "#bd3786"
             ],
             [
              0.5555555555555556,
              "#d8576b"
             ],
             [
              0.6666666666666666,
              "#ed7953"
             ],
             [
              0.7777777777777778,
              "#fb9f3a"
             ],
             [
              0.8888888888888888,
              "#fdca26"
             ],
             [
              1,
              "#f0f921"
             ]
            ],
            "type": "surface"
           }
          ],
          "table": [
           {
            "cells": {
             "fill": {
              "color": "#EBF0F8"
             },
             "line": {
              "color": "white"
             }
            },
            "header": {
             "fill": {
              "color": "#C8D4E3"
             },
             "line": {
              "color": "white"
             }
            },
            "type": "table"
           }
          ]
         },
         "layout": {
          "annotationdefaults": {
           "arrowcolor": "#2a3f5f",
           "arrowhead": 0,
           "arrowwidth": 1
          },
          "coloraxis": {
           "colorbar": {
            "outlinewidth": 0,
            "ticks": ""
           }
          },
          "colorscale": {
           "diverging": [
            [
             0,
             "#8e0152"
            ],
            [
             0.1,
             "#c51b7d"
            ],
            [
             0.2,
             "#de77ae"
            ],
            [
             0.3,
             "#f1b6da"
            ],
            [
             0.4,
             "#fde0ef"
            ],
            [
             0.5,
             "#f7f7f7"
            ],
            [
             0.6,
             "#e6f5d0"
            ],
            [
             0.7,
             "#b8e186"
            ],
            [
             0.8,
             "#7fbc41"
            ],
            [
             0.9,
             "#4d9221"
            ],
            [
             1,
             "#276419"
            ]
           ],
           "sequential": [
            [
             0,
             "#0d0887"
            ],
            [
             0.1111111111111111,
             "#46039f"
            ],
            [
             0.2222222222222222,
             "#7201a8"
            ],
            [
             0.3333333333333333,
             "#9c179e"
            ],
            [
             0.4444444444444444,
             "#bd3786"
            ],
            [
             0.5555555555555556,
             "#d8576b"
            ],
            [
             0.6666666666666666,
             "#ed7953"
            ],
            [
             0.7777777777777778,
             "#fb9f3a"
            ],
            [
             0.8888888888888888,
             "#fdca26"
            ],
            [
             1,
             "#f0f921"
            ]
           ],
           "sequentialminus": [
            [
             0,
             "#0d0887"
            ],
            [
             0.1111111111111111,
             "#46039f"
            ],
            [
             0.2222222222222222,
             "#7201a8"
            ],
            [
             0.3333333333333333,
             "#9c179e"
            ],
            [
             0.4444444444444444,
             "#bd3786"
            ],
            [
             0.5555555555555556,
             "#d8576b"
            ],
            [
             0.6666666666666666,
             "#ed7953"
            ],
            [
             0.7777777777777778,
             "#fb9f3a"
            ],
            [
             0.8888888888888888,
             "#fdca26"
            ],
            [
             1,
             "#f0f921"
            ]
           ]
          },
          "colorway": [
           "#636efa",
           "#EF553B",
           "#00cc96",
           "#ab63fa",
           "#FFA15A",
           "#19d3f3",
           "#FF6692",
           "#B6E880",
           "#FF97FF",
           "#FECB52"
          ],
          "font": {
           "color": "#2a3f5f"
          },
          "geo": {
           "bgcolor": "white",
           "lakecolor": "white",
           "landcolor": "#E5ECF6",
           "showlakes": true,
           "showland": true,
           "subunitcolor": "white"
          },
          "hoverlabel": {
           "align": "left"
          },
          "hovermode": "closest",
          "mapbox": {
           "style": "light"
          },
          "paper_bgcolor": "white",
          "plot_bgcolor": "#E5ECF6",
          "polar": {
           "angularaxis": {
            "gridcolor": "white",
            "linecolor": "white",
            "ticks": ""
           },
           "bgcolor": "#E5ECF6",
           "radialaxis": {
            "gridcolor": "white",
            "linecolor": "white",
            "ticks": ""
           }
          },
          "scene": {
           "xaxis": {
            "backgroundcolor": "#E5ECF6",
            "gridcolor": "white",
            "gridwidth": 2,
            "linecolor": "white",
            "showbackground": true,
            "ticks": "",
            "zerolinecolor": "white"
           },
           "yaxis": {
            "backgroundcolor": "#E5ECF6",
            "gridcolor": "white",
            "gridwidth": 2,
            "linecolor": "white",
            "showbackground": true,
            "ticks": "",
            "zerolinecolor": "white"
           },
           "zaxis": {
            "backgroundcolor": "#E5ECF6",
            "gridcolor": "white",
            "gridwidth": 2,
            "linecolor": "white",
            "showbackground": true,
            "ticks": "",
            "zerolinecolor": "white"
           }
          },
          "shapedefaults": {
           "line": {
            "color": "#2a3f5f"
           }
          },
          "ternary": {
           "aaxis": {
            "gridcolor": "white",
            "linecolor": "white",
            "ticks": ""
           },
           "baxis": {
            "gridcolor": "white",
            "linecolor": "white",
            "ticks": ""
           },
           "bgcolor": "#E5ECF6",
           "caxis": {
            "gridcolor": "white",
            "linecolor": "white",
            "ticks": ""
           }
          },
          "title": {
           "x": 0.05
          },
          "xaxis": {
           "automargin": true,
           "gridcolor": "white",
           "linecolor": "white",
           "ticks": "",
           "title": {
            "standoff": 15
           },
           "zerolinecolor": "white",
           "zerolinewidth": 2
          },
          "yaxis": {
           "automargin": true,
           "gridcolor": "white",
           "linecolor": "white",
           "ticks": "",
           "title": {
            "standoff": 15
           },
           "zerolinecolor": "white",
           "zerolinewidth": 2
          }
         }
        },
        "title": {
         "text": "ROC Curve (AUC=0.8980)"
        },
        "width": 700,
        "xaxis": {
         "anchor": "y",
         "constrain": "domain",
         "domain": [
          0,
          1
         ],
         "title": {
          "text": "False Positive Rate"
         }
        },
        "yaxis": {
         "anchor": "x",
         "domain": [
          0,
          1
         ],
         "scaleanchor": "x",
         "scaleratio": 1,
         "title": {
          "text": "True Positive Rate"
         }
        }
       }
      },
      "text/html": [
       "<div>                            <div id=\"cdb3f97a-a0c9-4849-86ec-b8d195fe3d8f\" class=\"plotly-graph-div\" style=\"height:500px; width:700px;\"></div>            <script type=\"text/javascript\">                require([\"plotly\"], function(Plotly) {                    window.PLOTLYENV=window.PLOTLYENV || {};                                    if (document.getElementById(\"cdb3f97a-a0c9-4849-86ec-b8d195fe3d8f\")) {                    Plotly.newPlot(                        \"cdb3f97a-a0c9-4849-86ec-b8d195fe3d8f\",                        [{\"hovertemplate\": \"False Positive Rate=%{x}<br>True Positive Rate=%{y}<extra></extra>\", \"legendgroup\": \"\", \"line\": {\"color\": \"#636efa\"}, \"mode\": \"lines\", \"name\": \"\", \"orientation\": \"v\", \"showlegend\": false, \"stackgroup\": \"1\", \"type\": \"scatter\", \"x\": [0.0, 0.0, 0.0, 0.0017331022530329288, 0.0017331022530329288, 0.0034662045060658577, 0.0034662045060658577, 0.005199306759098787, 0.005199306759098787, 0.006932409012131715, 0.006932409012131715, 0.012131715771230503, 0.012131715771230503, 0.02079722703639515, 0.02079722703639515, 0.03466204506065858, 0.03466204506065858, 0.036395147313691506, 0.036395147313691506, 0.038128249566724434, 0.038128249566724434, 0.043327556325823226, 0.043327556325823226, 0.060658578856152515, 0.060658578856152515, 0.06412478336221837, 0.07452339688041594, 0.07452339688041594, 0.08838821490467938, 0.08838821490467938, 0.10398613518197573, 0.10398613518197573, 0.12998266897746968, 0.12998266897746968, 0.14558058925476602, 0.14904679376083188, 0.15077989601386482, 0.15771230502599654, 0.18717504332755633, 0.18717504332755633, 0.20623916811091855, 0.21143847487001732, 0.24783362218370883, 0.24783362218370883, 0.30675909878682844, 0.3119584055459272, 0.3310225303292894, 0.35528596187175043, 0.35701906412478335, 0.3708838821490468, 0.3986135181975737, 0.4055459272097054, 0.41074523396880414, 0.41421143847487, 0.4194107452339688, 0.42287694974003465, 0.42807625649913345, 0.43327556325823224, 0.43500866551126516, 0.464471403812825, 0.4679376083188908, 0.48353552859618715, 0.49566724436741766, 0.5233968804159446, 0.5632582322357019, 0.5667244367417678, 0.5736568457538995, 0.5823223570190641, 0.6031195840554593, 0.6152512998266898, 0.6256499133448874, 0.6291161178509532, 0.634315424610052, 0.6377816291161178, 0.6568457538994801, 0.6603119584055459, 0.6620450606585788, 0.6655112651646448, 0.6724436741767764, 0.6776429809358753, 0.6967071057192374, 0.7053726169844021, 0.707105719237435, 0.7105719237435009, 0.7279029462738301, 0.7313691507798961, 0.7365684575389948, 0.7383015597920277, 0.7417677642980935, 0.7452339688041595, 0.7504332755632582, 0.7521663778162911, 0.755632582322357, 0.7625649913344887, 0.7660311958405546, 0.7816291161178509, 0.7850953206239168, 0.7902946273830156, 0.8058925476603119, 0.8076256499133448, 0.8180242634315424, 0.8214904679376083, 0.830155979202773, 0.8318890814558059, 0.8370883882149047, 0.8492201039861352, 0.8630849220103987, 0.8734835355285961, 0.8804159445407279, 0.8838821490467937, 0.8942807625649913, 0.8994800693240901, 0.9046793760831889, 0.9081455805892548, 0.9185441941074524, 0.9202772963604853, 0.9237435008665511, 0.9306759098786829, 0.9324090121317158, 0.9358752166377816, 0.9410745233968805, 0.9480069324090121, 0.9549393414211439, 0.9774696707105719, 0.9792027729636048, 0.9826689774696707, 0.9844020797227037, 0.9878682842287695, 0.9930675909878682, 1.0], \"xaxis\": \"x\", \"y\": [0.0, 0.037037037037037035, 0.2222222222222222, 0.2222222222222222, 0.25925925925925924, 0.25925925925925924, 0.2962962962962963, 0.2962962962962963, 0.3333333333333333, 0.3333333333333333, 0.37037037037037035, 0.37037037037037035, 0.4074074074074074, 0.4074074074074074, 0.48148148148148145, 0.48148148148148145, 0.5185185185185185, 0.5185185185185185, 0.5555555555555556, 0.5555555555555556, 0.5925925925925926, 0.5925925925925926, 0.6296296296296297, 0.6296296296296297, 0.7037037037037037, 0.7037037037037037, 0.7037037037037037, 0.7407407407407407, 0.7407407407407407, 0.7777777777777778, 0.7777777777777778, 0.8148148148148148, 0.8148148148148148, 0.8518518518518519, 0.8518518518518519, 0.8518518518518519, 0.8518518518518519, 0.8518518518518519, 0.8518518518518519, 0.8888888888888888, 0.8888888888888888, 0.8888888888888888, 0.8888888888888888, 0.9259259259259259, 0.9259259259259259, 0.9259259259259259, 0.9259259259259259, 0.9259259259259259, 0.9259259259259259, 0.9259259259259259, 0.9259259259259259, 0.9259259259259259, 0.9259259259259259, 0.9259259259259259, 0.9259259259259259, 0.9259259259259259, 0.9259259259259259, 0.9259259259259259, 0.9259259259259259, 0.9259259259259259, 0.9259259259259259, 0.9259259259259259, 0.9259259259259259, 0.9259259259259259, 0.9259259259259259, 0.9259259259259259, 0.9259259259259259, 0.9259259259259259, 0.9259259259259259, 0.9259259259259259, 0.9259259259259259, 0.9259259259259259, 0.9259259259259259, 0.9259259259259259, 0.9259259259259259, 0.9259259259259259, 0.9259259259259259, 0.9259259259259259, 0.9259259259259259, 0.9629629629629629, 0.9629629629629629, 0.9629629629629629, 0.9629629629629629, 0.9629629629629629, 0.9629629629629629, 0.9629629629629629, 0.9629629629629629, 0.9629629629629629, 0.9629629629629629, 0.9629629629629629, 0.9629629629629629, 0.9629629629629629, 0.9629629629629629, 0.9629629629629629, 0.9629629629629629, 0.9629629629629629, 0.9629629629629629, 0.9629629629629629, 0.9629629629629629, 0.9629629629629629, 0.9629629629629629, 0.9629629629629629, 0.9629629629629629, 0.9629629629629629, 0.9629629629629629, 0.9629629629629629, 0.9629629629629629, 0.9629629629629629, 0.9629629629629629, 0.9629629629629629, 0.9629629629629629, 0.9629629629629629, 1.0, 1.0, 1.0, 1.0, 1.0, 1.0, 1.0, 1.0, 1.0, 1.0, 1.0, 1.0, 1.0, 1.0, 1.0, 1.0, 1.0, 1.0], \"yaxis\": \"y\"}],                        {\"height\": 500, \"legend\": {\"tracegroupgap\": 0}, \"shapes\": [{\"line\": {\"dash\": \"dash\"}, \"type\": \"line\", \"x0\": 0, \"x1\": 1, \"y0\": 0, \"y1\": 1}], \"template\": {\"data\": {\"bar\": [{\"error_x\": {\"color\": \"#2a3f5f\"}, \"error_y\": {\"color\": \"#2a3f5f\"}, \"marker\": {\"line\": {\"color\": \"#E5ECF6\", \"width\": 0.5}}, \"type\": \"bar\"}], \"barpolar\": [{\"marker\": {\"line\": {\"color\": \"#E5ECF6\", \"width\": 0.5}}, \"type\": \"barpolar\"}], \"carpet\": [{\"aaxis\": {\"endlinecolor\": \"#2a3f5f\", \"gridcolor\": \"white\", \"linecolor\": \"white\", \"minorgridcolor\": \"white\", \"startlinecolor\": \"#2a3f5f\"}, \"baxis\": {\"endlinecolor\": \"#2a3f5f\", \"gridcolor\": \"white\", \"linecolor\": \"white\", \"minorgridcolor\": \"white\", \"startlinecolor\": \"#2a3f5f\"}, \"type\": \"carpet\"}], \"choropleth\": [{\"colorbar\": {\"outlinewidth\": 0, \"ticks\": \"\"}, \"type\": \"choropleth\"}], \"contour\": [{\"colorbar\": {\"outlinewidth\": 0, \"ticks\": \"\"}, \"colorscale\": [[0.0, \"#0d0887\"], [0.1111111111111111, \"#46039f\"], [0.2222222222222222, \"#7201a8\"], [0.3333333333333333, \"#9c179e\"], [0.4444444444444444, \"#bd3786\"], [0.5555555555555556, \"#d8576b\"], [0.6666666666666666, \"#ed7953\"], [0.7777777777777778, \"#fb9f3a\"], [0.8888888888888888, \"#fdca26\"], [1.0, \"#f0f921\"]], \"type\": \"contour\"}], \"contourcarpet\": [{\"colorbar\": {\"outlinewidth\": 0, \"ticks\": \"\"}, \"type\": \"contourcarpet\"}], \"heatmap\": [{\"colorbar\": {\"outlinewidth\": 0, \"ticks\": \"\"}, \"colorscale\": [[0.0, \"#0d0887\"], [0.1111111111111111, \"#46039f\"], [0.2222222222222222, \"#7201a8\"], [0.3333333333333333, \"#9c179e\"], [0.4444444444444444, \"#bd3786\"], [0.5555555555555556, \"#d8576b\"], [0.6666666666666666, \"#ed7953\"], [0.7777777777777778, \"#fb9f3a\"], [0.8888888888888888, \"#fdca26\"], [1.0, \"#f0f921\"]], \"type\": \"heatmap\"}], \"heatmapgl\": [{\"colorbar\": {\"outlinewidth\": 0, \"ticks\": \"\"}, \"colorscale\": [[0.0, \"#0d0887\"], [0.1111111111111111, \"#46039f\"], [0.2222222222222222, \"#7201a8\"], [0.3333333333333333, \"#9c179e\"], [0.4444444444444444, \"#bd3786\"], [0.5555555555555556, \"#d8576b\"], [0.6666666666666666, \"#ed7953\"], [0.7777777777777778, \"#fb9f3a\"], [0.8888888888888888, \"#fdca26\"], [1.0, \"#f0f921\"]], \"type\": \"heatmapgl\"}], \"histogram\": [{\"marker\": {\"colorbar\": {\"outlinewidth\": 0, \"ticks\": \"\"}}, \"type\": \"histogram\"}], \"histogram2d\": [{\"colorbar\": {\"outlinewidth\": 0, \"ticks\": \"\"}, \"colorscale\": [[0.0, \"#0d0887\"], [0.1111111111111111, \"#46039f\"], [0.2222222222222222, \"#7201a8\"], [0.3333333333333333, \"#9c179e\"], [0.4444444444444444, \"#bd3786\"], [0.5555555555555556, \"#d8576b\"], [0.6666666666666666, \"#ed7953\"], [0.7777777777777778, \"#fb9f3a\"], [0.8888888888888888, \"#fdca26\"], [1.0, \"#f0f921\"]], \"type\": \"histogram2d\"}], \"histogram2dcontour\": [{\"colorbar\": {\"outlinewidth\": 0, \"ticks\": \"\"}, \"colorscale\": [[0.0, \"#0d0887\"], [0.1111111111111111, \"#46039f\"], [0.2222222222222222, \"#7201a8\"], [0.3333333333333333, \"#9c179e\"], [0.4444444444444444, \"#bd3786\"], [0.5555555555555556, \"#d8576b\"], [0.6666666666666666, \"#ed7953\"], [0.7777777777777778, \"#fb9f3a\"], [0.8888888888888888, \"#fdca26\"], [1.0, \"#f0f921\"]], \"type\": \"histogram2dcontour\"}], \"mesh3d\": [{\"colorbar\": {\"outlinewidth\": 0, \"ticks\": \"\"}, \"type\": \"mesh3d\"}], \"parcoords\": [{\"line\": {\"colorbar\": {\"outlinewidth\": 0, \"ticks\": \"\"}}, \"type\": \"parcoords\"}], \"pie\": [{\"automargin\": true, \"type\": \"pie\"}], \"scatter\": [{\"marker\": {\"colorbar\": {\"outlinewidth\": 0, \"ticks\": \"\"}}, \"type\": \"scatter\"}], \"scatter3d\": [{\"line\": {\"colorbar\": {\"outlinewidth\": 0, \"ticks\": \"\"}}, \"marker\": {\"colorbar\": {\"outlinewidth\": 0, \"ticks\": \"\"}}, \"type\": \"scatter3d\"}], \"scattercarpet\": [{\"marker\": {\"colorbar\": {\"outlinewidth\": 0, \"ticks\": \"\"}}, \"type\": \"scattercarpet\"}], \"scattergeo\": [{\"marker\": {\"colorbar\": {\"outlinewidth\": 0, \"ticks\": \"\"}}, \"type\": \"scattergeo\"}], \"scattergl\": [{\"marker\": {\"colorbar\": {\"outlinewidth\": 0, \"ticks\": \"\"}}, \"type\": \"scattergl\"}], \"scattermapbox\": [{\"marker\": {\"colorbar\": {\"outlinewidth\": 0, \"ticks\": \"\"}}, \"type\": \"scattermapbox\"}], \"scatterpolar\": [{\"marker\": {\"colorbar\": {\"outlinewidth\": 0, \"ticks\": \"\"}}, \"type\": \"scatterpolar\"}], \"scatterpolargl\": [{\"marker\": {\"colorbar\": {\"outlinewidth\": 0, \"ticks\": \"\"}}, \"type\": \"scatterpolargl\"}], \"scatterternary\": [{\"marker\": {\"colorbar\": {\"outlinewidth\": 0, \"ticks\": \"\"}}, \"type\": \"scatterternary\"}], \"surface\": [{\"colorbar\": {\"outlinewidth\": 0, \"ticks\": \"\"}, \"colorscale\": [[0.0, \"#0d0887\"], [0.1111111111111111, \"#46039f\"], [0.2222222222222222, \"#7201a8\"], [0.3333333333333333, \"#9c179e\"], [0.4444444444444444, \"#bd3786\"], [0.5555555555555556, \"#d8576b\"], [0.6666666666666666, \"#ed7953\"], [0.7777777777777778, \"#fb9f3a\"], [0.8888888888888888, \"#fdca26\"], [1.0, \"#f0f921\"]], \"type\": \"surface\"}], \"table\": [{\"cells\": {\"fill\": {\"color\": \"#EBF0F8\"}, \"line\": {\"color\": \"white\"}}, \"header\": {\"fill\": {\"color\": \"#C8D4E3\"}, \"line\": {\"color\": \"white\"}}, \"type\": \"table\"}]}, \"layout\": {\"annotationdefaults\": {\"arrowcolor\": \"#2a3f5f\", \"arrowhead\": 0, \"arrowwidth\": 1}, \"coloraxis\": {\"colorbar\": {\"outlinewidth\": 0, \"ticks\": \"\"}}, \"colorscale\": {\"diverging\": [[0, \"#8e0152\"], [0.1, \"#c51b7d\"], [0.2, \"#de77ae\"], [0.3, \"#f1b6da\"], [0.4, \"#fde0ef\"], [0.5, \"#f7f7f7\"], [0.6, \"#e6f5d0\"], [0.7, \"#b8e186\"], [0.8, \"#7fbc41\"], [0.9, \"#4d9221\"], [1, \"#276419\"]], \"sequential\": [[0.0, \"#0d0887\"], [0.1111111111111111, \"#46039f\"], [0.2222222222222222, \"#7201a8\"], [0.3333333333333333, \"#9c179e\"], [0.4444444444444444, \"#bd3786\"], [0.5555555555555556, \"#d8576b\"], [0.6666666666666666, \"#ed7953\"], [0.7777777777777778, \"#fb9f3a\"], [0.8888888888888888, \"#fdca26\"], [1.0, \"#f0f921\"]], \"sequentialminus\": [[0.0, \"#0d0887\"], [0.1111111111111111, \"#46039f\"], [0.2222222222222222, \"#7201a8\"], [0.3333333333333333, \"#9c179e\"], [0.4444444444444444, \"#bd3786\"], [0.5555555555555556, \"#d8576b\"], [0.6666666666666666, \"#ed7953\"], [0.7777777777777778, \"#fb9f3a\"], [0.8888888888888888, \"#fdca26\"], [1.0, \"#f0f921\"]]}, \"colorway\": [\"#636efa\", \"#EF553B\", \"#00cc96\", \"#ab63fa\", \"#FFA15A\", \"#19d3f3\", \"#FF6692\", \"#B6E880\", \"#FF97FF\", \"#FECB52\"], \"font\": {\"color\": \"#2a3f5f\"}, \"geo\": {\"bgcolor\": \"white\", \"lakecolor\": \"white\", \"landcolor\": \"#E5ECF6\", \"showlakes\": true, \"showland\": true, \"subunitcolor\": \"white\"}, \"hoverlabel\": {\"align\": \"left\"}, \"hovermode\": \"closest\", \"mapbox\": {\"style\": \"light\"}, \"paper_bgcolor\": \"white\", \"plot_bgcolor\": \"#E5ECF6\", \"polar\": {\"angularaxis\": {\"gridcolor\": \"white\", \"linecolor\": \"white\", \"ticks\": \"\"}, \"bgcolor\": \"#E5ECF6\", \"radialaxis\": {\"gridcolor\": \"white\", \"linecolor\": \"white\", \"ticks\": \"\"}}, \"scene\": {\"xaxis\": {\"backgroundcolor\": \"#E5ECF6\", \"gridcolor\": \"white\", \"gridwidth\": 2, \"linecolor\": \"white\", \"showbackground\": true, \"ticks\": \"\", \"zerolinecolor\": \"white\"}, \"yaxis\": {\"backgroundcolor\": \"#E5ECF6\", \"gridcolor\": \"white\", \"gridwidth\": 2, \"linecolor\": \"white\", \"showbackground\": true, \"ticks\": \"\", \"zerolinecolor\": \"white\"}, \"zaxis\": {\"backgroundcolor\": \"#E5ECF6\", \"gridcolor\": \"white\", \"gridwidth\": 2, \"linecolor\": \"white\", \"showbackground\": true, \"ticks\": \"\", \"zerolinecolor\": \"white\"}}, \"shapedefaults\": {\"line\": {\"color\": \"#2a3f5f\"}}, \"ternary\": {\"aaxis\": {\"gridcolor\": \"white\", \"linecolor\": \"white\", \"ticks\": \"\"}, \"baxis\": {\"gridcolor\": \"white\", \"linecolor\": \"white\", \"ticks\": \"\"}, \"bgcolor\": \"#E5ECF6\", \"caxis\": {\"gridcolor\": \"white\", \"linecolor\": \"white\", \"ticks\": \"\"}}, \"title\": {\"x\": 0.05}, \"xaxis\": {\"automargin\": true, \"gridcolor\": \"white\", \"linecolor\": \"white\", \"ticks\": \"\", \"title\": {\"standoff\": 15}, \"zerolinecolor\": \"white\", \"zerolinewidth\": 2}, \"yaxis\": {\"automargin\": true, \"gridcolor\": \"white\", \"linecolor\": \"white\", \"ticks\": \"\", \"title\": {\"standoff\": 15}, \"zerolinecolor\": \"white\", \"zerolinewidth\": 2}}}, \"title\": {\"text\": \"ROC Curve (AUC=0.8980)\"}, \"width\": 700, \"xaxis\": {\"anchor\": \"y\", \"constrain\": \"domain\", \"domain\": [0.0, 1.0], \"title\": {\"text\": \"False Positive Rate\"}}, \"yaxis\": {\"anchor\": \"x\", \"domain\": [0.0, 1.0], \"scaleanchor\": \"x\", \"scaleratio\": 1, \"title\": {\"text\": \"True Positive Rate\"}}},                        {\"responsive\": true}                    ).then(function(){\n",
       "                            \n",
       "var gd = document.getElementById('cdb3f97a-a0c9-4849-86ec-b8d195fe3d8f');\n",
       "var x = new MutationObserver(function (mutations, observer) {{\n",
       "        var display = window.getComputedStyle(gd).display;\n",
       "        if (!display || display === 'none') {{\n",
       "            console.log([gd, 'removed!']);\n",
       "            Plotly.purge(gd);\n",
       "            observer.disconnect();\n",
       "        }}\n",
       "}});\n",
       "\n",
       "// Listen for the removal of the full notebook cells\n",
       "var notebookContainer = gd.closest('#notebook-container');\n",
       "if (notebookContainer) {{\n",
       "    x.observe(notebookContainer, {childList: true});\n",
       "}}\n",
       "\n",
       "// Listen for the clearing of the current output cell\n",
       "var outputEl = gd.closest('.output');\n",
       "if (outputEl) {{\n",
       "    x.observe(outputEl, {childList: true});\n",
       "}}\n",
       "\n",
       "                        })                };                });            </script>        </div>"
      ]
     },
     "metadata": {},
     "output_type": "display_data"
    },
    {
     "name": "stdout",
     "output_type": "stream",
     "text": [
      "---Gradient Boost Metrics---\n",
      "Accuracy: 96.36\n",
      "kFold CV Accuracy: 95.43\n"
     ]
    }
   ],
   "source": [
    "acc_score, acc_score_cv, auc_calculation = get_scores(xgb.XGBClassifier(), X, y, 10)\n",
    "print(f\"---Gradient Boost Metrics---\")\n",
    "print(f'Accuracy: {acc_score}')\n",
    "print(f'kFold CV Accuracy: {acc_score_cv}')\n",
    "model_log = model_log.append({'model': 'XGBoost', 'CV score': acc_score_cv, 'auc': auc_calculation}, ignore_index=True)"
   ]
  },
  {
   "cell_type": "markdown",
   "metadata": {},
   "source": [
    "### Random Forest"
   ]
  },
  {
   "cell_type": "code",
   "execution_count": 155,
   "metadata": {
    "scrolled": true
   },
   "outputs": [
    {
     "data": {
      "application/vnd.plotly.v1+json": {
       "config": {
        "plotlyServerURL": "https://plot.ly"
       },
       "data": [
        {
         "hovertemplate": "False Positive Rate=%{x}<br>True Positive Rate=%{y}<extra></extra>",
         "legendgroup": "",
         "line": {
          "color": "#636efa"
         },
         "mode": "lines",
         "name": "",
         "orientation": "v",
         "showlegend": false,
         "stackgroup": "1",
         "type": "scatter",
         "x": [
          0,
          0,
          0.0017331022530329288,
          0.0017331022530329288,
          0.0034662045060658577,
          0.0034662045060658577,
          0.005199306759098787,
          0.006932409012131715,
          0.010398613518197574,
          0.010398613518197574,
          0.012131715771230503,
          0.01559792027729636,
          0.01733102253032929,
          0.02079722703639515,
          0.024263431542461005,
          0.02772963604852686,
          0.03119584055459272,
          0.03466204506065858,
          0.036395147313691506,
          0.03986135181975736,
          0.043327556325823226,
          0.053726169844020795,
          0.058925476603119586,
          0.06239168110918544,
          0.07105719237435008,
          0.0779896013864818,
          0.08838821490467938,
          0.09705372616984402,
          0.1022530329289428,
          0.11611785095320624,
          0.12131715771230503,
          0.12478336221837089,
          0.14038128249566725,
          0.15077989601386482,
          0.17677642980935876,
          0.18717504332755633,
          0.2045060658578856,
          0.22010398613518198,
          0.2339688041594454,
          0.2530329289428076,
          0.27902946273830154,
          0.3188908145580589,
          1
         ],
         "xaxis": "x",
         "y": [
          0,
          0.037037037037037035,
          0.1111111111111111,
          0.18518518518518517,
          0.2222222222222222,
          0.3333333333333333,
          0.3333333333333333,
          0.37037037037037035,
          0.37037037037037035,
          0.4074074074074074,
          0.4444444444444444,
          0.4444444444444444,
          0.4444444444444444,
          0.4444444444444444,
          0.4444444444444444,
          0.4444444444444444,
          0.48148148148148145,
          0.48148148148148145,
          0.48148148148148145,
          0.48148148148148145,
          0.5555555555555556,
          0.5555555555555556,
          0.5925925925925926,
          0.6296296296296297,
          0.6296296296296297,
          0.7037037037037037,
          0.7037037037037037,
          0.7037037037037037,
          0.7407407407407407,
          0.7407407407407407,
          0.7777777777777778,
          0.8148148148148148,
          0.8518518518518519,
          0.8518518518518519,
          0.8518518518518519,
          0.8518518518518519,
          0.8518518518518519,
          0.8888888888888888,
          0.8888888888888888,
          0.9259259259259259,
          0.9259259259259259,
          0.9259259259259259,
          1
         ],
         "yaxis": "y"
        }
       ],
       "layout": {
        "height": 500,
        "legend": {
         "tracegroupgap": 0
        },
        "shapes": [
         {
          "line": {
           "dash": "dash"
          },
          "type": "line",
          "x0": 0,
          "x1": 1,
          "y0": 0,
          "y1": 1
         }
        ],
        "template": {
         "data": {
          "bar": [
           {
            "error_x": {
             "color": "#2a3f5f"
            },
            "error_y": {
             "color": "#2a3f5f"
            },
            "marker": {
             "line": {
              "color": "#E5ECF6",
              "width": 0.5
             }
            },
            "type": "bar"
           }
          ],
          "barpolar": [
           {
            "marker": {
             "line": {
              "color": "#E5ECF6",
              "width": 0.5
             }
            },
            "type": "barpolar"
           }
          ],
          "carpet": [
           {
            "aaxis": {
             "endlinecolor": "#2a3f5f",
             "gridcolor": "white",
             "linecolor": "white",
             "minorgridcolor": "white",
             "startlinecolor": "#2a3f5f"
            },
            "baxis": {
             "endlinecolor": "#2a3f5f",
             "gridcolor": "white",
             "linecolor": "white",
             "minorgridcolor": "white",
             "startlinecolor": "#2a3f5f"
            },
            "type": "carpet"
           }
          ],
          "choropleth": [
           {
            "colorbar": {
             "outlinewidth": 0,
             "ticks": ""
            },
            "type": "choropleth"
           }
          ],
          "contour": [
           {
            "colorbar": {
             "outlinewidth": 0,
             "ticks": ""
            },
            "colorscale": [
             [
              0,
              "#0d0887"
             ],
             [
              0.1111111111111111,
              "#46039f"
             ],
             [
              0.2222222222222222,
              "#7201a8"
             ],
             [
              0.3333333333333333,
              "#9c179e"
             ],
             [
              0.4444444444444444,
              "#bd3786"
             ],
             [
              0.5555555555555556,
              "#d8576b"
             ],
             [
              0.6666666666666666,
              "#ed7953"
             ],
             [
              0.7777777777777778,
              "#fb9f3a"
             ],
             [
              0.8888888888888888,
              "#fdca26"
             ],
             [
              1,
              "#f0f921"
             ]
            ],
            "type": "contour"
           }
          ],
          "contourcarpet": [
           {
            "colorbar": {
             "outlinewidth": 0,
             "ticks": ""
            },
            "type": "contourcarpet"
           }
          ],
          "heatmap": [
           {
            "colorbar": {
             "outlinewidth": 0,
             "ticks": ""
            },
            "colorscale": [
             [
              0,
              "#0d0887"
             ],
             [
              0.1111111111111111,
              "#46039f"
             ],
             [
              0.2222222222222222,
              "#7201a8"
             ],
             [
              0.3333333333333333,
              "#9c179e"
             ],
             [
              0.4444444444444444,
              "#bd3786"
             ],
             [
              0.5555555555555556,
              "#d8576b"
             ],
             [
              0.6666666666666666,
              "#ed7953"
             ],
             [
              0.7777777777777778,
              "#fb9f3a"
             ],
             [
              0.8888888888888888,
              "#fdca26"
             ],
             [
              1,
              "#f0f921"
             ]
            ],
            "type": "heatmap"
           }
          ],
          "heatmapgl": [
           {
            "colorbar": {
             "outlinewidth": 0,
             "ticks": ""
            },
            "colorscale": [
             [
              0,
              "#0d0887"
             ],
             [
              0.1111111111111111,
              "#46039f"
             ],
             [
              0.2222222222222222,
              "#7201a8"
             ],
             [
              0.3333333333333333,
              "#9c179e"
             ],
             [
              0.4444444444444444,
              "#bd3786"
             ],
             [
              0.5555555555555556,
              "#d8576b"
             ],
             [
              0.6666666666666666,
              "#ed7953"
             ],
             [
              0.7777777777777778,
              "#fb9f3a"
             ],
             [
              0.8888888888888888,
              "#fdca26"
             ],
             [
              1,
              "#f0f921"
             ]
            ],
            "type": "heatmapgl"
           }
          ],
          "histogram": [
           {
            "marker": {
             "colorbar": {
              "outlinewidth": 0,
              "ticks": ""
             }
            },
            "type": "histogram"
           }
          ],
          "histogram2d": [
           {
            "colorbar": {
             "outlinewidth": 0,
             "ticks": ""
            },
            "colorscale": [
             [
              0,
              "#0d0887"
             ],
             [
              0.1111111111111111,
              "#46039f"
             ],
             [
              0.2222222222222222,
              "#7201a8"
             ],
             [
              0.3333333333333333,
              "#9c179e"
             ],
             [
              0.4444444444444444,
              "#bd3786"
             ],
             [
              0.5555555555555556,
              "#d8576b"
             ],
             [
              0.6666666666666666,
              "#ed7953"
             ],
             [
              0.7777777777777778,
              "#fb9f3a"
             ],
             [
              0.8888888888888888,
              "#fdca26"
             ],
             [
              1,
              "#f0f921"
             ]
            ],
            "type": "histogram2d"
           }
          ],
          "histogram2dcontour": [
           {
            "colorbar": {
             "outlinewidth": 0,
             "ticks": ""
            },
            "colorscale": [
             [
              0,
              "#0d0887"
             ],
             [
              0.1111111111111111,
              "#46039f"
             ],
             [
              0.2222222222222222,
              "#7201a8"
             ],
             [
              0.3333333333333333,
              "#9c179e"
             ],
             [
              0.4444444444444444,
              "#bd3786"
             ],
             [
              0.5555555555555556,
              "#d8576b"
             ],
             [
              0.6666666666666666,
              "#ed7953"
             ],
             [
              0.7777777777777778,
              "#fb9f3a"
             ],
             [
              0.8888888888888888,
              "#fdca26"
             ],
             [
              1,
              "#f0f921"
             ]
            ],
            "type": "histogram2dcontour"
           }
          ],
          "mesh3d": [
           {
            "colorbar": {
             "outlinewidth": 0,
             "ticks": ""
            },
            "type": "mesh3d"
           }
          ],
          "parcoords": [
           {
            "line": {
             "colorbar": {
              "outlinewidth": 0,
              "ticks": ""
             }
            },
            "type": "parcoords"
           }
          ],
          "pie": [
           {
            "automargin": true,
            "type": "pie"
           }
          ],
          "scatter": [
           {
            "marker": {
             "colorbar": {
              "outlinewidth": 0,
              "ticks": ""
             }
            },
            "type": "scatter"
           }
          ],
          "scatter3d": [
           {
            "line": {
             "colorbar": {
              "outlinewidth": 0,
              "ticks": ""
             }
            },
            "marker": {
             "colorbar": {
              "outlinewidth": 0,
              "ticks": ""
             }
            },
            "type": "scatter3d"
           }
          ],
          "scattercarpet": [
           {
            "marker": {
             "colorbar": {
              "outlinewidth": 0,
              "ticks": ""
             }
            },
            "type": "scattercarpet"
           }
          ],
          "scattergeo": [
           {
            "marker": {
             "colorbar": {
              "outlinewidth": 0,
              "ticks": ""
             }
            },
            "type": "scattergeo"
           }
          ],
          "scattergl": [
           {
            "marker": {
             "colorbar": {
              "outlinewidth": 0,
              "ticks": ""
             }
            },
            "type": "scattergl"
           }
          ],
          "scattermapbox": [
           {
            "marker": {
             "colorbar": {
              "outlinewidth": 0,
              "ticks": ""
             }
            },
            "type": "scattermapbox"
           }
          ],
          "scatterpolar": [
           {
            "marker": {
             "colorbar": {
              "outlinewidth": 0,
              "ticks": ""
             }
            },
            "type": "scatterpolar"
           }
          ],
          "scatterpolargl": [
           {
            "marker": {
             "colorbar": {
              "outlinewidth": 0,
              "ticks": ""
             }
            },
            "type": "scatterpolargl"
           }
          ],
          "scatterternary": [
           {
            "marker": {
             "colorbar": {
              "outlinewidth": 0,
              "ticks": ""
             }
            },
            "type": "scatterternary"
           }
          ],
          "surface": [
           {
            "colorbar": {
             "outlinewidth": 0,
             "ticks": ""
            },
            "colorscale": [
             [
              0,
              "#0d0887"
             ],
             [
              0.1111111111111111,
              "#46039f"
             ],
             [
              0.2222222222222222,
              "#7201a8"
             ],
             [
              0.3333333333333333,
              "#9c179e"
             ],
             [
              0.4444444444444444,
              "#bd3786"
             ],
             [
              0.5555555555555556,
              "#d8576b"
             ],
             [
              0.6666666666666666,
              "#ed7953"
             ],
             [
              0.7777777777777778,
              "#fb9f3a"
             ],
             [
              0.8888888888888888,
              "#fdca26"
             ],
             [
              1,
              "#f0f921"
             ]
            ],
            "type": "surface"
           }
          ],
          "table": [
           {
            "cells": {
             "fill": {
              "color": "#EBF0F8"
             },
             "line": {
              "color": "white"
             }
            },
            "header": {
             "fill": {
              "color": "#C8D4E3"
             },
             "line": {
              "color": "white"
             }
            },
            "type": "table"
           }
          ]
         },
         "layout": {
          "annotationdefaults": {
           "arrowcolor": "#2a3f5f",
           "arrowhead": 0,
           "arrowwidth": 1
          },
          "coloraxis": {
           "colorbar": {
            "outlinewidth": 0,
            "ticks": ""
           }
          },
          "colorscale": {
           "diverging": [
            [
             0,
             "#8e0152"
            ],
            [
             0.1,
             "#c51b7d"
            ],
            [
             0.2,
             "#de77ae"
            ],
            [
             0.3,
             "#f1b6da"
            ],
            [
             0.4,
             "#fde0ef"
            ],
            [
             0.5,
             "#f7f7f7"
            ],
            [
             0.6,
             "#e6f5d0"
            ],
            [
             0.7,
             "#b8e186"
            ],
            [
             0.8,
             "#7fbc41"
            ],
            [
             0.9,
             "#4d9221"
            ],
            [
             1,
             "#276419"
            ]
           ],
           "sequential": [
            [
             0,
             "#0d0887"
            ],
            [
             0.1111111111111111,
             "#46039f"
            ],
            [
             0.2222222222222222,
             "#7201a8"
            ],
            [
             0.3333333333333333,
             "#9c179e"
            ],
            [
             0.4444444444444444,
             "#bd3786"
            ],
            [
             0.5555555555555556,
             "#d8576b"
            ],
            [
             0.6666666666666666,
             "#ed7953"
            ],
            [
             0.7777777777777778,
             "#fb9f3a"
            ],
            [
             0.8888888888888888,
             "#fdca26"
            ],
            [
             1,
             "#f0f921"
            ]
           ],
           "sequentialminus": [
            [
             0,
             "#0d0887"
            ],
            [
             0.1111111111111111,
             "#46039f"
            ],
            [
             0.2222222222222222,
             "#7201a8"
            ],
            [
             0.3333333333333333,
             "#9c179e"
            ],
            [
             0.4444444444444444,
             "#bd3786"
            ],
            [
             0.5555555555555556,
             "#d8576b"
            ],
            [
             0.6666666666666666,
             "#ed7953"
            ],
            [
             0.7777777777777778,
             "#fb9f3a"
            ],
            [
             0.8888888888888888,
             "#fdca26"
            ],
            [
             1,
             "#f0f921"
            ]
           ]
          },
          "colorway": [
           "#636efa",
           "#EF553B",
           "#00cc96",
           "#ab63fa",
           "#FFA15A",
           "#19d3f3",
           "#FF6692",
           "#B6E880",
           "#FF97FF",
           "#FECB52"
          ],
          "font": {
           "color": "#2a3f5f"
          },
          "geo": {
           "bgcolor": "white",
           "lakecolor": "white",
           "landcolor": "#E5ECF6",
           "showlakes": true,
           "showland": true,
           "subunitcolor": "white"
          },
          "hoverlabel": {
           "align": "left"
          },
          "hovermode": "closest",
          "mapbox": {
           "style": "light"
          },
          "paper_bgcolor": "white",
          "plot_bgcolor": "#E5ECF6",
          "polar": {
           "angularaxis": {
            "gridcolor": "white",
            "linecolor": "white",
            "ticks": ""
           },
           "bgcolor": "#E5ECF6",
           "radialaxis": {
            "gridcolor": "white",
            "linecolor": "white",
            "ticks": ""
           }
          },
          "scene": {
           "xaxis": {
            "backgroundcolor": "#E5ECF6",
            "gridcolor": "white",
            "gridwidth": 2,
            "linecolor": "white",
            "showbackground": true,
            "ticks": "",
            "zerolinecolor": "white"
           },
           "yaxis": {
            "backgroundcolor": "#E5ECF6",
            "gridcolor": "white",
            "gridwidth": 2,
            "linecolor": "white",
            "showbackground": true,
            "ticks": "",
            "zerolinecolor": "white"
           },
           "zaxis": {
            "backgroundcolor": "#E5ECF6",
            "gridcolor": "white",
            "gridwidth": 2,
            "linecolor": "white",
            "showbackground": true,
            "ticks": "",
            "zerolinecolor": "white"
           }
          },
          "shapedefaults": {
           "line": {
            "color": "#2a3f5f"
           }
          },
          "ternary": {
           "aaxis": {
            "gridcolor": "white",
            "linecolor": "white",
            "ticks": ""
           },
           "baxis": {
            "gridcolor": "white",
            "linecolor": "white",
            "ticks": ""
           },
           "bgcolor": "#E5ECF6",
           "caxis": {
            "gridcolor": "white",
            "linecolor": "white",
            "ticks": ""
           }
          },
          "title": {
           "x": 0.05
          },
          "xaxis": {
           "automargin": true,
           "gridcolor": "white",
           "linecolor": "white",
           "ticks": "",
           "title": {
            "standoff": 15
           },
           "zerolinecolor": "white",
           "zerolinewidth": 2
          },
          "yaxis": {
           "automargin": true,
           "gridcolor": "white",
           "linecolor": "white",
           "ticks": "",
           "title": {
            "standoff": 15
           },
           "zerolinecolor": "white",
           "zerolinewidth": 2
          }
         }
        },
        "title": {
         "text": "ROC Curve (AUC=0.9010)"
        },
        "width": 700,
        "xaxis": {
         "anchor": "y",
         "constrain": "domain",
         "domain": [
          0,
          1
         ],
         "title": {
          "text": "False Positive Rate"
         }
        },
        "yaxis": {
         "anchor": "x",
         "domain": [
          0,
          1
         ],
         "scaleanchor": "x",
         "scaleratio": 1,
         "title": {
          "text": "True Positive Rate"
         }
        }
       }
      },
      "text/html": [
       "<div>                            <div id=\"407e11b8-333d-4836-8355-2da74d01e363\" class=\"plotly-graph-div\" style=\"height:500px; width:700px;\"></div>            <script type=\"text/javascript\">                require([\"plotly\"], function(Plotly) {                    window.PLOTLYENV=window.PLOTLYENV || {};                                    if (document.getElementById(\"407e11b8-333d-4836-8355-2da74d01e363\")) {                    Plotly.newPlot(                        \"407e11b8-333d-4836-8355-2da74d01e363\",                        [{\"hovertemplate\": \"False Positive Rate=%{x}<br>True Positive Rate=%{y}<extra></extra>\", \"legendgroup\": \"\", \"line\": {\"color\": \"#636efa\"}, \"mode\": \"lines\", \"name\": \"\", \"orientation\": \"v\", \"showlegend\": false, \"stackgroup\": \"1\", \"type\": \"scatter\", \"x\": [0.0, 0.0, 0.0017331022530329288, 0.0017331022530329288, 0.0034662045060658577, 0.0034662045060658577, 0.005199306759098787, 0.006932409012131715, 0.010398613518197574, 0.010398613518197574, 0.012131715771230503, 0.01559792027729636, 0.01733102253032929, 0.02079722703639515, 0.024263431542461005, 0.02772963604852686, 0.03119584055459272, 0.03466204506065858, 0.036395147313691506, 0.03986135181975736, 0.043327556325823226, 0.053726169844020795, 0.058925476603119586, 0.06239168110918544, 0.07105719237435008, 0.0779896013864818, 0.08838821490467938, 0.09705372616984402, 0.1022530329289428, 0.11611785095320624, 0.12131715771230503, 0.12478336221837089, 0.14038128249566725, 0.15077989601386482, 0.17677642980935876, 0.18717504332755633, 0.2045060658578856, 0.22010398613518198, 0.2339688041594454, 0.2530329289428076, 0.27902946273830154, 0.3188908145580589, 1.0], \"xaxis\": \"x\", \"y\": [0.0, 0.037037037037037035, 0.1111111111111111, 0.18518518518518517, 0.2222222222222222, 0.3333333333333333, 0.3333333333333333, 0.37037037037037035, 0.37037037037037035, 0.4074074074074074, 0.4444444444444444, 0.4444444444444444, 0.4444444444444444, 0.4444444444444444, 0.4444444444444444, 0.4444444444444444, 0.48148148148148145, 0.48148148148148145, 0.48148148148148145, 0.48148148148148145, 0.5555555555555556, 0.5555555555555556, 0.5925925925925926, 0.6296296296296297, 0.6296296296296297, 0.7037037037037037, 0.7037037037037037, 0.7037037037037037, 0.7407407407407407, 0.7407407407407407, 0.7777777777777778, 0.8148148148148148, 0.8518518518518519, 0.8518518518518519, 0.8518518518518519, 0.8518518518518519, 0.8518518518518519, 0.8888888888888888, 0.8888888888888888, 0.9259259259259259, 0.9259259259259259, 0.9259259259259259, 1.0], \"yaxis\": \"y\"}],                        {\"height\": 500, \"legend\": {\"tracegroupgap\": 0}, \"shapes\": [{\"line\": {\"dash\": \"dash\"}, \"type\": \"line\", \"x0\": 0, \"x1\": 1, \"y0\": 0, \"y1\": 1}], \"template\": {\"data\": {\"bar\": [{\"error_x\": {\"color\": \"#2a3f5f\"}, \"error_y\": {\"color\": \"#2a3f5f\"}, \"marker\": {\"line\": {\"color\": \"#E5ECF6\", \"width\": 0.5}}, \"type\": \"bar\"}], \"barpolar\": [{\"marker\": {\"line\": {\"color\": \"#E5ECF6\", \"width\": 0.5}}, \"type\": \"barpolar\"}], \"carpet\": [{\"aaxis\": {\"endlinecolor\": \"#2a3f5f\", \"gridcolor\": \"white\", \"linecolor\": \"white\", \"minorgridcolor\": \"white\", \"startlinecolor\": \"#2a3f5f\"}, \"baxis\": {\"endlinecolor\": \"#2a3f5f\", \"gridcolor\": \"white\", \"linecolor\": \"white\", \"minorgridcolor\": \"white\", \"startlinecolor\": \"#2a3f5f\"}, \"type\": \"carpet\"}], \"choropleth\": [{\"colorbar\": {\"outlinewidth\": 0, \"ticks\": \"\"}, \"type\": \"choropleth\"}], \"contour\": [{\"colorbar\": {\"outlinewidth\": 0, \"ticks\": \"\"}, \"colorscale\": [[0.0, \"#0d0887\"], [0.1111111111111111, \"#46039f\"], [0.2222222222222222, \"#7201a8\"], [0.3333333333333333, \"#9c179e\"], [0.4444444444444444, \"#bd3786\"], [0.5555555555555556, \"#d8576b\"], [0.6666666666666666, \"#ed7953\"], [0.7777777777777778, \"#fb9f3a\"], [0.8888888888888888, \"#fdca26\"], [1.0, \"#f0f921\"]], \"type\": \"contour\"}], \"contourcarpet\": [{\"colorbar\": {\"outlinewidth\": 0, \"ticks\": \"\"}, \"type\": \"contourcarpet\"}], \"heatmap\": [{\"colorbar\": {\"outlinewidth\": 0, \"ticks\": \"\"}, \"colorscale\": [[0.0, \"#0d0887\"], [0.1111111111111111, \"#46039f\"], [0.2222222222222222, \"#7201a8\"], [0.3333333333333333, \"#9c179e\"], [0.4444444444444444, \"#bd3786\"], [0.5555555555555556, \"#d8576b\"], [0.6666666666666666, \"#ed7953\"], [0.7777777777777778, \"#fb9f3a\"], [0.8888888888888888, \"#fdca26\"], [1.0, \"#f0f921\"]], \"type\": \"heatmap\"}], \"heatmapgl\": [{\"colorbar\": {\"outlinewidth\": 0, \"ticks\": \"\"}, \"colorscale\": [[0.0, \"#0d0887\"], [0.1111111111111111, \"#46039f\"], [0.2222222222222222, \"#7201a8\"], [0.3333333333333333, \"#9c179e\"], [0.4444444444444444, \"#bd3786\"], [0.5555555555555556, \"#d8576b\"], [0.6666666666666666, \"#ed7953\"], [0.7777777777777778, \"#fb9f3a\"], [0.8888888888888888, \"#fdca26\"], [1.0, \"#f0f921\"]], \"type\": \"heatmapgl\"}], \"histogram\": [{\"marker\": {\"colorbar\": {\"outlinewidth\": 0, \"ticks\": \"\"}}, \"type\": \"histogram\"}], \"histogram2d\": [{\"colorbar\": {\"outlinewidth\": 0, \"ticks\": \"\"}, \"colorscale\": [[0.0, \"#0d0887\"], [0.1111111111111111, \"#46039f\"], [0.2222222222222222, \"#7201a8\"], [0.3333333333333333, \"#9c179e\"], [0.4444444444444444, \"#bd3786\"], [0.5555555555555556, \"#d8576b\"], [0.6666666666666666, \"#ed7953\"], [0.7777777777777778, \"#fb9f3a\"], [0.8888888888888888, \"#fdca26\"], [1.0, \"#f0f921\"]], \"type\": \"histogram2d\"}], \"histogram2dcontour\": [{\"colorbar\": {\"outlinewidth\": 0, \"ticks\": \"\"}, \"colorscale\": [[0.0, \"#0d0887\"], [0.1111111111111111, \"#46039f\"], [0.2222222222222222, \"#7201a8\"], [0.3333333333333333, \"#9c179e\"], [0.4444444444444444, \"#bd3786\"], [0.5555555555555556, \"#d8576b\"], [0.6666666666666666, \"#ed7953\"], [0.7777777777777778, \"#fb9f3a\"], [0.8888888888888888, \"#fdca26\"], [1.0, \"#f0f921\"]], \"type\": \"histogram2dcontour\"}], \"mesh3d\": [{\"colorbar\": {\"outlinewidth\": 0, \"ticks\": \"\"}, \"type\": \"mesh3d\"}], \"parcoords\": [{\"line\": {\"colorbar\": {\"outlinewidth\": 0, \"ticks\": \"\"}}, \"type\": \"parcoords\"}], \"pie\": [{\"automargin\": true, \"type\": \"pie\"}], \"scatter\": [{\"marker\": {\"colorbar\": {\"outlinewidth\": 0, \"ticks\": \"\"}}, \"type\": \"scatter\"}], \"scatter3d\": [{\"line\": {\"colorbar\": {\"outlinewidth\": 0, \"ticks\": \"\"}}, \"marker\": {\"colorbar\": {\"outlinewidth\": 0, \"ticks\": \"\"}}, \"type\": \"scatter3d\"}], \"scattercarpet\": [{\"marker\": {\"colorbar\": {\"outlinewidth\": 0, \"ticks\": \"\"}}, \"type\": \"scattercarpet\"}], \"scattergeo\": [{\"marker\": {\"colorbar\": {\"outlinewidth\": 0, \"ticks\": \"\"}}, \"type\": \"scattergeo\"}], \"scattergl\": [{\"marker\": {\"colorbar\": {\"outlinewidth\": 0, \"ticks\": \"\"}}, \"type\": \"scattergl\"}], \"scattermapbox\": [{\"marker\": {\"colorbar\": {\"outlinewidth\": 0, \"ticks\": \"\"}}, \"type\": \"scattermapbox\"}], \"scatterpolar\": [{\"marker\": {\"colorbar\": {\"outlinewidth\": 0, \"ticks\": \"\"}}, \"type\": \"scatterpolar\"}], \"scatterpolargl\": [{\"marker\": {\"colorbar\": {\"outlinewidth\": 0, \"ticks\": \"\"}}, \"type\": \"scatterpolargl\"}], \"scatterternary\": [{\"marker\": {\"colorbar\": {\"outlinewidth\": 0, \"ticks\": \"\"}}, \"type\": \"scatterternary\"}], \"surface\": [{\"colorbar\": {\"outlinewidth\": 0, \"ticks\": \"\"}, \"colorscale\": [[0.0, \"#0d0887\"], [0.1111111111111111, \"#46039f\"], [0.2222222222222222, \"#7201a8\"], [0.3333333333333333, \"#9c179e\"], [0.4444444444444444, \"#bd3786\"], [0.5555555555555556, \"#d8576b\"], [0.6666666666666666, \"#ed7953\"], [0.7777777777777778, \"#fb9f3a\"], [0.8888888888888888, \"#fdca26\"], [1.0, \"#f0f921\"]], \"type\": \"surface\"}], \"table\": [{\"cells\": {\"fill\": {\"color\": \"#EBF0F8\"}, \"line\": {\"color\": \"white\"}}, \"header\": {\"fill\": {\"color\": \"#C8D4E3\"}, \"line\": {\"color\": \"white\"}}, \"type\": \"table\"}]}, \"layout\": {\"annotationdefaults\": {\"arrowcolor\": \"#2a3f5f\", \"arrowhead\": 0, \"arrowwidth\": 1}, \"coloraxis\": {\"colorbar\": {\"outlinewidth\": 0, \"ticks\": \"\"}}, \"colorscale\": {\"diverging\": [[0, \"#8e0152\"], [0.1, \"#c51b7d\"], [0.2, \"#de77ae\"], [0.3, \"#f1b6da\"], [0.4, \"#fde0ef\"], [0.5, \"#f7f7f7\"], [0.6, \"#e6f5d0\"], [0.7, \"#b8e186\"], [0.8, \"#7fbc41\"], [0.9, \"#4d9221\"], [1, \"#276419\"]], \"sequential\": [[0.0, \"#0d0887\"], [0.1111111111111111, \"#46039f\"], [0.2222222222222222, \"#7201a8\"], [0.3333333333333333, \"#9c179e\"], [0.4444444444444444, \"#bd3786\"], [0.5555555555555556, \"#d8576b\"], [0.6666666666666666, \"#ed7953\"], [0.7777777777777778, \"#fb9f3a\"], [0.8888888888888888, \"#fdca26\"], [1.0, \"#f0f921\"]], \"sequentialminus\": [[0.0, \"#0d0887\"], [0.1111111111111111, \"#46039f\"], [0.2222222222222222, \"#7201a8\"], [0.3333333333333333, \"#9c179e\"], [0.4444444444444444, \"#bd3786\"], [0.5555555555555556, \"#d8576b\"], [0.6666666666666666, \"#ed7953\"], [0.7777777777777778, \"#fb9f3a\"], [0.8888888888888888, \"#fdca26\"], [1.0, \"#f0f921\"]]}, \"colorway\": [\"#636efa\", \"#EF553B\", \"#00cc96\", \"#ab63fa\", \"#FFA15A\", \"#19d3f3\", \"#FF6692\", \"#B6E880\", \"#FF97FF\", \"#FECB52\"], \"font\": {\"color\": \"#2a3f5f\"}, \"geo\": {\"bgcolor\": \"white\", \"lakecolor\": \"white\", \"landcolor\": \"#E5ECF6\", \"showlakes\": true, \"showland\": true, \"subunitcolor\": \"white\"}, \"hoverlabel\": {\"align\": \"left\"}, \"hovermode\": \"closest\", \"mapbox\": {\"style\": \"light\"}, \"paper_bgcolor\": \"white\", \"plot_bgcolor\": \"#E5ECF6\", \"polar\": {\"angularaxis\": {\"gridcolor\": \"white\", \"linecolor\": \"white\", \"ticks\": \"\"}, \"bgcolor\": \"#E5ECF6\", \"radialaxis\": {\"gridcolor\": \"white\", \"linecolor\": \"white\", \"ticks\": \"\"}}, \"scene\": {\"xaxis\": {\"backgroundcolor\": \"#E5ECF6\", \"gridcolor\": \"white\", \"gridwidth\": 2, \"linecolor\": \"white\", \"showbackground\": true, \"ticks\": \"\", \"zerolinecolor\": \"white\"}, \"yaxis\": {\"backgroundcolor\": \"#E5ECF6\", \"gridcolor\": \"white\", \"gridwidth\": 2, \"linecolor\": \"white\", \"showbackground\": true, \"ticks\": \"\", \"zerolinecolor\": \"white\"}, \"zaxis\": {\"backgroundcolor\": \"#E5ECF6\", \"gridcolor\": \"white\", \"gridwidth\": 2, \"linecolor\": \"white\", \"showbackground\": true, \"ticks\": \"\", \"zerolinecolor\": \"white\"}}, \"shapedefaults\": {\"line\": {\"color\": \"#2a3f5f\"}}, \"ternary\": {\"aaxis\": {\"gridcolor\": \"white\", \"linecolor\": \"white\", \"ticks\": \"\"}, \"baxis\": {\"gridcolor\": \"white\", \"linecolor\": \"white\", \"ticks\": \"\"}, \"bgcolor\": \"#E5ECF6\", \"caxis\": {\"gridcolor\": \"white\", \"linecolor\": \"white\", \"ticks\": \"\"}}, \"title\": {\"x\": 0.05}, \"xaxis\": {\"automargin\": true, \"gridcolor\": \"white\", \"linecolor\": \"white\", \"ticks\": \"\", \"title\": {\"standoff\": 15}, \"zerolinecolor\": \"white\", \"zerolinewidth\": 2}, \"yaxis\": {\"automargin\": true, \"gridcolor\": \"white\", \"linecolor\": \"white\", \"ticks\": \"\", \"title\": {\"standoff\": 15}, \"zerolinecolor\": \"white\", \"zerolinewidth\": 2}}}, \"title\": {\"text\": \"ROC Curve (AUC=0.9010)\"}, \"width\": 700, \"xaxis\": {\"anchor\": \"y\", \"constrain\": \"domain\", \"domain\": [0.0, 1.0], \"title\": {\"text\": \"False Positive Rate\"}}, \"yaxis\": {\"anchor\": \"x\", \"domain\": [0.0, 1.0], \"scaleanchor\": \"x\", \"scaleratio\": 1, \"title\": {\"text\": \"True Positive Rate\"}}},                        {\"responsive\": true}                    ).then(function(){\n",
       "                            \n",
       "var gd = document.getElementById('407e11b8-333d-4836-8355-2da74d01e363');\n",
       "var x = new MutationObserver(function (mutations, observer) {{\n",
       "        var display = window.getComputedStyle(gd).display;\n",
       "        if (!display || display === 'none') {{\n",
       "            console.log([gd, 'removed!']);\n",
       "            Plotly.purge(gd);\n",
       "            observer.disconnect();\n",
       "        }}\n",
       "}});\n",
       "\n",
       "// Listen for the removal of the full notebook cells\n",
       "var notebookContainer = gd.closest('#notebook-container');\n",
       "if (notebookContainer) {{\n",
       "    x.observe(notebookContainer, {childList: true});\n",
       "}}\n",
       "\n",
       "// Listen for the clearing of the current output cell\n",
       "var outputEl = gd.closest('.output');\n",
       "if (outputEl) {{\n",
       "    x.observe(outputEl, {childList: true});\n",
       "}}\n",
       "\n",
       "                        })                };                });            </script>        </div>"
      ]
     },
     "metadata": {},
     "output_type": "display_data"
    },
    {
     "name": "stdout",
     "output_type": "stream",
     "text": [
      "---Random Forest Metrics---\n",
      "Accuracy: 96.52\n",
      "kFold CV Accuracy: 95.58\n"
     ]
    }
   ],
   "source": [
    "acc_score, acc_score_cv, auc_calculation = get_scores(RandomForestClassifier(), X, y, 10)\n",
    "print(f\"---Random Forest Metrics---\")\n",
    "print(f'Accuracy: {acc_score}')\n",
    "print(f'kFold CV Accuracy: {acc_score_cv}')\n",
    "model_log = model_log.append({'model': 'Random Forest', 'CV score': acc_score_cv, 'auc': auc_calculation}, ignore_index=True)"
   ]
  },
  {
   "cell_type": "markdown",
   "metadata": {},
   "source": [
    "### Decision Tree"
   ]
  },
  {
   "cell_type": "code",
   "execution_count": 156,
   "metadata": {},
   "outputs": [
    {
     "data": {
      "application/vnd.plotly.v1+json": {
       "config": {
        "plotlyServerURL": "https://plot.ly"
       },
       "data": [
        {
         "hovertemplate": "False Positive Rate=%{x}<br>True Positive Rate=%{y}<extra></extra>",
         "legendgroup": "",
         "line": {
          "color": "#636efa"
         },
         "mode": "lines",
         "name": "",
         "orientation": "v",
         "showlegend": false,
         "stackgroup": "1",
         "type": "scatter",
         "x": [
          0,
          0.0415944540727903,
          1
         ],
         "xaxis": "x",
         "y": [
          0,
          0.48148148148148145,
          1
         ],
         "yaxis": "y"
        }
       ],
       "layout": {
        "height": 500,
        "legend": {
         "tracegroupgap": 0
        },
        "shapes": [
         {
          "line": {
           "dash": "dash"
          },
          "type": "line",
          "x0": 0,
          "x1": 1,
          "y0": 0,
          "y1": 1
         }
        ],
        "template": {
         "data": {
          "bar": [
           {
            "error_x": {
             "color": "#2a3f5f"
            },
            "error_y": {
             "color": "#2a3f5f"
            },
            "marker": {
             "line": {
              "color": "#E5ECF6",
              "width": 0.5
             }
            },
            "type": "bar"
           }
          ],
          "barpolar": [
           {
            "marker": {
             "line": {
              "color": "#E5ECF6",
              "width": 0.5
             }
            },
            "type": "barpolar"
           }
          ],
          "carpet": [
           {
            "aaxis": {
             "endlinecolor": "#2a3f5f",
             "gridcolor": "white",
             "linecolor": "white",
             "minorgridcolor": "white",
             "startlinecolor": "#2a3f5f"
            },
            "baxis": {
             "endlinecolor": "#2a3f5f",
             "gridcolor": "white",
             "linecolor": "white",
             "minorgridcolor": "white",
             "startlinecolor": "#2a3f5f"
            },
            "type": "carpet"
           }
          ],
          "choropleth": [
           {
            "colorbar": {
             "outlinewidth": 0,
             "ticks": ""
            },
            "type": "choropleth"
           }
          ],
          "contour": [
           {
            "colorbar": {
             "outlinewidth": 0,
             "ticks": ""
            },
            "colorscale": [
             [
              0,
              "#0d0887"
             ],
             [
              0.1111111111111111,
              "#46039f"
             ],
             [
              0.2222222222222222,
              "#7201a8"
             ],
             [
              0.3333333333333333,
              "#9c179e"
             ],
             [
              0.4444444444444444,
              "#bd3786"
             ],
             [
              0.5555555555555556,
              "#d8576b"
             ],
             [
              0.6666666666666666,
              "#ed7953"
             ],
             [
              0.7777777777777778,
              "#fb9f3a"
             ],
             [
              0.8888888888888888,
              "#fdca26"
             ],
             [
              1,
              "#f0f921"
             ]
            ],
            "type": "contour"
           }
          ],
          "contourcarpet": [
           {
            "colorbar": {
             "outlinewidth": 0,
             "ticks": ""
            },
            "type": "contourcarpet"
           }
          ],
          "heatmap": [
           {
            "colorbar": {
             "outlinewidth": 0,
             "ticks": ""
            },
            "colorscale": [
             [
              0,
              "#0d0887"
             ],
             [
              0.1111111111111111,
              "#46039f"
             ],
             [
              0.2222222222222222,
              "#7201a8"
             ],
             [
              0.3333333333333333,
              "#9c179e"
             ],
             [
              0.4444444444444444,
              "#bd3786"
             ],
             [
              0.5555555555555556,
              "#d8576b"
             ],
             [
              0.6666666666666666,
              "#ed7953"
             ],
             [
              0.7777777777777778,
              "#fb9f3a"
             ],
             [
              0.8888888888888888,
              "#fdca26"
             ],
             [
              1,
              "#f0f921"
             ]
            ],
            "type": "heatmap"
           }
          ],
          "heatmapgl": [
           {
            "colorbar": {
             "outlinewidth": 0,
             "ticks": ""
            },
            "colorscale": [
             [
              0,
              "#0d0887"
             ],
             [
              0.1111111111111111,
              "#46039f"
             ],
             [
              0.2222222222222222,
              "#7201a8"
             ],
             [
              0.3333333333333333,
              "#9c179e"
             ],
             [
              0.4444444444444444,
              "#bd3786"
             ],
             [
              0.5555555555555556,
              "#d8576b"
             ],
             [
              0.6666666666666666,
              "#ed7953"
             ],
             [
              0.7777777777777778,
              "#fb9f3a"
             ],
             [
              0.8888888888888888,
              "#fdca26"
             ],
             [
              1,
              "#f0f921"
             ]
            ],
            "type": "heatmapgl"
           }
          ],
          "histogram": [
           {
            "marker": {
             "colorbar": {
              "outlinewidth": 0,
              "ticks": ""
             }
            },
            "type": "histogram"
           }
          ],
          "histogram2d": [
           {
            "colorbar": {
             "outlinewidth": 0,
             "ticks": ""
            },
            "colorscale": [
             [
              0,
              "#0d0887"
             ],
             [
              0.1111111111111111,
              "#46039f"
             ],
             [
              0.2222222222222222,
              "#7201a8"
             ],
             [
              0.3333333333333333,
              "#9c179e"
             ],
             [
              0.4444444444444444,
              "#bd3786"
             ],
             [
              0.5555555555555556,
              "#d8576b"
             ],
             [
              0.6666666666666666,
              "#ed7953"
             ],
             [
              0.7777777777777778,
              "#fb9f3a"
             ],
             [
              0.8888888888888888,
              "#fdca26"
             ],
             [
              1,
              "#f0f921"
             ]
            ],
            "type": "histogram2d"
           }
          ],
          "histogram2dcontour": [
           {
            "colorbar": {
             "outlinewidth": 0,
             "ticks": ""
            },
            "colorscale": [
             [
              0,
              "#0d0887"
             ],
             [
              0.1111111111111111,
              "#46039f"
             ],
             [
              0.2222222222222222,
              "#7201a8"
             ],
             [
              0.3333333333333333,
              "#9c179e"
             ],
             [
              0.4444444444444444,
              "#bd3786"
             ],
             [
              0.5555555555555556,
              "#d8576b"
             ],
             [
              0.6666666666666666,
              "#ed7953"
             ],
             [
              0.7777777777777778,
              "#fb9f3a"
             ],
             [
              0.8888888888888888,
              "#fdca26"
             ],
             [
              1,
              "#f0f921"
             ]
            ],
            "type": "histogram2dcontour"
           }
          ],
          "mesh3d": [
           {
            "colorbar": {
             "outlinewidth": 0,
             "ticks": ""
            },
            "type": "mesh3d"
           }
          ],
          "parcoords": [
           {
            "line": {
             "colorbar": {
              "outlinewidth": 0,
              "ticks": ""
             }
            },
            "type": "parcoords"
           }
          ],
          "pie": [
           {
            "automargin": true,
            "type": "pie"
           }
          ],
          "scatter": [
           {
            "marker": {
             "colorbar": {
              "outlinewidth": 0,
              "ticks": ""
             }
            },
            "type": "scatter"
           }
          ],
          "scatter3d": [
           {
            "line": {
             "colorbar": {
              "outlinewidth": 0,
              "ticks": ""
             }
            },
            "marker": {
             "colorbar": {
              "outlinewidth": 0,
              "ticks": ""
             }
            },
            "type": "scatter3d"
           }
          ],
          "scattercarpet": [
           {
            "marker": {
             "colorbar": {
              "outlinewidth": 0,
              "ticks": ""
             }
            },
            "type": "scattercarpet"
           }
          ],
          "scattergeo": [
           {
            "marker": {
             "colorbar": {
              "outlinewidth": 0,
              "ticks": ""
             }
            },
            "type": "scattergeo"
           }
          ],
          "scattergl": [
           {
            "marker": {
             "colorbar": {
              "outlinewidth": 0,
              "ticks": ""
             }
            },
            "type": "scattergl"
           }
          ],
          "scattermapbox": [
           {
            "marker": {
             "colorbar": {
              "outlinewidth": 0,
              "ticks": ""
             }
            },
            "type": "scattermapbox"
           }
          ],
          "scatterpolar": [
           {
            "marker": {
             "colorbar": {
              "outlinewidth": 0,
              "ticks": ""
             }
            },
            "type": "scatterpolar"
           }
          ],
          "scatterpolargl": [
           {
            "marker": {
             "colorbar": {
              "outlinewidth": 0,
              "ticks": ""
             }
            },
            "type": "scatterpolargl"
           }
          ],
          "scatterternary": [
           {
            "marker": {
             "colorbar": {
              "outlinewidth": 0,
              "ticks": ""
             }
            },
            "type": "scatterternary"
           }
          ],
          "surface": [
           {
            "colorbar": {
             "outlinewidth": 0,
             "ticks": ""
            },
            "colorscale": [
             [
              0,
              "#0d0887"
             ],
             [
              0.1111111111111111,
              "#46039f"
             ],
             [
              0.2222222222222222,
              "#7201a8"
             ],
             [
              0.3333333333333333,
              "#9c179e"
             ],
             [
              0.4444444444444444,
              "#bd3786"
             ],
             [
              0.5555555555555556,
              "#d8576b"
             ],
             [
              0.6666666666666666,
              "#ed7953"
             ],
             [
              0.7777777777777778,
              "#fb9f3a"
             ],
             [
              0.8888888888888888,
              "#fdca26"
             ],
             [
              1,
              "#f0f921"
             ]
            ],
            "type": "surface"
           }
          ],
          "table": [
           {
            "cells": {
             "fill": {
              "color": "#EBF0F8"
             },
             "line": {
              "color": "white"
             }
            },
            "header": {
             "fill": {
              "color": "#C8D4E3"
             },
             "line": {
              "color": "white"
             }
            },
            "type": "table"
           }
          ]
         },
         "layout": {
          "annotationdefaults": {
           "arrowcolor": "#2a3f5f",
           "arrowhead": 0,
           "arrowwidth": 1
          },
          "coloraxis": {
           "colorbar": {
            "outlinewidth": 0,
            "ticks": ""
           }
          },
          "colorscale": {
           "diverging": [
            [
             0,
             "#8e0152"
            ],
            [
             0.1,
             "#c51b7d"
            ],
            [
             0.2,
             "#de77ae"
            ],
            [
             0.3,
             "#f1b6da"
            ],
            [
             0.4,
             "#fde0ef"
            ],
            [
             0.5,
             "#f7f7f7"
            ],
            [
             0.6,
             "#e6f5d0"
            ],
            [
             0.7,
             "#b8e186"
            ],
            [
             0.8,
             "#7fbc41"
            ],
            [
             0.9,
             "#4d9221"
            ],
            [
             1,
             "#276419"
            ]
           ],
           "sequential": [
            [
             0,
             "#0d0887"
            ],
            [
             0.1111111111111111,
             "#46039f"
            ],
            [
             0.2222222222222222,
             "#7201a8"
            ],
            [
             0.3333333333333333,
             "#9c179e"
            ],
            [
             0.4444444444444444,
             "#bd3786"
            ],
            [
             0.5555555555555556,
             "#d8576b"
            ],
            [
             0.6666666666666666,
             "#ed7953"
            ],
            [
             0.7777777777777778,
             "#fb9f3a"
            ],
            [
             0.8888888888888888,
             "#fdca26"
            ],
            [
             1,
             "#f0f921"
            ]
           ],
           "sequentialminus": [
            [
             0,
             "#0d0887"
            ],
            [
             0.1111111111111111,
             "#46039f"
            ],
            [
             0.2222222222222222,
             "#7201a8"
            ],
            [
             0.3333333333333333,
             "#9c179e"
            ],
            [
             0.4444444444444444,
             "#bd3786"
            ],
            [
             0.5555555555555556,
             "#d8576b"
            ],
            [
             0.6666666666666666,
             "#ed7953"
            ],
            [
             0.7777777777777778,
             "#fb9f3a"
            ],
            [
             0.8888888888888888,
             "#fdca26"
            ],
            [
             1,
             "#f0f921"
            ]
           ]
          },
          "colorway": [
           "#636efa",
           "#EF553B",
           "#00cc96",
           "#ab63fa",
           "#FFA15A",
           "#19d3f3",
           "#FF6692",
           "#B6E880",
           "#FF97FF",
           "#FECB52"
          ],
          "font": {
           "color": "#2a3f5f"
          },
          "geo": {
           "bgcolor": "white",
           "lakecolor": "white",
           "landcolor": "#E5ECF6",
           "showlakes": true,
           "showland": true,
           "subunitcolor": "white"
          },
          "hoverlabel": {
           "align": "left"
          },
          "hovermode": "closest",
          "mapbox": {
           "style": "light"
          },
          "paper_bgcolor": "white",
          "plot_bgcolor": "#E5ECF6",
          "polar": {
           "angularaxis": {
            "gridcolor": "white",
            "linecolor": "white",
            "ticks": ""
           },
           "bgcolor": "#E5ECF6",
           "radialaxis": {
            "gridcolor": "white",
            "linecolor": "white",
            "ticks": ""
           }
          },
          "scene": {
           "xaxis": {
            "backgroundcolor": "#E5ECF6",
            "gridcolor": "white",
            "gridwidth": 2,
            "linecolor": "white",
            "showbackground": true,
            "ticks": "",
            "zerolinecolor": "white"
           },
           "yaxis": {
            "backgroundcolor": "#E5ECF6",
            "gridcolor": "white",
            "gridwidth": 2,
            "linecolor": "white",
            "showbackground": true,
            "ticks": "",
            "zerolinecolor": "white"
           },
           "zaxis": {
            "backgroundcolor": "#E5ECF6",
            "gridcolor": "white",
            "gridwidth": 2,
            "linecolor": "white",
            "showbackground": true,
            "ticks": "",
            "zerolinecolor": "white"
           }
          },
          "shapedefaults": {
           "line": {
            "color": "#2a3f5f"
           }
          },
          "ternary": {
           "aaxis": {
            "gridcolor": "white",
            "linecolor": "white",
            "ticks": ""
           },
           "baxis": {
            "gridcolor": "white",
            "linecolor": "white",
            "ticks": ""
           },
           "bgcolor": "#E5ECF6",
           "caxis": {
            "gridcolor": "white",
            "linecolor": "white",
            "ticks": ""
           }
          },
          "title": {
           "x": 0.05
          },
          "xaxis": {
           "automargin": true,
           "gridcolor": "white",
           "linecolor": "white",
           "ticks": "",
           "title": {
            "standoff": 15
           },
           "zerolinecolor": "white",
           "zerolinewidth": 2
          },
          "yaxis": {
           "automargin": true,
           "gridcolor": "white",
           "linecolor": "white",
           "ticks": "",
           "title": {
            "standoff": 15
           },
           "zerolinecolor": "white",
           "zerolinewidth": 2
          }
         }
        },
        "title": {
         "text": "ROC Curve (AUC=0.7199)"
        },
        "width": 700,
        "xaxis": {
         "anchor": "y",
         "constrain": "domain",
         "domain": [
          0,
          1
         ],
         "title": {
          "text": "False Positive Rate"
         }
        },
        "yaxis": {
         "anchor": "x",
         "domain": [
          0,
          1
         ],
         "scaleanchor": "x",
         "scaleratio": 1,
         "title": {
          "text": "True Positive Rate"
         }
        }
       }
      },
      "text/html": [
       "<div>                            <div id=\"e5033d46-cd5a-4c14-8077-23398a99049a\" class=\"plotly-graph-div\" style=\"height:500px; width:700px;\"></div>            <script type=\"text/javascript\">                require([\"plotly\"], function(Plotly) {                    window.PLOTLYENV=window.PLOTLYENV || {};                                    if (document.getElementById(\"e5033d46-cd5a-4c14-8077-23398a99049a\")) {                    Plotly.newPlot(                        \"e5033d46-cd5a-4c14-8077-23398a99049a\",                        [{\"hovertemplate\": \"False Positive Rate=%{x}<br>True Positive Rate=%{y}<extra></extra>\", \"legendgroup\": \"\", \"line\": {\"color\": \"#636efa\"}, \"mode\": \"lines\", \"name\": \"\", \"orientation\": \"v\", \"showlegend\": false, \"stackgroup\": \"1\", \"type\": \"scatter\", \"x\": [0.0, 0.0415944540727903, 1.0], \"xaxis\": \"x\", \"y\": [0.0, 0.48148148148148145, 1.0], \"yaxis\": \"y\"}],                        {\"height\": 500, \"legend\": {\"tracegroupgap\": 0}, \"shapes\": [{\"line\": {\"dash\": \"dash\"}, \"type\": \"line\", \"x0\": 0, \"x1\": 1, \"y0\": 0, \"y1\": 1}], \"template\": {\"data\": {\"bar\": [{\"error_x\": {\"color\": \"#2a3f5f\"}, \"error_y\": {\"color\": \"#2a3f5f\"}, \"marker\": {\"line\": {\"color\": \"#E5ECF6\", \"width\": 0.5}}, \"type\": \"bar\"}], \"barpolar\": [{\"marker\": {\"line\": {\"color\": \"#E5ECF6\", \"width\": 0.5}}, \"type\": \"barpolar\"}], \"carpet\": [{\"aaxis\": {\"endlinecolor\": \"#2a3f5f\", \"gridcolor\": \"white\", \"linecolor\": \"white\", \"minorgridcolor\": \"white\", \"startlinecolor\": \"#2a3f5f\"}, \"baxis\": {\"endlinecolor\": \"#2a3f5f\", \"gridcolor\": \"white\", \"linecolor\": \"white\", \"minorgridcolor\": \"white\", \"startlinecolor\": \"#2a3f5f\"}, \"type\": \"carpet\"}], \"choropleth\": [{\"colorbar\": {\"outlinewidth\": 0, \"ticks\": \"\"}, \"type\": \"choropleth\"}], \"contour\": [{\"colorbar\": {\"outlinewidth\": 0, \"ticks\": \"\"}, \"colorscale\": [[0.0, \"#0d0887\"], [0.1111111111111111, \"#46039f\"], [0.2222222222222222, \"#7201a8\"], [0.3333333333333333, \"#9c179e\"], [0.4444444444444444, \"#bd3786\"], [0.5555555555555556, \"#d8576b\"], [0.6666666666666666, \"#ed7953\"], [0.7777777777777778, \"#fb9f3a\"], [0.8888888888888888, \"#fdca26\"], [1.0, \"#f0f921\"]], \"type\": \"contour\"}], \"contourcarpet\": [{\"colorbar\": {\"outlinewidth\": 0, \"ticks\": \"\"}, \"type\": \"contourcarpet\"}], \"heatmap\": [{\"colorbar\": {\"outlinewidth\": 0, \"ticks\": \"\"}, \"colorscale\": [[0.0, \"#0d0887\"], [0.1111111111111111, \"#46039f\"], [0.2222222222222222, \"#7201a8\"], [0.3333333333333333, \"#9c179e\"], [0.4444444444444444, \"#bd3786\"], [0.5555555555555556, \"#d8576b\"], [0.6666666666666666, \"#ed7953\"], [0.7777777777777778, \"#fb9f3a\"], [0.8888888888888888, \"#fdca26\"], [1.0, \"#f0f921\"]], \"type\": \"heatmap\"}], \"heatmapgl\": [{\"colorbar\": {\"outlinewidth\": 0, \"ticks\": \"\"}, \"colorscale\": [[0.0, \"#0d0887\"], [0.1111111111111111, \"#46039f\"], [0.2222222222222222, \"#7201a8\"], [0.3333333333333333, \"#9c179e\"], [0.4444444444444444, \"#bd3786\"], [0.5555555555555556, \"#d8576b\"], [0.6666666666666666, \"#ed7953\"], [0.7777777777777778, \"#fb9f3a\"], [0.8888888888888888, \"#fdca26\"], [1.0, \"#f0f921\"]], \"type\": \"heatmapgl\"}], \"histogram\": [{\"marker\": {\"colorbar\": {\"outlinewidth\": 0, \"ticks\": \"\"}}, \"type\": \"histogram\"}], \"histogram2d\": [{\"colorbar\": {\"outlinewidth\": 0, \"ticks\": \"\"}, \"colorscale\": [[0.0, \"#0d0887\"], [0.1111111111111111, \"#46039f\"], [0.2222222222222222, \"#7201a8\"], [0.3333333333333333, \"#9c179e\"], [0.4444444444444444, \"#bd3786\"], [0.5555555555555556, \"#d8576b\"], [0.6666666666666666, \"#ed7953\"], [0.7777777777777778, \"#fb9f3a\"], [0.8888888888888888, \"#fdca26\"], [1.0, \"#f0f921\"]], \"type\": \"histogram2d\"}], \"histogram2dcontour\": [{\"colorbar\": {\"outlinewidth\": 0, \"ticks\": \"\"}, \"colorscale\": [[0.0, \"#0d0887\"], [0.1111111111111111, \"#46039f\"], [0.2222222222222222, \"#7201a8\"], [0.3333333333333333, \"#9c179e\"], [0.4444444444444444, \"#bd3786\"], [0.5555555555555556, \"#d8576b\"], [0.6666666666666666, \"#ed7953\"], [0.7777777777777778, \"#fb9f3a\"], [0.8888888888888888, \"#fdca26\"], [1.0, \"#f0f921\"]], \"type\": \"histogram2dcontour\"}], \"mesh3d\": [{\"colorbar\": {\"outlinewidth\": 0, \"ticks\": \"\"}, \"type\": \"mesh3d\"}], \"parcoords\": [{\"line\": {\"colorbar\": {\"outlinewidth\": 0, \"ticks\": \"\"}}, \"type\": \"parcoords\"}], \"pie\": [{\"automargin\": true, \"type\": \"pie\"}], \"scatter\": [{\"marker\": {\"colorbar\": {\"outlinewidth\": 0, \"ticks\": \"\"}}, \"type\": \"scatter\"}], \"scatter3d\": [{\"line\": {\"colorbar\": {\"outlinewidth\": 0, \"ticks\": \"\"}}, \"marker\": {\"colorbar\": {\"outlinewidth\": 0, \"ticks\": \"\"}}, \"type\": \"scatter3d\"}], \"scattercarpet\": [{\"marker\": {\"colorbar\": {\"outlinewidth\": 0, \"ticks\": \"\"}}, \"type\": \"scattercarpet\"}], \"scattergeo\": [{\"marker\": {\"colorbar\": {\"outlinewidth\": 0, \"ticks\": \"\"}}, \"type\": \"scattergeo\"}], \"scattergl\": [{\"marker\": {\"colorbar\": {\"outlinewidth\": 0, \"ticks\": \"\"}}, \"type\": \"scattergl\"}], \"scattermapbox\": [{\"marker\": {\"colorbar\": {\"outlinewidth\": 0, \"ticks\": \"\"}}, \"type\": \"scattermapbox\"}], \"scatterpolar\": [{\"marker\": {\"colorbar\": {\"outlinewidth\": 0, \"ticks\": \"\"}}, \"type\": \"scatterpolar\"}], \"scatterpolargl\": [{\"marker\": {\"colorbar\": {\"outlinewidth\": 0, \"ticks\": \"\"}}, \"type\": \"scatterpolargl\"}], \"scatterternary\": [{\"marker\": {\"colorbar\": {\"outlinewidth\": 0, \"ticks\": \"\"}}, \"type\": \"scatterternary\"}], \"surface\": [{\"colorbar\": {\"outlinewidth\": 0, \"ticks\": \"\"}, \"colorscale\": [[0.0, \"#0d0887\"], [0.1111111111111111, \"#46039f\"], [0.2222222222222222, \"#7201a8\"], [0.3333333333333333, \"#9c179e\"], [0.4444444444444444, \"#bd3786\"], [0.5555555555555556, \"#d8576b\"], [0.6666666666666666, \"#ed7953\"], [0.7777777777777778, \"#fb9f3a\"], [0.8888888888888888, \"#fdca26\"], [1.0, \"#f0f921\"]], \"type\": \"surface\"}], \"table\": [{\"cells\": {\"fill\": {\"color\": \"#EBF0F8\"}, \"line\": {\"color\": \"white\"}}, \"header\": {\"fill\": {\"color\": \"#C8D4E3\"}, \"line\": {\"color\": \"white\"}}, \"type\": \"table\"}]}, \"layout\": {\"annotationdefaults\": {\"arrowcolor\": \"#2a3f5f\", \"arrowhead\": 0, \"arrowwidth\": 1}, \"coloraxis\": {\"colorbar\": {\"outlinewidth\": 0, \"ticks\": \"\"}}, \"colorscale\": {\"diverging\": [[0, \"#8e0152\"], [0.1, \"#c51b7d\"], [0.2, \"#de77ae\"], [0.3, \"#f1b6da\"], [0.4, \"#fde0ef\"], [0.5, \"#f7f7f7\"], [0.6, \"#e6f5d0\"], [0.7, \"#b8e186\"], [0.8, \"#7fbc41\"], [0.9, \"#4d9221\"], [1, \"#276419\"]], \"sequential\": [[0.0, \"#0d0887\"], [0.1111111111111111, \"#46039f\"], [0.2222222222222222, \"#7201a8\"], [0.3333333333333333, \"#9c179e\"], [0.4444444444444444, \"#bd3786\"], [0.5555555555555556, \"#d8576b\"], [0.6666666666666666, \"#ed7953\"], [0.7777777777777778, \"#fb9f3a\"], [0.8888888888888888, \"#fdca26\"], [1.0, \"#f0f921\"]], \"sequentialminus\": [[0.0, \"#0d0887\"], [0.1111111111111111, \"#46039f\"], [0.2222222222222222, \"#7201a8\"], [0.3333333333333333, \"#9c179e\"], [0.4444444444444444, \"#bd3786\"], [0.5555555555555556, \"#d8576b\"], [0.6666666666666666, \"#ed7953\"], [0.7777777777777778, \"#fb9f3a\"], [0.8888888888888888, \"#fdca26\"], [1.0, \"#f0f921\"]]}, \"colorway\": [\"#636efa\", \"#EF553B\", \"#00cc96\", \"#ab63fa\", \"#FFA15A\", \"#19d3f3\", \"#FF6692\", \"#B6E880\", \"#FF97FF\", \"#FECB52\"], \"font\": {\"color\": \"#2a3f5f\"}, \"geo\": {\"bgcolor\": \"white\", \"lakecolor\": \"white\", \"landcolor\": \"#E5ECF6\", \"showlakes\": true, \"showland\": true, \"subunitcolor\": \"white\"}, \"hoverlabel\": {\"align\": \"left\"}, \"hovermode\": \"closest\", \"mapbox\": {\"style\": \"light\"}, \"paper_bgcolor\": \"white\", \"plot_bgcolor\": \"#E5ECF6\", \"polar\": {\"angularaxis\": {\"gridcolor\": \"white\", \"linecolor\": \"white\", \"ticks\": \"\"}, \"bgcolor\": \"#E5ECF6\", \"radialaxis\": {\"gridcolor\": \"white\", \"linecolor\": \"white\", \"ticks\": \"\"}}, \"scene\": {\"xaxis\": {\"backgroundcolor\": \"#E5ECF6\", \"gridcolor\": \"white\", \"gridwidth\": 2, \"linecolor\": \"white\", \"showbackground\": true, \"ticks\": \"\", \"zerolinecolor\": \"white\"}, \"yaxis\": {\"backgroundcolor\": \"#E5ECF6\", \"gridcolor\": \"white\", \"gridwidth\": 2, \"linecolor\": \"white\", \"showbackground\": true, \"ticks\": \"\", \"zerolinecolor\": \"white\"}, \"zaxis\": {\"backgroundcolor\": \"#E5ECF6\", \"gridcolor\": \"white\", \"gridwidth\": 2, \"linecolor\": \"white\", \"showbackground\": true, \"ticks\": \"\", \"zerolinecolor\": \"white\"}}, \"shapedefaults\": {\"line\": {\"color\": \"#2a3f5f\"}}, \"ternary\": {\"aaxis\": {\"gridcolor\": \"white\", \"linecolor\": \"white\", \"ticks\": \"\"}, \"baxis\": {\"gridcolor\": \"white\", \"linecolor\": \"white\", \"ticks\": \"\"}, \"bgcolor\": \"#E5ECF6\", \"caxis\": {\"gridcolor\": \"white\", \"linecolor\": \"white\", \"ticks\": \"\"}}, \"title\": {\"x\": 0.05}, \"xaxis\": {\"automargin\": true, \"gridcolor\": \"white\", \"linecolor\": \"white\", \"ticks\": \"\", \"title\": {\"standoff\": 15}, \"zerolinecolor\": \"white\", \"zerolinewidth\": 2}, \"yaxis\": {\"automargin\": true, \"gridcolor\": \"white\", \"linecolor\": \"white\", \"ticks\": \"\", \"title\": {\"standoff\": 15}, \"zerolinecolor\": \"white\", \"zerolinewidth\": 2}}}, \"title\": {\"text\": \"ROC Curve (AUC=0.7199)\"}, \"width\": 700, \"xaxis\": {\"anchor\": \"y\", \"constrain\": \"domain\", \"domain\": [0.0, 1.0], \"title\": {\"text\": \"False Positive Rate\"}}, \"yaxis\": {\"anchor\": \"x\", \"domain\": [0.0, 1.0], \"scaleanchor\": \"x\", \"scaleratio\": 1, \"title\": {\"text\": \"True Positive Rate\"}}},                        {\"responsive\": true}                    ).then(function(){\n",
       "                            \n",
       "var gd = document.getElementById('e5033d46-cd5a-4c14-8077-23398a99049a');\n",
       "var x = new MutationObserver(function (mutations, observer) {{\n",
       "        var display = window.getComputedStyle(gd).display;\n",
       "        if (!display || display === 'none') {{\n",
       "            console.log([gd, 'removed!']);\n",
       "            Plotly.purge(gd);\n",
       "            observer.disconnect();\n",
       "        }}\n",
       "}});\n",
       "\n",
       "// Listen for the removal of the full notebook cells\n",
       "var notebookContainer = gd.closest('#notebook-container');\n",
       "if (notebookContainer) {{\n",
       "    x.observe(notebookContainer, {childList: true});\n",
       "}}\n",
       "\n",
       "// Listen for the clearing of the current output cell\n",
       "var outputEl = gd.closest('.output');\n",
       "if (outputEl) {{\n",
       "    x.observe(outputEl, {childList: true});\n",
       "}}\n",
       "\n",
       "                        })                };                });            </script>        </div>"
      ]
     },
     "metadata": {},
     "output_type": "display_data"
    },
    {
     "name": "stdout",
     "output_type": "stream",
     "text": [
      "---Decision Tree Metrics---\n",
      "Accuracy: 93.71\n",
      "kFold CV Accuracy: 93.29\n"
     ]
    }
   ],
   "source": [
    "acc_score, acc_score_cv, auc_calculation = get_scores(DecisionTreeClassifier(), X, y, 10)\n",
    "print(f\"---Decision Tree Metrics---\")\n",
    "print(f'Accuracy: {acc_score}')\n",
    "print(f'kFold CV Accuracy: {acc_score_cv}')\n",
    "model_log = model_log.append({'model': 'Decision Tree', 'CV score': acc_score_cv, 'auc': auc_calculation}, ignore_index=True)"
   ]
  },
  {
   "cell_type": "markdown",
   "metadata": {},
   "source": [
    "### Logistic Regression"
   ]
  },
  {
   "cell_type": "code",
   "execution_count": 157,
   "metadata": {
    "scrolled": true
   },
   "outputs": [
    {
     "name": "stderr",
     "output_type": "stream",
     "text": [
      "C:\\Users\\Natalie Chua\\anaconda3\\lib\\site-packages\\sklearn\\linear_model\\_logistic.py:762: ConvergenceWarning:\n",
      "\n",
      "lbfgs failed to converge (status=2):\n",
      "ABNORMAL_TERMINATION_IN_LNSRCH.\n",
      "\n",
      "Increase the number of iterations (max_iter) or scale the data as shown in:\n",
      "    https://scikit-learn.org/stable/modules/preprocessing.html\n",
      "Please also refer to the documentation for alternative solver options:\n",
      "    https://scikit-learn.org/stable/modules/linear_model.html#logistic-regression\n",
      "\n"
     ]
    },
    {
     "data": {
      "application/vnd.plotly.v1+json": {
       "config": {
        "plotlyServerURL": "https://plot.ly"
       },
       "data": [
        {
         "hovertemplate": "False Positive Rate=%{x}<br>True Positive Rate=%{y}<extra></extra>",
         "legendgroup": "",
         "line": {
          "color": "#636efa"
         },
         "mode": "lines",
         "name": "",
         "orientation": "v",
         "showlegend": false,
         "stackgroup": "1",
         "type": "scatter",
         "x": [
          0,
          1
         ],
         "xaxis": "x",
         "y": [
          0,
          1
         ],
         "yaxis": "y"
        }
       ],
       "layout": {
        "height": 500,
        "legend": {
         "tracegroupgap": 0
        },
        "shapes": [
         {
          "line": {
           "dash": "dash"
          },
          "type": "line",
          "x0": 0,
          "x1": 1,
          "y0": 0,
          "y1": 1
         }
        ],
        "template": {
         "data": {
          "bar": [
           {
            "error_x": {
             "color": "#2a3f5f"
            },
            "error_y": {
             "color": "#2a3f5f"
            },
            "marker": {
             "line": {
              "color": "#E5ECF6",
              "width": 0.5
             }
            },
            "type": "bar"
           }
          ],
          "barpolar": [
           {
            "marker": {
             "line": {
              "color": "#E5ECF6",
              "width": 0.5
             }
            },
            "type": "barpolar"
           }
          ],
          "carpet": [
           {
            "aaxis": {
             "endlinecolor": "#2a3f5f",
             "gridcolor": "white",
             "linecolor": "white",
             "minorgridcolor": "white",
             "startlinecolor": "#2a3f5f"
            },
            "baxis": {
             "endlinecolor": "#2a3f5f",
             "gridcolor": "white",
             "linecolor": "white",
             "minorgridcolor": "white",
             "startlinecolor": "#2a3f5f"
            },
            "type": "carpet"
           }
          ],
          "choropleth": [
           {
            "colorbar": {
             "outlinewidth": 0,
             "ticks": ""
            },
            "type": "choropleth"
           }
          ],
          "contour": [
           {
            "colorbar": {
             "outlinewidth": 0,
             "ticks": ""
            },
            "colorscale": [
             [
              0,
              "#0d0887"
             ],
             [
              0.1111111111111111,
              "#46039f"
             ],
             [
              0.2222222222222222,
              "#7201a8"
             ],
             [
              0.3333333333333333,
              "#9c179e"
             ],
             [
              0.4444444444444444,
              "#bd3786"
             ],
             [
              0.5555555555555556,
              "#d8576b"
             ],
             [
              0.6666666666666666,
              "#ed7953"
             ],
             [
              0.7777777777777778,
              "#fb9f3a"
             ],
             [
              0.8888888888888888,
              "#fdca26"
             ],
             [
              1,
              "#f0f921"
             ]
            ],
            "type": "contour"
           }
          ],
          "contourcarpet": [
           {
            "colorbar": {
             "outlinewidth": 0,
             "ticks": ""
            },
            "type": "contourcarpet"
           }
          ],
          "heatmap": [
           {
            "colorbar": {
             "outlinewidth": 0,
             "ticks": ""
            },
            "colorscale": [
             [
              0,
              "#0d0887"
             ],
             [
              0.1111111111111111,
              "#46039f"
             ],
             [
              0.2222222222222222,
              "#7201a8"
             ],
             [
              0.3333333333333333,
              "#9c179e"
             ],
             [
              0.4444444444444444,
              "#bd3786"
             ],
             [
              0.5555555555555556,
              "#d8576b"
             ],
             [
              0.6666666666666666,
              "#ed7953"
             ],
             [
              0.7777777777777778,
              "#fb9f3a"
             ],
             [
              0.8888888888888888,
              "#fdca26"
             ],
             [
              1,
              "#f0f921"
             ]
            ],
            "type": "heatmap"
           }
          ],
          "heatmapgl": [
           {
            "colorbar": {
             "outlinewidth": 0,
             "ticks": ""
            },
            "colorscale": [
             [
              0,
              "#0d0887"
             ],
             [
              0.1111111111111111,
              "#46039f"
             ],
             [
              0.2222222222222222,
              "#7201a8"
             ],
             [
              0.3333333333333333,
              "#9c179e"
             ],
             [
              0.4444444444444444,
              "#bd3786"
             ],
             [
              0.5555555555555556,
              "#d8576b"
             ],
             [
              0.6666666666666666,
              "#ed7953"
             ],
             [
              0.7777777777777778,
              "#fb9f3a"
             ],
             [
              0.8888888888888888,
              "#fdca26"
             ],
             [
              1,
              "#f0f921"
             ]
            ],
            "type": "heatmapgl"
           }
          ],
          "histogram": [
           {
            "marker": {
             "colorbar": {
              "outlinewidth": 0,
              "ticks": ""
             }
            },
            "type": "histogram"
           }
          ],
          "histogram2d": [
           {
            "colorbar": {
             "outlinewidth": 0,
             "ticks": ""
            },
            "colorscale": [
             [
              0,
              "#0d0887"
             ],
             [
              0.1111111111111111,
              "#46039f"
             ],
             [
              0.2222222222222222,
              "#7201a8"
             ],
             [
              0.3333333333333333,
              "#9c179e"
             ],
             [
              0.4444444444444444,
              "#bd3786"
             ],
             [
              0.5555555555555556,
              "#d8576b"
             ],
             [
              0.6666666666666666,
              "#ed7953"
             ],
             [
              0.7777777777777778,
              "#fb9f3a"
             ],
             [
              0.8888888888888888,
              "#fdca26"
             ],
             [
              1,
              "#f0f921"
             ]
            ],
            "type": "histogram2d"
           }
          ],
          "histogram2dcontour": [
           {
            "colorbar": {
             "outlinewidth": 0,
             "ticks": ""
            },
            "colorscale": [
             [
              0,
              "#0d0887"
             ],
             [
              0.1111111111111111,
              "#46039f"
             ],
             [
              0.2222222222222222,
              "#7201a8"
             ],
             [
              0.3333333333333333,
              "#9c179e"
             ],
             [
              0.4444444444444444,
              "#bd3786"
             ],
             [
              0.5555555555555556,
              "#d8576b"
             ],
             [
              0.6666666666666666,
              "#ed7953"
             ],
             [
              0.7777777777777778,
              "#fb9f3a"
             ],
             [
              0.8888888888888888,
              "#fdca26"
             ],
             [
              1,
              "#f0f921"
             ]
            ],
            "type": "histogram2dcontour"
           }
          ],
          "mesh3d": [
           {
            "colorbar": {
             "outlinewidth": 0,
             "ticks": ""
            },
            "type": "mesh3d"
           }
          ],
          "parcoords": [
           {
            "line": {
             "colorbar": {
              "outlinewidth": 0,
              "ticks": ""
             }
            },
            "type": "parcoords"
           }
          ],
          "pie": [
           {
            "automargin": true,
            "type": "pie"
           }
          ],
          "scatter": [
           {
            "marker": {
             "colorbar": {
              "outlinewidth": 0,
              "ticks": ""
             }
            },
            "type": "scatter"
           }
          ],
          "scatter3d": [
           {
            "line": {
             "colorbar": {
              "outlinewidth": 0,
              "ticks": ""
             }
            },
            "marker": {
             "colorbar": {
              "outlinewidth": 0,
              "ticks": ""
             }
            },
            "type": "scatter3d"
           }
          ],
          "scattercarpet": [
           {
            "marker": {
             "colorbar": {
              "outlinewidth": 0,
              "ticks": ""
             }
            },
            "type": "scattercarpet"
           }
          ],
          "scattergeo": [
           {
            "marker": {
             "colorbar": {
              "outlinewidth": 0,
              "ticks": ""
             }
            },
            "type": "scattergeo"
           }
          ],
          "scattergl": [
           {
            "marker": {
             "colorbar": {
              "outlinewidth": 0,
              "ticks": ""
             }
            },
            "type": "scattergl"
           }
          ],
          "scattermapbox": [
           {
            "marker": {
             "colorbar": {
              "outlinewidth": 0,
              "ticks": ""
             }
            },
            "type": "scattermapbox"
           }
          ],
          "scatterpolar": [
           {
            "marker": {
             "colorbar": {
              "outlinewidth": 0,
              "ticks": ""
             }
            },
            "type": "scatterpolar"
           }
          ],
          "scatterpolargl": [
           {
            "marker": {
             "colorbar": {
              "outlinewidth": 0,
              "ticks": ""
             }
            },
            "type": "scatterpolargl"
           }
          ],
          "scatterternary": [
           {
            "marker": {
             "colorbar": {
              "outlinewidth": 0,
              "ticks": ""
             }
            },
            "type": "scatterternary"
           }
          ],
          "surface": [
           {
            "colorbar": {
             "outlinewidth": 0,
             "ticks": ""
            },
            "colorscale": [
             [
              0,
              "#0d0887"
             ],
             [
              0.1111111111111111,
              "#46039f"
             ],
             [
              0.2222222222222222,
              "#7201a8"
             ],
             [
              0.3333333333333333,
              "#9c179e"
             ],
             [
              0.4444444444444444,
              "#bd3786"
             ],
             [
              0.5555555555555556,
              "#d8576b"
             ],
             [
              0.6666666666666666,
              "#ed7953"
             ],
             [
              0.7777777777777778,
              "#fb9f3a"
             ],
             [
              0.8888888888888888,
              "#fdca26"
             ],
             [
              1,
              "#f0f921"
             ]
            ],
            "type": "surface"
           }
          ],
          "table": [
           {
            "cells": {
             "fill": {
              "color": "#EBF0F8"
             },
             "line": {
              "color": "white"
             }
            },
            "header": {
             "fill": {
              "color": "#C8D4E3"
             },
             "line": {
              "color": "white"
             }
            },
            "type": "table"
           }
          ]
         },
         "layout": {
          "annotationdefaults": {
           "arrowcolor": "#2a3f5f",
           "arrowhead": 0,
           "arrowwidth": 1
          },
          "coloraxis": {
           "colorbar": {
            "outlinewidth": 0,
            "ticks": ""
           }
          },
          "colorscale": {
           "diverging": [
            [
             0,
             "#8e0152"
            ],
            [
             0.1,
             "#c51b7d"
            ],
            [
             0.2,
             "#de77ae"
            ],
            [
             0.3,
             "#f1b6da"
            ],
            [
             0.4,
             "#fde0ef"
            ],
            [
             0.5,
             "#f7f7f7"
            ],
            [
             0.6,
             "#e6f5d0"
            ],
            [
             0.7,
             "#b8e186"
            ],
            [
             0.8,
             "#7fbc41"
            ],
            [
             0.9,
             "#4d9221"
            ],
            [
             1,
             "#276419"
            ]
           ],
           "sequential": [
            [
             0,
             "#0d0887"
            ],
            [
             0.1111111111111111,
             "#46039f"
            ],
            [
             0.2222222222222222,
             "#7201a8"
            ],
            [
             0.3333333333333333,
             "#9c179e"
            ],
            [
             0.4444444444444444,
             "#bd3786"
            ],
            [
             0.5555555555555556,
             "#d8576b"
            ],
            [
             0.6666666666666666,
             "#ed7953"
            ],
            [
             0.7777777777777778,
             "#fb9f3a"
            ],
            [
             0.8888888888888888,
             "#fdca26"
            ],
            [
             1,
             "#f0f921"
            ]
           ],
           "sequentialminus": [
            [
             0,
             "#0d0887"
            ],
            [
             0.1111111111111111,
             "#46039f"
            ],
            [
             0.2222222222222222,
             "#7201a8"
            ],
            [
             0.3333333333333333,
             "#9c179e"
            ],
            [
             0.4444444444444444,
             "#bd3786"
            ],
            [
             0.5555555555555556,
             "#d8576b"
            ],
            [
             0.6666666666666666,
             "#ed7953"
            ],
            [
             0.7777777777777778,
             "#fb9f3a"
            ],
            [
             0.8888888888888888,
             "#fdca26"
            ],
            [
             1,
             "#f0f921"
            ]
           ]
          },
          "colorway": [
           "#636efa",
           "#EF553B",
           "#00cc96",
           "#ab63fa",
           "#FFA15A",
           "#19d3f3",
           "#FF6692",
           "#B6E880",
           "#FF97FF",
           "#FECB52"
          ],
          "font": {
           "color": "#2a3f5f"
          },
          "geo": {
           "bgcolor": "white",
           "lakecolor": "white",
           "landcolor": "#E5ECF6",
           "showlakes": true,
           "showland": true,
           "subunitcolor": "white"
          },
          "hoverlabel": {
           "align": "left"
          },
          "hovermode": "closest",
          "mapbox": {
           "style": "light"
          },
          "paper_bgcolor": "white",
          "plot_bgcolor": "#E5ECF6",
          "polar": {
           "angularaxis": {
            "gridcolor": "white",
            "linecolor": "white",
            "ticks": ""
           },
           "bgcolor": "#E5ECF6",
           "radialaxis": {
            "gridcolor": "white",
            "linecolor": "white",
            "ticks": ""
           }
          },
          "scene": {
           "xaxis": {
            "backgroundcolor": "#E5ECF6",
            "gridcolor": "white",
            "gridwidth": 2,
            "linecolor": "white",
            "showbackground": true,
            "ticks": "",
            "zerolinecolor": "white"
           },
           "yaxis": {
            "backgroundcolor": "#E5ECF6",
            "gridcolor": "white",
            "gridwidth": 2,
            "linecolor": "white",
            "showbackground": true,
            "ticks": "",
            "zerolinecolor": "white"
           },
           "zaxis": {
            "backgroundcolor": "#E5ECF6",
            "gridcolor": "white",
            "gridwidth": 2,
            "linecolor": "white",
            "showbackground": true,
            "ticks": "",
            "zerolinecolor": "white"
           }
          },
          "shapedefaults": {
           "line": {
            "color": "#2a3f5f"
           }
          },
          "ternary": {
           "aaxis": {
            "gridcolor": "white",
            "linecolor": "white",
            "ticks": ""
           },
           "baxis": {
            "gridcolor": "white",
            "linecolor": "white",
            "ticks": ""
           },
           "bgcolor": "#E5ECF6",
           "caxis": {
            "gridcolor": "white",
            "linecolor": "white",
            "ticks": ""
           }
          },
          "title": {
           "x": 0.05
          },
          "xaxis": {
           "automargin": true,
           "gridcolor": "white",
           "linecolor": "white",
           "ticks": "",
           "title": {
            "standoff": 15
           },
           "zerolinecolor": "white",
           "zerolinewidth": 2
          },
          "yaxis": {
           "automargin": true,
           "gridcolor": "white",
           "linecolor": "white",
           "ticks": "",
           "title": {
            "standoff": 15
           },
           "zerolinecolor": "white",
           "zerolinewidth": 2
          }
         }
        },
        "title": {
         "text": "ROC Curve (AUC=0.5000)"
        },
        "width": 700,
        "xaxis": {
         "anchor": "y",
         "constrain": "domain",
         "domain": [
          0,
          1
         ],
         "title": {
          "text": "False Positive Rate"
         }
        },
        "yaxis": {
         "anchor": "x",
         "domain": [
          0,
          1
         ],
         "scaleanchor": "x",
         "scaleratio": 1,
         "title": {
          "text": "True Positive Rate"
         }
        }
       }
      },
      "text/html": [
       "<div>                            <div id=\"0b4200aa-3081-49a8-9252-117561d8dac4\" class=\"plotly-graph-div\" style=\"height:500px; width:700px;\"></div>            <script type=\"text/javascript\">                require([\"plotly\"], function(Plotly) {                    window.PLOTLYENV=window.PLOTLYENV || {};                                    if (document.getElementById(\"0b4200aa-3081-49a8-9252-117561d8dac4\")) {                    Plotly.newPlot(                        \"0b4200aa-3081-49a8-9252-117561d8dac4\",                        [{\"hovertemplate\": \"False Positive Rate=%{x}<br>True Positive Rate=%{y}<extra></extra>\", \"legendgroup\": \"\", \"line\": {\"color\": \"#636efa\"}, \"mode\": \"lines\", \"name\": \"\", \"orientation\": \"v\", \"showlegend\": false, \"stackgroup\": \"1\", \"type\": \"scatter\", \"x\": [0.0, 1.0], \"xaxis\": \"x\", \"y\": [0.0, 1.0], \"yaxis\": \"y\"}],                        {\"height\": 500, \"legend\": {\"tracegroupgap\": 0}, \"shapes\": [{\"line\": {\"dash\": \"dash\"}, \"type\": \"line\", \"x0\": 0, \"x1\": 1, \"y0\": 0, \"y1\": 1}], \"template\": {\"data\": {\"bar\": [{\"error_x\": {\"color\": \"#2a3f5f\"}, \"error_y\": {\"color\": \"#2a3f5f\"}, \"marker\": {\"line\": {\"color\": \"#E5ECF6\", \"width\": 0.5}}, \"type\": \"bar\"}], \"barpolar\": [{\"marker\": {\"line\": {\"color\": \"#E5ECF6\", \"width\": 0.5}}, \"type\": \"barpolar\"}], \"carpet\": [{\"aaxis\": {\"endlinecolor\": \"#2a3f5f\", \"gridcolor\": \"white\", \"linecolor\": \"white\", \"minorgridcolor\": \"white\", \"startlinecolor\": \"#2a3f5f\"}, \"baxis\": {\"endlinecolor\": \"#2a3f5f\", \"gridcolor\": \"white\", \"linecolor\": \"white\", \"minorgridcolor\": \"white\", \"startlinecolor\": \"#2a3f5f\"}, \"type\": \"carpet\"}], \"choropleth\": [{\"colorbar\": {\"outlinewidth\": 0, \"ticks\": \"\"}, \"type\": \"choropleth\"}], \"contour\": [{\"colorbar\": {\"outlinewidth\": 0, \"ticks\": \"\"}, \"colorscale\": [[0.0, \"#0d0887\"], [0.1111111111111111, \"#46039f\"], [0.2222222222222222, \"#7201a8\"], [0.3333333333333333, \"#9c179e\"], [0.4444444444444444, \"#bd3786\"], [0.5555555555555556, \"#d8576b\"], [0.6666666666666666, \"#ed7953\"], [0.7777777777777778, \"#fb9f3a\"], [0.8888888888888888, \"#fdca26\"], [1.0, \"#f0f921\"]], \"type\": \"contour\"}], \"contourcarpet\": [{\"colorbar\": {\"outlinewidth\": 0, \"ticks\": \"\"}, \"type\": \"contourcarpet\"}], \"heatmap\": [{\"colorbar\": {\"outlinewidth\": 0, \"ticks\": \"\"}, \"colorscale\": [[0.0, \"#0d0887\"], [0.1111111111111111, \"#46039f\"], [0.2222222222222222, \"#7201a8\"], [0.3333333333333333, \"#9c179e\"], [0.4444444444444444, \"#bd3786\"], [0.5555555555555556, \"#d8576b\"], [0.6666666666666666, \"#ed7953\"], [0.7777777777777778, \"#fb9f3a\"], [0.8888888888888888, \"#fdca26\"], [1.0, \"#f0f921\"]], \"type\": \"heatmap\"}], \"heatmapgl\": [{\"colorbar\": {\"outlinewidth\": 0, \"ticks\": \"\"}, \"colorscale\": [[0.0, \"#0d0887\"], [0.1111111111111111, \"#46039f\"], [0.2222222222222222, \"#7201a8\"], [0.3333333333333333, \"#9c179e\"], [0.4444444444444444, \"#bd3786\"], [0.5555555555555556, \"#d8576b\"], [0.6666666666666666, \"#ed7953\"], [0.7777777777777778, \"#fb9f3a\"], [0.8888888888888888, \"#fdca26\"], [1.0, \"#f0f921\"]], \"type\": \"heatmapgl\"}], \"histogram\": [{\"marker\": {\"colorbar\": {\"outlinewidth\": 0, \"ticks\": \"\"}}, \"type\": \"histogram\"}], \"histogram2d\": [{\"colorbar\": {\"outlinewidth\": 0, \"ticks\": \"\"}, \"colorscale\": [[0.0, \"#0d0887\"], [0.1111111111111111, \"#46039f\"], [0.2222222222222222, \"#7201a8\"], [0.3333333333333333, \"#9c179e\"], [0.4444444444444444, \"#bd3786\"], [0.5555555555555556, \"#d8576b\"], [0.6666666666666666, \"#ed7953\"], [0.7777777777777778, \"#fb9f3a\"], [0.8888888888888888, \"#fdca26\"], [1.0, \"#f0f921\"]], \"type\": \"histogram2d\"}], \"histogram2dcontour\": [{\"colorbar\": {\"outlinewidth\": 0, \"ticks\": \"\"}, \"colorscale\": [[0.0, \"#0d0887\"], [0.1111111111111111, \"#46039f\"], [0.2222222222222222, \"#7201a8\"], [0.3333333333333333, \"#9c179e\"], [0.4444444444444444, \"#bd3786\"], [0.5555555555555556, \"#d8576b\"], [0.6666666666666666, \"#ed7953\"], [0.7777777777777778, \"#fb9f3a\"], [0.8888888888888888, \"#fdca26\"], [1.0, \"#f0f921\"]], \"type\": \"histogram2dcontour\"}], \"mesh3d\": [{\"colorbar\": {\"outlinewidth\": 0, \"ticks\": \"\"}, \"type\": \"mesh3d\"}], \"parcoords\": [{\"line\": {\"colorbar\": {\"outlinewidth\": 0, \"ticks\": \"\"}}, \"type\": \"parcoords\"}], \"pie\": [{\"automargin\": true, \"type\": \"pie\"}], \"scatter\": [{\"marker\": {\"colorbar\": {\"outlinewidth\": 0, \"ticks\": \"\"}}, \"type\": \"scatter\"}], \"scatter3d\": [{\"line\": {\"colorbar\": {\"outlinewidth\": 0, \"ticks\": \"\"}}, \"marker\": {\"colorbar\": {\"outlinewidth\": 0, \"ticks\": \"\"}}, \"type\": \"scatter3d\"}], \"scattercarpet\": [{\"marker\": {\"colorbar\": {\"outlinewidth\": 0, \"ticks\": \"\"}}, \"type\": \"scattercarpet\"}], \"scattergeo\": [{\"marker\": {\"colorbar\": {\"outlinewidth\": 0, \"ticks\": \"\"}}, \"type\": \"scattergeo\"}], \"scattergl\": [{\"marker\": {\"colorbar\": {\"outlinewidth\": 0, \"ticks\": \"\"}}, \"type\": \"scattergl\"}], \"scattermapbox\": [{\"marker\": {\"colorbar\": {\"outlinewidth\": 0, \"ticks\": \"\"}}, \"type\": \"scattermapbox\"}], \"scatterpolar\": [{\"marker\": {\"colorbar\": {\"outlinewidth\": 0, \"ticks\": \"\"}}, \"type\": \"scatterpolar\"}], \"scatterpolargl\": [{\"marker\": {\"colorbar\": {\"outlinewidth\": 0, \"ticks\": \"\"}}, \"type\": \"scatterpolargl\"}], \"scatterternary\": [{\"marker\": {\"colorbar\": {\"outlinewidth\": 0, \"ticks\": \"\"}}, \"type\": \"scatterternary\"}], \"surface\": [{\"colorbar\": {\"outlinewidth\": 0, \"ticks\": \"\"}, \"colorscale\": [[0.0, \"#0d0887\"], [0.1111111111111111, \"#46039f\"], [0.2222222222222222, \"#7201a8\"], [0.3333333333333333, \"#9c179e\"], [0.4444444444444444, \"#bd3786\"], [0.5555555555555556, \"#d8576b\"], [0.6666666666666666, \"#ed7953\"], [0.7777777777777778, \"#fb9f3a\"], [0.8888888888888888, \"#fdca26\"], [1.0, \"#f0f921\"]], \"type\": \"surface\"}], \"table\": [{\"cells\": {\"fill\": {\"color\": \"#EBF0F8\"}, \"line\": {\"color\": \"white\"}}, \"header\": {\"fill\": {\"color\": \"#C8D4E3\"}, \"line\": {\"color\": \"white\"}}, \"type\": \"table\"}]}, \"layout\": {\"annotationdefaults\": {\"arrowcolor\": \"#2a3f5f\", \"arrowhead\": 0, \"arrowwidth\": 1}, \"coloraxis\": {\"colorbar\": {\"outlinewidth\": 0, \"ticks\": \"\"}}, \"colorscale\": {\"diverging\": [[0, \"#8e0152\"], [0.1, \"#c51b7d\"], [0.2, \"#de77ae\"], [0.3, \"#f1b6da\"], [0.4, \"#fde0ef\"], [0.5, \"#f7f7f7\"], [0.6, \"#e6f5d0\"], [0.7, \"#b8e186\"], [0.8, \"#7fbc41\"], [0.9, \"#4d9221\"], [1, \"#276419\"]], \"sequential\": [[0.0, \"#0d0887\"], [0.1111111111111111, \"#46039f\"], [0.2222222222222222, \"#7201a8\"], [0.3333333333333333, \"#9c179e\"], [0.4444444444444444, \"#bd3786\"], [0.5555555555555556, \"#d8576b\"], [0.6666666666666666, \"#ed7953\"], [0.7777777777777778, \"#fb9f3a\"], [0.8888888888888888, \"#fdca26\"], [1.0, \"#f0f921\"]], \"sequentialminus\": [[0.0, \"#0d0887\"], [0.1111111111111111, \"#46039f\"], [0.2222222222222222, \"#7201a8\"], [0.3333333333333333, \"#9c179e\"], [0.4444444444444444, \"#bd3786\"], [0.5555555555555556, \"#d8576b\"], [0.6666666666666666, \"#ed7953\"], [0.7777777777777778, \"#fb9f3a\"], [0.8888888888888888, \"#fdca26\"], [1.0, \"#f0f921\"]]}, \"colorway\": [\"#636efa\", \"#EF553B\", \"#00cc96\", \"#ab63fa\", \"#FFA15A\", \"#19d3f3\", \"#FF6692\", \"#B6E880\", \"#FF97FF\", \"#FECB52\"], \"font\": {\"color\": \"#2a3f5f\"}, \"geo\": {\"bgcolor\": \"white\", \"lakecolor\": \"white\", \"landcolor\": \"#E5ECF6\", \"showlakes\": true, \"showland\": true, \"subunitcolor\": \"white\"}, \"hoverlabel\": {\"align\": \"left\"}, \"hovermode\": \"closest\", \"mapbox\": {\"style\": \"light\"}, \"paper_bgcolor\": \"white\", \"plot_bgcolor\": \"#E5ECF6\", \"polar\": {\"angularaxis\": {\"gridcolor\": \"white\", \"linecolor\": \"white\", \"ticks\": \"\"}, \"bgcolor\": \"#E5ECF6\", \"radialaxis\": {\"gridcolor\": \"white\", \"linecolor\": \"white\", \"ticks\": \"\"}}, \"scene\": {\"xaxis\": {\"backgroundcolor\": \"#E5ECF6\", \"gridcolor\": \"white\", \"gridwidth\": 2, \"linecolor\": \"white\", \"showbackground\": true, \"ticks\": \"\", \"zerolinecolor\": \"white\"}, \"yaxis\": {\"backgroundcolor\": \"#E5ECF6\", \"gridcolor\": \"white\", \"gridwidth\": 2, \"linecolor\": \"white\", \"showbackground\": true, \"ticks\": \"\", \"zerolinecolor\": \"white\"}, \"zaxis\": {\"backgroundcolor\": \"#E5ECF6\", \"gridcolor\": \"white\", \"gridwidth\": 2, \"linecolor\": \"white\", \"showbackground\": true, \"ticks\": \"\", \"zerolinecolor\": \"white\"}}, \"shapedefaults\": {\"line\": {\"color\": \"#2a3f5f\"}}, \"ternary\": {\"aaxis\": {\"gridcolor\": \"white\", \"linecolor\": \"white\", \"ticks\": \"\"}, \"baxis\": {\"gridcolor\": \"white\", \"linecolor\": \"white\", \"ticks\": \"\"}, \"bgcolor\": \"#E5ECF6\", \"caxis\": {\"gridcolor\": \"white\", \"linecolor\": \"white\", \"ticks\": \"\"}}, \"title\": {\"x\": 0.05}, \"xaxis\": {\"automargin\": true, \"gridcolor\": \"white\", \"linecolor\": \"white\", \"ticks\": \"\", \"title\": {\"standoff\": 15}, \"zerolinecolor\": \"white\", \"zerolinewidth\": 2}, \"yaxis\": {\"automargin\": true, \"gridcolor\": \"white\", \"linecolor\": \"white\", \"ticks\": \"\", \"title\": {\"standoff\": 15}, \"zerolinecolor\": \"white\", \"zerolinewidth\": 2}}}, \"title\": {\"text\": \"ROC Curve (AUC=0.5000)\"}, \"width\": 700, \"xaxis\": {\"anchor\": \"y\", \"constrain\": \"domain\", \"domain\": [0.0, 1.0], \"title\": {\"text\": \"False Positive Rate\"}}, \"yaxis\": {\"anchor\": \"x\", \"domain\": [0.0, 1.0], \"scaleanchor\": \"x\", \"scaleratio\": 1, \"title\": {\"text\": \"True Positive Rate\"}}},                        {\"responsive\": true}                    ).then(function(){\n",
       "                            \n",
       "var gd = document.getElementById('0b4200aa-3081-49a8-9252-117561d8dac4');\n",
       "var x = new MutationObserver(function (mutations, observer) {{\n",
       "        var display = window.getComputedStyle(gd).display;\n",
       "        if (!display || display === 'none') {{\n",
       "            console.log([gd, 'removed!']);\n",
       "            Plotly.purge(gd);\n",
       "            observer.disconnect();\n",
       "        }}\n",
       "}});\n",
       "\n",
       "// Listen for the removal of the full notebook cells\n",
       "var notebookContainer = gd.closest('#notebook-container');\n",
       "if (notebookContainer) {{\n",
       "    x.observe(notebookContainer, {childList: true});\n",
       "}}\n",
       "\n",
       "// Listen for the clearing of the current output cell\n",
       "var outputEl = gd.closest('.output');\n",
       "if (outputEl) {{\n",
       "    x.observe(outputEl, {childList: true});\n",
       "}}\n",
       "\n",
       "                        })                };                });            </script>        </div>"
      ]
     },
     "metadata": {},
     "output_type": "display_data"
    },
    {
     "name": "stdout",
     "output_type": "stream",
     "text": [
      "---Logistic Regression Metrics---\n",
      "Accuracy: 95.53\n",
      "kFold CV Accuracy: 94.88\n"
     ]
    }
   ],
   "source": [
    "acc_score, acc_score_cv, auc_calculation = get_scores(LogisticRegression(), X, y, 10)\n",
    "print(f\"---Logistic Regression Metrics---\")\n",
    "print(f'Accuracy: {acc_score}')\n",
    "print(f'kFold CV Accuracy: {acc_score_cv}')\n",
    "model_log = model_log.append({'model': 'Logistic Regression', 'CV score': acc_score_cv, 'auc': auc_calculation}, ignore_index=True)"
   ]
  },
  {
   "cell_type": "markdown",
   "metadata": {},
   "source": [
    "### Calculating scores"
   ]
  },
  {
   "cell_type": "code",
   "execution_count": 158,
   "metadata": {
    "scrolled": true
   },
   "outputs": [
    {
     "data": {
      "text/html": [
       "<div>\n",
       "<style scoped>\n",
       "    .dataframe tbody tr th:only-of-type {\n",
       "        vertical-align: middle;\n",
       "    }\n",
       "\n",
       "    .dataframe tbody tr th {\n",
       "        vertical-align: top;\n",
       "    }\n",
       "\n",
       "    .dataframe thead th {\n",
       "        text-align: right;\n",
       "    }\n",
       "</style>\n",
       "<table border=\"1\" class=\"dataframe\">\n",
       "  <thead>\n",
       "    <tr style=\"text-align: right;\">\n",
       "      <th></th>\n",
       "      <th>model</th>\n",
       "      <th>CV score</th>\n",
       "      <th>auc</th>\n",
       "    </tr>\n",
       "  </thead>\n",
       "  <tbody>\n",
       "    <tr>\n",
       "      <th>0</th>\n",
       "      <td>XGBoost</td>\n",
       "      <td>95.43</td>\n",
       "      <td>0.8980</td>\n",
       "    </tr>\n",
       "    <tr>\n",
       "      <th>1</th>\n",
       "      <td>Random Forest</td>\n",
       "      <td>95.58</td>\n",
       "      <td>0.9010</td>\n",
       "    </tr>\n",
       "    <tr>\n",
       "      <th>2</th>\n",
       "      <td>Decision Tree</td>\n",
       "      <td>93.29</td>\n",
       "      <td>0.7199</td>\n",
       "    </tr>\n",
       "    <tr>\n",
       "      <th>3</th>\n",
       "      <td>Logistic Regression</td>\n",
       "      <td>94.88</td>\n",
       "      <td>0.5000</td>\n",
       "    </tr>\n",
       "  </tbody>\n",
       "</table>\n",
       "</div>"
      ],
      "text/plain": [
       "                 model  CV score     auc\n",
       "0              XGBoost     95.43  0.8980\n",
       "1        Random Forest     95.58  0.9010\n",
       "2        Decision Tree     93.29  0.7199\n",
       "3  Logistic Regression     94.88  0.5000"
      ]
     },
     "execution_count": 158,
     "metadata": {},
     "output_type": "execute_result"
    }
   ],
   "source": [
    "model_log"
   ]
  },
  {
   "cell_type": "markdown",
   "metadata": {},
   "source": [
    "## CatBoost"
   ]
  },
  {
   "cell_type": "code",
   "execution_count": 159,
   "metadata": {},
   "outputs": [],
   "source": [
    "X_train, X_test, y_train, y_test = train_test_split(X, y, test_size=0.3, random_state=42)"
   ]
  },
  {
   "cell_type": "code",
   "execution_count": 160,
   "metadata": {},
   "outputs": [],
   "source": [
    "cat_features = []"
   ]
  },
  {
   "cell_type": "code",
   "execution_count": 161,
   "metadata": {},
   "outputs": [],
   "source": [
    "train_pool = Pool(X_train, \n",
    "                  y_train,\n",
    "                  cat_features)"
   ]
  },
  {
   "cell_type": "code",
   "execution_count": 162,
   "metadata": {},
   "outputs": [
    {
     "data": {
      "application/vnd.jupyter.widget-view+json": {
       "model_id": "b462cff694534f1f9cf03b8161b475f6",
       "version_major": 2,
       "version_minor": 0
      },
      "text/plain": [
       "MetricVisualizer(layout=Layout(align_self='stretch', height='500px'))"
      ]
     },
     "metadata": {},
     "output_type": "display_data"
    },
    {
     "name": "stdout",
     "output_type": "stream",
     "text": [
      "Learning rate set to 0.011927\n",
      "0:\tlearn: 0.6694619\ttotal: 16.5ms\tremaining: 16.4s\n",
      "1:\tlearn: 0.6487190\ttotal: 25.6ms\tremaining: 12.8s\n",
      "2:\tlearn: 0.6283383\ttotal: 35.1ms\tremaining: 11.7s\n",
      "3:\tlearn: 0.6105448\ttotal: 43.5ms\tremaining: 10.8s\n",
      "4:\tlearn: 0.5926495\ttotal: 51.6ms\tremaining: 10.3s\n",
      "5:\tlearn: 0.5740917\ttotal: 60.1ms\tremaining: 9.95s\n",
      "6:\tlearn: 0.5572100\ttotal: 68.1ms\tremaining: 9.66s\n",
      "7:\tlearn: 0.5389790\ttotal: 75.1ms\tremaining: 9.31s\n",
      "8:\tlearn: 0.5260027\ttotal: 81.8ms\tremaining: 9.01s\n",
      "9:\tlearn: 0.5119564\ttotal: 87.8ms\tremaining: 8.69s\n",
      "10:\tlearn: 0.4968197\ttotal: 94.5ms\tremaining: 8.49s\n",
      "11:\tlearn: 0.4821969\ttotal: 101ms\tremaining: 8.31s\n",
      "12:\tlearn: 0.4695034\ttotal: 107ms\tremaining: 8.16s\n",
      "13:\tlearn: 0.4587010\ttotal: 115ms\tremaining: 8.08s\n",
      "14:\tlearn: 0.4493432\ttotal: 121ms\tremaining: 7.96s\n",
      "15:\tlearn: 0.4368571\ttotal: 128ms\tremaining: 7.88s\n",
      "16:\tlearn: 0.4251341\ttotal: 134ms\tremaining: 7.76s\n",
      "17:\tlearn: 0.4132741\ttotal: 141ms\tremaining: 7.68s\n",
      "18:\tlearn: 0.4034294\ttotal: 148ms\tremaining: 7.62s\n",
      "19:\tlearn: 0.3950196\ttotal: 154ms\tremaining: 7.55s\n",
      "20:\tlearn: 0.3844560\ttotal: 161ms\tremaining: 7.51s\n",
      "21:\tlearn: 0.3765715\ttotal: 168ms\tremaining: 7.46s\n",
      "22:\tlearn: 0.3663460\ttotal: 176ms\tremaining: 7.46s\n",
      "23:\tlearn: 0.3599044\ttotal: 185ms\tremaining: 7.53s\n",
      "24:\tlearn: 0.3504853\ttotal: 191ms\tremaining: 7.46s\n",
      "25:\tlearn: 0.3426573\ttotal: 199ms\tremaining: 7.46s\n",
      "26:\tlearn: 0.3363774\ttotal: 206ms\tremaining: 7.41s\n",
      "27:\tlearn: 0.3300832\ttotal: 211ms\tremaining: 7.33s\n",
      "28:\tlearn: 0.3225592\ttotal: 217ms\tremaining: 7.27s\n",
      "29:\tlearn: 0.3150747\ttotal: 223ms\tremaining: 7.21s\n",
      "30:\tlearn: 0.3093125\ttotal: 229ms\tremaining: 7.17s\n",
      "31:\tlearn: 0.3030787\ttotal: 237ms\tremaining: 7.16s\n",
      "32:\tlearn: 0.2980610\ttotal: 244ms\tremaining: 7.16s\n",
      "33:\tlearn: 0.2917255\ttotal: 251ms\tremaining: 7.14s\n",
      "34:\tlearn: 0.2870278\ttotal: 259ms\tremaining: 7.14s\n",
      "35:\tlearn: 0.2819974\ttotal: 266ms\tremaining: 7.12s\n",
      "36:\tlearn: 0.2761994\ttotal: 273ms\tremaining: 7.1s\n",
      "37:\tlearn: 0.2708689\ttotal: 281ms\tremaining: 7.1s\n",
      "38:\tlearn: 0.2666413\ttotal: 288ms\tremaining: 7.11s\n",
      "39:\tlearn: 0.2611101\ttotal: 295ms\tremaining: 7.08s\n",
      "40:\tlearn: 0.2566316\ttotal: 303ms\tremaining: 7.08s\n",
      "41:\tlearn: 0.2523546\ttotal: 310ms\tremaining: 7.08s\n",
      "42:\tlearn: 0.2474865\ttotal: 318ms\tremaining: 7.07s\n",
      "43:\tlearn: 0.2438783\ttotal: 326ms\tremaining: 7.08s\n",
      "44:\tlearn: 0.2398959\ttotal: 337ms\tremaining: 7.16s\n",
      "45:\tlearn: 0.2365598\ttotal: 345ms\tremaining: 7.16s\n",
      "46:\tlearn: 0.2343634\ttotal: 352ms\tremaining: 7.14s\n",
      "47:\tlearn: 0.2310116\ttotal: 359ms\tremaining: 7.13s\n",
      "48:\tlearn: 0.2272814\ttotal: 367ms\tremaining: 7.12s\n",
      "49:\tlearn: 0.2244936\ttotal: 374ms\tremaining: 7.1s\n",
      "50:\tlearn: 0.2212329\ttotal: 382ms\tremaining: 7.1s\n",
      "51:\tlearn: 0.2181839\ttotal: 388ms\tremaining: 7.08s\n",
      "52:\tlearn: 0.2149750\ttotal: 396ms\tremaining: 7.07s\n",
      "53:\tlearn: 0.2120102\ttotal: 402ms\tremaining: 7.05s\n",
      "54:\tlearn: 0.2094183\ttotal: 409ms\tremaining: 7.03s\n",
      "55:\tlearn: 0.2069903\ttotal: 416ms\tremaining: 7.01s\n",
      "56:\tlearn: 0.2053639\ttotal: 422ms\tremaining: 6.99s\n",
      "57:\tlearn: 0.2027702\ttotal: 429ms\tremaining: 6.97s\n",
      "58:\tlearn: 0.2006945\ttotal: 436ms\tremaining: 6.95s\n",
      "59:\tlearn: 0.1991194\ttotal: 443ms\tremaining: 6.93s\n",
      "60:\tlearn: 0.1976947\ttotal: 449ms\tremaining: 6.92s\n",
      "61:\tlearn: 0.1960126\ttotal: 456ms\tremaining: 6.9s\n",
      "62:\tlearn: 0.1939624\ttotal: 462ms\tremaining: 6.88s\n",
      "63:\tlearn: 0.1923125\ttotal: 469ms\tremaining: 6.86s\n",
      "64:\tlearn: 0.1898640\ttotal: 477ms\tremaining: 6.86s\n",
      "65:\tlearn: 0.1880912\ttotal: 484ms\tremaining: 6.85s\n",
      "66:\tlearn: 0.1861291\ttotal: 492ms\tremaining: 6.85s\n",
      "67:\tlearn: 0.1844746\ttotal: 500ms\tremaining: 6.85s\n",
      "68:\tlearn: 0.1828577\ttotal: 510ms\tremaining: 6.89s\n",
      "69:\tlearn: 0.1814824\ttotal: 520ms\tremaining: 6.91s\n",
      "70:\tlearn: 0.1804062\ttotal: 525ms\tremaining: 6.87s\n",
      "71:\tlearn: 0.1785972\ttotal: 533ms\tremaining: 6.87s\n",
      "72:\tlearn: 0.1765220\ttotal: 540ms\tremaining: 6.85s\n",
      "73:\tlearn: 0.1751742\ttotal: 548ms\tremaining: 6.86s\n",
      "74:\tlearn: 0.1739902\ttotal: 555ms\tremaining: 6.84s\n",
      "75:\tlearn: 0.1727385\ttotal: 571ms\tremaining: 6.94s\n",
      "76:\tlearn: 0.1710668\ttotal: 578ms\tremaining: 6.93s\n",
      "77:\tlearn: 0.1696651\ttotal: 586ms\tremaining: 6.92s\n",
      "78:\tlearn: 0.1683485\ttotal: 594ms\tremaining: 6.93s\n",
      "79:\tlearn: 0.1670345\ttotal: 602ms\tremaining: 6.92s\n",
      "80:\tlearn: 0.1656726\ttotal: 610ms\tremaining: 6.92s\n",
      "81:\tlearn: 0.1643765\ttotal: 618ms\tremaining: 6.91s\n",
      "82:\tlearn: 0.1630756\ttotal: 626ms\tremaining: 6.91s\n",
      "83:\tlearn: 0.1622241\ttotal: 633ms\tremaining: 6.9s\n",
      "84:\tlearn: 0.1613462\ttotal: 641ms\tremaining: 6.9s\n",
      "85:\tlearn: 0.1605481\ttotal: 649ms\tremaining: 6.89s\n",
      "86:\tlearn: 0.1596607\ttotal: 657ms\tremaining: 6.89s\n",
      "87:\tlearn: 0.1587272\ttotal: 664ms\tremaining: 6.88s\n",
      "88:\tlearn: 0.1575084\ttotal: 672ms\tremaining: 6.88s\n",
      "89:\tlearn: 0.1562201\ttotal: 680ms\tremaining: 6.88s\n",
      "90:\tlearn: 0.1549939\ttotal: 689ms\tremaining: 6.88s\n",
      "91:\tlearn: 0.1540717\ttotal: 697ms\tremaining: 6.88s\n",
      "92:\tlearn: 0.1530793\ttotal: 705ms\tremaining: 6.87s\n",
      "93:\tlearn: 0.1518226\ttotal: 713ms\tremaining: 6.88s\n",
      "94:\tlearn: 0.1507117\ttotal: 722ms\tremaining: 6.88s\n",
      "95:\tlearn: 0.1498843\ttotal: 730ms\tremaining: 6.87s\n",
      "96:\tlearn: 0.1490164\ttotal: 737ms\tremaining: 6.86s\n",
      "97:\tlearn: 0.1478939\ttotal: 745ms\tremaining: 6.86s\n",
      "98:\tlearn: 0.1468672\ttotal: 753ms\tremaining: 6.85s\n",
      "99:\tlearn: 0.1462486\ttotal: 761ms\tremaining: 6.85s\n",
      "100:\tlearn: 0.1455871\ttotal: 770ms\tremaining: 6.85s\n",
      "101:\tlearn: 0.1448424\ttotal: 778ms\tremaining: 6.85s\n",
      "102:\tlearn: 0.1442472\ttotal: 786ms\tremaining: 6.84s\n",
      "103:\tlearn: 0.1434061\ttotal: 795ms\tremaining: 6.85s\n",
      "104:\tlearn: 0.1429698\ttotal: 802ms\tremaining: 6.83s\n",
      "105:\tlearn: 0.1424696\ttotal: 810ms\tremaining: 6.83s\n",
      "106:\tlearn: 0.1417964\ttotal: 818ms\tremaining: 6.83s\n",
      "107:\tlearn: 0.1411245\ttotal: 827ms\tremaining: 6.83s\n",
      "108:\tlearn: 0.1402556\ttotal: 836ms\tremaining: 6.83s\n",
      "109:\tlearn: 0.1396910\ttotal: 844ms\tremaining: 6.83s\n",
      "110:\tlearn: 0.1393518\ttotal: 852ms\tremaining: 6.82s\n",
      "111:\tlearn: 0.1390448\ttotal: 860ms\tremaining: 6.82s\n",
      "112:\tlearn: 0.1383680\ttotal: 885ms\tremaining: 6.95s\n",
      "113:\tlearn: 0.1379651\ttotal: 896ms\tremaining: 6.96s\n",
      "114:\tlearn: 0.1372790\ttotal: 907ms\tremaining: 6.98s\n",
      "115:\tlearn: 0.1365254\ttotal: 916ms\tremaining: 6.98s\n",
      "116:\tlearn: 0.1360935\ttotal: 924ms\tremaining: 6.98s\n",
      "117:\tlearn: 0.1354528\ttotal: 932ms\tremaining: 6.97s\n",
      "118:\tlearn: 0.1348343\ttotal: 940ms\tremaining: 6.96s\n",
      "119:\tlearn: 0.1344132\ttotal: 949ms\tremaining: 6.96s\n",
      "120:\tlearn: 0.1338696\ttotal: 957ms\tremaining: 6.95s\n",
      "121:\tlearn: 0.1330228\ttotal: 966ms\tremaining: 6.95s\n",
      "122:\tlearn: 0.1326034\ttotal: 974ms\tremaining: 6.94s\n",
      "123:\tlearn: 0.1322404\ttotal: 982ms\tremaining: 6.94s\n",
      "124:\tlearn: 0.1316802\ttotal: 992ms\tremaining: 6.94s\n",
      "125:\tlearn: 0.1311552\ttotal: 1s\tremaining: 6.94s\n",
      "126:\tlearn: 0.1307857\ttotal: 1.01s\tremaining: 6.94s\n",
      "127:\tlearn: 0.1304281\ttotal: 1.02s\tremaining: 6.93s\n",
      "128:\tlearn: 0.1298985\ttotal: 1.03s\tremaining: 6.94s\n",
      "129:\tlearn: 0.1292175\ttotal: 1.04s\tremaining: 6.93s\n",
      "130:\tlearn: 0.1284937\ttotal: 1.04s\tremaining: 6.92s\n",
      "131:\tlearn: 0.1281087\ttotal: 1.05s\tremaining: 6.9s\n",
      "132:\tlearn: 0.1277620\ttotal: 1.05s\tremaining: 6.88s\n",
      "133:\tlearn: 0.1272919\ttotal: 1.06s\tremaining: 6.87s\n",
      "134:\tlearn: 0.1270079\ttotal: 1.07s\tremaining: 6.85s\n",
      "135:\tlearn: 0.1264346\ttotal: 1.07s\tremaining: 6.83s\n",
      "136:\tlearn: 0.1257655\ttotal: 1.08s\tremaining: 6.82s\n",
      "137:\tlearn: 0.1251785\ttotal: 1.09s\tremaining: 6.8s\n",
      "138:\tlearn: 0.1246344\ttotal: 1.09s\tremaining: 6.78s\n",
      "139:\tlearn: 0.1243035\ttotal: 1.1s\tremaining: 6.76s\n",
      "140:\tlearn: 0.1241134\ttotal: 1.11s\tremaining: 6.75s\n",
      "141:\tlearn: 0.1238114\ttotal: 1.12s\tremaining: 6.75s\n",
      "142:\tlearn: 0.1233287\ttotal: 1.12s\tremaining: 6.73s\n",
      "143:\tlearn: 0.1230546\ttotal: 1.13s\tremaining: 6.71s\n",
      "144:\tlearn: 0.1227910\ttotal: 1.14s\tremaining: 6.7s\n",
      "145:\tlearn: 0.1224601\ttotal: 1.14s\tremaining: 6.68s\n",
      "146:\tlearn: 0.1219794\ttotal: 1.15s\tremaining: 6.67s\n",
      "147:\tlearn: 0.1215759\ttotal: 1.16s\tremaining: 6.67s\n",
      "148:\tlearn: 0.1212268\ttotal: 1.17s\tremaining: 6.67s\n",
      "149:\tlearn: 0.1207209\ttotal: 1.18s\tremaining: 6.67s\n",
      "150:\tlearn: 0.1205170\ttotal: 1.19s\tremaining: 6.67s\n",
      "151:\tlearn: 0.1202675\ttotal: 1.2s\tremaining: 6.67s\n",
      "152:\tlearn: 0.1197187\ttotal: 1.21s\tremaining: 6.67s\n",
      "153:\tlearn: 0.1194801\ttotal: 1.21s\tremaining: 6.67s\n",
      "154:\tlearn: 0.1192468\ttotal: 1.22s\tremaining: 6.66s\n",
      "155:\tlearn: 0.1190315\ttotal: 1.23s\tremaining: 6.65s\n",
      "156:\tlearn: 0.1187217\ttotal: 1.24s\tremaining: 6.64s\n",
      "157:\tlearn: 0.1185103\ttotal: 1.25s\tremaining: 6.64s\n",
      "158:\tlearn: 0.1181924\ttotal: 1.25s\tremaining: 6.64s\n",
      "159:\tlearn: 0.1180283\ttotal: 1.26s\tremaining: 6.64s\n",
      "160:\tlearn: 0.1176936\ttotal: 1.28s\tremaining: 6.65s\n",
      "161:\tlearn: 0.1172514\ttotal: 1.28s\tremaining: 6.64s\n",
      "162:\tlearn: 0.1170439\ttotal: 1.29s\tremaining: 6.63s\n",
      "163:\tlearn: 0.1168171\ttotal: 1.3s\tremaining: 6.62s\n",
      "164:\tlearn: 0.1165146\ttotal: 1.3s\tremaining: 6.6s\n",
      "165:\tlearn: 0.1161366\ttotal: 1.31s\tremaining: 6.59s\n",
      "166:\tlearn: 0.1157536\ttotal: 1.32s\tremaining: 6.58s\n",
      "167:\tlearn: 0.1155338\ttotal: 1.33s\tremaining: 6.58s\n",
      "168:\tlearn: 0.1151252\ttotal: 1.34s\tremaining: 6.58s\n",
      "169:\tlearn: 0.1147564\ttotal: 1.34s\tremaining: 6.57s\n",
      "170:\tlearn: 0.1143729\ttotal: 1.35s\tremaining: 6.56s\n",
      "171:\tlearn: 0.1140161\ttotal: 1.36s\tremaining: 6.55s\n",
      "172:\tlearn: 0.1137306\ttotal: 1.37s\tremaining: 6.54s\n",
      "173:\tlearn: 0.1134294\ttotal: 1.37s\tremaining: 6.53s\n",
      "174:\tlearn: 0.1131571\ttotal: 1.38s\tremaining: 6.51s\n",
      "175:\tlearn: 0.1127484\ttotal: 1.39s\tremaining: 6.5s\n",
      "176:\tlearn: 0.1124474\ttotal: 1.4s\tremaining: 6.49s\n",
      "177:\tlearn: 0.1122681\ttotal: 1.4s\tremaining: 6.48s\n",
      "178:\tlearn: 0.1121440\ttotal: 1.41s\tremaining: 6.46s\n",
      "179:\tlearn: 0.1119409\ttotal: 1.42s\tremaining: 6.45s\n",
      "180:\tlearn: 0.1114989\ttotal: 1.42s\tremaining: 6.44s\n",
      "181:\tlearn: 0.1112048\ttotal: 1.43s\tremaining: 6.44s\n",
      "182:\tlearn: 0.1110296\ttotal: 1.44s\tremaining: 6.44s\n",
      "183:\tlearn: 0.1106417\ttotal: 1.45s\tremaining: 6.42s\n",
      "184:\tlearn: 0.1103374\ttotal: 1.46s\tremaining: 6.41s\n",
      "185:\tlearn: 0.1101144\ttotal: 1.46s\tremaining: 6.41s\n",
      "186:\tlearn: 0.1098542\ttotal: 1.47s\tremaining: 6.4s\n",
      "187:\tlearn: 0.1095337\ttotal: 1.48s\tremaining: 6.39s\n",
      "188:\tlearn: 0.1093395\ttotal: 1.48s\tremaining: 6.37s\n",
      "189:\tlearn: 0.1092391\ttotal: 1.49s\tremaining: 6.36s\n",
      "190:\tlearn: 0.1091431\ttotal: 1.5s\tremaining: 6.35s\n",
      "191:\tlearn: 0.1088693\ttotal: 1.51s\tremaining: 6.34s\n",
      "192:\tlearn: 0.1084633\ttotal: 1.51s\tremaining: 6.33s\n",
      "193:\tlearn: 0.1081214\ttotal: 1.52s\tremaining: 6.33s\n",
      "194:\tlearn: 0.1079699\ttotal: 1.53s\tremaining: 6.33s\n",
      "195:\tlearn: 0.1077813\ttotal: 1.54s\tremaining: 6.32s\n",
      "196:\tlearn: 0.1075378\ttotal: 1.55s\tremaining: 6.32s\n",
      "197:\tlearn: 0.1073798\ttotal: 1.56s\tremaining: 6.32s\n",
      "198:\tlearn: 0.1071309\ttotal: 1.57s\tremaining: 6.31s\n",
      "199:\tlearn: 0.1070005\ttotal: 1.57s\tremaining: 6.3s\n",
      "200:\tlearn: 0.1068255\ttotal: 1.58s\tremaining: 6.29s\n",
      "201:\tlearn: 0.1065617\ttotal: 1.59s\tremaining: 6.28s\n",
      "202:\tlearn: 0.1062806\ttotal: 1.6s\tremaining: 6.27s\n",
      "203:\tlearn: 0.1061368\ttotal: 1.6s\tremaining: 6.26s\n",
      "204:\tlearn: 0.1059159\ttotal: 1.61s\tremaining: 6.25s\n",
      "205:\tlearn: 0.1057249\ttotal: 1.62s\tremaining: 6.24s\n",
      "206:\tlearn: 0.1055525\ttotal: 1.63s\tremaining: 6.24s\n",
      "207:\tlearn: 0.1054723\ttotal: 1.64s\tremaining: 6.22s\n",
      "208:\tlearn: 0.1053343\ttotal: 1.64s\tremaining: 6.22s\n",
      "209:\tlearn: 0.1052287\ttotal: 1.65s\tremaining: 6.21s\n",
      "210:\tlearn: 0.1049678\ttotal: 1.66s\tremaining: 6.2s\n",
      "211:\tlearn: 0.1046273\ttotal: 1.67s\tremaining: 6.2s\n",
      "212:\tlearn: 0.1042958\ttotal: 1.68s\tremaining: 6.19s\n",
      "213:\tlearn: 0.1041775\ttotal: 1.68s\tremaining: 6.18s\n",
      "214:\tlearn: 0.1040217\ttotal: 1.69s\tremaining: 6.18s\n",
      "215:\tlearn: 0.1038019\ttotal: 1.7s\tremaining: 6.17s\n",
      "216:\tlearn: 0.1036521\ttotal: 1.71s\tremaining: 6.17s\n",
      "217:\tlearn: 0.1033767\ttotal: 1.72s\tremaining: 6.16s\n",
      "218:\tlearn: 0.1030909\ttotal: 1.73s\tremaining: 6.16s\n",
      "219:\tlearn: 0.1029148\ttotal: 1.73s\tremaining: 6.15s\n",
      "220:\tlearn: 0.1026609\ttotal: 1.74s\tremaining: 6.14s\n",
      "221:\tlearn: 0.1024205\ttotal: 1.75s\tremaining: 6.13s\n",
      "222:\tlearn: 0.1022638\ttotal: 1.76s\tremaining: 6.12s\n",
      "223:\tlearn: 0.1019956\ttotal: 1.76s\tremaining: 6.11s\n",
      "224:\tlearn: 0.1018194\ttotal: 1.77s\tremaining: 6.1s\n",
      "225:\tlearn: 0.1016520\ttotal: 1.78s\tremaining: 6.09s\n",
      "226:\tlearn: 0.1014014\ttotal: 1.79s\tremaining: 6.08s\n",
      "227:\tlearn: 0.1012237\ttotal: 1.79s\tremaining: 6.07s\n",
      "228:\tlearn: 0.1009840\ttotal: 1.8s\tremaining: 6.07s\n",
      "229:\tlearn: 0.1007426\ttotal: 1.81s\tremaining: 6.06s\n",
      "230:\tlearn: 0.1003118\ttotal: 1.84s\tremaining: 6.12s\n",
      "231:\tlearn: 0.1001735\ttotal: 1.85s\tremaining: 6.12s\n",
      "232:\tlearn: 0.1000038\ttotal: 1.86s\tremaining: 6.11s\n",
      "233:\tlearn: 0.0997693\ttotal: 1.86s\tremaining: 6.11s\n",
      "234:\tlearn: 0.0994725\ttotal: 1.87s\tremaining: 6.1s\n",
      "235:\tlearn: 0.0992476\ttotal: 1.88s\tremaining: 6.09s\n",
      "236:\tlearn: 0.0990220\ttotal: 1.89s\tremaining: 6.09s\n",
      "237:\tlearn: 0.0988759\ttotal: 1.9s\tremaining: 6.08s\n",
      "238:\tlearn: 0.0987735\ttotal: 1.91s\tremaining: 6.08s\n",
      "239:\tlearn: 0.0986340\ttotal: 1.92s\tremaining: 6.08s\n",
      "240:\tlearn: 0.0984807\ttotal: 1.93s\tremaining: 6.07s\n",
      "241:\tlearn: 0.0983907\ttotal: 1.93s\tremaining: 6.06s\n",
      "242:\tlearn: 0.0982315\ttotal: 1.94s\tremaining: 6.05s\n",
      "243:\tlearn: 0.0980212\ttotal: 1.95s\tremaining: 6.04s\n",
      "244:\tlearn: 0.0978627\ttotal: 1.96s\tremaining: 6.03s\n",
      "245:\tlearn: 0.0977020\ttotal: 1.97s\tremaining: 6.02s\n",
      "246:\tlearn: 0.0975916\ttotal: 1.97s\tremaining: 6.02s\n",
      "247:\tlearn: 0.0974742\ttotal: 1.98s\tremaining: 6.01s\n",
      "248:\tlearn: 0.0973783\ttotal: 1.99s\tremaining: 6s\n",
      "249:\tlearn: 0.0972649\ttotal: 2s\tremaining: 5.99s\n",
      "250:\tlearn: 0.0970064\ttotal: 2s\tremaining: 5.98s\n",
      "251:\tlearn: 0.0969328\ttotal: 2.01s\tremaining: 5.97s\n",
      "252:\tlearn: 0.0967863\ttotal: 2.02s\tremaining: 5.96s\n",
      "253:\tlearn: 0.0965426\ttotal: 2.03s\tremaining: 5.96s\n",
      "254:\tlearn: 0.0963381\ttotal: 2.04s\tremaining: 5.95s\n",
      "255:\tlearn: 0.0961258\ttotal: 2.04s\tremaining: 5.94s\n",
      "256:\tlearn: 0.0960775\ttotal: 2.05s\tremaining: 5.93s\n",
      "257:\tlearn: 0.0958897\ttotal: 2.06s\tremaining: 5.92s\n",
      "258:\tlearn: 0.0956712\ttotal: 2.07s\tremaining: 5.92s\n",
      "259:\tlearn: 0.0954229\ttotal: 2.08s\tremaining: 5.91s\n",
      "260:\tlearn: 0.0952277\ttotal: 2.08s\tremaining: 5.9s\n",
      "261:\tlearn: 0.0950442\ttotal: 2.09s\tremaining: 5.9s\n",
      "262:\tlearn: 0.0949301\ttotal: 2.1s\tremaining: 5.89s\n",
      "263:\tlearn: 0.0948095\ttotal: 2.12s\tremaining: 5.9s\n",
      "264:\tlearn: 0.0947102\ttotal: 2.13s\tremaining: 5.91s\n",
      "265:\tlearn: 0.0944904\ttotal: 2.14s\tremaining: 5.92s\n",
      "266:\tlearn: 0.0943272\ttotal: 2.15s\tremaining: 5.91s\n",
      "267:\tlearn: 0.0941619\ttotal: 2.16s\tremaining: 5.91s\n",
      "268:\tlearn: 0.0939514\ttotal: 2.17s\tremaining: 5.9s\n",
      "269:\tlearn: 0.0938921\ttotal: 2.18s\tremaining: 5.9s\n",
      "270:\tlearn: 0.0938500\ttotal: 2.19s\tremaining: 5.89s\n",
      "271:\tlearn: 0.0937185\ttotal: 2.2s\tremaining: 5.89s\n",
      "272:\tlearn: 0.0936979\ttotal: 2.21s\tremaining: 5.87s\n",
      "273:\tlearn: 0.0935937\ttotal: 2.21s\tremaining: 5.86s\n",
      "274:\tlearn: 0.0934397\ttotal: 2.22s\tremaining: 5.85s\n",
      "275:\tlearn: 0.0933717\ttotal: 2.23s\tremaining: 5.84s\n",
      "276:\tlearn: 0.0931999\ttotal: 2.23s\tremaining: 5.83s\n",
      "277:\tlearn: 0.0930510\ttotal: 2.24s\tremaining: 5.82s\n",
      "278:\tlearn: 0.0928318\ttotal: 2.25s\tremaining: 5.81s\n",
      "279:\tlearn: 0.0927082\ttotal: 2.26s\tremaining: 5.81s\n",
      "280:\tlearn: 0.0924852\ttotal: 2.27s\tremaining: 5.8s\n",
      "281:\tlearn: 0.0922748\ttotal: 2.27s\tremaining: 5.79s\n",
      "282:\tlearn: 0.0921672\ttotal: 2.28s\tremaining: 5.78s\n",
      "283:\tlearn: 0.0919930\ttotal: 2.29s\tremaining: 5.78s\n",
      "284:\tlearn: 0.0917826\ttotal: 2.3s\tremaining: 5.76s\n",
      "285:\tlearn: 0.0916692\ttotal: 2.31s\tremaining: 5.75s\n",
      "286:\tlearn: 0.0916183\ttotal: 2.31s\tremaining: 5.74s\n",
      "287:\tlearn: 0.0915711\ttotal: 2.32s\tremaining: 5.74s\n",
      "288:\tlearn: 0.0914905\ttotal: 2.33s\tremaining: 5.73s\n",
      "289:\tlearn: 0.0913714\ttotal: 2.34s\tremaining: 5.72s\n",
      "290:\tlearn: 0.0911570\ttotal: 2.34s\tremaining: 5.71s\n",
      "291:\tlearn: 0.0909884\ttotal: 2.35s\tremaining: 5.7s\n",
      "292:\tlearn: 0.0907709\ttotal: 2.36s\tremaining: 5.68s\n",
      "293:\tlearn: 0.0904767\ttotal: 2.37s\tremaining: 5.68s\n",
      "294:\tlearn: 0.0902954\ttotal: 2.37s\tremaining: 5.67s\n",
      "295:\tlearn: 0.0901181\ttotal: 2.38s\tremaining: 5.67s\n",
      "296:\tlearn: 0.0899997\ttotal: 2.39s\tremaining: 5.67s\n",
      "297:\tlearn: 0.0898657\ttotal: 2.4s\tremaining: 5.66s\n",
      "298:\tlearn: 0.0897557\ttotal: 2.41s\tremaining: 5.64s\n",
      "299:\tlearn: 0.0896086\ttotal: 2.42s\tremaining: 5.64s\n",
      "300:\tlearn: 0.0894818\ttotal: 2.42s\tremaining: 5.63s\n",
      "301:\tlearn: 0.0892405\ttotal: 2.43s\tremaining: 5.62s\n",
      "302:\tlearn: 0.0890963\ttotal: 2.44s\tremaining: 5.61s\n",
      "303:\tlearn: 0.0889792\ttotal: 2.45s\tremaining: 5.61s\n",
      "304:\tlearn: 0.0887776\ttotal: 2.46s\tremaining: 5.59s\n",
      "305:\tlearn: 0.0886754\ttotal: 2.46s\tremaining: 5.58s\n",
      "306:\tlearn: 0.0885777\ttotal: 2.47s\tremaining: 5.57s\n",
      "307:\tlearn: 0.0884406\ttotal: 2.47s\tremaining: 5.56s\n",
      "308:\tlearn: 0.0883582\ttotal: 2.48s\tremaining: 5.55s\n",
      "309:\tlearn: 0.0882475\ttotal: 2.49s\tremaining: 5.53s\n",
      "310:\tlearn: 0.0880498\ttotal: 2.49s\tremaining: 5.52s\n",
      "311:\tlearn: 0.0878743\ttotal: 2.5s\tremaining: 5.51s\n",
      "312:\tlearn: 0.0877226\ttotal: 2.5s\tremaining: 5.5s\n",
      "313:\tlearn: 0.0875057\ttotal: 2.51s\tremaining: 5.49s\n",
      "314:\tlearn: 0.0872923\ttotal: 2.52s\tremaining: 5.48s\n",
      "315:\tlearn: 0.0871663\ttotal: 2.53s\tremaining: 5.47s\n",
      "316:\tlearn: 0.0870420\ttotal: 2.54s\tremaining: 5.46s\n",
      "317:\tlearn: 0.0868695\ttotal: 2.54s\tremaining: 5.46s\n",
      "318:\tlearn: 0.0866839\ttotal: 2.55s\tremaining: 5.45s\n",
      "319:\tlearn: 0.0865280\ttotal: 2.56s\tremaining: 5.45s\n",
      "320:\tlearn: 0.0863807\ttotal: 2.57s\tremaining: 5.44s\n",
      "321:\tlearn: 0.0862275\ttotal: 2.58s\tremaining: 5.43s\n",
      "322:\tlearn: 0.0860798\ttotal: 2.59s\tremaining: 5.42s\n",
      "323:\tlearn: 0.0858652\ttotal: 2.6s\tremaining: 5.42s\n",
      "324:\tlearn: 0.0856892\ttotal: 2.61s\tremaining: 5.41s\n",
      "325:\tlearn: 0.0855703\ttotal: 2.61s\tremaining: 5.41s\n",
      "326:\tlearn: 0.0854985\ttotal: 2.62s\tremaining: 5.4s\n",
      "327:\tlearn: 0.0854317\ttotal: 2.63s\tremaining: 5.39s\n",
      "328:\tlearn: 0.0852963\ttotal: 2.64s\tremaining: 5.38s\n",
      "329:\tlearn: 0.0850997\ttotal: 2.65s\tremaining: 5.37s\n",
      "330:\tlearn: 0.0849673\ttotal: 2.65s\tremaining: 5.36s\n",
      "331:\tlearn: 0.0848506\ttotal: 2.66s\tremaining: 5.36s\n",
      "332:\tlearn: 0.0847465\ttotal: 2.67s\tremaining: 5.35s\n",
      "333:\tlearn: 0.0844980\ttotal: 2.68s\tremaining: 5.34s\n",
      "334:\tlearn: 0.0844125\ttotal: 2.69s\tremaining: 5.33s\n",
      "335:\tlearn: 0.0842843\ttotal: 2.69s\tremaining: 5.32s\n",
      "336:\tlearn: 0.0841385\ttotal: 2.7s\tremaining: 5.32s\n",
      "337:\tlearn: 0.0839880\ttotal: 2.71s\tremaining: 5.31s\n",
      "338:\tlearn: 0.0838682\ttotal: 2.72s\tremaining: 5.3s\n",
      "339:\tlearn: 0.0838062\ttotal: 2.72s\tremaining: 5.29s\n",
      "340:\tlearn: 0.0836681\ttotal: 2.73s\tremaining: 5.28s\n",
      "341:\tlearn: 0.0834829\ttotal: 2.75s\tremaining: 5.29s\n",
      "342:\tlearn: 0.0834156\ttotal: 2.76s\tremaining: 5.28s\n",
      "343:\tlearn: 0.0833646\ttotal: 2.77s\tremaining: 5.28s\n",
      "344:\tlearn: 0.0832682\ttotal: 2.78s\tremaining: 5.27s\n",
      "345:\tlearn: 0.0830690\ttotal: 2.78s\tremaining: 5.26s\n",
      "346:\tlearn: 0.0828723\ttotal: 2.79s\tremaining: 5.25s\n",
      "347:\tlearn: 0.0827605\ttotal: 2.8s\tremaining: 5.25s\n",
      "348:\tlearn: 0.0825815\ttotal: 2.81s\tremaining: 5.24s\n",
      "349:\tlearn: 0.0824777\ttotal: 2.82s\tremaining: 5.23s\n",
      "350:\tlearn: 0.0823798\ttotal: 2.82s\tremaining: 5.22s\n",
      "351:\tlearn: 0.0822745\ttotal: 2.83s\tremaining: 5.21s\n",
      "352:\tlearn: 0.0822246\ttotal: 2.84s\tremaining: 5.2s\n",
      "353:\tlearn: 0.0820338\ttotal: 2.85s\tremaining: 5.19s\n",
      "354:\tlearn: 0.0820121\ttotal: 2.85s\tremaining: 5.19s\n",
      "355:\tlearn: 0.0819069\ttotal: 2.86s\tremaining: 5.18s\n",
      "356:\tlearn: 0.0817703\ttotal: 2.87s\tremaining: 5.17s\n",
      "357:\tlearn: 0.0814893\ttotal: 2.88s\tremaining: 5.17s\n",
      "358:\tlearn: 0.0813664\ttotal: 2.89s\tremaining: 5.16s\n",
      "359:\tlearn: 0.0812400\ttotal: 2.9s\tremaining: 5.16s\n",
      "360:\tlearn: 0.0811434\ttotal: 2.91s\tremaining: 5.15s\n",
      "361:\tlearn: 0.0810485\ttotal: 2.92s\tremaining: 5.15s\n",
      "362:\tlearn: 0.0810045\ttotal: 2.93s\tremaining: 5.14s\n",
      "363:\tlearn: 0.0808717\ttotal: 2.94s\tremaining: 5.14s\n",
      "364:\tlearn: 0.0807871\ttotal: 2.95s\tremaining: 5.13s\n",
      "365:\tlearn: 0.0806717\ttotal: 2.96s\tremaining: 5.12s\n",
      "366:\tlearn: 0.0805908\ttotal: 2.96s\tremaining: 5.12s\n",
      "367:\tlearn: 0.0805308\ttotal: 2.97s\tremaining: 5.11s\n",
      "368:\tlearn: 0.0804115\ttotal: 2.98s\tremaining: 5.1s\n",
      "369:\tlearn: 0.0802738\ttotal: 2.99s\tremaining: 5.09s\n",
      "370:\tlearn: 0.0801837\ttotal: 2.99s\tremaining: 5.07s\n",
      "371:\tlearn: 0.0800860\ttotal: 3s\tremaining: 5.06s\n",
      "372:\tlearn: 0.0800348\ttotal: 3s\tremaining: 5.05s\n",
      "373:\tlearn: 0.0799768\ttotal: 3.01s\tremaining: 5.04s\n",
      "374:\tlearn: 0.0798175\ttotal: 3.02s\tremaining: 5.03s\n",
      "375:\tlearn: 0.0796902\ttotal: 3.02s\tremaining: 5.02s\n",
      "376:\tlearn: 0.0795389\ttotal: 3.03s\tremaining: 5.01s\n",
      "377:\tlearn: 0.0794244\ttotal: 3.04s\tremaining: 5s\n",
      "378:\tlearn: 0.0793016\ttotal: 3.04s\tremaining: 4.98s\n",
      "379:\tlearn: 0.0791541\ttotal: 3.05s\tremaining: 4.97s\n",
      "380:\tlearn: 0.0790370\ttotal: 3.06s\tremaining: 4.96s\n",
      "381:\tlearn: 0.0788622\ttotal: 3.06s\tremaining: 4.95s\n",
      "382:\tlearn: 0.0787835\ttotal: 3.07s\tremaining: 4.94s\n",
      "383:\tlearn: 0.0786397\ttotal: 3.08s\tremaining: 4.94s\n",
      "384:\tlearn: 0.0784400\ttotal: 3.08s\tremaining: 4.93s\n",
      "385:\tlearn: 0.0782712\ttotal: 3.09s\tremaining: 4.92s\n",
      "386:\tlearn: 0.0781668\ttotal: 3.1s\tremaining: 4.92s\n",
      "387:\tlearn: 0.0780491\ttotal: 3.11s\tremaining: 4.91s\n",
      "388:\tlearn: 0.0778831\ttotal: 3.12s\tremaining: 4.9s\n",
      "389:\tlearn: 0.0777728\ttotal: 3.13s\tremaining: 4.89s\n",
      "390:\tlearn: 0.0776004\ttotal: 3.13s\tremaining: 4.88s\n",
      "391:\tlearn: 0.0775488\ttotal: 3.14s\tremaining: 4.88s\n",
      "392:\tlearn: 0.0774374\ttotal: 3.15s\tremaining: 4.87s\n",
      "393:\tlearn: 0.0773460\ttotal: 3.16s\tremaining: 4.86s\n",
      "394:\tlearn: 0.0773007\ttotal: 3.17s\tremaining: 4.86s\n",
      "395:\tlearn: 0.0771726\ttotal: 3.18s\tremaining: 4.85s\n",
      "396:\tlearn: 0.0771126\ttotal: 3.19s\tremaining: 4.84s\n",
      "397:\tlearn: 0.0769875\ttotal: 3.2s\tremaining: 4.83s\n",
      "398:\tlearn: 0.0769128\ttotal: 3.21s\tremaining: 4.83s\n",
      "399:\tlearn: 0.0767516\ttotal: 3.21s\tremaining: 4.82s\n",
      "400:\tlearn: 0.0766979\ttotal: 3.22s\tremaining: 4.81s\n",
      "401:\tlearn: 0.0765606\ttotal: 3.23s\tremaining: 4.8s\n",
      "402:\tlearn: 0.0764920\ttotal: 3.23s\tremaining: 4.79s\n",
      "403:\tlearn: 0.0763919\ttotal: 3.24s\tremaining: 4.78s\n",
      "404:\tlearn: 0.0762999\ttotal: 3.25s\tremaining: 4.77s\n",
      "405:\tlearn: 0.0761198\ttotal: 3.26s\tremaining: 4.76s\n",
      "406:\tlearn: 0.0759986\ttotal: 3.26s\tremaining: 4.75s\n",
      "407:\tlearn: 0.0759084\ttotal: 3.27s\tremaining: 4.75s\n",
      "408:\tlearn: 0.0758907\ttotal: 3.28s\tremaining: 4.74s\n",
      "409:\tlearn: 0.0758028\ttotal: 3.29s\tremaining: 4.73s\n",
      "410:\tlearn: 0.0756971\ttotal: 3.3s\tremaining: 4.72s\n",
      "411:\tlearn: 0.0755782\ttotal: 3.3s\tremaining: 4.71s\n",
      "412:\tlearn: 0.0755464\ttotal: 3.31s\tremaining: 4.71s\n",
      "413:\tlearn: 0.0754430\ttotal: 3.32s\tremaining: 4.7s\n",
      "414:\tlearn: 0.0752989\ttotal: 3.33s\tremaining: 4.69s\n",
      "415:\tlearn: 0.0751874\ttotal: 3.33s\tremaining: 4.68s\n",
      "416:\tlearn: 0.0750680\ttotal: 3.34s\tremaining: 4.67s\n",
      "417:\tlearn: 0.0749431\ttotal: 3.35s\tremaining: 4.67s\n",
      "418:\tlearn: 0.0748641\ttotal: 3.36s\tremaining: 4.66s\n",
      "419:\tlearn: 0.0747993\ttotal: 3.37s\tremaining: 4.65s\n",
      "420:\tlearn: 0.0746911\ttotal: 3.38s\tremaining: 4.64s\n",
      "421:\tlearn: 0.0744377\ttotal: 3.38s\tremaining: 4.63s\n",
      "422:\tlearn: 0.0743772\ttotal: 3.39s\tremaining: 4.63s\n",
      "423:\tlearn: 0.0742962\ttotal: 3.4s\tremaining: 4.62s\n",
      "424:\tlearn: 0.0742655\ttotal: 3.41s\tremaining: 4.61s\n",
      "425:\tlearn: 0.0741045\ttotal: 3.42s\tremaining: 4.61s\n",
      "426:\tlearn: 0.0740682\ttotal: 3.43s\tremaining: 4.6s\n",
      "427:\tlearn: 0.0739757\ttotal: 3.44s\tremaining: 4.59s\n",
      "428:\tlearn: 0.0739028\ttotal: 3.44s\tremaining: 4.58s\n",
      "429:\tlearn: 0.0738568\ttotal: 3.45s\tremaining: 4.58s\n",
      "430:\tlearn: 0.0737833\ttotal: 3.46s\tremaining: 4.57s\n",
      "431:\tlearn: 0.0737311\ttotal: 3.47s\tremaining: 4.56s\n",
      "432:\tlearn: 0.0736482\ttotal: 3.47s\tremaining: 4.55s\n",
      "433:\tlearn: 0.0734546\ttotal: 3.48s\tremaining: 4.54s\n",
      "434:\tlearn: 0.0733870\ttotal: 3.49s\tremaining: 4.53s\n",
      "435:\tlearn: 0.0732857\ttotal: 3.5s\tremaining: 4.52s\n",
      "436:\tlearn: 0.0731735\ttotal: 3.5s\tremaining: 4.51s\n",
      "437:\tlearn: 0.0730194\ttotal: 3.51s\tremaining: 4.51s\n",
      "438:\tlearn: 0.0729491\ttotal: 3.52s\tremaining: 4.5s\n",
      "439:\tlearn: 0.0728557\ttotal: 3.53s\tremaining: 4.49s\n",
      "440:\tlearn: 0.0727381\ttotal: 3.54s\tremaining: 4.48s\n",
      "441:\tlearn: 0.0727198\ttotal: 3.54s\tremaining: 4.47s\n",
      "442:\tlearn: 0.0726320\ttotal: 3.55s\tremaining: 4.46s\n",
      "443:\tlearn: 0.0725286\ttotal: 3.56s\tremaining: 4.46s\n",
      "444:\tlearn: 0.0724692\ttotal: 3.57s\tremaining: 4.45s\n",
      "445:\tlearn: 0.0724064\ttotal: 3.58s\tremaining: 4.44s\n",
      "446:\tlearn: 0.0723019\ttotal: 3.58s\tremaining: 4.43s\n",
      "447:\tlearn: 0.0722130\ttotal: 3.59s\tremaining: 4.43s\n",
      "448:\tlearn: 0.0721184\ttotal: 3.6s\tremaining: 4.42s\n",
      "449:\tlearn: 0.0720032\ttotal: 3.61s\tremaining: 4.41s\n",
      "450:\tlearn: 0.0719673\ttotal: 3.62s\tremaining: 4.4s\n",
      "451:\tlearn: 0.0718629\ttotal: 3.63s\tremaining: 4.39s\n",
      "452:\tlearn: 0.0717638\ttotal: 3.63s\tremaining: 4.39s\n",
      "453:\tlearn: 0.0716993\ttotal: 3.64s\tremaining: 4.38s\n",
      "454:\tlearn: 0.0716103\ttotal: 3.65s\tremaining: 4.37s\n",
      "455:\tlearn: 0.0714969\ttotal: 3.66s\tremaining: 4.36s\n",
      "456:\tlearn: 0.0714153\ttotal: 3.67s\tremaining: 4.36s\n",
      "457:\tlearn: 0.0713346\ttotal: 3.71s\tremaining: 4.39s\n",
      "458:\tlearn: 0.0712314\ttotal: 3.73s\tremaining: 4.39s\n",
      "459:\tlearn: 0.0711580\ttotal: 3.74s\tremaining: 4.38s\n",
      "460:\tlearn: 0.0710390\ttotal: 3.75s\tremaining: 4.38s\n",
      "461:\tlearn: 0.0710015\ttotal: 3.75s\tremaining: 4.37s\n",
      "462:\tlearn: 0.0709105\ttotal: 3.76s\tremaining: 4.36s\n",
      "463:\tlearn: 0.0708037\ttotal: 3.77s\tremaining: 4.36s\n",
      "464:\tlearn: 0.0707018\ttotal: 3.78s\tremaining: 4.35s\n",
      "465:\tlearn: 0.0705832\ttotal: 3.79s\tremaining: 4.34s\n",
      "466:\tlearn: 0.0705030\ttotal: 3.8s\tremaining: 4.33s\n",
      "467:\tlearn: 0.0704049\ttotal: 3.81s\tremaining: 4.33s\n",
      "468:\tlearn: 0.0703726\ttotal: 3.81s\tremaining: 4.32s\n",
      "469:\tlearn: 0.0703085\ttotal: 3.82s\tremaining: 4.31s\n",
      "470:\tlearn: 0.0702142\ttotal: 3.83s\tremaining: 4.3s\n",
      "471:\tlearn: 0.0700909\ttotal: 3.83s\tremaining: 4.29s\n",
      "472:\tlearn: 0.0700386\ttotal: 3.84s\tremaining: 4.28s\n",
      "473:\tlearn: 0.0700014\ttotal: 3.85s\tremaining: 4.27s\n",
      "474:\tlearn: 0.0699310\ttotal: 3.86s\tremaining: 4.26s\n",
      "475:\tlearn: 0.0698071\ttotal: 3.87s\tremaining: 4.25s\n",
      "476:\tlearn: 0.0696977\ttotal: 3.88s\tremaining: 4.25s\n",
      "477:\tlearn: 0.0696371\ttotal: 3.88s\tremaining: 4.24s\n",
      "478:\tlearn: 0.0695286\ttotal: 3.89s\tremaining: 4.23s\n",
      "479:\tlearn: 0.0694295\ttotal: 3.9s\tremaining: 4.23s\n",
      "480:\tlearn: 0.0693693\ttotal: 3.91s\tremaining: 4.22s\n",
      "481:\tlearn: 0.0692682\ttotal: 3.92s\tremaining: 4.21s\n",
      "482:\tlearn: 0.0691607\ttotal: 3.93s\tremaining: 4.2s\n",
      "483:\tlearn: 0.0690439\ttotal: 3.94s\tremaining: 4.2s\n",
      "484:\tlearn: 0.0690171\ttotal: 3.94s\tremaining: 4.19s\n",
      "485:\tlearn: 0.0689086\ttotal: 3.95s\tremaining: 4.18s\n",
      "486:\tlearn: 0.0688139\ttotal: 3.96s\tremaining: 4.17s\n",
      "487:\tlearn: 0.0687702\ttotal: 3.97s\tremaining: 4.16s\n",
      "488:\tlearn: 0.0687117\ttotal: 3.98s\tremaining: 4.15s\n",
      "489:\tlearn: 0.0686493\ttotal: 3.98s\tremaining: 4.14s\n",
      "490:\tlearn: 0.0685569\ttotal: 3.99s\tremaining: 4.14s\n",
      "491:\tlearn: 0.0684789\ttotal: 4s\tremaining: 4.13s\n",
      "492:\tlearn: 0.0684324\ttotal: 4.01s\tremaining: 4.12s\n",
      "493:\tlearn: 0.0683914\ttotal: 4.01s\tremaining: 4.11s\n",
      "494:\tlearn: 0.0683026\ttotal: 4.02s\tremaining: 4.11s\n",
      "495:\tlearn: 0.0682467\ttotal: 4.03s\tremaining: 4.1s\n",
      "496:\tlearn: 0.0680984\ttotal: 4.04s\tremaining: 4.09s\n",
      "497:\tlearn: 0.0678947\ttotal: 4.05s\tremaining: 4.08s\n",
      "498:\tlearn: 0.0678350\ttotal: 4.05s\tremaining: 4.07s\n",
      "499:\tlearn: 0.0677993\ttotal: 4.06s\tremaining: 4.06s\n",
      "500:\tlearn: 0.0677371\ttotal: 4.07s\tremaining: 4.05s\n",
      "501:\tlearn: 0.0676577\ttotal: 4.08s\tremaining: 4.05s\n",
      "502:\tlearn: 0.0676177\ttotal: 4.09s\tremaining: 4.04s\n",
      "503:\tlearn: 0.0674989\ttotal: 4.09s\tremaining: 4.03s\n",
      "504:\tlearn: 0.0674655\ttotal: 4.1s\tremaining: 4.02s\n",
      "505:\tlearn: 0.0673504\ttotal: 4.11s\tremaining: 4.01s\n",
      "506:\tlearn: 0.0672767\ttotal: 4.12s\tremaining: 4.01s\n",
      "507:\tlearn: 0.0671940\ttotal: 4.13s\tremaining: 4s\n",
      "508:\tlearn: 0.0671040\ttotal: 4.14s\tremaining: 3.99s\n",
      "509:\tlearn: 0.0670201\ttotal: 4.14s\tremaining: 3.98s\n",
      "510:\tlearn: 0.0669042\ttotal: 4.15s\tremaining: 3.97s\n",
      "511:\tlearn: 0.0667989\ttotal: 4.16s\tremaining: 3.97s\n",
      "512:\tlearn: 0.0667573\ttotal: 4.17s\tremaining: 3.96s\n",
      "513:\tlearn: 0.0667070\ttotal: 4.18s\tremaining: 3.95s\n",
      "514:\tlearn: 0.0666440\ttotal: 4.18s\tremaining: 3.94s\n",
      "515:\tlearn: 0.0665195\ttotal: 4.19s\tremaining: 3.93s\n",
      "516:\tlearn: 0.0664667\ttotal: 4.2s\tremaining: 3.92s\n",
      "517:\tlearn: 0.0663702\ttotal: 4.21s\tremaining: 3.92s\n",
      "518:\tlearn: 0.0662934\ttotal: 4.22s\tremaining: 3.91s\n",
      "519:\tlearn: 0.0661367\ttotal: 4.22s\tremaining: 3.9s\n",
      "520:\tlearn: 0.0660988\ttotal: 4.23s\tremaining: 3.89s\n",
      "521:\tlearn: 0.0660577\ttotal: 4.24s\tremaining: 3.89s\n",
      "522:\tlearn: 0.0659644\ttotal: 4.25s\tremaining: 3.88s\n",
      "523:\tlearn: 0.0658860\ttotal: 4.26s\tremaining: 3.87s\n",
      "524:\tlearn: 0.0658571\ttotal: 4.27s\tremaining: 3.86s\n",
      "525:\tlearn: 0.0657828\ttotal: 4.28s\tremaining: 3.85s\n",
      "526:\tlearn: 0.0656464\ttotal: 4.28s\tremaining: 3.85s\n",
      "527:\tlearn: 0.0655847\ttotal: 4.29s\tremaining: 3.84s\n",
      "528:\tlearn: 0.0654787\ttotal: 4.3s\tremaining: 3.83s\n",
      "529:\tlearn: 0.0653919\ttotal: 4.31s\tremaining: 3.82s\n",
      "530:\tlearn: 0.0653068\ttotal: 4.31s\tremaining: 3.81s\n",
      "531:\tlearn: 0.0652030\ttotal: 4.32s\tremaining: 3.8s\n",
      "532:\tlearn: 0.0651060\ttotal: 4.33s\tremaining: 3.79s\n",
      "533:\tlearn: 0.0650210\ttotal: 4.34s\tremaining: 3.78s\n",
      "534:\tlearn: 0.0649544\ttotal: 4.34s\tremaining: 3.77s\n",
      "535:\tlearn: 0.0648951\ttotal: 4.35s\tremaining: 3.77s\n",
      "536:\tlearn: 0.0648480\ttotal: 4.36s\tremaining: 3.76s\n",
      "537:\tlearn: 0.0648008\ttotal: 4.37s\tremaining: 3.75s\n",
      "538:\tlearn: 0.0647332\ttotal: 4.38s\tremaining: 3.74s\n",
      "539:\tlearn: 0.0646854\ttotal: 4.38s\tremaining: 3.73s\n",
      "540:\tlearn: 0.0646563\ttotal: 4.39s\tremaining: 3.73s\n",
      "541:\tlearn: 0.0645843\ttotal: 4.4s\tremaining: 3.72s\n",
      "542:\tlearn: 0.0645398\ttotal: 4.41s\tremaining: 3.71s\n",
      "543:\tlearn: 0.0644272\ttotal: 4.41s\tremaining: 3.7s\n",
      "544:\tlearn: 0.0643832\ttotal: 4.42s\tremaining: 3.69s\n",
      "545:\tlearn: 0.0643152\ttotal: 4.43s\tremaining: 3.68s\n",
      "546:\tlearn: 0.0642558\ttotal: 4.44s\tremaining: 3.68s\n",
      "547:\tlearn: 0.0641716\ttotal: 4.45s\tremaining: 3.67s\n",
      "548:\tlearn: 0.0641104\ttotal: 4.46s\tremaining: 3.67s\n",
      "549:\tlearn: 0.0640302\ttotal: 4.47s\tremaining: 3.66s\n",
      "550:\tlearn: 0.0639812\ttotal: 4.48s\tremaining: 3.65s\n",
      "551:\tlearn: 0.0638675\ttotal: 4.49s\tremaining: 3.64s\n",
      "552:\tlearn: 0.0637561\ttotal: 4.5s\tremaining: 3.64s\n",
      "553:\tlearn: 0.0636571\ttotal: 4.51s\tremaining: 3.63s\n",
      "554:\tlearn: 0.0636176\ttotal: 4.52s\tremaining: 3.62s\n",
      "555:\tlearn: 0.0635447\ttotal: 4.53s\tremaining: 3.62s\n",
      "556:\tlearn: 0.0635116\ttotal: 4.54s\tremaining: 3.61s\n",
      "557:\tlearn: 0.0634492\ttotal: 4.54s\tremaining: 3.6s\n",
      "558:\tlearn: 0.0633374\ttotal: 4.55s\tremaining: 3.59s\n",
      "559:\tlearn: 0.0631776\ttotal: 4.56s\tremaining: 3.58s\n",
      "560:\tlearn: 0.0631279\ttotal: 4.56s\tremaining: 3.57s\n",
      "561:\tlearn: 0.0630768\ttotal: 4.57s\tremaining: 3.56s\n",
      "562:\tlearn: 0.0630067\ttotal: 4.58s\tremaining: 3.55s\n",
      "563:\tlearn: 0.0629356\ttotal: 4.58s\tremaining: 3.54s\n",
      "564:\tlearn: 0.0629022\ttotal: 4.59s\tremaining: 3.54s\n",
      "565:\tlearn: 0.0628744\ttotal: 4.6s\tremaining: 3.53s\n",
      "566:\tlearn: 0.0627696\ttotal: 4.61s\tremaining: 3.52s\n",
      "567:\tlearn: 0.0627034\ttotal: 4.62s\tremaining: 3.51s\n",
      "568:\tlearn: 0.0626127\ttotal: 4.62s\tremaining: 3.5s\n",
      "569:\tlearn: 0.0625974\ttotal: 4.63s\tremaining: 3.49s\n",
      "570:\tlearn: 0.0625334\ttotal: 4.67s\tremaining: 3.51s\n",
      "571:\tlearn: 0.0624654\ttotal: 4.68s\tremaining: 3.5s\n",
      "572:\tlearn: 0.0624413\ttotal: 4.69s\tremaining: 3.5s\n",
      "573:\tlearn: 0.0623953\ttotal: 4.71s\tremaining: 3.49s\n",
      "574:\tlearn: 0.0622805\ttotal: 4.72s\tremaining: 3.49s\n",
      "575:\tlearn: 0.0621440\ttotal: 4.73s\tremaining: 3.48s\n",
      "576:\tlearn: 0.0621067\ttotal: 4.75s\tremaining: 3.48s\n",
      "577:\tlearn: 0.0620313\ttotal: 4.76s\tremaining: 3.48s\n",
      "578:\tlearn: 0.0619206\ttotal: 4.78s\tremaining: 3.47s\n",
      "579:\tlearn: 0.0618553\ttotal: 4.79s\tremaining: 3.47s\n",
      "580:\tlearn: 0.0617958\ttotal: 4.81s\tremaining: 3.47s\n",
      "581:\tlearn: 0.0616931\ttotal: 4.82s\tremaining: 3.46s\n",
      "582:\tlearn: 0.0616258\ttotal: 4.83s\tremaining: 3.46s\n",
      "583:\tlearn: 0.0615328\ttotal: 4.85s\tremaining: 3.45s\n",
      "584:\tlearn: 0.0614493\ttotal: 4.86s\tremaining: 3.45s\n",
      "585:\tlearn: 0.0613501\ttotal: 4.88s\tremaining: 3.44s\n",
      "586:\tlearn: 0.0612530\ttotal: 4.89s\tremaining: 3.44s\n",
      "587:\tlearn: 0.0612249\ttotal: 4.9s\tremaining: 3.43s\n",
      "588:\tlearn: 0.0611774\ttotal: 4.91s\tremaining: 3.43s\n",
      "589:\tlearn: 0.0611273\ttotal: 4.92s\tremaining: 3.42s\n",
      "590:\tlearn: 0.0609455\ttotal: 4.94s\tremaining: 3.42s\n",
      "591:\tlearn: 0.0607919\ttotal: 4.97s\tremaining: 3.42s\n",
      "592:\tlearn: 0.0607183\ttotal: 4.99s\tremaining: 3.42s\n",
      "593:\tlearn: 0.0606775\ttotal: 5s\tremaining: 3.42s\n",
      "594:\tlearn: 0.0606288\ttotal: 5.01s\tremaining: 3.41s\n",
      "595:\tlearn: 0.0605974\ttotal: 5.03s\tremaining: 3.41s\n",
      "596:\tlearn: 0.0605535\ttotal: 5.04s\tremaining: 3.4s\n",
      "597:\tlearn: 0.0604842\ttotal: 5.05s\tremaining: 3.39s\n",
      "598:\tlearn: 0.0604682\ttotal: 5.06s\tremaining: 3.39s\n",
      "599:\tlearn: 0.0604518\ttotal: 5.07s\tremaining: 3.38s\n",
      "600:\tlearn: 0.0603710\ttotal: 5.09s\tremaining: 3.38s\n",
      "601:\tlearn: 0.0602825\ttotal: 5.1s\tremaining: 3.37s\n",
      "602:\tlearn: 0.0602536\ttotal: 5.11s\tremaining: 3.36s\n",
      "603:\tlearn: 0.0602209\ttotal: 5.12s\tremaining: 3.35s\n",
      "604:\tlearn: 0.0601868\ttotal: 5.12s\tremaining: 3.34s\n",
      "605:\tlearn: 0.0601106\ttotal: 5.13s\tremaining: 3.33s\n",
      "606:\tlearn: 0.0599869\ttotal: 5.13s\tremaining: 3.32s\n",
      "607:\tlearn: 0.0598597\ttotal: 5.14s\tremaining: 3.31s\n",
      "608:\tlearn: 0.0597933\ttotal: 5.14s\tremaining: 3.3s\n",
      "609:\tlearn: 0.0597503\ttotal: 5.15s\tremaining: 3.29s\n",
      "610:\tlearn: 0.0596911\ttotal: 5.17s\tremaining: 3.29s\n",
      "611:\tlearn: 0.0596150\ttotal: 5.19s\tremaining: 3.29s\n",
      "612:\tlearn: 0.0595770\ttotal: 5.21s\tremaining: 3.29s\n",
      "613:\tlearn: 0.0595089\ttotal: 5.22s\tremaining: 3.28s\n",
      "614:\tlearn: 0.0594607\ttotal: 5.23s\tremaining: 3.27s\n",
      "615:\tlearn: 0.0593688\ttotal: 5.23s\tremaining: 3.26s\n",
      "616:\tlearn: 0.0593270\ttotal: 5.24s\tremaining: 3.25s\n",
      "617:\tlearn: 0.0592847\ttotal: 5.25s\tremaining: 3.24s\n",
      "618:\tlearn: 0.0592359\ttotal: 5.25s\tremaining: 3.23s\n",
      "619:\tlearn: 0.0591764\ttotal: 5.26s\tremaining: 3.22s\n",
      "620:\tlearn: 0.0591403\ttotal: 5.27s\tremaining: 3.22s\n",
      "621:\tlearn: 0.0590972\ttotal: 5.28s\tremaining: 3.21s\n",
      "622:\tlearn: 0.0590603\ttotal: 5.29s\tremaining: 3.2s\n",
      "623:\tlearn: 0.0590021\ttotal: 5.3s\tremaining: 3.19s\n",
      "624:\tlearn: 0.0589623\ttotal: 5.3s\tremaining: 3.18s\n",
      "625:\tlearn: 0.0588493\ttotal: 5.31s\tremaining: 3.17s\n",
      "626:\tlearn: 0.0588255\ttotal: 5.32s\tremaining: 3.16s\n",
      "627:\tlearn: 0.0587870\ttotal: 5.32s\tremaining: 3.15s\n",
      "628:\tlearn: 0.0586949\ttotal: 5.33s\tremaining: 3.14s\n",
      "629:\tlearn: 0.0586526\ttotal: 5.34s\tremaining: 3.13s\n",
      "630:\tlearn: 0.0586229\ttotal: 5.34s\tremaining: 3.13s\n",
      "631:\tlearn: 0.0585431\ttotal: 5.35s\tremaining: 3.12s\n",
      "632:\tlearn: 0.0585044\ttotal: 5.36s\tremaining: 3.11s\n",
      "633:\tlearn: 0.0584462\ttotal: 5.37s\tremaining: 3.1s\n",
      "634:\tlearn: 0.0584045\ttotal: 5.38s\tremaining: 3.09s\n",
      "635:\tlearn: 0.0583676\ttotal: 5.38s\tremaining: 3.08s\n",
      "636:\tlearn: 0.0583307\ttotal: 5.39s\tremaining: 3.07s\n",
      "637:\tlearn: 0.0582977\ttotal: 5.4s\tremaining: 3.06s\n",
      "638:\tlearn: 0.0582722\ttotal: 5.41s\tremaining: 3.05s\n",
      "639:\tlearn: 0.0581864\ttotal: 5.41s\tremaining: 3.04s\n",
      "640:\tlearn: 0.0581340\ttotal: 5.42s\tremaining: 3.04s\n",
      "641:\tlearn: 0.0580492\ttotal: 5.43s\tremaining: 3.03s\n",
      "642:\tlearn: 0.0579883\ttotal: 5.44s\tremaining: 3.02s\n",
      "643:\tlearn: 0.0579516\ttotal: 5.45s\tremaining: 3.01s\n",
      "644:\tlearn: 0.0578231\ttotal: 5.45s\tremaining: 3s\n",
      "645:\tlearn: 0.0577756\ttotal: 5.46s\tremaining: 2.99s\n",
      "646:\tlearn: 0.0576577\ttotal: 5.47s\tremaining: 2.98s\n",
      "647:\tlearn: 0.0575709\ttotal: 5.48s\tremaining: 2.98s\n",
      "648:\tlearn: 0.0575198\ttotal: 5.49s\tremaining: 2.97s\n",
      "649:\tlearn: 0.0575025\ttotal: 5.5s\tremaining: 2.96s\n",
      "650:\tlearn: 0.0574288\ttotal: 5.5s\tremaining: 2.95s\n",
      "651:\tlearn: 0.0573920\ttotal: 5.51s\tremaining: 2.94s\n",
      "652:\tlearn: 0.0573701\ttotal: 5.52s\tremaining: 2.93s\n",
      "653:\tlearn: 0.0572937\ttotal: 5.53s\tremaining: 2.92s\n",
      "654:\tlearn: 0.0572304\ttotal: 5.53s\tremaining: 2.91s\n",
      "655:\tlearn: 0.0571552\ttotal: 5.54s\tremaining: 2.9s\n",
      "656:\tlearn: 0.0571160\ttotal: 5.55s\tremaining: 2.9s\n",
      "657:\tlearn: 0.0570782\ttotal: 5.55s\tremaining: 2.89s\n",
      "658:\tlearn: 0.0570431\ttotal: 5.56s\tremaining: 2.88s\n",
      "659:\tlearn: 0.0569336\ttotal: 5.57s\tremaining: 2.87s\n",
      "660:\tlearn: 0.0569126\ttotal: 5.58s\tremaining: 2.86s\n",
      "661:\tlearn: 0.0567802\ttotal: 5.58s\tremaining: 2.85s\n",
      "662:\tlearn: 0.0567329\ttotal: 5.59s\tremaining: 2.84s\n",
      "663:\tlearn: 0.0566705\ttotal: 5.6s\tremaining: 2.83s\n",
      "664:\tlearn: 0.0566355\ttotal: 5.65s\tremaining: 2.85s\n",
      "665:\tlearn: 0.0566004\ttotal: 5.66s\tremaining: 2.84s\n",
      "666:\tlearn: 0.0565597\ttotal: 5.67s\tremaining: 2.83s\n",
      "667:\tlearn: 0.0565264\ttotal: 5.68s\tremaining: 2.82s\n",
      "668:\tlearn: 0.0564935\ttotal: 5.68s\tremaining: 2.81s\n",
      "669:\tlearn: 0.0564610\ttotal: 5.69s\tremaining: 2.8s\n",
      "670:\tlearn: 0.0564204\ttotal: 5.7s\tremaining: 2.8s\n",
      "671:\tlearn: 0.0563861\ttotal: 5.71s\tremaining: 2.79s\n",
      "672:\tlearn: 0.0562453\ttotal: 5.72s\tremaining: 2.78s\n",
      "673:\tlearn: 0.0561947\ttotal: 5.73s\tremaining: 2.77s\n",
      "674:\tlearn: 0.0561624\ttotal: 5.74s\tremaining: 2.77s\n",
      "675:\tlearn: 0.0561302\ttotal: 5.75s\tremaining: 2.76s\n",
      "676:\tlearn: 0.0560893\ttotal: 5.76s\tremaining: 2.75s\n",
      "677:\tlearn: 0.0560255\ttotal: 5.77s\tremaining: 2.74s\n",
      "678:\tlearn: 0.0559944\ttotal: 5.78s\tremaining: 2.73s\n",
      "679:\tlearn: 0.0558738\ttotal: 5.79s\tremaining: 2.72s\n",
      "680:\tlearn: 0.0558415\ttotal: 5.79s\tremaining: 2.71s\n",
      "681:\tlearn: 0.0557978\ttotal: 5.8s\tremaining: 2.71s\n",
      "682:\tlearn: 0.0557785\ttotal: 5.81s\tremaining: 2.7s\n",
      "683:\tlearn: 0.0557432\ttotal: 5.82s\tremaining: 2.69s\n",
      "684:\tlearn: 0.0557154\ttotal: 5.83s\tremaining: 2.68s\n",
      "685:\tlearn: 0.0556755\ttotal: 5.84s\tremaining: 2.67s\n",
      "686:\tlearn: 0.0556183\ttotal: 5.85s\tremaining: 2.66s\n",
      "687:\tlearn: 0.0555931\ttotal: 5.86s\tremaining: 2.66s\n",
      "688:\tlearn: 0.0555612\ttotal: 5.87s\tremaining: 2.65s\n",
      "689:\tlearn: 0.0555317\ttotal: 5.88s\tremaining: 2.64s\n",
      "690:\tlearn: 0.0555015\ttotal: 5.88s\tremaining: 2.63s\n",
      "691:\tlearn: 0.0554480\ttotal: 5.89s\tremaining: 2.62s\n",
      "692:\tlearn: 0.0554062\ttotal: 5.9s\tremaining: 2.61s\n",
      "693:\tlearn: 0.0553747\ttotal: 5.91s\tremaining: 2.61s\n",
      "694:\tlearn: 0.0553452\ttotal: 5.92s\tremaining: 2.6s\n",
      "695:\tlearn: 0.0553172\ttotal: 5.92s\tremaining: 2.59s\n",
      "696:\tlearn: 0.0552897\ttotal: 5.93s\tremaining: 2.58s\n",
      "697:\tlearn: 0.0552487\ttotal: 5.93s\tremaining: 2.57s\n",
      "698:\tlearn: 0.0552160\ttotal: 5.94s\tremaining: 2.56s\n",
      "699:\tlearn: 0.0551776\ttotal: 5.95s\tremaining: 2.55s\n",
      "700:\tlearn: 0.0551490\ttotal: 5.95s\tremaining: 2.54s\n",
      "701:\tlearn: 0.0551337\ttotal: 5.96s\tremaining: 2.53s\n",
      "702:\tlearn: 0.0550852\ttotal: 5.96s\tremaining: 2.52s\n",
      "703:\tlearn: 0.0550799\ttotal: 5.97s\tremaining: 2.51s\n",
      "704:\tlearn: 0.0550439\ttotal: 5.98s\tremaining: 2.5s\n",
      "705:\tlearn: 0.0549309\ttotal: 5.98s\tremaining: 2.49s\n",
      "706:\tlearn: 0.0548725\ttotal: 5.99s\tremaining: 2.48s\n",
      "707:\tlearn: 0.0548420\ttotal: 6s\tremaining: 2.48s\n",
      "708:\tlearn: 0.0548162\ttotal: 6.01s\tremaining: 2.47s\n",
      "709:\tlearn: 0.0547894\ttotal: 6.02s\tremaining: 2.46s\n",
      "710:\tlearn: 0.0547635\ttotal: 6.03s\tremaining: 2.45s\n",
      "711:\tlearn: 0.0547372\ttotal: 6.04s\tremaining: 2.44s\n",
      "712:\tlearn: 0.0547107\ttotal: 6.05s\tremaining: 2.44s\n",
      "713:\tlearn: 0.0546517\ttotal: 6.06s\tremaining: 2.43s\n",
      "714:\tlearn: 0.0545962\ttotal: 6.07s\tremaining: 2.42s\n",
      "715:\tlearn: 0.0545704\ttotal: 6.08s\tremaining: 2.41s\n",
      "716:\tlearn: 0.0544793\ttotal: 6.08s\tremaining: 2.4s\n",
      "717:\tlearn: 0.0544549\ttotal: 6.09s\tremaining: 2.39s\n",
      "718:\tlearn: 0.0544197\ttotal: 6.1s\tremaining: 2.38s\n",
      "719:\tlearn: 0.0543786\ttotal: 6.11s\tremaining: 2.38s\n",
      "720:\tlearn: 0.0543505\ttotal: 6.12s\tremaining: 2.37s\n",
      "721:\tlearn: 0.0542478\ttotal: 6.13s\tremaining: 2.36s\n",
      "722:\tlearn: 0.0541501\ttotal: 6.13s\tremaining: 2.35s\n",
      "723:\tlearn: 0.0541077\ttotal: 6.14s\tremaining: 2.34s\n",
      "724:\tlearn: 0.0540831\ttotal: 6.15s\tremaining: 2.33s\n",
      "725:\tlearn: 0.0540063\ttotal: 6.16s\tremaining: 2.33s\n",
      "726:\tlearn: 0.0539278\ttotal: 6.17s\tremaining: 2.32s\n",
      "727:\tlearn: 0.0539036\ttotal: 6.18s\tremaining: 2.31s\n",
      "728:\tlearn: 0.0538671\ttotal: 6.18s\tremaining: 2.3s\n",
      "729:\tlearn: 0.0538199\ttotal: 6.19s\tremaining: 2.29s\n",
      "730:\tlearn: 0.0537478\ttotal: 6.2s\tremaining: 2.28s\n",
      "731:\tlearn: 0.0537244\ttotal: 6.21s\tremaining: 2.27s\n",
      "732:\tlearn: 0.0536481\ttotal: 6.21s\tremaining: 2.26s\n",
      "733:\tlearn: 0.0536205\ttotal: 6.22s\tremaining: 2.25s\n",
      "734:\tlearn: 0.0535467\ttotal: 6.23s\tremaining: 2.25s\n",
      "735:\tlearn: 0.0534479\ttotal: 6.23s\tremaining: 2.24s\n",
      "736:\tlearn: 0.0534248\ttotal: 6.24s\tremaining: 2.23s\n",
      "737:\tlearn: 0.0532808\ttotal: 6.25s\tremaining: 2.22s\n",
      "738:\tlearn: 0.0532625\ttotal: 6.25s\tremaining: 2.21s\n",
      "739:\tlearn: 0.0532385\ttotal: 6.26s\tremaining: 2.2s\n",
      "740:\tlearn: 0.0531566\ttotal: 6.27s\tremaining: 2.19s\n",
      "741:\tlearn: 0.0531118\ttotal: 6.27s\tremaining: 2.18s\n",
      "742:\tlearn: 0.0530795\ttotal: 6.28s\tremaining: 2.17s\n",
      "743:\tlearn: 0.0530361\ttotal: 6.29s\tremaining: 2.16s\n",
      "744:\tlearn: 0.0529991\ttotal: 6.29s\tremaining: 2.15s\n",
      "745:\tlearn: 0.0529757\ttotal: 6.3s\tremaining: 2.14s\n",
      "746:\tlearn: 0.0528915\ttotal: 6.3s\tremaining: 2.13s\n",
      "747:\tlearn: 0.0528684\ttotal: 6.31s\tremaining: 2.13s\n",
      "748:\tlearn: 0.0528134\ttotal: 6.32s\tremaining: 2.12s\n",
      "749:\tlearn: 0.0527227\ttotal: 6.32s\tremaining: 2.11s\n",
      "750:\tlearn: 0.0526509\ttotal: 6.33s\tremaining: 2.1s\n",
      "751:\tlearn: 0.0525455\ttotal: 6.34s\tremaining: 2.09s\n",
      "752:\tlearn: 0.0524576\ttotal: 6.35s\tremaining: 2.08s\n",
      "753:\tlearn: 0.0524275\ttotal: 6.35s\tremaining: 2.07s\n",
      "754:\tlearn: 0.0524049\ttotal: 6.36s\tremaining: 2.06s\n",
      "755:\tlearn: 0.0523092\ttotal: 6.37s\tremaining: 2.06s\n",
      "756:\tlearn: 0.0522871\ttotal: 6.38s\tremaining: 2.05s\n",
      "757:\tlearn: 0.0522452\ttotal: 6.38s\tremaining: 2.04s\n",
      "758:\tlearn: 0.0521997\ttotal: 6.39s\tremaining: 2.03s\n",
      "759:\tlearn: 0.0521695\ttotal: 6.4s\tremaining: 2.02s\n",
      "760:\tlearn: 0.0520656\ttotal: 6.41s\tremaining: 2.01s\n",
      "761:\tlearn: 0.0520560\ttotal: 6.42s\tremaining: 2s\n",
      "762:\tlearn: 0.0519739\ttotal: 6.42s\tremaining: 1.99s\n",
      "763:\tlearn: 0.0519467\ttotal: 6.43s\tremaining: 1.99s\n",
      "764:\tlearn: 0.0519256\ttotal: 6.44s\tremaining: 1.98s\n",
      "765:\tlearn: 0.0518859\ttotal: 6.44s\tremaining: 1.97s\n",
      "766:\tlearn: 0.0518577\ttotal: 6.45s\tremaining: 1.96s\n",
      "767:\tlearn: 0.0517604\ttotal: 6.46s\tremaining: 1.95s\n",
      "768:\tlearn: 0.0517324\ttotal: 6.46s\tremaining: 1.94s\n",
      "769:\tlearn: 0.0516497\ttotal: 6.47s\tremaining: 1.93s\n",
      "770:\tlearn: 0.0515566\ttotal: 6.47s\tremaining: 1.92s\n",
      "771:\tlearn: 0.0514652\ttotal: 6.48s\tremaining: 1.91s\n",
      "772:\tlearn: 0.0514426\ttotal: 6.49s\tremaining: 1.91s\n",
      "773:\tlearn: 0.0514221\ttotal: 6.49s\tremaining: 1.9s\n",
      "774:\tlearn: 0.0514021\ttotal: 6.5s\tremaining: 1.89s\n",
      "775:\tlearn: 0.0513504\ttotal: 6.51s\tremaining: 1.88s\n",
      "776:\tlearn: 0.0512915\ttotal: 6.51s\tremaining: 1.87s\n",
      "777:\tlearn: 0.0512636\ttotal: 6.52s\tremaining: 1.86s\n",
      "778:\tlearn: 0.0512018\ttotal: 6.52s\tremaining: 1.85s\n",
      "779:\tlearn: 0.0511818\ttotal: 6.53s\tremaining: 1.84s\n",
      "780:\tlearn: 0.0511536\ttotal: 6.54s\tremaining: 1.83s\n",
      "781:\tlearn: 0.0510947\ttotal: 6.54s\tremaining: 1.82s\n",
      "782:\tlearn: 0.0510243\ttotal: 6.55s\tremaining: 1.81s\n",
      "783:\tlearn: 0.0509338\ttotal: 6.56s\tremaining: 1.81s\n",
      "784:\tlearn: 0.0509147\ttotal: 6.64s\tremaining: 1.82s\n",
      "785:\tlearn: 0.0508944\ttotal: 6.65s\tremaining: 1.81s\n",
      "786:\tlearn: 0.0508534\ttotal: 6.66s\tremaining: 1.8s\n",
      "787:\tlearn: 0.0508216\ttotal: 6.67s\tremaining: 1.79s\n",
      "788:\tlearn: 0.0507561\ttotal: 6.68s\tremaining: 1.79s\n",
      "789:\tlearn: 0.0507215\ttotal: 6.69s\tremaining: 1.78s\n",
      "790:\tlearn: 0.0506844\ttotal: 6.7s\tremaining: 1.77s\n",
      "791:\tlearn: 0.0505854\ttotal: 6.71s\tremaining: 1.76s\n",
      "792:\tlearn: 0.0505656\ttotal: 6.72s\tremaining: 1.75s\n",
      "793:\tlearn: 0.0505302\ttotal: 6.72s\tremaining: 1.74s\n",
      "794:\tlearn: 0.0504982\ttotal: 6.73s\tremaining: 1.74s\n",
      "795:\tlearn: 0.0504133\ttotal: 6.75s\tremaining: 1.73s\n",
      "796:\tlearn: 0.0503510\ttotal: 6.76s\tremaining: 1.72s\n",
      "797:\tlearn: 0.0502441\ttotal: 6.77s\tremaining: 1.71s\n",
      "798:\tlearn: 0.0502089\ttotal: 6.78s\tremaining: 1.7s\n",
      "799:\tlearn: 0.0501827\ttotal: 6.79s\tremaining: 1.7s\n",
      "800:\tlearn: 0.0501465\ttotal: 6.79s\tremaining: 1.69s\n",
      "801:\tlearn: 0.0501195\ttotal: 6.8s\tremaining: 1.68s\n",
      "802:\tlearn: 0.0500962\ttotal: 6.81s\tremaining: 1.67s\n",
      "803:\tlearn: 0.0500347\ttotal: 6.82s\tremaining: 1.66s\n",
      "804:\tlearn: 0.0500078\ttotal: 6.83s\tremaining: 1.65s\n",
      "805:\tlearn: 0.0499817\ttotal: 6.84s\tremaining: 1.65s\n",
      "806:\tlearn: 0.0499620\ttotal: 6.84s\tremaining: 1.64s\n",
      "807:\tlearn: 0.0498823\ttotal: 6.85s\tremaining: 1.63s\n",
      "808:\tlearn: 0.0498201\ttotal: 6.86s\tremaining: 1.62s\n",
      "809:\tlearn: 0.0497942\ttotal: 6.87s\tremaining: 1.61s\n",
      "810:\tlearn: 0.0497687\ttotal: 6.87s\tremaining: 1.6s\n",
      "811:\tlearn: 0.0497504\ttotal: 6.88s\tremaining: 1.59s\n",
      "812:\tlearn: 0.0497409\ttotal: 6.89s\tremaining: 1.58s\n",
      "813:\tlearn: 0.0496557\ttotal: 6.89s\tremaining: 1.57s\n",
      "814:\tlearn: 0.0495371\ttotal: 6.9s\tremaining: 1.57s\n",
      "815:\tlearn: 0.0494489\ttotal: 6.91s\tremaining: 1.56s\n",
      "816:\tlearn: 0.0494309\ttotal: 6.92s\tremaining: 1.55s\n",
      "817:\tlearn: 0.0494087\ttotal: 6.92s\tremaining: 1.54s\n",
      "818:\tlearn: 0.0493853\ttotal: 6.93s\tremaining: 1.53s\n",
      "819:\tlearn: 0.0492921\ttotal: 6.94s\tremaining: 1.52s\n",
      "820:\tlearn: 0.0492395\ttotal: 6.95s\tremaining: 1.51s\n",
      "821:\tlearn: 0.0491796\ttotal: 6.96s\tremaining: 1.51s\n",
      "822:\tlearn: 0.0491126\ttotal: 6.97s\tremaining: 1.5s\n",
      "823:\tlearn: 0.0490584\ttotal: 6.97s\tremaining: 1.49s\n",
      "824:\tlearn: 0.0490407\ttotal: 6.98s\tremaining: 1.48s\n",
      "825:\tlearn: 0.0490051\ttotal: 6.99s\tremaining: 1.47s\n",
      "826:\tlearn: 0.0489558\ttotal: 7s\tremaining: 1.46s\n",
      "827:\tlearn: 0.0488576\ttotal: 7.01s\tremaining: 1.46s\n",
      "828:\tlearn: 0.0488292\ttotal: 7.01s\tremaining: 1.45s\n",
      "829:\tlearn: 0.0488118\ttotal: 7.02s\tremaining: 1.44s\n",
      "830:\tlearn: 0.0487945\ttotal: 7.03s\tremaining: 1.43s\n",
      "831:\tlearn: 0.0487389\ttotal: 7.04s\tremaining: 1.42s\n",
      "832:\tlearn: 0.0486487\ttotal: 7.05s\tremaining: 1.41s\n",
      "833:\tlearn: 0.0485589\ttotal: 7.06s\tremaining: 1.4s\n",
      "834:\tlearn: 0.0485416\ttotal: 7.06s\tremaining: 1.4s\n",
      "835:\tlearn: 0.0484212\ttotal: 7.07s\tremaining: 1.39s\n",
      "836:\tlearn: 0.0483688\ttotal: 7.08s\tremaining: 1.38s\n",
      "837:\tlearn: 0.0483355\ttotal: 7.09s\tremaining: 1.37s\n",
      "838:\tlearn: 0.0482851\ttotal: 7.09s\tremaining: 1.36s\n",
      "839:\tlearn: 0.0482635\ttotal: 7.1s\tremaining: 1.35s\n",
      "840:\tlearn: 0.0481808\ttotal: 7.11s\tremaining: 1.34s\n",
      "841:\tlearn: 0.0481313\ttotal: 7.12s\tremaining: 1.33s\n",
      "842:\tlearn: 0.0480468\ttotal: 7.13s\tremaining: 1.33s\n",
      "843:\tlearn: 0.0479508\ttotal: 7.13s\tremaining: 1.32s\n",
      "844:\tlearn: 0.0478960\ttotal: 7.14s\tremaining: 1.31s\n",
      "845:\tlearn: 0.0478554\ttotal: 7.15s\tremaining: 1.3s\n",
      "846:\tlearn: 0.0478242\ttotal: 7.16s\tremaining: 1.29s\n",
      "847:\tlearn: 0.0477479\ttotal: 7.17s\tremaining: 1.28s\n",
      "848:\tlearn: 0.0477241\ttotal: 7.18s\tremaining: 1.28s\n",
      "849:\tlearn: 0.0476793\ttotal: 7.19s\tremaining: 1.27s\n",
      "850:\tlearn: 0.0476612\ttotal: 7.2s\tremaining: 1.26s\n",
      "851:\tlearn: 0.0476283\ttotal: 7.2s\tremaining: 1.25s\n",
      "852:\tlearn: 0.0475513\ttotal: 7.21s\tremaining: 1.24s\n",
      "853:\tlearn: 0.0475204\ttotal: 7.22s\tremaining: 1.23s\n",
      "854:\tlearn: 0.0474033\ttotal: 7.23s\tremaining: 1.23s\n",
      "855:\tlearn: 0.0473872\ttotal: 7.24s\tremaining: 1.22s\n",
      "856:\tlearn: 0.0472598\ttotal: 7.25s\tremaining: 1.21s\n",
      "857:\tlearn: 0.0471353\ttotal: 7.25s\tremaining: 1.2s\n",
      "858:\tlearn: 0.0471200\ttotal: 7.26s\tremaining: 1.19s\n",
      "859:\tlearn: 0.0470116\ttotal: 7.27s\tremaining: 1.18s\n",
      "860:\tlearn: 0.0469166\ttotal: 7.28s\tremaining: 1.17s\n",
      "861:\tlearn: 0.0468966\ttotal: 7.29s\tremaining: 1.17s\n",
      "862:\tlearn: 0.0468825\ttotal: 7.29s\tremaining: 1.16s\n",
      "863:\tlearn: 0.0468750\ttotal: 7.3s\tremaining: 1.15s\n",
      "864:\tlearn: 0.0467711\ttotal: 7.31s\tremaining: 1.14s\n",
      "865:\tlearn: 0.0467634\ttotal: 7.32s\tremaining: 1.13s\n",
      "866:\tlearn: 0.0466790\ttotal: 7.33s\tremaining: 1.12s\n",
      "867:\tlearn: 0.0466653\ttotal: 7.34s\tremaining: 1.12s\n",
      "868:\tlearn: 0.0466307\ttotal: 7.35s\tremaining: 1.11s\n",
      "869:\tlearn: 0.0466007\ttotal: 7.36s\tremaining: 1.1s\n",
      "870:\tlearn: 0.0465018\ttotal: 7.37s\tremaining: 1.09s\n",
      "871:\tlearn: 0.0464511\ttotal: 7.37s\tremaining: 1.08s\n",
      "872:\tlearn: 0.0464013\ttotal: 7.38s\tremaining: 1.07s\n",
      "873:\tlearn: 0.0463809\ttotal: 7.39s\tremaining: 1.06s\n",
      "874:\tlearn: 0.0462786\ttotal: 7.39s\tremaining: 1.06s\n",
      "875:\tlearn: 0.0461610\ttotal: 7.4s\tremaining: 1.05s\n",
      "876:\tlearn: 0.0460922\ttotal: 7.4s\tremaining: 1.04s\n",
      "877:\tlearn: 0.0460198\ttotal: 7.41s\tremaining: 1.03s\n",
      "878:\tlearn: 0.0459988\ttotal: 7.42s\tremaining: 1.02s\n",
      "879:\tlearn: 0.0459858\ttotal: 7.42s\tremaining: 1.01s\n",
      "880:\tlearn: 0.0459701\ttotal: 7.43s\tremaining: 1s\n",
      "881:\tlearn: 0.0459378\ttotal: 7.44s\tremaining: 995ms\n",
      "882:\tlearn: 0.0458112\ttotal: 7.45s\tremaining: 987ms\n",
      "883:\tlearn: 0.0457084\ttotal: 7.46s\tremaining: 978ms\n",
      "884:\tlearn: 0.0456340\ttotal: 7.46s\tremaining: 970ms\n",
      "885:\tlearn: 0.0455237\ttotal: 7.47s\tremaining: 962ms\n",
      "886:\tlearn: 0.0454591\ttotal: 7.48s\tremaining: 953ms\n",
      "887:\tlearn: 0.0454435\ttotal: 7.49s\tremaining: 945ms\n",
      "888:\tlearn: 0.0453957\ttotal: 7.5s\tremaining: 937ms\n",
      "889:\tlearn: 0.0453803\ttotal: 7.51s\tremaining: 928ms\n",
      "890:\tlearn: 0.0453628\ttotal: 7.52s\tremaining: 920ms\n",
      "891:\tlearn: 0.0452568\ttotal: 7.53s\tremaining: 911ms\n",
      "892:\tlearn: 0.0451591\ttotal: 7.54s\tremaining: 903ms\n",
      "893:\tlearn: 0.0450662\ttotal: 7.55s\tremaining: 895ms\n",
      "894:\tlearn: 0.0449636\ttotal: 7.55s\tremaining: 886ms\n",
      "895:\tlearn: 0.0449337\ttotal: 7.63s\tremaining: 885ms\n",
      "896:\tlearn: 0.0449236\ttotal: 7.64s\tremaining: 877ms\n",
      "897:\tlearn: 0.0448489\ttotal: 7.64s\tremaining: 868ms\n",
      "898:\tlearn: 0.0448280\ttotal: 7.65s\tremaining: 860ms\n",
      "899:\tlearn: 0.0447852\ttotal: 7.66s\tremaining: 852ms\n",
      "900:\tlearn: 0.0447728\ttotal: 7.67s\tremaining: 843ms\n",
      "901:\tlearn: 0.0447662\ttotal: 7.68s\tremaining: 835ms\n",
      "902:\tlearn: 0.0447596\ttotal: 7.69s\tremaining: 826ms\n",
      "903:\tlearn: 0.0447428\ttotal: 7.7s\tremaining: 818ms\n",
      "904:\tlearn: 0.0447010\ttotal: 7.71s\tremaining: 809ms\n",
      "905:\tlearn: 0.0446827\ttotal: 7.72s\tremaining: 801ms\n",
      "906:\tlearn: 0.0446629\ttotal: 7.73s\tremaining: 792ms\n",
      "907:\tlearn: 0.0445994\ttotal: 7.74s\tremaining: 784ms\n",
      "908:\tlearn: 0.0445874\ttotal: 7.74s\tremaining: 775ms\n",
      "909:\tlearn: 0.0445706\ttotal: 7.75s\tremaining: 767ms\n",
      "910:\tlearn: 0.0444937\ttotal: 7.76s\tremaining: 758ms\n",
      "911:\tlearn: 0.0444482\ttotal: 7.77s\tremaining: 750ms\n",
      "912:\tlearn: 0.0444275\ttotal: 7.78s\tremaining: 741ms\n",
      "913:\tlearn: 0.0444158\ttotal: 7.79s\tremaining: 733ms\n",
      "914:\tlearn: 0.0444005\ttotal: 7.8s\tremaining: 724ms\n",
      "915:\tlearn: 0.0443743\ttotal: 7.81s\tremaining: 716ms\n",
      "916:\tlearn: 0.0442966\ttotal: 7.82s\tremaining: 707ms\n",
      "917:\tlearn: 0.0442908\ttotal: 7.83s\tremaining: 699ms\n",
      "918:\tlearn: 0.0442758\ttotal: 7.83s\tremaining: 691ms\n",
      "919:\tlearn: 0.0442645\ttotal: 7.85s\tremaining: 682ms\n",
      "920:\tlearn: 0.0442227\ttotal: 7.86s\tremaining: 674ms\n",
      "921:\tlearn: 0.0441744\ttotal: 7.86s\tremaining: 665ms\n",
      "922:\tlearn: 0.0440744\ttotal: 7.87s\tremaining: 657ms\n",
      "923:\tlearn: 0.0440357\ttotal: 7.88s\tremaining: 648ms\n",
      "924:\tlearn: 0.0440298\ttotal: 7.89s\tremaining: 640ms\n",
      "925:\tlearn: 0.0440143\ttotal: 7.89s\tremaining: 631ms\n",
      "926:\tlearn: 0.0439996\ttotal: 7.9s\tremaining: 622ms\n",
      "927:\tlearn: 0.0439010\ttotal: 7.91s\tremaining: 614ms\n",
      "928:\tlearn: 0.0438836\ttotal: 7.92s\tremaining: 605ms\n",
      "929:\tlearn: 0.0437973\ttotal: 7.93s\tremaining: 597ms\n",
      "930:\tlearn: 0.0437133\ttotal: 7.94s\tremaining: 588ms\n",
      "931:\tlearn: 0.0435993\ttotal: 7.94s\tremaining: 580ms\n",
      "932:\tlearn: 0.0435849\ttotal: 7.95s\tremaining: 571ms\n",
      "933:\tlearn: 0.0435028\ttotal: 7.96s\tremaining: 562ms\n",
      "934:\tlearn: 0.0434843\ttotal: 7.96s\tremaining: 554ms\n",
      "935:\tlearn: 0.0434246\ttotal: 7.97s\tremaining: 545ms\n",
      "936:\tlearn: 0.0433605\ttotal: 7.98s\tremaining: 536ms\n",
      "937:\tlearn: 0.0433461\ttotal: 7.98s\tremaining: 528ms\n",
      "938:\tlearn: 0.0433297\ttotal: 7.99s\tremaining: 519ms\n",
      "939:\tlearn: 0.0432373\ttotal: 8s\tremaining: 511ms\n",
      "940:\tlearn: 0.0431937\ttotal: 8.01s\tremaining: 502ms\n",
      "941:\tlearn: 0.0430858\ttotal: 8.01s\tremaining: 493ms\n",
      "942:\tlearn: 0.0430716\ttotal: 8.02s\tremaining: 485ms\n",
      "943:\tlearn: 0.0430100\ttotal: 8.03s\tremaining: 476ms\n",
      "944:\tlearn: 0.0429991\ttotal: 8.04s\tremaining: 468ms\n",
      "945:\tlearn: 0.0429925\ttotal: 8.04s\tremaining: 459ms\n",
      "946:\tlearn: 0.0429818\ttotal: 8.05s\tremaining: 451ms\n",
      "947:\tlearn: 0.0429578\ttotal: 8.06s\tremaining: 442ms\n",
      "948:\tlearn: 0.0429152\ttotal: 8.06s\tremaining: 433ms\n",
      "949:\tlearn: 0.0428865\ttotal: 8.07s\tremaining: 425ms\n",
      "950:\tlearn: 0.0428690\ttotal: 8.08s\tremaining: 416ms\n",
      "951:\tlearn: 0.0428602\ttotal: 8.08s\tremaining: 408ms\n",
      "952:\tlearn: 0.0428430\ttotal: 8.09s\tremaining: 399ms\n",
      "953:\tlearn: 0.0427776\ttotal: 8.1s\tremaining: 391ms\n",
      "954:\tlearn: 0.0427637\ttotal: 8.11s\tremaining: 382ms\n",
      "955:\tlearn: 0.0426715\ttotal: 8.11s\tremaining: 373ms\n",
      "956:\tlearn: 0.0426661\ttotal: 8.12s\tremaining: 365ms\n",
      "957:\tlearn: 0.0425933\ttotal: 8.13s\tremaining: 356ms\n",
      "958:\tlearn: 0.0425795\ttotal: 8.13s\tremaining: 348ms\n",
      "959:\tlearn: 0.0425516\ttotal: 8.14s\tremaining: 339ms\n",
      "960:\tlearn: 0.0425284\ttotal: 8.15s\tremaining: 331ms\n",
      "961:\tlearn: 0.0424594\ttotal: 8.15s\tremaining: 322ms\n",
      "962:\tlearn: 0.0424438\ttotal: 8.16s\tremaining: 314ms\n",
      "963:\tlearn: 0.0424302\ttotal: 8.17s\tremaining: 305ms\n",
      "964:\tlearn: 0.0424136\ttotal: 8.18s\tremaining: 297ms\n",
      "965:\tlearn: 0.0423981\ttotal: 8.18s\tremaining: 288ms\n",
      "966:\tlearn: 0.0423572\ttotal: 8.19s\tremaining: 280ms\n",
      "967:\tlearn: 0.0423137\ttotal: 8.2s\tremaining: 271ms\n",
      "968:\tlearn: 0.0422727\ttotal: 8.21s\tremaining: 263ms\n",
      "969:\tlearn: 0.0422514\ttotal: 8.22s\tremaining: 254ms\n",
      "970:\tlearn: 0.0422363\ttotal: 8.23s\tremaining: 246ms\n",
      "971:\tlearn: 0.0421577\ttotal: 8.24s\tremaining: 237ms\n",
      "972:\tlearn: 0.0421077\ttotal: 8.24s\tremaining: 229ms\n",
      "973:\tlearn: 0.0420942\ttotal: 8.25s\tremaining: 220ms\n",
      "974:\tlearn: 0.0420438\ttotal: 8.26s\tremaining: 212ms\n",
      "975:\tlearn: 0.0419558\ttotal: 8.27s\tremaining: 203ms\n",
      "976:\tlearn: 0.0418888\ttotal: 8.28s\tremaining: 195ms\n",
      "977:\tlearn: 0.0417831\ttotal: 8.28s\tremaining: 186ms\n",
      "978:\tlearn: 0.0417673\ttotal: 8.29s\tremaining: 178ms\n",
      "979:\tlearn: 0.0417257\ttotal: 8.3s\tremaining: 169ms\n",
      "980:\tlearn: 0.0417061\ttotal: 8.31s\tremaining: 161ms\n",
      "981:\tlearn: 0.0416681\ttotal: 8.32s\tremaining: 152ms\n",
      "982:\tlearn: 0.0416548\ttotal: 8.33s\tremaining: 144ms\n",
      "983:\tlearn: 0.0415562\ttotal: 8.33s\tremaining: 136ms\n",
      "984:\tlearn: 0.0415431\ttotal: 8.34s\tremaining: 127ms\n",
      "985:\tlearn: 0.0414945\ttotal: 8.35s\tremaining: 119ms\n",
      "986:\tlearn: 0.0414296\ttotal: 8.35s\tremaining: 110ms\n",
      "987:\tlearn: 0.0413884\ttotal: 8.36s\tremaining: 102ms\n",
      "988:\tlearn: 0.0413313\ttotal: 8.37s\tremaining: 93.1ms\n",
      "989:\tlearn: 0.0413157\ttotal: 8.37s\tremaining: 84.6ms\n",
      "990:\tlearn: 0.0413011\ttotal: 8.38s\tremaining: 76.1ms\n",
      "991:\tlearn: 0.0412857\ttotal: 8.38s\tremaining: 67.6ms\n",
      "992:\tlearn: 0.0412343\ttotal: 8.39s\tremaining: 59.2ms\n",
      "993:\tlearn: 0.0411687\ttotal: 8.4s\tremaining: 50.7ms\n",
      "994:\tlearn: 0.0411130\ttotal: 8.4s\tremaining: 42.2ms\n",
      "995:\tlearn: 0.0410740\ttotal: 8.41s\tremaining: 33.8ms\n",
      "996:\tlearn: 0.0410611\ttotal: 8.42s\tremaining: 25.3ms\n",
      "997:\tlearn: 0.0409965\ttotal: 8.42s\tremaining: 16.9ms\n",
      "998:\tlearn: 0.0409380\ttotal: 8.43s\tremaining: 8.44ms\n",
      "999:\tlearn: 0.0408410\ttotal: 8.44s\tremaining: 0us\n"
     ]
    }
   ],
   "source": [
    "# CatBoost model definition\n",
    "catboost_model = CatBoostClassifier(iterations=1000, custom_loss=['Accuracy'],\n",
    "                                loss_function='Logloss', random_seed=1234)\n",
    "\n",
    "# Fit CatBoost model\n",
    "catboost_model.fit(train_pool, plot=True)\n",
    "\n",
    "y_pred = catboost_model.predict(X_test)\n",
    "\n",
    "# CatBoost accuracy\n",
    "acc_catboost = round(catboost_model.score(X_train, y_train) * 100, 2)"
   ]
  },
  {
   "cell_type": "code",
   "execution_count": 163,
   "metadata": {},
   "outputs": [
    {
     "data": {
      "application/vnd.jupyter.widget-view+json": {
       "model_id": "3108c71bfbd1493a8ca64c0ab744acf9",
       "version_major": 2,
       "version_minor": 0
      },
      "text/plain": [
       "MetricVisualizer(layout=Layout(align_self='stretch', height='500px'))"
      ]
     },
     "metadata": {},
     "output_type": "display_data"
    },
    {
     "name": "stdout",
     "output_type": "stream",
     "text": [
      "0:\tlearn: 0.6410075\ttest: 0.6416872\tbest: 0.6416872 (0)\n",
      "1:\tlearn: 0.5908469\ttest: 0.5921748\tbest: 0.5921748 (1)\n",
      "2:\tlearn: 0.5482867\ttest: 0.5509121\tbest: 0.5509121 (2)\n",
      "3:\tlearn: 0.5090870\ttest: 0.5125013\tbest: 0.5125013 (3)\n",
      "4:\tlearn: 0.4759725\ttest: 0.4795571\tbest: 0.4795571 (4)\n",
      "5:\tlearn: 0.4424316\ttest: 0.4465871\tbest: 0.4465871 (5)\n",
      "6:\tlearn: 0.4135535\ttest: 0.4183140\tbest: 0.4183140 (6)\n",
      "7:\tlearn: 0.3861626\ttest: 0.3915401\tbest: 0.3915401 (7)\n",
      "8:\tlearn: 0.3665931\ttest: 0.3721373\tbest: 0.3721373 (8)\n",
      "9:\tlearn: 0.3469898\ttest: 0.3527445\tbest: 0.3527445 (9)\n",
      "10:\tlearn: 0.3272506\ttest: 0.3332362\tbest: 0.3332362 (10)\n",
      "11:\tlearn: 0.3097811\ttest: 0.3162596\tbest: 0.3162596 (11)\n",
      "12:\tlearn: 0.2935832\ttest: 0.3006331\tbest: 0.3006331 (12)\n",
      "13:\tlearn: 0.2803408\ttest: 0.2876320\tbest: 0.2876320 (13)\n",
      "14:\tlearn: 0.2703975\ttest: 0.2783100\tbest: 0.2783100 (14)\n",
      "15:\tlearn: 0.2603853\ttest: 0.2686974\tbest: 0.2686974 (15)\n",
      "16:\tlearn: 0.2486881\ttest: 0.2575189\tbest: 0.2575189 (16)\n",
      "17:\tlearn: 0.2381880\ttest: 0.2472908\tbest: 0.2472908 (17)\n",
      "18:\tlearn: 0.2291586\ttest: 0.2386399\tbest: 0.2386399 (18)\n",
      "19:\tlearn: 0.2225635\ttest: 0.2325594\tbest: 0.2325594 (19)\n",
      "20:\tlearn: 0.2142503\ttest: 0.2248977\tbest: 0.2248977 (20)\n",
      "21:\tlearn: 0.2081018\ttest: 0.2191970\tbest: 0.2191970 (21)\n",
      "22:\tlearn: 0.2015437\ttest: 0.2132790\tbest: 0.2132790 (22)\n",
      "23:\tlearn: 0.1969225\ttest: 0.2089604\tbest: 0.2089604 (23)\n",
      "24:\tlearn: 0.1909321\ttest: 0.2033406\tbest: 0.2033406 (24)\n",
      "25:\tlearn: 0.1855941\ttest: 0.1982968\tbest: 0.1982968 (25)\n",
      "26:\tlearn: 0.1817988\ttest: 0.1948481\tbest: 0.1948481 (26)\n",
      "27:\tlearn: 0.1778891\ttest: 0.1915742\tbest: 0.1915742 (27)\n",
      "28:\tlearn: 0.1744571\ttest: 0.1883970\tbest: 0.1883970 (28)\n",
      "29:\tlearn: 0.1706847\ttest: 0.1850271\tbest: 0.1850271 (29)\n",
      "30:\tlearn: 0.1672923\ttest: 0.1822779\tbest: 0.1822779 (30)\n",
      "31:\tlearn: 0.1642000\ttest: 0.1798679\tbest: 0.1798679 (31)\n",
      "32:\tlearn: 0.1617761\ttest: 0.1778425\tbest: 0.1778425 (32)\n",
      "33:\tlearn: 0.1592306\ttest: 0.1756685\tbest: 0.1756685 (33)\n",
      "34:\tlearn: 0.1570334\ttest: 0.1740694\tbest: 0.1740694 (34)\n",
      "35:\tlearn: 0.1544312\ttest: 0.1722842\tbest: 0.1722842 (35)\n",
      "36:\tlearn: 0.1520838\ttest: 0.1704619\tbest: 0.1704619 (36)\n",
      "37:\tlearn: 0.1493828\ttest: 0.1684538\tbest: 0.1684538 (37)\n",
      "38:\tlearn: 0.1472430\ttest: 0.1668696\tbest: 0.1668696 (38)\n",
      "39:\tlearn: 0.1451476\ttest: 0.1652930\tbest: 0.1652930 (39)\n",
      "40:\tlearn: 0.1430402\ttest: 0.1635264\tbest: 0.1635264 (40)\n",
      "41:\tlearn: 0.1413690\ttest: 0.1622006\tbest: 0.1622006 (41)\n",
      "42:\tlearn: 0.1392374\ttest: 0.1608199\tbest: 0.1608199 (42)\n",
      "43:\tlearn: 0.1375836\ttest: 0.1597314\tbest: 0.1597314 (43)\n",
      "44:\tlearn: 0.1359895\ttest: 0.1586447\tbest: 0.1586447 (44)\n",
      "45:\tlearn: 0.1343210\ttest: 0.1574404\tbest: 0.1574404 (45)\n",
      "46:\tlearn: 0.1330303\ttest: 0.1567961\tbest: 0.1567961 (46)\n",
      "47:\tlearn: 0.1319748\ttest: 0.1564650\tbest: 0.1564650 (47)\n",
      "48:\tlearn: 0.1303846\ttest: 0.1555306\tbest: 0.1555306 (48)\n",
      "49:\tlearn: 0.1289169\ttest: 0.1548587\tbest: 0.1548587 (49)\n",
      "50:\tlearn: 0.1277074\ttest: 0.1543564\tbest: 0.1543564 (50)\n",
      "51:\tlearn: 0.1265611\ttest: 0.1537646\tbest: 0.1537646 (51)\n",
      "52:\tlearn: 0.1254874\ttest: 0.1533873\tbest: 0.1533873 (52)\n",
      "53:\tlearn: 0.1241576\ttest: 0.1526602\tbest: 0.1526602 (53)\n",
      "54:\tlearn: 0.1231842\ttest: 0.1521483\tbest: 0.1521483 (54)\n",
      "55:\tlearn: 0.1221602\ttest: 0.1516527\tbest: 0.1516527 (55)\n",
      "56:\tlearn: 0.1211796\ttest: 0.1510282\tbest: 0.1510282 (56)\n",
      "57:\tlearn: 0.1204421\ttest: 0.1507628\tbest: 0.1507628 (57)\ttotal: 6.53s\tremaining: 1m 46s\n",
      "58:\tlearn: 0.1195662\ttest: 0.1503762\tbest: 0.1503762 (58)\n",
      "59:\tlearn: 0.1187752\ttest: 0.1498864\tbest: 0.1498864 (59)\n",
      "60:\tlearn: 0.1179013\ttest: 0.1494978\tbest: 0.1494978 (60)\n",
      "61:\tlearn: 0.1169325\ttest: 0.1491584\tbest: 0.1491584 (61)\n",
      "62:\tlearn: 0.1161330\ttest: 0.1487826\tbest: 0.1487826 (62)\n",
      "63:\tlearn: 0.1154096\ttest: 0.1485751\tbest: 0.1485751 (63)\n",
      "64:\tlearn: 0.1147091\ttest: 0.1485231\tbest: 0.1485231 (64)\n",
      "65:\tlearn: 0.1139762\ttest: 0.1485222\tbest: 0.1485222 (65)\n",
      "66:\tlearn: 0.1131811\ttest: 0.1480983\tbest: 0.1480983 (66)\n",
      "67:\tlearn: 0.1124070\ttest: 0.1480083\tbest: 0.1480083 (67)\n",
      "68:\tlearn: 0.1117500\ttest: 0.1477945\tbest: 0.1477945 (68)\n",
      "69:\tlearn: 0.1110203\ttest: 0.1474493\tbest: 0.1474493 (69)\n",
      "70:\tlearn: 0.1103724\ttest: 0.1470978\tbest: 0.1470978 (70)\n",
      "71:\tlearn: 0.1095145\ttest: 0.1469170\tbest: 0.1469170 (71)\n",
      "72:\tlearn: 0.1089095\ttest: 0.1466476\tbest: 0.1466476 (72)\n",
      "73:\tlearn: 0.1081712\ttest: 0.1465853\tbest: 0.1465853 (73)\ttotal: 9.04s\tremaining: 1m 53s\n",
      "74:\tlearn: 0.1075221\ttest: 0.1465578\tbest: 0.1465578 (74)\n",
      "75:\tlearn: 0.1068282\ttest: 0.1464402\tbest: 0.1464402 (75)\n",
      "76:\tlearn: 0.1061370\ttest: 0.1461487\tbest: 0.1461487 (76)\n",
      "77:\tlearn: 0.1056902\ttest: 0.1460000\tbest: 0.1460000 (77)\n",
      "78:\tlearn: 0.1050853\ttest: 0.1459205\tbest: 0.1459205 (78)\n",
      "79:\tlearn: 0.1044556\ttest: 0.1459077\tbest: 0.1459077 (79)\n",
      "80:\tlearn: 0.1038354\ttest: 0.1455258\tbest: 0.1455258 (80)\n",
      "81:\tlearn: 0.1032939\ttest: 0.1454119\tbest: 0.1454119 (81)\n",
      "82:\tlearn: 0.1027938\ttest: 0.1453201\tbest: 0.1453201 (82)\n",
      "83:\tlearn: 0.1022752\ttest: 0.1450670\tbest: 0.1450670 (83)\n",
      "84:\tlearn: 0.1017935\ttest: 0.1447577\tbest: 0.1447577 (84)\ttotal: 11.2s\tremaining: 2m\n",
      "85:\tlearn: 0.1012648\ttest: 0.1445310\tbest: 0.1445310 (85)\n",
      "86:\tlearn: 0.1007213\ttest: 0.1443723\tbest: 0.1443723 (86)\n",
      "87:\tlearn: 0.1002584\ttest: 0.1442517\tbest: 0.1442517 (87)\n",
      "88:\tlearn: 0.0996314\ttest: 0.1440411\tbest: 0.1440411 (88)\n",
      "89:\tlearn: 0.0989711\ttest: 0.1440856\tbest: 0.1440411 (88)\n",
      "90:\tlearn: 0.0983945\ttest: 0.1439268\tbest: 0.1439268 (90)\n",
      "91:\tlearn: 0.0978125\ttest: 0.1438547\tbest: 0.1438547 (91)\n",
      "92:\tlearn: 0.0972778\ttest: 0.1438607\tbest: 0.1438547 (91)\n",
      "93:\tlearn: 0.0968192\ttest: 0.1438456\tbest: 0.1438456 (93)\n",
      "94:\tlearn: 0.0963057\ttest: 0.1437084\tbest: 0.1437084 (94)\n",
      "95:\tlearn: 0.0958397\ttest: 0.1438812\tbest: 0.1437084 (94)\n",
      "96:\tlearn: 0.0953614\ttest: 0.1438067\tbest: 0.1437084 (94)\n",
      "97:\tlearn: 0.0948809\ttest: 0.1435911\tbest: 0.1435911 (97)\n",
      "98:\tlearn: 0.0945051\ttest: 0.1434954\tbest: 0.1434954 (98)\n",
      "99:\tlearn: 0.0940414\ttest: 0.1435340\tbest: 0.1434954 (98)\n",
      "100:\tlearn: 0.0935554\ttest: 0.1434387\tbest: 0.1434387 (100)\n",
      "101:\tlearn: 0.0930948\ttest: 0.1434662\tbest: 0.1434387 (100)\ttotal: 15.2s\tremaining: 2m 14s\n",
      "102:\tlearn: 0.0926250\ttest: 0.1434285\tbest: 0.1434285 (102)\n",
      "103:\tlearn: 0.0921128\ttest: 0.1434852\tbest: 0.1434285 (102)\n",
      "104:\tlearn: 0.0916784\ttest: 0.1435573\tbest: 0.1434285 (102)\n",
      "105:\tlearn: 0.0912044\ttest: 0.1433733\tbest: 0.1433733 (105)\n",
      "106:\tlearn: 0.0906345\ttest: 0.1435578\tbest: 0.1433733 (105)\n",
      "107:\tlearn: 0.0901966\ttest: 0.1435610\tbest: 0.1433733 (105)\n",
      "108:\tlearn: 0.0898694\ttest: 0.1434256\tbest: 0.1433733 (105)\n",
      "109:\tlearn: 0.0895497\ttest: 0.1434004\tbest: 0.1433733 (105)\n",
      "110:\tlearn: 0.0891692\ttest: 0.1434847\tbest: 0.1433733 (105)\n",
      "111:\tlearn: 0.0888096\ttest: 0.1435606\tbest: 0.1433733 (105)\n",
      "112:\tlearn: 0.0883639\ttest: 0.1435815\tbest: 0.1433733 (105)\n",
      "113:\tlearn: 0.0879301\ttest: 0.1436249\tbest: 0.1433733 (105)\n",
      "114:\tlearn: 0.0875438\ttest: 0.1436464\tbest: 0.1433733 (105)\n",
      "115:\tlearn: 0.0871943\ttest: 0.1435252\tbest: 0.1433733 (105)\n",
      "116:\tlearn: 0.0867425\ttest: 0.1435720\tbest: 0.1433733 (105)\n",
      "117:\tlearn: 0.0864177\ttest: 0.1436447\tbest: 0.1433733 (105)\n",
      "118:\tlearn: 0.0860985\ttest: 0.1435717\tbest: 0.1433733 (105)\n",
      "119:\tlearn: 0.0856850\ttest: 0.1433911\tbest: 0.1433733 (105)\n",
      "120:\tlearn: 0.0852659\ttest: 0.1433563\tbest: 0.1433563 (120)\ttotal: 18.5s\tremaining: 2m 14s\n",
      "121:\tlearn: 0.0848918\ttest: 0.1433013\tbest: 0.1433013 (121)\n",
      "122:\tlearn: 0.0845391\ttest: 0.1433866\tbest: 0.1433013 (121)\n",
      "123:\tlearn: 0.0841762\ttest: 0.1433710\tbest: 0.1433013 (121)\n",
      "124:\tlearn: 0.0838854\ttest: 0.1434402\tbest: 0.1433013 (121)\n",
      "125:\tlearn: 0.0835852\ttest: 0.1432179\tbest: 0.1432179 (125)\n",
      "126:\tlearn: 0.0832699\ttest: 0.1431410\tbest: 0.1431410 (126)\n",
      "127:\tlearn: 0.0829465\ttest: 0.1431872\tbest: 0.1431410 (126)\n",
      "128:\tlearn: 0.0825943\ttest: 0.1432992\tbest: 0.1431410 (126)\n",
      "129:\tlearn: 0.0822379\ttest: 0.1432991\tbest: 0.1431410 (126)\n",
      "130:\tlearn: 0.0819298\ttest: 0.1434064\tbest: 0.1431410 (126)\n",
      "131:\tlearn: 0.0816462\ttest: 0.1435452\tbest: 0.1431410 (126)\n",
      "132:\tlearn: 0.0813464\ttest: 0.1436433\tbest: 0.1431410 (126)\n",
      "133:\tlearn: 0.0809660\ttest: 0.1436223\tbest: 0.1431410 (126)\n",
      "134:\tlearn: 0.0806734\ttest: 0.1436275\tbest: 0.1431410 (126)\n",
      "135:\tlearn: 0.0804087\ttest: 0.1436823\tbest: 0.1431410 (126)\n",
      "136:\tlearn: 0.0801031\ttest: 0.1437542\tbest: 0.1431410 (126)\n",
      "137:\tlearn: 0.0797914\ttest: 0.1438340\tbest: 0.1431410 (126)\n",
      "138:\tlearn: 0.0794231\ttest: 0.1439553\tbest: 0.1431410 (126)\n",
      "139:\tlearn: 0.0791267\ttest: 0.1440412\tbest: 0.1431410 (126)\n",
      "140:\tlearn: 0.0787407\ttest: 0.1439514\tbest: 0.1431410 (126)\n",
      "141:\tlearn: 0.0784420\ttest: 0.1439356\tbest: 0.1431410 (126)\n",
      "142:\tlearn: 0.0780907\ttest: 0.1439814\tbest: 0.1431410 (126)\n",
      "143:\tlearn: 0.0778117\ttest: 0.1438754\tbest: 0.1431410 (126)\n",
      "144:\tlearn: 0.0775280\ttest: 0.1438799\tbest: 0.1431410 (126)\n",
      "145:\tlearn: 0.0771761\ttest: 0.1440371\tbest: 0.1431410 (126)\n",
      "146:\tlearn: 0.0769130\ttest: 0.1441252\tbest: 0.1431410 (126)\n",
      "147:\tlearn: 0.0766385\ttest: 0.1441611\tbest: 0.1431410 (126)\n",
      "148:\tlearn: 0.0763943\ttest: 0.1441667\tbest: 0.1431410 (126)\n",
      "149:\tlearn: 0.0760922\ttest: 0.1441631\tbest: 0.1431410 (126)\n",
      "150:\tlearn: 0.0758091\ttest: 0.1441561\tbest: 0.1431410 (126)\n",
      "151:\tlearn: 0.0754856\ttest: 0.1440848\tbest: 0.1431410 (126)\n",
      "152:\tlearn: 0.0751472\ttest: 0.1441460\tbest: 0.1431410 (126)\n",
      "153:\tlearn: 0.0749321\ttest: 0.1441516\tbest: 0.1431410 (126)\n",
      "154:\tlearn: 0.0746990\ttest: 0.1440815\tbest: 0.1431410 (126)\n",
      "155:\tlearn: 0.0744676\ttest: 0.1440317\tbest: 0.1431410 (126)\ttotal: 22.8s\tremaining: 2m 3s\n",
      "156:\tlearn: 0.0741850\ttest: 0.1439504\tbest: 0.1431410 (126)\n",
      "157:\tlearn: 0.0738387\ttest: 0.1438745\tbest: 0.1431410 (126)\n",
      "158:\tlearn: 0.0735919\ttest: 0.1438141\tbest: 0.1431410 (126)\n",
      "159:\tlearn: 0.0733308\ttest: 0.1437249\tbest: 0.1431410 (126)\n",
      "160:\tlearn: 0.0730971\ttest: 0.1436727\tbest: 0.1431410 (126)\n",
      "161:\tlearn: 0.0728446\ttest: 0.1436884\tbest: 0.1431410 (126)\n",
      "162:\tlearn: 0.0725352\ttest: 0.1435903\tbest: 0.1431410 (126)\n",
      "163:\tlearn: 0.0722739\ttest: 0.1437001\tbest: 0.1431410 (126)\n",
      "164:\tlearn: 0.0720242\ttest: 0.1436894\tbest: 0.1431410 (126)\n",
      "165:\tlearn: 0.0717521\ttest: 0.1437511\tbest: 0.1431410 (126)\n",
      "166:\tlearn: 0.0714498\ttest: 0.1438236\tbest: 0.1431410 (126)\n",
      "167:\tlearn: 0.0711683\ttest: 0.1438437\tbest: 0.1431410 (126)\n",
      "168:\tlearn: 0.0708867\ttest: 0.1437648\tbest: 0.1431410 (126)\n",
      "169:\tlearn: 0.0705978\ttest: 0.1438652\tbest: 0.1431410 (126)\n",
      "170:\tlearn: 0.0702378\ttest: 0.1438840\tbest: 0.1431410 (126)\n",
      "171:\tlearn: 0.0699336\ttest: 0.1437152\tbest: 0.1431410 (126)\n",
      "172:\tlearn: 0.0696891\ttest: 0.1439098\tbest: 0.1431410 (126)\n",
      "173:\tlearn: 0.0694678\ttest: 0.1439845\tbest: 0.1431410 (126)\n",
      "174:\tlearn: 0.0691804\ttest: 0.1439527\tbest: 0.1431410 (126)\n",
      "175:\tlearn: 0.0689218\ttest: 0.1440211\tbest: 0.1431410 (126)\n",
      "176:\tlearn: 0.0686845\ttest: 0.1440165\tbest: 0.1431410 (126)\n",
      "177:\tlearn: 0.0684212\ttest: 0.1440250\tbest: 0.1431410 (126)\n",
      "178:\tlearn: 0.0682225\ttest: 0.1440666\tbest: 0.1431410 (126)\n",
      "179:\tlearn: 0.0680550\ttest: 0.1440807\tbest: 0.1431410 (126)\n",
      "180:\tlearn: 0.0678196\ttest: 0.1441441\tbest: 0.1431410 (126)\n",
      "181:\tlearn: 0.0676022\ttest: 0.1440696\tbest: 0.1431410 (126)\n",
      "182:\tlearn: 0.0674897\ttest: 0.1440699\tbest: 0.1431410 (126)\n",
      "183:\tlearn: 0.0673037\ttest: 0.1441434\tbest: 0.1431410 (126)\n",
      "184:\tlearn: 0.0670334\ttest: 0.1440626\tbest: 0.1431410 (126)\n",
      "185:\tlearn: 0.0668296\ttest: 0.1439305\tbest: 0.1431410 (126)\n",
      "186:\tlearn: 0.0665952\ttest: 0.1438144\tbest: 0.1431410 (126)\n",
      "187:\tlearn: 0.0664065\ttest: 0.1438206\tbest: 0.1431410 (126)\n",
      "188:\tlearn: 0.0662272\ttest: 0.1437151\tbest: 0.1431410 (126)\n",
      "189:\tlearn: 0.0659968\ttest: 0.1435190\tbest: 0.1431410 (126)\n",
      "190:\tlearn: 0.0658243\ttest: 0.1435023\tbest: 0.1431410 (126)\n",
      "191:\tlearn: 0.0655735\ttest: 0.1435732\tbest: 0.1431410 (126)\n",
      "192:\tlearn: 0.0653550\ttest: 0.1434734\tbest: 0.1431410 (126)\n",
      "193:\tlearn: 0.0651707\ttest: 0.1435720\tbest: 0.1431410 (126)\n",
      "194:\tlearn: 0.0649045\ttest: 0.1435455\tbest: 0.1431410 (126)\n",
      "195:\tlearn: 0.0646893\ttest: 0.1434698\tbest: 0.1431410 (126)\n",
      "196:\tlearn: 0.0644734\ttest: 0.1434802\tbest: 0.1431410 (126)\n",
      "197:\tlearn: 0.0642456\ttest: 0.1434809\tbest: 0.1431410 (126)\n",
      "198:\tlearn: 0.0640447\ttest: 0.1434889\tbest: 0.1431410 (126)\n",
      "199:\tlearn: 0.0638417\ttest: 0.1434703\tbest: 0.1431410 (126)\n",
      "200:\tlearn: 0.0636602\ttest: 0.1434831\tbest: 0.1431410 (126)\ttotal: 28.6s\tremaining: 1m 53s\n",
      "201:\tlearn: 0.0634884\ttest: 0.1434554\tbest: 0.1431410 (126)\n",
      "202:\tlearn: 0.0632785\ttest: 0.1434258\tbest: 0.1431410 (126)\n",
      "203:\tlearn: 0.0630646\ttest: 0.1433594\tbest: 0.1431410 (126)\n",
      "204:\tlearn: 0.0628852\ttest: 0.1433862\tbest: 0.1431410 (126)\n",
      "205:\tlearn: 0.0627118\ttest: 0.1434254\tbest: 0.1431410 (126)\n",
      "206:\tlearn: 0.0625606\ttest: 0.1434636\tbest: 0.1431410 (126)\n",
      "207:\tlearn: 0.0623367\ttest: 0.1435244\tbest: 0.1431410 (126)\n",
      "208:\tlearn: 0.0621965\ttest: 0.1435085\tbest: 0.1431410 (126)\n",
      "209:\tlearn: 0.0619630\ttest: 0.1436536\tbest: 0.1431410 (126)\n",
      "210:\tlearn: 0.0617687\ttest: 0.1436487\tbest: 0.1431410 (126)\n",
      "211:\tlearn: 0.0615041\ttest: 0.1436758\tbest: 0.1431410 (126)\n",
      "212:\tlearn: 0.0613522\ttest: 0.1436097\tbest: 0.1431410 (126)\n",
      "213:\tlearn: 0.0610743\ttest: 0.1437829\tbest: 0.1431410 (126)\n",
      "214:\tlearn: 0.0608265\ttest: 0.1438381\tbest: 0.1431410 (126)\n",
      "215:\tlearn: 0.0606835\ttest: 0.1437940\tbest: 0.1431410 (126)\n",
      "216:\tlearn: 0.0604953\ttest: 0.1438131\tbest: 0.1431410 (126)\n",
      "217:\tlearn: 0.0602970\ttest: 0.1437260\tbest: 0.1431410 (126)\n",
      "218:\tlearn: 0.0600890\ttest: 0.1437231\tbest: 0.1431410 (126)\n",
      "219:\tlearn: 0.0599075\ttest: 0.1436993\tbest: 0.1431410 (126)\n",
      "220:\tlearn: 0.0597183\ttest: 0.1437008\tbest: 0.1431410 (126)\n",
      "221:\tlearn: 0.0595958\ttest: 0.1436968\tbest: 0.1431410 (126)\n",
      "222:\tlearn: 0.0593568\ttest: 0.1437055\tbest: 0.1431410 (126)\n",
      "223:\tlearn: 0.0591657\ttest: 0.1436611\tbest: 0.1431410 (126)\n",
      "224:\tlearn: 0.0590091\ttest: 0.1437067\tbest: 0.1431410 (126)\n",
      "225:\tlearn: 0.0588330\ttest: 0.1437784\tbest: 0.1431410 (126)\n",
      "226:\tlearn: 0.0586818\ttest: 0.1438750\tbest: 0.1431410 (126)\n",
      "227:\tlearn: 0.0585009\ttest: 0.1440016\tbest: 0.1431410 (126)\n",
      "228:\tlearn: 0.0583270\ttest: 0.1440181\tbest: 0.1431410 (126)\n",
      "229:\tlearn: 0.0581837\ttest: 0.1440401\tbest: 0.1431410 (126)\n",
      "230:\tlearn: 0.0579941\ttest: 0.1439124\tbest: 0.1431410 (126)\n",
      "231:\tlearn: 0.0578415\ttest: 0.1438437\tbest: 0.1431410 (126)\ttotal: 32.8s\tremaining: 1m 48s\n",
      "232:\tlearn: 0.0577107\ttest: 0.1439312\tbest: 0.1431410 (126)\n",
      "233:\tlearn: 0.0575794\ttest: 0.1438629\tbest: 0.1431410 (126)\n",
      "234:\tlearn: 0.0574683\ttest: 0.1438399\tbest: 0.1431410 (126)\n",
      "235:\tlearn: 0.0573070\ttest: 0.1437981\tbest: 0.1431410 (126)\n",
      "236:\tlearn: 0.0571595\ttest: 0.1439178\tbest: 0.1431410 (126)\n",
      "237:\tlearn: 0.0570047\ttest: 0.1438609\tbest: 0.1431410 (126)\n",
      "238:\tlearn: 0.0568522\ttest: 0.1438788\tbest: 0.1431410 (126)\n",
      "239:\tlearn: 0.0567523\ttest: 0.1438544\tbest: 0.1431410 (126)\n",
      "240:\tlearn: 0.0566071\ttest: 0.1439316\tbest: 0.1431410 (126)\n",
      "241:\tlearn: 0.0564571\ttest: 0.1439316\tbest: 0.1431410 (126)\n",
      "242:\tlearn: 0.0563090\ttest: 0.1440342\tbest: 0.1431410 (126)\n",
      "243:\tlearn: 0.0562111\ttest: 0.1440447\tbest: 0.1431410 (126)\n",
      "244:\tlearn: 0.0560727\ttest: 0.1441285\tbest: 0.1431410 (126)\n",
      "245:\tlearn: 0.0558694\ttest: 0.1442115\tbest: 0.1431410 (126)\n",
      "246:\tlearn: 0.0557309\ttest: 0.1442365\tbest: 0.1431410 (126)\n",
      "247:\tlearn: 0.0555884\ttest: 0.1441827\tbest: 0.1431410 (126)\n",
      "248:\tlearn: 0.0554791\ttest: 0.1441552\tbest: 0.1431410 (126)\n",
      "249:\tlearn: 0.0553078\ttest: 0.1441309\tbest: 0.1431410 (126)\n",
      "250:\tlearn: 0.0551245\ttest: 0.1440739\tbest: 0.1431410 (126)\n",
      "251:\tlearn: 0.0550044\ttest: 0.1440833\tbest: 0.1431410 (126)\n",
      "252:\tlearn: 0.0549195\ttest: 0.1440930\tbest: 0.1431410 (126)\n",
      "253:\tlearn: 0.0548160\ttest: 0.1441362\tbest: 0.1431410 (126)\n",
      "254:\tlearn: 0.0546470\ttest: 0.1440896\tbest: 0.1431410 (126)\n",
      "255:\tlearn: 0.0544973\ttest: 0.1442018\tbest: 0.1431410 (126)\n",
      "256:\tlearn: 0.0543176\ttest: 0.1442631\tbest: 0.1431410 (126)\n",
      "257:\tlearn: 0.0541920\ttest: 0.1443289\tbest: 0.1431410 (126)\n",
      "258:\tlearn: 0.0540832\ttest: 0.1443244\tbest: 0.1431410 (126)\n",
      "259:\tlearn: 0.0539602\ttest: 0.1443395\tbest: 0.1431410 (126)\n",
      "260:\tlearn: 0.0538322\ttest: 0.1443624\tbest: 0.1431410 (126)\n",
      "261:\tlearn: 0.0536697\ttest: 0.1444028\tbest: 0.1431410 (126)\n",
      "262:\tlearn: 0.0535359\ttest: 0.1444067\tbest: 0.1431410 (126)\ttotal: 37.2s\tremaining: 1m 44s\n",
      "263:\tlearn: 0.0533719\ttest: 0.1443976\tbest: 0.1431410 (126)\n",
      "264:\tlearn: 0.0532366\ttest: 0.1444452\tbest: 0.1431410 (126)\n",
      "265:\tlearn: 0.0531063\ttest: 0.1445716\tbest: 0.1431410 (126)\n",
      "266:\tlearn: 0.0529856\ttest: 0.1446906\tbest: 0.1431410 (126)\n",
      "267:\tlearn: 0.0528881\ttest: 0.1447948\tbest: 0.1431410 (126)\n",
      "268:\tlearn: 0.0527504\ttest: 0.1448229\tbest: 0.1431410 (126)\n",
      "269:\tlearn: 0.0526509\ttest: 0.1449095\tbest: 0.1431410 (126)\n",
      "270:\tlearn: 0.0525307\ttest: 0.1449470\tbest: 0.1431410 (126)\n",
      "271:\tlearn: 0.0523603\ttest: 0.1450140\tbest: 0.1431410 (126)\n",
      "272:\tlearn: 0.0522450\ttest: 0.1450278\tbest: 0.1431410 (126)\n",
      "273:\tlearn: 0.0521358\ttest: 0.1450582\tbest: 0.1431410 (126)\n",
      "274:\tlearn: 0.0520235\ttest: 0.1450577\tbest: 0.1431410 (126)\n",
      "275:\tlearn: 0.0519312\ttest: 0.1450622\tbest: 0.1431410 (126)\n",
      "276:\tlearn: 0.0518261\ttest: 0.1450946\tbest: 0.1431410 (126)\n",
      "277:\tlearn: 0.0517348\ttest: 0.1451271\tbest: 0.1431410 (126)\n",
      "278:\tlearn: 0.0516167\ttest: 0.1451493\tbest: 0.1431410 (126)\n",
      "279:\tlearn: 0.0515118\ttest: 0.1452173\tbest: 0.1431410 (126)\n",
      "280:\tlearn: 0.0513949\ttest: 0.1452532\tbest: 0.1431410 (126)\n",
      "281:\tlearn: 0.0512715\ttest: 0.1452947\tbest: 0.1431410 (126)\n",
      "282:\tlearn: 0.0511590\ttest: 0.1454028\tbest: 0.1431410 (126)\n",
      "283:\tlearn: 0.0510435\ttest: 0.1454314\tbest: 0.1431410 (126)\n",
      "284:\tlearn: 0.0509227\ttest: 0.1455267\tbest: 0.1431410 (126)\n",
      "285:\tlearn: 0.0508256\ttest: 0.1455834\tbest: 0.1431410 (126)\n",
      "286:\tlearn: 0.0507175\ttest: 0.1456331\tbest: 0.1431410 (126)\n",
      "287:\tlearn: 0.0505741\ttest: 0.1456736\tbest: 0.1431410 (126)\n",
      "288:\tlearn: 0.0504428\ttest: 0.1457339\tbest: 0.1431410 (126)\n",
      "289:\tlearn: 0.0503075\ttest: 0.1457837\tbest: 0.1431410 (126)\n",
      "290:\tlearn: 0.0502301\ttest: 0.1457928\tbest: 0.1431410 (126)\n",
      "291:\tlearn: 0.0501589\ttest: 0.1458374\tbest: 0.1431410 (126)\n",
      "292:\tlearn: 0.0500708\ttest: 0.1458509\tbest: 0.1431410 (126)\n",
      "293:\tlearn: 0.0499715\ttest: 0.1459326\tbest: 0.1431410 (126)\n",
      "294:\tlearn: 0.0498925\ttest: 0.1459108\tbest: 0.1431410 (126)\n",
      "295:\tlearn: 0.0497446\ttest: 0.1458946\tbest: 0.1431410 (126)\n",
      "296:\tlearn: 0.0495874\ttest: 0.1459025\tbest: 0.1431410 (126)\n",
      "297:\tlearn: 0.0494530\ttest: 0.1459598\tbest: 0.1431410 (126)\n",
      "298:\tlearn: 0.0493568\ttest: 0.1460432\tbest: 0.1431410 (126)\n",
      "299:\tlearn: 0.0492630\ttest: 0.1460430\tbest: 0.1431410 (126)\ttotal: 41.9s\tremaining: 1m 37s\n",
      "300:\tlearn: 0.0490921\ttest: 0.1459947\tbest: 0.1431410 (126)\n",
      "301:\tlearn: 0.0489745\ttest: 0.1460091\tbest: 0.1431410 (126)\n",
      "302:\tlearn: 0.0488693\ttest: 0.1460419\tbest: 0.1431410 (126)\n",
      "303:\tlearn: 0.0487757\ttest: 0.1460823\tbest: 0.1431410 (126)\n",
      "304:\tlearn: 0.0486460\ttest: 0.1461421\tbest: 0.1431410 (126)\n",
      "305:\tlearn: 0.0484842\ttest: 0.1462184\tbest: 0.1431410 (126)\n",
      "306:\tlearn: 0.0483662\ttest: 0.1462322\tbest: 0.1431410 (126)\n",
      "307:\tlearn: 0.0482432\ttest: 0.1462397\tbest: 0.1431410 (126)\n",
      "308:\tlearn: 0.0481282\ttest: 0.1462744\tbest: 0.1431410 (126)\n",
      "309:\tlearn: 0.0480261\ttest: 0.1462867\tbest: 0.1431410 (126)\n",
      "310:\tlearn: 0.0478579\ttest: 0.1462609\tbest: 0.1431410 (126)\n",
      "311:\tlearn: 0.0477441\ttest: 0.1462937\tbest: 0.1431410 (126)\n",
      "312:\tlearn: 0.0476271\ttest: 0.1463160\tbest: 0.1431410 (126)\n",
      "313:\tlearn: 0.0474765\ttest: 0.1463882\tbest: 0.1431410 (126)\n",
      "314:\tlearn: 0.0473858\ttest: 0.1464278\tbest: 0.1431410 (126)\n",
      "315:\tlearn: 0.0472628\ttest: 0.1464492\tbest: 0.1431410 (126)\n",
      "316:\tlearn: 0.0471568\ttest: 0.1464314\tbest: 0.1431410 (126)\n",
      "317:\tlearn: 0.0470200\ttest: 0.1464589\tbest: 0.1431410 (126)\n",
      "318:\tlearn: 0.0468901\ttest: 0.1464565\tbest: 0.1431410 (126)\n",
      "319:\tlearn: 0.0466889\ttest: 0.1466084\tbest: 0.1431410 (126)\n",
      "320:\tlearn: 0.0465805\ttest: 0.1466295\tbest: 0.1431410 (126)\n",
      "321:\tlearn: 0.0464808\ttest: 0.1465814\tbest: 0.1431410 (126)\n",
      "322:\tlearn: 0.0464041\ttest: 0.1465712\tbest: 0.1431410 (126)\n",
      "323:\tlearn: 0.0462574\ttest: 0.1465508\tbest: 0.1431410 (126)\n",
      "324:\tlearn: 0.0461566\ttest: 0.1464941\tbest: 0.1431410 (126)\n",
      "325:\tlearn: 0.0460735\ttest: 0.1465804\tbest: 0.1431410 (126)\n",
      "326:\tlearn: 0.0459805\ttest: 0.1466237\tbest: 0.1431410 (126)\n",
      "327:\tlearn: 0.0458280\ttest: 0.1466627\tbest: 0.1431410 (126)\n",
      "328:\tlearn: 0.0457320\ttest: 0.1466948\tbest: 0.1431410 (126)\n",
      "329:\tlearn: 0.0456259\ttest: 0.1466179\tbest: 0.1431410 (126)\n",
      "330:\tlearn: 0.0454844\ttest: 0.1466906\tbest: 0.1431410 (126)\n",
      "331:\tlearn: 0.0453460\ttest: 0.1466768\tbest: 0.1431410 (126)\n",
      "332:\tlearn: 0.0451762\ttest: 0.1467551\tbest: 0.1431410 (126)\n",
      "333:\tlearn: 0.0450204\ttest: 0.1467809\tbest: 0.1431410 (126)\n",
      "334:\tlearn: 0.0449258\ttest: 0.1467650\tbest: 0.1431410 (126)\n",
      "335:\tlearn: 0.0447783\ttest: 0.1467700\tbest: 0.1431410 (126)\n",
      "336:\tlearn: 0.0446361\ttest: 0.1467963\tbest: 0.1431410 (126)\ttotal: 46.9s\tremaining: 1m 32s\n",
      "337:\tlearn: 0.0444800\ttest: 0.1467234\tbest: 0.1431410 (126)\n",
      "338:\tlearn: 0.0443524\ttest: 0.1468817\tbest: 0.1431410 (126)\n",
      "339:\tlearn: 0.0442742\ttest: 0.1468948\tbest: 0.1431410 (126)\n",
      "340:\tlearn: 0.0441550\ttest: 0.1469865\tbest: 0.1431410 (126)\n",
      "341:\tlearn: 0.0440567\ttest: 0.1470126\tbest: 0.1431410 (126)\n",
      "342:\tlearn: 0.0439597\ttest: 0.1470624\tbest: 0.1431410 (126)\n",
      "343:\tlearn: 0.0438536\ttest: 0.1470684\tbest: 0.1431410 (126)\n",
      "344:\tlearn: 0.0436854\ttest: 0.1471360\tbest: 0.1431410 (126)\n",
      "345:\tlearn: 0.0435128\ttest: 0.1471895\tbest: 0.1431410 (126)\n",
      "346:\tlearn: 0.0433731\ttest: 0.1470735\tbest: 0.1431410 (126)\n",
      "347:\tlearn: 0.0432522\ttest: 0.1471984\tbest: 0.1431410 (126)\n",
      "348:\tlearn: 0.0431238\ttest: 0.1473006\tbest: 0.1431410 (126)\n",
      "349:\tlearn: 0.0430062\ttest: 0.1473624\tbest: 0.1431410 (126)\n",
      "350:\tlearn: 0.0428853\ttest: 0.1474390\tbest: 0.1431410 (126)\n",
      "351:\tlearn: 0.0427816\ttest: 0.1474146\tbest: 0.1431410 (126)\n",
      "352:\tlearn: 0.0426250\ttest: 0.1474548\tbest: 0.1431410 (126)\n",
      "353:\tlearn: 0.0425103\ttest: 0.1473736\tbest: 0.1431410 (126)\n",
      "354:\tlearn: 0.0423664\ttest: 0.1473752\tbest: 0.1431410 (126)\n",
      "355:\tlearn: 0.0422392\ttest: 0.1473427\tbest: 0.1431410 (126)\ttotal: 50.1s\tremaining: 1m 30s\n",
      "356:\tlearn: 0.0421420\ttest: 0.1473862\tbest: 0.1431410 (126)\n",
      "357:\tlearn: 0.0420656\ttest: 0.1473865\tbest: 0.1431410 (126)\ttotal: 51.7s\tremaining: 1m 32s\n",
      "358:\tlearn: 0.0419317\ttest: 0.1474834\tbest: 0.1431410 (126)\n",
      "359:\tlearn: 0.0417976\ttest: 0.1474729\tbest: 0.1431410 (126)\n",
      "360:\tlearn: 0.0416765\ttest: 0.1475579\tbest: 0.1431410 (126)\n",
      "361:\tlearn: 0.0415554\ttest: 0.1474782\tbest: 0.1431410 (126)\n",
      "362:\tlearn: 0.0414355\ttest: 0.1475152\tbest: 0.1431410 (126)\n",
      "363:\tlearn: 0.0413243\ttest: 0.1475297\tbest: 0.1431410 (126)\n",
      "364:\tlearn: 0.0412046\ttest: 0.1475086\tbest: 0.1431410 (126)\n",
      "365:\tlearn: 0.0410892\ttest: 0.1475052\tbest: 0.1431410 (126)\n",
      "366:\tlearn: 0.0409776\ttest: 0.1474562\tbest: 0.1431410 (126)\n",
      "367:\tlearn: 0.0408185\ttest: 0.1474767\tbest: 0.1431410 (126)\n",
      "368:\tlearn: 0.0407108\ttest: 0.1475677\tbest: 0.1431410 (126)\n",
      "369:\tlearn: 0.0405925\ttest: 0.1476456\tbest: 0.1431410 (126)\n",
      "370:\tlearn: 0.0404800\ttest: 0.1476012\tbest: 0.1431410 (126)\n",
      "371:\tlearn: 0.0403524\ttest: 0.1476144\tbest: 0.1431410 (126)\n",
      "372:\tlearn: 0.0402014\ttest: 0.1475434\tbest: 0.1431410 (126)\n",
      "373:\tlearn: 0.0400720\ttest: 0.1475068\tbest: 0.1431410 (126)\n",
      "374:\tlearn: 0.0399519\ttest: 0.1475340\tbest: 0.1431410 (126)\n",
      "375:\tlearn: 0.0398816\ttest: 0.1475387\tbest: 0.1431410 (126)\n",
      "376:\tlearn: 0.0397947\ttest: 0.1475836\tbest: 0.1431410 (126)\n",
      "377:\tlearn: 0.0396763\ttest: 0.1475528\tbest: 0.1431410 (126)\n",
      "378:\tlearn: 0.0395597\ttest: 0.1475355\tbest: 0.1431410 (126)\n",
      "379:\tlearn: 0.0394702\ttest: 0.1475573\tbest: 0.1431410 (126)\n",
      "380:\tlearn: 0.0393802\ttest: 0.1475363\tbest: 0.1431410 (126)\n",
      "381:\tlearn: 0.0393044\ttest: 0.1475827\tbest: 0.1431410 (126)\n",
      "382:\tlearn: 0.0392172\ttest: 0.1475937\tbest: 0.1431410 (126)\n",
      "383:\tlearn: 0.0391003\ttest: 0.1475988\tbest: 0.1431410 (126)\n",
      "384:\tlearn: 0.0389875\ttest: 0.1476756\tbest: 0.1431410 (126)\n",
      "385:\tlearn: 0.0388772\ttest: 0.1476590\tbest: 0.1431410 (126)\n",
      "386:\tlearn: 0.0387758\ttest: 0.1477098\tbest: 0.1431410 (126)\n",
      "387:\tlearn: 0.0386580\ttest: 0.1476965\tbest: 0.1431410 (126)\n",
      "388:\tlearn: 0.0385532\ttest: 0.1476950\tbest: 0.1431410 (126)\n",
      "389:\tlearn: 0.0384278\ttest: 0.1476704\tbest: 0.1431410 (126)\n",
      "390:\tlearn: 0.0383586\ttest: 0.1476506\tbest: 0.1431410 (126)\n",
      "391:\tlearn: 0.0382525\ttest: 0.1476853\tbest: 0.1431410 (126)\n",
      "392:\tlearn: 0.0381280\ttest: 0.1476791\tbest: 0.1431410 (126)\n",
      "393:\tlearn: 0.0380353\ttest: 0.1477494\tbest: 0.1431410 (126)\n",
      "394:\tlearn: 0.0379420\ttest: 0.1478809\tbest: 0.1431410 (126)\ttotal: 56.7s\tremaining: 1m 26s\n",
      "395:\tlearn: 0.0378485\ttest: 0.1478258\tbest: 0.1431410 (126)\n",
      "396:\tlearn: 0.0377518\ttest: 0.1478337\tbest: 0.1431410 (126)\n",
      "397:\tlearn: 0.0376449\ttest: 0.1479697\tbest: 0.1431410 (126)\n",
      "398:\tlearn: 0.0375346\ttest: 0.1480119\tbest: 0.1431410 (126)\n",
      "399:\tlearn: 0.0374524\ttest: 0.1480058\tbest: 0.1431410 (126)\n",
      "400:\tlearn: 0.0373325\ttest: 0.1479211\tbest: 0.1431410 (126)\n",
      "401:\tlearn: 0.0372017\ttest: 0.1479947\tbest: 0.1431410 (126)\n",
      "402:\tlearn: 0.0370730\ttest: 0.1482177\tbest: 0.1431410 (126)\n",
      "403:\tlearn: 0.0369770\ttest: 0.1482850\tbest: 0.1431410 (126)\n",
      "404:\tlearn: 0.0369187\ttest: 0.1482917\tbest: 0.1431410 (126)\n",
      "405:\tlearn: 0.0368070\ttest: 0.1482665\tbest: 0.1431410 (126)\n",
      "406:\tlearn: 0.0366933\ttest: 0.1482870\tbest: 0.1431410 (126)\n",
      "407:\tlearn: 0.0366248\ttest: 0.1483639\tbest: 0.1431410 (126)\n",
      "408:\tlearn: 0.0365220\ttest: 0.1484676\tbest: 0.1431410 (126)\n",
      "409:\tlearn: 0.0364246\ttest: 0.1484915\tbest: 0.1431410 (126)\n",
      "410:\tlearn: 0.0362934\ttest: 0.1484411\tbest: 0.1431410 (126)\n",
      "411:\tlearn: 0.0362057\ttest: 0.1484935\tbest: 0.1431410 (126)\n",
      "412:\tlearn: 0.0361330\ttest: 0.1486079\tbest: 0.1431410 (126)\n",
      "413:\tlearn: 0.0360327\ttest: 0.1486148\tbest: 0.1431410 (126)\n",
      "414:\tlearn: 0.0359454\ttest: 0.1486019\tbest: 0.1431410 (126)\n",
      "415:\tlearn: 0.0358142\ttest: 0.1487399\tbest: 0.1431410 (126)\n",
      "416:\tlearn: 0.0357176\ttest: 0.1487081\tbest: 0.1431410 (126)\n",
      "417:\tlearn: 0.0356121\ttest: 0.1486973\tbest: 0.1431410 (126)\n",
      "418:\tlearn: 0.0355140\ttest: 0.1487463\tbest: 0.1431410 (126)\n",
      "419:\tlearn: 0.0354420\ttest: 0.1487533\tbest: 0.1431410 (126)\ttotal: 1m\tremaining: 1m 23s\n",
      "420:\tlearn: 0.0353663\ttest: 0.1487269\tbest: 0.1431410 (126)\n",
      "421:\tlearn: 0.0352542\ttest: 0.1488528\tbest: 0.1431410 (126)\n",
      "422:\tlearn: 0.0351737\ttest: 0.1489250\tbest: 0.1431410 (126)\n",
      "423:\tlearn: 0.0351078\ttest: 0.1488844\tbest: 0.1431410 (126)\n",
      "424:\tlearn: 0.0349954\ttest: 0.1489013\tbest: 0.1431410 (126)\n",
      "425:\tlearn: 0.0349043\ttest: 0.1489008\tbest: 0.1431410 (126)\n",
      "426:\tlearn: 0.0348163\ttest: 0.1488646\tbest: 0.1431410 (126)\n",
      "427:\tlearn: 0.0347345\ttest: 0.1489018\tbest: 0.1431410 (126)\n",
      "428:\tlearn: 0.0346310\ttest: 0.1488549\tbest: 0.1431410 (126)\n",
      "429:\tlearn: 0.0345409\ttest: 0.1490080\tbest: 0.1431410 (126)\n",
      "430:\tlearn: 0.0344615\ttest: 0.1490736\tbest: 0.1431410 (126)\n",
      "431:\tlearn: 0.0343661\ttest: 0.1490652\tbest: 0.1431410 (126)\n",
      "432:\tlearn: 0.0342655\ttest: 0.1489984\tbest: 0.1431410 (126)\n",
      "433:\tlearn: 0.0341910\ttest: 0.1489056\tbest: 0.1431410 (126)\n",
      "434:\tlearn: 0.0341059\ttest: 0.1489719\tbest: 0.1431410 (126)\n",
      "435:\tlearn: 0.0339939\ttest: 0.1490218\tbest: 0.1431410 (126)\n",
      "436:\tlearn: 0.0339161\ttest: 0.1490911\tbest: 0.1431410 (126)\n",
      "437:\tlearn: 0.0338031\ttest: 0.1491671\tbest: 0.1431410 (126)\n",
      "438:\tlearn: 0.0336919\ttest: 0.1491560\tbest: 0.1431410 (126)\ttotal: 1m 3s\tremaining: 1m 21s\n",
      "439:\tlearn: 0.0335909\ttest: 0.1491757\tbest: 0.1431410 (126)\n",
      "440:\tlearn: 0.0335004\ttest: 0.1492199\tbest: 0.1431410 (126)\n",
      "441:\tlearn: 0.0334356\ttest: 0.1492455\tbest: 0.1431410 (126)\n",
      "442:\tlearn: 0.0333498\ttest: 0.1493848\tbest: 0.1431410 (126)\n",
      "443:\tlearn: 0.0332692\ttest: 0.1494019\tbest: 0.1431410 (126)\n",
      "444:\tlearn: 0.0331776\ttest: 0.1494562\tbest: 0.1431410 (126)\n",
      "445:\tlearn: 0.0330990\ttest: 0.1495003\tbest: 0.1431410 (126)\n",
      "446:\tlearn: 0.0330071\ttest: 0.1494830\tbest: 0.1431410 (126)\n",
      "447:\tlearn: 0.0329275\ttest: 0.1495358\tbest: 0.1431410 (126)\n",
      "448:\tlearn: 0.0328341\ttest: 0.1495272\tbest: 0.1431410 (126)\n",
      "449:\tlearn: 0.0327373\ttest: 0.1495131\tbest: 0.1431410 (126)\n",
      "450:\tlearn: 0.0326137\ttest: 0.1495138\tbest: 0.1431410 (126)\n",
      "451:\tlearn: 0.0325006\ttest: 0.1494813\tbest: 0.1431410 (126)\n",
      "452:\tlearn: 0.0324159\ttest: 0.1494458\tbest: 0.1431410 (126)\n",
      "453:\tlearn: 0.0323667\ttest: 0.1494395\tbest: 0.1431410 (126)\n",
      "454:\tlearn: 0.0322601\ttest: 0.1494115\tbest: 0.1431410 (126)\n",
      "455:\tlearn: 0.0321695\ttest: 0.1494242\tbest: 0.1431410 (126)\n",
      "456:\tlearn: 0.0320858\ttest: 0.1494901\tbest: 0.1431410 (126)\n",
      "457:\tlearn: 0.0320034\ttest: 0.1495267\tbest: 0.1431410 (126)\n",
      "458:\tlearn: 0.0318806\ttest: 0.1495593\tbest: 0.1431410 (126)\n",
      "459:\tlearn: 0.0318178\ttest: 0.1495634\tbest: 0.1431410 (126)\n",
      "460:\tlearn: 0.0317428\ttest: 0.1495917\tbest: 0.1431410 (126)\n",
      "461:\tlearn: 0.0316794\ttest: 0.1496612\tbest: 0.1431410 (126)\n",
      "462:\tlearn: 0.0316032\ttest: 0.1496403\tbest: 0.1431410 (126)\n",
      "463:\tlearn: 0.0315469\ttest: 0.1496307\tbest: 0.1431410 (126)\n",
      "464:\tlearn: 0.0314550\ttest: 0.1496292\tbest: 0.1431410 (126)\n",
      "465:\tlearn: 0.0313544\ttest: 0.1496654\tbest: 0.1431410 (126)\ttotal: 1m 7s\tremaining: 1m 17s\n",
      "466:\tlearn: 0.0312652\ttest: 0.1497201\tbest: 0.1431410 (126)\n",
      "467:\tlearn: 0.0311885\ttest: 0.1497715\tbest: 0.1431410 (126)\n",
      "468:\tlearn: 0.0310830\ttest: 0.1498636\tbest: 0.1431410 (126)\n",
      "469:\tlearn: 0.0310163\ttest: 0.1498412\tbest: 0.1431410 (126)\n",
      "470:\tlearn: 0.0309157\ttest: 0.1498458\tbest: 0.1431410 (126)\n",
      "471:\tlearn: 0.0308394\ttest: 0.1499163\tbest: 0.1431410 (126)\n",
      "472:\tlearn: 0.0307454\ttest: 0.1499454\tbest: 0.1431410 (126)\n",
      "473:\tlearn: 0.0306720\ttest: 0.1499109\tbest: 0.1431410 (126)\n",
      "474:\tlearn: 0.0305947\ttest: 0.1498278\tbest: 0.1431410 (126)\n",
      "475:\tlearn: 0.0304884\ttest: 0.1498650\tbest: 0.1431410 (126)\n",
      "476:\tlearn: 0.0303793\ttest: 0.1498900\tbest: 0.1431410 (126)\n",
      "477:\tlearn: 0.0302729\ttest: 0.1499845\tbest: 0.1431410 (126)\n",
      "478:\tlearn: 0.0301964\ttest: 0.1499663\tbest: 0.1431410 (126)\n",
      "479:\tlearn: 0.0301284\ttest: 0.1500115\tbest: 0.1431410 (126)\n",
      "480:\tlearn: 0.0300436\ttest: 0.1500132\tbest: 0.1431410 (126)\n",
      "481:\tlearn: 0.0299739\ttest: 0.1500523\tbest: 0.1431410 (126)\n",
      "482:\tlearn: 0.0298655\ttest: 0.1500658\tbest: 0.1431410 (126)\n",
      "483:\tlearn: 0.0297952\ttest: 0.1500256\tbest: 0.1431410 (126)\n",
      "484:\tlearn: 0.0297398\ttest: 0.1499616\tbest: 0.1431410 (126)\n",
      "485:\tlearn: 0.0296512\ttest: 0.1499415\tbest: 0.1431410 (126)\n",
      "486:\tlearn: 0.0295772\ttest: 0.1500124\tbest: 0.1431410 (126)\n",
      "487:\tlearn: 0.0294753\ttest: 0.1500049\tbest: 0.1431410 (126)\n",
      "488:\tlearn: 0.0293868\ttest: 0.1500267\tbest: 0.1431410 (126)\n",
      "489:\tlearn: 0.0293278\ttest: 0.1500855\tbest: 0.1431410 (126)\n",
      "490:\tlearn: 0.0292408\ttest: 0.1501100\tbest: 0.1431410 (126)\n",
      "491:\tlearn: 0.0291408\ttest: 0.1501271\tbest: 0.1431410 (126)\n",
      "492:\tlearn: 0.0290556\ttest: 0.1502264\tbest: 0.1431410 (126)\n",
      "493:\tlearn: 0.0289730\ttest: 0.1501613\tbest: 0.1431410 (126)\n",
      "494:\tlearn: 0.0288954\ttest: 0.1501367\tbest: 0.1431410 (126)\n",
      "495:\tlearn: 0.0288102\ttest: 0.1502016\tbest: 0.1431410 (126)\n",
      "496:\tlearn: 0.0287345\ttest: 0.1502563\tbest: 0.1431410 (126)\n",
      "497:\tlearn: 0.0286623\ttest: 0.1502479\tbest: 0.1431410 (126)\n",
      "498:\tlearn: 0.0285885\ttest: 0.1503075\tbest: 0.1431410 (126)\n",
      "499:\tlearn: 0.0285044\ttest: 0.1503189\tbest: 0.1431410 (126)\n",
      "500:\tlearn: 0.0284168\ttest: 0.1503509\tbest: 0.1431410 (126)\n",
      "501:\tlearn: 0.0283186\ttest: 0.1503031\tbest: 0.1431410 (126)\n",
      "502:\tlearn: 0.0282244\ttest: 0.1503159\tbest: 0.1431410 (126)\n",
      "503:\tlearn: 0.0281380\ttest: 0.1503525\tbest: 0.1431410 (126)\n",
      "504:\tlearn: 0.0280721\ttest: 0.1504135\tbest: 0.1431410 (126)\n",
      "505:\tlearn: 0.0280028\ttest: 0.1504583\tbest: 0.1431410 (126)\n",
      "506:\tlearn: 0.0279363\ttest: 0.1504748\tbest: 0.1431410 (126)\n",
      "507:\tlearn: 0.0278282\ttest: 0.1505285\tbest: 0.1431410 (126)\n",
      "508:\tlearn: 0.0277713\ttest: 0.1504813\tbest: 0.1431410 (126)\n",
      "509:\tlearn: 0.0277019\ttest: 0.1504928\tbest: 0.1431410 (126)\n",
      "510:\tlearn: 0.0276318\ttest: 0.1505039\tbest: 0.1431410 (126)\n",
      "511:\tlearn: 0.0275243\ttest: 0.1505040\tbest: 0.1431410 (126)\n",
      "512:\tlearn: 0.0274243\ttest: 0.1505675\tbest: 0.1431410 (126)\n",
      "513:\tlearn: 0.0273264\ttest: 0.1505104\tbest: 0.1431410 (126)\n",
      "514:\tlearn: 0.0272524\ttest: 0.1506540\tbest: 0.1431410 (126)\n",
      "515:\tlearn: 0.0271709\ttest: 0.1506851\tbest: 0.1431410 (126)\n",
      "516:\tlearn: 0.0271037\ttest: 0.1507702\tbest: 0.1431410 (126)\n",
      "517:\tlearn: 0.0270355\ttest: 0.1508094\tbest: 0.1431410 (126)\n",
      "518:\tlearn: 0.0269590\ttest: 0.1509410\tbest: 0.1431410 (126)\n",
      "519:\tlearn: 0.0268993\ttest: 0.1509576\tbest: 0.1431410 (126)\n",
      "520:\tlearn: 0.0268079\ttest: 0.1510121\tbest: 0.1431410 (126)\n",
      "521:\tlearn: 0.0267408\ttest: 0.1510408\tbest: 0.1431410 (126)\ttotal: 1m 14s\tremaining: 1m 8s\n",
      "522:\tlearn: 0.0266885\ttest: 0.1510590\tbest: 0.1431410 (126)\n",
      "523:\tlearn: 0.0266194\ttest: 0.1510634\tbest: 0.1431410 (126)\n",
      "524:\tlearn: 0.0265443\ttest: 0.1510536\tbest: 0.1431410 (126)\n",
      "525:\tlearn: 0.0264729\ttest: 0.1510827\tbest: 0.1431410 (126)\n",
      "526:\tlearn: 0.0263925\ttest: 0.1510419\tbest: 0.1431410 (126)\n",
      "527:\tlearn: 0.0263287\ttest: 0.1511163\tbest: 0.1431410 (126)\n",
      "528:\tlearn: 0.0262702\ttest: 0.1511244\tbest: 0.1431410 (126)\n",
      "529:\tlearn: 0.0261851\ttest: 0.1511539\tbest: 0.1431410 (126)\n",
      "530:\tlearn: 0.0261065\ttest: 0.1511452\tbest: 0.1431410 (126)\n",
      "531:\tlearn: 0.0260331\ttest: 0.1512205\tbest: 0.1431410 (126)\n",
      "532:\tlearn: 0.0259708\ttest: 0.1512405\tbest: 0.1431410 (126)\n",
      "533:\tlearn: 0.0259202\ttest: 0.1512358\tbest: 0.1431410 (126)\n",
      "534:\tlearn: 0.0258560\ttest: 0.1512214\tbest: 0.1431410 (126)\n",
      "535:\tlearn: 0.0257998\ttest: 0.1512251\tbest: 0.1431410 (126)\n",
      "536:\tlearn: 0.0257491\ttest: 0.1511969\tbest: 0.1431410 (126)\n",
      "537:\tlearn: 0.0256906\ttest: 0.1512326\tbest: 0.1431410 (126)\n",
      "538:\tlearn: 0.0256138\ttest: 0.1512026\tbest: 0.1431410 (126)\n",
      "539:\tlearn: 0.0255425\ttest: 0.1512084\tbest: 0.1431410 (126)\n",
      "540:\tlearn: 0.0254859\ttest: 0.1512356\tbest: 0.1431410 (126)\n",
      "541:\tlearn: 0.0254068\ttest: 0.1512688\tbest: 0.1431410 (126)\n",
      "542:\tlearn: 0.0253608\ttest: 0.1513261\tbest: 0.1431410 (126)\n",
      "543:\tlearn: 0.0253118\ttest: 0.1513284\tbest: 0.1431410 (126)\n",
      "544:\tlearn: 0.0252553\ttest: 0.1512875\tbest: 0.1431410 (126)\n",
      "545:\tlearn: 0.0251895\ttest: 0.1512898\tbest: 0.1431410 (126)\n",
      "546:\tlearn: 0.0251232\ttest: 0.1513091\tbest: 0.1431410 (126)\n",
      "547:\tlearn: 0.0250756\ttest: 0.1513219\tbest: 0.1431410 (126)\n",
      "548:\tlearn: 0.0250130\ttest: 0.1513409\tbest: 0.1431410 (126)\n",
      "549:\tlearn: 0.0249519\ttest: 0.1513471\tbest: 0.1431410 (126)\n",
      "550:\tlearn: 0.0248887\ttest: 0.1514280\tbest: 0.1431410 (126)\n",
      "551:\tlearn: 0.0248292\ttest: 0.1514239\tbest: 0.1431410 (126)\n",
      "552:\tlearn: 0.0247842\ttest: 0.1514604\tbest: 0.1431410 (126)\n",
      "553:\tlearn: 0.0247309\ttest: 0.1515185\tbest: 0.1431410 (126)\ttotal: 1m 19s\tremaining: 1m 4s\n",
      "554:\tlearn: 0.0246862\ttest: 0.1515914\tbest: 0.1431410 (126)\n",
      "555:\tlearn: 0.0246355\ttest: 0.1516316\tbest: 0.1431410 (126)\n",
      "556:\tlearn: 0.0245764\ttest: 0.1516105\tbest: 0.1431410 (126)\n",
      "557:\tlearn: 0.0245140\ttest: 0.1516207\tbest: 0.1431410 (126)\n",
      "558:\tlearn: 0.0244458\ttest: 0.1516225\tbest: 0.1431410 (126)\n",
      "559:\tlearn: 0.0243771\ttest: 0.1516415\tbest: 0.1431410 (126)\n",
      "560:\tlearn: 0.0243237\ttest: 0.1516930\tbest: 0.1431410 (126)\n",
      "561:\tlearn: 0.0242673\ttest: 0.1516921\tbest: 0.1431410 (126)\n",
      "562:\tlearn: 0.0242126\ttest: 0.1516647\tbest: 0.1431410 (126)\n",
      "563:\tlearn: 0.0241551\ttest: 0.1517121\tbest: 0.1431410 (126)\n",
      "564:\tlearn: 0.0241029\ttest: 0.1516794\tbest: 0.1431410 (126)\n",
      "565:\tlearn: 0.0240487\ttest: 0.1517377\tbest: 0.1431410 (126)\n",
      "566:\tlearn: 0.0239791\ttest: 0.1517543\tbest: 0.1431410 (126)\n",
      "567:\tlearn: 0.0239236\ttest: 0.1517613\tbest: 0.1431410 (126)\n",
      "568:\tlearn: 0.0238563\ttest: 0.1518025\tbest: 0.1431410 (126)\n",
      "569:\tlearn: 0.0238026\ttest: 0.1518196\tbest: 0.1431410 (126)\n",
      "570:\tlearn: 0.0237609\ttest: 0.1518120\tbest: 0.1431410 (126)\n",
      "571:\tlearn: 0.0237157\ttest: 0.1518358\tbest: 0.1431410 (126)\n",
      "572:\tlearn: 0.0236759\ttest: 0.1518476\tbest: 0.1431410 (126)\n",
      "573:\tlearn: 0.0236200\ttest: 0.1519777\tbest: 0.1431410 (126)\n",
      "574:\tlearn: 0.0235816\ttest: 0.1520108\tbest: 0.1431410 (126)\n",
      "575:\tlearn: 0.0235494\ttest: 0.1520342\tbest: 0.1431410 (126)\n",
      "576:\tlearn: 0.0234923\ttest: 0.1520495\tbest: 0.1431410 (126)\n",
      "577:\tlearn: 0.0234430\ttest: 0.1520850\tbest: 0.1431410 (126)\n",
      "578:\tlearn: 0.0233819\ttest: 0.1520701\tbest: 0.1431410 (126)\n",
      "579:\tlearn: 0.0233223\ttest: 0.1520326\tbest: 0.1431410 (126)\n",
      "580:\tlearn: 0.0232887\ttest: 0.1520529\tbest: 0.1431410 (126)\n",
      "581:\tlearn: 0.0232339\ttest: 0.1520882\tbest: 0.1431410 (126)\n",
      "582:\tlearn: 0.0231865\ttest: 0.1521545\tbest: 0.1431410 (126)\n",
      "583:\tlearn: 0.0231313\ttest: 0.1521844\tbest: 0.1431410 (126)\n",
      "584:\tlearn: 0.0230747\ttest: 0.1522660\tbest: 0.1431410 (126)\n",
      "585:\tlearn: 0.0230119\ttest: 0.1522894\tbest: 0.1431410 (126)\n",
      "586:\tlearn: 0.0229520\ttest: 0.1524162\tbest: 0.1431410 (126)\n",
      "587:\tlearn: 0.0229072\ttest: 0.1524488\tbest: 0.1431410 (126)\n",
      "588:\tlearn: 0.0228624\ttest: 0.1524678\tbest: 0.1431410 (126)\n",
      "589:\tlearn: 0.0228167\ttest: 0.1524907\tbest: 0.1431410 (126)\n",
      "590:\tlearn: 0.0227609\ttest: 0.1524977\tbest: 0.1431410 (126)\n",
      "591:\tlearn: 0.0227029\ttest: 0.1525878\tbest: 0.1431410 (126)\n",
      "592:\tlearn: 0.0226518\ttest: 0.1525580\tbest: 0.1431410 (126)\n",
      "593:\tlearn: 0.0226062\ttest: 0.1525574\tbest: 0.1431410 (126)\n",
      "594:\tlearn: 0.0225583\ttest: 0.1525375\tbest: 0.1431410 (126)\n",
      "595:\tlearn: 0.0225095\ttest: 0.1525763\tbest: 0.1431410 (126)\n",
      "596:\tlearn: 0.0224672\ttest: 0.1525869\tbest: 0.1431410 (126)\n",
      "597:\tlearn: 0.0224231\ttest: 0.1526258\tbest: 0.1431410 (126)\n",
      "598:\tlearn: 0.0223780\ttest: 0.1527083\tbest: 0.1431410 (126)\n",
      "599:\tlearn: 0.0223401\ttest: 0.1527693\tbest: 0.1431410 (126)\n",
      "600:\tlearn: 0.0222955\ttest: 0.1528393\tbest: 0.1431410 (126)\n",
      "601:\tlearn: 0.0222225\ttest: 0.1529204\tbest: 0.1431410 (126)\n",
      "602:\tlearn: 0.0221803\ttest: 0.1529737\tbest: 0.1431410 (126)\n",
      "603:\tlearn: 0.0221319\ttest: 0.1530595\tbest: 0.1431410 (126)\n",
      "604:\tlearn: 0.0220797\ttest: 0.1531137\tbest: 0.1431410 (126)\ttotal: 1m 26s\tremaining: 56.4s\n",
      "605:\tlearn: 0.0220302\ttest: 0.1530660\tbest: 0.1431410 (126)\n",
      "606:\tlearn: 0.0219953\ttest: 0.1530855\tbest: 0.1431410 (126)\n",
      "607:\tlearn: 0.0219495\ttest: 0.1530917\tbest: 0.1431410 (126)\n",
      "608:\tlearn: 0.0219084\ttest: 0.1532049\tbest: 0.1431410 (126)\n",
      "609:\tlearn: 0.0218670\ttest: 0.1531498\tbest: 0.1431410 (126)\n",
      "610:\tlearn: 0.0218197\ttest: 0.1531151\tbest: 0.1431410 (126)\n",
      "611:\tlearn: 0.0217819\ttest: 0.1531305\tbest: 0.1431410 (126)\n",
      "612:\tlearn: 0.0217316\ttest: 0.1531493\tbest: 0.1431410 (126)\n",
      "613:\tlearn: 0.0217052\ttest: 0.1531782\tbest: 0.1431410 (126)\n",
      "614:\tlearn: 0.0216778\ttest: 0.1532180\tbest: 0.1431410 (126)\n",
      "615:\tlearn: 0.0216377\ttest: 0.1532641\tbest: 0.1431410 (126)\n",
      "616:\tlearn: 0.0215952\ttest: 0.1532711\tbest: 0.1431410 (126)\n",
      "617:\tlearn: 0.0215531\ttest: 0.1533006\tbest: 0.1431410 (126)\n",
      "618:\tlearn: 0.0215271\ttest: 0.1533225\tbest: 0.1431410 (126)\n",
      "619:\tlearn: 0.0214945\ttest: 0.1533768\tbest: 0.1431410 (126)\n",
      "620:\tlearn: 0.0214514\ttest: 0.1533791\tbest: 0.1431410 (126)\n",
      "621:\tlearn: 0.0213986\ttest: 0.1534671\tbest: 0.1431410 (126)\n",
      "622:\tlearn: 0.0213441\ttest: 0.1535138\tbest: 0.1431410 (126)\n",
      "623:\tlearn: 0.0212812\ttest: 0.1535614\tbest: 0.1431410 (126)\ttotal: 1m 29s\tremaining: 54.1s\n",
      "624:\tlearn: 0.0212339\ttest: 0.1536711\tbest: 0.1431410 (126)\n",
      "625:\tlearn: 0.0212033\ttest: 0.1536911\tbest: 0.1431410 (126)\n",
      "626:\tlearn: 0.0211599\ttest: 0.1536784\tbest: 0.1431410 (126)\n",
      "627:\tlearn: 0.0211192\ttest: 0.1536666\tbest: 0.1431410 (126)\n",
      "628:\tlearn: 0.0210695\ttest: 0.1537307\tbest: 0.1431410 (126)\n",
      "629:\tlearn: 0.0210212\ttest: 0.1537398\tbest: 0.1431410 (126)\n",
      "630:\tlearn: 0.0209726\ttest: 0.1537580\tbest: 0.1431410 (126)\n",
      "631:\tlearn: 0.0209443\ttest: 0.1538054\tbest: 0.1431410 (126)\n",
      "632:\tlearn: 0.0209005\ttest: 0.1538567\tbest: 0.1431410 (126)\n",
      "633:\tlearn: 0.0208688\ttest: 0.1538954\tbest: 0.1431410 (126)\n",
      "634:\tlearn: 0.0208402\ttest: 0.1539005\tbest: 0.1431410 (126)\n",
      "635:\tlearn: 0.0207886\ttest: 0.1539751\tbest: 0.1431410 (126)\n",
      "636:\tlearn: 0.0207562\ttest: 0.1540303\tbest: 0.1431410 (126)\n",
      "637:\tlearn: 0.0207157\ttest: 0.1540826\tbest: 0.1431410 (126)\n",
      "638:\tlearn: 0.0206738\ttest: 0.1541457\tbest: 0.1431410 (126)\n",
      "639:\tlearn: 0.0206285\ttest: 0.1541807\tbest: 0.1431410 (126)\n",
      "640:\tlearn: 0.0205678\ttest: 0.1542416\tbest: 0.1431410 (126)\n",
      "641:\tlearn: 0.0205216\ttest: 0.1542173\tbest: 0.1431410 (126)\n",
      "642:\tlearn: 0.0205000\ttest: 0.1542748\tbest: 0.1431410 (126)\n",
      "643:\tlearn: 0.0204680\ttest: 0.1543040\tbest: 0.1431410 (126)\n",
      "644:\tlearn: 0.0204310\ttest: 0.1543026\tbest: 0.1431410 (126)\n",
      "645:\tlearn: 0.0203988\ttest: 0.1543126\tbest: 0.1431410 (126)\n",
      "646:\tlearn: 0.0203519\ttest: 0.1543960\tbest: 0.1431410 (126)\n",
      "647:\tlearn: 0.0203090\ttest: 0.1543817\tbest: 0.1431410 (126)\n",
      "648:\tlearn: 0.0202697\ttest: 0.1544418\tbest: 0.1431410 (126)\n",
      "649:\tlearn: 0.0202199\ttest: 0.1544542\tbest: 0.1431410 (126)\n",
      "650:\tlearn: 0.0201869\ttest: 0.1544915\tbest: 0.1431410 (126)\n",
      "651:\tlearn: 0.0201517\ttest: 0.1545123\tbest: 0.1431410 (126)\n",
      "652:\tlearn: 0.0201216\ttest: 0.1545774\tbest: 0.1431410 (126)\n",
      "653:\tlearn: 0.0200916\ttest: 0.1546087\tbest: 0.1431410 (126)\n",
      "654:\tlearn: 0.0200543\ttest: 0.1546511\tbest: 0.1431410 (126)\n",
      "655:\tlearn: 0.0200240\ttest: 0.1547091\tbest: 0.1431410 (126)\n",
      "656:\tlearn: 0.0199829\ttest: 0.1547480\tbest: 0.1431410 (126)\n",
      "657:\tlearn: 0.0199394\ttest: 0.1547913\tbest: 0.1431410 (126)\n",
      "658:\tlearn: 0.0199045\ttest: 0.1548331\tbest: 0.1431410 (126)\ttotal: 1m 34s\tremaining: 49.1s\n",
      "659:\tlearn: 0.0198718\ttest: 0.1548640\tbest: 0.1431410 (126)\n",
      "660:\tlearn: 0.0198317\ttest: 0.1549119\tbest: 0.1431410 (126)\n",
      "661:\tlearn: 0.0197982\ttest: 0.1549610\tbest: 0.1431410 (126)\n",
      "662:\tlearn: 0.0197598\ttest: 0.1549912\tbest: 0.1431410 (126)\n",
      "663:\tlearn: 0.0197342\ttest: 0.1549637\tbest: 0.1431410 (126)\n",
      "664:\tlearn: 0.0196979\ttest: 0.1549974\tbest: 0.1431410 (126)\n",
      "665:\tlearn: 0.0196619\ttest: 0.1550368\tbest: 0.1431410 (126)\n",
      "666:\tlearn: 0.0196252\ttest: 0.1551406\tbest: 0.1431410 (126)\n",
      "667:\tlearn: 0.0195803\ttest: 0.1552137\tbest: 0.1431410 (126)\n",
      "668:\tlearn: 0.0195516\ttest: 0.1552215\tbest: 0.1431410 (126)\n",
      "669:\tlearn: 0.0195111\ttest: 0.1552927\tbest: 0.1431410 (126)\n",
      "670:\tlearn: 0.0194844\ttest: 0.1553047\tbest: 0.1431410 (126)\n",
      "671:\tlearn: 0.0194514\ttest: 0.1553217\tbest: 0.1431410 (126)\n",
      "672:\tlearn: 0.0194213\ttest: 0.1553446\tbest: 0.1431410 (126)\n",
      "673:\tlearn: 0.0193723\ttest: 0.1554099\tbest: 0.1431410 (126)\n",
      "674:\tlearn: 0.0193347\ttest: 0.1554697\tbest: 0.1431410 (126)\n",
      "675:\tlearn: 0.0192929\ttest: 0.1554804\tbest: 0.1431410 (126)\n",
      "676:\tlearn: 0.0192509\ttest: 0.1555357\tbest: 0.1431410 (126)\n",
      "677:\tlearn: 0.0192210\ttest: 0.1555424\tbest: 0.1431410 (126)\n",
      "678:\tlearn: 0.0191930\ttest: 0.1555869\tbest: 0.1431410 (126)\n",
      "679:\tlearn: 0.0191507\ttest: 0.1556781\tbest: 0.1431410 (126)\n",
      "680:\tlearn: 0.0191097\ttest: 0.1557727\tbest: 0.1431410 (126)\n",
      "681:\tlearn: 0.0190753\ttest: 0.1557903\tbest: 0.1431410 (126)\n",
      "682:\tlearn: 0.0190431\ttest: 0.1558586\tbest: 0.1431410 (126)\n",
      "683:\tlearn: 0.0189839\ttest: 0.1559814\tbest: 0.1431410 (126)\n",
      "684:\tlearn: 0.0189519\ttest: 0.1560590\tbest: 0.1431410 (126)\n",
      "685:\tlearn: 0.0189157\ttest: 0.1561214\tbest: 0.1431410 (126)\n",
      "686:\tlearn: 0.0188809\ttest: 0.1562221\tbest: 0.1431410 (126)\n",
      "687:\tlearn: 0.0188422\ttest: 0.1562065\tbest: 0.1431410 (126)\n",
      "688:\tlearn: 0.0188174\ttest: 0.1562407\tbest: 0.1431410 (126)\n",
      "689:\tlearn: 0.0187843\ttest: 0.1563307\tbest: 0.1431410 (126)\n",
      "690:\tlearn: 0.0187570\ttest: 0.1564074\tbest: 0.1431410 (126)\n",
      "691:\tlearn: 0.0187249\ttest: 0.1564109\tbest: 0.1431410 (126)\n",
      "692:\tlearn: 0.0186857\ttest: 0.1564477\tbest: 0.1431410 (126)\n",
      "693:\tlearn: 0.0186580\ttest: 0.1564526\tbest: 0.1431410 (126)\n",
      "694:\tlearn: 0.0186232\ttest: 0.1564948\tbest: 0.1431410 (126)\n",
      "695:\tlearn: 0.0185846\ttest: 0.1566010\tbest: 0.1431410 (126)\n",
      "696:\tlearn: 0.0185540\ttest: 0.1566790\tbest: 0.1431410 (126)\ttotal: 1m 40s\tremaining: 43.6s\n",
      "697:\tlearn: 0.0185342\ttest: 0.1567341\tbest: 0.1431410 (126)\n",
      "698:\tlearn: 0.0184858\ttest: 0.1567788\tbest: 0.1431410 (126)\n",
      "699:\tlearn: 0.0184557\ttest: 0.1568499\tbest: 0.1431410 (126)\n",
      "700:\tlearn: 0.0184221\ttest: 0.1569078\tbest: 0.1431410 (126)\n",
      "701:\tlearn: 0.0183822\ttest: 0.1569759\tbest: 0.1431410 (126)\n",
      "702:\tlearn: 0.0183508\ttest: 0.1570006\tbest: 0.1431410 (126)\n",
      "703:\tlearn: 0.0183067\ttest: 0.1570109\tbest: 0.1431410 (126)\n",
      "704:\tlearn: 0.0182769\ttest: 0.1570344\tbest: 0.1431410 (126)\n",
      "705:\tlearn: 0.0182411\ttest: 0.1570472\tbest: 0.1431410 (126)\n",
      "706:\tlearn: 0.0182116\ttest: 0.1571323\tbest: 0.1431410 (126)\n",
      "707:\tlearn: 0.0181701\ttest: 0.1571704\tbest: 0.1431410 (126)\n",
      "708:\tlearn: 0.0181316\ttest: 0.1572068\tbest: 0.1431410 (126)\n",
      "709:\tlearn: 0.0181055\ttest: 0.1572422\tbest: 0.1431410 (126)\n",
      "710:\tlearn: 0.0180576\ttest: 0.1573090\tbest: 0.1431410 (126)\n",
      "711:\tlearn: 0.0180322\ttest: 0.1573822\tbest: 0.1431410 (126)\n",
      "712:\tlearn: 0.0180025\ttest: 0.1573623\tbest: 0.1431410 (126)\n",
      "713:\tlearn: 0.0179683\ttest: 0.1574269\tbest: 0.1431410 (126)\n",
      "714:\tlearn: 0.0179228\ttest: 0.1574978\tbest: 0.1431410 (126)\n",
      "715:\tlearn: 0.0178878\ttest: 0.1575235\tbest: 0.1431410 (126)\n",
      "716:\tlearn: 0.0178488\ttest: 0.1575095\tbest: 0.1431410 (126)\n",
      "717:\tlearn: 0.0178097\ttest: 0.1575262\tbest: 0.1431410 (126)\n",
      "718:\tlearn: 0.0177934\ttest: 0.1575537\tbest: 0.1431410 (126)\n",
      "719:\tlearn: 0.0177729\ttest: 0.1575606\tbest: 0.1431410 (126)\n",
      "720:\tlearn: 0.0177418\ttest: 0.1575942\tbest: 0.1431410 (126)\n",
      "721:\tlearn: 0.0177010\ttest: 0.1576726\tbest: 0.1431410 (126)\n",
      "722:\tlearn: 0.0176603\ttest: 0.1577261\tbest: 0.1431410 (126)\n",
      "723:\tlearn: 0.0176261\ttest: 0.1577658\tbest: 0.1431410 (126)\n",
      "724:\tlearn: 0.0175970\ttest: 0.1577579\tbest: 0.1431410 (126)\n",
      "725:\tlearn: 0.0175662\ttest: 0.1578443\tbest: 0.1431410 (126)\n",
      "726:\tlearn: 0.0175297\ttest: 0.1578794\tbest: 0.1431410 (126)\n",
      "727:\tlearn: 0.0175013\ttest: 0.1578658\tbest: 0.1431410 (126)\n",
      "728:\tlearn: 0.0174684\ttest: 0.1579482\tbest: 0.1431410 (126)\n",
      "729:\tlearn: 0.0174438\ttest: 0.1579494\tbest: 0.1431410 (126)\n",
      "730:\tlearn: 0.0174086\ttest: 0.1579968\tbest: 0.1431410 (126)\n",
      "731:\tlearn: 0.0173779\ttest: 0.1580503\tbest: 0.1431410 (126)\n",
      "732:\tlearn: 0.0173542\ttest: 0.1580738\tbest: 0.1431410 (126)\n",
      "733:\tlearn: 0.0173247\ttest: 0.1580855\tbest: 0.1431410 (126)\n",
      "734:\tlearn: 0.0173019\ttest: 0.1581049\tbest: 0.1431410 (126)\n",
      "735:\tlearn: 0.0172777\ttest: 0.1581169\tbest: 0.1431410 (126)\ttotal: 1m 45s\tremaining: 38s\n",
      "736:\tlearn: 0.0172393\ttest: 0.1582346\tbest: 0.1431410 (126)\n",
      "737:\tlearn: 0.0172085\ttest: 0.1583293\tbest: 0.1431410 (126)\n",
      "738:\tlearn: 0.0171877\ttest: 0.1583606\tbest: 0.1431410 (126)\n",
      "739:\tlearn: 0.0171613\ttest: 0.1584087\tbest: 0.1431410 (126)\n",
      "740:\tlearn: 0.0171275\ttest: 0.1584330\tbest: 0.1431410 (126)\n",
      "741:\tlearn: 0.0171061\ttest: 0.1584472\tbest: 0.1431410 (126)\n",
      "742:\tlearn: 0.0170823\ttest: 0.1585065\tbest: 0.1431410 (126)\n",
      "743:\tlearn: 0.0170532\ttest: 0.1585872\tbest: 0.1431410 (126)\n",
      "744:\tlearn: 0.0170233\ttest: 0.1586047\tbest: 0.1431410 (126)\n",
      "745:\tlearn: 0.0169979\ttest: 0.1586570\tbest: 0.1431410 (126)\n",
      "746:\tlearn: 0.0169689\ttest: 0.1587164\tbest: 0.1431410 (126)\n",
      "747:\tlearn: 0.0169430\ttest: 0.1588061\tbest: 0.1431410 (126)\n",
      "748:\tlearn: 0.0169254\ttest: 0.1588007\tbest: 0.1431410 (126)\n",
      "749:\tlearn: 0.0168915\ttest: 0.1588344\tbest: 0.1431410 (126)\n",
      "750:\tlearn: 0.0168622\ttest: 0.1588154\tbest: 0.1431410 (126)\n",
      "751:\tlearn: 0.0168226\ttest: 0.1588313\tbest: 0.1431410 (126)\n",
      "752:\tlearn: 0.0167982\ttest: 0.1588490\tbest: 0.1431410 (126)\n",
      "753:\tlearn: 0.0167669\ttest: 0.1589035\tbest: 0.1431410 (126)\n",
      "754:\tlearn: 0.0167551\ttest: 0.1588890\tbest: 0.1431410 (126)\n",
      "755:\tlearn: 0.0167286\ttest: 0.1589094\tbest: 0.1431410 (126)\n",
      "756:\tlearn: 0.0167082\ttest: 0.1589292\tbest: 0.1431410 (126)\n",
      "757:\tlearn: 0.0166762\ttest: 0.1589742\tbest: 0.1431410 (126)\ttotal: 1m 49s\tremaining: 35.1s\n",
      "758:\tlearn: 0.0166450\ttest: 0.1589916\tbest: 0.1431410 (126)\n",
      "759:\tlearn: 0.0166063\ttest: 0.1590261\tbest: 0.1431410 (126)\n",
      "760:\tlearn: 0.0165799\ttest: 0.1590973\tbest: 0.1431410 (126)\n",
      "761:\tlearn: 0.0165499\ttest: 0.1591361\tbest: 0.1431410 (126)\n",
      "762:\tlearn: 0.0165351\ttest: 0.1591307\tbest: 0.1431410 (126)\n",
      "763:\tlearn: 0.0165125\ttest: 0.1592084\tbest: 0.1431410 (126)\n",
      "764:\tlearn: 0.0164798\ttest: 0.1592274\tbest: 0.1431410 (126)\n",
      "765:\tlearn: 0.0164511\ttest: 0.1592927\tbest: 0.1431410 (126)\n",
      "766:\tlearn: 0.0164292\ttest: 0.1592909\tbest: 0.1431410 (126)\n",
      "767:\tlearn: 0.0163926\ttest: 0.1593141\tbest: 0.1431410 (126)\n",
      "768:\tlearn: 0.0163720\ttest: 0.1593511\tbest: 0.1431410 (126)\n",
      "769:\tlearn: 0.0163482\ttest: 0.1593209\tbest: 0.1431410 (126)\n",
      "770:\tlearn: 0.0163243\ttest: 0.1593543\tbest: 0.1431410 (126)\n",
      "771:\tlearn: 0.0163034\ttest: 0.1593882\tbest: 0.1431410 (126)\n",
      "772:\tlearn: 0.0162690\ttest: 0.1594372\tbest: 0.1431410 (126)\n",
      "773:\tlearn: 0.0162429\ttest: 0.1594623\tbest: 0.1431410 (126)\n",
      "774:\tlearn: 0.0162206\ttest: 0.1594740\tbest: 0.1431410 (126)\n",
      "775:\tlearn: 0.0161948\ttest: 0.1594520\tbest: 0.1431410 (126)\n",
      "776:\tlearn: 0.0161718\ttest: 0.1595077\tbest: 0.1431410 (126)\n",
      "777:\tlearn: 0.0161491\ttest: 0.1594961\tbest: 0.1431410 (126)\n",
      "778:\tlearn: 0.0161282\ttest: 0.1595350\tbest: 0.1431410 (126)\n",
      "779:\tlearn: 0.0160953\ttest: 0.1595744\tbest: 0.1431410 (126)\n",
      "780:\tlearn: 0.0160661\ttest: 0.1596561\tbest: 0.1431410 (126)\ttotal: 1m 53s\tremaining: 31.9s\n",
      "781:\tlearn: 0.0160324\ttest: 0.1597588\tbest: 0.1431410 (126)\n",
      "782:\tlearn: 0.0160043\ttest: 0.1598125\tbest: 0.1431410 (126)\n",
      "783:\tlearn: 0.0159866\ttest: 0.1597943\tbest: 0.1431410 (126)\n",
      "784:\tlearn: 0.0159580\ttest: 0.1598469\tbest: 0.1431410 (126)\n",
      "785:\tlearn: 0.0159373\ttest: 0.1599662\tbest: 0.1431410 (126)\n",
      "786:\tlearn: 0.0159125\ttest: 0.1600275\tbest: 0.1431410 (126)\n",
      "787:\tlearn: 0.0158842\ttest: 0.1600563\tbest: 0.1431410 (126)\n",
      "788:\tlearn: 0.0158589\ttest: 0.1601197\tbest: 0.1431410 (126)\n",
      "789:\tlearn: 0.0158487\ttest: 0.1601644\tbest: 0.1431410 (126)\n",
      "790:\tlearn: 0.0158282\ttest: 0.1602076\tbest: 0.1431410 (126)\n",
      "791:\tlearn: 0.0158019\ttest: 0.1602607\tbest: 0.1431410 (126)\n",
      "792:\tlearn: 0.0157759\ttest: 0.1602863\tbest: 0.1431410 (126)\n",
      "793:\tlearn: 0.0157434\ttest: 0.1602962\tbest: 0.1431410 (126)\n",
      "794:\tlearn: 0.0157133\ttest: 0.1603377\tbest: 0.1431410 (126)\n",
      "795:\tlearn: 0.0156994\ttest: 0.1603847\tbest: 0.1431410 (126)\n",
      "796:\tlearn: 0.0156709\ttest: 0.1604062\tbest: 0.1431410 (126)\n",
      "797:\tlearn: 0.0156431\ttest: 0.1604653\tbest: 0.1431410 (126)\n",
      "798:\tlearn: 0.0156244\ttest: 0.1605026\tbest: 0.1431410 (126)\n",
      "799:\tlearn: 0.0155991\ttest: 0.1604902\tbest: 0.1431410 (126)\n",
      "800:\tlearn: 0.0155840\ttest: 0.1604950\tbest: 0.1431410 (126)\n",
      "801:\tlearn: 0.0155633\ttest: 0.1605100\tbest: 0.1431410 (126)\n",
      "802:\tlearn: 0.0155320\ttest: 0.1605513\tbest: 0.1431410 (126)\n",
      "803:\tlearn: 0.0155125\ttest: 0.1606044\tbest: 0.1431410 (126)\n",
      "804:\tlearn: 0.0154880\ttest: 0.1606450\tbest: 0.1431410 (126)\n",
      "805:\tlearn: 0.0154634\ttest: 0.1607108\tbest: 0.1431410 (126)\n",
      "806:\tlearn: 0.0154477\ttest: 0.1607517\tbest: 0.1431410 (126)\n",
      "807:\tlearn: 0.0154200\ttest: 0.1607714\tbest: 0.1431410 (126)\n",
      "808:\tlearn: 0.0153956\ttest: 0.1607739\tbest: 0.1431410 (126)\n",
      "809:\tlearn: 0.0153743\ttest: 0.1607932\tbest: 0.1431410 (126)\n",
      "810:\tlearn: 0.0153491\ttest: 0.1608577\tbest: 0.1431410 (126)\n",
      "811:\tlearn: 0.0153203\ttest: 0.1608701\tbest: 0.1431410 (126)\n",
      "812:\tlearn: 0.0152920\ttest: 0.1608816\tbest: 0.1431410 (126)\n",
      "813:\tlearn: 0.0152748\ttest: 0.1609083\tbest: 0.1431410 (126)\n",
      "814:\tlearn: 0.0152462\ttest: 0.1609750\tbest: 0.1431410 (126)\n",
      "815:\tlearn: 0.0152264\ttest: 0.1610010\tbest: 0.1431410 (126)\n",
      "816:\tlearn: 0.0152044\ttest: 0.1610467\tbest: 0.1431410 (126)\n",
      "817:\tlearn: 0.0151774\ttest: 0.1611046\tbest: 0.1431410 (126)\n",
      "818:\tlearn: 0.0151535\ttest: 0.1611276\tbest: 0.1431410 (126)\n",
      "819:\tlearn: 0.0151360\ttest: 0.1612177\tbest: 0.1431410 (126)\n",
      "820:\tlearn: 0.0151132\ttest: 0.1612631\tbest: 0.1431410 (126)\n",
      "821:\tlearn: 0.0150909\ttest: 0.1612828\tbest: 0.1431410 (126)\n",
      "822:\tlearn: 0.0150664\ttest: 0.1613058\tbest: 0.1431410 (126)\n",
      "823:\tlearn: 0.0150417\ttest: 0.1612757\tbest: 0.1431410 (126)\n",
      "824:\tlearn: 0.0150187\ttest: 0.1612922\tbest: 0.1431410 (126)\n",
      "825:\tlearn: 0.0150035\ttest: 0.1613464\tbest: 0.1431410 (126)\n",
      "826:\tlearn: 0.0149750\ttest: 0.1613437\tbest: 0.1431410 (126)\n",
      "827:\tlearn: 0.0149584\ttest: 0.1613542\tbest: 0.1431410 (126)\n",
      "828:\tlearn: 0.0149341\ttest: 0.1614186\tbest: 0.1431410 (126)\n",
      "829:\tlearn: 0.0149112\ttest: 0.1614828\tbest: 0.1431410 (126)\n",
      "830:\tlearn: 0.0148780\ttest: 0.1615392\tbest: 0.1431410 (126)\n",
      "831:\tlearn: 0.0148590\ttest: 0.1615556\tbest: 0.1431410 (126)\n",
      "832:\tlearn: 0.0148452\ttest: 0.1615403\tbest: 0.1431410 (126)\n",
      "833:\tlearn: 0.0148222\ttest: 0.1615238\tbest: 0.1431410 (126)\n",
      "834:\tlearn: 0.0148018\ttest: 0.1615618\tbest: 0.1431410 (126)\n",
      "835:\tlearn: 0.0147738\ttest: 0.1616359\tbest: 0.1431410 (126)\n",
      "836:\tlearn: 0.0147536\ttest: 0.1617089\tbest: 0.1431410 (126)\n",
      "837:\tlearn: 0.0147380\ttest: 0.1617999\tbest: 0.1431410 (126)\n",
      "838:\tlearn: 0.0147214\ttest: 0.1618120\tbest: 0.1431410 (126)\ttotal: 2m\tremaining: 23.2s\n",
      "839:\tlearn: 0.0147005\ttest: 0.1618232\tbest: 0.1431410 (126)\n",
      "840:\tlearn: 0.0146721\ttest: 0.1617224\tbest: 0.1431410 (126)\n",
      "841:\tlearn: 0.0146570\ttest: 0.1617803\tbest: 0.1431410 (126)\n",
      "842:\tlearn: 0.0146453\ttest: 0.1617932\tbest: 0.1431410 (126)\n",
      "843:\tlearn: 0.0146207\ttest: 0.1617916\tbest: 0.1431410 (126)\n",
      "844:\tlearn: 0.0145992\ttest: 0.1618425\tbest: 0.1431410 (126)\n",
      "845:\tlearn: 0.0145745\ttest: 0.1618440\tbest: 0.1431410 (126)\n",
      "846:\tlearn: 0.0145541\ttest: 0.1618635\tbest: 0.1431410 (126)\n",
      "847:\tlearn: 0.0145390\ttest: 0.1619137\tbest: 0.1431410 (126)\n",
      "848:\tlearn: 0.0145173\ttest: 0.1619453\tbest: 0.1431410 (126)\n",
      "849:\tlearn: 0.0144960\ttest: 0.1620084\tbest: 0.1431410 (126)\n",
      "850:\tlearn: 0.0144740\ttest: 0.1621003\tbest: 0.1431410 (126)\n",
      "851:\tlearn: 0.0144601\ttest: 0.1621058\tbest: 0.1431410 (126)\n",
      "852:\tlearn: 0.0144367\ttest: 0.1621868\tbest: 0.1431410 (126)\n",
      "853:\tlearn: 0.0144185\ttest: 0.1621987\tbest: 0.1431410 (126)\n",
      "854:\tlearn: 0.0143923\ttest: 0.1622259\tbest: 0.1431410 (126)\n",
      "855:\tlearn: 0.0143748\ttest: 0.1622821\tbest: 0.1431410 (126)\n",
      "856:\tlearn: 0.0143560\ttest: 0.1622931\tbest: 0.1431410 (126)\n",
      "857:\tlearn: 0.0143449\ttest: 0.1623551\tbest: 0.1431410 (126)\n",
      "858:\tlearn: 0.0143248\ttest: 0.1624002\tbest: 0.1431410 (126)\n",
      "859:\tlearn: 0.0143103\ttest: 0.1623890\tbest: 0.1431410 (126)\ttotal: 2m 4s\tremaining: 20.3s\n",
      "860:\tlearn: 0.0142970\ttest: 0.1624255\tbest: 0.1431410 (126)\n",
      "861:\tlearn: 0.0142783\ttest: 0.1624925\tbest: 0.1431410 (126)\ttotal: 2m 6s\tremaining: 20.3s\n",
      "862:\tlearn: 0.0142634\ttest: 0.1625331\tbest: 0.1431410 (126)\n",
      "863:\tlearn: 0.0142437\ttest: 0.1626084\tbest: 0.1431410 (126)\n",
      "864:\tlearn: 0.0142241\ttest: 0.1626472\tbest: 0.1431410 (126)\n",
      "865:\tlearn: 0.0142084\ttest: 0.1627285\tbest: 0.1431410 (126)\n",
      "866:\tlearn: 0.0141895\ttest: 0.1627710\tbest: 0.1431410 (126)\n",
      "867:\tlearn: 0.0141756\ttest: 0.1628191\tbest: 0.1431410 (126)\n",
      "868:\tlearn: 0.0141605\ttest: 0.1628422\tbest: 0.1431410 (126)\n",
      "869:\tlearn: 0.0141419\ttest: 0.1628915\tbest: 0.1431410 (126)\n",
      "870:\tlearn: 0.0141225\ttest: 0.1629597\tbest: 0.1431410 (126)\n",
      "871:\tlearn: 0.0141013\ttest: 0.1629893\tbest: 0.1431410 (126)\n",
      "872:\tlearn: 0.0140793\ttest: 0.1630976\tbest: 0.1431410 (126)\n",
      "873:\tlearn: 0.0140539\ttest: 0.1631202\tbest: 0.1431410 (126)\n",
      "874:\tlearn: 0.0140394\ttest: 0.1631197\tbest: 0.1431410 (126)\n",
      "875:\tlearn: 0.0140204\ttest: 0.1631676\tbest: 0.1431410 (126)\n",
      "876:\tlearn: 0.0140064\ttest: 0.1632296\tbest: 0.1431410 (126)\n",
      "877:\tlearn: 0.0139877\ttest: 0.1632154\tbest: 0.1431410 (126)\n",
      "878:\tlearn: 0.0139677\ttest: 0.1632916\tbest: 0.1431410 (126)\n",
      "879:\tlearn: 0.0139429\ttest: 0.1633343\tbest: 0.1431410 (126)\n",
      "880:\tlearn: 0.0139143\ttest: 0.1633241\tbest: 0.1431410 (126)\n",
      "881:\tlearn: 0.0138913\ttest: 0.1633377\tbest: 0.1431410 (126)\n",
      "882:\tlearn: 0.0138799\ttest: 0.1633603\tbest: 0.1431410 (126)\n",
      "883:\tlearn: 0.0138512\ttest: 0.1634166\tbest: 0.1431410 (126)\n",
      "884:\tlearn: 0.0138360\ttest: 0.1634357\tbest: 0.1431410 (126)\n",
      "885:\tlearn: 0.0138096\ttest: 0.1634784\tbest: 0.1431410 (126)\n",
      "886:\tlearn: 0.0137925\ttest: 0.1635071\tbest: 0.1431410 (126)\n",
      "887:\tlearn: 0.0137749\ttest: 0.1635517\tbest: 0.1431410 (126)\n",
      "888:\tlearn: 0.0137556\ttest: 0.1636101\tbest: 0.1431410 (126)\n",
      "889:\tlearn: 0.0137375\ttest: 0.1636800\tbest: 0.1431410 (126)\n",
      "890:\tlearn: 0.0137210\ttest: 0.1637124\tbest: 0.1431410 (126)\ttotal: 2m 11s\tremaining: 16.1s\n",
      "891:\tlearn: 0.0137021\ttest: 0.1637044\tbest: 0.1431410 (126)\n",
      "892:\tlearn: 0.0136855\ttest: 0.1637662\tbest: 0.1431410 (126)\n",
      "893:\tlearn: 0.0136589\ttest: 0.1638499\tbest: 0.1431410 (126)\n",
      "894:\tlearn: 0.0136407\ttest: 0.1639047\tbest: 0.1431410 (126)\n",
      "895:\tlearn: 0.0136101\ttest: 0.1638962\tbest: 0.1431410 (126)\n",
      "896:\tlearn: 0.0135940\ttest: 0.1639486\tbest: 0.1431410 (126)\n",
      "897:\tlearn: 0.0135699\ttest: 0.1640300\tbest: 0.1431410 (126)\n",
      "898:\tlearn: 0.0135548\ttest: 0.1640708\tbest: 0.1431410 (126)\n",
      "899:\tlearn: 0.0135387\ttest: 0.1641193\tbest: 0.1431410 (126)\n",
      "900:\tlearn: 0.0135227\ttest: 0.1641264\tbest: 0.1431410 (126)\n",
      "901:\tlearn: 0.0135057\ttest: 0.1641721\tbest: 0.1431410 (126)\n",
      "902:\tlearn: 0.0134859\ttest: 0.1641993\tbest: 0.1431410 (126)\n",
      "903:\tlearn: 0.0134691\ttest: 0.1642823\tbest: 0.1431410 (126)\n",
      "904:\tlearn: 0.0134538\ttest: 0.1642749\tbest: 0.1431410 (126)\n",
      "905:\tlearn: 0.0134294\ttest: 0.1642945\tbest: 0.1431410 (126)\n",
      "906:\tlearn: 0.0134164\ttest: 0.1643059\tbest: 0.1431410 (126)\n",
      "907:\tlearn: 0.0134042\ttest: 0.1643240\tbest: 0.1431410 (126)\n",
      "908:\tlearn: 0.0133860\ttest: 0.1643555\tbest: 0.1431410 (126)\n",
      "909:\tlearn: 0.0133679\ttest: 0.1643589\tbest: 0.1431410 (126)\n",
      "910:\tlearn: 0.0133518\ttest: 0.1643998\tbest: 0.1431410 (126)\n",
      "911:\tlearn: 0.0133276\ttest: 0.1644180\tbest: 0.1431410 (126)\n",
      "912:\tlearn: 0.0133125\ttest: 0.1644720\tbest: 0.1431410 (126)\n",
      "913:\tlearn: 0.0132997\ttest: 0.1644632\tbest: 0.1431410 (126)\n",
      "914:\tlearn: 0.0132856\ttest: 0.1644784\tbest: 0.1431410 (126)\n",
      "915:\tlearn: 0.0132690\ttest: 0.1644961\tbest: 0.1431410 (126)\n",
      "916:\tlearn: 0.0132455\ttest: 0.1645513\tbest: 0.1431410 (126)\n",
      "917:\tlearn: 0.0132285\ttest: 0.1645817\tbest: 0.1431410 (126)\n",
      "918:\tlearn: 0.0132111\ttest: 0.1646588\tbest: 0.1431410 (126)\n",
      "919:\tlearn: 0.0131965\ttest: 0.1646581\tbest: 0.1431410 (126)\n",
      "920:\tlearn: 0.0131741\ttest: 0.1646386\tbest: 0.1431410 (126)\n",
      "921:\tlearn: 0.0131595\ttest: 0.1646754\tbest: 0.1431410 (126)\ttotal: 2m 16s\tremaining: 11.5s\n",
      "922:\tlearn: 0.0131374\ttest: 0.1646654\tbest: 0.1431410 (126)\n",
      "923:\tlearn: 0.0131163\ttest: 0.1647645\tbest: 0.1431410 (126)\n",
      "924:\tlearn: 0.0131029\ttest: 0.1647495\tbest: 0.1431410 (126)\n",
      "925:\tlearn: 0.0130895\ttest: 0.1647173\tbest: 0.1431410 (126)\n",
      "926:\tlearn: 0.0130768\ttest: 0.1647860\tbest: 0.1431410 (126)\n",
      "927:\tlearn: 0.0130538\ttest: 0.1648109\tbest: 0.1431410 (126)\n",
      "928:\tlearn: 0.0130387\ttest: 0.1648919\tbest: 0.1431410 (126)\n",
      "929:\tlearn: 0.0130152\ttest: 0.1649053\tbest: 0.1431410 (126)\n",
      "930:\tlearn: 0.0129989\ttest: 0.1649617\tbest: 0.1431410 (126)\n",
      "931:\tlearn: 0.0129811\ttest: 0.1649838\tbest: 0.1431410 (126)\n",
      "932:\tlearn: 0.0129618\ttest: 0.1650332\tbest: 0.1431410 (126)\n",
      "933:\tlearn: 0.0129429\ttest: 0.1650452\tbest: 0.1431410 (126)\n",
      "934:\tlearn: 0.0129276\ttest: 0.1650830\tbest: 0.1431410 (126)\n",
      "935:\tlearn: 0.0129122\ttest: 0.1651105\tbest: 0.1431410 (126)\n",
      "936:\tlearn: 0.0128991\ttest: 0.1651478\tbest: 0.1431410 (126)\n",
      "937:\tlearn: 0.0128829\ttest: 0.1651321\tbest: 0.1431410 (126)\n",
      "938:\tlearn: 0.0128658\ttest: 0.1651505\tbest: 0.1431410 (126)\n",
      "939:\tlearn: 0.0128505\ttest: 0.1651733\tbest: 0.1431410 (126)\n",
      "940:\tlearn: 0.0128326\ttest: 0.1651658\tbest: 0.1431410 (126)\n",
      "941:\tlearn: 0.0128182\ttest: 0.1652198\tbest: 0.1431410 (126)\n",
      "942:\tlearn: 0.0128036\ttest: 0.1652549\tbest: 0.1431410 (126)\n",
      "943:\tlearn: 0.0127915\ttest: 0.1652618\tbest: 0.1431410 (126)\n",
      "944:\tlearn: 0.0127753\ttest: 0.1652759\tbest: 0.1431410 (126)\n",
      "945:\tlearn: 0.0127612\ttest: 0.1653519\tbest: 0.1431410 (126)\n",
      "946:\tlearn: 0.0127413\ttest: 0.1654140\tbest: 0.1431410 (126)\n",
      "947:\tlearn: 0.0127207\ttest: 0.1654283\tbest: 0.1431410 (126)\ttotal: 2m 20s\tremaining: 7.72s\n",
      "948:\tlearn: 0.0127055\ttest: 0.1654827\tbest: 0.1431410 (126)\n",
      "949:\tlearn: 0.0126867\ttest: 0.1655075\tbest: 0.1431410 (126)\n",
      "950:\tlearn: 0.0126738\ttest: 0.1655504\tbest: 0.1431410 (126)\n",
      "951:\tlearn: 0.0126621\ttest: 0.1655620\tbest: 0.1431410 (126)\n",
      "952:\tlearn: 0.0126453\ttest: 0.1656600\tbest: 0.1431410 (126)\n",
      "953:\tlearn: 0.0126213\ttest: 0.1657637\tbest: 0.1431410 (126)\n",
      "954:\tlearn: 0.0126066\ttest: 0.1657764\tbest: 0.1431410 (126)\n",
      "955:\tlearn: 0.0125944\ttest: 0.1657843\tbest: 0.1431410 (126)\n",
      "956:\tlearn: 0.0125751\ttest: 0.1658459\tbest: 0.1431410 (126)\n",
      "957:\tlearn: 0.0125607\ttest: 0.1658973\tbest: 0.1431410 (126)\n",
      "958:\tlearn: 0.0125383\ttest: 0.1659377\tbest: 0.1431410 (126)\n",
      "959:\tlearn: 0.0125198\ttest: 0.1659780\tbest: 0.1431410 (126)\n",
      "960:\tlearn: 0.0124970\ttest: 0.1659985\tbest: 0.1431410 (126)\n",
      "961:\tlearn: 0.0124771\ttest: 0.1660439\tbest: 0.1431410 (126)\n",
      "962:\tlearn: 0.0124619\ttest: 0.1660590\tbest: 0.1431410 (126)\n",
      "963:\tlearn: 0.0124460\ttest: 0.1661186\tbest: 0.1431410 (126)\n",
      "964:\tlearn: 0.0124345\ttest: 0.1661668\tbest: 0.1431410 (126)\n",
      "965:\tlearn: 0.0124210\ttest: 0.1662547\tbest: 0.1431410 (126)\n",
      "966:\tlearn: 0.0124088\ttest: 0.1663289\tbest: 0.1431410 (126)\n",
      "967:\tlearn: 0.0123885\ttest: 0.1663650\tbest: 0.1431410 (126)\n",
      "968:\tlearn: 0.0123703\ttest: 0.1663829\tbest: 0.1431410 (126)\n",
      "969:\tlearn: 0.0123564\ttest: 0.1663952\tbest: 0.1431410 (126)\n",
      "970:\tlearn: 0.0123394\ttest: 0.1664778\tbest: 0.1431410 (126)\n",
      "971:\tlearn: 0.0123200\ttest: 0.1665156\tbest: 0.1431410 (126)\n",
      "972:\tlearn: 0.0123054\ttest: 0.1665929\tbest: 0.1431410 (126)\n",
      "973:\tlearn: 0.0122867\ttest: 0.1666678\tbest: 0.1431410 (126)\n",
      "974:\tlearn: 0.0122689\ttest: 0.1666965\tbest: 0.1431410 (126)\n",
      "975:\tlearn: 0.0122583\ttest: 0.1666998\tbest: 0.1431410 (126)\n",
      "976:\tlearn: 0.0122424\ttest: 0.1666927\tbest: 0.1431410 (126)\n",
      "977:\tlearn: 0.0122313\ttest: 0.1667225\tbest: 0.1431410 (126)\n",
      "978:\tlearn: 0.0122226\ttest: 0.1667702\tbest: 0.1431410 (126)\n",
      "979:\tlearn: 0.0122091\ttest: 0.1668131\tbest: 0.1431410 (126)\n",
      "980:\tlearn: 0.0121858\ttest: 0.1668805\tbest: 0.1431410 (126)\n",
      "981:\tlearn: 0.0121693\ttest: 0.1669330\tbest: 0.1431410 (126)\n",
      "982:\tlearn: 0.0121554\ttest: 0.1669287\tbest: 0.1431410 (126)\n",
      "983:\tlearn: 0.0121405\ttest: 0.1669358\tbest: 0.1431410 (126)\n",
      "984:\tlearn: 0.0121196\ttest: 0.1669914\tbest: 0.1431410 (126)\n",
      "985:\tlearn: 0.0121055\ttest: 0.1670369\tbest: 0.1431410 (126)\n",
      "986:\tlearn: 0.0120899\ttest: 0.1669795\tbest: 0.1431410 (126)\n",
      "987:\tlearn: 0.0120708\ttest: 0.1669873\tbest: 0.1431410 (126)\n",
      "988:\tlearn: 0.0120484\ttest: 0.1670282\tbest: 0.1431410 (126)\n",
      "989:\tlearn: 0.0120340\ttest: 0.1670625\tbest: 0.1431410 (126)\ttotal: 2m 26s\tremaining: 1.48s\n",
      "990:\tlearn: 0.0120240\ttest: 0.1670640\tbest: 0.1431410 (126)\n",
      "991:\tlearn: 0.0120113\ttest: 0.1671037\tbest: 0.1431410 (126)\n",
      "992:\tlearn: 0.0120024\ttest: 0.1671395\tbest: 0.1431410 (126)\n",
      "993:\tlearn: 0.0119857\ttest: 0.1671923\tbest: 0.1431410 (126)\n",
      "994:\tlearn: 0.0119742\ttest: 0.1672326\tbest: 0.1431410 (126)\n",
      "995:\tlearn: 0.0119633\ttest: 0.1672329\tbest: 0.1431410 (126)\n",
      "996:\tlearn: 0.0119488\ttest: 0.1672538\tbest: 0.1431410 (126)\n",
      "997:\tlearn: 0.0119344\ttest: 0.1672858\tbest: 0.1431410 (126)\n",
      "998:\tlearn: 0.0119236\ttest: 0.1673120\tbest: 0.1431410 (126)\n",
      "999:\tlearn: 0.0119080\ttest: 0.1673467\tbest: 0.1431410 (126)\ttotal: 2m 29s\tremaining: 0us\n"
     ]
    }
   ],
   "source": [
    "# Set params for cross-validation as same as initial model\n",
    "cv_params = catboost_model.get_params()\n",
    "\n",
    "# Run the cross-validation for 10-folds (same as the other models)\n",
    "cv_data = cv(train_pool,\n",
    "             cv_params,\n",
    "             fold_count=10,\n",
    "             plot=True)\n",
    "\n",
    "acc_cv_catboost = round(np.max(cv_data['test-Accuracy-mean']) * 100, 2)"
   ]
  },
  {
   "cell_type": "code",
   "execution_count": 165,
   "metadata": {
    "scrolled": false
   },
   "outputs": [
    {
     "name": "stdout",
     "output_type": "stream",
     "text": [
      "---CatBoost Metrics---\n",
      "Accuracy: 99.15\n",
      "Accuracy cross-validation 10-Fold: 95.03\n"
     ]
    }
   ],
   "source": [
    "# Print out the CatBoost model metrics\n",
    "print(\"---CatBoost Metrics---\")\n",
    "print(\"Accuracy:\", acc_catboost)\n",
    "print(\"Accuracy cross-validation 10-Fold:\", acc_cv_catboost)"
   ]
  },
  {
   "cell_type": "code",
   "execution_count": 166,
   "metadata": {},
   "outputs": [
    {
     "data": {
      "application/vnd.plotly.v1+json": {
       "config": {
        "plotlyServerURL": "https://plot.ly"
       },
       "data": [
        {
         "hovertemplate": "False Positive Rate=%{x}<br>True Positive Rate=%{y}<extra></extra>",
         "legendgroup": "",
         "line": {
          "color": "#636efa"
         },
         "mode": "lines",
         "name": "",
         "orientation": "v",
         "showlegend": false,
         "stackgroup": "1",
         "type": "scatter",
         "x": [
          0,
          0,
          0,
          0.0017331022530329288,
          0.0017331022530329288,
          0.0034662045060658577,
          0.0034662045060658577,
          0.006932409012131715,
          0.006932409012131715,
          0.008665511265164644,
          0.008665511265164644,
          0.024263431542461005,
          0.024263431542461005,
          0.03466204506065858,
          0.03466204506065858,
          0.058925476603119586,
          0.058925476603119586,
          0.08838821490467938,
          0.09185441941074524,
          0.09358752166377816,
          0.09358752166377816,
          0.10398613518197573,
          0.10398613518197573,
          0.17157712305025996,
          0.17157712305025996,
          0.1923743500866551,
          0.1923743500866551,
          0.2045060658578856,
          0.2045060658578856,
          0.3275563258232236,
          0.3344887348353553,
          0.42634315424610053,
          0.42980935875216636,
          0.5025996533795494,
          0.5164644714038128,
          0.5233968804159446,
          0.5285961871750433,
          0.5545927209705372,
          0.5545927209705372,
          0.6915077989601387,
          0.6949740034662045,
          0.7244367417677643,
          0.7244367417677643,
          0.7417677642980935,
          0.7452339688041595,
          0.949740034662045,
          0.9532062391681109,
          0.9584055459272097,
          0.9618717504332756,
          1
         ],
         "xaxis": "x",
         "y": [
          0,
          0.037037037037037035,
          0.18518518518518517,
          0.18518518518518517,
          0.2222222222222222,
          0.2222222222222222,
          0.3333333333333333,
          0.3333333333333333,
          0.4074074074074074,
          0.4074074074074074,
          0.48148148148148145,
          0.48148148148148145,
          0.5555555555555556,
          0.5555555555555556,
          0.6296296296296297,
          0.6296296296296297,
          0.6666666666666666,
          0.6666666666666666,
          0.7037037037037037,
          0.7037037037037037,
          0.7407407407407407,
          0.7407407407407407,
          0.8148148148148148,
          0.8148148148148148,
          0.8518518518518519,
          0.8518518518518519,
          0.8888888888888888,
          0.8888888888888888,
          0.9259259259259259,
          0.9259259259259259,
          0.9259259259259259,
          0.9259259259259259,
          0.9259259259259259,
          0.9259259259259259,
          0.9259259259259259,
          0.9259259259259259,
          0.9259259259259259,
          0.9259259259259259,
          0.9629629629629629,
          0.9629629629629629,
          0.9629629629629629,
          0.9629629629629629,
          1,
          1,
          1,
          1,
          1,
          1,
          1,
          1
         ],
         "yaxis": "y"
        }
       ],
       "layout": {
        "height": 500,
        "legend": {
         "tracegroupgap": 0
        },
        "shapes": [
         {
          "line": {
           "dash": "dash"
          },
          "type": "line",
          "x0": 0,
          "x1": 1,
          "y0": 0,
          "y1": 1
         }
        ],
        "template": {
         "data": {
          "bar": [
           {
            "error_x": {
             "color": "#2a3f5f"
            },
            "error_y": {
             "color": "#2a3f5f"
            },
            "marker": {
             "line": {
              "color": "#E5ECF6",
              "width": 0.5
             }
            },
            "type": "bar"
           }
          ],
          "barpolar": [
           {
            "marker": {
             "line": {
              "color": "#E5ECF6",
              "width": 0.5
             }
            },
            "type": "barpolar"
           }
          ],
          "carpet": [
           {
            "aaxis": {
             "endlinecolor": "#2a3f5f",
             "gridcolor": "white",
             "linecolor": "white",
             "minorgridcolor": "white",
             "startlinecolor": "#2a3f5f"
            },
            "baxis": {
             "endlinecolor": "#2a3f5f",
             "gridcolor": "white",
             "linecolor": "white",
             "minorgridcolor": "white",
             "startlinecolor": "#2a3f5f"
            },
            "type": "carpet"
           }
          ],
          "choropleth": [
           {
            "colorbar": {
             "outlinewidth": 0,
             "ticks": ""
            },
            "type": "choropleth"
           }
          ],
          "contour": [
           {
            "colorbar": {
             "outlinewidth": 0,
             "ticks": ""
            },
            "colorscale": [
             [
              0,
              "#0d0887"
             ],
             [
              0.1111111111111111,
              "#46039f"
             ],
             [
              0.2222222222222222,
              "#7201a8"
             ],
             [
              0.3333333333333333,
              "#9c179e"
             ],
             [
              0.4444444444444444,
              "#bd3786"
             ],
             [
              0.5555555555555556,
              "#d8576b"
             ],
             [
              0.6666666666666666,
              "#ed7953"
             ],
             [
              0.7777777777777778,
              "#fb9f3a"
             ],
             [
              0.8888888888888888,
              "#fdca26"
             ],
             [
              1,
              "#f0f921"
             ]
            ],
            "type": "contour"
           }
          ],
          "contourcarpet": [
           {
            "colorbar": {
             "outlinewidth": 0,
             "ticks": ""
            },
            "type": "contourcarpet"
           }
          ],
          "heatmap": [
           {
            "colorbar": {
             "outlinewidth": 0,
             "ticks": ""
            },
            "colorscale": [
             [
              0,
              "#0d0887"
             ],
             [
              0.1111111111111111,
              "#46039f"
             ],
             [
              0.2222222222222222,
              "#7201a8"
             ],
             [
              0.3333333333333333,
              "#9c179e"
             ],
             [
              0.4444444444444444,
              "#bd3786"
             ],
             [
              0.5555555555555556,
              "#d8576b"
             ],
             [
              0.6666666666666666,
              "#ed7953"
             ],
             [
              0.7777777777777778,
              "#fb9f3a"
             ],
             [
              0.8888888888888888,
              "#fdca26"
             ],
             [
              1,
              "#f0f921"
             ]
            ],
            "type": "heatmap"
           }
          ],
          "heatmapgl": [
           {
            "colorbar": {
             "outlinewidth": 0,
             "ticks": ""
            },
            "colorscale": [
             [
              0,
              "#0d0887"
             ],
             [
              0.1111111111111111,
              "#46039f"
             ],
             [
              0.2222222222222222,
              "#7201a8"
             ],
             [
              0.3333333333333333,
              "#9c179e"
             ],
             [
              0.4444444444444444,
              "#bd3786"
             ],
             [
              0.5555555555555556,
              "#d8576b"
             ],
             [
              0.6666666666666666,
              "#ed7953"
             ],
             [
              0.7777777777777778,
              "#fb9f3a"
             ],
             [
              0.8888888888888888,
              "#fdca26"
             ],
             [
              1,
              "#f0f921"
             ]
            ],
            "type": "heatmapgl"
           }
          ],
          "histogram": [
           {
            "marker": {
             "colorbar": {
              "outlinewidth": 0,
              "ticks": ""
             }
            },
            "type": "histogram"
           }
          ],
          "histogram2d": [
           {
            "colorbar": {
             "outlinewidth": 0,
             "ticks": ""
            },
            "colorscale": [
             [
              0,
              "#0d0887"
             ],
             [
              0.1111111111111111,
              "#46039f"
             ],
             [
              0.2222222222222222,
              "#7201a8"
             ],
             [
              0.3333333333333333,
              "#9c179e"
             ],
             [
              0.4444444444444444,
              "#bd3786"
             ],
             [
              0.5555555555555556,
              "#d8576b"
             ],
             [
              0.6666666666666666,
              "#ed7953"
             ],
             [
              0.7777777777777778,
              "#fb9f3a"
             ],
             [
              0.8888888888888888,
              "#fdca26"
             ],
             [
              1,
              "#f0f921"
             ]
            ],
            "type": "histogram2d"
           }
          ],
          "histogram2dcontour": [
           {
            "colorbar": {
             "outlinewidth": 0,
             "ticks": ""
            },
            "colorscale": [
             [
              0,
              "#0d0887"
             ],
             [
              0.1111111111111111,
              "#46039f"
             ],
             [
              0.2222222222222222,
              "#7201a8"
             ],
             [
              0.3333333333333333,
              "#9c179e"
             ],
             [
              0.4444444444444444,
              "#bd3786"
             ],
             [
              0.5555555555555556,
              "#d8576b"
             ],
             [
              0.6666666666666666,
              "#ed7953"
             ],
             [
              0.7777777777777778,
              "#fb9f3a"
             ],
             [
              0.8888888888888888,
              "#fdca26"
             ],
             [
              1,
              "#f0f921"
             ]
            ],
            "type": "histogram2dcontour"
           }
          ],
          "mesh3d": [
           {
            "colorbar": {
             "outlinewidth": 0,
             "ticks": ""
            },
            "type": "mesh3d"
           }
          ],
          "parcoords": [
           {
            "line": {
             "colorbar": {
              "outlinewidth": 0,
              "ticks": ""
             }
            },
            "type": "parcoords"
           }
          ],
          "pie": [
           {
            "automargin": true,
            "type": "pie"
           }
          ],
          "scatter": [
           {
            "marker": {
             "colorbar": {
              "outlinewidth": 0,
              "ticks": ""
             }
            },
            "type": "scatter"
           }
          ],
          "scatter3d": [
           {
            "line": {
             "colorbar": {
              "outlinewidth": 0,
              "ticks": ""
             }
            },
            "marker": {
             "colorbar": {
              "outlinewidth": 0,
              "ticks": ""
             }
            },
            "type": "scatter3d"
           }
          ],
          "scattercarpet": [
           {
            "marker": {
             "colorbar": {
              "outlinewidth": 0,
              "ticks": ""
             }
            },
            "type": "scattercarpet"
           }
          ],
          "scattergeo": [
           {
            "marker": {
             "colorbar": {
              "outlinewidth": 0,
              "ticks": ""
             }
            },
            "type": "scattergeo"
           }
          ],
          "scattergl": [
           {
            "marker": {
             "colorbar": {
              "outlinewidth": 0,
              "ticks": ""
             }
            },
            "type": "scattergl"
           }
          ],
          "scattermapbox": [
           {
            "marker": {
             "colorbar": {
              "outlinewidth": 0,
              "ticks": ""
             }
            },
            "type": "scattermapbox"
           }
          ],
          "scatterpolar": [
           {
            "marker": {
             "colorbar": {
              "outlinewidth": 0,
              "ticks": ""
             }
            },
            "type": "scatterpolar"
           }
          ],
          "scatterpolargl": [
           {
            "marker": {
             "colorbar": {
              "outlinewidth": 0,
              "ticks": ""
             }
            },
            "type": "scatterpolargl"
           }
          ],
          "scatterternary": [
           {
            "marker": {
             "colorbar": {
              "outlinewidth": 0,
              "ticks": ""
             }
            },
            "type": "scatterternary"
           }
          ],
          "surface": [
           {
            "colorbar": {
             "outlinewidth": 0,
             "ticks": ""
            },
            "colorscale": [
             [
              0,
              "#0d0887"
             ],
             [
              0.1111111111111111,
              "#46039f"
             ],
             [
              0.2222222222222222,
              "#7201a8"
             ],
             [
              0.3333333333333333,
              "#9c179e"
             ],
             [
              0.4444444444444444,
              "#bd3786"
             ],
             [
              0.5555555555555556,
              "#d8576b"
             ],
             [
              0.6666666666666666,
              "#ed7953"
             ],
             [
              0.7777777777777778,
              "#fb9f3a"
             ],
             [
              0.8888888888888888,
              "#fdca26"
             ],
             [
              1,
              "#f0f921"
             ]
            ],
            "type": "surface"
           }
          ],
          "table": [
           {
            "cells": {
             "fill": {
              "color": "#EBF0F8"
             },
             "line": {
              "color": "white"
             }
            },
            "header": {
             "fill": {
              "color": "#C8D4E3"
             },
             "line": {
              "color": "white"
             }
            },
            "type": "table"
           }
          ]
         },
         "layout": {
          "annotationdefaults": {
           "arrowcolor": "#2a3f5f",
           "arrowhead": 0,
           "arrowwidth": 1
          },
          "coloraxis": {
           "colorbar": {
            "outlinewidth": 0,
            "ticks": ""
           }
          },
          "colorscale": {
           "diverging": [
            [
             0,
             "#8e0152"
            ],
            [
             0.1,
             "#c51b7d"
            ],
            [
             0.2,
             "#de77ae"
            ],
            [
             0.3,
             "#f1b6da"
            ],
            [
             0.4,
             "#fde0ef"
            ],
            [
             0.5,
             "#f7f7f7"
            ],
            [
             0.6,
             "#e6f5d0"
            ],
            [
             0.7,
             "#b8e186"
            ],
            [
             0.8,
             "#7fbc41"
            ],
            [
             0.9,
             "#4d9221"
            ],
            [
             1,
             "#276419"
            ]
           ],
           "sequential": [
            [
             0,
             "#0d0887"
            ],
            [
             0.1111111111111111,
             "#46039f"
            ],
            [
             0.2222222222222222,
             "#7201a8"
            ],
            [
             0.3333333333333333,
             "#9c179e"
            ],
            [
             0.4444444444444444,
             "#bd3786"
            ],
            [
             0.5555555555555556,
             "#d8576b"
            ],
            [
             0.6666666666666666,
             "#ed7953"
            ],
            [
             0.7777777777777778,
             "#fb9f3a"
            ],
            [
             0.8888888888888888,
             "#fdca26"
            ],
            [
             1,
             "#f0f921"
            ]
           ],
           "sequentialminus": [
            [
             0,
             "#0d0887"
            ],
            [
             0.1111111111111111,
             "#46039f"
            ],
            [
             0.2222222222222222,
             "#7201a8"
            ],
            [
             0.3333333333333333,
             "#9c179e"
            ],
            [
             0.4444444444444444,
             "#bd3786"
            ],
            [
             0.5555555555555556,
             "#d8576b"
            ],
            [
             0.6666666666666666,
             "#ed7953"
            ],
            [
             0.7777777777777778,
             "#fb9f3a"
            ],
            [
             0.8888888888888888,
             "#fdca26"
            ],
            [
             1,
             "#f0f921"
            ]
           ]
          },
          "colorway": [
           "#636efa",
           "#EF553B",
           "#00cc96",
           "#ab63fa",
           "#FFA15A",
           "#19d3f3",
           "#FF6692",
           "#B6E880",
           "#FF97FF",
           "#FECB52"
          ],
          "font": {
           "color": "#2a3f5f"
          },
          "geo": {
           "bgcolor": "white",
           "lakecolor": "white",
           "landcolor": "#E5ECF6",
           "showlakes": true,
           "showland": true,
           "subunitcolor": "white"
          },
          "hoverlabel": {
           "align": "left"
          },
          "hovermode": "closest",
          "mapbox": {
           "style": "light"
          },
          "paper_bgcolor": "white",
          "plot_bgcolor": "#E5ECF6",
          "polar": {
           "angularaxis": {
            "gridcolor": "white",
            "linecolor": "white",
            "ticks": ""
           },
           "bgcolor": "#E5ECF6",
           "radialaxis": {
            "gridcolor": "white",
            "linecolor": "white",
            "ticks": ""
           }
          },
          "scene": {
           "xaxis": {
            "backgroundcolor": "#E5ECF6",
            "gridcolor": "white",
            "gridwidth": 2,
            "linecolor": "white",
            "showbackground": true,
            "ticks": "",
            "zerolinecolor": "white"
           },
           "yaxis": {
            "backgroundcolor": "#E5ECF6",
            "gridcolor": "white",
            "gridwidth": 2,
            "linecolor": "white",
            "showbackground": true,
            "ticks": "",
            "zerolinecolor": "white"
           },
           "zaxis": {
            "backgroundcolor": "#E5ECF6",
            "gridcolor": "white",
            "gridwidth": 2,
            "linecolor": "white",
            "showbackground": true,
            "ticks": "",
            "zerolinecolor": "white"
           }
          },
          "shapedefaults": {
           "line": {
            "color": "#2a3f5f"
           }
          },
          "ternary": {
           "aaxis": {
            "gridcolor": "white",
            "linecolor": "white",
            "ticks": ""
           },
           "baxis": {
            "gridcolor": "white",
            "linecolor": "white",
            "ticks": ""
           },
           "bgcolor": "#E5ECF6",
           "caxis": {
            "gridcolor": "white",
            "linecolor": "white",
            "ticks": ""
           }
          },
          "title": {
           "x": 0.05
          },
          "xaxis": {
           "automargin": true,
           "gridcolor": "white",
           "linecolor": "white",
           "ticks": "",
           "title": {
            "standoff": 15
           },
           "zerolinecolor": "white",
           "zerolinewidth": 2
          },
          "yaxis": {
           "automargin": true,
           "gridcolor": "white",
           "linecolor": "white",
           "ticks": "",
           "title": {
            "standoff": 15
           },
           "zerolinecolor": "white",
           "zerolinewidth": 2
          }
         }
        },
        "title": {
         "text": "ROC Curve (AUC=0.9089)"
        },
        "width": 700,
        "xaxis": {
         "anchor": "y",
         "constrain": "domain",
         "domain": [
          0,
          1
         ],
         "title": {
          "text": "False Positive Rate"
         }
        },
        "yaxis": {
         "anchor": "x",
         "domain": [
          0,
          1
         ],
         "scaleanchor": "x",
         "scaleratio": 1,
         "title": {
          "text": "True Positive Rate"
         }
        }
       }
      },
      "text/html": [
       "<div>                            <div id=\"21be795c-0f6a-4a80-88ac-2602d8bf4ec7\" class=\"plotly-graph-div\" style=\"height:500px; width:700px;\"></div>            <script type=\"text/javascript\">                require([\"plotly\"], function(Plotly) {                    window.PLOTLYENV=window.PLOTLYENV || {};                                    if (document.getElementById(\"21be795c-0f6a-4a80-88ac-2602d8bf4ec7\")) {                    Plotly.newPlot(                        \"21be795c-0f6a-4a80-88ac-2602d8bf4ec7\",                        [{\"hovertemplate\": \"False Positive Rate=%{x}<br>True Positive Rate=%{y}<extra></extra>\", \"legendgroup\": \"\", \"line\": {\"color\": \"#636efa\"}, \"mode\": \"lines\", \"name\": \"\", \"orientation\": \"v\", \"showlegend\": false, \"stackgroup\": \"1\", \"type\": \"scatter\", \"x\": [0.0, 0.0, 0.0, 0.0017331022530329288, 0.0017331022530329288, 0.0034662045060658577, 0.0034662045060658577, 0.006932409012131715, 0.006932409012131715, 0.008665511265164644, 0.008665511265164644, 0.024263431542461005, 0.024263431542461005, 0.03466204506065858, 0.03466204506065858, 0.058925476603119586, 0.058925476603119586, 0.08838821490467938, 0.09185441941074524, 0.09358752166377816, 0.09358752166377816, 0.10398613518197573, 0.10398613518197573, 0.17157712305025996, 0.17157712305025996, 0.1923743500866551, 0.1923743500866551, 0.2045060658578856, 0.2045060658578856, 0.3275563258232236, 0.3344887348353553, 0.42634315424610053, 0.42980935875216636, 0.5025996533795494, 0.5164644714038128, 0.5233968804159446, 0.5285961871750433, 0.5545927209705372, 0.5545927209705372, 0.6915077989601387, 0.6949740034662045, 0.7244367417677643, 0.7244367417677643, 0.7417677642980935, 0.7452339688041595, 0.949740034662045, 0.9532062391681109, 0.9584055459272097, 0.9618717504332756, 1.0], \"xaxis\": \"x\", \"y\": [0.0, 0.037037037037037035, 0.18518518518518517, 0.18518518518518517, 0.2222222222222222, 0.2222222222222222, 0.3333333333333333, 0.3333333333333333, 0.4074074074074074, 0.4074074074074074, 0.48148148148148145, 0.48148148148148145, 0.5555555555555556, 0.5555555555555556, 0.6296296296296297, 0.6296296296296297, 0.6666666666666666, 0.6666666666666666, 0.7037037037037037, 0.7037037037037037, 0.7407407407407407, 0.7407407407407407, 0.8148148148148148, 0.8148148148148148, 0.8518518518518519, 0.8518518518518519, 0.8888888888888888, 0.8888888888888888, 0.9259259259259259, 0.9259259259259259, 0.9259259259259259, 0.9259259259259259, 0.9259259259259259, 0.9259259259259259, 0.9259259259259259, 0.9259259259259259, 0.9259259259259259, 0.9259259259259259, 0.9629629629629629, 0.9629629629629629, 0.9629629629629629, 0.9629629629629629, 1.0, 1.0, 1.0, 1.0, 1.0, 1.0, 1.0, 1.0], \"yaxis\": \"y\"}],                        {\"height\": 500, \"legend\": {\"tracegroupgap\": 0}, \"shapes\": [{\"line\": {\"dash\": \"dash\"}, \"type\": \"line\", \"x0\": 0, \"x1\": 1, \"y0\": 0, \"y1\": 1}], \"template\": {\"data\": {\"bar\": [{\"error_x\": {\"color\": \"#2a3f5f\"}, \"error_y\": {\"color\": \"#2a3f5f\"}, \"marker\": {\"line\": {\"color\": \"#E5ECF6\", \"width\": 0.5}}, \"type\": \"bar\"}], \"barpolar\": [{\"marker\": {\"line\": {\"color\": \"#E5ECF6\", \"width\": 0.5}}, \"type\": \"barpolar\"}], \"carpet\": [{\"aaxis\": {\"endlinecolor\": \"#2a3f5f\", \"gridcolor\": \"white\", \"linecolor\": \"white\", \"minorgridcolor\": \"white\", \"startlinecolor\": \"#2a3f5f\"}, \"baxis\": {\"endlinecolor\": \"#2a3f5f\", \"gridcolor\": \"white\", \"linecolor\": \"white\", \"minorgridcolor\": \"white\", \"startlinecolor\": \"#2a3f5f\"}, \"type\": \"carpet\"}], \"choropleth\": [{\"colorbar\": {\"outlinewidth\": 0, \"ticks\": \"\"}, \"type\": \"choropleth\"}], \"contour\": [{\"colorbar\": {\"outlinewidth\": 0, \"ticks\": \"\"}, \"colorscale\": [[0.0, \"#0d0887\"], [0.1111111111111111, \"#46039f\"], [0.2222222222222222, \"#7201a8\"], [0.3333333333333333, \"#9c179e\"], [0.4444444444444444, \"#bd3786\"], [0.5555555555555556, \"#d8576b\"], [0.6666666666666666, \"#ed7953\"], [0.7777777777777778, \"#fb9f3a\"], [0.8888888888888888, \"#fdca26\"], [1.0, \"#f0f921\"]], \"type\": \"contour\"}], \"contourcarpet\": [{\"colorbar\": {\"outlinewidth\": 0, \"ticks\": \"\"}, \"type\": \"contourcarpet\"}], \"heatmap\": [{\"colorbar\": {\"outlinewidth\": 0, \"ticks\": \"\"}, \"colorscale\": [[0.0, \"#0d0887\"], [0.1111111111111111, \"#46039f\"], [0.2222222222222222, \"#7201a8\"], [0.3333333333333333, \"#9c179e\"], [0.4444444444444444, \"#bd3786\"], [0.5555555555555556, \"#d8576b\"], [0.6666666666666666, \"#ed7953\"], [0.7777777777777778, \"#fb9f3a\"], [0.8888888888888888, \"#fdca26\"], [1.0, \"#f0f921\"]], \"type\": \"heatmap\"}], \"heatmapgl\": [{\"colorbar\": {\"outlinewidth\": 0, \"ticks\": \"\"}, \"colorscale\": [[0.0, \"#0d0887\"], [0.1111111111111111, \"#46039f\"], [0.2222222222222222, \"#7201a8\"], [0.3333333333333333, \"#9c179e\"], [0.4444444444444444, \"#bd3786\"], [0.5555555555555556, \"#d8576b\"], [0.6666666666666666, \"#ed7953\"], [0.7777777777777778, \"#fb9f3a\"], [0.8888888888888888, \"#fdca26\"], [1.0, \"#f0f921\"]], \"type\": \"heatmapgl\"}], \"histogram\": [{\"marker\": {\"colorbar\": {\"outlinewidth\": 0, \"ticks\": \"\"}}, \"type\": \"histogram\"}], \"histogram2d\": [{\"colorbar\": {\"outlinewidth\": 0, \"ticks\": \"\"}, \"colorscale\": [[0.0, \"#0d0887\"], [0.1111111111111111, \"#46039f\"], [0.2222222222222222, \"#7201a8\"], [0.3333333333333333, \"#9c179e\"], [0.4444444444444444, \"#bd3786\"], [0.5555555555555556, \"#d8576b\"], [0.6666666666666666, \"#ed7953\"], [0.7777777777777778, \"#fb9f3a\"], [0.8888888888888888, \"#fdca26\"], [1.0, \"#f0f921\"]], \"type\": \"histogram2d\"}], \"histogram2dcontour\": [{\"colorbar\": {\"outlinewidth\": 0, \"ticks\": \"\"}, \"colorscale\": [[0.0, \"#0d0887\"], [0.1111111111111111, \"#46039f\"], [0.2222222222222222, \"#7201a8\"], [0.3333333333333333, \"#9c179e\"], [0.4444444444444444, \"#bd3786\"], [0.5555555555555556, \"#d8576b\"], [0.6666666666666666, \"#ed7953\"], [0.7777777777777778, \"#fb9f3a\"], [0.8888888888888888, \"#fdca26\"], [1.0, \"#f0f921\"]], \"type\": \"histogram2dcontour\"}], \"mesh3d\": [{\"colorbar\": {\"outlinewidth\": 0, \"ticks\": \"\"}, \"type\": \"mesh3d\"}], \"parcoords\": [{\"line\": {\"colorbar\": {\"outlinewidth\": 0, \"ticks\": \"\"}}, \"type\": \"parcoords\"}], \"pie\": [{\"automargin\": true, \"type\": \"pie\"}], \"scatter\": [{\"marker\": {\"colorbar\": {\"outlinewidth\": 0, \"ticks\": \"\"}}, \"type\": \"scatter\"}], \"scatter3d\": [{\"line\": {\"colorbar\": {\"outlinewidth\": 0, \"ticks\": \"\"}}, \"marker\": {\"colorbar\": {\"outlinewidth\": 0, \"ticks\": \"\"}}, \"type\": \"scatter3d\"}], \"scattercarpet\": [{\"marker\": {\"colorbar\": {\"outlinewidth\": 0, \"ticks\": \"\"}}, \"type\": \"scattercarpet\"}], \"scattergeo\": [{\"marker\": {\"colorbar\": {\"outlinewidth\": 0, \"ticks\": \"\"}}, \"type\": \"scattergeo\"}], \"scattergl\": [{\"marker\": {\"colorbar\": {\"outlinewidth\": 0, \"ticks\": \"\"}}, \"type\": \"scattergl\"}], \"scattermapbox\": [{\"marker\": {\"colorbar\": {\"outlinewidth\": 0, \"ticks\": \"\"}}, \"type\": \"scattermapbox\"}], \"scatterpolar\": [{\"marker\": {\"colorbar\": {\"outlinewidth\": 0, \"ticks\": \"\"}}, \"type\": \"scatterpolar\"}], \"scatterpolargl\": [{\"marker\": {\"colorbar\": {\"outlinewidth\": 0, \"ticks\": \"\"}}, \"type\": \"scatterpolargl\"}], \"scatterternary\": [{\"marker\": {\"colorbar\": {\"outlinewidth\": 0, \"ticks\": \"\"}}, \"type\": \"scatterternary\"}], \"surface\": [{\"colorbar\": {\"outlinewidth\": 0, \"ticks\": \"\"}, \"colorscale\": [[0.0, \"#0d0887\"], [0.1111111111111111, \"#46039f\"], [0.2222222222222222, \"#7201a8\"], [0.3333333333333333, \"#9c179e\"], [0.4444444444444444, \"#bd3786\"], [0.5555555555555556, \"#d8576b\"], [0.6666666666666666, \"#ed7953\"], [0.7777777777777778, \"#fb9f3a\"], [0.8888888888888888, \"#fdca26\"], [1.0, \"#f0f921\"]], \"type\": \"surface\"}], \"table\": [{\"cells\": {\"fill\": {\"color\": \"#EBF0F8\"}, \"line\": {\"color\": \"white\"}}, \"header\": {\"fill\": {\"color\": \"#C8D4E3\"}, \"line\": {\"color\": \"white\"}}, \"type\": \"table\"}]}, \"layout\": {\"annotationdefaults\": {\"arrowcolor\": \"#2a3f5f\", \"arrowhead\": 0, \"arrowwidth\": 1}, \"coloraxis\": {\"colorbar\": {\"outlinewidth\": 0, \"ticks\": \"\"}}, \"colorscale\": {\"diverging\": [[0, \"#8e0152\"], [0.1, \"#c51b7d\"], [0.2, \"#de77ae\"], [0.3, \"#f1b6da\"], [0.4, \"#fde0ef\"], [0.5, \"#f7f7f7\"], [0.6, \"#e6f5d0\"], [0.7, \"#b8e186\"], [0.8, \"#7fbc41\"], [0.9, \"#4d9221\"], [1, \"#276419\"]], \"sequential\": [[0.0, \"#0d0887\"], [0.1111111111111111, \"#46039f\"], [0.2222222222222222, \"#7201a8\"], [0.3333333333333333, \"#9c179e\"], [0.4444444444444444, \"#bd3786\"], [0.5555555555555556, \"#d8576b\"], [0.6666666666666666, \"#ed7953\"], [0.7777777777777778, \"#fb9f3a\"], [0.8888888888888888, \"#fdca26\"], [1.0, \"#f0f921\"]], \"sequentialminus\": [[0.0, \"#0d0887\"], [0.1111111111111111, \"#46039f\"], [0.2222222222222222, \"#7201a8\"], [0.3333333333333333, \"#9c179e\"], [0.4444444444444444, \"#bd3786\"], [0.5555555555555556, \"#d8576b\"], [0.6666666666666666, \"#ed7953\"], [0.7777777777777778, \"#fb9f3a\"], [0.8888888888888888, \"#fdca26\"], [1.0, \"#f0f921\"]]}, \"colorway\": [\"#636efa\", \"#EF553B\", \"#00cc96\", \"#ab63fa\", \"#FFA15A\", \"#19d3f3\", \"#FF6692\", \"#B6E880\", \"#FF97FF\", \"#FECB52\"], \"font\": {\"color\": \"#2a3f5f\"}, \"geo\": {\"bgcolor\": \"white\", \"lakecolor\": \"white\", \"landcolor\": \"#E5ECF6\", \"showlakes\": true, \"showland\": true, \"subunitcolor\": \"white\"}, \"hoverlabel\": {\"align\": \"left\"}, \"hovermode\": \"closest\", \"mapbox\": {\"style\": \"light\"}, \"paper_bgcolor\": \"white\", \"plot_bgcolor\": \"#E5ECF6\", \"polar\": {\"angularaxis\": {\"gridcolor\": \"white\", \"linecolor\": \"white\", \"ticks\": \"\"}, \"bgcolor\": \"#E5ECF6\", \"radialaxis\": {\"gridcolor\": \"white\", \"linecolor\": \"white\", \"ticks\": \"\"}}, \"scene\": {\"xaxis\": {\"backgroundcolor\": \"#E5ECF6\", \"gridcolor\": \"white\", \"gridwidth\": 2, \"linecolor\": \"white\", \"showbackground\": true, \"ticks\": \"\", \"zerolinecolor\": \"white\"}, \"yaxis\": {\"backgroundcolor\": \"#E5ECF6\", \"gridcolor\": \"white\", \"gridwidth\": 2, \"linecolor\": \"white\", \"showbackground\": true, \"ticks\": \"\", \"zerolinecolor\": \"white\"}, \"zaxis\": {\"backgroundcolor\": \"#E5ECF6\", \"gridcolor\": \"white\", \"gridwidth\": 2, \"linecolor\": \"white\", \"showbackground\": true, \"ticks\": \"\", \"zerolinecolor\": \"white\"}}, \"shapedefaults\": {\"line\": {\"color\": \"#2a3f5f\"}}, \"ternary\": {\"aaxis\": {\"gridcolor\": \"white\", \"linecolor\": \"white\", \"ticks\": \"\"}, \"baxis\": {\"gridcolor\": \"white\", \"linecolor\": \"white\", \"ticks\": \"\"}, \"bgcolor\": \"#E5ECF6\", \"caxis\": {\"gridcolor\": \"white\", \"linecolor\": \"white\", \"ticks\": \"\"}}, \"title\": {\"x\": 0.05}, \"xaxis\": {\"automargin\": true, \"gridcolor\": \"white\", \"linecolor\": \"white\", \"ticks\": \"\", \"title\": {\"standoff\": 15}, \"zerolinecolor\": \"white\", \"zerolinewidth\": 2}, \"yaxis\": {\"automargin\": true, \"gridcolor\": \"white\", \"linecolor\": \"white\", \"ticks\": \"\", \"title\": {\"standoff\": 15}, \"zerolinecolor\": \"white\", \"zerolinewidth\": 2}}}, \"title\": {\"text\": \"ROC Curve (AUC=0.9089)\"}, \"width\": 700, \"xaxis\": {\"anchor\": \"y\", \"constrain\": \"domain\", \"domain\": [0.0, 1.0], \"title\": {\"text\": \"False Positive Rate\"}}, \"yaxis\": {\"anchor\": \"x\", \"domain\": [0.0, 1.0], \"scaleanchor\": \"x\", \"scaleratio\": 1, \"title\": {\"text\": \"True Positive Rate\"}}},                        {\"responsive\": true}                    ).then(function(){\n",
       "                            \n",
       "var gd = document.getElementById('21be795c-0f6a-4a80-88ac-2602d8bf4ec7');\n",
       "var x = new MutationObserver(function (mutations, observer) {{\n",
       "        var display = window.getComputedStyle(gd).display;\n",
       "        if (!display || display === 'none') {{\n",
       "            console.log([gd, 'removed!']);\n",
       "            Plotly.purge(gd);\n",
       "            observer.disconnect();\n",
       "        }}\n",
       "}});\n",
       "\n",
       "// Listen for the removal of the full notebook cells\n",
       "var notebookContainer = gd.closest('#notebook-container');\n",
       "if (notebookContainer) {{\n",
       "    x.observe(notebookContainer, {childList: true});\n",
       "}}\n",
       "\n",
       "// Listen for the clearing of the current output cell\n",
       "var outputEl = gd.closest('.output');\n",
       "if (outputEl) {{\n",
       "    x.observe(outputEl, {childList: true});\n",
       "}}\n",
       "\n",
       "                        })                };                });            </script>        </div>"
      ]
     },
     "metadata": {},
     "output_type": "display_data"
    }
   ],
   "source": [
    "y_pred_probabilities = catboost_model.predict_proba(X_test)\n",
    "y_pred_probabilities_formatted = y_pred_probabilities[:, 1]\n",
    "\n",
    "y_pred_probabilities_formatted = list(y_pred_probabilities_formatted)\n",
    "fpr, tpr, thresholds = roc_curve(y_test, y_pred_probabilities_formatted)\n",
    "auc_calculation = f'{auc(fpr, tpr):.4f}'\n",
    "\n",
    "# Plotting the chart\n",
    "fig = px.area(\n",
    "    x=fpr, y=tpr,\n",
    "    title=f'ROC Curve (AUC={auc(fpr, tpr):.4f})',\n",
    "    labels=dict(x='False Positive Rate', y='True Positive Rate'),\n",
    "    width=700, height=500\n",
    ")\n",
    "\n",
    "# This part is just for formatting & adding the dash-line \n",
    "fig.add_shape(\n",
    "    type='line', line=dict(dash='dash'),\n",
    "    x0=0, x1=1, y0=0, y1=1\n",
    ")\n",
    "fig.update_yaxes(scaleanchor=\"x\", scaleratio=1)\n",
    "fig.update_xaxes(constrain='domain')\n",
    "\n",
    "fig.show()"
   ]
  },
  {
   "cell_type": "code",
   "execution_count": 167,
   "metadata": {},
   "outputs": [],
   "source": [
    "# Add to model_log\n",
    "model_log = model_log.append({'model': 'CatBoost',\n",
    "                             'CV score': acc_cv_catboost,\n",
    "                             'auc': auc_calculation}, ignore_index=True)"
   ]
  },
  {
   "cell_type": "markdown",
   "metadata": {},
   "source": [
    "# Model Results"
   ]
  },
  {
   "cell_type": "markdown",
   "metadata": {},
   "source": [
    "If we rank by kFold Cross Validation scores,"
   ]
  },
  {
   "cell_type": "code",
   "execution_count": 168,
   "metadata": {
    "scrolled": true
   },
   "outputs": [
    {
     "data": {
      "text/html": [
       "<div>\n",
       "<style scoped>\n",
       "    .dataframe tbody tr th:only-of-type {\n",
       "        vertical-align: middle;\n",
       "    }\n",
       "\n",
       "    .dataframe tbody tr th {\n",
       "        vertical-align: top;\n",
       "    }\n",
       "\n",
       "    .dataframe thead th {\n",
       "        text-align: right;\n",
       "    }\n",
       "</style>\n",
       "<table border=\"1\" class=\"dataframe\">\n",
       "  <thead>\n",
       "    <tr style=\"text-align: right;\">\n",
       "      <th></th>\n",
       "      <th>model</th>\n",
       "      <th>CV score</th>\n",
       "      <th>auc</th>\n",
       "    </tr>\n",
       "  </thead>\n",
       "  <tbody>\n",
       "    <tr>\n",
       "      <th>1</th>\n",
       "      <td>Random Forest</td>\n",
       "      <td>95.58</td>\n",
       "      <td>0.9010</td>\n",
       "    </tr>\n",
       "    <tr>\n",
       "      <th>0</th>\n",
       "      <td>XGBoost</td>\n",
       "      <td>95.43</td>\n",
       "      <td>0.8980</td>\n",
       "    </tr>\n",
       "    <tr>\n",
       "      <th>4</th>\n",
       "      <td>CatBoost</td>\n",
       "      <td>95.03</td>\n",
       "      <td>0.9089</td>\n",
       "    </tr>\n",
       "    <tr>\n",
       "      <th>3</th>\n",
       "      <td>Logistic Regression</td>\n",
       "      <td>94.88</td>\n",
       "      <td>0.5000</td>\n",
       "    </tr>\n",
       "    <tr>\n",
       "      <th>2</th>\n",
       "      <td>Decision Tree</td>\n",
       "      <td>93.29</td>\n",
       "      <td>0.7199</td>\n",
       "    </tr>\n",
       "  </tbody>\n",
       "</table>\n",
       "</div>"
      ],
      "text/plain": [
       "                 model  CV score     auc\n",
       "1        Random Forest     95.58  0.9010\n",
       "0              XGBoost     95.43  0.8980\n",
       "4             CatBoost     95.03  0.9089\n",
       "3  Logistic Regression     94.88  0.5000\n",
       "2        Decision Tree     93.29  0.7199"
      ]
     },
     "execution_count": 168,
     "metadata": {},
     "output_type": "execute_result"
    }
   ],
   "source": [
    "model_log.sort_values(by='CV score', ascending=False)"
   ]
  },
  {
   "cell_type": "markdown",
   "metadata": {},
   "source": [
    "If we rank by AUC,"
   ]
  },
  {
   "cell_type": "code",
   "execution_count": 169,
   "metadata": {},
   "outputs": [
    {
     "data": {
      "text/html": [
       "<div>\n",
       "<style scoped>\n",
       "    .dataframe tbody tr th:only-of-type {\n",
       "        vertical-align: middle;\n",
       "    }\n",
       "\n",
       "    .dataframe tbody tr th {\n",
       "        vertical-align: top;\n",
       "    }\n",
       "\n",
       "    .dataframe thead th {\n",
       "        text-align: right;\n",
       "    }\n",
       "</style>\n",
       "<table border=\"1\" class=\"dataframe\">\n",
       "  <thead>\n",
       "    <tr style=\"text-align: right;\">\n",
       "      <th></th>\n",
       "      <th>model</th>\n",
       "      <th>CV score</th>\n",
       "      <th>auc</th>\n",
       "    </tr>\n",
       "  </thead>\n",
       "  <tbody>\n",
       "    <tr>\n",
       "      <th>4</th>\n",
       "      <td>CatBoost</td>\n",
       "      <td>95.03</td>\n",
       "      <td>0.9089</td>\n",
       "    </tr>\n",
       "    <tr>\n",
       "      <th>1</th>\n",
       "      <td>Random Forest</td>\n",
       "      <td>95.58</td>\n",
       "      <td>0.9010</td>\n",
       "    </tr>\n",
       "    <tr>\n",
       "      <th>0</th>\n",
       "      <td>XGBoost</td>\n",
       "      <td>95.43</td>\n",
       "      <td>0.8980</td>\n",
       "    </tr>\n",
       "    <tr>\n",
       "      <th>2</th>\n",
       "      <td>Decision Tree</td>\n",
       "      <td>93.29</td>\n",
       "      <td>0.7199</td>\n",
       "    </tr>\n",
       "    <tr>\n",
       "      <th>3</th>\n",
       "      <td>Logistic Regression</td>\n",
       "      <td>94.88</td>\n",
       "      <td>0.5000</td>\n",
       "    </tr>\n",
       "  </tbody>\n",
       "</table>\n",
       "</div>"
      ],
      "text/plain": [
       "                 model  CV score     auc\n",
       "4             CatBoost     95.03  0.9089\n",
       "1        Random Forest     95.58  0.9010\n",
       "0              XGBoost     95.43  0.8980\n",
       "2        Decision Tree     93.29  0.7199\n",
       "3  Logistic Regression     94.88  0.5000"
      ]
     },
     "execution_count": 169,
     "metadata": {},
     "output_type": "execute_result"
    }
   ],
   "source": [
    "model_log.sort_values(by='auc', ascending=False)"
   ]
  },
  {
   "cell_type": "markdown",
   "metadata": {},
   "source": [
    "CatBoost and Random Forest are the two strongest contenders, so I will use the both of them."
   ]
  },
  {
   "cell_type": "markdown",
   "metadata": {},
   "source": [
    "# Exporting Predictions"
   ]
  },
  {
   "cell_type": "code",
   "execution_count": 170,
   "metadata": {},
   "outputs": [
    {
     "name": "stdout",
     "output_type": "stream",
     "text": [
      "[0.0011789348214551977, 0.0011193067990240284, 0.0011174039800672172, 0.006806347827023403, 0.0009129478710895255, 0.019367149485334887, 0.0008294777531442992, 0.057703946574665585, 0.20513049096957342, 0.009458011972357837, 0.4588187391034232, 0.0013974360540990067, 0.008271794085747627, 0.009242533455924072, 0.016063890235692078, 0.0011704043431513577, 0.0011199432052345136, 0.0020221759088243263, 0.14352181683125706, 0.00149963500475425, 0.0009733836466349239, 0.0015643586252127176, 0.0016565594641656308, 0.3702824943912353, 0.0013677177412205802, 0.0014193959240126266, 0.012483580443672353, 0.0025248476691463488, 0.0010513804039034627, 0.0016100847845990558, 0.0011954717124614213, 0.00103922772821974, 0.043418618722403116, 0.0016653734131537637, 0.0012955299273359395, 0.0011162739828172266, 0.17816378492682108, 0.001216778213859705, 0.0010242350029662903, 0.02433694410077265, 0.0006751960450903019, 0.0010186239860241677, 0.0035075237148369056, 0.001392468983804296, 0.013471236056359928, 0.002566157022688105, 0.1165982327725329, 0.0013400727902973559, 0.278114571243198, 0.001445006781247664, 0.0018260052012049055, 0.0014725279032328613, 0.0010996880404281466, 0.01131274385319345, 0.0015839600442222282, 0.0009675225955731493, 0.045427490919746814, 0.15197758569070383, 0.0014596375072747421, 0.0008690972697126182, 0.051442759854329, 0.002018646642145529, 0.3049177212086527, 0.15356200971386708, 0.007257570248457817, 0.0013313211423547848, 0.007840733945665158, 0.2141613657422723, 0.0013380131587415385, 0.006333192527746502, 0.0069296312326843695, 0.2472635846166195, 0.6270402979321608, 0.09624348354905807, 0.011261123868272839, 0.0012110828887812498, 0.0006983689455031407, 0.001367948308636045, 0.0013077426413747272, 0.0011191019851478003, 0.019289715089280544, 0.03851888314767705, 0.07789080400955548, 0.0013464163514397642, 0.0009745711831485406, 0.24455331087064908, 0.004719247193274228, 0.1625304723235828, 0.002437406522021051, 0.0010730692563463858, 0.0012021387095808853, 0.001052962443418486, 0.0013549766064425415, 0.0631038595023381, 0.0010118438833877838, 0.0010535926278391263, 0.035358818465516875, 0.0017534884454800045, 0.08466094009483352, 0.0017723810636794356, 0.0006835899345670725, 0.0009954044573280154, 0.0021638686375570473, 0.0030189387174321424, 0.25413248286410023, 0.0012806871455749397, 0.04654327667658514, 0.008616959025719288, 0.0009269658255205827, 0.0013735343289429784, 0.0562001721693353, 0.001220915337565309, 0.026322589344592067, 0.000695781148387199, 0.0017836801740771869, 0.019625160117915773, 0.0007407356158758503, 0.001168492633665013, 0.0007876524406868294, 0.2823161062177791, 0.0059898138951693875, 0.047237001477247485, 0.001453661674365637, 0.0014530349634517947, 0.00124469476237874, 0.0011090708273574727, 0.0043692479036387235, 0.0009833861220536662, 0.07696492811777288, 0.33486685583800035, 0.0013762611121034105, 0.002543534662091234, 0.12897922372064172, 0.0009648170982627961, 0.0008591797328276172, 0.0019918686398776517, 0.0010188501202212663, 0.04176840076914588, 0.0006835899345670725, 0.08400325869912528, 0.0020206192537982563, 0.07968847675292384, 0.0010328580186552566, 0.06172604882112694, 0.08235666635096309, 0.2841972537206317, 0.0009751227991957654, 0.0008118494470784112, 0.0017713297232577249, 0.0667435133234223, 0.0020007256904086275, 0.01233274575512882, 0.0011521906346355847, 0.2743789330626203, 0.001043550734622634, 0.16876870143344738, 0.0014548116882803685, 0.06071019564019474, 0.0019419572358666429, 0.0011974189212079966, 0.009654927796948189, 0.002087034770076255, 0.0010586986849980594, 0.0008252620488104464, 0.0007309383392718301, 0.0010517357793171942, 0.0018690261559965167, 0.0027168682630298426, 0.0009768261805985796, 0.03127696564583243, 0.025660891257817224, 0.0008486902032284173, 0.11310597091101915, 0.0014075026031652653, 0.0007446168642131706, 0.03202621373446313, 0.000977307981612568, 0.15349372300970943, 0.004896149858481993, 0.02432831798458602, 0.0013415613071710022, 0.1871214380852051, 0.001912154628593476, 0.006522697192660953, 0.002258015752492361, 0.0020291772107078492, 0.0023757059981924854, 0.000930195030922943, 0.006215403451333348, 0.001856874994659768, 0.0020403640866869664, 0.0010442491929451617, 0.0006395909775809009, 0.00106608954051279, 0.0010126526498455389, 0.0023726100352449387, 0.000967501522298721, 0.0021401071006661087, 0.0015643586252127176, 0.0015072164392255381, 0.0010839299420188234, 0.0010284149792618828, 0.01665095547210117, 0.0009082184206106684, 0.0014686106896935076, 0.002051057751454664, 0.0009592907944233002, 0.001606868111782557, 0.1932586785165598, 0.0009447544534715538, 0.10365324961391184, 0.0228552738237018, 0.0014509056184652041, 0.0011213899264231764, 0.002458870544360094, 0.001264376034813869, 0.0006598478075840041, 0.03587305462338962, 0.0008579309742544896, 0.0025541573351649826, 0.001107732479062682, 0.08644524927343503, 0.09204880867210817, 0.0396761099617394, 0.0013300898061119244, 0.0015639778292922113, 0.0019255888322288047, 0.00111817779561433, 0.1316309063321294, 0.022106539598063173, 0.16085548633967156, 0.0009435240729461662, 0.0006626527171775187, 0.0009346645011069577, 0.001172746859608312, 0.02113669541656931, 0.001440799687496824, 0.0007844796528902317, 0.011331752503043246, 0.09273213246297474, 0.7126426325900764, 0.1636117002640801, 0.029057678239978256, 0.0009538438570873305, 0.0012311884581030297, 0.0008122608486811484, 0.006394247889100957, 0.000852460914823965, 0.035358818465516875, 0.0008092865167582752, 0.00123313817688977, 0.0011746889688720012, 0.0012101069501268113, 0.0008276689487929621, 0.005778526273748694, 0.0011929472869006265, 0.001216656354983961, 0.0017851886607196299, 0.01761594556364695, 0.002018646642145529, 0.016426867682961335, 0.0012985075182330732, 0.0010038069183572632, 0.008566885312122302, 0.0011708886402894945, 0.035358818465516875, 0.0031973179953963004, 0.0010548901785453078, 0.0015097907210910434, 0.001359821964967363, 0.0012218624950641518, 0.06613925392053566, 0.0011444064837553582, 0.0021419110995550637, 0.09386747343261978, 0.001057851380471683, 0.000729550004594568, 0.0011784841001403307, 0.001639198391414709, 0.0009174302168192181, 0.0010572772096328071, 0.023319032944179304, 0.1832267282612104, 0.4282032191438414, 0.005944541590038761, 0.3084377461697758, 0.0010200197751256217, 0.040031484636425405, 0.44595506141725016, 0.0014384310673442604, 0.0017740366989542472, 0.05975238965234015, 0.04238966035240056, 0.0011706945561083693, 0.02388274081993441, 0.10397744994972846, 0.0012997159440326718, 0.002563152778884853, 0.0019406033223784817, 0.001331220387280973, 0.035358818465516875, 0.0028819803841579695, 0.0008207690588414239, 0.094445645599123, 0.0013014279815839536, 0.001083422512952952, 0.2993301407615299, 0.000932782910102487, 0.19087130076432937, 0.002726191104792134, 0.004805049901730405, 0.23843640951126466, 0.03827597973205562, 0.0008662078220096307, 0.0015644281629285056, 0.023701552271990917, 0.002366418265750929, 0.0904633755655787, 0.0018083332079667214, 0.035358818465516875, 0.15436531262705294, 0.000767464495725573, 0.0006993986112046374, 0.002915708721003789, 0.0010044998226509244, 0.0010333532029385745, 0.0012600432300968057, 0.0008277857690289301, 0.018283450587860375, 0.0007694316494152707, 0.5806452266654081, 0.007533645727094961, 0.06516092858391923, 0.0008056430675438922, 0.0014083430087524827, 0.001183248996649801, 0.0013499727556090127, 0.001172453640941014, 0.0016125072268321735, 0.22907229762904113, 0.006188036561751529, 0.0014344602200493518, 0.0013551626700102856, 0.10929114588554001, 0.005861507176900417, 0.002317646931711343, 0.048136479676629915, 0.0015835705106974878, 0.001429137335946466, 0.0008338155997993719, 0.0015241471226529405, 0.001164603285997687, 0.10621802568718554, 0.0006898528815575092, 0.0010940421720101938, 0.02836921258542879, 0.018754085145614944, 0.0010249333238198843, 0.001276878854064263, 0.002563152778884853, 0.01794421861242817, 0.05789154762077431, 0.14016876088870645, 0.0025136728810993664, 0.0015114055210725715, 0.0014934105514531422, 0.005514789210787976, 0.12710500033236266, 0.027776293618344057, 0.0012657366964284559, 0.012839943678852222, 0.001390416477817937, 0.007559600129771275, 0.001523487542324182, 0.049235512736806736, 0.0010511769737159159, 0.035358818465516875, 0.0020403640866869664, 0.002921552798278269, 0.0010402967911735373, 0.1967225432854732, 0.001377543825245015, 0.20546202951042458, 0.16865014686206004, 0.0013653875163439904, 0.0028819803841579695, 0.014092505380939377, 0.00646005834146306, 0.0016629923425595218, 0.2126886898290502, 0.004024733524011429, 0.0006706424066792198, 0.8903946143949532, 0.0010718934944844345, 0.2289164012958841, 0.0492414399503621, 0.007840733945665158, 0.0014736653420728619, 0.06181277110111056, 0.001658885714192891, 0.0010277328121814622, 0.0010685850675995771, 0.0013204863543921418, 0.001405716454568299, 0.0007015315031265333, 0.15320735061213503, 0.0012997944982521634, 0.0025060608601090053, 0.016459254391977242, 0.2718639780001919, 0.0010730032158098662, 0.0015377945515381156, 0.0009701131308103723, 0.0006835899345670725, 0.0010537059161031053, 0.005831428182936986, 0.108393002601985, 0.0010074710659364811, 0.26785976892823216, 0.007809455015963838, 0.001170487103292759, 0.0008823019828864901, 0.0011336941141488982, 0.06310619791565134, 0.004896149858481993, 0.0010063801881175047, 0.0014581266974672438, 0.003939117283518879, 0.06737659937116088, 0.0011619765289418034, 0.0007895641303578826, 0.40616600602168923, 0.0009457880929921435, 0.0008902846555694441, 0.015191453321106708, 0.0013711975995362045, 0.0008472831778407802, 0.0010376202524259568, 0.002930516001428848, 0.7535548104249179, 0.023546782479738917, 0.0017140728236160825, 0.001332583627277723, 0.0013173569916147044, 0.0009111412803814636, 0.0007140554687505733, 0.002563152778884853, 0.027327323080726627, 0.006319664171705321, 0.0030204536674758894, 0.02469927090618272, 0.0014466566170374848, 0.15648360234292147, 0.6011287912879033, 0.035358818465516875, 0.1253875991029652, 0.0012270894905398663, 0.0015227013443374425, 0.057484692336005304, 0.22572558045810315, 0.0025575200900581825, 0.0010593330251575815, 0.0015340951716354366, 0.02752028612486738, 0.001534651247337252, 0.003312603867907299, 0.0017599542653409055, 0.0020150147458017063, 0.002595782453581684, 0.006503099683209304, 0.0034740764052130307, 0.035265734673013666, 0.008292658652546567, 0.0015386289411833726, 0.002081066035160385, 0.03718200321718949, 0.0013043784011272368, 0.02289154762077431, 0.0009612087565478335, 0.0008969721980499408, 0.04398805746544133, 0.06499577413789265, 0.22653097786412912, 0.01607421805572585, 0.0008823019828864901, 0.021697240609266068, 0.4481581444978918, 0.644155579222484, 0.001663325572707649, 0.001222999442839842, 0.0009558405907363752, 0.0017240463075512752, 0.026846401508135442, 0.006471068696720959, 0.0011632331267796736, 0.0009902266040077478, 0.0015453237034959706, 0.007194007045420415, 0.04602262724981357, 0.0013404800046341832, 0.001283368920617891, 0.007674520527040913, 0.0008893034097829646, 0.0019067289498524839, 0.0012523171575669362, 0.0007466065757130226, 0.6213095970856124, 0.033268709114630465, 0.007206023051009271, 0.000983294973481367, 0.035358818465516875, 0.002395699065707489, 0.08000439443618074, 0.11164118575559431, 0.001307326006367345, 0.0019754774962489332, 0.08595414980928028, 0.0025059642209585295, 0.0013064697481108309, 0.12998288037318514, 0.0011053006562277822, 0.0019417870346615676, 0.0019770599300295054, 0.001427754491274982, 0.0011258527667186889, 0.10384553844479506, 0.28408030557903396, 0.002041328524314697, 0.030378236439239863, 0.18827934060306492, 0.001266122131044602, 0.0009582653248404814, 0.012698915163948287, 0.17406658695754615, 0.001302133306246518, 0.11437536408679061, 0.32596994029522497, 0.0026682769544334522, 0.05831957058650303, 0.001353190231985423, 0.001024889332226458, 0.0011257712531711449, 0.0010671529871041096, 0.0013142944402069394, 0.06971839394928757, 0.0014902958144125168, 0.39904155255491736, 0.1536626072410527, 0.04570711223442233, 0.0014246899324802356, 0.0007032623714558794, 0.001187199274479001, 0.06272878388241063, 0.006207344573779958, 0.000989075096446169, 0.06405715921242171, 0.0009055803638768014, 0.0012157281393568385, 0.0008775828314821666, 0.019409184178977086, 0.11087193726055841, 0.049839930775648265, 0.006577592865302786, 0.0011268988000883687, 0.0017131260976405653, 0.0009472160246444223, 0.10668918668127883, 0.0885874396592593, 0.43605002063623555, 0.045378372534582365, 0.07655509754292028, 0.002742786597527784, 0.056862992996636, 0.002921552798278269, 0.007034412837489458, 0.0011678689101362512, 0.0020169571979340396, 0.0011932561022541847, 0.0019488515013090693, 0.001164061251288242, 0.0022753992762748923, 0.0008823019828864901, 0.22216854294471766, 0.0638765786522137, 0.0010488924207989283, 0.0009731991424694597, 0.09112709304518865, 0.20865473593560965, 0.0467015078386923, 0.053825842129678975, 0.0012007185702159204, 0.0011809132934333842, 0.0014736653420728619, 0.000955361896181105, 0.11851377173323191, 0.0022089156324319606, 0.001036243126954305, 0.0013064697481108309, 0.0017234172073892755, 0.0011863922659211207, 0.09248624469364777, 0.0010255349211781817, 0.0012928734014013574, 0.5915673581627241, 0.0013975281401484869, 0.001344675101704319, 0.0016586396546743837, 0.0009873816942162171, 0.09064104699980141, 0.006291105277567603, 0.0023705667989421847, 0.000934624831955893, 0.12341571234083001, 0.0013904959171857044, 0.020224269479900754, 0.0013214336828999962, 0.000776605535626898, 0.0018591446795941282, 0.002211479250132284, 0.03524443606952155, 0.0013720055293638396, 0.0013369579139027685, 0.0012593793101387302, 0.0012129190481255728, 0.006405643407605071, 0.0007420914779351402, 0.00176005480650829, 0.0008810246870242313, 0.0012440074413662973, 0.0009497952191616335, 0.0013241424675148102, 0.0013191060286055244, 0.0014604052979537694, 0.0007663280199005319, 0.0010093544962587438, 0.0013209662559899686, 0.0011260646923279642, 0.04206328885255345, 0.0026680514269912772, 0.035358818465516875, 0.000890553131820789, 0.09718077015129875, 0.0038695419770232178, 0.15912666488350255, 0.0013933627798683997, 0.0015518676156380912, 0.2733249147400573, 0.012473605871787646, 0.001652933300705127, 0.0009240229034625969, 0.0012616578751545881, 0.0007614658335794867, 0.000705761302803419, 0.0016706287425885646, 0.03909663253039489, 0.001853112992811288, 0.0020283915101299227, 0.0009173834415369392, 0.03648448890470409, 0.00865560477019293, 0.0012271012754791273, 0.2409584713831025, 0.11027798981615157, 0.0011928842086013412, 0.0012879357732330414, 0.0009383181440535536, 0.0010539860392952875, 0.007468950299690813, 0.00663417732074831, 0.018879883014714674, 0.0012157746017363814, 0.001169826337545551, 0.7148631012310982, 0.06462561948866366, 0.000986484192983736, 0.0013895444868348354, 0.2969045347536837, 0.7207070770455914, 0.0630028346272978, 0.0008384813503521356, 0.00701695719793404, 0.0008962743712033317, 0.001350032339951157, 0.0011256094110287092, 0.0014348284972161786, 0.021951260127272866, 0.035358818465516875, 0.011439288191322243, 0.0012780204095634606, 0.05605217512305516, 0.0019134052975340514, 0.0012393112546386358, 0.001338264911405946, 0.0019521948856780192, 0.0007101327386641351, 0.0009925966656643018, 0.07180927601253732, 0.0007140554687505733, 0.22219676587890025, 0.0014552594145392222, 0.1476941267607874, 0.00143518063682912, 0.0014103015700614213, 0.0010080432880409064, 0.0010578450850505094, 0.00628636713257452, 0.0018471717778673978, 0.03491626906331978, 0.00195027149453825, 0.15163484177413783, 0.000762154759105118, 0.0023160824994463898, 0.035358818465516875, 0.002021830180420491, 0.0010781520121544632, 0.26113302090540086, 0.0010995287718742247, 0.0015489439286782655, 0.11606192488612238, 0.1206327178059656, 0.00153923360050272, 0.3616021516221588, 0.25197009035477463, 0.0011787243820082084, 0.0006554086736689789, 0.048899342830885734, 0.002950982039063611, 0.0012825725909107416, 0.0011810843750120947, 0.06904728688683102, 0.0017075943335329539, 0.006892762368791567, 0.0013064697481108309, 0.02563376226408453, 0.001975096162203981, 0.0020129398715279037, 0.002288385741770027, 0.002921552798278269, 0.0058106722995663294, 0.0010024212893776623, 0.012763170698988555, 0.001736939631386951, 0.0013177814049286992, 0.002258479572094413, 0.00101759943766794, 0.0015117967290184445, 0.02306064708539471, 0.1487202911425359, 0.000949201702596529, 0.0011082289774821217, 0.0010034036126042388, 0.002513838748392426, 0.0018709980941917588, 0.024429018735886744, 0.0010380669361954348, 0.004345088422551721, 0.027922315660609966, 0.03138717169126517, 0.0030917060563459223, 0.0009842277084043522, 0.000904320638973275, 0.0007309383392718301, 0.005993668039789198, 0.018045104638048756, 0.0011851282301182436, 0.6446880696831945, 0.014625489315259924, 0.002369282082484939, 0.0012188414242404431, 0.0008659303490063221, 0.0009352998813920978, 0.0014736653420728619, 0.00247071950358615, 0.0010594739837667738, 0.0013830902189871258, 0.01202462533004648, 0.003167153526491375, 0.0009886233532730782, 0.003405548334907211, 0.035358818465516875, 0.4344354670656172, 0.0013959872407971437, 0.0010322748224819295, 0.2836550372301752, 0.0011048775067772436, 0.0025052801025007175, 0.0018223458333612803, 0.001261327014552987, 0.0018287022179702724, 0.0015645034932553568, 0.0018860082678082725, 0.07503204380436734, 0.0036539334248923356, 0.2709565579939137, 0.21288635189759086, 0.0013602515008781177, 0.19388277426468586, 0.03776658655151797, 0.0018450094922469649, 0.17202483728237555, 0.0011217005073497262, 0.0013220389965953646, 0.001597646291063481, 0.0009422353933079842, 0.010926035707763494, 0.0022370878218031165, 0.22337874385452017, 0.008369305581430323, 0.003405548334907211, 0.44776776158037856, 0.0011188133326081762, 0.0009070045986401881, 0.00091394196072384, 0.0007312013707614636, 0.0025434124626213207, 0.05323727178760557, 0.002595782453581684, 0.030571022577742593, 0.0015280344449144828, 0.06728472657232305, 0.5601099580811248, 0.001723031808689904, 0.0006840495114806812, 0.039891971718636204, 0.001257604984054941, 0.13087441684042228, 0.001784068993504746, 0.0011508368234575477, 0.022610317452134647, 0.05250258372104309, 0.006337831465579643, 0.024189583025315008, 0.14148170168219731, 0.06978759312526045, 0.002458870544360094, 0.0013279063116264408, 0.01338109178091073, 0.0010759478691554937, 0.0026680514269912772, 0.10047080385603477, 0.001494830325476857, 0.047873591067453515, 0.0018881809802481614, 0.10421024441877542, 0.005997750673699011, 0.0019750158019216034, 0.0012311884581030297, 0.42729842389509615, 0.21015588887180206, 0.062374953382436094, 0.0025944925111821885, 0.0011307011507603285, 0.25451141254720644, 0.001092210298599786, 0.0006881303627622439, 0.010907391876612407, 0.0020191730188372217, 0.0012857334550213054, 0.7240991787747254, 0.05732129447333567, 0.002820218920680088, 0.00091552738681131, 0.001256818464439397, 0.0011328795442760251, 0.008546080168126283, 0.08301328457533388, 0.0019067289498524839, 0.0023319101107672708, 0.4995924213075057, 0.0009923878113300268, 0.0010469781465219873, 0.0014978716347583232, 0.0010102427687808193, 0.031730887557955084, 0.001583301560330596, 0.0009609730830140615, 0.0010162259058353151, 0.021651051707226907, 0.0010950166297823273, 0.0012985075182330732, 0.013411138940688658, 0.007179347252729656, 0.0019235512591189528, 0.002566157022688105, 0.018248815274885102, 0.06468397466624723, 0.019491296887925648, 0.0009387686804502869, 0.001958243838827781, 0.0015098430625632537, 0.001110510544935931, 0.0009569381934713276, 0.05269717665690045, 0.1279044395427546, 0.0010507050117065143, 0.0009812802186745572, 0.0011405863008615408, 0.015540350566052057, 0.19188386138942404, 0.012903464538587477, 0.0010837177620671202, 0.001723405477277119, 0.0009264896483775339, 0.0021315376381626735, 0.07247486936627946, 0.18886352142921445, 0.07000476319180844, 0.001300660428374847, 0.2984935922246932, 0.001105996275145971, 0.002905668193367784, 0.0239850827159738, 0.10763060027658405, 0.0009168606041922911, 0.07683117264064315, 0.05330688510078888, 0.001181458093013447, 0.02892130552443841, 0.0016942258042267125, 0.001033540507378187, 0.0018596028797733075, 0.0010419511568960109, 0.002007345504726894, 0.001312175283409112, 0.04535259692432529, 0.08947759329023139, 0.07306089527731961, 0.0011728964254779412, 0.02131270062732306, 0.0010199051933848637, 0.3345028719449701, 0.0018658713177589533, 0.07904339241808023, 0.0011487330349744327, 0.10138186097065935, 0.1404129132299158, 0.0008043722976657505, 0.0023569924830553497, 0.0013395103876602003, 0.07667120594508586, 0.03149781493338104, 0.0011280284027892814, 0.10013049096957342, 0.0008319097123519206, 0.20172567702073865, 0.15792107344399436, 0.00117653708351739, 0.0010154267716566555, 0.006521114610414358, 0.006078178598296414, 0.106575912992004, 0.0011799413747417898, 0.0006496241408953837, 0.3123215737953927, 0.002650047809702956, 0.0011023086106818727, 0.038955184717742855, 0.015190830612782785, 0.001196657880714891, 0.001612242991600872, 0.0014541454104492681, 0.01655339433378487, 0.0014298210999974697, 0.00237229375441294, 0.0016336644527179924, 0.006034000912741981, 0.0009604759403505903, 0.021199631460999728, 0.017165227727693598, 0.0009192502301510649, 0.0011964071697799377, 0.015933810423801556, 0.024599111536687247, 0.003478588324329265, 0.0011324635032990888, 0.002921552798278269, 0.0014373734959066853, 0.01166777008852215, 0.0014014690699735849, 0.00399981752405094, 0.0011614853925055013, 0.14760020454308104, 0.0011491620631933176, 0.09526530935333072, 0.0012105698910979301, 0.5899948401888223, 0.04106966538252253, 0.15943722598741977, 0.001212644453703526, 0.007085324700801304, 0.0012790675654079234, 0.006820295944032022, 0.2807034003729829, 0.01142269280157342, 0.0021576499819615353, 0.0014736653420728619, 0.0013361187950393695, 0.04149097605782591, 0.035358818465516875, 0.0010607932167853472, 0.0014109004497995675, 0.5059137831409868, 0.0008548159187473476, 0.0006951165985678008, 0.0006835899345670725, 0.2675329505177668, 0.03575706248349817, 0.0009302143212762758, 0.3127828639890646, 0.0607505835194562, 0.2999261576066643, 0.0012339655988680169, 0.0012971877123648592, 0.0018394986719655255, 0.004044868600154109, 0.0011796564730118522, 0.275236243371129, 0.0012190974698852125, 0.00935394588981574, 0.006349753942245542, 0.0019754774962489332, 0.0007245119724833473, 0.003339248841376132, 0.001147705234670338, 0.0010240159333538223, 0.0014430374073733222, 0.001496348929865971, 0.0010034214794772368, 0.001098603311841827, 0.0014796721439153046, 0.0011742828429304214, 0.002891547620774307, 0.04612273470592293, 0.036304066743688634, 0.0011472410588711775, 0.0013831573679078787, 0.14976668852261477, 0.001390750663978301, 0.0010277546351943852, 0.11806533120140582, 0.0020232740257851295, 0.00633790877002689, 0.012394716238347994, 0.07322351631660365, 0.03100189655017178, 0.0025493370700647665, 0.09231062972502507, 0.0647695599159114, 0.08525698374299895, 0.0023726100352449387, 0.0009978385831759884, 0.0028241021053850785, 0.002820218920680088, 0.2556588487705645, 0.0010744490576010404, 0.0011968945024498703, 0.03680255044635116, 0.04970009541890641, 0.0016347246024042607, 0.0009161573983718426, 0.0007106708321955881, 0.0012949393131122381, 0.002563152778884853, 0.26822629604350445, 0.0014505942099473173, 0.0011104461674080817, 0.037334913799378595, 0.001458447735680691, 0.6825312281938829, 0.22849107026941867, 0.0010107535182915658, 0.11285177986662381, 0.04701144630046425, 0.002154921661416134, 0.0015639131071464116, 0.0014874211863784394, 0.5763043610057048, 0.011851026322207331, 0.02790043183867308, 0.0014924843704592825, 0.003405548334907211, 0.0014240635946853675, 0.035358818465516875, 0.0021833459185820136, 0.012714585395405561, 0.0009009549397932424, 0.0018373783720077633, 0.06089111345615904, 0.0011787243820082084, 0.0011775661318981238, 0.002248404555359571, 0.0009331542901282663, 0.00328790252455894, 0.0018966906025406557, 0.10547778831926666, 0.008378465061673467, 0.0010802528057654434, 0.000729550004594568, 0.0008094308922369857, 0.0010246008147711248, 0.0008355550100914423, 0.07219453502231947, 0.0012029802141822542, 0.0010157816583856933, 0.38395378502363736, 0.035358818465516875, 0.02671814479464158, 0.6317569485187824, 0.23487371974216967, 0.016372967497061505, 0.0012125648130163504, 0.002354716988377386, 0.0010846501251774198, 0.1343888636363629, 0.001382362179582878, 0.03919313322684006, 0.0677559344033056, 0.0011735946773183145, 0.001709467743633265, 0.1365159356402608, 0.007840733945665158, 0.027467563683769854, 0.0020382324539273983, 0.019476760328469612, 0.0028135114441748058, 0.0031051078669109005, 0.0013896920432203248, 0.5749952657533425, 0.22370056824638324, 0.1120455756492376, 0.0009302415000240405, 0.0010549676402867828, 0.007891547620774307, 0.00996997550394122, 0.0017881760696593656, 0.001378713622372497, 0.0014996862909270364, 0.0010167726123277837, 0.0014795207168235985, 0.001411226594238049, 0.0019210480729297292, 0.002054917874759443, 0.005798962446328512, 0.0014848609037066308, 0.08841163442304761, 0.24202910196841887, 0.0024432482278810715, 0.000925944165163272, 0.44880480593834426, 0.001689257889157356, 0.0992372659881827, 0.037766079739752184, 0.05389691767114289, 0.7590356186685975, 0.1778915476207743, 0.15140597378489107, 0.1380495790342959, 0.008546080168126283, 0.0011991460780768073, 0.0014736653420728619, 0.0008025972015708074, 0.001124249887267148, 0.10809292396834702, 0.0012805692418296594, 0.0009869997322712477, 0.03664585598289452, 0.0010145686685119751, 0.000978225613675345, 0.10581394949385697, 0.001246752625050128, 0.006708977725099595, 0.002566157022688105, 0.0010040498307496795, 0.0011073979287773454, 0.0009213050206907499, 0.0020534642519511067, 0.01621760217395117, 0.001150985891869148, 0.004896149858481993, 0.0009200465334946188, 0.0010080871613140452, 0.006019413955114251, 0.001713703301362601, 0.11258400668696955, 0.0025434124626213207, 0.0006642201333554986, 0.02289154762077431, 0.720788614800228, 0.0012289678861907094, 0.000729550004594568, 0.0023914464354249693, 0.001003323054553128, 0.022189458294189154, 0.005404505315562168, 0.04087032220242383, 0.0011278181951275956, 0.001393602367901601, 0.0007728464748849585, 0.0011703143741325626, 0.07881234633678283, 0.1393828201487103, 0.0032930956388872025, 0.0010902451594743822, 0.1781419944481551, 0.0009857128794142484, 0.001869406230282065, 0.027327323080726627, 0.18429879925036974, 0.0024574057174417984, 0.0011652524458670526, 0.31461472866033924, 0.0008355550100914423, 0.018057189924271015, 0.0010184628164952693, 0.0017178218717993957, 0.000984056801058647, 0.0009053666641191137, 0.0011367708626825823, 0.06120333853253427, 0.0012021313440481467, 0.0006389170835538893, 0.23781288527545041, 0.3075866964090366, 0.09470437929744807, 0.0543588807371619, 0.1504167638400311, 0.0068450094922469645, 0.04358566859484644, 0.001388434693971553, 0.0008823019828864901, 0.0011524346621232023, 0.0008608189130045051, 0.054778793515805384, 0.1482068042456796, 0.002133560359469727, 0.07640833179794522, 0.3510059437404194, 0.0009369398328727765, 0.0018832659025767688, 0.10679295321797065, 0.0008101043792623756, 0.0006697852822884741, 0.001761452931033433, 0.0008528449578460263, 0.045130490969573424, 0.001289558594429538, 0.0655384866326976, 0.4006058808280521, 0.007891547620774307, 0.0010836362449447039, 0.005963298583322846, 0.44844684751065056, 0.678527983414354, 0.2266159359958436, 0.0009705230991781626, 0.19720661827899155, 0.0009314675716136679, 0.0010829463949986802, 0.0013813576609991596, 0.0011732856685952562, 0.001045325617369944, 0.1143071899200735, 0.24013887710475426, 0.0603570133347001, 0.5443583308213829, 0.0006362369784434305, 0.5154209448492433, 0.01666364928886571, 0.001786185202608262, 0.23936372529207156, 0.035358818465516875, 0.0008473140902079965, 0.0012864270409173309, 0.006279386178781059, 0.0022524424614331177, 0.011052925681955907, 0.0008329249900328895, 0.6555398643573664, 0.0011822453199080336, 0.18210685588593822, 0.18038948435444394, 0.0012292041790233311, 0.001128123164536223, 0.0012356769938534006, 0.09020596709779813, 0.204457999499923, 0.09199324490107262, 0.12102719130484335, 0.0012935862476951188, 0.0012270894905398663, 0.10374460720747453, 0.036272671702662206, 0.12294871226872861, 0.00061141587894077, 0.002213894553094792, 0.0010492045985103864, 0.3962748447517406, 0.00115167774928565, 0.001127763856970281, 0.5845068183930509, 0.0011787243820082084, 0.036045598541221385, 0.0012636671376051018, 0.001652517056665675, 0.09128886830226789, 0.0013351501203326332, 0.002169693844844686, 0.001098916911897793, 0.009119629337857, 0.20196062356052596, 0.005872279552547245, 0.027107827850026044, 0.022970547190801972, 0.0014662852945179388, 0.11647054369002384, 0.6388280873924739, 0.0013631634833666491, 0.0018604651141741395, 0.001865842009659957, 0.0008984667062790511, 0.4943435517996646, 0.0012476409107006136, 0.0009376121602534164, 0.001054804115463411, 0.000910018029582021, 0.0012187435641202206, 0.0017913916871268205, 0.006330730417275651, 0.0015649856826931144, 0.03287125784595443, 0.005968137131995249, 0.058187980702980605, 0.0011076825371829336, 0.0010751785248414086, 0.0560272416008634, 0.0010220237920991625, 0.007675298558898969, 0.14991553236670427, 0.000720267479635091, 0.002820218920680088, 0.049231991520148, 0.006109984771857936, 0.0025434124626213207, 0.0013151763062812548, 0.0011671780343828911, 0.0019842740052965677, 0.001511858719314036, 0.0010109772967040452, 0.17113767765876042, 0.001062189096325967, 0.002364366173829584, 0.0015538601355656262, 0.15079443632463857, 0.0019960207942369343, 0.017825121388260583, 0.0008199215411775153, 0.006626457774673515, 0.014169363801328888, 0.0015643586252127176, 0.0018044415971104537, 0.04872421892854107, 0.0009995089488255846, 0.06622358605666101, 0.000921017508298772, 0.0013947531153143354, 0.02868861244174494, 0.0010685850675995771, 0.0010464364302287513, 0.1462928924837368, 0.1744288470364347, 0.0018864014267087378, 0.42988553605844254, 0.011025264201720082, 0.001052258919139982, 0.035358818465516875, 0.1414345374244553, 0.0012047727478316792, 0.11231062972502506, 0.03521633998904657, 0.0015087903201943316, 0.0012346332700700487, 0.0009371141702718478, 0.15530590774887343, 0.0016037164825380688, 0.0028260670699310677, 0.007672089391830631, 0.0007403466762133463, 0.001490167074796202, 0.0009702483067909026, 0.002909102066610225, 0.05253354945113106, 0.002566157022688105, 0.03575254271673183, 0.0009011410386367309, 0.15237391761177088, 0.0009691487331566914, 0.07876500783426384, 0.0014419920947552109, 0.07774047957566954, 0.0009236642069111765, 0.002447645796742667, 0.0010434265878776865, 0.0006904422237555795, 0.035120285491753445, 0.001013204037247428, 0.006083529965245718, 0.002820218920680088, 0.0023170892369392872, 0.0010647433881009177, 0.0007996028492355467, 0.001302133306246518, 0.0008190695575665991, 0.4585677936761956, 0.05967776875368649, 0.0009950604274348053, 0.0010689019809716062, 0.0012488320186833763, 0.0014523503870599451, 0.003276258274795162, 0.0015643586252127176, 0.06457902369928557, 0.001217472138409558, 0.0011637938861620417, 0.0008642721044102272, 0.3353721750579526, 0.0011282208572965515, 0.0007882079763929578, 0.0023875489899243445, 0.0016576361068833916, 0.006575589623300828, 0.0365851672163609, 0.0012419418940254078, 0.03125546561512571, 0.0005741601317010266, 0.0013188788082441978, 0.000870913909303963, 0.0007660224049998335, 0.04726485374094169, 0.045241985250453975, 0.04596477638221476, 0.0009669337146873467, 0.0017713224705776097, 0.045292265192411085, 0.0012424453143335698, 0.1696802221288708, 0.0851975856511671, 0.0011737902444086364, 0.02676676248313605, 0.021091171050618404, 0.0014715555639121282, 0.0008688728568114262, 0.0008786597262233486, 0.24746675156600423, 0.006175578904800487, 0.0012634821402714134, 0.001790151206757049, 0.0009812085386697975, 0.0009996512162685025, 0.0019754774962489332, 0.25850319854823145, 0.011152738639955053, 0.0012064462575447931, 0.0010755711610372037, 0.0020935890526735186, 0.000908543989475492, 0.21960078049305776, 0.0034724820838166765, 0.002080631191310607, 0.01659052575948711, 0.0010440420646161195, 0.03824740201844236, 0.0019521948856780192, 0.001045325617369944, 0.035120285491753445, 0.06301002465993615, 0.0017907488515376865, 0.06688135747274211, 0.001022730357761699, 0.0027282193516491964, 0.12456128686941073, 0.0011606393850475498, 0.0013076183435237858, 0.030800828954275734, 0.047204904799064994, 0.006564198323608626, 0.00154249068045516, 0.3092813932927846, 0.002566157022688105, 0.050112487259884896, 0.0011744445431764437, 0.0013387505397134893, 0.017084377894812874, 0.0008981535476762343, 0.0012500209501036122, 0.3452528242146389, 0.4238118536599163, 0.1651660344633722, 0.002566157022688105, 0.001011183200920562, 0.0015841640184724344, 0.002871833028929423, 0.0006736871121895549, 0.02171101395826398, 0.13213315244269563, 0.1536275548361453, 0.0015712219263244434, 0.006295410483299193, 0.3273202597526129, 0.0009267180733068453, 0.006539555413036283, 0.05483735945567009, 0.58223565864468, 0.035358818465516875, 0.0008600704744411002, 0.0015134409960500643, 0.029235500636513978, 0.006036848293699892, 0.0012385580546746152, 0.0007671083058216489, 0.002264853740941693, 0.20237802215674655, 0.035358818465516875, 0.069411772522756, 0.0008015041068035028, 0.030746017074528627, 0.03256116955187163, 0.0013064377895637194, 0.0008495967246362944, 0.10245374585837583, 0.10268595162136704, 0.012327393658117372, 0.17901668261102677, 0.06318824505428663, 0.0013929480071429386, 0.007613556479509159, 0.0012741349057036873, 0.0012069715566942057, 0.000955361896181105, 0.15246197924346147, 0.0006198662431546063, 0.0018265574560866955, 0.0015507503853944818, 0.13949274270040757, 0.0011827588370130404, 0.0010024052406397814, 0.002543534662091234, 0.001042550892511434, 0.0011187089667271369, 0.23523439843698074, 0.021625595870713908, 0.0010625331335601673, 0.002595782453581684, 0.038094549533348225, 0.0010781520121544632, 0.003527233879621798, 0.022066377657210996, 0.0007754368840864435, 0.21212143808520506, 0.0017517255160333163, 0.049763975548175174, 0.0011502472587961842, 0.001853112992811288, 0.3005817124892583, 0.14051050607478913, 0.006172239281316156, 0.0013376609472401017, 0.0009778398891193525, 0.17641744838785772, 0.029219383066634713, 0.0009887279295218107, 0.0008439060629098441, 0.10343273779736514, 0.019162353945230033, 0.001277733244678192, 0.021138793017704306, 0.0009225010382374524, 0.0010022637510055227, 0.11776855594065445, 0.0013064697481108309, 0.0010464364302287513, 0.06115167594118585, 0.0010798490550484425, 0.035358818465516875, 0.07811445162762559, 0.02246279281465146, 0.0006475209809489846, 0.0009224816489797163, 0.028110257731436897, 0.001976635571150096, 0.0009464546727260607, 0.0012339245064596923, 0.0009124845136442689, 0.0008517311262831746, 0.0008567333177428733, 0.0013064697481108309, 0.0017705584979548286, 0.0011792687134171663, 0.18799539215941644, 0.0009902384416588055, 0.019549752064640078, 0.002820218920680088, 0.0007799902531620352, 0.0007410190912157489, 0.001907107565237733, 0.0016347311028592623, 0.0013085746480251466, 0.03581998294107026, 0.002824910833557157, 0.0008572659891127221, 0.005975025200534432, 0.07679381273741791, 0.0011735115643658135, 0.0009898765443166944, 0.025275406852405036, 0.02371047730233039, 0.001305215351726542, 0.0007900587481008507, 0.04626290683520481, 0.2812419714950995, 0.0010653306578434596, 0.06997184654822115, 0.001007168532371758, 0.0019697824000921896, 0.0009624510798984194, 0.0017067134724949888, 0.0651885523372129, 0.18336961735399618, 0.25380996918186216, 0.04669814722712102, 0.0012393959535200577, 0.2512302702871156, 0.0006409403672510702, 0.001296603161524599, 0.01348432706128074, 0.0007620548853036592, 0.035358818465516875, 0.0939214283890476, 0.0023319101107672708, 0.0013076183435237858, 0.0007689942858707768, 0.45472420195925456, 0.005137798754183599, 0.0018979147232043893, 0.004896149858481993, 0.0009202256646068824, 0.002364366173829584, 0.0013753805804754054, 0.0008436681655268744, 0.6971731698645179, 0.001294887434637405, 0.0014817628137028598, 0.044540576528350945, 0.009460388678976528, 0.0012592857369806798, 0.0009830554155153828, 0.0009915891453340104, 0.001478049722149692, 0.20652830460999227, 0.0018127497256903923, 0.2826210054878125, 0.0017867011844716917, 0.0028537745285637556, 0.0015643586252127176, 0.0019841368675860087, 0.035358818465516875, 0.2791207089689832, 0.0008627688345538182, 0.0008623462681246475, 0.0011459209678878622, 0.0010061078587522262, 0.03068536041714144, 0.6103546587689364, 0.06964073483276274, 0.0051773649460042015, 0.0012136654052097011, 0.0020283915101299227, 0.0006509578199084946, 0.0007123364610616273, 0.0007600851837945374, 0.13826362878678766, 0.05789154762077431, 0.03594600720361984, 0.014085261090798384, 0.016100126722100476, 0.001412089425080914, 0.0010348506047697305, 0.015927136225296946, 0.008772633398130067, 0.002934452358551257, 0.006285683366869311, 0.03885448218338074, 0.02606605214746123, 0.19751127465937873, 0.0012097871816523957, 0.0006827926642551822, 0.0919964385616352, 0.011796220718450686, 0.0006396672441361666, 0.0007632616990999831, 0.08117646671811587, 0.21187262829493428, 0.02269883492345233, 0.0007517021883808485, 0.006528574866332805, 0.09424214538526289, 0.0011244051130552362, 0.031747043761184146, 0.0011569877498141695, 0.001107732479062682, 0.0018756569762364945, 0.0008155999326200782, 0.002594699787027764, 0.0008526947824409974, 0.0009068831301507386, 0.4823105915375176, 0.07547667906123291, 0.26254489313220825, 0.09231062972502507, 0.0017364296210457735, 0.01827629424389095, 0.0015307915762475266, 0.0010289930754993804, 0.0009549019192219806, 0.27238223692811725, 0.001977638590560231, 0.0008579309742544896, 0.0006976825408559593, 0.0872261266846109, 0.29395566632190545, 0.0021786902568417285, 0.17834384408098047, 0.1228993787023387, 0.06394082057485775, 0.0009956053927705827, 0.0011064208381154597, 0.0012271748447278046, 0.002264853740941693, 0.0012702155937656784, 0.03713043947934312, 0.0006497410953057114, 0.0015639778292922113, 0.6321898816660606, 0.0038982623367312882, 0.0015643586252127176, 0.0007420914779351402, 0.006355348232980615, 0.17377011116107993, 0.22308410850542829, 0.35952586814404996, 0.011691357252190166, 0.0018593209551313757, 0.044398974223908816, 0.0009168606041922911, 0.000729550004594568, 0.0014720019201405815, 0.0011588081636233, 0.003256148292162031, 0.035358818465516875, 0.007891547620774307, 0.05719431543757328, 0.0006922597933511735, 0.0008731224624761751, 0.010075200749910088, 0.035358818465516875, 0.00648659306446578, 0.001155453541602088, 0.0009351465232661332, 0.000946779679166435, 0.13690285031011587, 0.04828590528111464, 0.0013064697481108309, 0.052761114594134524, 0.12341328918535496, 0.006627557826067344, 0.0015494601754623828, 0.02099357116187714, 0.0013008910459687778, 0.1767908242737375, 0.31539092470266816, 0.0030278333957588595, 0.12222803801925994, 0.0010960494608401638, 0.0007723543740996434, 0.0012969808277297733, 0.0014736653420728619, 0.0006237708552125862, 0.0011855936330333826, 0.0008026600733307772, 0.0016310804959027336, 0.0009394396102666019, 0.04087169825105481, 0.001107732479062682, 0.0016223960836922945, 0.0008734182064628409, 0.21229103590984233, 0.0013556204546956777, 0.001710499918097045, 0.006234313790242174, 0.0127945094350753, 0.0013312131286684868, 0.0014115109643219955, 0.0009120793190429372, 0.02918442326841301, 0.037410608203543846, 0.0007425976629620485, 0.004894742870739201, 0.01298169362461641, 0.08704713422439246, 0.0017999726438537949, 0.09954833360542306, 0.0010245779599292158, 0.0008582734510725844, 0.0019754774962489332, 0.0023671182551572413, 0.0010164714909906565, 0.06284361171679247, 0.001114639403171724, 0.25927216292376687, 0.0011865460740726, 0.003405548334907211, 0.08654867210745348, 0.0013475456569055832, 0.0011480624813064138, 0.6701525912963753, 0.13378497713423482, 0.0035480134044055373, 0.003597115635280726, 0.013821877554852379, 0.5091030115223856, 0.001330573627026539, 0.41684122322823747, 0.0013947152015531634, 0.0011172295145882658, 0.07558710295679269, 0.001075954925371675, 0.0014220710309921483, 0.001021585174078376, 0.000684904418804073, 0.2897301998889705, 0.007257702389379161, 0.02413123713212379, 0.0011403323254104817, 0.1428519730142392, 0.10550353372608919, 0.0020353431217721755, 0.006449576942572848, 0.035358818465516875, 0.14429598242176045, 0.0012310586402702575, 0.18581795299637405, 0.0007775062415883152, 0.0008204874396039873, 0.005933331293939146, 0.0012503011067137443, 0.0006500813480329955, 0.29155717011413407, 0.043311667048954255, 0.0007495290541285301, 0.002366418265750929, 0.000951340410517517, 0.000916799559499615, 0.002160668750451733, 0.0011769027834032959, 0.0014430471064256955, 0.0013946775783193236, 0.002095167349233074, 0.05084988938298808, 0.006590569013928633, 0.15244419885807106, 0.0022635325908001375, 0.0009659978719194819, 0.002730825159153421, 0.0010271851788036573, 0.0016934584284670903, 0.18388152748822453, 0.0014029498508180112, 0.006098117650466316, 0.0010253246680448115, 0.001335689164454093, 0.005985545763316334, 0.48028238380758637, 0.026777021177160416, 0.0010320572009953326, 0.4668592507818611, 0.13696305763476313, 0.0009207856624127444, 0.001288986274151917, 0.0008504044249589928, 0.000774689347668233, 0.020338520216379732, 0.006290509902116134, 0.0007109150429266567, 0.0008606241673541388, 0.11457000895075399, 0.0006518253719881406, 0.0006440941621858478, 0.0007985258131871446, 0.0007381503495757344, 0.0007088516061493087, 0.0015884962892881848, 0.006138616043695817, 0.0011600320769553252, 0.11037817365928648, 0.000804644574368694, 0.0017415684861951009, 0.0035717515572643685, 0.00235731550064121, 0.05618150462189843, 0.0011527209983064942, 0.0017502509368986687, 0.0007303734420933224, 0.0011588246657872048, 0.038561085396117925, 0.002566157022688105, 0.0010730565688122189, 0.00128221285278734, 0.002002929319156907, 0.007575540980055797, 0.0009374961327164615, 0.023037676836119722, 0.0010160000242942103, 0.0010685850675995771, 0.1583004074904769, 0.0007775706470755127, 0.05384296804449484, 0.00687693795889803, 0.0011549507376111786, 0.20361759892727066, 0.07281928400853137, 0.0013142944402069394, 0.035358818465516875, 0.09948895714296303, 0.0009302415000240405, 0.0022675707246076846, 0.02042510125100551, 0.006164807276414635, 0.0007279247107385877, 0.7760570754898077, 0.002391297183703932, 0.03359080478552068, 0.2274019819156801, 0.04248239932202678, 0.011039331975620095, 0.0011971089399872728, 0.017188003412841428, 0.007891547620774307, 0.015728599046132462, 0.001006370868007371, 0.001010221111423946, 0.1116006416152683, 0.02731414746640555, 0.21975607259368865, 0.035358818465516875, 0.13175225064984367, 0.06682082510061157, 0.0020258950196417776, 0.0009134492575700281, 0.00121582970185146, 0.10896883292236698, 0.01918155482211456, 0.003405548334907211, 0.0009833861220536662, 0.0021692901731713453, 0.0016436121855729934, 0.029999710671396992, 0.0063474350454958625, 0.001512126112360612, 0.0015805077240347235, 0.0008414114022933347, 0.04685016119288396, 0.001024042943420243, 0.27210494570094895, 0.0029715858539107304, 0.0009473868264972876, 0.0011516837628544857, 0.0013024252842446812, 0.0007043514534496182, 0.0010408751189004675, 0.024599453180971866, 0.000915352268838587, 0.04612542187972376, 0.30105157924785797, 0.0020746268682941362, 0.0014240635946853675, 0.11196136799619957, 0.02631660563725766, 0.0012741415315988896, 0.0009670424686431029, 0.12635395815583805, 0.0012339672455568779, 0.0012440074413662973, 0.0020009475714923303, 0.0016344697523528406, 0.0016577976357214478, 0.13195681409192367, 0.0011960701602644979, 0.0009533708662519021, 0.0882207209661424, 0.15130370998212536, 0.0016300847515984128, 0.0013099107312872593, 0.0019599017730076032, 0.0005769931076696177, 0.002566157022688105, 0.1386444000782991, 0.0017281823870784075, 0.0012008755404254927, 0.001218657303785042, 0.02724645967688396, 0.048198102116144025, 0.8416498897920184, 0.001192332572586688, 0.0010690167255514292, 0.002264853740941693, 0.0025508645406079103, 0.0007903401248073324, 0.0006835899345670725, 0.42426781921898477, 0.0010713883477749574, 0.0013754255685183654, 0.0038638889324747326, 0.002891547620774307, 0.002595782453581684, 0.0009605435157710046, 0.0023733684428988064, 0.0011991460780768073, 0.035358818465516875, 0.23968643999602968, 0.0013318251772318692, 0.0025434124626213207, 0.001021545761117786, 0.0013328439859573637, 0.0014736653420728619, 0.0018803262223395505, 0.19732414077016225, 0.001503218797653653, 0.024311977338688166, 0.0009414727132418134, 0.0007612301890874859, 0.001011659383433006, 0.000866005310783618, 0.0013029349530244655, 0.0013077426413747272, 0.0007119017532270487, 0.0011665709582086377, 0.0008478419687811286, 0.04473449605196953, 0.0007119017532270487, 0.0013556075945127366, 0.035358818465516875, 0.02261525250245973, 0.0011324455512818396, 0.03432089023025898, 0.001117816212445448, 0.10274070815684148, 0.019433650874211686, 0.0008025972015708074, 0.0009874845693767088, 0.0016616568095074598, 0.019325846254372555, 0.0008122608486811484, 0.001405181615044068, 0.002451795655918669, 0.001978357837475128, 0.0007421126739671158, 0.0017742600685862597, 0.001649644296546236, 0.0011985778752269414, 0.0019265544095869933, 0.0012311884581030297, 0.0016893232575987966, 0.04699076168435899, 0.0013376609472401017, 0.09643583322957132, 0.0018690633355679105, 0.0015288404788409628, 0.0009007367744885929, 0.001580197320175412, 0.026306469748110833, 0.03704967776873861, 0.0012008597763495908, 0.15626623613873958, 0.0011771830995316525, 0.0011983075553189753, 0.0010564416543970365, 0.035358818465516875, 0.42473452307200155, 0.001099306642060222, 0.001559757234244317, 0.0012423335303181587, 0.0006623976628871932, 0.002452877802505601, 0.34075993814475986, 0.0013516151891519615, 0.0010603739323570682, 0.026960748519230984, 0.0026127420345733597, 0.0014046747616768738, 0.0008728552683438868, 0.0012271012754791273, 0.0015643586252127176, 0.0008996639305593078, 0.04189454724401665, 0.03232374451165861, 0.05041494083741637, 0.001115889386888701, 0.0010874638901049775, 0.002892686189440754, 0.0011500324044122847, 0.0009583771937283324, 0.08117298604080046, 0.0010718013125489475, 0.0022045906870288745, 0.02083716149466616, 0.002566157022688105, 0.0016396555467556692, 0.001534651247337252, 0.27836214956584415, 0.15042744690342558, 0.0011505925341672588, 0.010638893599884505, 0.16506706504989707, 0.0031512634838695647, 0.08604694256177849, 0.029780464478091427, 0.0015804626812500888, 0.0007900059640498431, 0.01377714443379546, 0.0026680514269912772, 0.01725032251946483, 0.0019754774962489332, 0.000808072655590111, 0.0009601793149143113, 0.0007647052776623813, 0.09927156558061634, 0.002543534662091234, 0.001985929423390121, 0.006409695865238161, 0.0020516646250590504, 0.0011864672945559116, 0.05417558391309765, 0.0012478649466915064, 0.0023875489899243445, 0.2930964614687166, 0.0010637638709853371, 0.09980246685836566, 0.0006932896939209035, 0.01641439104377243, 0.011415371338305657, 0.0011522215910618105, 0.03483542414550228, 0.001096849418417272, 0.002160668750451733, 0.35833616644444877, 0.0011494419821627283, 0.0012704208480264765, 0.6151348298113415, 0.06003314074164667, 0.001849361988555189, 0.001236569039978145, 0.0013650117235814328, 0.0010120970466130708, 0.002267556882319779, 0.0013168863295011167, 0.002084784983399425, 0.0010166377688533678, 0.17944866423518926, 0.016975546210120148, 0.0006969049811554856, 0.10302709887500558, 0.10052135932522896, 0.001236402839884625, 0.052834833324060845, 0.001307493379541323, 0.009938429753736173, 0.0013781302488034288, 0.0010713883477749574, 0.0006310996978415554, 0.041006919633398364, 0.0008431541522961564, 0.007393148523726564, 0.20202471531031949, 0.012558007176717772, 0.002369282082484939, 0.0014891718294795149, 0.2308364090480039, 0.0007137745011502094, 0.0011824391431767257, 0.0012993804235376934, 0.2383083515688839, 0.0008039493886531211, 0.0012968571316829354, 0.00370023928323543, 0.002069526095406974, 0.1055156957751256, 0.03490403275892555, 0.0011363930079239316, 0.0009857858152842605, 0.0026680514269912772, 0.02812779363978221, 0.26719169560937284, 0.0010098130460164687, 0.15041613181028735, 0.001267702726221757, 0.0008337531690673133, 0.05305750110926603, 0.40736129287653977, 0.0007488958480595376, 0.0018860082678082725, 0.11301378718372726, 0.0010646136319072295, 0.0017899641948064856, 0.014945122215521408, 0.0015238468689260695, 0.0007732416805204279, 0.0009124265555409783, 0.006582983207172329, 0.0010843702781368919, 0.03139693312488776, 0.0012843599956439483, 0.011777021177160417, 0.0008928935447073101, 0.000729550004594568, 0.0014523503870599451, 0.0010698279616741556, 0.001636973966593703, 0.0013516021706327754, 0.07647398455518437, 0.0014983208693750887, 0.001422284447566714, 0.0011181939468089027, 0.003752108032644419, 0.007344554964633503, 0.0008883165203556312, 0.005840830473684993, 0.035358818465516875, 0.243018770160622, 0.0010970295781012912, 0.0017176802573092339, 0.002820218920680088, 0.001220698427138132, 0.0015565919739839898, 0.0025434124626213207, 0.00115903468136261, 0.0010286112962940744, 0.0019754774962489332, 0.001708118777331886, 0.07299686920726578, 0.08391190766447712, 0.0007812492434541137, 0.08849235781355062, 0.04993588838529691, 0.00183993343454907, 0.02174411696573661, 0.0688900329048587, 0.0012950094904217713, 0.001092230275694893, 0.0009102095071562989, 0.3893072269189134, 0.0020357840804335306, 0.02818598408325008, 0.001022004791753722, 0.006749553471390064, 0.001170749904652842, 0.00227237775821102, 0.003297346741669918, 0.035358818465516875, 0.016537307137170592, 0.002921552798278269, 0.0012377895288759747, 0.006538992810829478, 0.011059275034915314, 0.0029550401976274863, 0.017070234403528853, 0.0010240825473747446, 0.0011008715421515177, 0.0011033552803429215, 0.038743946576503194, 0.0008559046534519848, 0.0011530769483607105, 0.05407968570830731, 0.045944707253199324, 0.0009817756084826096, 0.0010442417401242408, 0.02919793372632864, 0.0010161908677971659, 0.001183651565742617, 0.0007937536915468908, 0.0008213928982201836, 0.0008581865942626049, 0.1036991542688169, 0.0014288376695304967, 0.11317509784681659, 0.001232452191847443, 0.0008600085773253176, 0.017361681412234015, 0.0009775505555718014, 0.2704751666984072, 0.0008092729668315779, 0.029417914530418206, 0.034386448639486936, 0.0010909477986832323, 0.0007090730695075209, 0.0015602834815657217, 0.0014661381612508192, 0.0009969333035918767, 0.04570761073084694, 0.0006922688586899454, 0.0016402796019847222, 0.0015307915762475266, 0.12001479205680592, 0.0010494454351058112, 0.0008055905223339743, 0.0011661094001749167, 0.021063762373987653, 0.10484275602794413, 0.0010275650878362604, 0.7680970836243821, 0.001211878761079213, 0.02137177792142777, 0.0009003743871370491, 0.0142824594085286, 0.6205198358055826, 0.00116456737934156, 0.006145502655285311, 0.46120577762785764, 0.0012985075182330732, 0.22952515637696952, 0.03964983835094235, 0.0008116072521092233, 0.035358818465516875, 0.018622537998864416, 0.0007995553807699061, 0.12417779834413092, 0.2105149168516439, 0.021138793017704306, 0.028637672240162233, 0.16922829068731732, 0.0010119994172544519, 0.15438945519581798, 0.014187985549193025, 0.0024381126197638514, 0.005958689430386474, 0.1358445558075633, 0.09480604499893246, 0.14238382870630226, 0.0009833861220536662, 0.2568673909920844, 0.0036539334248923356, 0.035358818465516875, 0.5497196051570932, 0.02294122283616574, 0.2725169029303736, 0.006256234981576696, 0.002086917295562211, 0.006133477278511952, 0.034661673330640415, 0.0009367583811189339, 0.0007724816681192712, 0.16586225051560222, 0.0013252681586717536, 0.035358818465516875, 0.05430869208936933, 0.046777363518303236, 0.01592457335490059, 0.0013511994301179165, 0.003405548334907211, 0.0013750590299917795, 0.0008790554251408803, 0.0026990867612588076, 0.001004284018315172, 0.0014733999809530616, 0.00611281021553885, 0.001578620287975001, 0.08016445908551725, 0.006702372741896353, 0.05699081813098972, 0.009196668716154884, 0.011826431162771427, 0.3342425230969668, 0.02155145068129448, 0.0009456784887989893, 0.0011618834438734099, 0.0016917844533632647, 0.028546332896093533, 0.001545073567758534, 0.00117536473362418, 0.0014429148165256368, 0.0010659096796705415, 0.14934680284333549, 0.0010516245394094014, 0.3153582872417583, 0.015107433524542961, 0.0022569974057958823, 0.0012300122661957032, 0.0007869776509125791, 0.024953956640418058, 0.002107597037728324, 0.0012873710829848508, 0.0026775719130110527, 0.0037592332914130034, 0.0010681251560178317, 0.0015307915762475266, 0.0009659039004530179, 0.0010458375466974271, 0.022929944165769163, 0.0014736653420728619, 0.005975867130885342, 0.0007090999277404586, 0.001209932142022, 0.002223496051334012, 0.002655664379845828, 0.0008345701298147703, 0.0009504639823414093, 0.035358818465516875, 0.0013884443977240151, 0.0008008863987246572, 0.0031401927263123007, 0.029999063004277373, 0.12344024033531628, 0.0018461224000920575, 0.001165470927627088, 0.001534651247337252, 0.05334792393105803, 0.002563152778884853, 0.0009824280685214932, 0.0010724929950016568, 0.010978996444199541, 0.011022631659625467, 0.0014333179937973451, 0.058328391083978484, 0.0868915461768544, 0.07707845831153733, 0.0014552410885178009, 0.002403607702063013, 0.01395241965285542, 0.12291764273753691, 0.000942445484332856, 0.02752399884979971, 0.0013408803436823404, 0.0009066733971559001, 0.13335296835082028, 0.05103540145174468, 0.0009906782092795141, 0.003019951971039602, 0.0013222765969106063, 0.0012946867064747062, 0.0015643586252127176, 0.0025920790605351747, 0.04746967165924275, 0.0014530555138602696, 0.002264853740941693, 0.012891547620774307, 0.3584183648928304, 0.003281272489754935, 0.14652599132504437, 0.015017670487350119, 0.357480813092153, 0.0006975031032737436, 0.0006708285520230837, 0.035358818465516875, 0.02022600219622679, 0.04067936843446997, 0.00393346470782258, 0.0011708633074157357, 0.001304437862687563, 0.0006891114045959369, 0.0011307540330462653, 0.0011649424526265063, 0.035101131556464715, 0.000729550004594568, 0.001991964446271087, 0.7453427636941237, 0.07565563958559085, 0.006448715647483135, 0.0009012494688424006, 0.00429632894493087, 0.11135117429529189, 0.0009702683232222298, 0.0013064697481108309, 0.0007947342856675348, 0.0017799283073854093, 0.3243449395956859, 0.0008912011482685242, 0.001149925913293203, 0.048657405821721636, 0.08453785188591265, 0.000684832258407991, 0.0025575200900581825, 0.002566157022688105, 0.0027610776881236356, 0.001593153497345029, 0.017894221580423808, 0.0011515721842773952, 0.0008239901017717798, 0.0011637249308645088, 0.031694314309710314, 0.001154194814079541, 0.007538395700639118, 0.21806717397214928, 0.0015351012458009788, 0.008100027315199744, 0.0009608133805747737, 0.06074095214701086, 0.0009369398328727765, 0.002189413779885208, 0.00087525179558029, 0.001534651247337252, 0.0007454432506382123, 0.02724645967688396, 0.05522682931425957, 0.035358818465516875, 0.0022722851763090613, 0.002543534662091234, 0.035358818465516875, 0.0017076978625039704, 0.0012311884581030297, 0.007891547620774307, 0.0009201201800420353, 0.0013976054156593092, 0.2736963129125489, 0.0014240635946853675, 0.1385150324226028, 0.0007701335617227851, 0.27791295815800654, 0.14964642614593116, 0.24854690280741154, 0.001494830325476857, 0.7973501066778355, 0.0012271012754791273, 0.001039690529033913, 0.0012200678638769813, 0.03953708766141942, 0.014878392030513027, 0.24981362800300266, 0.001385780430342002, 0.0019295788279732533, 0.026314987350903603, 0.0018514447459977912, 0.0011714419607620915, 0.030141833017911675, 0.0010685850675995771, 0.4300700425647642, 0.0027282193516491964, 0.16372402846413742, 0.0013735343289429784, 0.0010395765685902215, 0.053175354791129434, 0.0011709460155662496, 0.0019075110921460347, 0.3584602558519248, 0.0011203297788149264, 0.0036405027752740822, 0.0012478649466915064, 0.0010642783185329093, 0.0009610718892767234, 0.007840733945665158, 0.009349363430109184, 0.0014494929197125632, 0.09743618256328641, 0.0016063530317997842, 0.00195027149453825, 0.0016917844533632647, 0.0011559081876718993, 0.005879087735168309, 0.0008257506606660695, 0.0008738392413935474, 0.0015579007525790818, 0.001232452191847443, 0.0011173504179252955, 0.13213023251581385, 0.0008345863837097209, 0.001089667256385239, 0.0012329050022974709, 0.07040457766583785, 0.0017962838882860065, 0.0007137745011502094, 0.0457167472955685, 0.0007454058057688815, 0.0011443368983868618, 0.000729550004594568, 0.13418588215654978, 0.0032364807569075205, 0.5859429805319656, 0.00102324341055695, 0.4324258679578659, 0.0009220464913770114, 0.0007838412977505419, 0.10359832282778267, 0.14387605507335466, 0.0012133436302362377, 0.45741446053616963, 0.04165084977090343, 0.0014217313282992052, 0.015422748834349315, 0.0009866025705334803, 0.03395057607345614, 0.0014048523242638905, 0.0019255888322288047, 0.0016713157833275157, 0.002301482214794179, 0.014241985404515684, 0.001757698052397623, 0.011227988457999183, 0.0028343504058485074, 0.0010983297827346417, 0.0014776907149629665, 0.0007881960361460829, 0.004436778544914753, 0.0009720580437037156, 0.0009683599599704345, 0.001082140037607385, 0.001530742800316826, 0.008181011508706506, 0.13144961019870863, 0.001865842009659957, 0.0008465633905002975, 0.6467237923750739, 0.0333260016456899, 0.0011936488080360893, 0.0011385161912970474, 0.0011986189235966285, 0.16466822944143542, 0.004992563475707935, 0.000729550004594568, 0.21321771193599326, 0.04398719816429643, 0.0018537459296824386, 0.0006699536552068027, 0.0018673142755349012, 0.0013076183435237858, 0.009376817502518904, 0.18519921837632428, 0.07109221355854173, 0.0020379742767969, 0.0009655917975560043, 0.04218543878168654, 0.0011726558357229243, 0.4081528522071277, 0.0009862486990505105, 0.0013142944402069394, 0.2159791457863519, 0.001036920467861181, 0.001146185407681935, 0.05124842499632222, 0.0010422998313806262, 0.0013507453687445297, 0.001092142139516603, 0.4411703346681748, 0.0019043173038960515, 0.0019134052975340514, 0.0014100783572444434, 0.0006835899345670725, 0.000754946175205567, 0.0006148080798855241, 0.0014523503870599451, 0.0009414727132418134, 0.001991964446271087, 0.0012168453486725399, 0.0007140554687505733, 0.06171732285994053, 0.004916903427760166, 0.2568673909920844, 0.007840733945665158, 0.005856352000505261, 0.012417892084425692, 0.0014452084214511098, 0.006261933652967523, 0.0006815922190516092, 0.001281745788073746, 0.0010499311982971181, 0.0065993795676975164, 0.0013115795018407868, 0.057889764997401706, 0.0008865591418582801, 0.0013368635264818668, 0.03322016238339117, 0.0011614853925055013, 0.007891547620774307, 0.07640833179794522, 0.06414754736141878, 0.008495070006985052, 0.0012414022955134156, 0.12249946432898542, 0.07282149059067279, 0.003984679471528241, 0.0013535658502180823, 0.0013404648186382507, 0.0010312017092782221, 0.020053274670164736, 0.0008813990190617611, 0.05493939270840224, 0.0007582858395946843, 0.000906909714041975, 0.29722040380583103, 0.08320728415957304, 0.03825923186576629, 0.0014949786917232842, 0.0010897749066041374, 0.040986544624021175, 0.0017147278823056121, 0.008434618239467877, 0.2145917005920452, 0.0037259593238988423, 0.013638478294770858, 0.0008572086613765616, 0.011305754559071167, 0.002178882449986524, 0.0011267667551324572, 0.001198090752063876, 0.00116237973330934, 0.07798072155914404, 0.01099449841235904, 0.000675224120365864, 0.0009869394478556903, 0.0018918358884271874, 0.0023339403520874673, 0.0022675707246076846, 0.0016777426129367058, 0.0014766006342103928, 0.0010908214523946227, 0.01670293834369999, 0.0009504744428917844, 0.0009235739151488045, 0.0013082961520739494, 0.000964330266403131, 0.0012311884581030297, 0.001549297972342934, 0.0006083534613180311, 0.0010671419138288105, 0.0009086339165175758, 0.33628464013388804, 0.0010212499419752935, 0.00157260332875456, 0.001410556009898132, 0.0010291517913891956, 0.001153560279408895, 0.0018799576253156517, 0.4823105915375176, 0.0011657059466964991, 0.004440028606625878, 0.0012893350828403715, 0.0014097024938020516, 0.0764410313634566, 0.0014530361413453788, 0.0036601257723143953, 0.035358818465516875, 0.14861740389759298, 0.5653240616249564, 0.013035634132657105, 0.046448880240238626, 0.03245503724139853, 0.0007101327386641351, 0.0665336200974764, 0.0015470285871799847, 0.00865310200573265, 0.0018664196322417323, 0.0006835899345670725, 0.001815764506163101, 0.0344399198179815, 0.0011528540894517627, 0.12808667866770945, 0.000853625077678252, 0.0007925758035542111, 0.20118019890758876, 0.016451663283651632, 0.000832781315554855, 0.05447510414836285, 0.001009423567752659, 0.0009782593451149125, 0.001129310133244964, 0.001522355806162303, 0.0007177328628585966, 0.1899277439525422, 0.001184806052579685, 0.019353265304964666, 0.0016209348218711235, 0.004896149858481993, 0.10684774404894741, 0.002921552798278269, 0.023113837217341535, 0.1187406255652735, 0.897973324435843, 0.0016227884610426565, 0.001552981961559589, 0.2665426328304869, 0.03933864835725323, 0.0011970321717000442, 0.0010312343372238433, 0.0017451198181986972, 0.0013482328446960247, 0.0013602515008781177, 0.0007826544530484653, 0.035358818465516875, 0.010407255846496946, 0.07564801846864369, 0.006041573669691387, 0.026413468575231507, 0.001256818464439397, 0.0011098574388732046, 0.0010577745553474781, 0.029158226329899034, 0.0008295583001071362, 0.0010376400526074226, 0.0009667108238282308, 0.006080543381591241, 0.14812438972441805, 0.0009209520233361501, 0.17226741939384993, 0.0023024410366153944, 0.0011748016284319925, 0.0006428562162160712, 0.008755707015755133, 0.12088846500545311, 0.15049132199949491, 0.0013715702754447377, 0.03363402285022562, 0.0208739269263055, 0.020287557798065993, 0.0008865339536467444, 0.001524667657261775, 0.0026416932514357378, 0.0017375253004080673, 0.0008376983593014662, 0.03391352317201092, 0.035358818465516875, 0.12546808690087888, 0.0009003930583957978, 0.0027956957023971434, 0.0018973098697157007, 0.0011198913599118501, 0.0008236011203209274, 0.0023318368673032846, 0.0027468336828475478, 0.00113487946870961, 0.0015112489768294014, 0.001158842411350773, 0.11511542516473161, 0.07971288072888605, 0.0011793123446387553, 0.0011457712801130244, 0.002213894553094792, 0.0009619942282696075, 0.013953358022375826, 0.2343592206999353, 0.14967185884631132, 0.09605690731587765, 0.0007072851492972511, 0.0018376509655625662, 0.0056413417386448235, 0.039504126177499266, 0.050049983061097904, 0.000709323509874467, 0.0011622246255407309, 0.0020507585740501748, 0.003224995247105135, 0.1752722526143135, 0.025547497400787614, 0.0015372451431351743, 0.2256916988056113, 0.001150043927970862, 0.0012045604019774278, 0.4214400311031629, 0.0010623366997177062, 0.0011636619889206874, 0.0011269056361834654, 0.0010478951686005195, 0.03902315880635084, 0.000853024444070857, 0.001047387750404308, 0.6698177685961662, 0.0015643586252127176, 0.001148690628642733, 0.0059842368129254895, 0.07541967312506727, 0.001058454630923368, 0.0010219463628636297, 0.0008122608486811484, 0.0011281625319817907, 0.11258971235618566, 0.0024155307509950825, 0.02408887406206063, 0.0017958656209926078, 0.09011797749117673, 0.0010599013746929373, 0.0011487883811465442, 0.0008226853157110731, 0.03292561615183611, 0.01609613632564744, 0.0009330622565419221, 0.0013490705875223424, 0.0011616176797682822, 0.28684186185808225, 0.0009644443808568118, 0.0024584493566640604, 0.0009055517827292939, 0.4673105915375176, 0.06323800619614899, 0.0013971792631081756, 0.0011220980219271454, 0.0010755887913126245, 0.000958139591907088, 0.001452356347347153, 0.0012210091388017324, 0.0012509983972380052, 0.0011629197426631522, 0.0010269556522064037, 0.003896205079335094, 0.0015564660785812273, 0.0017402853983584227, 0.006429338411476566, 0.0010964195325139365, 0.02767336007105694, 0.002921552798278269, 0.001043452497062834, 0.0009349883348065365, 0.031231188458103028, 0.000891871311425194, 0.0006594655355307912, 0.0011285515842942458, 0.0013064697481108309, 0.0011123418079423044, 0.0011554588668186568, 0.041564152791306506, 0.00624993517564098, 0.0010807291012069995, 0.0019065318987603556, 0.009846427954548638, 0.0012926425666700873, 0.000678799281078126, 0.005880392475123886, 0.24969084327014635, 0.0010583768102964079, 0.5746326906504877, 0.03104614552462464, 0.0009110669216810367, 0.08215655169025379, 0.000743116896656759, 0.08818744887658635, 0.001430165752906018, 0.05776396139275665, 0.0008756163301856017, 0.05232371201825377, 0.0014625409484372378, 0.006097425700452354, 0.000982868200312366, 0.0035278385033150022, 0.09585810284431615, 0.0011552618521122571, 0.4224227718934678, 0.0011131975445694176, 0.21695028773244704, 0.011776840015370087, 0.1250343842074798, 0.03558032762599783, 0.001227808754529031, 0.0059422508558410764, 0.0017864116853366172, 0.001302133306246518, 0.0064761747073441515, 0.0005964747845047787, 0.02045867936927797, 0.0014184318117388822, 0.007719830429483864, 0.019797618586743105, 0.001256279129980528, 0.0006736871121895549, 0.0009120769499862922, 0.0013064697481108309, 0.0010693882511690711, 0.11679981390612215, 0.0007124777368808428, 0.08920120504511347, 0.6768317332495122, 0.0015927852941611499, 0.1545922492002622, 0.03381493253213135, 0.0462028232905228, 0.002820218920680088, 0.0011416290228804373, 0.016136246644521426, 0.012113702213443784, 0.0014444605517280307, 0.035358818465516875, 0.0012171419053542802, 0.0006336628412070201, 0.001110007557128931, 0.001028705932520083, 0.0018534785745845871, 0.035358818465516875, 0.0009417012848719704, 0.00266529697472909, 0.004387186517956682, 0.0014505942099473173, 0.2505988459003855, 0.0014105785023896219, 0.0012900153740671668, 0.027410716544053453, 0.0011672339375500738, 0.0015345986539622117, 0.0009449391389827925, 0.035940969970011685, 0.26918968354148437, 0.003405548334907211, 0.0020052420437310795, 0.000931528227139507, 0.001393050464754613, 0.12544840441969174, 0.04161015209383777, 0.0016960678654448147, 0.005211423612975148, 0.0013475456569055832, 0.001303530724260994, 0.0020161998601746158, 0.0008947309739969488, 0.014104894429345085, 0.0010146631359580327, 0.002392983046288723, 0.004083411049424734, 0.0012396717159096694, 0.0013064697481108309, 0.0022735137713618056, 0.0018578020061591845, 0.0017302350328590131, 0.014508513288824288, 0.0009135979087361356, 0.006687577460069741, 0.006628481457438193, 0.2508192140226981, 0.0011749631631458037, 0.000828845728083586, 0.00109984758551471, 0.0011057054613852898, 0.0023973439656306402, 0.0020382893342943257, 0.002698437220749432, 0.1684017190300675, 0.0017394455286566762, 0.0012344593207979661, 0.0008050350295059685, 0.3348642047208611, 0.0012460538977839921, 0.03207154050033788, 0.0009910300309102279, 0.0009221569417624829, 0.03217970686229437, 0.0013387505397134893, 0.001066515096956667, 0.011264798497171158, 0.0016259619125102264, 0.0016134855714735822, 0.0006974063169294931, 0.031231188458103028, 0.003405548334907211, 0.08926727751235689, 0.0013609794286600222, 0.019339163250233302, 0.01586820077141199, 0.0013858664922853869, 0.0011267099740359138, 0.002435350129481648, 0.41699820460344805, 0.0009624186371813287, 0.0010058229951821723, 0.33675508664773357, 0.0008886041644242279, 0.0017216581180085188, 0.0020283915101299227, 0.0009011774728618777, 0.001064403024687141, 0.0006231769713688759, 0.0008330890568605551, 0.0021418408274368884, 0.0014075756013285498, 0.0024606357826838987, 0.0019754774962489332, 0.0006394366639066149, 0.0009285624754884554, 0.04881414457674944, 0.27554130335461335, 0.0011773187545711344, 0.007891547620774307, 0.001234556136566856, 0.0023318368673032846, 0.21212143808520506, 0.001345505658450018, 0.0009533525052276118, 0.006109560079095399, 0.0015919356474010493, 0.0011617130955838659, 0.001021545761117786, 0.0014693115982296358, 0.06169905595931509, 0.0009901193547247316, 0.001315226993852357, 0.0012440074413662973, 0.0010689810567075704, 0.0010370467123982082, 0.13898235630682643, 0.14399627810407567, 0.02203202988350471, 0.0011552642977015852, 0.0017949499097730177, 0.0009767216780119392, 0.001556178969069526, 0.002983849739779915, 0.0012055635288139388, 0.0012808710615000024, 0.046911228377065045, 0.04431094400233636, 0.1765649807313396, 0.0012427567850737406, 0.0035172910536231624, 0.0014858800574558695, 0.000909456558598459, 0.1634930198013687, 0.0067511374594963905, 0.0009652286020674721, 0.001282628619263417, 0.001490855957423022, 0.020898256711076483, 0.7664819570346438, 0.008397965782505408, 0.0011565389311428995, 0.0059213379007006855, 0.0026225128277995923, 0.0027922455304552657, 0.001336011490470843, 0.02759477275801245, 0.037998199828810295, 0.010938860849247582, 0.14765858357324357, 0.1161434193731891, 0.34418629204596596, 0.021371783838760063, 0.00584114644214507, 0.0008576080843125953, 0.0020588146034897343, 0.2047305839224412, 0.0015591511157401674, 0.15310329242949863, 0.0013840574599423134, 0.0008917508546667312, 0.10295756573433403, 0.0010508280772377236, 0.006196118027293091, 0.0019487503855305601, 0.0006104965542263781, 0.026526152190453296, 0.0013893691866702091, 0.0007552244637929879, 0.013851522968308983, 0.0010069834701418926, 0.0012741415315988896, 0.0007347361336409006, 0.0009930078100044183, 0.01313683819792024, 0.048528278740237456, 0.0017287848472916816, 0.0021430083995936993, 0.02508881296856756, 0.0008331596709622254, 0.1744197436795606, 0.035358818465516875, 0.0767452328026342, 0.03147666116866994, 0.05533778217837158, 0.0009333382133118668, 0.0020776170582500948, 0.0012387449982635087, 0.0010737065873694402, 0.0007220155915006735, 0.0007527718213747258, 0.0010320329570523846, 0.002601800771492628, 0.29371158729271685, 0.007246715912609692, 0.0011697989449844695, 0.04965083036641114, 0.0012210091388017324, 0.0021607433941392266, 0.0012403501998810875, 0.0035278385033150022, 0.004244369216210315, 0.035358818465516875, 0.0019362296277462385, 0.001091488789460582, 0.002147279784447125, 0.0011493917084946133, 0.0008713995059401189, 0.031844939780042436, 0.0009470521003162579, 0.20379272395325906, 0.0008896978714585443, 0.0010654769341037445, 0.0028848507602366466, 0.002172687780120959, 0.15936215433832737, 0.051058144414556736, 0.0010512038742826035, 0.20732124183321804, 0.0009456196534318605, 0.0018951019213329112, 0.0011231308301598959, 0.0019265544095869933, 0.0019754774962489332, 0.01144818973426602, 0.001534651247337252, 0.0010908214523946227, 0.024553091680290098, 0.0016019229540730814, 0.0038767045468499073, 0.29426197524566144, 0.06098644303734176, 0.0031678806283063467, 0.035533867258092974, 0.0008700426815442353, 0.0011048129785919923, 0.0023671182551572413, 0.0009695824035520454, 0.1821214380852051, 0.127496175705, 0.0014323893669742997, 0.0008586512685705874, 0.0010002074391584031, 0.002259469327116632, 0.0011170572030774976, 0.08132024956487657, 0.0017573047025136591, 0.00145217831629702, 0.03344811834600524, 0.0012302358860717404, 0.019468510862852915, 0.0010386189001396484, 0.008552598374205248, 0.21546099884437359, 0.03678217928773163, 0.003331990603486714, 0.006224005138801676, 0.000826039484612913, 0.05303535788278783, 0.001189515967308355, 0.0589470580776702, 0.0011741222439419158, 0.06596279412304214, 0.0016207491150349138, 0.0009942785745659171, 0.035358818465516875, 0.0011877621489706119, 0.6557838674685808, 0.0007220423397322781, 0.0011875067739787282, 0.000931528227139507, 0.0013127527280523896, 0.0011700966705119348, 0.0011011178862881884, 0.026345390004341527, 0.16606759453899728, 0.0008130841444157507, 0.001053821572979816, 0.0012584986574009631, 0.0008905143287159874, 0.0020283915101299227, 0.0561736880773063, 0.0019521948856780192, 0.001385931341529455, 0.011584078478157614, 0.0013580509095586018, 0.0012914121069055545, 0.11233786580567666, 0.006358103894573838, 0.0015800119110506074, 0.0015720782624317287, 0.0029262699290074196, 0.011019686886085147, 0.0011310658038563885, 0.0017999620094135795, 0.0006835899345670725, 0.0016650020272285203, 0.4058139039688804, 0.04289612849875205, 0.01861732127439588, 0.047715644695224, 0.001134340668573411, 0.0008803558611011906, 0.17148774612833562, 0.0008873122072465134, 0.0011885080544332158, 0.0012076438925256341, 0.10897960735792858, 0.001993533112785121, 0.033791079883462936, 0.0017110654090383827, 0.08787947243850734, 0.0009677180275763573, 0.0011312658897465512, 0.0007147453178550792, 0.04615800512001518, 0.0016917844533632647, 0.000729550004594568, 0.045884226007031736, 0.1129307087333778, 0.0370959770720712, 0.021325781409736094, 0.004544847860300988, 0.0007416753087451284, 0.03671291855047602, 0.002070244104508181, 0.0012864208110704059, 0.0008903538692062869, 0.021636288748049643, 0.0009183752002276071, 0.03183148050187602, 0.000999029005107735, 0.0010957910807496386, 0.001153560279408895, 0.0008026513573036721, 0.3728487187198378, 0.0750591854775936, 0.002458870544360094, 0.0008295017765176408, 0.14599247259238676, 0.002596848799044111, 0.0013376609472401017, 0.07255374022483309, 0.001078556960888863, 0.18530989068847126, 0.001180710366444923, 0.0010106582551422966, 0.0010423228406403692, 0.07139060265379452, 0.0006555675094821403, 0.0012001199595280225, 0.03390004747547461, 0.06509450657251008, 0.09208903102271379, 0.006335576754922278, 0.0015643586252127176, 0.027410716544053453, 0.029619291604372565, 0.003751787275263156, 0.035358818465516875, 0.0018307522914557412, 0.002727572171186154, 0.0009350699513944227, 0.07067209249179315, 0.002288385741770027, 0.0008035941257039851, 0.001278658044230436, 0.0014523503870599451, 0.018665211407767557, 0.013568186689501521, 0.001076274412140722, 0.10906259907953253, 0.0008677548732262777, 0.11288477173566723, 0.0011143569475061497, 0.0020283915101299227, 0.02796821522696919, 0.0027282193516491964, 0.0012233050782351402, 0.7214882424408476, 0.005737799398155975, 0.037860422753492204, 0.0015639778292922113, 0.2104796860257199, 0.0023875489899243445, 0.0032871046794967053, 0.043188840263103004, 0.023789583897058122, 0.0011735021055398905, 0.0010831937937248114, 0.0015241172756616877, 0.0021832902443110437, 0.0013566063525195797, 0.001137811763719938, 0.018218364885523634, 0.018496335145101177, 0.012113246094418332, 0.022120118130430827, 0.03257746412020918, 0.0009578868959778028, 0.04223558995055719, 0.006532143412353917, 0.0318332009148761, 0.0022281551121085645, 0.015015303758854686, 0.0018276966536076187, 0.0010798080627475119, 0.0011959161619076646, 0.01937479999804617, 0.0009255193095198057, 0.002021830180420491, 0.000980396747853366, 0.15088962134746475, 0.14525928838750246, 0.05411431329355527, 0.002191138081598314, 0.0008025972015708074, 0.052112267203412374, 0.0009596018488833367, 0.0006728712212569686, 0.002169052958507061, 0.005192574710246906, 0.0020353431217721755, 0.04252788153559861, 0.035358818465516875, 0.007625376951079454, 0.0010102605580056157, 0.007043227717226361, 0.2640028111233648, 0.0012055672252020795, 0.0007971077386785809, 0.18742227683574497, 0.0007416818399278016, 0.022902467934973823, 0.0009054062201887285, 0.0010069513212146702, 0.0007992322494365047, 0.0007994638272730418, 0.0012311884581030297, 0.15210054320753075, 0.005762752399450487, 0.041955217970813294, 0.0007187872151007643, 0.002369282082484939, 0.0017273883426857691, 0.007208820416432005, 0.07333484817774508, 0.018760746115057965, 0.000729550004594568, 0.001461342030813978, 0.0027212267094646426, 0.0022675707246076846, 0.1557402398731589, 0.4511827626912047, 0.0008615336581120454, 0.011441448485030953, 0.0012325741125659147, 0.19517870163358594, 0.24408433365140814, 0.0011331659482815186, 0.007223568027122946, 0.01767812799349273, 0.0016608095763294027, 0.02094470725319932, 0.0036807809723378437, 0.0016789097817873362, 0.7835628314133558, 0.14984902350065804, 0.0013628606211417787, 0.0011557905256945901, 0.0016207491150349138, 0.0015571750605617798, 0.0006622945166374459, 0.0011832461550915752, 0.04091886003938771, 0.0008739898904021412, 0.13123035269770017, 0.02638037181074616, 0.019565819499913595, 0.0022551449491113305, 0.0009131364590160826, 0.001413315778884048, 0.1873215307128746, 0.001225948883760432, 0.0011906537417468203, 0.0010762974359215304, 0.0011651571908529587, 0.08856263094693376, 0.0007695461512312073, 0.001815558886283456, 0.0009048827567185464, 0.1565947525492249, 0.001501605499816331, 0.5838438380617459, 0.0898159234585035, 0.0006199252468464605, 0.04753069090527633, 0.0009748773566563651, 0.04118267790054199, 0.0967999366214452, 0.0009049737758684613, 0.17459440986804403, 0.03747778287978777, 0.016795924748242222, 0.001153560279408895, 0.002891547620774307, 0.0007781673849687697, 0.06368055020099289, 0.0007552482606978264, 0.01655101732068442, 0.012616145650529435, 0.0029997501810261513, 0.28350639368041425, 0.001757514402513757, 0.001579213780565717, 0.0012472527725181117, 0.08326969330493512, 0.0011871957833350876, 0.0010957159863603481, 0.018947894695330602, 0.22637896103051325, 0.0009014299588872338, 0.0014523503870599451, 0.0016942909934978558, 0.0010159320661089302, 0.06993939270840224, 0.0007886120112742411, 0.001714431916206753, 0.002160668750451733, 0.0012610252906416174, 0.0013956690215575522, 0.07746920131215859, 0.0009588974424728032, 0.0014674411621622143, 0.002021631344127524, 0.007840733945665158, 0.0251486142663616, 0.13571003207644888, 0.002018646642145529, 0.017108459837503587, 0.0010481390324208982, 0.3239034989392029, 0.3153574588848234, 0.03270865932075835, 0.02095565389818571, 0.001711350271367455, 0.0012337308867255816, 0.3217581192764885, 0.00114789666634489, 0.035358818465516875, 0.032586732632591715, 0.0011562043232609053, 0.0012504393902493115, 0.02132462111458407, 0.057264853740941694, 0.09498806693302433, 0.0014872652640202377, 0.0012007185702159204, 0.008485886793392345, 0.0015315047361882587, 0.0008521803163154023, 0.005953798582633427, 0.6245766374394367, 0.002615364446132514, 0.21212143808520506, 0.026903075464734735, 0.0019057650030418214, 0.12151646179543937, 0.06074712789908408, 0.2152323890012269, 0.0012815791816912603, 0.002726072542038174, 0.0012224792857513443, 0.08347812566185615, 0.0022555924686188562, 0.035358818465516875, 0.0008620078581511884, 0.0010259980326746989, 0.0010619623145216883, 0.0011211974527738423, 0.0011425202119644388, 0.0008962920180683222, 0.0011864568723702834, 0.0006650722693529257, 0.003307474648984029, 0.07520442814446529, 0.21046749807066212, 0.19761470914676116, 0.010758953081343527, 0.0016737902429277555, 0.0010833779296790518, 0.0014246140764647428, 0.0011888062428735734, 0.07123118845810304, 0.0009223711181767232, 0.07739269844016711, 0.0015140202837074942, 0.01822337208750652, 0.0023156568661288623, 0.0006155414130148056, 0.00107817187740385, 0.002921552798278269, 0.0018165031397852055, 0.1274678328848631, 0.0007993217133644491, 0.008040500779702284, 0.0016816939730695752, 0.000993859856874861, 0.002521168476696911, 0.02757197424965201, 0.0020283915101299227, 0.002364138923088749, 0.0009731850060411224, 0.1393397993973171, 0.035358818465516875, 0.0013018970009430792, 0.002177790026292623, 0.0014509056184652041, 0.043351496425839034, 0.03932712035974694, 0.001067656005827856, 0.010303842100829887, 0.10710192664630666, 0.0011914898131966923, 0.002698437220749432, 0.0010337349524339615, 0.035358818465516875, 0.0011064527463665163, 0.00629675477711885, 0.001187410503946851, 0.2005679475341146, 0.0010464364302287513, 0.06470084191446927, 0.04683178708186643, 0.09384021119915703, 0.0010774586251566186, 0.02052956353017484, 0.01881235542558647, 0.0011929249459200514, 0.09359616833844533, 0.0010064554622441924, 0.018542777812022602, 0.0010715942716457297, 0.14578721272927053, 0.0009698777015852397, 0.00121997966249532, 0.03996752305700482, 0.001534651247337252, 0.0015072591810978352, 0.3593571100998699, 0.0009168606041922911, 0.0008025972015708074, 0.0011208431365471703, 0.026306469748110833, 0.04876727394456039, 0.000789534778020213, 0.05320888751337309, 0.035358818465516875, 0.0008594104260758516, 0.0013256065708054502, 0.041600477041745736, 0.08090909724042133, 0.21686101834455734, 0.006556152325266167, 0.001246656008762467, 0.0020169571979340396, 0.23511941401096398, 0.4131894864639844, 0.16806189122900766, 0.002592103526304606, 0.02820163785074778, 0.0009488116966207505, 0.0012864270409173309, 0.0011574371099070907, 0.0027640061482436403, 0.0014500199551715702, 0.2972136538709122, 0.0010500772508706077, 0.061224909363139235, 0.001253378908646067, 0.04423683191493562, 0.0009396008935388194, 0.0013648411914179202, 0.0008002433731084919, 0.0010987388687630592, 0.31394857698440526, 0.0014607258636302458, 0.045846502706382776, 0.002851950283562966, 0.003963555344029951, 0.426741349133111, 0.005912106050139864, 0.015547215453440021, 0.12600615676754134, 0.0009962684588689953, 0.13883594236374674, 0.0008469266587872948, 0.04343288548550007, 0.006479032850612036, 0.0020771955311569973, 0.7408576364717671, 0.03317166309932483, 0.0016063810121836487, 0.006440610201269162, 0.02027680634893115, 0.0019460695105155842, 0.07236422766255143, 0.16459950247325567, 0.050419118905805096, 0.0019918686398776517, 0.0009257886901829734, 0.04605504578632913, 0.021211412661338476, 0.02338696583535607, 0.0009310040435041854, 0.32054855231446433, 0.12251641627404297, 0.011364153961703271, 0.4777308036969692, 0.041812339458215594, 0.05859168037886435, 0.004174852221021164, 0.0012392694500826195, 0.0016328859200603005, 0.027785226038831226, 0.0017599542653409055, 0.13289154762077432, 0.02201028520699123, 0.006175808298545527, 0.059363793723452046, 0.00118153788602093, 0.0011284165804201721, 0.029678093084625597, 0.001035570860059982, 0.0007554483532296986, 0.000978255488896294, 0.00075822102652198, 0.0009134932315951216, 0.0007325393789706728, 0.07243661771895368, 0.20920843757546517, 0.0016076368023583184, 0.0012069944701139119, 0.0008137230241995773, 0.0010225990380114244, 0.15022337701442195, 0.02378946301453365, 0.0013408803436823404, 0.004737630111514902, 0.0009707467847066339, 0.05148020416198493, 0.12068356828478322, 0.0024155307509950825, 0.0015345986539622117, 0.0009371258964774204, 0.002962748958304729, 0.028864382839982418, 0.0013124437741385965, 0.02123118845810303, 0.041353819592741224, 0.03322863597035382, 0.0010115419839362705, 0.6796292990154769, 0.00120596631351276, 0.001099306642060222, 0.021099712001506135, 0.0009109180955563257, 0.000905684158049545, 0.0021697898397481856, 0.003411667082606722, 0.0011798674447599526, 0.0007516306612061477, 0.11818676433500856, 0.0009518683200518531, 0.0064427896806980205, 0.0008549923148924152, 0.001232452191847443, 0.06911501735913539, 0.0011445553478573837, 0.0018394986719655255, 0.11615169355118365, 0.0062487972822441624, 0.054183131634915054, 0.035358818465516875, 0.026276594369627586, 0.0009104698201927989, 0.13082769342822823, 0.01915144803063258, 0.00153923360050272, 0.0015386289411833726, 0.0017420354289745972, 0.0012295756863302909, 0.0008628060465668431, 0.33358479109329253, 0.0006354344841844144, 0.0008247272497477072, 0.21554838742125812, 0.0007155938072669038, 0.0009496453654280104, 0.0010281469013677068, 0.0010644942515420025, 0.028975003136579983, 0.035358818465516875, 0.14568463465247664, 0.0006719009855169746, 0.029185710952229982, 0.07918002348941405, 0.0010307576087556182, 0.001283944814766982, 0.0010945750800702336, 0.11231062972502506, 0.0009067349308733789, 0.001017214028947962, 0.0009009165434914317, 0.18152926254642077, 0.001587280189130554, 0.0006807423376062438, 0.0009699496307433641, 0.0022089156324319606, 0.036021487728066556, 0.001568618238889775, 0.17277337801687487, 0.0009314723068354265, 0.42486047163719887, 0.0037426157743431156, 0.0011136635185496288, 0.0017168543474319906, 0.029468058300212326, 0.006198681412787219, 0.0016752651478211282, 0.0011195692082031324, 0.0011977281153083485, 0.36441719179890364, 0.0008739579675784231, 0.035485435543001397, 0.005986391585640639, 0.35887349516598543, 0.0014430374073733222, 0.001388087665599939, 0.2372478056844553, 0.0012610659223119768, 0.0014716219699423458, 0.013001810138099215, 0.035358818465516875, 0.0008940528389686053, 0.06356117814072826, 0.0015643586252127176, 0.0008906378556432992, 0.001045325617369944, 0.0009083101215123036, 0.000646799209660737, 0.0011608727815327023, 0.002106088403119286, 0.0014028503275649341, 0.0021271610241757775, 0.06625378510656854, 0.0016357936339695428, 0.0010374785192946178, 0.001207837542826472, 0.0012056569732029488, 0.0580437984988733, 0.13815964143430814, 0.00112526797063872, 0.0012508210412510096, 0.001232452191847443, 0.051173233799986555, 0.21212143808520506, 0.0009690932254167198, 0.0015990780388159002, 0.007891547620774307, 0.04687092772627333, 0.156710140227931, 0.17044177766932359, 0.0015573790734271277, 0.001691918042168083, 0.0010955211992107637, 0.009630356015592674, 0.2165893574260374, 0.6276432835433268, 0.0008032316023458629, 0.0007116678019395949, 0.001021999816479711, 0.34707097755672495, 0.0006835899345670725, 0.0010568313846012686, 0.07664313585171917, 0.0009624510798984194, 0.001218958316982583, 0.02025494227885067, 0.0019265544095869933, 0.19781891130096188, 0.3109358969296119, 0.0016265089344505278, 0.0013569403945041833, 0.0018388921175332023, 0.0011437718160282866, 0.008659407892656124, 0.15796188642959108, 0.1256629680703149, 0.000721992618160684, 0.04614171229438959, 0.0017352110642547271, 0.041365916631745325, 0.002366418265750929, 0.049913231809846366, 0.0013101511545776281, 0.0010062147038368437, 0.001408603217964986, 0.0007986007662455356, 0.0010248765944341068, 0.0459272393053851, 0.0007787275421988495, 0.0011290716365465945, 0.00066575601716978, 0.0060998109412538975, 0.000991652822039868, 0.0014984257556834996, 0.2501875234963453, 0.0020291772107078492, 0.0007799902531620352, 0.22490050368413686, 0.0009055626491956016, 0.001578620287975001, 0.29246519262232407, 0.0009908876450453671, 0.005819025229722924, 0.17355755839108278, 0.0012734445982938599, 0.0007067898075168559, 0.0011891857793007669, 0.0010023040266137501, 0.0008668280132987491, 0.0006891094104528544, 0.0010448565521549756, 0.19371211965723625, 0.00140232065021167, 0.001987562812011771, 0.0009237824008286607, 0.0029323246227124203, 0.0017342813233473108, 0.18397987804655178, 0.013393812356833406, 0.25485286796756884, 0.020210917115292916, 0.002213894553094792, 0.0028380376550104524, 0.0013963161092849878, 0.0009445328048032332, 0.0019099559938416486, 0.041477234697484204, 0.0009938765701547109, 0.03208563571095509, 0.0009727585493790507, 0.19407708358398953, 0.1323571890144541, 0.5251392659379935, 0.002726699704926564, 0.0031939853843047047, 0.02151263802579715, 0.3249255657109842, 0.0008193516015047171, 0.18713337825183216, 0.0021216970782608315, 0.005691460144335361, 0.07398719816429643, 0.0011376543383944649, 0.0008235339642925256, 0.0011088053616633662, 0.0009973308903749023, 0.06450424288402382, 0.000916636156426049, 0.001347880760685655, 0.0014736653420728619, 0.002120273364302287, 0.0011492865844953332, 0.0010538451024460335, 0.035358818465516875, 0.0016804695780202985, 0.000769169780952306, 0.0008002164714386019, 0.0010265687527881795, 0.056179127214566145, 0.05360979340655331, 0.0020097009247568446, 0.006196514056397285, 0.0008920585498674993, 0.08563674557278667, 0.03839987677041854, 0.00845389923139412, 0.0181772325070746, 0.0035278385033150022, 0.13860674402026535, 0.05013049096957342, 0.09543530932285281, 0.001570047484983192, 0.001609356447018805, 0.001319270621302539, 0.006204050144085542, 0.014016813866908721, 0.027933598291545958, 0.0012777238522269994, 0.007314147466405547, 0.18978393818981207, 0.4531406249682969, 0.0008087854168484532, 0.10467157663081994, 0.0312834751535254, 0.004896149858481993, 0.0011713893713557722, 0.002759395782628479, 0.001082521106772235, 0.0019218276436134814, 0.595401105274672, 0.0007074219819582969, 0.0011050057100731843, 0.0008747673149376105, 0.02000624479163753, 0.0008249656859421624, 0.07294155364774922, 0.10636657307776212, 0.0010544263763156488, 0.0011376576481623524, 0.0034886563716813876, 0.0007119017532270487, 0.46736399297479025, 0.004375445232233985, 0.2520125541725234, 0.0011510254785518875, 0.0011761495518135736, 0.064522334675821, 0.19017210631837284, 0.001658507659216961, 0.0013145662473464366, 0.0006199252468464605, 0.0009753365721045353, 0.7503318827097691, 0.25338457110020973, 0.0010118633651448347, 0.01150825253465402, 0.026690897199323427, 0.37827533913544953, 0.0016960678654448147, 0.02960147318710888, 0.0034439876584081747, 0.002007345504726894, 0.0012439413546860786, 0.12208441923674107, 0.0017059941347268574, 0.001216451255205548, 0.0009347395577728459, 0.001711350271367455, 0.001217732364609252, 0.001494630459301318, 0.0010920464333347962, 0.0014523503870599451, 0.007658417325833795, 0.0024614500769773, 0.0015085313397324395, 0.029697633377865375, 0.0015843694552554956, 0.0013099107312872593, 0.0013576468699353125, 0.0011708852608426105, 0.001235900451604394, 0.10013049096957342, 0.0025434124626213207, 0.0009833861220536662, 0.06910272244935022, 0.001782211126590917, 0.0017265056902460744, 0.0010418574038717312, 0.003190538642810874, 0.08088435261425918, 0.0019265544095869933, 0.0019107675530344722, 0.0016362947498792608, 0.0011924994886481522, 0.4677314440454826, 0.23038454005702308, 0.001178306027661029, 0.0020169571979340396, 0.014495161240229431, 0.0028182884066126996, 0.0011032543420889766, 0.011454531746220877, 0.001892655099263163, 0.0013379307584943155, 0.0012440074413662973, 0.10794826324794267, 0.0030217595298076966, 0.29298195592388393, 0.0335402802049581, 0.0011440258257943527, 0.02601644162397482, 0.2771479765460534, 0.0007554724412343792, 0.001039705434897729, 0.0009361539880271951, 0.07874920044469885, 0.0009384742008408642, 0.0008724926763935218, 0.0010989433618951768, 0.35160444732437013, 0.040057223096109075, 0.0008191391874065743, 0.010781596060883244, 0.0013459101114181471, 0.0009738651730317494, 0.0008269896443625611, 0.5056631466072942, 0.0007696257026491485, 0.0011159400458101024, 0.0026337533783738288, 0.0009592459061856297, 0.006618358650065866, 0.12667650556931498, 0.0034147118599702946, 0.0014523954148626327, 0.02651143619352963, 0.0013223582579442912, 0.0007231563322190967, 0.18592711999441736, 0.0011468304728452778, 0.0009281117714841178, 0.18611317532152769, 0.025957284533472874, 0.0015898023325379654, 0.026639415456069702, 0.09496622692400762, 0.001131418426698664, 0.016273289030496026, 0.039245017182143335, 0.0012050185285593438, 0.001072765209390081, 0.0007554724412343792, 0.030742015102587034, 0.0008269866212732431, 0.01337549530176374, 0.001217178015573061, 0.11045923367831233, 0.0013197678532146596, 0.07901322001218465, 0.0013677321457417505, 0.0007301670604093305, 0.005996930849620536, 0.0010676482889702577, 0.035358818465516875, 0.0009632629312184143, 0.001185055406669259, 0.06140833179794522, 0.0012705656121516312, 0.10724391500115354, 0.0037903626141696594, 0.0010895248338938155, 0.0008931766169118229, 0.02032553229514646, 0.005059683957479492, 0.09556733585017044, 0.0455489561005159, 0.0015280344449144828, 0.008495423086818726, 0.0009546506903222552, 0.002452877802505601, 0.0027194758868829653, 0.000781963882890182, 0.0009685176258546056, 0.0010974666590144071, 0.0013387505397134893, 0.0022545782085310047, 0.0006449980580036752, 0.0009459459616770032, 0.0010090013766880486, 0.001420231761316326, 0.0007973436275099814, 0.25541052107732576, 0.004968118612323503, 0.001534651247337252, 0.0011298986853590593, 0.0014983208693750887, 0.0029603569812302753, 0.10430309125826512, 0.3511968842638069, 0.0019303168590379487, 0.0017723810636794356, 0.006568004351182426, 0.0019754774962489332, 0.12893397459898134, 0.001550114754990607, 0.007891547620774307, 0.00618403734337945, 0.001114507442260278, 0.0009437513275285175, 0.4523988754747921, 0.0009372144838436339, 0.001477019919100285, 0.0010084239997234874, 0.0011108887431924741, 0.093782324161029, 0.1323707025427027, 0.0027753406075227203, 0.030834095124933847, 0.0008290223369895656, 0.2670347899248786, 0.002213894553094792, 0.006964061419069597, 0.001193119101375667, 0.0009153005183145659, 0.0061498240489742, 0.0013404078844720085, 0.0013935389797461054, 0.04398719816429643, 0.0013421276266476641, 0.0010756088345952159, 0.0016748757789170014, 0.06373552393509745, 0.05520502662818889, 0.0008202702038127019, 0.16548835579717946, 0.00109396471709504, 0.0009524237571669976, 0.6446590995144007, 0.035358818465516875, 0.03602222458406511, 0.07533128525332927, 0.0009270574001228923, 0.035358818465516875, 0.0007346029734926499, 0.0013687475175216824, 0.0013217485442822434, 0.001534651247337252, 0.0012452592700830526, 0.02477548174066079, 0.0063742352727025765, 0.006996236260573413, 0.0018934794201079653, 0.034484861310753456, 0.021091171050618404, 0.001026781253845367, 0.0653652990143812, 0.0009500800762666329, 0.0010257294775207018, 0.0014454800871353279, 0.0012604571040152183, 0.0012601969282286718, 0.006018108016411655, 0.011109890390094173, 0.0011262193505092507, 0.004423338383875236, 0.05203556195871561, 0.00131966194351071, 0.2211747953347471, 0.006711320746485274, 0.025064547210564756, 0.13702393609842203, 0.0013376609472401017, 0.13309332186737338, 0.0013546778220525821, 0.14873441930407574, 0.0009195054812605869, 0.0007511698204682319, 0.0029603569812302753, 0.0016420178552788922, 0.000991812070556179, 0.0007137745011502094, 0.0014631690906607186, 0.0268582325699407, 0.10742108285348875, 0.0023319101107672708, 0.0012095083784190801, 0.02757197424965201, 0.08035030581552365, 0.035358818465516875, 0.001045325617369944, 0.0008976136586986982, 0.0014385255136676988, 0.000992257044099213, 0.0011468066582542473, 0.07065261448394829, 0.0014645240942809418, 0.003405548334907211, 0.0014401579776469823, 0.0008211051700941633, 0.13563123174166186, 0.0014328280068258885, 0.0009857839948672626, 0.0009628178960162645, 0.3947894149218091, 0.001109859703064263, 0.002820218920680088, 0.029572359989150473, 0.0012982069550315795, 0.0010529292857053576, 0.0008823019828864901, 0.003933090906352694, 0.5913724167565091, 0.03588637440700687, 0.7519385468311193, 0.0009742392818873543, 0.01527723951299623, 0.035358818465516875, 0.05842792869877844, 0.0013762611121034105, 0.0060711984274636685, 0.0017535390227267447, 0.09540297923745827, 0.016137081949615415, 0.3203127629610991, 0.0012943875667698385, 0.0010112847119879945, 0.0013718863542158748, 0.08567433316843871, 0.006703893674931559, 0.0012832135874906228, 0.01891329389023624, 0.08886720860934769, 0.053123911946118194, 0.0011048775067772436, 0.09427291116816759, 0.001025788308258093, 0.18572851606312835, 0.0012599115958432828, 0.013772320181388693, 0.007047241622315565, 0.0010464582399300005, 0.0030798509068377168, 0.0012873224167712237, 0.00115903468136261, 0.0017250437693283752, 0.04543025022575333, 0.43151756692152377, 0.0014509056184652041, 0.032823570206775926, 0.0011090329544549188, 0.16617083467008786, 0.09082006094447548, 0.07728940423858288, 0.09021546866011139, 0.0014698881494467192, 0.0010021429489870154, 0.001026781253845367, 0.0063217047820784125, 0.0021209401287027385, 0.02557942679678337, 0.0016216048368648973, 0.0010844895503033206, 0.5131297226964112, 0.0007411097274415543, 0.007891547620774307, 0.0008895715477856761, 0.0013137040402952877, 0.0008958317147343456, 0.0015342127421020249, 0.0016717607642207912, 0.0021811392173219034, 0.08409685092711905, 0.01391158607371859, 0.0011074468597900302, 0.0015643586252127176, 0.0014664850101251715, 0.19092212758988786, 0.1397308002890716, 0.034600914820098964, 0.31234621816735547, 0.12050004878047461, 0.035120285491753445, 0.0009104866585131157, 0.09857962333518572, 0.09409800516018037, 0.0010146453167210732, 0.0012143667977607745, 0.001534651247337252, 0.0010237520431241117, 0.0009418183784403379, 0.0008898723054692082, 0.13289154762077432, 0.007891547620774307, 0.0010281185474509678, 0.0007113183316300047, 0.4703326879664905, 0.035358818465516875, 0.09613302581904246, 0.002632875118123105, 0.041906728949852486, 0.0007410906676767672, 0.0011919457909021817, 0.0007876588018725825, 0.6444825734722295, 0.0013071402701928354, 0.0022590975781982335, 0.0010584072154812324, 0.0020238499628339375, 0.0008509710478353034, 0.027327323080726627, 0.000778214426634541, 0.001153916103324081, 0.0060150012522859906, 0.0011969757066469173, 0.11373020024389302, 0.0008372653182981342, 0.01219497984335644, 0.0006913850969239381, 0.0011201690012835645, 0.001249730070344273, 0.007891547620774307, 0.12352180168723946, 0.49660370907362505, 0.002820218920680088, 0.0019521948856780192, 0.0012680741891965782, 0.19950366907453648, 0.0011401984567796471, 0.08330779934898608, 0.0035278385033150022, 0.002990829892109478, 0.09444599411224547, 0.035358818465516875, 0.0014475498797632005, 0.06320277107440017, 0.07784957632488514, 0.0007878730534456833, 0.06637536534513196, 0.0007821958314016536, 0.0013568987549240192, 0.0011074139162610445, 0.0011332166023896892, 0.016035128729977383, 0.007201997975580356, 0.001389384440746305, 0.0009238475984640556, 0.0008513606479142629, 0.035358818465516875, 0.052773859244338625, 0.26996963592244805, 0.0025434124626213207, 0.0015183226404752448, 0.0009386005768165145, 0.0007087983962833778, 0.0008025972015708074, 0.021550693252230316, 0.0010129524298709914, 0.0017147278823056121, 0.0013745421980703942, 0.0006864148769477034, 0.005849421682773854, 0.001416186050513992, 0.2431644642120295, 0.0014683616428235995, 0.0010338458795564488, 0.027129052935039727, 0.1586239931033248, 0.014149668448756019, 0.0010340779827931054, 0.0014875737352752457, 0.0017528768801891787, 0.10904294539878329, 0.002563152778884853, 0.6196221883025577, 0.0011137741930845092, 0.05309815378755586, 0.0019265544095869933, 0.006387197641629838, 0.0011244249205732675, 0.033940380202791415, 0.0007969746450591431, 0.11783855427808004, 0.001344661860324807, 0.0011081627569442891, 0.2522027346812725, 0.0011125071393883437, 0.17318616813493157, 0.0010096310405324459, 0.0016199420357847344, 0.4471296779637588, 0.052492577428144206, 0.0006681533602144929, 0.000989857274463514, 0.0012900185544103486, 0.0015568734064003741, 0.0015516264855354638, 0.10997568430731214, 0.001081293453978469, 0.040888903381614605, 0.0007923416012936891, 0.0010817609536007545, 0.0013088496552695328, 0.0011151064029850128, 0.0011426909477242622, 0.0032114835602351983, 0.007314147466405547, 0.0010464364302287513, 0.0009124398942525622, 0.09221845870963902, 0.20070167848722906, 0.0009886105738854318, 0.0014164695809624447, 0.043113080537792614, 0.22081047343177923, 0.039954913904236306, 0.001136201702897074, 0.11317007712419871, 0.001239446009308554, 0.0035924948693800145, 0.13289154762077432, 0.0487977951240249, 0.0007499778247364438, 0.018500011568760116, 0.022433370900146844, 0.004463853303291584, 0.0010886242226381595, 0.00922635655094093, 0.12555838456365181, 0.0010909477986832323, 0.021726170942411045, 0.0506528913842183, 0.09398077738821248, 0.035358818465516875, 0.058627629405783484, 0.035358818465516875, 0.03013168990869514, 0.0010753663635574655, 0.028917549010998054, 0.5633229470170019, 0.007045760769739253, 0.0015809157402263056, 0.0012292563639646496, 0.147167663703555, 0.2439170052977055, 0.0014736653420728619, 0.0010685598975892468, 0.01983055839436346, 0.0011917841718522182, 0.0008202702038127019, 0.03827033821055204, 0.1540782553719484, 0.001108006518568262, 0.008446156870689408, 0.002891547620774307, 0.0017072044046286584, 0.0006835899345670725, 0.001274607371603253, 0.0010672833329431494, 0.08290009071588735, 0.0014927365549557083, 0.0017445924545725956, 0.0018195727825092382, 0.001534651247337252, 0.001282091520498805, 0.0011576739458422102, 0.0016443455834328057, 0.0010128886188970467, 0.0014736653420728619, 0.5329787148835285, 0.006134392937777827, 0.07381355762993283, 0.0011614260022492504, 0.01982132841790244, 0.0010460632778079887, 0.0007517021883808485, 0.0991553618114022, 0.3035600133651549, 0.001936576972483043, 0.0010897749066041374, 0.0027640061482436403, 0.0335526004976853, 0.0011862683417788358, 0.0020123159278491376, 0.0014548116882803685, 0.0007867760968575128, 0.0010913985847555933, 0.001534651247337252, 0.1389126166184673, 0.0017883914050219796, 0.0008628060465668431, 0.002279576933718435, 0.08407128851374844, 0.0009410674453966593, 0.34899336592350266, 0.0009503783693369326, 0.27327117644116783, 0.0015573690120839478, 0.0014154859733420697, 0.0177953009580738, 0.28881483444489847, 0.06660752342261596, 0.49851280219783123, 0.0019637220836976137, 0.0014591970894191886, 0.0018129965285523535, 0.0014873156287411543, 0.0011713012251155861, 0.0009631662822581072, 0.0014478751719989168, 0.0006174226807592225, 0.001828665240744406, 0.0028819803841579695, 0.055059408493304506, 0.002543534662091234, 0.0037799229037862405, 0.0010220042186894745, 0.10478960813493984, 0.009566528162619449, 0.04158562923228461, 0.0007556406259565119, 0.0008647803485516388, 0.035358818465516875, 0.0024435533710877957, 0.0013206913656367166, 0.042161074142015996, 0.1656847396051339, 0.0013119420259602682, 0.0008951037076862405, 0.0008201351515893837, 0.0016359419071280891, 0.04769656502551237, 0.13831709623177396, 0.10484907110459099, 0.11897238289651538, 0.0006716121511686623, 0.0014489546675394895, 0.25120927072623034, 0.0008742906057173052, 0.0012319697177547743, 0.0010334850147502828, 0.1520768240255551, 0.002343637904210554, 0.000856780531932619, 0.012418515160473365, 0.014499346422562554, 0.002126405654514657, 0.5406654172043172, 0.1565200306798083, 0.02256562755088032, 0.34315489777953867, 0.0023205917126456212, 0.26765860945795855, 0.011813956656624151, 0.0011720303902420601, 0.0012675956115457594, 0.2327528337187657, 0.0016245958094877149, 0.001534651247337252, 0.1842544796713612, 0.18598270628585117, 0.001307234800284057, 0.0014619361361288869, 0.001088016354471541, 0.001434284040030514, 0.007525198415419172, 0.0016107094603709446, 0.0008869004391672145, 0.017880995111221785, 0.0009644667166162781, 0.19941986908056836, 0.001269214406762408, 0.0009478566678841384, 0.000795557695326975, 0.0026331327126737866, 0.1189885536324935, 0.0012443959675829206, 0.006215011280748623, 0.000879556147031533, 0.002021830180420491, 0.06078687630803915, 0.0007654184418286283, 0.001672965934052496, 0.0009782960496954858, 0.012667914510734183, 0.001782211126590917, 0.11600850813721841, 0.001281070606752772, 0.006601099345330994, 0.0009309951178110493, 0.0015643586252127176, 0.0022281551121085645, 0.0014668790540239517, 0.0015371063935195129, 0.0006211139809462558, 0.1724492695107745, 0.025180961056653794, 0.29220925735403425, 0.0012614799674682113, 0.002225962190829434, 0.001068870967322174, 0.0578026993319101, 0.06821388976151264, 0.0009313957916877001, 0.03613220688573813, 0.006046392038518816, 0.060394754306580783, 0.0013985977811579123, 0.07481498042600329, 0.05232459265399797, 0.05240985869433021, 0.0014531170241724985, 0.10012493457482467, 0.0013977922965220007, 0.01615962000626226, 0.0015467085232924818, 0.0009358565389801618, 0.001172567654579004, 0.0007330603529092466, 0.00123725448917979, 0.0011276407290139736, 0.0007848380088575367, 0.035358818465516875, 0.0012340751836287724, 0.07448797705233531, 0.028899721406370753, 0.48236399297479027, 0.051926125914819724, 0.001216297446701736, 0.3650279108214013, 0.0588474147118088, 0.7644193628141612, 0.0017213281772576325, 0.06137161899668178, 0.0009578601129479766, 0.027232712109431283]\n"
     ]
    }
   ],
   "source": [
    "pred1 = catboost_model.predict_proba(X_kaggle)\n",
    "pred2 = rf_model.predict_proba(X_kaggle)\n",
    "\n",
    "pred1_final = pred1[:,1]\n",
    "pred2_final = pred2[:,1]\n",
    "\n",
    "final_pred = []\n",
    "for i in range(0,len(pred1_final)):\n",
    "    final_pred.append(np.mean([pred1_final[i], pred2_final[i]]))\n",
    "\n",
    "print(final_pred)"
   ]
  },
  {
   "cell_type": "code",
   "execution_count": 171,
   "metadata": {},
   "outputs": [],
   "source": [
    "output_dataframe = pd.DataFrame({\n",
    "    'bidder_id': test_set2['bidder_id'],\n",
    "    'prediction': final_pred\n",
    "})\n",
    "output_dataframe.to_csv('my_submission8.csv', index=False)  "
   ]
  },
  {
   "cell_type": "markdown",
   "metadata": {},
   "source": [
    "# Feature Importance"
   ]
  },
  {
   "cell_type": "code",
   "execution_count": 128,
   "metadata": {},
   "outputs": [],
   "source": [
    "# Feature Importance\n",
    "def feature_importance(model, data):\n",
    "    fea_imp = pd.DataFrame({'imp': model.feature_importances_, 'col': data.columns})\n",
    "    fea_imp = fea_imp.sort_values(['imp', 'col'], ascending=[True, False]).iloc[-30:]\n",
    "    _ = fea_imp.plot(kind='barh', x='col', y='imp', figsize=(20, 10))\n",
    "    return fea_imp"
   ]
  },
  {
   "cell_type": "markdown",
   "metadata": {},
   "source": [
    "### CatBoost"
   ]
  },
  {
   "cell_type": "code",
   "execution_count": 129,
   "metadata": {
    "scrolled": true
   },
   "outputs": [
    {
     "data": {
      "text/html": [
       "<div>\n",
       "<style scoped>\n",
       "    .dataframe tbody tr th:only-of-type {\n",
       "        vertical-align: middle;\n",
       "    }\n",
       "\n",
       "    .dataframe tbody tr th {\n",
       "        vertical-align: top;\n",
       "    }\n",
       "\n",
       "    .dataframe thead th {\n",
       "        text-align: right;\n",
       "    }\n",
       "</style>\n",
       "<table border=\"1\" class=\"dataframe\">\n",
       "  <thead>\n",
       "    <tr style=\"text-align: right;\">\n",
       "      <th></th>\n",
       "      <th>imp</th>\n",
       "      <th>col</th>\n",
       "    </tr>\n",
       "  </thead>\n",
       "  <tbody>\n",
       "    <tr>\n",
       "      <th>9</th>\n",
       "      <td>0.001937</td>\n",
       "      <td>clothing</td>\n",
       "    </tr>\n",
       "    <tr>\n",
       "      <th>11</th>\n",
       "      <td>0.112388</td>\n",
       "      <td>furniture</td>\n",
       "    </tr>\n",
       "    <tr>\n",
       "      <th>7</th>\n",
       "      <td>0.116133</td>\n",
       "      <td>auto parts</td>\n",
       "    </tr>\n",
       "    <tr>\n",
       "      <th>18</th>\n",
       "      <td>0.564276</td>\n",
       "      <td>simultaneous countries</td>\n",
       "    </tr>\n",
       "    <tr>\n",
       "      <th>19</th>\n",
       "      <td>0.656782</td>\n",
       "      <td>simultaneous devices</td>\n",
       "    </tr>\n",
       "    <tr>\n",
       "      <th>10</th>\n",
       "      <td>0.663948</td>\n",
       "      <td>computers</td>\n",
       "    </tr>\n",
       "    <tr>\n",
       "      <th>15</th>\n",
       "      <td>0.696951</td>\n",
       "      <td>office equipment</td>\n",
       "    </tr>\n",
       "    <tr>\n",
       "      <th>8</th>\n",
       "      <td>0.781672</td>\n",
       "      <td>books and music</td>\n",
       "    </tr>\n",
       "    <tr>\n",
       "      <th>12</th>\n",
       "      <td>1.033230</td>\n",
       "      <td>home goods</td>\n",
       "    </tr>\n",
       "    <tr>\n",
       "      <th>25</th>\n",
       "      <td>1.182454</td>\n",
       "      <td>no of first bids</td>\n",
       "    </tr>\n",
       "    <tr>\n",
       "      <th>20</th>\n",
       "      <td>1.450797</td>\n",
       "      <td>simultaneous auctions</td>\n",
       "    </tr>\n",
       "    <tr>\n",
       "      <th>17</th>\n",
       "      <td>1.599180</td>\n",
       "      <td>bids per instant</td>\n",
       "    </tr>\n",
       "    <tr>\n",
       "      <th>16</th>\n",
       "      <td>2.085282</td>\n",
       "      <td>sporting goods</td>\n",
       "    </tr>\n",
       "    <tr>\n",
       "      <th>24</th>\n",
       "      <td>2.190146</td>\n",
       "      <td>bids per ip</td>\n",
       "    </tr>\n",
       "    <tr>\n",
       "      <th>3</th>\n",
       "      <td>2.315420</td>\n",
       "      <td>country count</td>\n",
       "    </tr>\n",
       "    <tr>\n",
       "      <th>14</th>\n",
       "      <td>2.967724</td>\n",
       "      <td>mobile</td>\n",
       "    </tr>\n",
       "    <tr>\n",
       "      <th>13</th>\n",
       "      <td>3.421383</td>\n",
       "      <td>jewelry</td>\n",
       "    </tr>\n",
       "    <tr>\n",
       "      <th>0</th>\n",
       "      <td>3.709214</td>\n",
       "      <td>auction count</td>\n",
       "    </tr>\n",
       "    <tr>\n",
       "      <th>21</th>\n",
       "      <td>3.901723</td>\n",
       "      <td>bids in an auction</td>\n",
       "    </tr>\n",
       "    <tr>\n",
       "      <th>4</th>\n",
       "      <td>4.431470</td>\n",
       "      <td>ip count</td>\n",
       "    </tr>\n",
       "    <tr>\n",
       "      <th>1</th>\n",
       "      <td>4.878536</td>\n",
       "      <td>device count</td>\n",
       "    </tr>\n",
       "    <tr>\n",
       "      <th>5</th>\n",
       "      <td>5.416764</td>\n",
       "      <td>url count</td>\n",
       "    </tr>\n",
       "    <tr>\n",
       "      <th>2</th>\n",
       "      <td>5.423921</td>\n",
       "      <td>time count</td>\n",
       "    </tr>\n",
       "    <tr>\n",
       "      <th>29</th>\n",
       "      <td>5.636881</td>\n",
       "      <td>per instant bids</td>\n",
       "    </tr>\n",
       "    <tr>\n",
       "      <th>28</th>\n",
       "      <td>5.974657</td>\n",
       "      <td>bids per country</td>\n",
       "    </tr>\n",
       "    <tr>\n",
       "      <th>23</th>\n",
       "      <td>6.180971</td>\n",
       "      <td>bids per device</td>\n",
       "    </tr>\n",
       "    <tr>\n",
       "      <th>26</th>\n",
       "      <td>6.570480</td>\n",
       "      <td>min delay</td>\n",
       "    </tr>\n",
       "    <tr>\n",
       "      <th>22</th>\n",
       "      <td>6.929515</td>\n",
       "      <td>bids per auction</td>\n",
       "    </tr>\n",
       "    <tr>\n",
       "      <th>6</th>\n",
       "      <td>9.129538</td>\n",
       "      <td>num_bids</td>\n",
       "    </tr>\n",
       "    <tr>\n",
       "      <th>27</th>\n",
       "      <td>9.976627</td>\n",
       "      <td>mean delay</td>\n",
       "    </tr>\n",
       "  </tbody>\n",
       "</table>\n",
       "</div>"
      ],
      "text/plain": [
       "         imp                     col\n",
       "9   0.001937                clothing\n",
       "11  0.112388               furniture\n",
       "7   0.116133              auto parts\n",
       "18  0.564276  simultaneous countries\n",
       "19  0.656782    simultaneous devices\n",
       "10  0.663948               computers\n",
       "15  0.696951        office equipment\n",
       "8   0.781672         books and music\n",
       "12  1.033230              home goods\n",
       "25  1.182454        no of first bids\n",
       "20  1.450797   simultaneous auctions\n",
       "17  1.599180        bids per instant\n",
       "16  2.085282          sporting goods\n",
       "24  2.190146             bids per ip\n",
       "3   2.315420           country count\n",
       "14  2.967724                  mobile\n",
       "13  3.421383                 jewelry\n",
       "0   3.709214           auction count\n",
       "21  3.901723      bids in an auction\n",
       "4   4.431470                ip count\n",
       "1   4.878536            device count\n",
       "5   5.416764               url count\n",
       "2   5.423921              time count\n",
       "29  5.636881        per instant bids\n",
       "28  5.974657        bids per country\n",
       "23  6.180971         bids per device\n",
       "26  6.570480               min delay\n",
       "22  6.929515        bids per auction\n",
       "6   9.129538                num_bids\n",
       "27  9.976627              mean delay"
      ]
     },
     "execution_count": 129,
     "metadata": {},
     "output_type": "execute_result"
    },
    {
     "data": {
      "image/png": "[encoded data removed]",
      "text/plain": [
       "<Figure size 1440x720 with 1 Axes>"
      ]
     },
     "metadata": {
      "needs_background": "light"
     },
     "output_type": "display_data"
    }
   ],
   "source": [
    "feature_importance(catboost_model, X_train)"
   ]
  },
  {
   "cell_type": "markdown",
   "metadata": {},
   "source": [
    "### Random Forest"
   ]
  },
  {
   "cell_type": "code",
   "execution_count": 172,
   "metadata": {},
   "outputs": [
    {
     "data": {
      "text/html": [
       "<div>\n",
       "<style scoped>\n",
       "    .dataframe tbody tr th:only-of-type {\n",
       "        vertical-align: middle;\n",
       "    }\n",
       "\n",
       "    .dataframe tbody tr th {\n",
       "        vertical-align: top;\n",
       "    }\n",
       "\n",
       "    .dataframe thead th {\n",
       "        text-align: right;\n",
       "    }\n",
       "</style>\n",
       "<table border=\"1\" class=\"dataframe\">\n",
       "  <thead>\n",
       "    <tr style=\"text-align: right;\">\n",
       "      <th></th>\n",
       "      <th>imp</th>\n",
       "      <th>col</th>\n",
       "    </tr>\n",
       "  </thead>\n",
       "  <tbody>\n",
       "    <tr>\n",
       "      <th>9</th>\n",
       "      <td>1.180549e-07</td>\n",
       "      <td>clothing</td>\n",
       "    </tr>\n",
       "    <tr>\n",
       "      <th>11</th>\n",
       "      <td>3.433483e-06</td>\n",
       "      <td>furniture</td>\n",
       "    </tr>\n",
       "    <tr>\n",
       "      <th>7</th>\n",
       "      <td>1.085789e-04</td>\n",
       "      <td>auto parts</td>\n",
       "    </tr>\n",
       "    <tr>\n",
       "      <th>15</th>\n",
       "      <td>5.829827e-03</td>\n",
       "      <td>office equipment</td>\n",
       "    </tr>\n",
       "    <tr>\n",
       "      <th>18</th>\n",
       "      <td>7.159501e-03</td>\n",
       "      <td>simultaneous countries</td>\n",
       "    </tr>\n",
       "    <tr>\n",
       "      <th>19</th>\n",
       "      <td>8.106259e-03</td>\n",
       "      <td>simultaneous devices</td>\n",
       "    </tr>\n",
       "    <tr>\n",
       "      <th>8</th>\n",
       "      <td>8.383249e-03</td>\n",
       "      <td>books and music</td>\n",
       "    </tr>\n",
       "    <tr>\n",
       "      <th>10</th>\n",
       "      <td>1.226775e-02</td>\n",
       "      <td>computers</td>\n",
       "    </tr>\n",
       "    <tr>\n",
       "      <th>12</th>\n",
       "      <td>1.248359e-02</td>\n",
       "      <td>home goods</td>\n",
       "    </tr>\n",
       "    <tr>\n",
       "      <th>13</th>\n",
       "      <td>1.268595e-02</td>\n",
       "      <td>jewelry</td>\n",
       "    </tr>\n",
       "    <tr>\n",
       "      <th>17</th>\n",
       "      <td>1.797619e-02</td>\n",
       "      <td>bids per instant</td>\n",
       "    </tr>\n",
       "    <tr>\n",
       "      <th>20</th>\n",
       "      <td>1.944913e-02</td>\n",
       "      <td>simultaneous auctions</td>\n",
       "    </tr>\n",
       "    <tr>\n",
       "      <th>14</th>\n",
       "      <td>2.043357e-02</td>\n",
       "      <td>mobile</td>\n",
       "    </tr>\n",
       "    <tr>\n",
       "      <th>25</th>\n",
       "      <td>2.216407e-02</td>\n",
       "      <td>no of first bids</td>\n",
       "    </tr>\n",
       "    <tr>\n",
       "      <th>16</th>\n",
       "      <td>2.327808e-02</td>\n",
       "      <td>sporting goods</td>\n",
       "    </tr>\n",
       "    <tr>\n",
       "      <th>24</th>\n",
       "      <td>3.138183e-02</td>\n",
       "      <td>bids per ip</td>\n",
       "    </tr>\n",
       "    <tr>\n",
       "      <th>3</th>\n",
       "      <td>3.482938e-02</td>\n",
       "      <td>country count</td>\n",
       "    </tr>\n",
       "    <tr>\n",
       "      <th>0</th>\n",
       "      <td>3.983879e-02</td>\n",
       "      <td>auction count</td>\n",
       "    </tr>\n",
       "    <tr>\n",
       "      <th>26</th>\n",
       "      <td>4.514578e-02</td>\n",
       "      <td>min delay</td>\n",
       "    </tr>\n",
       "    <tr>\n",
       "      <th>2</th>\n",
       "      <td>4.809070e-02</td>\n",
       "      <td>time count</td>\n",
       "    </tr>\n",
       "    <tr>\n",
       "      <th>4</th>\n",
       "      <td>4.858548e-02</td>\n",
       "      <td>ip count</td>\n",
       "    </tr>\n",
       "    <tr>\n",
       "      <th>6</th>\n",
       "      <td>5.175104e-02</td>\n",
       "      <td>num_bids</td>\n",
       "    </tr>\n",
       "    <tr>\n",
       "      <th>5</th>\n",
       "      <td>5.268218e-02</td>\n",
       "      <td>url count</td>\n",
       "    </tr>\n",
       "    <tr>\n",
       "      <th>29</th>\n",
       "      <td>5.342909e-02</td>\n",
       "      <td>per instant bids</td>\n",
       "    </tr>\n",
       "    <tr>\n",
       "      <th>21</th>\n",
       "      <td>6.051881e-02</td>\n",
       "      <td>bids in an auction</td>\n",
       "    </tr>\n",
       "    <tr>\n",
       "      <th>1</th>\n",
       "      <td>6.170247e-02</td>\n",
       "      <td>device count</td>\n",
       "    </tr>\n",
       "    <tr>\n",
       "      <th>22</th>\n",
       "      <td>6.635905e-02</td>\n",
       "      <td>bids per auction</td>\n",
       "    </tr>\n",
       "    <tr>\n",
       "      <th>27</th>\n",
       "      <td>7.449991e-02</td>\n",
       "      <td>mean delay</td>\n",
       "    </tr>\n",
       "    <tr>\n",
       "      <th>23</th>\n",
       "      <td>7.881534e-02</td>\n",
       "      <td>bids per device</td>\n",
       "    </tr>\n",
       "    <tr>\n",
       "      <th>28</th>\n",
       "      <td>8.204086e-02</td>\n",
       "      <td>bids per country</td>\n",
       "    </tr>\n",
       "  </tbody>\n",
       "</table>\n",
       "</div>"
      ],
      "text/plain": [
       "             imp                     col\n",
       "9   1.180549e-07                clothing\n",
       "11  3.433483e-06               furniture\n",
       "7   1.085789e-04              auto parts\n",
       "15  5.829827e-03        office equipment\n",
       "18  7.159501e-03  simultaneous countries\n",
       "19  8.106259e-03    simultaneous devices\n",
       "8   8.383249e-03         books and music\n",
       "10  1.226775e-02               computers\n",
       "12  1.248359e-02              home goods\n",
       "13  1.268595e-02                 jewelry\n",
       "17  1.797619e-02        bids per instant\n",
       "20  1.944913e-02   simultaneous auctions\n",
       "14  2.043357e-02                  mobile\n",
       "25  2.216407e-02        no of first bids\n",
       "16  2.327808e-02          sporting goods\n",
       "24  3.138183e-02             bids per ip\n",
       "3   3.482938e-02           country count\n",
       "0   3.983879e-02           auction count\n",
       "26  4.514578e-02               min delay\n",
       "2   4.809070e-02              time count\n",
       "4   4.858548e-02                ip count\n",
       "6   5.175104e-02                num_bids\n",
       "5   5.268218e-02               url count\n",
       "29  5.342909e-02        per instant bids\n",
       "21  6.051881e-02      bids in an auction\n",
       "1   6.170247e-02            device count\n",
       "22  6.635905e-02        bids per auction\n",
       "27  7.449991e-02              mean delay\n",
       "23  7.881534e-02         bids per device\n",
       "28  8.204086e-02        bids per country"
      ]
     },
     "execution_count": 172,
     "metadata": {},
     "output_type": "execute_result"
    },
    {
     "data": {
      "image/png": "[encoded data removed]",
      "text/plain": [
       "<Figure size 1440x720 with 1 Axes>"
      ]
     },
     "metadata": {
      "needs_background": "light"
     },
     "output_type": "display_data"
    }
   ],
   "source": [
    "feature_importance(rf_model, X_train)"
   ]
  },
  {
   "cell_type": "markdown",
   "metadata": {},
   "source": [
    "Mean delay ranks high from both, so I could potentially hone in on this feature and see what other information I can extract from it."
   ]
  }
 ],
 "metadata": {
  "kernelspec": {
   "display_name": "Python 3",
   "language": "python",
   "name": "python3"
  },
  "language_info": {
   "codemirror_mode": {
    "name": "ipython",
    "version": 3
   },
   "file_extension": ".py",
   "mimetype": "text/x-python",
   "name": "python",
   "nbconvert_exporter": "python",
   "pygments_lexer": "ipython3",
   "version": "3.8.3"
  }
 },
 "nbformat": 4,
 "nbformat_minor": 4
}
